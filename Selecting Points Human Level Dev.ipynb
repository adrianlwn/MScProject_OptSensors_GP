{
 "cells": [
  {
   "cell_type": "code",
   "execution_count": 1,
   "metadata": {},
   "outputs": [],
   "source": [
    "from utils.data_handling import *\n",
    "from utils.sensor_optimisation_gpy_sparse import *\n",
    "from parameters import *\n",
    "import GPy\n",
    "\n",
    "import sklearn.decomposition\n",
    "import scipy\n",
    "import matplotlib.pyplot as plt\n",
    "np.random.seed(101)\n",
    "%matplotlib inline\n",
    "\n",
    "from tqdm import tqdm"
   ]
  },
  {
   "cell_type": "code",
   "execution_count": 2,
   "metadata": {},
   "outputs": [
    {
     "data": {
      "text/plain": [
       "{'i_start': 0,\n",
       " 'i_end': 988,\n",
       " 'crop': None,\n",
       " 'field_name': 'Tracer',\n",
       " 'cov_method': 'sample'}"
      ]
     },
     "execution_count": 2,
     "metadata": {},
     "output_type": "execute_result"
    }
   ],
   "source": [
    "parameters['i_end'] = 988\n",
    "parameters['field_name'] = \"Tracer\"\n",
    "parameters"
   ]
  },
  {
   "cell_type": "code",
   "execution_count": 3,
   "metadata": {},
   "outputs": [
    {
     "name": "stderr",
     "output_type": "stream",
     "text": [
      "100%|██████████| 1/1 [00:00<00:00,  5.13it/s]"
     ]
    },
    {
     "name": "stdout",
     "output_type": "stream",
     "text": [
      "### Loading files from original VTU\n",
      "==> Import vtu files from 0 to 0\n"
     ]
    },
    {
     "name": "stderr",
     "output_type": "stream",
     "text": [
      "\n"
     ]
    },
    {
     "name": "stdout",
     "output_type": "stream",
     "text": [
      "Number of Locations after cropping :  100040\n",
      "==> Loading from : ../data/temp_data/cache_0_988_None/loc_Tracer.pkl\n",
      "==> Loading from : ../data/temp_data/cache_0_988_None/time_Tracer.pkl\n",
      "==> Loading from : ../data/temp_data/cache_0_988_None/data_Tracer.pkl\n"
     ]
    }
   ],
   "source": [
    "loaded = initial_load_data(parameters, recompute=False)\n",
    "ref_vtu, data_df, loc_df, time_df = loaded"
   ]
  },
  {
   "cell_type": "code",
   "execution_count": null,
   "metadata": {},
   "outputs": [],
   "source": [
    "def human_subset(loc_df, h):\n",
    "    \n",
    "    \n",
    "    human_selection = []\n",
    "    return human_selection"
   ]
  },
  {
   "cell_type": "code",
   "execution_count": 10,
   "metadata": {},
   "outputs": [],
   "source": [
    "main_df = loc_df.copy()"
   ]
  },
  {
   "cell_type": "code",
   "execution_count": 26,
   "metadata": {},
   "outputs": [
    {
     "data": {
      "text/plain": [
       "(43632,)"
      ]
     },
     "execution_count": 26,
     "metadata": {},
     "output_type": "execute_result"
    }
   ],
   "source": [
    "main_df.loc[:,'Xr'] = loc_df.loc[:,['X']].round(0)\n",
    "main_df.loc[:,'Yr'] = loc_df.loc[:,['Y']].round(0)\n",
    "min_surface = main_df.groupby(['Xr','Yr']).min().loc[:,'Z']"
   ]
  },
  {
   "cell_type": "code",
   "execution_count": 16,
   "metadata": {},
   "outputs": [],
   "source": []
  },
  {
   "cell_type": "code",
   "execution_count": 265,
   "metadata": {},
   "outputs": [],
   "source": [
    "def set_to_onehot(A,n):\n",
    "    \"\"\"Function that maps a list of points to a one hot encoding of selected points\"\"\"\n",
    "    A_list = np.zeros((n,1))\n",
    "    A_list[A] = 1\n",
    "    return A_list"
   ]
  },
  {
   "cell_type": "code",
   "execution_count": 271,
   "metadata": {},
   "outputs": [
    {
     "name": "stdout",
     "output_type": "stream",
     "text": [
      "==> Saved to : ../data/temp_data/LSBU_res_2019:07:08-17:41:27_WorkingSelection10-4.vtu\n"
     ]
    }
   ],
   "source": [
    "A_list = set_to_onehot(A,data_df.shape[0])\n",
    "save_vtu(ref_vtu[0],'WorkingSelection10-4.vtu',A_list)"
   ]
  },
  {
   "cell_type": "code",
   "execution_count": null,
   "metadata": {},
   "outputs": [],
   "source": []
  }
 ],
 "metadata": {
  "kernelspec": {
   "display_name": "Python [conda env:project] *",
   "language": "python",
   "name": "conda-env-project-py"
  },
  "language_info": {
   "codemirror_mode": {
    "name": "ipython",
    "version": 3
   },
   "file_extension": ".py",
   "mimetype": "text/x-python",
   "name": "python",
   "nbconvert_exporter": "python",
   "pygments_lexer": "ipython3",
   "version": "3.6.8"
  }
 },
 "nbformat": 4,
 "nbformat_minor": 2
}
