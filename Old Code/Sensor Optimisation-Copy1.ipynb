{
 "cells": [
  {
   "cell_type": "code",
   "execution_count": 1,
   "metadata": {},
   "outputs": [],
   "source": [
    "from utils import *\n",
    "import tqdm\n",
    "import heapq\n"
   ]
  },
  {
   "cell_type": "code",
   "execution_count": null,
   "metadata": {},
   "outputs": [],
   "source": []
  },
  {
   "cell_type": "code",
   "execution_count": null,
   "metadata": {},
   "outputs": [],
   "source": [
    "# Load the Data for given time interval [0 -> 988] \n",
    "i_start = 100\n",
    "i_end = 600\n",
    "mydict = load_data(i_start, i_end)\n",
    "print('Number of Locations : ' ,mydict[i_start].GetLocations().shape[0])\n"
   ]
  },
  {
   "cell_type": "code",
   "execution_count": 10,
   "metadata": {},
   "outputs": [
    {
     "name": "stdout",
     "output_type": "stream",
     "text": [
      "Number of Locations after croping :  28\n"
     ]
    }
   ],
   "source": [
    "# Crop the Space with given limits\n",
    "crop_data(mydict,\n",
    "          min_x=-2, max_x=2,\n",
    "          min_y=-2, max_y=2,\n",
    "          min_z=0,max_z=10\n",
    "         )\n",
    "print('Number of Locations after croping : ' ,mydict[i_start].GetLocations().shape[0])"
   ]
  },
  {
   "cell_type": "code",
   "execution_count": 11,
   "metadata": {},
   "outputs": [
    {
     "data": {
      "text/plain": [
       "(28, 501)"
      ]
     },
     "execution_count": 11,
     "metadata": {},
     "output_type": "execute_result"
    }
   ],
   "source": [
    "data_mat = to_matrix(mydict,'Pressure')\n",
    "data_mat.shape"
   ]
  },
  {
   "cell_type": "code",
   "execution_count": 12,
   "metadata": {},
   "outputs": [
    {
     "data": {
      "text/plain": [
       "(28, 28)"
      ]
     },
     "execution_count": 12,
     "metadata": {},
     "output_type": "execute_result"
    }
   ],
   "source": [
    "K = cov_matrix(data_mat)\n",
    "K.shape"
   ]
  },
  {
   "cell_type": "code",
   "execution_count": 13,
   "metadata": {},
   "outputs": [
    {
     "data": {
      "text/plain": [
       "array([3.86243208e-08, 1.79152736e-07, 3.01024151e-07, 4.49607050e-07,\n",
       "       6.43102435e-07, 8.58786295e-07, 1.31580535e-06, 1.62963519e-06,\n",
       "       2.49787317e-06, 3.44133577e-06, 5.16128794e-06, 8.21091507e-06,\n",
       "       1.63331442e-05, 1.82711250e-05, 2.67951997e-05, 4.98258845e-05,\n",
       "       8.14319118e-05, 9.79481274e-05, 1.87105812e-04, 3.72365816e-04,\n",
       "       4.30522537e-04, 1.67775793e-03, 1.81864181e-03, 4.66533194e-03,\n",
       "       3.88887465e-02, 1.03823197e-01, 7.10231573e-01, 2.76601063e+03])"
      ]
     },
     "execution_count": 13,
     "metadata": {},
     "output_type": "execute_result"
    }
   ],
   "source": [
    "np.linalg.eigvalsh(K)"
   ]
  },
  {
   "cell_type": "code",
   "execution_count": 14,
   "metadata": {},
   "outputs": [
    {
     "data": {
      "text/plain": [
       "array([[ 9.94011524e+00,  0.00000000e+00,  0.00000000e+00,\n",
       "         0.00000000e+00,  0.00000000e+00,  0.00000000e+00,\n",
       "         0.00000000e+00,  0.00000000e+00,  0.00000000e+00,\n",
       "         0.00000000e+00,  0.00000000e+00,  0.00000000e+00,\n",
       "         0.00000000e+00,  0.00000000e+00,  0.00000000e+00,\n",
       "         0.00000000e+00,  0.00000000e+00,  0.00000000e+00,\n",
       "         0.00000000e+00,  0.00000000e+00,  0.00000000e+00,\n",
       "         0.00000000e+00,  0.00000000e+00,  0.00000000e+00,\n",
       "         0.00000000e+00,  0.00000000e+00,  0.00000000e+00,\n",
       "         0.00000000e+00],\n",
       "       [ 9.96689364e+00,  1.13890032e-01,  0.00000000e+00,\n",
       "         0.00000000e+00,  0.00000000e+00,  0.00000000e+00,\n",
       "         0.00000000e+00,  0.00000000e+00,  0.00000000e+00,\n",
       "         0.00000000e+00,  0.00000000e+00,  0.00000000e+00,\n",
       "         0.00000000e+00,  0.00000000e+00,  0.00000000e+00,\n",
       "         0.00000000e+00,  0.00000000e+00,  0.00000000e+00,\n",
       "         0.00000000e+00,  0.00000000e+00,  0.00000000e+00,\n",
       "         0.00000000e+00,  0.00000000e+00,  0.00000000e+00,\n",
       "         0.00000000e+00,  0.00000000e+00,  0.00000000e+00,\n",
       "         0.00000000e+00],\n",
       "       [ 9.91784284e+00, -6.82864567e-02,  4.61611110e-02,\n",
       "         0.00000000e+00,  0.00000000e+00,  0.00000000e+00,\n",
       "         0.00000000e+00,  0.00000000e+00,  0.00000000e+00,\n",
       "         0.00000000e+00,  0.00000000e+00,  0.00000000e+00,\n",
       "         0.00000000e+00,  0.00000000e+00,  0.00000000e+00,\n",
       "         0.00000000e+00,  0.00000000e+00,  0.00000000e+00,\n",
       "         0.00000000e+00,  0.00000000e+00,  0.00000000e+00,\n",
       "         0.00000000e+00,  0.00000000e+00,  0.00000000e+00,\n",
       "         0.00000000e+00,  0.00000000e+00,  0.00000000e+00,\n",
       "         0.00000000e+00],\n",
       "       [ 9.95297583e+00,  4.57987983e-02,  2.16063560e-02,\n",
       "         3.23749583e-02,  0.00000000e+00,  0.00000000e+00,\n",
       "         0.00000000e+00,  0.00000000e+00,  0.00000000e+00,\n",
       "         0.00000000e+00,  0.00000000e+00,  0.00000000e+00,\n",
       "         0.00000000e+00,  0.00000000e+00,  0.00000000e+00,\n",
       "         0.00000000e+00,  0.00000000e+00,  0.00000000e+00,\n",
       "         0.00000000e+00,  0.00000000e+00,  0.00000000e+00,\n",
       "         0.00000000e+00,  0.00000000e+00,  0.00000000e+00,\n",
       "         0.00000000e+00,  0.00000000e+00,  0.00000000e+00,\n",
       "         0.00000000e+00],\n",
       "       [ 9.96631919e+00,  3.19642332e-01,  7.41970197e-02,\n",
       "        -3.70656915e-02,  1.03987986e-01,  0.00000000e+00,\n",
       "         0.00000000e+00,  0.00000000e+00,  0.00000000e+00,\n",
       "         0.00000000e+00,  0.00000000e+00,  0.00000000e+00,\n",
       "         0.00000000e+00,  0.00000000e+00,  0.00000000e+00,\n",
       "         0.00000000e+00,  0.00000000e+00,  0.00000000e+00,\n",
       "         0.00000000e+00,  0.00000000e+00,  0.00000000e+00,\n",
       "         0.00000000e+00,  0.00000000e+00,  0.00000000e+00,\n",
       "         0.00000000e+00,  0.00000000e+00,  0.00000000e+00,\n",
       "         0.00000000e+00],\n",
       "       [ 9.89782187e+00,  2.09019932e-02,  9.07118740e-02,\n",
       "        -1.91282763e-02,  7.79891186e-02,  3.70765454e-02,\n",
       "         0.00000000e+00,  0.00000000e+00,  0.00000000e+00,\n",
       "         0.00000000e+00,  0.00000000e+00,  0.00000000e+00,\n",
       "         0.00000000e+00,  0.00000000e+00,  0.00000000e+00,\n",
       "         0.00000000e+00,  0.00000000e+00,  0.00000000e+00,\n",
       "         0.00000000e+00,  0.00000000e+00,  0.00000000e+00,\n",
       "         0.00000000e+00,  0.00000000e+00,  0.00000000e+00,\n",
       "         0.00000000e+00,  0.00000000e+00,  0.00000000e+00,\n",
       "         0.00000000e+00],\n",
       "       [ 9.97645354e+00,  2.26738248e-01,  4.42215719e-02,\n",
       "        -2.05337569e-03,  4.05040911e-02,  4.25248054e-03,\n",
       "         1.72744733e-02,  0.00000000e+00,  0.00000000e+00,\n",
       "         0.00000000e+00,  0.00000000e+00,  0.00000000e+00,\n",
       "         0.00000000e+00,  0.00000000e+00,  0.00000000e+00,\n",
       "         0.00000000e+00,  0.00000000e+00,  0.00000000e+00,\n",
       "         0.00000000e+00,  0.00000000e+00,  0.00000000e+00,\n",
       "         0.00000000e+00,  0.00000000e+00,  0.00000000e+00,\n",
       "         0.00000000e+00,  0.00000000e+00,  0.00000000e+00,\n",
       "         0.00000000e+00],\n",
       "       [ 9.90849441e+00, -1.77049463e-03,  7.52823115e-02,\n",
       "         2.37593185e-03,  4.74510809e-02,  3.74600329e-02,\n",
       "         6.06550126e-03,  6.12059989e-03,  0.00000000e+00,\n",
       "         0.00000000e+00,  0.00000000e+00,  0.00000000e+00,\n",
       "         0.00000000e+00,  0.00000000e+00,  0.00000000e+00,\n",
       "         0.00000000e+00,  0.00000000e+00,  0.00000000e+00,\n",
       "         0.00000000e+00,  0.00000000e+00,  0.00000000e+00,\n",
       "         0.00000000e+00,  0.00000000e+00,  0.00000000e+00,\n",
       "         0.00000000e+00,  0.00000000e+00,  0.00000000e+00,\n",
       "         0.00000000e+00],\n",
       "       [ 9.94492948e+00,  3.84651707e-01,  1.10899156e-01,\n",
       "        -4.94932632e-02,  1.91730660e-01, -1.75947020e-05,\n",
       "        -3.24603941e-02, -1.50019384e-02,  1.53123748e-02,\n",
       "         0.00000000e+00,  0.00000000e+00,  0.00000000e+00,\n",
       "         0.00000000e+00,  0.00000000e+00,  0.00000000e+00,\n",
       "         0.00000000e+00,  0.00000000e+00,  0.00000000e+00,\n",
       "         0.00000000e+00,  0.00000000e+00,  0.00000000e+00,\n",
       "         0.00000000e+00,  0.00000000e+00,  0.00000000e+00,\n",
       "         0.00000000e+00,  0.00000000e+00,  0.00000000e+00,\n",
       "         0.00000000e+00],\n",
       "       [ 9.93406535e+00,  4.04567483e-02,  5.27552974e-02,\n",
       "         7.18213549e-03,  2.42846281e-02,  1.59464699e-02,\n",
       "         2.54145995e-03,  1.26501021e-03, -1.76072220e-03,\n",
       "         5.39782572e-03,  0.00000000e+00,  0.00000000e+00,\n",
       "         0.00000000e+00,  0.00000000e+00,  0.00000000e+00,\n",
       "         0.00000000e+00,  0.00000000e+00,  0.00000000e+00,\n",
       "         0.00000000e+00,  0.00000000e+00,  0.00000000e+00,\n",
       "         0.00000000e+00,  0.00000000e+00,  0.00000000e+00,\n",
       "         0.00000000e+00,  0.00000000e+00,  0.00000000e+00,\n",
       "         0.00000000e+00],\n",
       "       [ 9.91415121e+00,  2.09709831e-01,  1.03794225e-01,\n",
       "        -5.00551980e-03,  1.59218775e-01,  2.25113511e-02,\n",
       "        -2.23280391e-02,  9.62958470e-05,  9.40436429e-03,\n",
       "         8.46764489e-03,  2.01975945e-02,  0.00000000e+00,\n",
       "         0.00000000e+00,  0.00000000e+00,  0.00000000e+00,\n",
       "         0.00000000e+00,  0.00000000e+00,  0.00000000e+00,\n",
       "         0.00000000e+00,  0.00000000e+00,  0.00000000e+00,\n",
       "         0.00000000e+00,  0.00000000e+00,  0.00000000e+00,\n",
       "         0.00000000e+00,  0.00000000e+00,  0.00000000e+00,\n",
       "         0.00000000e+00],\n",
       "       [ 9.88790677e+00, -9.26089825e-02,  9.16864694e-02,\n",
       "        -7.88712174e-03,  2.85483599e-02,  2.93722545e-02,\n",
       "         4.51895140e-03,  1.37930129e-03,  4.65178253e-03,\n",
       "        -5.01161288e-03, -8.62508151e-04,  7.32637458e-03,\n",
       "         0.00000000e+00,  0.00000000e+00,  0.00000000e+00,\n",
       "         0.00000000e+00,  0.00000000e+00,  0.00000000e+00,\n",
       "         0.00000000e+00,  0.00000000e+00,  0.00000000e+00,\n",
       "         0.00000000e+00,  0.00000000e+00,  0.00000000e+00,\n",
       "         0.00000000e+00,  0.00000000e+00,  0.00000000e+00,\n",
       "         0.00000000e+00],\n",
       "       [ 9.91897839e+00,  2.52448456e-01,  1.09561480e-01,\n",
       "         9.71186825e-02,  2.24866731e-01,  2.78860731e-02,\n",
       "        -4.94865021e-02,  1.99994050e-02,  3.67560022e-02,\n",
       "         3.61516761e-02,  6.38328982e-02,  8.91863584e-03,\n",
       "         3.18880123e-02,  0.00000000e+00,  0.00000000e+00,\n",
       "         0.00000000e+00,  0.00000000e+00,  0.00000000e+00,\n",
       "         0.00000000e+00,  0.00000000e+00,  0.00000000e+00,\n",
       "         0.00000000e+00,  0.00000000e+00,  0.00000000e+00,\n",
       "         0.00000000e+00,  0.00000000e+00,  0.00000000e+00,\n",
       "         0.00000000e+00],\n",
       "       [ 9.91052069e+00,  1.95403289e-01,  1.15766848e-01,\n",
       "         4.46573545e-02,  1.81850911e-01,  2.56716772e-02,\n",
       "        -3.02814572e-02,  1.73613068e-02,  2.45603655e-02,\n",
       "         2.69602624e-02,  5.13928197e-02,  7.68405028e-03,\n",
       "         1.29484402e-02,  9.26678670e-03,  0.00000000e+00,\n",
       "         0.00000000e+00,  0.00000000e+00,  0.00000000e+00,\n",
       "         0.00000000e+00,  0.00000000e+00,  0.00000000e+00,\n",
       "         0.00000000e+00,  0.00000000e+00,  0.00000000e+00,\n",
       "         0.00000000e+00,  0.00000000e+00,  0.00000000e+00,\n",
       "         0.00000000e+00],\n",
       "       [ 9.95638659e+00,  3.54840462e-01,  9.19193642e-02,\n",
       "        -6.54048625e-03,  1.53307901e-01, -4.90097298e-03,\n",
       "        -1.64804846e-02,  6.98310048e-03,  1.84817564e-03,\n",
       "         9.13895279e-03,  2.07976813e-02,  1.26058328e-03,\n",
       "         5.21818268e-04,  6.29748183e-04,  8.75318510e-03,\n",
       "         0.00000000e+00,  0.00000000e+00,  0.00000000e+00,\n",
       "         0.00000000e+00,  0.00000000e+00,  0.00000000e+00,\n",
       "         0.00000000e+00,  0.00000000e+00,  0.00000000e+00,\n",
       "         0.00000000e+00,  0.00000000e+00,  0.00000000e+00,\n",
       "         0.00000000e+00],\n",
       "       [ 9.92946917e+00,  1.09685273e-01,  8.98440061e-02,\n",
       "         1.46330152e-01,  1.53137298e-01,  2.47344915e-02,\n",
       "        -1.55054373e-02,  4.30590818e-02,  3.34247048e-02,\n",
       "         4.20840302e-02,  8.81428836e-02,  1.68515100e-02,\n",
       "         3.62423436e-02,  2.01999637e-02,  1.14344582e-02,\n",
       "         2.76085248e-02,  0.00000000e+00,  0.00000000e+00,\n",
       "         0.00000000e+00,  0.00000000e+00,  0.00000000e+00,\n",
       "         0.00000000e+00,  0.00000000e+00,  0.00000000e+00,\n",
       "         0.00000000e+00,  0.00000000e+00,  0.00000000e+00,\n",
       "         0.00000000e+00],\n",
       "       [ 9.95268846e+00,  3.96924219e-01,  1.01054901e-01,\n",
       "        -2.57965067e-02,  1.80324557e-01, -7.46365087e-03,\n",
       "        -2.60925318e-02, -5.47139764e-03,  6.48728556e-03,\n",
       "         3.26371649e-03,  1.32043260e-02,  4.18215689e-03,\n",
       "         9.11092170e-04, -2.13758377e-03,  5.07180213e-03,\n",
       "         7.34636862e-04,  3.26077259e-03,  0.00000000e+00,\n",
       "         0.00000000e+00,  0.00000000e+00,  0.00000000e+00,\n",
       "         0.00000000e+00,  0.00000000e+00,  0.00000000e+00,\n",
       "         0.00000000e+00,  0.00000000e+00,  0.00000000e+00,\n",
       "         0.00000000e+00],\n",
       "       [ 9.94021664e+00,  4.75062624e-01,  1.21356175e-01,\n",
       "        -4.72077048e-03,  2.65234220e-01, -1.27072099e-03,\n",
       "        -5.97623014e-02, -1.93691366e-02,  2.34517175e-02,\n",
       "         5.85271073e-03,  1.60902566e-02,  3.31278027e-03,\n",
       "         8.60296736e-03, -1.19959131e-02,  4.42791102e-03,\n",
       "        -6.01155305e-03,  2.68378188e-03,  3.93778113e-03,\n",
       "         0.00000000e+00,  0.00000000e+00,  0.00000000e+00,\n",
       "         0.00000000e+00,  0.00000000e+00,  0.00000000e+00,\n",
       "         0.00000000e+00,  0.00000000e+00,  0.00000000e+00,\n",
       "         0.00000000e+00],\n",
       "       [ 9.90414984e+00, -5.15092456e-02,  8.17198123e-02,\n",
       "         2.65998368e-03,  2.69566830e-02,  1.37310706e-02,\n",
       "         5.92389469e-04, -6.53008441e-04,  5.46217693e-03,\n",
       "        -3.59006646e-04,  2.29507343e-03,  4.90359554e-03,\n",
       "        -9.50819686e-04, -5.78355090e-05, -2.42303870e-04,\n",
       "         7.68325322e-04, -8.71359452e-04, -6.08115409e-04,\n",
       "         2.85378240e-03,  0.00000000e+00,  0.00000000e+00,\n",
       "         0.00000000e+00,  0.00000000e+00,  0.00000000e+00,\n",
       "         0.00000000e+00,  0.00000000e+00,  0.00000000e+00,\n",
       "         0.00000000e+00],\n",
       "       [ 9.95129645e+00,  1.10573652e-01,  4.66783103e-02,\n",
       "         2.31384483e-02,  3.31386524e-02,  1.41436858e-02,\n",
       "         8.61951653e-03,  1.56631140e-03,  1.64414361e-03,\n",
       "         2.29164730e-03,  3.18549299e-03,  7.29591565e-04,\n",
       "        -1.03337645e-03, -2.69788384e-04,  9.52074778e-04,\n",
       "         1.11567194e-03,  3.50379671e-04,  3.57361771e-04,\n",
       "         5.31137104e-04,  1.86931191e-03,  0.00000000e+00,\n",
       "         0.00000000e+00,  0.00000000e+00,  0.00000000e+00,\n",
       "         0.00000000e+00,  0.00000000e+00,  0.00000000e+00,\n",
       "         0.00000000e+00],\n",
       "       [ 9.92014261e+00,  9.45762811e-03,  6.24374234e-02,\n",
       "         1.36053120e-02,  3.49194824e-02,  2.70939279e-02,\n",
       "         5.74992539e-03,  4.45551702e-03,  1.83798457e-03,\n",
       "         1.57097652e-03,  2.48533395e-03,  7.63244733e-04,\n",
       "         3.15783733e-04, -2.49995520e-04,  2.22599993e-04,\n",
       "         6.18895058e-04, -3.37489178e-04,  8.84135076e-04,\n",
       "         7.93854273e-05,  1.08958438e-03,  1.16396824e-03,\n",
       "         0.00000000e+00,  0.00000000e+00,  0.00000000e+00,\n",
       "         0.00000000e+00,  0.00000000e+00,  0.00000000e+00,\n",
       "         0.00000000e+00],\n",
       "       [ 9.94042272e+00,  1.21268974e-01,  5.89154985e-02,\n",
       "         5.03997771e-03,  5.54449071e-02,  2.36405839e-02,\n",
       "         7.25870105e-03,  6.78789151e-03, -2.34452265e-03,\n",
       "         2.54892854e-03,  1.10040857e-03, -3.36998233e-03,\n",
       "        -3.72999434e-04, -1.29692243e-03, -1.83199602e-04,\n",
       "        -1.36982520e-03, -6.50890135e-05, -1.60937385e-04,\n",
       "         7.58171497e-05, -3.35553816e-05,  3.78271625e-04,\n",
       "         1.74414499e-03,  0.00000000e+00,  0.00000000e+00,\n",
       "         0.00000000e+00,  0.00000000e+00,  0.00000000e+00,\n",
       "         0.00000000e+00],\n",
       "       [ 9.91773774e+00,  1.66841482e-01,  9.37905022e-02,\n",
       "         5.27731157e-03,  1.27917203e-01,  2.64373682e-02,\n",
       "        -1.39682611e-02,  8.38833207e-03,  5.66443288e-03,\n",
       "         1.05714399e-02,  1.90432849e-02, -1.45512409e-03,\n",
       "        -3.52022905e-06,  1.82954645e-03,  1.41000417e-04,\n",
       "        -1.95780628e-03, -1.59652531e-04, -3.35807703e-04,\n",
       "        -2.59676194e-04, -3.64908005e-04,  2.11976076e-04,\n",
       "         2.85542189e-04,  9.86767196e-04,  0.00000000e+00,\n",
       "         0.00000000e+00,  0.00000000e+00,  0.00000000e+00,\n",
       "         0.00000000e+00],\n",
       "       [ 9.96949104e+00,  1.47503048e-01,  2.83666203e-02,\n",
       "         2.81412720e-02,  1.99681082e-02,  8.75094326e-04,\n",
       "         7.61042121e-03, -1.44261075e-03, -3.66642542e-04,\n",
       "        -1.12107743e-03,  8.67993653e-04,  1.24504049e-04,\n",
       "        -3.46826380e-03,  2.57882658e-04,  1.51509454e-03,\n",
       "        -1.01174302e-03, -1.39389563e-04,  1.13522011e-03,\n",
       "        -1.38479087e-03,  1.67028560e-03, -2.49594342e-04,\n",
       "        -5.28917704e-04,  9.38591188e-05,  2.02583385e-03,\n",
       "         0.00000000e+00,  0.00000000e+00,  0.00000000e+00,\n",
       "         0.00000000e+00],\n",
       "       [ 9.93761789e+00,  6.00855072e-02,  5.33915406e-02,\n",
       "         1.95143137e-02,  2.81528194e-02,  1.41723942e-02,\n",
       "         4.81378389e-03,  1.50439145e-03,  1.26115578e-03,\n",
       "         2.28310438e-03,  2.72909543e-03,  2.22991828e-03,\n",
       "        -1.94106984e-03, -5.24596451e-04,  5.94172216e-04,\n",
       "         5.25397556e-04, -5.43972379e-05,  1.86945688e-04,\n",
       "         9.35226867e-04,  1.17255874e-03,  3.74412106e-04,\n",
       "         2.48900213e-04,  2.38600604e-04,  6.01826218e-04,\n",
       "         6.58693244e-04,  0.00000000e+00,  0.00000000e+00,\n",
       "         0.00000000e+00],\n",
       "       [ 9.97574121e+00,  1.81919774e-01,  2.59324711e-02,\n",
       "         2.80407355e-03,  1.79646009e-02,  1.52612747e-03,\n",
       "         1.05765833e-02, -1.29630561e-03, -6.00182774e-04,\n",
       "         4.71103448e-05, -7.31549576e-04, -1.34072507e-03,\n",
       "        -6.90343368e-04,  4.24816477e-04,  4.49299112e-04,\n",
       "        -1.36281234e-03, -1.31655716e-03,  1.07776142e-03,\n",
       "        -1.24084059e-03, -1.28119593e-05, -8.43882049e-05,\n",
       "        -1.02127224e-03,  3.06377048e-04,  1.45009604e-03,\n",
       "        -1.75886141e-04,  1.45750884e-03,  0.00000000e+00,\n",
       "         0.00000000e+00],\n",
       "       [ 9.94175931e+00,  8.03546262e-02,  5.14363665e-02,\n",
       "         1.91822956e-02,  3.16466460e-02,  1.39921245e-02,\n",
       "         6.42517060e-03,  1.76072700e-03,  1.27484599e-03,\n",
       "         2.17733462e-03,  3.65528103e-03,  2.48969247e-03,\n",
       "        -2.50790410e-03, -3.90548930e-04,  1.09338417e-03,\n",
       "         9.08656647e-04,  2.41017205e-04,  2.85540079e-04,\n",
       "         5.75137361e-04,  1.90570066e-03,  3.38068628e-04,\n",
       "         1.75155597e-04,  2.85005857e-04,  7.87081571e-04,\n",
       "         5.97008208e-04, -2.42116159e-04,  2.88896290e-04,\n",
       "         0.00000000e+00],\n",
       "       [ 9.97514096e+00,  1.85550298e-01,  2.99561641e-02,\n",
       "         2.22153735e-02,  2.61170603e-02, -2.63176935e-03,\n",
       "         1.00384394e-02, -1.01494121e-03, -1.43017394e-03,\n",
       "        -2.95213671e-03,  3.73768502e-04,  2.68220159e-04,\n",
       "        -7.85927261e-03,  6.35417581e-04,  1.91762580e-03,\n",
       "        -2.70045236e-03, -2.94386182e-04,  5.83240510e-04,\n",
       "        -3.24408757e-03,  2.25693091e-03, -2.94563593e-04,\n",
       "        -1.07363882e-04,  3.09041165e-04,  3.33597745e-03,\n",
       "         9.32731908e-04, -3.90910857e-04, -2.28471164e-05,\n",
       "         1.41988845e-03]])"
      ]
     },
     "execution_count": 14,
     "metadata": {},
     "output_type": "execute_result"
    }
   ],
   "source": [
    "np.linalg.cholesky(K)"
   ]
  },
  {
   "cell_type": "code",
   "execution_count": 15,
   "metadata": {},
   "outputs": [
    {
     "data": {
      "text/plain": [
       "(28,)"
      ]
     },
     "execution_count": 15,
     "metadata": {},
     "output_type": "execute_result"
    }
   ],
   "source": [
    "M = mean_matrix(data_mat)\n",
    "M.shape"
   ]
  },
  {
   "cell_type": "markdown",
   "metadata": {},
   "source": [
    "Gaussian Processes definition : "
   ]
  },
  {
   "cell_type": "markdown",
   "metadata": {},
   "source": [
    "We define different sets for all the locations : \n",
    "- A : set of sensors selected \n",
    "- S : set of potential sensors\n",
    "- U : set where there is no sensor\n",
    "- V = S $\\cup$ U : set of all positions. \n",
    "\n",
    "We want the mutual information to be as high as possible on the set "
   ]
  },
  {
   "cell_type": "code",
   "execution_count": 17,
   "metadata": {},
   "outputs": [],
   "source": [
    "n_V = mydict[100].GetLocations().shape[0]\n",
    "V = np.array(range(n_V))\n",
    "\n",
    "n_S = n_V\n",
    "np.random.seed(42)\n",
    "S = np.random.choice(V, n_S, replace=False,)\n",
    "\n",
    "n_U = n_V - n_S\n",
    "U = np.setdiff1d(V, S, assume_unique=True)\n"
   ]
  },
  {
   "cell_type": "code",
   "execution_count": 18,
   "metadata": {},
   "outputs": [],
   "source": [
    "def approx_max_info(k):\n",
    "    \"\"\" This function implements the Algorithm 1: Approximation algorithm \n",
    "    for maximizing mutual information.\n",
    "    \n",
    "    Input Arguments : \n",
    "    --- k : number of Sensors to place\n",
    "    \n",
    "    Needed global variables : \n",
    "    --- K : Covariance Matrix between all points\n",
    "    --- V : Set of all points\n",
    "    --- S : Set of potential sensor points\n",
    "    --- n_S : number of such points\n",
    "    \n",
    "    \"\"\"\n",
    "    \n",
    "    n_A = 0\n",
    "    A = np.array([])\n",
    "    \n",
    "    # Main Loop of the Algorithm : Iterating over the number of sensors to place\n",
    "    \n",
    "    for j in tqdm.tqdm_notebook(range(k)):\n",
    "        \n",
    "        S_A = np.setdiff1d(S,A).astype(int)\n",
    "        delta_y = np.zeros((n_S - j))\n",
    "        ## Inner Loop : Iterating over the potential sensor places\n",
    "        for i,y in enumerate(S_A):\n",
    "\n",
    "            A_ = np.setdiff1d(V,np.append(A,[y]))\n",
    "            # Mutual Information Gain\n",
    "\n",
    "            delta_y[i] = H_cond(y, A) / H_cond(y, A_)\n",
    "        \n",
    "        # Greedily selection the best point to add to A\n",
    "        y_opt = S_A[np.argmax(delta_y)]\n",
    "        print((delta_y >0).sum()/len(delta_y))\n",
    "        # Add the selected point to A\n",
    "        n_A += 1\n",
    "        A = np.append(A,y_opt).astype(int)\n",
    "        \n",
    "    return A\n",
    "\n",
    "def approx_lazy_max_info(k):\n",
    "    \"\"\" This function implements the Algorithm 2: Approximation algorithm for \n",
    "    maximizing mutual information efficiently using lazy evaluation.\n",
    "    \n",
    "    Input Arguments : \n",
    "    --- k : number of Sensors to place\n",
    "    \n",
    "    Needed global variables : \n",
    "    --- K : Covariance Matrix between all points\n",
    "    --- V : Set of all points\n",
    "    --- S : Set of potential sensor points\n",
    "    --- n_S : number of such points\n",
    "    \n",
    "    \"\"\"\n",
    "\n",
    "    # INIT : \n",
    "    n_A = 0\n",
    "    A = np.array([])\n",
    "    \n",
    "    delta_y = -1*np.inf*np.ones((n_S,1))\n",
    "    counter_y = -1*np.ones((n_S,1))\n",
    "    \n",
    "    # Each Node of the Heap contains a tupple : (-delta_y, index of point, count_y)\n",
    "    delta_heap = list(zip(delta_y, S, counter_y))\n",
    "    heapq.heapify(delta_heap)\n",
    "    \n",
    "    # MAIN LOOP of the Algorithm : Iterating over the number of sensors to place\n",
    "    for j in tqdm.tqdm_notebook(range(k)):\n",
    "                \n",
    "        ## INNER LOOP : Iterating over the potential sensor places\n",
    "        while True : \n",
    "            delta, y_opt, count = heapq.heappop(delta_heap)\n",
    "            if count == j :\n",
    "                break\n",
    "            else : \n",
    "                A_ = np.setdiff1d(V,np.append(A,[y_opt]))\n",
    "                # Mutual Information Gain\n",
    "                delta_y_opt = H_cond(y_opt, A) / H_cond(y_opt, A_)\n",
    "                heapq.heappush(delta_heap, (-1*delta_y_opt , y_opt ,j) )\n",
    "        \n",
    "        # Add the selected point to A\n",
    "        n_A += 1\n",
    "        A = np.append(A, y_opt).astype(int)       \n",
    "    return A\n",
    "\n",
    "def approx_local_max_info(k, epsilon):\n",
    "    \"\"\" This function implements the Algorithm 3: Approximation algorithm for \n",
    "    maximizing mutual information efficiently using local kernels.\n",
    "    \n",
    "    Input Arguments : \n",
    "    --- k : number of Sensors to place\n",
    "    --- epsilon : threshold for local kernel\n",
    "    \n",
    "    Needed global variables : \n",
    "    --- K : Covariance Matrix between all points\n",
    "    --- V : Set of all points\n",
    "    --- S : Set of potential sensor points\n",
    "    --- n_S : number of such points\n",
    "    \n",
    "    \"\"\"\n",
    "\n",
    "    # INIT : \n",
    "    n_A = 0\n",
    "    A = np.array([])\n",
    "    \n",
    "    delta_y = -1*np.inf*np.ones((n_S,1))\n",
    "    \n",
    "    for i,y in enumerate(S):\n",
    "        delta_y[i] = -1*delta_MI(y,A)\n",
    "    \n",
    "    counter_y = -1*np.ones((n_S,1))\n",
    "    \n",
    "    # Each Node of the Heap contains a tupple : (-delta_y, index of point, count_y)\n",
    "    delta_heap = list(zip(delta_y, S, counter_y))\n",
    "    heapq.heapify(delta_heap)\n",
    "    \n",
    "    # MAIN LOOP of the Algorithm : Iterating over the number of sensors to place\n",
    "    for j in tqdm.tqdm_notebook(range(k)):\n",
    "        \n",
    "        delta, y_opt, count = heapq.heappop(delta_heap)\n",
    "        \n",
    "        # Add the selected point to A\n",
    "        n_A += 1\n",
    "        A = np.append(A, y_opt).astype(int)\n",
    "        A_ = np.setdiff1d(V,np.append(A,[y]))\n",
    "        \n",
    "        loc_A = local_set(y, A, epsilon) \n",
    "        loc_A_ = local_set(y, A_, epsilon) \n",
    "        \n",
    "        ## INNER LOOP : Iterating over the potential sensor places\n",
    "        for i in A: \n",
    "\n",
    "            # Mutual Information Gain\n",
    "            delta_y = H_cond(y, loc_A) / H_cond(y, loc_A_)\n",
    "\n",
    "            heapq.heappush(delta_heap,(-1*delta_y ,y ,j))\n",
    "       \n",
    "    return A\n",
    "        \n",
    "\n",
    "def delta_MI(y,A):\n",
    "    \"\"\" Function that computes the Mutual Entropy Difference \"\"\"\n",
    "    A_ = np.setdiff1d(V,np.append(A,[y]))\n",
    "    \n",
    "    return H_cond(y, A) / H_cond(y, A_)\n",
    "    \n",
    "def H_cond(y,X):\n",
    "        \"\"\" Function that returns the conditional Entropy of y knowing X \"\"\"        \n",
    "        return K[y,y] - K[np.ix_([y],X)] @ np.linalg.inv(K[np.ix_(X,X)]) @ K[np.ix_(X,[y])] \n",
    "        #return K[y,y] - K[np.ix_([y],X)] @ np.linalg.solve(K[np.ix_(X,X)], K[np.ix_(X,[y])])\n",
    "\n",
    "def local_set(y, X, epsilon):\n",
    "    \"\"\" Function that returns a set of points X_trunc for which K[y,X_trunc] > epsilon\n",
    "        X being the input set\n",
    "        Implementing the idea of local Kernels.\n",
    "        \n",
    "    \"\"\"\n",
    "    i_trunc = (np.abs( K[np.ix_([y],X)] ) > epsilon).flatten()\n",
    "    X_trunc = X[i_trunc]    \n",
    "    \n",
    "    return X_trunc\n"
   ]
  },
  {
   "cell_type": "code",
   "execution_count": null,
   "metadata": {},
   "outputs": [],
   "source": []
  },
  {
   "cell_type": "code",
   "execution_count": 21,
   "metadata": {
    "scrolled": true
   },
   "outputs": [
    {
     "data": {
      "application/vnd.jupyter.widget-view+json": {
       "model_id": "5dbeadd19a07413ebfed2324cce6f14c",
       "version_major": 2,
       "version_minor": 0
      },
      "text/plain": [
       "HBox(children=(IntProgress(value=0, max=5), HTML(value='')))"
      ]
     },
     "metadata": {},
     "output_type": "display_data"
    },
    {
     "name": "stdout",
     "output_type": "stream",
     "text": [
      "0.44\n",
      "0.4271356783919598\n",
      "0.5151515151515151\n",
      "0.4619289340101523\n",
      "0.49489795918367346\n",
      "\n"
     ]
    }
   ],
   "source": [
    "A_naive = approx_max_info(5)"
   ]
  },
  {
   "cell_type": "code",
   "execution_count": 22,
   "metadata": {
    "scrolled": true
   },
   "outputs": [
    {
     "data": {
      "application/vnd.jupyter.widget-view+json": {
       "model_id": "443cb9286d5240b8bbe53261831acb18",
       "version_major": 2,
       "version_minor": 0
      },
      "text/plain": [
       "HBox(children=(IntProgress(value=0, max=5), HTML(value='')))"
      ]
     },
     "metadata": {},
     "output_type": "display_data"
    },
    {
     "name": "stdout",
     "output_type": "stream",
     "text": [
      "\n"
     ]
    }
   ],
   "source": [
    "A_lazy =  approx_lazy_max_info(5)"
   ]
  },
  {
   "cell_type": "code",
   "execution_count": 7,
   "metadata": {},
   "outputs": [],
   "source": [
    "def cleanVTKfields(resultsVTK):\n",
    "    for f_name in resultsVTK.GetFieldNames():\n",
    "        resultsVTK.RemoveField(f_name)\n",
    "\n",
    "# Creating Results VTK \n",
    "resultsVTK = mydict[100]\n",
    "cleanVTKfields(resultsVTK)"
   ]
  },
  {
   "cell_type": "code",
   "execution_count": null,
   "metadata": {},
   "outputs": [],
   "source": []
  }
 ],
 "metadata": {
  "kernelspec": {
   "display_name": "Python [conda env:project] *",
   "language": "python",
   "name": "conda-env-project-py"
  },
  "language_info": {
   "codemirror_mode": {
    "name": "ipython",
    "version": 3
   },
   "file_extension": ".py",
   "mimetype": "text/x-python",
   "name": "python",
   "nbconvert_exporter": "python",
   "pygments_lexer": "ipython3",
   "version": "3.6.8"
  }
 },
 "nbformat": 4,
 "nbformat_minor": 2
}
