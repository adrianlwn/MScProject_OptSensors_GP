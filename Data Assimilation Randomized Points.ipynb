{
 "cells": [
  {
   "cell_type": "code",
   "execution_count": 1,
   "metadata": {},
   "outputs": [],
   "source": [
    "%load_ext autoreload"
   ]
  },
  {
   "cell_type": "code",
   "execution_count": 2,
   "metadata": {},
   "outputs": [],
   "source": [
    "%autoreload 2"
   ]
  },
  {
   "cell_type": "code",
   "execution_count": 73,
   "metadata": {},
   "outputs": [],
   "source": [
    "from utils.data_handling import *\n",
    "from utils.sensor_optimisation import *\n",
    "from parameters import *\n",
    "import GPy\n",
    "import scipy.stats\n",
    "from sklearn.covariance import *\n",
    "from utils.data_assimilation import *\n",
    "import time\n",
    "\n",
    "\n",
    "\n",
    "import matplotlib.pyplot as plt\n",
    "np.random.seed(101)\n",
    "\n"
   ]
  },
  {
   "cell_type": "markdown",
   "metadata": {},
   "source": [
    "### Importing the Tracer Data to Select the Optimisation set S"
   ]
  },
  {
   "cell_type": "code",
   "execution_count": 4,
   "metadata": {},
   "outputs": [
    {
     "data": {
      "text/plain": [
       "{'i_start': 0, 'i_end': 988, 'crop': None, 'field_name': 'Tracer'}"
      ]
     },
     "execution_count": 4,
     "metadata": {},
     "output_type": "execute_result"
    }
   ],
   "source": [
    "parameters['field_name'] = \"Tracer\"\n",
    "parameters\n"
   ]
  },
  {
   "cell_type": "code",
   "execution_count": 5,
   "metadata": {
    "scrolled": false
   },
   "outputs": [
    {
     "name": "stderr",
     "output_type": "stream",
     "text": [
      "100%|██████████| 1/1 [00:00<00:00,  6.24it/s]"
     ]
    },
    {
     "name": "stdout",
     "output_type": "stream",
     "text": [
      "### Loading files from original VTU\n",
      "==> Import vtu files from 0 to 0\n"
     ]
    },
    {
     "name": "stderr",
     "output_type": "stream",
     "text": [
      "\n"
     ]
    },
    {
     "name": "stdout",
     "output_type": "stream",
     "text": [
      "Number of Locations after cropping :  100040\n",
      "==> Loading from : ../data/temp_data/cache_0_988_None/loc_Tracer.pkl\n",
      "==> Loading from : ../data/temp_data/cache_0_988_None/time_Tracer.pkl\n",
      "==> Loading from : ../data/temp_data/cache_0_988_None/data_Tracer.pkl\n"
     ]
    }
   ],
   "source": [
    "loaded = initial_load_data(parameters, recompute=False)\n",
    "ref_vtu, data_df, loc_df, time_df = loaded"
   ]
  },
  {
   "cell_type": "markdown",
   "metadata": {},
   "source": [
    "### Working subset of the data : set S"
   ]
  },
  {
   "cell_type": "code",
   "execution_count": 6,
   "metadata": {},
   "outputs": [
    {
     "name": "stdout",
     "output_type": "stream",
     "text": [
      "The remaining number of points is :  37847\n"
     ]
    }
   ],
   "source": [
    "S_human = human_level_subset(buildingshape, loc_df, 2,1 )\n",
    "print(\"The remaining number of points is : \", str(len(S_human)))"
   ]
  },
  {
   "cell_type": "code",
   "execution_count": 7,
   "metadata": {},
   "outputs": [
    {
     "name": "stdout",
     "output_type": "stream",
     "text": [
      "The remaining number of points is :  57725\n"
     ]
    }
   ],
   "source": [
    "S_working = working_subset(data_df, loc_df, nbins = (25,25,25), threshold_sum = 10**-2 )\n",
    "print(\"The remaining number of points is : \", str(len(S_working)))"
   ]
  },
  {
   "cell_type": "code",
   "execution_count": 8,
   "metadata": {},
   "outputs": [
    {
     "name": "stdout",
     "output_type": "stream",
     "text": [
      "The remaining number of points is :  23643\n"
     ]
    }
   ],
   "source": [
    "S = np.intersect1d(S_human,S_working)\n",
    "print(\"The remaining number of points is : \", str(len(S)))"
   ]
  },
  {
   "cell_type": "code",
   "execution_count": 9,
   "metadata": {},
   "outputs": [],
   "source": [
    "#A_list = set_to_onehot(S,data_df.shape[0])\n",
    "#save_vtu(ref_vtu[0],'FinalSelection',A_list)"
   ]
  },
  {
   "cell_type": "markdown",
   "metadata": {},
   "source": [
    "### Import the Field of interest for computing the optimisation : TracerBackground / Pressure"
   ]
  },
  {
   "cell_type": "code",
   "execution_count": 10,
   "metadata": {},
   "outputs": [
    {
     "data": {
      "text/plain": [
       "{'i_start': 0, 'i_end': 988, 'crop': None, 'field_name': 'Tracer'}"
      ]
     },
     "execution_count": 10,
     "metadata": {},
     "output_type": "execute_result"
    }
   ],
   "source": [
    "parameters['i_end'] = 988\n",
    "parameters['field_name'] = \"Tracer\"\n",
    "parameters\n"
   ]
  },
  {
   "cell_type": "code",
   "execution_count": 11,
   "metadata": {},
   "outputs": [
    {
     "name": "stderr",
     "output_type": "stream",
     "text": [
      "100%|██████████| 1/1 [00:00<00:00,  6.39it/s]"
     ]
    },
    {
     "name": "stdout",
     "output_type": "stream",
     "text": [
      "### Loading files from original VTU\n",
      "==> Import vtu files from 0 to 0\n"
     ]
    },
    {
     "name": "stderr",
     "output_type": "stream",
     "text": [
      "\n"
     ]
    },
    {
     "name": "stdout",
     "output_type": "stream",
     "text": [
      "Number of Locations after cropping :  100040\n",
      "==> Loading from : ../data/temp_data/cache_0_988_None/loc_Tracer.pkl\n",
      "==> Loading from : ../data/temp_data/cache_0_988_None/time_Tracer.pkl\n",
      "==> Loading from : ../data/temp_data/cache_0_988_None/data_Tracer.pkl\n"
     ]
    }
   ],
   "source": [
    "loaded = initial_load_data(parameters, recompute=False)\n",
    "ref_vtu, data_df, loc_df, time_df = loaded"
   ]
  },
  {
   "cell_type": "code",
   "execution_count": 12,
   "metadata": {},
   "outputs": [
    {
     "data": {
      "text/plain": [
       "(100040, 989)"
      ]
     },
     "execution_count": 12,
     "metadata": {},
     "output_type": "execute_result"
    }
   ],
   "source": [
    "X = loc_df.values[:,:] #[I,:dim]\n",
    "Z = data_df.values[:,:] #[:,t].reshape(-1,1) # [I,t].reshape(-1,1)\n",
    "Z.shape"
   ]
  },
  {
   "cell_type": "markdown",
   "metadata": {},
   "source": [
    "## Data Assimilation "
   ]
  },
  {
   "cell_type": "code",
   "execution_count": 145,
   "metadata": {
    "scrolled": true
   },
   "outputs": [
    {
     "name": "stdout",
     "output_type": "stream",
     "text": [
      "[38726 14276 91348  5338 40994 29626 65851 65734   851  2293]\n",
      "L2 norm of the background error 1.1354456364425276\n",
      "L2 norm of the error in DA solution 9.894538200895631e-17\n"
     ]
    },
    {
     "data": {
      "text/plain": [
       "1.1354456364425276"
      ]
     },
     "execution_count": 145,
     "metadata": {},
     "output_type": "execute_result"
    }
   ],
   "source": [
    "#indLoc = np.loadtxt('Optimal Points/localpoints_optimal_eps10-6.txt').astype(int)\n",
    "indLoc = np.loadtxt('Optimal Points/localpoints_TSVD25').astype(int)\n",
    "#indLoc = [0, 1, 2, 3, 4, 5, 6, 7, 8, 9]\n",
    "MSExb, MSExDA = data_assimilation(indLoc,Z)\n",
    "MSExb - MSExDA"
   ]
  },
  {
   "cell_type": "code",
   "execution_count": 146,
   "metadata": {},
   "outputs": [
    {
     "name": "stdout",
     "output_type": "stream",
     "text": [
      "0 38726\n",
      "1 14276\n",
      "2 91348\n",
      "3 5338\n",
      "4 40994\n",
      "5 29626\n",
      "6 65851\n",
      "7 65734\n",
      "8 851\n",
      "9 2293\n",
      "[2739, 34696, 67279, 44651, 58253, 8646, 26554, 35272, 6291, 30862]\n",
      "L2 norm of the background error 0.44854066258726055\n",
      "L2 norm of the error in DA solution 2.0498694302890195e-17\n"
     ]
    },
    {
     "data": {
      "text/plain": [
       "61.178593158721924"
      ]
     },
     "execution_count": 146,
     "metadata": {},
     "output_type": "execute_result"
    }
   ],
   "source": [
    "s = time.time()\n",
    "A_ball = ball_set(indLoc, loc_df,radius=10)\n",
    "indLoc_rand = randomise_set(A_ball)   \n",
    "data_assimilation(indLoc_rand,Z) \n",
    "t = time.time() - s\n",
    "t"
   ]
  },
  {
   "cell_type": "code",
   "execution_count": 147,
   "metadata": {},
   "outputs": [
    {
     "name": "stderr",
     "output_type": "stream",
     "text": [
      "\n",
      "  0%|          | 0/1000 [00:00<?, ?it/s]\u001b[A"
     ]
    },
    {
     "name": "stdout",
     "output_type": "stream",
     "text": [
      "[9408, 16710, 59678, 44651, 10048, 15190, 85094, 51272, 6290, 19637]\n"
     ]
    },
    {
     "name": "stderr",
     "output_type": "stream",
     "text": [
      "\n",
      "  0%|          | 1/1000 [00:00<08:25,  1.98it/s]\u001b[A"
     ]
    },
    {
     "name": "stdout",
     "output_type": "stream",
     "text": [
      "L2 norm of the background error 0.6944705768189489\n",
      "L2 norm of the error in DA solution 1.8167613694079742e-17\n",
      "[2739, 62362, 14791, 47616, 10048, 76271, 9487, 95412, 2813, 6862]\n"
     ]
    },
    {
     "name": "stderr",
     "output_type": "stream",
     "text": [
      "\n",
      "  0%|          | 2/1000 [00:01<08:33,  1.94it/s]\u001b[A"
     ]
    },
    {
     "name": "stdout",
     "output_type": "stream",
     "text": [
      "L2 norm of the background error 0.7714496350183351\n",
      "L2 norm of the error in DA solution 6.851930521764351e-17\n",
      "[22323, 66913, 15383, 47616, 74980, 30408, 52986, 15471, 21037, 58677]\n"
     ]
    },
    {
     "name": "stderr",
     "output_type": "stream",
     "text": [
      "\n",
      "  0%|          | 3/1000 [00:01<08:24,  1.98it/s]\u001b[A"
     ]
    },
    {
     "name": "stdout",
     "output_type": "stream",
     "text": [
      "L2 norm of the background error 1.0747388164815466\n",
      "L2 norm of the error in DA solution 1.0162665016313033e-16\n",
      "[77636, 46696, 38074, 47616, 8951, 74488, 69091, 51634, 11724, 1084]\n"
     ]
    },
    {
     "name": "stderr",
     "output_type": "stream",
     "text": [
      "\n",
      "  0%|          | 4/1000 [00:02<08:15,  2.01it/s]\u001b[A"
     ]
    },
    {
     "name": "stdout",
     "output_type": "stream",
     "text": [
      "L2 norm of the background error 0.5488578918146964\n",
      "L2 norm of the error in DA solution 6.535126243533498e-17\n",
      "[20945, 65675, 92838, 44651, 10389, 27543, 32421, 19571, 1306, 55811]\n"
     ]
    },
    {
     "name": "stderr",
     "output_type": "stream",
     "text": [
      "\n",
      "  0%|          | 5/1000 [00:02<08:05,  2.05it/s]\u001b[A"
     ]
    },
    {
     "name": "stdout",
     "output_type": "stream",
     "text": [
      "L2 norm of the background error 0.7313986957404248\n",
      "L2 norm of the error in DA solution 4.7997726741904386e-17\n",
      "[23251, 154, 56779, 47616, 8676, 74488, 53242, 43747, 852, 2860]\n"
     ]
    },
    {
     "name": "stderr",
     "output_type": "stream",
     "text": [
      "\n",
      "  1%|          | 6/1000 [00:02<07:58,  2.08it/s]\u001b[A"
     ]
    },
    {
     "name": "stdout",
     "output_type": "stream",
     "text": [
      "L2 norm of the background error 0.9790405307619225\n",
      "L2 norm of the error in DA solution 8.506585404830605e-17\n",
      "[42811, 8374, 57352, 47616, 45495, 74458, 11432, 71200, 29025, 12322]\n"
     ]
    },
    {
     "name": "stderr",
     "output_type": "stream",
     "text": [
      "\n",
      "  1%|          | 7/1000 [00:03<07:56,  2.09it/s]\u001b[A"
     ]
    },
    {
     "name": "stdout",
     "output_type": "stream",
     "text": [
      "L2 norm of the background error 0.8114942123889723\n",
      "L2 norm of the error in DA solution 5.12819918000662e-17\n",
      "[70493, 74956, 45390, 47616, 74980, 33202, 43853, 66199, 18289, 18918]\n"
     ]
    },
    {
     "name": "stderr",
     "output_type": "stream",
     "text": [
      "\n",
      "  1%|          | 8/1000 [00:03<07:58,  2.07it/s]\u001b[A"
     ]
    },
    {
     "name": "stdout",
     "output_type": "stream",
     "text": [
      "L2 norm of the background error 0.7748431930534311\n",
      "L2 norm of the error in DA solution 7.950104885278365e-17\n",
      "[31008, 32075, 89662, 44651, 76464, 9113, 66617, 70096, 2238, 35086]\n"
     ]
    },
    {
     "name": "stderr",
     "output_type": "stream",
     "text": [
      "\n",
      "  1%|          | 9/1000 [00:04<07:52,  2.10it/s]\u001b[A"
     ]
    },
    {
     "name": "stdout",
     "output_type": "stream",
     "text": [
      "L2 norm of the background error 0.6470346190935531\n",
      "L2 norm of the error in DA solution 1.0766930628545838e-16\n",
      "[43145, 21202, 19756, 44651, 22974, 52110, 80036, 55019, 37225, 23362]\n"
     ]
    },
    {
     "name": "stderr",
     "output_type": "stream",
     "text": [
      "\n",
      "  1%|          | 10/1000 [00:04<07:47,  2.12it/s]\u001b[A"
     ]
    },
    {
     "name": "stdout",
     "output_type": "stream",
     "text": [
      "L2 norm of the background error 0.6116176835880699\n",
      "L2 norm of the error in DA solution 5.043340741452582e-17\n",
      "[45012, 9528, 37482, 47616, 48009, 25842, 42066, 58187, 1729, 14225]\n"
     ]
    },
    {
     "name": "stderr",
     "output_type": "stream",
     "text": [
      "\n",
      "  1%|          | 11/1000 [00:05<07:51,  2.10it/s]\u001b[A"
     ]
    },
    {
     "name": "stdout",
     "output_type": "stream",
     "text": [
      "L2 norm of the background error 0.6427513739451742\n",
      "L2 norm of the error in DA solution 9.713472588479586e-17\n",
      "[92829, 78646, 54572, 44651, 22974, 44137, 85569, 11699, 28245, 18765]\n"
     ]
    },
    {
     "name": "stderr",
     "output_type": "stream",
     "text": [
      "\n",
      "  1%|          | 12/1000 [00:05<07:47,  2.11it/s]\u001b[A"
     ]
    },
    {
     "name": "stdout",
     "output_type": "stream",
     "text": [
      "L2 norm of the background error 0.7932974745229433\n",
      "L2 norm of the error in DA solution 5.571673862576718e-17\n",
      "[17882, 16666, 59238, 47616, 48502, 38295, 35126, 48383, 12457, 58633]\n"
     ]
    },
    {
     "name": "stderr",
     "output_type": "stream",
     "text": [
      "\n",
      "  1%|▏         | 13/1000 [00:06<07:45,  2.12it/s]\u001b[A"
     ]
    },
    {
     "name": "stdout",
     "output_type": "stream",
     "text": [
      "L2 norm of the background error 0.44092112499402353\n",
      "L2 norm of the error in DA solution 2.995680380647234e-17\n",
      "[37192, 93100, 89418, 47616, 18750, 13087, 59696, 14455, 3071, 3076]\n"
     ]
    },
    {
     "name": "stderr",
     "output_type": "stream",
     "text": [
      "\n",
      "  1%|▏         | 14/1000 [00:06<07:45,  2.12it/s]\u001b[A"
     ]
    },
    {
     "name": "stdout",
     "output_type": "stream",
     "text": [
      "L2 norm of the background error 0.5829904418706818\n",
      "L2 norm of the error in DA solution 4.34058908906738e-17\n",
      "[71878, 78261, 90408, 44651, 6436, 55488, 51578, 47091, 25980, 28826]\n"
     ]
    },
    {
     "name": "stderr",
     "output_type": "stream",
     "text": [
      "\n",
      "  2%|▏         | 15/1000 [00:07<07:42,  2.13it/s]\u001b[A"
     ]
    },
    {
     "name": "stdout",
     "output_type": "stream",
     "text": [
      "L2 norm of the background error 0.6289287000925778\n",
      "L2 norm of the error in DA solution 9.293526507183714e-17\n",
      "[28446, 63236, 38884, 47616, 82371, 65542, 26307, 57722, 6303, 4266]\n"
     ]
    },
    {
     "name": "stderr",
     "output_type": "stream",
     "text": [
      "\n",
      "  2%|▏         | 16/1000 [00:07<07:39,  2.14it/s]\u001b[A"
     ]
    },
    {
     "name": "stdout",
     "output_type": "stream",
     "text": [
      "L2 norm of the background error 0.5287897607735218\n",
      "L2 norm of the error in DA solution 7.720918553827854e-17\n",
      "[68114, 76234, 42993, 47616, 45495, 53180, 68841, 56128, 25461, 58677]\n"
     ]
    },
    {
     "name": "stderr",
     "output_type": "stream",
     "text": [
      "\n",
      "  2%|▏         | 17/1000 [00:08<07:44,  2.12it/s]\u001b[A"
     ]
    },
    {
     "name": "stdout",
     "output_type": "stream",
     "text": [
      "L2 norm of the background error 0.9884769850344006\n",
      "L2 norm of the error in DA solution 4.3660541618914616e-17\n",
      "[20945, 32564, 6069, 44651, 82371, 15030, 37779, 26239, 1992, 39244]\n"
     ]
    },
    {
     "name": "stderr",
     "output_type": "stream",
     "text": [
      "\n",
      "  2%|▏         | 18/1000 [00:08<07:49,  2.09it/s]\u001b[A"
     ]
    },
    {
     "name": "stdout",
     "output_type": "stream",
     "text": [
      "L2 norm of the background error 0.5997563765669152\n",
      "L2 norm of the error in DA solution 2.2280073635799076e-17\n",
      "[46888, 11464, 78427, 44651, 40998, 27543, 56527, 89778, 12791, 48156]\n"
     ]
    },
    {
     "name": "stderr",
     "output_type": "stream",
     "text": [
      "\n",
      "  2%|▏         | 19/1000 [00:09<07:44,  2.11it/s]\u001b[A"
     ]
    },
    {
     "name": "stdout",
     "output_type": "stream",
     "text": [
      "L2 norm of the background error 0.25131266237695704\n",
      "L2 norm of the error in DA solution 8.285473155596711e-18\n",
      "[59783, 65911, 53644, 47616, 1466, 35567, 49047, 7762, 21035, 47733]\n"
     ]
    },
    {
     "name": "stderr",
     "output_type": "stream",
     "text": [
      "\n",
      "  2%|▏         | 20/1000 [00:09<07:39,  2.13it/s]\u001b[A"
     ]
    },
    {
     "name": "stdout",
     "output_type": "stream",
     "text": [
      "L2 norm of the background error 0.6469065705149029\n",
      "L2 norm of the error in DA solution 3.8780096332781196e-17\n",
      "[57771, 16768, 21540, 44651, 55576, 44376, 47362, 66329, 4287, 14225]\n"
     ]
    },
    {
     "name": "stderr",
     "output_type": "stream",
     "text": [
      "\n",
      "  2%|▏         | 21/1000 [00:09<07:36,  2.14it/s]\u001b[A"
     ]
    },
    {
     "name": "stdout",
     "output_type": "stream",
     "text": [
      "L2 norm of the background error 0.5488412011501282\n",
      "L2 norm of the error in DA solution 6.841894235341348e-17\n",
      "[72305, 23365, 56491, 47616, 16534, 47529, 49058, 68766, 18680, 39244]\n"
     ]
    },
    {
     "name": "stderr",
     "output_type": "stream",
     "text": [
      "\n",
      "  2%|▏         | 22/1000 [00:10<07:44,  2.11it/s]\u001b[A"
     ]
    },
    {
     "name": "stdout",
     "output_type": "stream",
     "text": [
      "L2 norm of the background error 0.2483325684992235\n",
      "L2 norm of the error in DA solution 2.044874413040209e-17\n",
      "[63544, 13422, 92398, 47616, 74980, 44643, 40523, 45113, 11408, 20286]\n"
     ]
    },
    {
     "name": "stderr",
     "output_type": "stream",
     "text": [
      "\n",
      "  2%|▏         | 23/1000 [00:10<07:40,  2.12it/s]\u001b[A"
     ]
    },
    {
     "name": "stdout",
     "output_type": "stream",
     "text": [
      "L2 norm of the background error 1.1060136770392344\n",
      "L2 norm of the error in DA solution 5.052186033180308e-17\n",
      "[85375, 154, 90977, 44651, 10389, 22735, 43956, 46598, 3581, 29544]\n"
     ]
    },
    {
     "name": "stderr",
     "output_type": "stream",
     "text": [
      "\n",
      "  2%|▏         | 24/1000 [00:11<07:38,  2.13it/s]\u001b[A"
     ]
    },
    {
     "name": "stdout",
     "output_type": "stream",
     "text": [
      "L2 norm of the background error 0.7885955741044371\n",
      "L2 norm of the error in DA solution 1.3385135733509997e-16\n",
      "[60669, 27667, 27915, 44651, 22974, 78039, 61109, 57433, 37225, 74129]\n"
     ]
    },
    {
     "name": "stderr",
     "output_type": "stream",
     "text": [
      "\n",
      "  2%|▎         | 25/1000 [00:11<07:35,  2.14it/s]\u001b[A"
     ]
    },
    {
     "name": "stdout",
     "output_type": "stream",
     "text": [
      "L2 norm of the background error 0.6942526550140496\n",
      "L2 norm of the error in DA solution 8.269177224932643e-17\n",
      "[64664, 19340, 21539, 44651, 74980, 52107, 52985, 74915, 14326, 3993]\n"
     ]
    },
    {
     "name": "stderr",
     "output_type": "stream",
     "text": [
      "\n",
      "  3%|▎         | 26/1000 [00:12<07:33,  2.15it/s]\u001b[A"
     ]
    },
    {
     "name": "stdout",
     "output_type": "stream",
     "text": [
      "L2 norm of the background error 0.796244050320418\n",
      "L2 norm of the error in DA solution 1.5315553285029913e-16\n",
      "[43153, 28082, 90545, 44651, 22974, 6473, 49057, 9262, 3360, 29395]\n"
     ]
    },
    {
     "name": "stderr",
     "output_type": "stream",
     "text": [
      "\n",
      "  3%|▎         | 27/1000 [00:12<07:31,  2.15it/s]\u001b[A"
     ]
    },
    {
     "name": "stdout",
     "output_type": "stream",
     "text": [
      "L2 norm of the background error 0.8012043024300047\n",
      "L2 norm of the error in DA solution 1.240290611121039e-16\n",
      "[61919, 74956, 45886, 47616, 58253, 17616, 56341, 6140, 3545, 10439]\n"
     ]
    },
    {
     "name": "stderr",
     "output_type": "stream",
     "text": [
      "\n",
      "  3%|▎         | 28/1000 [00:13<07:32,  2.15it/s]\u001b[A"
     ]
    },
    {
     "name": "stdout",
     "output_type": "stream",
     "text": [
      "L2 norm of the background error 0.4567358026340304\n",
      "L2 norm of the error in DA solution 3.2390870958042355e-17\n",
      "[22202, 78446, 30268, 44651, 6436, 74996, 44143, 54134, 852, 20020]\n"
     ]
    },
    {
     "name": "stderr",
     "output_type": "stream",
     "text": [
      "\n",
      "  3%|▎         | 29/1000 [00:13<07:29,  2.16it/s]\u001b[A"
     ]
    },
    {
     "name": "stdout",
     "output_type": "stream",
     "text": [
      "L2 norm of the background error 0.46208369790352805\n",
      "L2 norm of the error in DA solution 3.727166474824312e-17\n",
      "[73231, 80022, 60984, 44651, 45495, 75448, 20025, 48247, 10495, 20748]\n"
     ]
    },
    {
     "name": "stderr",
     "output_type": "stream",
     "text": [
      "\n",
      "  3%|▎         | 30/1000 [00:14<07:28,  2.16it/s]\u001b[A"
     ]
    },
    {
     "name": "stdout",
     "output_type": "stream",
     "text": [
      "L2 norm of the background error 1.1035706571988542\n",
      "L2 norm of the error in DA solution 1.311663547435263e-16\n",
      "[17348, 54840, 65700, 47616, 17018, 55136, 92076, 7686, 34934, 19615]\n"
     ]
    },
    {
     "name": "stderr",
     "output_type": "stream",
     "text": [
      "\n",
      "  3%|▎         | 31/1000 [00:14<07:28,  2.16it/s]\u001b[A"
     ]
    },
    {
     "name": "stdout",
     "output_type": "stream",
     "text": [
      "L2 norm of the background error 0.6898903923604751\n",
      "L2 norm of the error in DA solution 9.894206649187448e-17\n",
      "[90926, 51873, 92269, 44651, 10048, 91241, 53742, 54566, 11408, 3308]\n"
     ]
    },
    {
     "name": "stderr",
     "output_type": "stream",
     "text": [
      "\n",
      "  3%|▎         | 32/1000 [00:15<07:27,  2.16it/s]\u001b[A"
     ]
    },
    {
     "name": "stdout",
     "output_type": "stream",
     "text": [
      "L2 norm of the background error 0.7488858455122347\n",
      "L2 norm of the error in DA solution 8.065876152253844e-17\n",
      "[43744, 81436, 59238, 44651, 1466, 76496, 20631, 16277, 6245, 3308]\n"
     ]
    },
    {
     "name": "stderr",
     "output_type": "stream",
     "text": [
      "\n",
      "  3%|▎         | 33/1000 [00:15<07:26,  2.17it/s]\u001b[A"
     ]
    },
    {
     "name": "stdout",
     "output_type": "stream",
     "text": [
      "L2 norm of the background error 0.7288758084910353\n",
      "L2 norm of the error in DA solution 7.101660357457976e-17\n",
      "[42811, 47299, 68699, 47616, 52457, 20058, 60397, 43285, 6451, 850]\n"
     ]
    },
    {
     "name": "stderr",
     "output_type": "stream",
     "text": [
      "\n",
      "  3%|▎         | 34/1000 [00:16<07:27,  2.16it/s]\u001b[A"
     ]
    },
    {
     "name": "stdout",
     "output_type": "stream",
     "text": [
      "L2 norm of the background error 0.8723921961607973\n",
      "L2 norm of the error in DA solution 1.0550414751643702e-16\n",
      "[53112, 49342, 95412, 47616, 48502, 52107, 76235, 21169, 7365, 22293]\n"
     ]
    },
    {
     "name": "stderr",
     "output_type": "stream",
     "text": [
      "\n",
      "  4%|▎         | 35/1000 [00:16<07:28,  2.15it/s]\u001b[A"
     ]
    },
    {
     "name": "stdout",
     "output_type": "stream",
     "text": [
      "L2 norm of the background error 0.6973997536611025\n",
      "L2 norm of the error in DA solution 6.802281189284675e-17\n",
      "[93296, 9527, 30348, 44651, 22974, 43017, 76197, 21047, 16255, 15146]\n"
     ]
    },
    {
     "name": "stderr",
     "output_type": "stream",
     "text": [
      "\n",
      "  4%|▎         | 36/1000 [00:16<07:27,  2.15it/s]\u001b[A"
     ]
    },
    {
     "name": "stdout",
     "output_type": "stream",
     "text": [
      "L2 norm of the background error 0.35596065918437314\n",
      "L2 norm of the error in DA solution 2.0811958081839545e-17\n",
      "[14929, 76449, 15407, 44651, 74980, 51137, 15681, 38562, 14326, 55744]\n"
     ]
    },
    {
     "name": "stderr",
     "output_type": "stream",
     "text": [
      "\n",
      "  4%|▎         | 37/1000 [00:17<07:26,  2.16it/s]\u001b[A"
     ]
    },
    {
     "name": "stdout",
     "output_type": "stream",
     "text": [
      "L2 norm of the background error 0.5573367424433954\n",
      "L2 norm of the error in DA solution 6.767745236667562e-17\n",
      "[97074, 42259, 33382, 44651, 52457, 55135, 48185, 71941, 2238, 55835]\n"
     ]
    },
    {
     "name": "stderr",
     "output_type": "stream",
     "text": [
      "\n",
      "  4%|▍         | 38/1000 [00:17<07:25,  2.16it/s]\u001b[A"
     ]
    },
    {
     "name": "stdout",
     "output_type": "stream",
     "text": [
      "L2 norm of the background error 0.40657323357752484\n",
      "L2 norm of the error in DA solution 5.724137146287702e-17\n",
      "[94388, 9535, 55997, 47616, 55576, 83961, 63224, 46352, 1305, 14352]\n"
     ]
    },
    {
     "name": "stderr",
     "output_type": "stream",
     "text": [
      "\n",
      "  4%|▍         | 39/1000 [00:18<07:26,  2.15it/s]\u001b[A"
     ]
    },
    {
     "name": "stdout",
     "output_type": "stream",
     "text": [
      "L2 norm of the background error 1.1391369783213572\n",
      "L2 norm of the error in DA solution 1.0057646517831764e-16\n",
      "[81356, 31625, 46889, 47616, 21885, 34380, 44618, 67692, 19677, 35086]\n"
     ]
    },
    {
     "name": "stderr",
     "output_type": "stream",
     "text": [
      "\n",
      "  4%|▍         | 40/1000 [00:18<07:28,  2.14it/s]\u001b[A"
     ]
    },
    {
     "name": "stdout",
     "output_type": "stream",
     "text": [
      "L2 norm of the background error 0.6708682412227273\n",
      "L2 norm of the error in DA solution 1.6987182006789482e-16\n",
      "[72227, 80144, 36016, 44651, 58253, 90326, 42489, 56128, 14326, 2856]\n"
     ]
    },
    {
     "name": "stderr",
     "output_type": "stream",
     "text": [
      "\n",
      "  4%|▍         | 41/1000 [00:19<07:25,  2.15it/s]\u001b[A"
     ]
    },
    {
     "name": "stdout",
     "output_type": "stream",
     "text": [
      "L2 norm of the background error 0.9045966907081522\n",
      "L2 norm of the error in DA solution 6.471137039106568e-17\n",
      "[94388, 77692, 49852, 44651, 58253, 46620, 68704, 42771, 45786, 19035]\n"
     ]
    },
    {
     "name": "stderr",
     "output_type": "stream",
     "text": [
      "\n",
      "  4%|▍         | 42/1000 [00:19<07:25,  2.15it/s]\u001b[A"
     ]
    },
    {
     "name": "stdout",
     "output_type": "stream",
     "text": [
      "L2 norm of the background error 0.49483474385441184\n",
      "L2 norm of the error in DA solution 8.31383989927847e-18\n",
      "[55103, 31680, 90407, 44651, 47734, 59345, 48059, 56947, 8328, 58368]\n"
     ]
    },
    {
     "name": "stderr",
     "output_type": "stream",
     "text": [
      "\n",
      "  4%|▍         | 43/1000 [00:20<07:24,  2.15it/s]\u001b[A"
     ]
    },
    {
     "name": "stdout",
     "output_type": "stream",
     "text": [
      "L2 norm of the background error 1.0226360576951303\n",
      "L2 norm of the error in DA solution 1.148546926629707e-16\n",
      "[73474, 74560, 66654, 47616, 45495, 80516, 33919, 15468, 37263, 6525]\n"
     ]
    },
    {
     "name": "stderr",
     "output_type": "stream",
     "text": [
      "\n",
      "  4%|▍         | 44/1000 [00:20<07:23,  2.15it/s]\u001b[A"
     ]
    },
    {
     "name": "stdout",
     "output_type": "stream",
     "text": [
      "L2 norm of the background error 0.6759149015047229\n",
      "L2 norm of the error in DA solution 7.93907214919443e-17\n",
      "[69477, 90434, 43367, 44651, 1466, 34108, 80376, 30655, 55134, 37293]\n"
     ]
    },
    {
     "name": "stderr",
     "output_type": "stream",
     "text": [
      "\n",
      "  4%|▍         | 45/1000 [00:21<07:23,  2.15it/s]\u001b[A"
     ]
    },
    {
     "name": "stdout",
     "output_type": "stream",
     "text": [
      "L2 norm of the background error 0.6798128735161599\n",
      "L2 norm of the error in DA solution 2.923007045930597e-17\n",
      "[49438, 60298, 22631, 44651, 6436, 50741, 90446, 70701, 852, 20749]\n"
     ]
    },
    {
     "name": "stderr",
     "output_type": "stream",
     "text": [
      "\n",
      "  5%|▍         | 46/1000 [00:21<07:22,  2.16it/s]\u001b[A"
     ]
    },
    {
     "name": "stdout",
     "output_type": "stream",
     "text": [
      "L2 norm of the background error 0.785978219673017\n",
      "L2 norm of the error in DA solution 7.08037041824039e-17\n",
      "[62841, 66262, 28552, 44651, 52430, 66703, 79248, 21125, 25448, 6803]\n"
     ]
    },
    {
     "name": "stderr",
     "output_type": "stream",
     "text": [
      "\n",
      "  5%|▍         | 47/1000 [00:22<07:22,  2.15it/s]\u001b[A"
     ]
    },
    {
     "name": "stdout",
     "output_type": "stream",
     "text": [
      "L2 norm of the background error 0.5430355248789162\n",
      "L2 norm of the error in DA solution 3.230265490456644e-17\n",
      "[14868, 66931, 56044, 47616, 75175, 81402, 48384, 54223, 6439, 2814]\n"
     ]
    },
    {
     "name": "stderr",
     "output_type": "stream",
     "text": [
      "\n",
      "  5%|▍         | 48/1000 [00:22<07:21,  2.16it/s]\u001b[A"
     ]
    },
    {
     "name": "stdout",
     "output_type": "stream",
     "text": [
      "L2 norm of the background error 0.49533773824802996\n",
      "L2 norm of the error in DA solution 3.2438790862001924e-17\n",
      "[36197, 32635, 58636, 47616, 11634, 58834, 20025, 49759, 14353, 41315]\n"
     ]
    },
    {
     "name": "stderr",
     "output_type": "stream",
     "text": [
      "\n",
      "  5%|▍         | 49/1000 [00:23<07:22,  2.15it/s]\u001b[A"
     ]
    },
    {
     "name": "stdout",
     "output_type": "stream",
     "text": [
      "L2 norm of the background error 0.6462879310988993\n",
      "L2 norm of the error in DA solution 1.769742840319941e-17\n",
      "[51292, 48878, 76517, 47616, 22974, 8850, 42993, 21049, 41213, 3753]\n"
     ]
    },
    {
     "name": "stderr",
     "output_type": "stream",
     "text": [
      "\n",
      "  5%|▌         | 50/1000 [00:23<07:21,  2.15it/s]\u001b[A"
     ]
    },
    {
     "name": "stdout",
     "output_type": "stream",
     "text": [
      "L2 norm of the background error 0.46248043342085166\n",
      "L2 norm of the error in DA solution 8.330527548353435e-17\n",
      "[56940, 30384, 74499, 47616, 21885, 11044, 16871, 20690, 6509, 60117]\n"
     ]
    },
    {
     "name": "stderr",
     "output_type": "stream",
     "text": [
      "\n",
      "  5%|▌         | 51/1000 [00:23<07:21,  2.15it/s]\u001b[A"
     ]
    },
    {
     "name": "stdout",
     "output_type": "stream",
     "text": [
      "L2 norm of the background error 0.5757277266321146\n",
      "L2 norm of the error in DA solution 4.1728010449636224e-17\n",
      "[85084, 66063, 61158, 44651, 75175, 71351, 27102, 32705, 11974, 52731]\n"
     ]
    },
    {
     "name": "stderr",
     "output_type": "stream",
     "text": [
      "\n",
      "  5%|▌         | 52/1000 [00:24<07:19,  2.16it/s]\u001b[A"
     ]
    },
    {
     "name": "stdout",
     "output_type": "stream",
     "text": [
      "L2 norm of the background error 0.6193457792828357\n",
      "L2 norm of the error in DA solution 2.4392840264740405e-17\n",
      "[58963, 60298, 19511, 47616, 40998, 39892, 65906, 19693, 18289, 10357]\n"
     ]
    },
    {
     "name": "stderr",
     "output_type": "stream",
     "text": [
      "\n",
      "  5%|▌         | 53/1000 [00:24<07:18,  2.16it/s]\u001b[A"
     ]
    },
    {
     "name": "stdout",
     "output_type": "stream",
     "text": [
      "L2 norm of the background error 0.6540977664696793\n",
      "L2 norm of the error in DA solution 7.790225428144014e-17\n",
      "[49451, 21971, 20521, 47616, 21885, 42973, 7902, 45018, 1685, 48033]\n"
     ]
    },
    {
     "name": "stderr",
     "output_type": "stream",
     "text": [
      "\n",
      "  5%|▌         | 54/1000 [00:25<07:17,  2.16it/s]\u001b[A"
     ]
    },
    {
     "name": "stdout",
     "output_type": "stream",
     "text": [
      "L2 norm of the background error 0.9374765660327168\n",
      "L2 norm of the error in DA solution 6.468712357209568e-17\n",
      "[96939, 7789, 53298, 47616, 52430, 48510, 38615, 38255, 6303, 6803]\n"
     ]
    },
    {
     "name": "stderr",
     "output_type": "stream",
     "text": [
      "\n",
      "  6%|▌         | 55/1000 [00:25<07:16,  2.16it/s]\u001b[A"
     ]
    },
    {
     "name": "stdout",
     "output_type": "stream",
     "text": [
      "L2 norm of the background error 0.5885259628048022\n",
      "L2 norm of the error in DA solution 9.76798927853757e-17\n",
      "[44127, 41935, 78196, 47616, 10389, 38415, 26239, 35414, 8098, 1990]\n"
     ]
    },
    {
     "name": "stderr",
     "output_type": "stream",
     "text": [
      "\n",
      "  6%|▌         | 56/1000 [00:26<07:16,  2.17it/s]\u001b[A"
     ]
    },
    {
     "name": "stdout",
     "output_type": "stream",
     "text": [
      "L2 norm of the background error 0.5520535306197976\n",
      "L2 norm of the error in DA solution 3.5603866872093444e-17\n",
      "[72476, 23365, 89460, 44651, 17019, 86151, 43747, 13330, 1307, 19615]\n"
     ]
    },
    {
     "name": "stderr",
     "output_type": "stream",
     "text": [
      "\n",
      "  6%|▌         | 57/1000 [00:26<07:16,  2.16it/s]\u001b[A"
     ]
    },
    {
     "name": "stdout",
     "output_type": "stream",
     "text": [
      "L2 norm of the background error 0.7727674404087725\n",
      "L2 norm of the error in DA solution 5.183534122218967e-17\n",
      "[91104, 56741, 43706, 47616, 74980, 37014, 29348, 15388, 11301, 57545]\n"
     ]
    },
    {
     "name": "stderr",
     "output_type": "stream",
     "text": [
      "\n",
      "  6%|▌         | 58/1000 [00:27<07:17,  2.15it/s]\u001b[A"
     ]
    },
    {
     "name": "stdout",
     "output_type": "stream",
     "text": [
      "L2 norm of the background error 0.793998560799496\n",
      "L2 norm of the error in DA solution 2.133394719362808e-17\n",
      "[24168, 32635, 86871, 47616, 12495, 46609, 32764, 31733, 22903, 17017]\n"
     ]
    },
    {
     "name": "stderr",
     "output_type": "stream",
     "text": [
      "\n",
      "  6%|▌         | 59/1000 [00:27<07:18,  2.15it/s]\u001b[A"
     ]
    },
    {
     "name": "stdout",
     "output_type": "stream",
     "text": [
      "L2 norm of the background error 0.4256765863314055\n",
      "L2 norm of the error in DA solution 2.4209373577263157e-17\n",
      "[61892, 71966, 60532, 47616, 17019, 65805, 35126, 52590, 5179, 48458]\n"
     ]
    },
    {
     "name": "stderr",
     "output_type": "stream",
     "text": [
      "\n",
      "  6%|▌         | 60/1000 [00:28<07:17,  2.15it/s]\u001b[A"
     ]
    },
    {
     "name": "stdout",
     "output_type": "stream",
     "text": [
      "L2 norm of the background error 0.5907601131335604\n",
      "L2 norm of the error in DA solution 4.158448932865885e-17\n",
      "[28763, 37911, 26202, 44651, 11634, 20624, 44026, 55442, 57718, 6864]\n"
     ]
    },
    {
     "name": "stderr",
     "output_type": "stream",
     "text": [
      "\n",
      "  6%|▌         | 61/1000 [00:28<07:16,  2.15it/s]\u001b[A"
     ]
    },
    {
     "name": "stdout",
     "output_type": "stream",
     "text": [
      "L2 norm of the background error 0.9426543838566463\n",
      "L2 norm of the error in DA solution 2.8250317108219856e-17\n",
      "[62841, 22008, 30268, 47616, 52828, 83968, 57385, 42702, 20752, 10357]\n"
     ]
    },
    {
     "name": "stderr",
     "output_type": "stream",
     "text": [
      "\n",
      "  6%|▌         | 62/1000 [00:29<07:15,  2.15it/s]\u001b[A"
     ]
    },
    {
     "name": "stdout",
     "output_type": "stream",
     "text": [
      "L2 norm of the background error 0.28700501447744275\n",
      "L2 norm of the error in DA solution 1.8178859116606148e-17\n",
      "[71791, 37813, 75480, 47616, 76464, 10796, 47362, 37722, 9842, 39687]\n"
     ]
    },
    {
     "name": "stderr",
     "output_type": "stream",
     "text": [
      "\n",
      "  6%|▋         | 63/1000 [00:29<07:13,  2.16it/s]\u001b[A"
     ]
    },
    {
     "name": "stdout",
     "output_type": "stream",
     "text": [
      "L2 norm of the background error 0.4837958041679864\n",
      "L2 norm of the error in DA solution 8.58039042758653e-18\n",
      "[60669, 12019, 23941, 44651, 74590, 29984, 57739, 61578, 1306, 48457]\n"
     ]
    },
    {
     "name": "stderr",
     "output_type": "stream",
     "text": [
      "\n",
      "  6%|▋         | 64/1000 [00:29<07:13,  2.16it/s]\u001b[A"
     ]
    },
    {
     "name": "stdout",
     "output_type": "stream",
     "text": [
      "L2 norm of the background error 0.6844498568906743\n",
      "L2 norm of the error in DA solution 9.488870445106199e-17\n",
      "[13358, 90628, 76517, 47616, 21885, 9113, 21235, 38562, 36609, 9689]\n"
     ]
    },
    {
     "name": "stderr",
     "output_type": "stream",
     "text": [
      "\n",
      "  6%|▋         | 65/1000 [00:30<07:12,  2.16it/s]\u001b[A"
     ]
    },
    {
     "name": "stdout",
     "output_type": "stream",
     "text": [
      "L2 norm of the background error 0.3369554918743534\n",
      "L2 norm of the error in DA solution 6.216863728725277e-17\n",
      "[77899, 43326, 22730, 44651, 20460, 66304, 46395, 69864, 10772, 29395]\n"
     ]
    },
    {
     "name": "stderr",
     "output_type": "stream",
     "text": [
      "\n",
      "  7%|▋         | 66/1000 [00:30<07:11,  2.17it/s]\u001b[A"
     ]
    },
    {
     "name": "stdout",
     "output_type": "stream",
     "text": [
      "L2 norm of the background error 0.608888663145753\n",
      "L2 norm of the error in DA solution 3.747672315575858e-17\n",
      "[30198, 78649, 51476, 47616, 76464, 16826, 75098, 68855, 2821, 42839]\n"
     ]
    },
    {
     "name": "stderr",
     "output_type": "stream",
     "text": [
      "\n",
      "  7%|▋         | 67/1000 [00:31<07:12,  2.16it/s]\u001b[A"
     ]
    },
    {
     "name": "stdout",
     "output_type": "stream",
     "text": [
      "L2 norm of the background error 0.5628127348335231\n",
      "L2 norm of the error in DA solution 2.7396199002744467e-17\n",
      "[61892, 14226, 91125, 47616, 22974, 74996, 53175, 65682, 4010, 55835]\n"
     ]
    },
    {
     "name": "stderr",
     "output_type": "stream",
     "text": [
      "\n",
      "  7%|▋         | 68/1000 [00:31<07:10,  2.16it/s]\u001b[A"
     ]
    },
    {
     "name": "stdout",
     "output_type": "stream",
     "text": [
      "L2 norm of the background error 0.6574096262588894\n",
      "L2 norm of the error in DA solution 1.2661915426130042e-16\n",
      "[53112, 62286, 44003, 44651, 11634, 21266, 16229, 16016, 8328, 6768]\n"
     ]
    },
    {
     "name": "stderr",
     "output_type": "stream",
     "text": [
      "\n",
      "  7%|▋         | 69/1000 [00:32<07:09,  2.17it/s]\u001b[A"
     ]
    },
    {
     "name": "stdout",
     "output_type": "stream",
     "text": [
      "L2 norm of the background error 0.48486934731263404\n",
      "L2 norm of the error in DA solution 4.61648579746594e-17\n",
      "[24162, 16763, 15276, 44651, 48009, 65944, 59364, 54021, 15621, 45580]\n"
     ]
    },
    {
     "name": "stderr",
     "output_type": "stream",
     "text": [
      "\n",
      "  7%|▋         | 70/1000 [00:32<07:08,  2.17it/s]\u001b[A"
     ]
    },
    {
     "name": "stdout",
     "output_type": "stream",
     "text": [
      "L2 norm of the background error 0.5658416447153504\n",
      "L2 norm of the error in DA solution 1.31268629370491e-17\n",
      "[32014, 82356, 7768, 47616, 74980, 19979, 75098, 28825, 3879, 3753]\n"
     ]
    },
    {
     "name": "stderr",
     "output_type": "stream",
     "text": [
      "\n",
      "  7%|▋         | 71/1000 [00:33<07:07,  2.17it/s]\u001b[A"
     ]
    },
    {
     "name": "stdout",
     "output_type": "stream",
     "text": [
      "L2 norm of the background error 0.6267551932038788\n",
      "L2 norm of the error in DA solution 1.2958075209621712e-16\n",
      "[72185, 34696, 45878, 44651, 10389, 47529, 74269, 42537, 23686, 55744]\n"
     ]
    },
    {
     "name": "stderr",
     "output_type": "stream",
     "text": [
      "\n",
      "  7%|▋         | 72/1000 [00:33<07:08,  2.17it/s]\u001b[A"
     ]
    },
    {
     "name": "stdout",
     "output_type": "stream",
     "text": [
      "L2 norm of the background error 0.32353487304751616\n",
      "L2 norm of the error in DA solution 2.728768573970434e-17\n",
      "[90942, 41935, 65339, 44651, 8951, 33834, 77016, 44896, 852, 3111]\n"
     ]
    },
    {
     "name": "stderr",
     "output_type": "stream",
     "text": [
      "\n",
      "  7%|▋         | 73/1000 [00:34<07:06,  2.17it/s]\u001b[A"
     ]
    },
    {
     "name": "stdout",
     "output_type": "stream",
     "text": [
      "L2 norm of the background error 0.7335951212865285\n",
      "L2 norm of the error in DA solution 8.034313220663639e-17\n",
      "[24168, 85662, 7762, 44651, 21885, 20058, 79545, 52409, 29025, 12321]\n"
     ]
    },
    {
     "name": "stderr",
     "output_type": "stream",
     "text": [
      "\n",
      "  7%|▋         | 74/1000 [00:34<07:07,  2.17it/s]\u001b[A"
     ]
    },
    {
     "name": "stdout",
     "output_type": "stream",
     "text": [
      "L2 norm of the background error 1.3074817380072377\n",
      "L2 norm of the error in DA solution 1.1306797317552452e-16\n",
      "[82991, 12025, 69953, 47616, 17018, 35265, 21540, 71246, 22004, 663]\n"
     ]
    },
    {
     "name": "stderr",
     "output_type": "stream",
     "text": [
      "\n",
      "  8%|▊         | 75/1000 [00:35<07:06,  2.17it/s]\u001b[A"
     ]
    },
    {
     "name": "stdout",
     "output_type": "stream",
     "text": [
      "L2 norm of the background error 0.5227828744930535\n",
      "L2 norm of the error in DA solution 2.767442616606273e-17\n",
      "[44175, 47048, 42439, 44651, 10389, 73755, 32764, 39780, 52622, 43049]\n"
     ]
    },
    {
     "name": "stderr",
     "output_type": "stream",
     "text": [
      "\n",
      "  8%|▊         | 76/1000 [00:35<07:07,  2.16it/s]\u001b[A"
     ]
    },
    {
     "name": "stdout",
     "output_type": "stream",
     "text": [
      "L2 norm of the background error 0.36178387427202846\n",
      "L2 norm of the error in DA solution 7.380788061254447e-18\n",
      "[70874, 12019, 61158, 47616, 11634, 59209, 43252, 21613, 16593, 16753]\n"
     ]
    },
    {
     "name": "stderr",
     "output_type": "stream",
     "text": [
      "\n",
      "  8%|▊         | 77/1000 [00:35<07:10,  2.14it/s]\u001b[A"
     ]
    },
    {
     "name": "stdout",
     "output_type": "stream",
     "text": [
      "L2 norm of the background error 0.7915705350895139\n",
      "L2 norm of the error in DA solution 1.283610987170369e-16\n",
      "[22440, 78512, 65439, 47616, 11634, 41574, 84949, 21614, 27771, 20287]\n"
     ]
    },
    {
     "name": "stderr",
     "output_type": "stream",
     "text": [
      "\n",
      "  8%|▊         | 78/1000 [00:36<07:07,  2.16it/s]\u001b[A"
     ]
    },
    {
     "name": "stdout",
     "output_type": "stream",
     "text": [
      "L2 norm of the background error 0.6148262326320755\n",
      "L2 norm of the error in DA solution 8.229401970274567e-17\n",
      "[90926, 62670, 20600, 47616, 74980, 32398, 43188, 32288, 47799, 8787]\n"
     ]
    },
    {
     "name": "stderr",
     "output_type": "stream",
     "text": [
      "\n",
      "  8%|▊         | 79/1000 [00:36<07:08,  2.15it/s]\u001b[A"
     ]
    },
    {
     "name": "stdout",
     "output_type": "stream",
     "text": [
      "L2 norm of the background error 0.6280570643102601\n",
      "L2 norm of the error in DA solution 7.815267577818437e-17\n",
      "[24290, 6780, 11699, 47616, 74980, 46799, 21551, 21049, 10729, 17992]\n"
     ]
    },
    {
     "name": "stderr",
     "output_type": "stream",
     "text": [
      "\n",
      "  8%|▊         | 80/1000 [00:37<07:08,  2.15it/s]\u001b[A"
     ]
    },
    {
     "name": "stdout",
     "output_type": "stream",
     "text": [
      "L2 norm of the background error 0.4952379954895454\n",
      "L2 norm of the error in DA solution 3.067291085127457e-17\n",
      "[24168, 24533, 60984, 44651, 18750, 57825, 36061, 11266, 10772, 34112]\n"
     ]
    },
    {
     "name": "stderr",
     "output_type": "stream",
     "text": [
      "\n",
      "  8%|▊         | 81/1000 [00:37<07:06,  2.16it/s]\u001b[A"
     ]
    },
    {
     "name": "stdout",
     "output_type": "stream",
     "text": [
      "L2 norm of the background error 1.6684425107707213\n",
      "L2 norm of the error in DA solution 8.161029966508382e-17\n",
      "[57772, 16664, 78149, 47616, 74980, 90796, 78627, 148, 15728, 9836]\n"
     ]
    },
    {
     "name": "stderr",
     "output_type": "stream",
     "text": [
      "\n",
      "  8%|▊         | 82/1000 [00:38<07:05,  2.16it/s]\u001b[A"
     ]
    },
    {
     "name": "stdout",
     "output_type": "stream",
     "text": [
      "L2 norm of the background error 0.7127811907846145\n",
      "L2 norm of the error in DA solution 1.3339431919849708e-16\n",
      "[72227, 67260, 85026, 44651, 58253, 80155, 36320, 91125, 11725, 24324]\n"
     ]
    },
    {
     "name": "stderr",
     "output_type": "stream",
     "text": [
      "\n",
      "  8%|▊         | 83/1000 [00:38<07:05,  2.16it/s]\u001b[A"
     ]
    },
    {
     "name": "stdout",
     "output_type": "stream",
     "text": [
      "L2 norm of the background error 0.6426742941571124\n",
      "L2 norm of the error in DA solution 6.762887929763059e-17\n",
      "[97671, 78446, 89778, 47616, 20460, 22737, 62355, 11200, 1727, 34638]\n"
     ]
    },
    {
     "name": "stderr",
     "output_type": "stream",
     "text": [
      "\n",
      "  8%|▊         | 84/1000 [00:39<07:04,  2.16it/s]\u001b[A"
     ]
    },
    {
     "name": "stdout",
     "output_type": "stream",
     "text": [
      "L2 norm of the background error 0.8102097364758162\n",
      "L2 norm of the error in DA solution 5.060170059150634e-17\n",
      "[71401, 78261, 23093, 47616, 75175, 6637, 89194, 49759, 37263, 9837]\n"
     ]
    },
    {
     "name": "stderr",
     "output_type": "stream",
     "text": [
      "\n",
      "  8%|▊         | 85/1000 [00:39<07:08,  2.13it/s]\u001b[A"
     ]
    },
    {
     "name": "stdout",
     "output_type": "stream",
     "text": [
      "L2 norm of the background error 0.5273743077297945\n",
      "L2 norm of the error in DA solution 1.0148767449266961e-16\n",
      "[15591, 26658, 68494, 47616, 17018, 67781, 74201, 74250, 16593, 10439]\n"
     ]
    },
    {
     "name": "stderr",
     "output_type": "stream",
     "text": [
      "\n",
      "  9%|▊         | 86/1000 [00:40<07:07,  2.14it/s]\u001b[A"
     ]
    },
    {
     "name": "stdout",
     "output_type": "stream",
     "text": [
      "L2 norm of the background error 0.7105414422187121\n",
      "L2 norm of the error in DA solution 1.0453456383577052e-16\n",
      "[57771, 59741, 26202, 47616, 55576, 73845, 51558, 68440, 32487, 51260]\n"
     ]
    },
    {
     "name": "stderr",
     "output_type": "stream",
     "text": [
      "\n",
      "  9%|▊         | 87/1000 [00:40<07:05,  2.15it/s]\u001b[A"
     ]
    },
    {
     "name": "stdout",
     "output_type": "stream",
     "text": [
      "L2 norm of the background error 0.8340814599513496\n",
      "L2 norm of the error in DA solution 6.462929501739708e-17\n",
      "[42013, 59811, 42439, 44651, 52430, 6166, 13259, 24765, 6291, 24765]\n"
     ]
    },
    {
     "name": "stderr",
     "output_type": "stream",
     "text": [
      "\n",
      "  9%|▉         | 88/1000 [00:41<07:03,  2.15it/s]\u001b[A"
     ]
    },
    {
     "name": "stdout",
     "output_type": "stream",
     "text": [
      "L2 norm of the background error 0.7996952626725308\n",
      "L2 norm of the error in DA solution 1.5415621073151527e-16\n",
      "[71878, 93100, 81507, 47616, 10048, 8223, 16869, 20691, 30139, 9837]\n"
     ]
    },
    {
     "name": "stderr",
     "output_type": "stream",
     "text": [
      "\n",
      "  9%|▉         | 89/1000 [00:41<07:02,  2.16it/s]\u001b[A"
     ]
    },
    {
     "name": "stdout",
     "output_type": "stream",
     "text": [
      "L2 norm of the background error 0.7006936530128779\n",
      "L2 norm of the error in DA solution 5.970881898522856e-17\n",
      "[92829, 66262, 17865, 44651, 75175, 90384, 46692, 24332, 2572, 61592]\n"
     ]
    },
    {
     "name": "stderr",
     "output_type": "stream",
     "text": [
      "\n",
      "  9%|▉         | 90/1000 [00:42<07:00,  2.16it/s]\u001b[A"
     ]
    },
    {
     "name": "stdout",
     "output_type": "stream",
     "text": [
      "L2 norm of the background error 0.7705782761307678\n",
      "L2 norm of the error in DA solution 3.036499649281606e-17\n",
      "[22324, 60298, 20870, 44651, 74590, 3449, 28747, 13210, 36125, 13773]\n"
     ]
    },
    {
     "name": "stderr",
     "output_type": "stream",
     "text": [
      "\n",
      "  9%|▉         | 91/1000 [00:42<06:59,  2.17it/s]\u001b[A"
     ]
    },
    {
     "name": "stdout",
     "output_type": "stream",
     "text": [
      "L2 norm of the background error 0.5351625671390317\n",
      "L2 norm of the error in DA solution 8.45232101506678e-18\n",
      "[2499, 78646, 82411, 47616, 74980, 39892, 53722, 54873, 10496, 48033]\n"
     ]
    },
    {
     "name": "stderr",
     "output_type": "stream",
     "text": [
      "\n",
      "  9%|▉         | 92/1000 [00:42<06:58,  2.17it/s]\u001b[A"
     ]
    },
    {
     "name": "stdout",
     "output_type": "stream",
     "text": [
      "L2 norm of the background error 0.637742600638343\n",
      "L2 norm of the error in DA solution 3.606292777302683e-17\n",
      "[43145, 51451, 74469, 47616, 31198, 70467, 15556, 33892, 8098, 850]\n"
     ]
    },
    {
     "name": "stderr",
     "output_type": "stream",
     "text": [
      "\n",
      "  9%|▉         | 93/1000 [00:43<06:57,  2.17it/s]\u001b[A"
     ]
    },
    {
     "name": "stdout",
     "output_type": "stream",
     "text": [
      "L2 norm of the background error 0.7408993030424457\n",
      "L2 norm of the error in DA solution 9.96689416469855e-17\n",
      "[2499, 50605, 23232, 44651, 22974, 73755, 68704, 66713, 25979, 56369]\n"
     ]
    },
    {
     "name": "stderr",
     "output_type": "stream",
     "text": [
      "\n",
      "  9%|▉         | 94/1000 [00:43<06:57,  2.17it/s]\u001b[A"
     ]
    },
    {
     "name": "stdout",
     "output_type": "stream",
     "text": [
      "L2 norm of the background error 0.7144525168868715\n",
      "L2 norm of the error in DA solution 1.8861839567907737e-16\n",
      "[46708, 30265, 23268, 44651, 17018, 44505, 13473, 66725, 12103, 42839]\n"
     ]
    },
    {
     "name": "stderr",
     "output_type": "stream",
     "text": [
      "\n",
      " 10%|▉         | 95/1000 [00:44<06:57,  2.17it/s]\u001b[A"
     ]
    },
    {
     "name": "stdout",
     "output_type": "stream",
     "text": [
      "L2 norm of the background error 0.6783055050985357\n",
      "L2 norm of the error in DA solution 1.2552836686477295e-17\n",
      "[62841, 12019, 56491, 44651, 10389, 37678, 14938, 13437, 30274, 58288]\n"
     ]
    },
    {
     "name": "stderr",
     "output_type": "stream",
     "text": [
      "\n",
      " 10%|▉         | 96/1000 [00:44<06:56,  2.17it/s]\u001b[A"
     ]
    },
    {
     "name": "stdout",
     "output_type": "stream",
     "text": [
      "L2 norm of the background error 0.5180463088429427\n",
      "L2 norm of the error in DA solution 6.340881355919742e-18\n",
      "[31008, 60298, 69133, 44651, 21885, 48930, 22288, 24332, 12791, 56514]\n"
     ]
    },
    {
     "name": "stderr",
     "output_type": "stream",
     "text": [
      "\n",
      " 10%|▉         | 97/1000 [00:45<06:55,  2.17it/s]\u001b[A"
     ]
    },
    {
     "name": "stdout",
     "output_type": "stream",
     "text": [
      "L2 norm of the background error 0.4900925454833597\n",
      "L2 norm of the error in DA solution 8.395721643486633e-18\n",
      "[72476, 3114, 39205, 44651, 58253, 83549, 45994, 32288, 3581, 4154]\n"
     ]
    },
    {
     "name": "stderr",
     "output_type": "stream",
     "text": [
      "\n",
      " 10%|▉         | 98/1000 [00:45<06:57,  2.16it/s]\u001b[A"
     ]
    },
    {
     "name": "stdout",
     "output_type": "stream",
     "text": [
      "L2 norm of the background error 0.5907188053215351\n",
      "L2 norm of the error in DA solution 2.847338298661739e-17\n",
      "[71393, 55297, 71530, 44651, 6436, 73, 45930, 45871, 11383, 16753]\n"
     ]
    },
    {
     "name": "stderr",
     "output_type": "stream",
     "text": [
      "\n",
      " 10%|▉         | 99/1000 [00:46<06:59,  2.15it/s]\u001b[A"
     ]
    },
    {
     "name": "stdout",
     "output_type": "stream",
     "text": [
      "L2 norm of the background error 0.9300231900516892\n",
      "L2 norm of the error in DA solution 6.660102910374986e-17\n",
      "[80045, 8374, 46095, 47616, 75175, 46321, 50187, 97114, 16255, 20748]\n"
     ]
    },
    {
     "name": "stderr",
     "output_type": "stream",
     "text": [
      "\n",
      " 10%|█         | 100/1000 [00:46<06:58,  2.15it/s]\u001b[A"
     ]
    },
    {
     "name": "stdout",
     "output_type": "stream",
     "text": [
      "L2 norm of the background error 0.7404008251981908\n",
      "L2 norm of the error in DA solution 5.214774945676811e-17\n",
      "[53112, 58809, 13295, 44651, 18750, 82362, 56588, 11699, 3879, 58367]\n"
     ]
    },
    {
     "name": "stderr",
     "output_type": "stream",
     "text": [
      "\n",
      " 10%|█         | 101/1000 [00:47<07:13,  2.07it/s]\u001b[A"
     ]
    },
    {
     "name": "stdout",
     "output_type": "stream",
     "text": [
      "L2 norm of the background error 0.5857634262632828\n",
      "L2 norm of the error in DA solution 4.635151625548915e-17\n",
      "[59755, 38771, 80376, 44651, 17019, 51584, 32853, 75389, 3359, 57545]\n"
     ]
    },
    {
     "name": "stderr",
     "output_type": "stream",
     "text": [
      "\n",
      " 10%|█         | 102/1000 [00:47<07:14,  2.07it/s]\u001b[A"
     ]
    },
    {
     "name": "stdout",
     "output_type": "stream",
     "text": [
      "L2 norm of the background error 0.8464986497245107\n",
      "L2 norm of the error in DA solution 4.366513229299452e-17\n",
      "[65631, 46675, 47907, 44651, 21885, 73813, 89353, 95412, 6509, 29395]\n"
     ]
    },
    {
     "name": "stderr",
     "output_type": "stream",
     "text": [
      "\n",
      " 10%|█         | 103/1000 [00:48<07:09,  2.09it/s]\u001b[A"
     ]
    },
    {
     "name": "stdout",
     "output_type": "stream",
     "text": [
      "L2 norm of the background error 0.9227284788136695\n",
      "L2 norm of the error in DA solution 6.528771330171331e-17\n",
      "[51292, 17858, 49950, 47616, 74980, 33972, 12191, 58187, 8575, 13210]\n"
     ]
    },
    {
     "name": "stderr",
     "output_type": "stream",
     "text": [
      "\n",
      " 10%|█         | 104/1000 [00:48<07:03,  2.12it/s]\u001b[A"
     ]
    },
    {
     "name": "stdout",
     "output_type": "stream",
     "text": [
      "L2 norm of the background error 0.596637552366491\n",
      "L2 norm of the error in DA solution 8.04305825132777e-18\n",
      "[93032, 59248, 73900, 44651, 76464, 41341, 9487, 45390, 65501, 19616]\n"
     ]
    },
    {
     "name": "stderr",
     "output_type": "stream",
     "text": [
      "\n",
      " 10%|█         | 105/1000 [00:49<06:59,  2.13it/s]\u001b[A"
     ]
    },
    {
     "name": "stdout",
     "output_type": "stream",
     "text": [
      "L2 norm of the background error 0.7529236340664311\n",
      "L2 norm of the error in DA solution 4.583646795828683e-17\n",
      "[71342, 51581, 51634, 44651, 17019, 17193, 708, 54566, 4245, 17992]\n"
     ]
    },
    {
     "name": "stderr",
     "output_type": "stream",
     "text": [
      "\n",
      " 11%|█         | 106/1000 [00:49<06:56,  2.15it/s]\u001b[A"
     ]
    },
    {
     "name": "stdout",
     "output_type": "stream",
     "text": [
      "L2 norm of the background error 0.477023504371906\n",
      "L2 norm of the error in DA solution 7.693752794506974e-17\n",
      "[17348, 29133, 69952, 47616, 22974, 35567, 75123, 54318, 20243, 24508]\n"
     ]
    },
    {
     "name": "stderr",
     "output_type": "stream",
     "text": [
      "\n",
      " 11%|█         | 107/1000 [00:49<06:54,  2.15it/s]\u001b[A"
     ]
    },
    {
     "name": "stdout",
     "output_type": "stream",
     "text": [
      "L2 norm of the background error 0.814854440918073\n",
      "L2 norm of the error in DA solution 2.2220534961432522e-17\n",
      "[73474, 77712, 44711, 44651, 20460, 50732, 19523, 7640, 19593, 60497]\n"
     ]
    },
    {
     "name": "stderr",
     "output_type": "stream",
     "text": [
      "\n",
      " 11%|█         | 108/1000 [00:50<06:54,  2.15it/s]\u001b[A"
     ]
    },
    {
     "name": "stdout",
     "output_type": "stream",
     "text": [
      "L2 norm of the background error 0.5091362867488615\n",
      "L2 norm of the error in DA solution 4.7616089453764507e-17\n",
      "[31046, 19304, 32177, 47616, 11634, 76609, 47524, 36029, 3359, 47874]\n"
     ]
    },
    {
     "name": "stderr",
     "output_type": "stream",
     "text": [
      "\n",
      " 11%|█         | 109/1000 [00:50<06:52,  2.16it/s]\u001b[A"
     ]
    },
    {
     "name": "stdout",
     "output_type": "stream",
     "text": [
      "L2 norm of the background error 0.4424025935254692\n",
      "L2 norm of the error in DA solution 5.590876090950301e-17\n",
      "[25770, 65911, 31852, 47616, 74590, 56796, 28552, 59683, 21035, 45137]\n"
     ]
    },
    {
     "name": "stderr",
     "output_type": "stream",
     "text": [
      "\n",
      " 11%|█         | 110/1000 [00:51<06:54,  2.15it/s]\u001b[A"
     ]
    },
    {
     "name": "stdout",
     "output_type": "stream",
     "text": [
      "L2 norm of the background error 0.7926302524763097\n",
      "L2 norm of the error in DA solution 5.842397388390699e-17\n",
      "[58963, 77712, 38074, 47616, 6436, 11087, 89208, 55694, 55134, 58677]\n"
     ]
    },
    {
     "name": "stderr",
     "output_type": "stream",
     "text": [
      "\n",
      " 11%|█         | 111/1000 [00:51<06:52,  2.15it/s]\u001b[A"
     ]
    },
    {
     "name": "stdout",
     "output_type": "stream",
     "text": [
      "L2 norm of the background error 0.512510084378978\n",
      "L2 norm of the error in DA solution 5.2529972105498333e-17\n",
      "[73304, 14642, 634, 44651, 20460, 45644, 41062, 34791, 3112, 19654]\n"
     ]
    },
    {
     "name": "stderr",
     "output_type": "stream",
     "text": [
      "\n",
      " 11%|█         | 112/1000 [00:52<06:52,  2.15it/s]\u001b[A"
     ]
    },
    {
     "name": "stdout",
     "output_type": "stream",
     "text": [
      "L2 norm of the background error 0.6978929053896062\n",
      "L2 norm of the error in DA solution 1.0191239603455795e-17\n",
      "[30059, 59741, 65339, 47616, 74980, 94415, 79248, 28062, 2531, 29395]\n"
     ]
    },
    {
     "name": "stderr",
     "output_type": "stream",
     "text": [
      "\n",
      " 11%|█▏        | 113/1000 [00:52<06:51,  2.16it/s]\u001b[A"
     ]
    },
    {
     "name": "stdout",
     "output_type": "stream",
     "text": [
      "L2 norm of the background error 0.565068567701915\n",
      "L2 norm of the error in DA solution 5.8187071938068e-17\n",
      "[53996, 69618, 36320, 47616, 45495, 38729, 76197, 16277, 2569, 19654]\n"
     ]
    },
    {
     "name": "stderr",
     "output_type": "stream",
     "text": [
      "\n",
      " 11%|█▏        | 114/1000 [00:53<06:50,  2.16it/s]\u001b[A"
     ]
    },
    {
     "name": "stdout",
     "output_type": "stream",
     "text": [
      "L2 norm of the background error 0.6508426486462126\n",
      "L2 norm of the error in DA solution 4.5567003659510435e-17\n",
      "[65560, 49155, 89535, 47616, 8951, 27859, 29348, 77888, 31685, 1498]\n"
     ]
    },
    {
     "name": "stderr",
     "output_type": "stream",
     "text": [
      "\n",
      " 12%|█▏        | 115/1000 [00:53<06:50,  2.15it/s]\u001b[A"
     ]
    },
    {
     "name": "stdout",
     "output_type": "stream",
     "text": [
      "L2 norm of the background error 0.699445062413458\n",
      "L2 norm of the error in DA solution 8.585206919406783e-17\n",
      "[57771, 55013, 58653, 47616, 48502, 22735, 22288, 18528, 25137, 53317]\n"
     ]
    },
    {
     "name": "stderr",
     "output_type": "stream",
     "text": [
      "\n",
      " 12%|█▏        | 116/1000 [00:54<06:49,  2.16it/s]\u001b[A"
     ]
    },
    {
     "name": "stdout",
     "output_type": "stream",
     "text": [
      "L2 norm of the background error 0.5508703284275377\n",
      "L2 norm of the error in DA solution 6.617202914024923e-17\n",
      "[9810, 39186, 50494, 44651, 10389, 74665, 46094, 54021, 4245, 55835]\n"
     ]
    },
    {
     "name": "stderr",
     "output_type": "stream",
     "text": [
      "\n",
      " 12%|█▏        | 117/1000 [00:54<06:49,  2.16it/s]\u001b[A"
     ]
    },
    {
     "name": "stdout",
     "output_type": "stream",
     "text": [
      "L2 norm of the background error 0.31469824792518475\n",
      "L2 norm of the error in DA solution 1.9458918231377317e-17\n",
      "[45831, 53229, 46804, 44651, 31198, 8066, 16197, 77911, 6291, 41858]\n"
     ]
    },
    {
     "name": "stderr",
     "output_type": "stream",
     "text": [
      "\n",
      " 12%|█▏        | 118/1000 [00:55<06:47,  2.16it/s]\u001b[A"
     ]
    },
    {
     "name": "stdout",
     "output_type": "stream",
     "text": [
      "L2 norm of the background error 0.4185633329674456\n",
      "L2 norm of the error in DA solution 4.226745900598632e-17\n",
      "[79857, 49784, 21480, 44651, 82371, 70833, 62133, 18916, 22004, 12119]\n"
     ]
    },
    {
     "name": "stderr",
     "output_type": "stream",
     "text": [
      "\n",
      " 12%|█▏        | 119/1000 [00:55<06:48,  2.16it/s]\u001b[A"
     ]
    },
    {
     "name": "stdout",
     "output_type": "stream",
     "text": [
      "L2 norm of the background error 0.5895438421964317\n",
      "L2 norm of the error in DA solution 7.174568771283594e-17\n",
      "[60487, 7763, 16871, 47616, 58253, 42924, 56341, 66329, 57718, 22371]\n"
     ]
    },
    {
     "name": "stderr",
     "output_type": "stream",
     "text": [
      "\n",
      " 12%|█▏        | 120/1000 [00:55<06:47,  2.16it/s]\u001b[A"
     ]
    },
    {
     "name": "stdout",
     "output_type": "stream",
     "text": [
      "L2 norm of the background error 0.5187922567413995\n",
      "L2 norm of the error in DA solution 3.429488138308474e-17\n",
      "[73304, 746, 30348, 47616, 21885, 41341, 41, 45248, 11974, 52795]\n"
     ]
    },
    {
     "name": "stderr",
     "output_type": "stream",
     "text": [
      "\n",
      " 12%|█▏        | 121/1000 [00:56<06:46,  2.16it/s]\u001b[A"
     ]
    },
    {
     "name": "stdout",
     "output_type": "stream",
     "text": [
      "L2 norm of the background error 0.8596344885978576\n",
      "L2 norm of the error in DA solution 1.4820085332175425e-16\n",
      "[43744, 73978, 45886, 44651, 52457, 73758, 57739, 74699, 16593, 52731]\n"
     ]
    },
    {
     "name": "stderr",
     "output_type": "stream",
     "text": [
      "\n",
      " 12%|█▏        | 122/1000 [00:56<06:45,  2.16it/s]\u001b[A"
     ]
    },
    {
     "name": "stdout",
     "output_type": "stream",
     "text": [
      "L2 norm of the background error 0.6397224465816157\n",
      "L2 norm of the error in DA solution 5.2895785325004935e-18\n",
      "[58963, 847, 15388, 44651, 55576, 11667, 42993, 75009, 5068, 20289]\n"
     ]
    },
    {
     "name": "stderr",
     "output_type": "stream",
     "text": [
      "\n",
      " 12%|█▏        | 123/1000 [00:57<06:44,  2.17it/s]\u001b[A"
     ]
    },
    {
     "name": "stdout",
     "output_type": "stream",
     "text": [
      "L2 norm of the background error 0.4728394261574461\n",
      "L2 norm of the error in DA solution 4.626392547710855e-17\n",
      "[90101, 85928, 54634, 44651, 74590, 51353, 10583, 51634, 6245, 27035]\n"
     ]
    },
    {
     "name": "stderr",
     "output_type": "stream",
     "text": [
      "\n",
      " 12%|█▏        | 124/1000 [00:57<06:43,  2.17it/s]\u001b[A"
     ]
    },
    {
     "name": "stdout",
     "output_type": "stream",
     "text": [
      "L2 norm of the background error 0.7925135028533267\n",
      "L2 norm of the error in DA solution 7.320861492893549e-17\n",
      "[70492, 90434, 23093, 44651, 58253, 95273, 76643, 52867, 26460, 56369]\n"
     ]
    },
    {
     "name": "stderr",
     "output_type": "stream",
     "text": [
      "\n",
      " 12%|█▎        | 125/1000 [00:58<06:43,  2.17it/s]\u001b[A"
     ]
    },
    {
     "name": "stdout",
     "output_type": "stream",
     "text": [
      "L2 norm of the background error 0.7827719025370099\n",
      "L2 norm of the error in DA solution 4.022511122672637e-17\n",
      "[39142, 66262, 31035, 44651, 55576, 29164, 68403, 50375, 18902, 25871]\n"
     ]
    },
    {
     "name": "stderr",
     "output_type": "stream",
     "text": [
      "\n",
      " 13%|█▎        | 126/1000 [00:58<06:59,  2.08it/s]\u001b[A"
     ]
    },
    {
     "name": "stdout",
     "output_type": "stream",
     "text": [
      "L2 norm of the background error 0.6773844721748596\n",
      "L2 norm of the error in DA solution 3.6955905928558334e-17\n",
      "[90959, 63183, 55998, 44651, 45495, 37760, 30104, 42592, 9841, 40282]\n"
     ]
    },
    {
     "name": "stderr",
     "output_type": "stream",
     "text": [
      "\n",
      " 13%|█▎        | 127/1000 [00:59<07:04,  2.05it/s]\u001b[A"
     ]
    },
    {
     "name": "stdout",
     "output_type": "stream",
     "text": [
      "L2 norm of the background error 1.1927409839143448\n",
      "L2 norm of the error in DA solution 3.087525472347664e-17\n",
      "[23252, 16769, 48185, 44651, 52457, 18977, 49746, 28012, 11722, 39245]\n"
     ]
    },
    {
     "name": "stderr",
     "output_type": "stream",
     "text": [
      "\n",
      " 13%|█▎        | 128/1000 [00:59<06:57,  2.09it/s]\u001b[A"
     ]
    },
    {
     "name": "stdout",
     "output_type": "stream",
     "text": [
      "L2 norm of the background error 0.4322120998427535\n",
      "L2 norm of the error in DA solution 2.34893650306067e-17\n",
      "[58963, 971, 53880, 47616, 52430, 58272, 28528, 54795, 8099, 2814]\n"
     ]
    },
    {
     "name": "stderr",
     "output_type": "stream",
     "text": [
      "\n",
      " 13%|█▎        | 129/1000 [01:00<06:53,  2.11it/s]\u001b[A"
     ]
    },
    {
     "name": "stdout",
     "output_type": "stream",
     "text": [
      "L2 norm of the background error 0.6974348700823122\n",
      "L2 norm of the error in DA solution 8.345452378029893e-17\n",
      "[22454, 53048, 36070, 44651, 48502, 52107, 68457, 19571, 25137, 55953]\n"
     ]
    },
    {
     "name": "stderr",
     "output_type": "stream",
     "text": [
      "\n",
      " 13%|█▎        | 130/1000 [01:00<06:49,  2.12it/s]\u001b[A"
     ]
    },
    {
     "name": "stdout",
     "output_type": "stream",
     "text": [
      "L2 norm of the background error 0.7243553070762657\n",
      "L2 norm of the error in DA solution 5.061634975404294e-17\n",
      "[66290, 93235, 44038, 47616, 52430, 32808, 16935, 45871, 10729, 2858]\n"
     ]
    },
    {
     "name": "stderr",
     "output_type": "stream",
     "text": [
      "\n",
      " 13%|█▎        | 131/1000 [01:01<06:46,  2.14it/s]\u001b[A"
     ]
    },
    {
     "name": "stdout",
     "output_type": "stream",
     "text": [
      "L2 norm of the background error 0.5138499164649695\n",
      "L2 norm of the error in DA solution 1.862950146078647e-17\n",
      "[31459, 12025, 56960, 47616, 52828, 29718, 13764, 68766, 29026, 16496]\n"
     ]
    },
    {
     "name": "stderr",
     "output_type": "stream",
     "text": [
      "\n",
      " 13%|█▎        | 132/1000 [01:01<06:44,  2.14it/s]\u001b[A"
     ]
    },
    {
     "name": "stdout",
     "output_type": "stream",
     "text": [
      "L2 norm of the background error 0.7651612852701987\n",
      "L2 norm of the error in DA solution 4.7226703665644836e-17\n",
      "[14929, 14277, 15426, 47616, 22974, 35843, 63324, 51147, 6771, 74128]\n"
     ]
    },
    {
     "name": "stderr",
     "output_type": "stream",
     "text": [
      "\n",
      " 13%|█▎        | 133/1000 [01:02<06:42,  2.15it/s]\u001b[A"
     ]
    },
    {
     "name": "stdout",
     "output_type": "stream",
     "text": [
      "L2 norm of the background error 0.6372705591632438\n",
      "L2 norm of the error in DA solution 2.239967663569165e-17\n",
      "[24168, 9527, 58765, 47616, 76464, 48591, 22306, 68856, 18113, 9836]\n"
     ]
    },
    {
     "name": "stderr",
     "output_type": "stream",
     "text": [
      "\n",
      " 13%|█▎        | 134/1000 [01:02<06:43,  2.15it/s]\u001b[A"
     ]
    },
    {
     "name": "stdout",
     "output_type": "stream",
     "text": [
      "L2 norm of the background error 0.9690158340929111\n",
      "L2 norm of the error in DA solution 1.6618197338195257e-16\n",
      "[79423, 32617, 17865, 44651, 31198, 1239, 59696, 87271, 6771, 16985]\n"
     ]
    },
    {
     "name": "stderr",
     "output_type": "stream",
     "text": [
      "\n",
      " 14%|█▎        | 135/1000 [01:03<06:41,  2.15it/s]\u001b[A"
     ]
    },
    {
     "name": "stdout",
     "output_type": "stream",
     "text": [
      "L2 norm of the background error 0.3552689231389443\n",
      "L2 norm of the error in DA solution 2.548159519756181e-18\n",
      "[77579, 78261, 44447, 47616, 82371, 57064, 47900, 49983, 42088, 47874]\n"
     ]
    },
    {
     "name": "stderr",
     "output_type": "stream",
     "text": [
      "\n",
      " 14%|█▎        | 136/1000 [01:03<06:39,  2.16it/s]\u001b[A"
     ]
    },
    {
     "name": "stdout",
     "output_type": "stream",
     "text": [
      "L2 norm of the background error 0.24726633350804572\n",
      "L2 norm of the error in DA solution 3.030476124728445e-17\n",
      "[63961, 54840, 50845, 47616, 17019, 69570, 32840, 42593, 7418, 13210]\n"
     ]
    },
    {
     "name": "stderr",
     "output_type": "stream",
     "text": [
      "\n",
      " 14%|█▎        | 137/1000 [01:03<06:38,  2.17it/s]\u001b[A"
     ]
    },
    {
     "name": "stdout",
     "output_type": "stream",
     "text": [
      "L2 norm of the background error 0.578764873864677\n",
      "L2 norm of the error in DA solution 5.196607595172253e-17\n",
      "[32014, 8413, 38794, 47616, 10048, 38295, 66211, 69182, 23686, 14225]\n"
     ]
    },
    {
     "name": "stderr",
     "output_type": "stream",
     "text": [
      "\n",
      " 14%|█▍        | 138/1000 [01:04<06:40,  2.15it/s]\u001b[A"
     ]
    },
    {
     "name": "stdout",
     "output_type": "stream",
     "text": [
      "L2 norm of the background error 0.6600507002661997\n",
      "L2 norm of the error in DA solution 8.376615847556305e-17\n",
      "[49537, 78646, 69773, 44651, 22974, 41574, 709, 16277, 8777, 40673]\n"
     ]
    },
    {
     "name": "stderr",
     "output_type": "stream",
     "text": [
      "\n",
      " 14%|█▍        | 139/1000 [01:04<06:39,  2.16it/s]\u001b[A"
     ]
    },
    {
     "name": "stdout",
     "output_type": "stream",
     "text": [
      "L2 norm of the background error 0.2512952694670159\n",
      "L2 norm of the error in DA solution 1.256837362922403e-17\n",
      "[14465, 32075, 53134, 44651, 75175, 26988, 48384, 45805, 19165, 2860]\n"
     ]
    },
    {
     "name": "stderr",
     "output_type": "stream",
     "text": [
      "\n",
      " 14%|█▍        | 140/1000 [01:05<06:41,  2.14it/s]\u001b[A"
     ]
    },
    {
     "name": "stdout",
     "output_type": "stream",
     "text": [
      "L2 norm of the background error 0.596079529412486\n",
      "L2 norm of the error in DA solution 2.9556932558020736e-17\n",
      "[63410, 59811, 89500, 44651, 74980, 55532, 66138, 77137, 5026, 74129]\n"
     ]
    },
    {
     "name": "stderr",
     "output_type": "stream",
     "text": [
      "\n",
      " 14%|█▍        | 141/1000 [01:05<06:40,  2.15it/s]\u001b[A"
     ]
    },
    {
     "name": "stdout",
     "output_type": "stream",
     "text": [
      "L2 norm of the background error 0.7866627420762086\n",
      "L2 norm of the error in DA solution 1.9902156913821274e-16\n",
      "[80045, 71966, 68494, 47616, 48009, 52040, 542, 54874, 40955, 56369]\n"
     ]
    },
    {
     "name": "stderr",
     "output_type": "stream",
     "text": [
      "\n",
      " 14%|█▍        | 142/1000 [01:06<06:38,  2.15it/s]\u001b[A"
     ]
    },
    {
     "name": "stdout",
     "output_type": "stream",
     "text": [
      "L2 norm of the background error 0.8061916907558346\n",
      "L2 norm of the error in DA solution 3.7781292895166425e-17\n",
      "[35366, 30085, 69952, 47616, 20460, 56777, 16870, 54697, 18289, 21938]\n"
     ]
    },
    {
     "name": "stderr",
     "output_type": "stream",
     "text": [
      "\n",
      " 14%|█▍        | 143/1000 [01:06<06:36,  2.16it/s]\u001b[A"
     ]
    },
    {
     "name": "stdout",
     "output_type": "stream",
     "text": [
      "L2 norm of the background error 0.35642497217758234\n",
      "L2 norm of the error in DA solution 3.478040244453449e-17\n",
      "[69140, 42775, 7638, 44651, 10048, 89462, 49056, 58517, 8754, 17017]\n"
     ]
    },
    {
     "name": "stderr",
     "output_type": "stream",
     "text": [
      "\n",
      " 14%|█▍        | 144/1000 [01:07<06:35,  2.16it/s]\u001b[A"
     ]
    },
    {
     "name": "stdout",
     "output_type": "stream",
     "text": [
      "L2 norm of the background error 1.1037618953391586\n",
      "L2 norm of the error in DA solution 1.1939313574635186e-16\n",
      "[46708, 82355, 52867, 44651, 18750, 21399, 16197, 13437, 6452, 1990]\n"
     ]
    },
    {
     "name": "stderr",
     "output_type": "stream",
     "text": [
      "\n",
      " 14%|█▍        | 145/1000 [01:07<06:34,  2.17it/s]\u001b[A"
     ]
    },
    {
     "name": "stdout",
     "output_type": "stream",
     "text": [
      "L2 norm of the background error 0.6855171326927599\n",
      "L2 norm of the error in DA solution 4.2101911551330805e-17\n",
      "[25770, 72345, 19756, 47616, 18750, 89681, 16869, 31733, 8328, 26652]\n"
     ]
    },
    {
     "name": "stderr",
     "output_type": "stream",
     "text": [
      "\n",
      " 15%|█▍        | 146/1000 [01:08<06:35,  2.16it/s]\u001b[A"
     ]
    },
    {
     "name": "stdout",
     "output_type": "stream",
     "text": [
      "L2 norm of the background error 0.8738166171735698\n",
      "L2 norm of the error in DA solution 2.2401930010535156e-17\n",
      "[43744, 34696, 33367, 44651, 74980, 27542, 74830, 52742, 9534, 60179]\n"
     ]
    },
    {
     "name": "stderr",
     "output_type": "stream",
     "text": [
      "\n",
      " 15%|█▍        | 147/1000 [01:08<06:34,  2.16it/s]\u001b[A"
     ]
    },
    {
     "name": "stdout",
     "output_type": "stream",
     "text": [
      "L2 norm of the background error 0.9245859068150455\n",
      "L2 norm of the error in DA solution 6.75731165450616e-17\n",
      "[56516, 8734, 38794, 44651, 76464, 12633, 53226, 70702, 604, 53040]\n"
     ]
    },
    {
     "name": "stderr",
     "output_type": "stream",
     "text": [
      "\n",
      " 15%|█▍        | 148/1000 [01:09<06:33,  2.17it/s]\u001b[A"
     ]
    },
    {
     "name": "stdout",
     "output_type": "stream",
     "text": [
      "L2 norm of the background error 0.5366381596133184\n",
      "L2 norm of the error in DA solution 1.1165480255111818e-17\n",
      "[90926, 47299, 69036, 47616, 31198, 48510, 74530, 39344, 10772, 6803]\n"
     ]
    },
    {
     "name": "stderr",
     "output_type": "stream",
     "text": [
      "\n",
      " 15%|█▍        | 149/1000 [01:09<06:32,  2.17it/s]\u001b[A"
     ]
    },
    {
     "name": "stdout",
     "output_type": "stream",
     "text": [
      "L2 norm of the background error 0.3232108391110465\n",
      "L2 norm of the error in DA solution 4.678133395253361e-17\n",
      "[21536, 53048, 17865, 47616, 52828, 38415, 47876, 60402, 4236, 1498]\n"
     ]
    },
    {
     "name": "stderr",
     "output_type": "stream",
     "text": [
      "\n",
      " 15%|█▌        | 150/1000 [01:09<06:31,  2.17it/s]\u001b[A"
     ]
    },
    {
     "name": "stdout",
     "output_type": "stream",
     "text": [
      "L2 norm of the background error 0.32933875592720935\n",
      "L2 norm of the error in DA solution 2.321886477714529e-17\n",
      "[46708, 16763, 53242, 47616, 1466, 39879, 51160, 41465, 1306, 60219]\n"
     ]
    },
    {
     "name": "stderr",
     "output_type": "stream",
     "text": [
      "\n",
      " 15%|█▌        | 151/1000 [01:10<06:31,  2.17it/s]\u001b[A"
     ]
    },
    {
     "name": "stdout",
     "output_type": "stream",
     "text": [
      "L2 norm of the background error 0.6330393349705642\n",
      "L2 norm of the error in DA solution 3.551760996065784e-17\n",
      "[28405, 78032, 48091, 44651, 74590, 89855, 42225, 90262, 10772, 27285]\n"
     ]
    },
    {
     "name": "stderr",
     "output_type": "stream",
     "text": [
      "\n",
      " 15%|█▌        | 152/1000 [01:10<06:31,  2.17it/s]\u001b[A"
     ]
    },
    {
     "name": "stdout",
     "output_type": "stream",
     "text": [
      "L2 norm of the background error 0.5290667698205039\n",
      "L2 norm of the error in DA solution 5.0356086103307323e-17\n",
      "[81356, 15547, 90408, 44651, 47734, 67424, 46692, 55369, 26460, 58368]\n"
     ]
    },
    {
     "name": "stderr",
     "output_type": "stream",
     "text": [
      "\n",
      " 15%|█▌        | 153/1000 [01:11<06:31,  2.16it/s]\u001b[A"
     ]
    },
    {
     "name": "stdout",
     "output_type": "stream",
     "text": [
      "L2 norm of the background error 0.5798705486824718\n",
      "L2 norm of the error in DA solution 2.716085608997699e-17\n",
      "[78732, 7732, 42549, 47616, 20460, 49586, 708, 75480, 42057, 40609]\n"
     ]
    },
    {
     "name": "stderr",
     "output_type": "stream",
     "text": [
      "\n",
      " 15%|█▌        | 154/1000 [01:11<06:31,  2.16it/s]\u001b[A"
     ]
    },
    {
     "name": "stdout",
     "output_type": "stream",
     "text": [
      "L2 norm of the background error 0.40153383241577223\n",
      "L2 norm of the error in DA solution 4.3942109621928243e-17\n",
      "[33507, 76132, 18840, 47616, 8676, 31616, 57711, 9865, 12081, 6803]\n"
     ]
    },
    {
     "name": "stderr",
     "output_type": "stream",
     "text": [
      "\n",
      " 16%|█▌        | 155/1000 [01:12<06:30,  2.16it/s]\u001b[A"
     ]
    },
    {
     "name": "stdout",
     "output_type": "stream",
     "text": [
      "L2 norm of the background error 0.5795827328933522\n",
      "L2 norm of the error in DA solution 3.4287650926098325e-17\n",
      "[18816, 55258, 542, 47616, 1466, 67231, 60923, 49697, 4768, 15146]\n"
     ]
    },
    {
     "name": "stderr",
     "output_type": "stream",
     "text": [
      "\n",
      " 16%|█▌        | 156/1000 [01:12<06:31,  2.16it/s]\u001b[A"
     ]
    },
    {
     "name": "stdout",
     "output_type": "stream",
     "text": [
      "L2 norm of the background error 0.7787046984228073\n",
      "L2 norm of the error in DA solution 9.414484901113272e-17\n",
      "[64860, 24668, 4693, 44651, 8676, 34717, 48742, 46598, 10489, 22942]\n"
     ]
    },
    {
     "name": "stderr",
     "output_type": "stream",
     "text": [
      "\n",
      " 16%|█▌        | 157/1000 [01:13<06:29,  2.16it/s]\u001b[A"
     ]
    },
    {
     "name": "stdout",
     "output_type": "stream",
     "text": [
      "L2 norm of the background error 0.6636153907035748\n",
      "L2 norm of the error in DA solution 5.133214112448718e-17\n",
      "[61654, 14277, 25757, 47616, 11634, 33202, 50494, 53740, 1268, 14748]\n"
     ]
    },
    {
     "name": "stderr",
     "output_type": "stream",
     "text": [
      "\n",
      " 16%|█▌        | 158/1000 [01:13<06:30,  2.15it/s]\u001b[A"
     ]
    },
    {
     "name": "stdout",
     "output_type": "stream",
     "text": [
      "L2 norm of the background error 0.5106553551171192\n",
      "L2 norm of the error in DA solution 1.431859592881338e-16\n",
      "[65631, 35159, 542, 44651, 20460, 22732, 60926, 56128, 38699, 57545]\n"
     ]
    },
    {
     "name": "stderr",
     "output_type": "stream",
     "text": [
      "\n",
      " 16%|█▌        | 159/1000 [01:14<06:28,  2.16it/s]\u001b[A"
     ]
    },
    {
     "name": "stdout",
     "output_type": "stream",
     "text": [
      "L2 norm of the background error 0.993323972038731\n",
      "L2 norm of the error in DA solution 2.133118941223783e-17\n",
      "[20945, 34014, 7183, 47616, 47734, 55488, 933, 19571, 25980, 48370]\n"
     ]
    },
    {
     "name": "stderr",
     "output_type": "stream",
     "text": [
      "\n",
      " 16%|█▌        | 160/1000 [01:14<06:27,  2.17it/s]\u001b[A"
     ]
    },
    {
     "name": "stdout",
     "output_type": "stream",
     "text": [
      "L2 norm of the background error 0.9479061998263622\n",
      "L2 norm of the error in DA solution 1.3370390234326904e-16\n",
      "[24771, 24589, 30268, 47616, 47734, 22736, 21168, 56527, 19391, 18918]\n"
     ]
    },
    {
     "name": "stderr",
     "output_type": "stream",
     "text": [
      "\n",
      " 16%|█▌        | 161/1000 [01:15<06:27,  2.16it/s]\u001b[A"
     ]
    },
    {
     "name": "stdout",
     "output_type": "stream",
     "text": [
      "L2 norm of the background error 0.455658955207656\n",
      "L2 norm of the error in DA solution 6.178209454148643e-17\n",
      "[24904, 37911, 54634, 44651, 17018, 83968, 45614, 40071, 29316, 19615]\n"
     ]
    },
    {
     "name": "stderr",
     "output_type": "stream",
     "text": [
      "\n",
      " 16%|█▌        | 162/1000 [01:15<06:27,  2.17it/s]\u001b[A"
     ]
    },
    {
     "name": "stdout",
     "output_type": "stream",
     "text": [
      "L2 norm of the background error 0.44163740644752153\n",
      "L2 norm of the error in DA solution 8.082657109483463e-17\n",
      "[17348, 53933, 71357, 47616, 22974, 38494, 45878, 54874, 3077, 23362]\n"
     ]
    },
    {
     "name": "stderr",
     "output_type": "stream",
     "text": [
      "\n",
      " 16%|█▋        | 163/1000 [01:15<06:27,  2.16it/s]\u001b[A"
     ]
    },
    {
     "name": "stdout",
     "output_type": "stream",
     "text": [
      "L2 norm of the background error 0.422826214508135\n",
      "L2 norm of the error in DA solution 2.6807773937260287e-17\n",
      "[61242, 44347, 30316, 44651, 48502, 27619, 36061, 57721, 35160, 40609]\n"
     ]
    },
    {
     "name": "stderr",
     "output_type": "stream",
     "text": [
      "\n",
      " 16%|█▋        | 164/1000 [01:16<06:26,  2.16it/s]\u001b[A"
     ]
    },
    {
     "name": "stdout",
     "output_type": "stream",
     "text": [
      "L2 norm of the background error 0.7652159117689963\n",
      "L2 norm of the error in DA solution 4.2473731993265956e-17\n",
      "[9406, 53263, 49852, 44651, 48009, 27619, 70666, 41465, 3334, 59583]\n"
     ]
    },
    {
     "name": "stderr",
     "output_type": "stream",
     "text": [
      "\n",
      " 16%|█▋        | 165/1000 [01:16<06:25,  2.17it/s]\u001b[A"
     ]
    },
    {
     "name": "stdout",
     "output_type": "stream",
     "text": [
      "L2 norm of the background error 0.4728024925491485\n",
      "L2 norm of the error in DA solution 1.740487767582779e-17\n",
      "[21537, 74956, 33444, 44651, 40998, 77971, 68368, 56947, 3360, 40282]\n"
     ]
    },
    {
     "name": "stderr",
     "output_type": "stream",
     "text": [
      "\n",
      " 17%|█▋        | 166/1000 [01:17<06:24,  2.17it/s]\u001b[A"
     ]
    },
    {
     "name": "stdout",
     "output_type": "stream",
     "text": [
      "L2 norm of the background error 0.8694986908170307\n",
      "L2 norm of the error in DA solution 6.022313316510063e-17\n",
      "[32014, 55258, 90396, 44651, 8951, 49120, 55249, 22373, 35095, 12488]\n"
     ]
    },
    {
     "name": "stderr",
     "output_type": "stream",
     "text": [
      "\n",
      " 17%|█▋        | 167/1000 [01:17<06:23,  2.17it/s]\u001b[A"
     ]
    },
    {
     "name": "stdout",
     "output_type": "stream",
     "text": [
      "L2 norm of the background error 0.5082825412229417\n",
      "L2 norm of the error in DA solution 1.4762553884494457e-16\n",
      "[63410, 18040, 68955, 47616, 17018, 44343, 55231, 30655, 8098, 6864]\n"
     ]
    },
    {
     "name": "stderr",
     "output_type": "stream",
     "text": [
      "\n",
      " 17%|█▋        | 168/1000 [01:18<06:24,  2.16it/s]\u001b[A"
     ]
    },
    {
     "name": "stdout",
     "output_type": "stream",
     "text": [
      "L2 norm of the background error 0.6224988548850018\n",
      "L2 norm of the error in DA solution 7.670122159902089e-18\n",
      "[46708, 40251, 49511, 44651, 31198, 61018, 49852, 89778, 12461, 10087]\n"
     ]
    },
    {
     "name": "stderr",
     "output_type": "stream",
     "text": [
      "\n",
      " 17%|█▋        | 169/1000 [01:18<06:23,  2.17it/s]\u001b[A"
     ]
    },
    {
     "name": "stdout",
     "output_type": "stream",
     "text": [
      "L2 norm of the background error 0.54121312437411\n",
      "L2 norm of the error in DA solution 2.0525685605142668e-17\n",
      "[14868, 11464, 78635, 47616, 52457, 37678, 89208, 24766, 25139, 12047]\n"
     ]
    },
    {
     "name": "stderr",
     "output_type": "stream",
     "text": [
      "\n",
      " 17%|█▋        | 170/1000 [01:19<06:22,  2.17it/s]\u001b[A"
     ]
    },
    {
     "name": "stdout",
     "output_type": "stream",
     "text": [
      "L2 norm of the background error 0.7820946093524868\n",
      "L2 norm of the error in DA solution 9.75544074077713e-17\n",
      "[61242, 8701, 12220, 47616, 8951, 9969, 7699, 39333, 10171, 40281]\n"
     ]
    },
    {
     "name": "stderr",
     "output_type": "stream",
     "text": [
      "\n",
      " 17%|█▋        | 171/1000 [01:19<06:22,  2.17it/s]\u001b[A"
     ]
    },
    {
     "name": "stdout",
     "output_type": "stream",
     "text": [
      "L2 norm of the background error 0.8053797098989129\n",
      "L2 norm of the error in DA solution 6.799254105500253e-17\n",
      "[71791, 47048, 75142, 44651, 40998, 27542, 77888, 60712, 1095, 12488]\n"
     ]
    },
    {
     "name": "stderr",
     "output_type": "stream",
     "text": [
      "\n",
      " 17%|█▋        | 172/1000 [01:20<06:23,  2.16it/s]\u001b[A"
     ]
    },
    {
     "name": "stdout",
     "output_type": "stream",
     "text": [
      "L2 norm of the background error 0.975205957191\n",
      "L2 norm of the error in DA solution 2.1743159090831064e-16\n",
      "[90155, 24668, 7761, 44651, 48502, 2782, 38884, 55986, 1685, 4200]\n"
     ]
    },
    {
     "name": "stderr",
     "output_type": "stream",
     "text": [
      "\n",
      " 17%|█▋        | 173/1000 [01:20<06:22,  2.16it/s]\u001b[A"
     ]
    },
    {
     "name": "stdout",
     "output_type": "stream",
     "text": [
      "L2 norm of the background error 1.0275090150349615\n",
      "L2 norm of the error in DA solution 8.473869120806757e-17\n",
      "[24168, 23365, 412, 47616, 40998, 42210, 31915, 97114, 47799, 10439]\n"
     ]
    },
    {
     "name": "stderr",
     "output_type": "stream",
     "text": [
      "\n",
      " 17%|█▋        | 174/1000 [01:21<06:25,  2.14it/s]\u001b[A"
     ]
    },
    {
     "name": "stdout",
     "output_type": "stream",
     "text": [
      "L2 norm of the background error 0.552658852546671\n",
      "L2 norm of the error in DA solution 6.608549393511609e-17\n",
      "[62677, 82356, 30169, 47616, 31198, 55135, 16871, 20799, 8015, 20288]\n"
     ]
    },
    {
     "name": "stderr",
     "output_type": "stream",
     "text": [
      "\n",
      " 18%|█▊        | 175/1000 [01:21<06:24,  2.15it/s]\u001b[A"
     ]
    },
    {
     "name": "stdout",
     "output_type": "stream",
     "text": [
      "L2 norm of the background error 0.4073022664086956\n",
      "L2 norm of the error in DA solution 5.78102794124138e-17\n",
      "[28446, 39186, 67599, 47616, 6436, 82362, 48059, 32705, 5068, 51261]\n"
     ]
    },
    {
     "name": "stderr",
     "output_type": "stream",
     "text": [
      "\n",
      " 18%|█▊        | 176/1000 [01:21<06:23,  2.15it/s]\u001b[A"
     ]
    },
    {
     "name": "stdout",
     "output_type": "stream",
     "text": [
      "L2 norm of the background error 0.6854181753159625\n",
      "L2 norm of the error in DA solution 1.1373394648872748e-16\n",
      "[24141, 77672, 69794, 47616, 52430, 22021, 2752, 32705, 4826, 61592]\n"
     ]
    },
    {
     "name": "stderr",
     "output_type": "stream",
     "text": [
      "\n",
      " 18%|█▊        | 177/1000 [01:22<06:21,  2.16it/s]\u001b[A"
     ]
    },
    {
     "name": "stdout",
     "output_type": "stream",
     "text": [
      "L2 norm of the background error 0.6906420102671823\n",
      "L2 norm of the error in DA solution 8.417655503682423e-17\n",
      "[17348, 9527, 74031, 47616, 22974, 33391, 66303, 50612, 19296, 10504]\n"
     ]
    },
    {
     "name": "stderr",
     "output_type": "stream",
     "text": [
      "\n",
      " 18%|█▊        | 178/1000 [01:22<06:20,  2.16it/s]\u001b[A"
     ]
    },
    {
     "name": "stdout",
     "output_type": "stream",
     "text": [
      "L2 norm of the background error 1.0852514820449182\n",
      "L2 norm of the error in DA solution 1.595078560148409e-16\n",
      "[43145, 56677, 78171, 47616, 52430, 78068, 57234, 56488, 35020, 60117]\n"
     ]
    },
    {
     "name": "stderr",
     "output_type": "stream",
     "text": [
      "\n",
      " 18%|█▊        | 179/1000 [01:23<06:20,  2.16it/s]\u001b[A"
     ]
    },
    {
     "name": "stdout",
     "output_type": "stream",
     "text": [
      "L2 norm of the background error 0.38393426664329616\n",
      "L2 norm of the error in DA solution 2.8213543357893294e-17\n",
      "[15591, 40251, 47977, 44651, 52457, 30407, 93797, 41670, 11303, 3732]\n"
     ]
    },
    {
     "name": "stderr",
     "output_type": "stream",
     "text": [
      "\n",
      " 18%|█▊        | 180/1000 [01:23<06:18,  2.16it/s]\u001b[A"
     ]
    },
    {
     "name": "stdout",
     "output_type": "stream",
     "text": [
      "L2 norm of the background error 0.738487876353274\n",
      "L2 norm of the error in DA solution 3.27932351515142e-17\n",
      "[36197, 42775, 54223, 44651, 55576, 46462, 43251, 50612, 30274, 57545]\n"
     ]
    },
    {
     "name": "stderr",
     "output_type": "stream",
     "text": [
      "\n",
      " 18%|█▊        | 181/1000 [01:24<06:19,  2.16it/s]\u001b[A"
     ]
    },
    {
     "name": "stdout",
     "output_type": "stream",
     "text": [
      "L2 norm of the background error 0.5636018733400519\n",
      "L2 norm of the error in DA solution 3.3039558909707296e-17\n",
      "[34300, 75107, 45812, 47616, 48009, 39892, 75050, 52742, 9841, 16279]\n"
     ]
    },
    {
     "name": "stderr",
     "output_type": "stream",
     "text": [
      "\n",
      " 18%|█▊        | 182/1000 [01:24<06:18,  2.16it/s]\u001b[A"
     ]
    },
    {
     "name": "stdout",
     "output_type": "stream",
     "text": [
      "L2 norm of the background error 0.6199911951489012\n",
      "L2 norm of the error in DA solution 7.553082390305711e-17\n",
      "[2739, 33059, 43093, 47616, 74980, 33390, 92076, 38670, 8015, 21604]\n"
     ]
    },
    {
     "name": "stderr",
     "output_type": "stream",
     "text": [
      "\n",
      " 18%|█▊        | 183/1000 [01:25<06:18,  2.16it/s]\u001b[A"
     ]
    },
    {
     "name": "stdout",
     "output_type": "stream",
     "text": [
      "L2 norm of the background error 0.924975393461052\n",
      "L2 norm of the error in DA solution 8.783018197208554e-17\n",
      "[49537, 74085, 63955, 44651, 74980, 41341, 28314, 59020, 2858, 43305]\n"
     ]
    },
    {
     "name": "stderr",
     "output_type": "stream",
     "text": [
      "\n",
      " 18%|█▊        | 184/1000 [01:25<06:19,  2.15it/s]\u001b[A"
     ]
    },
    {
     "name": "stdout",
     "output_type": "stream",
     "text": [
      "L2 norm of the background error 0.6065037185385765\n",
      "L2 norm of the error in DA solution 7.407619178866215e-17\n",
      "[28405, 24533, 18021, 47616, 12495, 34380, 76197, 66289, 9668, 8412]\n"
     ]
    },
    {
     "name": "stderr",
     "output_type": "stream",
     "text": [
      "\n",
      " 18%|█▊        | 185/1000 [01:26<06:35,  2.06it/s]\u001b[A"
     ]
    },
    {
     "name": "stdout",
     "output_type": "stream",
     "text": [
      "L2 norm of the background error 0.7454923869467285\n",
      "L2 norm of the error in DA solution 8.497689377142298e-17\n",
      "[72404, 90429, 49966, 44651, 1466, 44340, 41297, 55986, 25461, 28825]\n"
     ]
    },
    {
     "name": "stderr",
     "output_type": "stream",
     "text": [
      "\n",
      " 19%|█▊        | 186/1000 [01:26<06:44,  2.01it/s]\u001b[A"
     ]
    },
    {
     "name": "stdout",
     "output_type": "stream",
     "text": [
      "L2 norm of the background error 1.0759049725552543\n",
      "L2 norm of the error in DA solution 5.110571809819696e-17\n",
      "[71393, 18041, 69240, 44651, 48009, 73957, 53592, 32288, 21035, 31613]\n"
     ]
    },
    {
     "name": "stderr",
     "output_type": "stream",
     "text": [
      "\n",
      " 19%|█▊        | 187/1000 [01:27<06:54,  1.96it/s]\u001b[A"
     ]
    },
    {
     "name": "stdout",
     "output_type": "stream",
     "text": [
      "L2 norm of the background error 0.5473923477895924\n",
      "L2 norm of the error in DA solution 1.681927920191057e-17\n",
      "[16980, 48730, 26202, 47616, 6436, 24176, 15681, 8225, 10384, 24667]\n"
     ]
    },
    {
     "name": "stderr",
     "output_type": "stream",
     "text": [
      "\n",
      " 19%|█▉        | 188/1000 [01:27<06:58,  1.94it/s]\u001b[A"
     ]
    },
    {
     "name": "stdout",
     "output_type": "stream",
     "text": [
      "L2 norm of the background error 1.0395706296415899\n",
      "L2 norm of the error in DA solution 4.361176706834332e-17\n",
      "[85813, 18041, 47977, 44651, 52828, 35090, 75048, 38562, 2238, 13773]\n"
     ]
    },
    {
     "name": "stderr",
     "output_type": "stream",
     "text": [
      "\n",
      " 19%|█▉        | 189/1000 [01:28<06:58,  1.94it/s]\u001b[A"
     ]
    },
    {
     "name": "stdout",
     "output_type": "stream",
     "text": [
      "L2 norm of the background error 0.3388650963370277\n",
      "L2 norm of the error in DA solution 3.0833839684942025e-17\n",
      "[24167, 49632, 19742, 47616, 74980, 46321, 47263, 74250, 4010, 45137]\n"
     ]
    },
    {
     "name": "stderr",
     "output_type": "stream",
     "text": [
      "\n",
      " 19%|█▉        | 190/1000 [01:28<07:00,  1.92it/s]\u001b[A"
     ]
    },
    {
     "name": "stdout",
     "output_type": "stream",
     "text": [
      "L2 norm of the background error 0.42176281038951413\n",
      "L2 norm of the error in DA solution 3.053065893775228e-17\n",
      "[27113, 46675, 52342, 47616, 18750, 76271, 66427, 37125, 8173, 28825]\n"
     ]
    },
    {
     "name": "stderr",
     "output_type": "stream",
     "text": [
      "\n",
      " 19%|█▉        | 191/1000 [01:29<07:00,  1.92it/s]\u001b[A"
     ]
    },
    {
     "name": "stdout",
     "output_type": "stream",
     "text": [
      "L2 norm of the background error 0.6281149213852152\n",
      "L2 norm of the error in DA solution 1.13159214638431e-16\n",
      "[64861, 47048, 56816, 47616, 76464, 26988, 27948, 45517, 3334, 1498]\n"
     ]
    },
    {
     "name": "stderr",
     "output_type": "stream",
     "text": [
      "\n",
      " 19%|█▉        | 192/1000 [01:29<06:59,  1.93it/s]\u001b[A"
     ]
    },
    {
     "name": "stdout",
     "output_type": "stream",
     "text": [
      "L2 norm of the background error 0.6080688970808878\n",
      "L2 norm of the error in DA solution 3.2899768285240484e-17\n",
      "[42013, 32636, 34167, 47616, 18750, 94378, 14514, 56947, 52229, 10357]\n"
     ]
    },
    {
     "name": "stderr",
     "output_type": "stream",
     "text": [
      "\n",
      " 19%|█▉        | 193/1000 [01:30<07:00,  1.92it/s]\u001b[A"
     ]
    },
    {
     "name": "stdout",
     "output_type": "stream",
     "text": [
      "L2 norm of the background error 0.7621368508106833\n",
      "L2 norm of the error in DA solution 1.2435947017224826e-16\n",
      "[57831, 46287, 78089, 44651, 75175, 68847, 71332, 44712, 8099, 27398]\n"
     ]
    },
    {
     "name": "stderr",
     "output_type": "stream",
     "text": [
      "\n",
      " 19%|█▉        | 194/1000 [01:30<06:59,  1.92it/s]\u001b[A"
     ]
    },
    {
     "name": "stdout",
     "output_type": "stream",
     "text": [
      "L2 norm of the background error 0.7460935287520817\n",
      "L2 norm of the error in DA solution 7.550175114566669e-17\n",
      "[69140, 89382, 49561, 47616, 47734, 929, 22306, 56946, 3360, 9689]\n"
     ]
    },
    {
     "name": "stderr",
     "output_type": "stream",
     "text": [
      "\n",
      " 20%|█▉        | 195/1000 [01:31<06:58,  1.92it/s]\u001b[A"
     ]
    },
    {
     "name": "stdout",
     "output_type": "stream",
     "text": [
      "L2 norm of the background error 0.8674173588301927\n",
      "L2 norm of the error in DA solution 9.847883494286939e-17\n",
      "[90155, 77712, 48553, 44651, 31198, 63382, 36061, 59473, 25139, 10130]\n"
     ]
    },
    {
     "name": "stderr",
     "output_type": "stream",
     "text": [
      "\n",
      " 20%|█▉        | 196/1000 [01:32<07:00,  1.91it/s]\u001b[A"
     ]
    },
    {
     "name": "stdout",
     "output_type": "stream",
     "text": [
      "L2 norm of the background error 0.9916879839989029\n",
      "L2 norm of the error in DA solution 2.2181155181603582e-16\n",
      "[60487, 57843, 43367, 47616, 11634, 48591, 65782, 24331, 19296, 52731]\n"
     ]
    },
    {
     "name": "stderr",
     "output_type": "stream",
     "text": [
      "\n",
      " 20%|█▉        | 197/1000 [01:32<06:59,  1.91it/s]\u001b[A"
     ]
    },
    {
     "name": "stdout",
     "output_type": "stream",
     "text": [
      "L2 norm of the background error 0.6601054949229824\n",
      "L2 norm of the error in DA solution 2.570927514704386e-17\n",
      "[18816, 43346, 53895, 47616, 48009, 90376, 30909, 53740, 14326, 62706]\n"
     ]
    },
    {
     "name": "stderr",
     "output_type": "stream",
     "text": [
      "\n",
      " 20%|█▉        | 198/1000 [01:33<06:57,  1.92it/s]\u001b[A"
     ]
    },
    {
     "name": "stdout",
     "output_type": "stream",
     "text": [
      "L2 norm of the background error 0.5812182791769728\n",
      "L2 norm of the error in DA solution 1.4068149127354603e-17\n",
      "[59379, 16666, 45018, 44651, 75175, 56859, 34715, 53740, 55068, 58370]\n"
     ]
    },
    {
     "name": "stderr",
     "output_type": "stream",
     "text": [
      "\n",
      " 20%|█▉        | 199/1000 [01:33<06:57,  1.92it/s]\u001b[A"
     ]
    },
    {
     "name": "stdout",
     "output_type": "stream",
     "text": [
      "L2 norm of the background error 0.8971756415298198\n",
      "L2 norm of the error in DA solution 9.325535185470751e-17\n",
      "[26583, 23679, 75142, 47616, 8676, 17088, 43189, 45815, 3071, 1728]\n"
     ]
    },
    {
     "name": "stderr",
     "output_type": "stream",
     "text": [
      "\n",
      " 20%|██        | 200/1000 [01:34<06:58,  1.91it/s]\u001b[A"
     ]
    },
    {
     "name": "stdout",
     "output_type": "stream",
     "text": [
      "L2 norm of the background error 0.8128512097386013\n",
      "L2 norm of the error in DA solution 1.3396944834138064e-16\n",
      "[72442, 50605, 67093, 44651, 45495, 12633, 14481, 41670, 1305, 59583]\n"
     ]
    },
    {
     "name": "stderr",
     "output_type": "stream",
     "text": [
      "\n",
      " 20%|██        | 201/1000 [01:34<06:57,  1.91it/s]\u001b[A"
     ]
    },
    {
     "name": "stdout",
     "output_type": "stream",
     "text": [
      "L2 norm of the background error 0.49553699003762336\n",
      "L2 norm of the error in DA solution 2.0378230735536594e-17\n",
      "[31046, 28134, 34230, 44651, 55576, 94413, 37064, 38669, 41213, 24949]\n"
     ]
    },
    {
     "name": "stderr",
     "output_type": "stream",
     "text": [
      "\n",
      " 20%|██        | 202/1000 [01:35<06:45,  1.97it/s]\u001b[A"
     ]
    },
    {
     "name": "stdout",
     "output_type": "stream",
     "text": [
      "L2 norm of the background error 0.6107181844538774\n",
      "L2 norm of the error in DA solution 6.856527715488324e-17\n",
      "[85375, 68949, 44721, 47616, 45495, 82362, 35409, 49565, 65500, 53040]\n"
     ]
    },
    {
     "name": "stderr",
     "output_type": "stream",
     "text": [
      "\n",
      " 20%|██        | 203/1000 [01:35<06:36,  2.01it/s]\u001b[A"
     ]
    },
    {
     "name": "stdout",
     "output_type": "stream",
     "text": [
      "L2 norm of the background error 0.5339160944293107\n",
      "L2 norm of the error in DA solution 2.1866709965359702e-17\n",
      "[9408, 80022, 44016, 47616, 22974, 65635, 22515, 35272, 19391, 12119]\n"
     ]
    },
    {
     "name": "stderr",
     "output_type": "stream",
     "text": [
      "\n",
      " 20%|██        | 204/1000 [01:36<06:41,  1.98it/s]\u001b[A"
     ]
    },
    {
     "name": "stdout",
     "output_type": "stream",
     "text": [
      "L2 norm of the background error 0.7369916598905621\n",
      "L2 norm of the error in DA solution 4.3317105657931643e-17\n",
      "[22454, 27305, 23941, 47616, 21885, 53139, 37779, 20799, 25139, 20288]\n"
     ]
    },
    {
     "name": "stderr",
     "output_type": "stream",
     "text": [
      "\n",
      " 20%|██        | 205/1000 [01:36<06:44,  1.97it/s]\u001b[A"
     ]
    },
    {
     "name": "stdout",
     "output_type": "stream",
     "text": [
      "L2 norm of the background error 0.6771507279576098\n",
      "L2 norm of the error in DA solution 3.676024854677911e-17\n",
      "[54641, 49154, 48091, 47616, 21885, 21399, 17287, 44918, 3077, 8412]\n"
     ]
    },
    {
     "name": "stderr",
     "output_type": "stream",
     "text": [
      "\n",
      " 21%|██        | 206/1000 [01:37<06:51,  1.93it/s]\u001b[A"
     ]
    },
    {
     "name": "stdout",
     "output_type": "stream",
     "text": [
      "L2 norm of the background error 0.9792646538335651\n",
      "L2 norm of the error in DA solution 1.2597452040494575e-16\n",
      "[97671, 54840, 23093, 47616, 48502, 45023, 41, 21613, 10489, 16187]\n"
     ]
    },
    {
     "name": "stderr",
     "output_type": "stream",
     "text": [
      "\n",
      " 21%|██        | 207/1000 [01:37<06:51,  1.93it/s]\u001b[A"
     ]
    },
    {
     "name": "stdout",
     "output_type": "stream",
     "text": [
      "L2 norm of the background error 0.4264822022924942\n",
      "L2 norm of the error in DA solution 6.781447912107007e-18\n",
      "[56516, 59248, 55875, 47616, 40998, 44340, 51558, 39486, 2530, 14225]\n"
     ]
    },
    {
     "name": "stderr",
     "output_type": "stream",
     "text": [
      "\n",
      " 21%|██        | 208/1000 [01:38<06:53,  1.91it/s]\u001b[A"
     ]
    },
    {
     "name": "stdout",
     "output_type": "stream",
     "text": [
      "L2 norm of the background error 0.3636321335856477\n",
      "L2 norm of the error in DA solution 5.587540166782541e-17\n",
      "[85375, 46629, 56666, 44651, 52457, 81853, 59025, 45390, 18289, 19616]\n"
     ]
    },
    {
     "name": "stderr",
     "output_type": "stream",
     "text": [
      "\n",
      " 21%|██        | 209/1000 [01:38<06:55,  1.90it/s]\u001b[A"
     ]
    },
    {
     "name": "stdout",
     "output_type": "stream",
     "text": [
      "L2 norm of the background error 0.9669356748378924\n",
      "L2 norm of the error in DA solution 1.6871277970477593e-16\n",
      "[79423, 47832, 19476, 44651, 45495, 26679, 27610, 23209, 19283, 43305]\n"
     ]
    },
    {
     "name": "stderr",
     "output_type": "stream",
     "text": [
      "\n",
      " 21%|██        | 210/1000 [01:39<06:54,  1.91it/s]\u001b[A"
     ]
    },
    {
     "name": "stdout",
     "output_type": "stream",
     "text": [
      "L2 norm of the background error 0.7029396746742272\n",
      "L2 norm of the error in DA solution 1.3208731132128442e-17\n",
      "[42303, 14505, 56389, 47616, 48009, 20336, 17948, 15471, 48283, 58633]\n"
     ]
    },
    {
     "name": "stderr",
     "output_type": "stream",
     "text": [
      "\n",
      " 21%|██        | 211/1000 [01:39<06:52,  1.91it/s]\u001b[A"
     ]
    },
    {
     "name": "stdout",
     "output_type": "stream",
     "text": [
      "L2 norm of the background error 0.21720818235116726\n",
      "L2 norm of the error in DA solution 3.739546587007281e-18\n",
      "[24771, 19338, 542, 44651, 74980, 42960, 53597, 52992, 35160, 16753]\n"
     ]
    },
    {
     "name": "stderr",
     "output_type": "stream",
     "text": [
      "\n",
      " 21%|██        | 212/1000 [01:40<06:58,  1.88it/s]\u001b[A"
     ]
    },
    {
     "name": "stdout",
     "output_type": "stream",
     "text": [
      "L2 norm of the background error 0.6551781215117713\n",
      "L2 norm of the error in DA solution 1.7972838233677113e-16\n",
      "[26578, 51450, 74996, 47616, 82371, 30817, 56384, 30268, 29026, 2814]\n"
     ]
    },
    {
     "name": "stderr",
     "output_type": "stream",
     "text": [
      "\n",
      " 21%|██▏       | 213/1000 [01:40<06:54,  1.90it/s]\u001b[A"
     ]
    },
    {
     "name": "stdout",
     "output_type": "stream",
     "text": [
      "L2 norm of the background error 0.5046171010517067\n",
      "L2 norm of the error in DA solution 4.521375376736264e-17\n",
      "[71342, 53344, 51476, 44651, 74980, 37841, 52986, 605, 2813, 23364]\n"
     ]
    },
    {
     "name": "stderr",
     "output_type": "stream",
     "text": [
      "\n",
      " 21%|██▏       | 214/1000 [01:41<06:51,  1.91it/s]\u001b[A"
     ]
    },
    {
     "name": "stdout",
     "output_type": "stream",
     "text": [
      "L2 norm of the background error 0.7752329315480486\n",
      "L2 norm of the error in DA solution 2.868015819538569e-17\n",
      "[91104, 63183, 38062, 44651, 31198, 59215, 57409, 78492, 36396, 22942]\n"
     ]
    },
    {
     "name": "stderr",
     "output_type": "stream",
     "text": [
      "\n",
      " 22%|██▏       | 215/1000 [01:41<06:49,  1.91it/s]\u001b[A"
     ]
    },
    {
     "name": "stdout",
     "output_type": "stream",
     "text": [
      "L2 norm of the background error 0.29432948493828365\n",
      "L2 norm of the error in DA solution 2.0163850240790566e-17\n",
      "[43744, 53871, 38740, 44651, 16534, 93080, 33108, 24332, 13654, 52795]\n"
     ]
    },
    {
     "name": "stderr",
     "output_type": "stream",
     "text": [
      "\n",
      " 22%|██▏       | 216/1000 [01:42<06:48,  1.92it/s]\u001b[A"
     ]
    },
    {
     "name": "stdout",
     "output_type": "stream",
     "text": [
      "L2 norm of the background error 0.8308127839152101\n",
      "L2 norm of the error in DA solution 1.204667767037933e-16\n",
      "[72227, 38922, 50434, 44651, 16534, 37841, 38008, 61109, 3360, 69302]\n"
     ]
    },
    {
     "name": "stderr",
     "output_type": "stream",
     "text": [
      "\n",
      " 22%|██▏       | 217/1000 [01:42<06:49,  1.91it/s]\u001b[A"
     ]
    },
    {
     "name": "stdout",
     "output_type": "stream",
     "text": [
      "L2 norm of the background error 0.6838094006117651\n",
      "L2 norm of the error in DA solution 4.1037297442767035e-17\n",
      "[443, 55638, 53213, 44651, 22974, 78037, 39604, 26398, 36125, 6769]\n"
     ]
    },
    {
     "name": "stderr",
     "output_type": "stream",
     "text": [
      "\n",
      " 22%|██▏       | 218/1000 [01:43<06:49,  1.91it/s]\u001b[A"
     ]
    },
    {
     "name": "stdout",
     "output_type": "stream",
     "text": [
      "L2 norm of the background error 0.25318246832963887\n",
      "L2 norm of the error in DA solution 5.485009423001248e-18\n",
      "[70420, 22008, 43587, 47616, 17019, 27618, 34281, 57721, 57718, 13773]\n"
     ]
    },
    {
     "name": "stderr",
     "output_type": "stream",
     "text": [
      "\n",
      " 22%|██▏       | 219/1000 [01:43<06:49,  1.91it/s]\u001b[A"
     ]
    },
    {
     "name": "stdout",
     "output_type": "stream",
     "text": [
      "L2 norm of the background error 0.4411271796841157\n",
      "L2 norm of the error in DA solution 3.790198525043796e-17\n",
      "[38098, 36062, 80160, 44651, 18750, 29645, 49103, 15924, 1676, 40609]\n"
     ]
    },
    {
     "name": "stderr",
     "output_type": "stream",
     "text": [
      "\n",
      " 22%|██▏       | 220/1000 [01:44<06:47,  1.91it/s]\u001b[A"
     ]
    },
    {
     "name": "stdout",
     "output_type": "stream",
     "text": [
      "L2 norm of the background error 0.2965372777746003\n",
      "L2 norm of the error in DA solution 6.775180180930237e-18\n",
      "[71878, 74563, 89595, 47616, 76464, 89681, 47950, 38665, 8575, 1501]\n"
     ]
    },
    {
     "name": "stderr",
     "output_type": "stream",
     "text": [
      "\n",
      " 22%|██▏       | 221/1000 [01:45<06:50,  1.90it/s]\u001b[A"
     ]
    },
    {
     "name": "stdout",
     "output_type": "stream",
     "text": [
      "L2 norm of the background error 0.38777668986678465\n",
      "L2 norm of the error in DA solution 2.7306504296559142e-17\n",
      "[21538, 19303, 37798, 47616, 47734, 59209, 22259, 47106, 42057, 58633]\n"
     ]
    },
    {
     "name": "stderr",
     "output_type": "stream",
     "text": [
      "\n",
      " 22%|██▏       | 222/1000 [01:45<06:46,  1.92it/s]\u001b[A"
     ]
    },
    {
     "name": "stdout",
     "output_type": "stream",
     "text": [
      "L2 norm of the background error 0.6291959070340167\n",
      "L2 norm of the error in DA solution 6.160126131639948e-17\n",
      "[31617, 21028, 90375, 44651, 76464, 45812, 66617, 38665, 52229, 32123]\n"
     ]
    },
    {
     "name": "stderr",
     "output_type": "stream",
     "text": [
      "\n",
      " 22%|██▏       | 223/1000 [01:46<06:47,  1.90it/s]\u001b[A"
     ]
    },
    {
     "name": "stdout",
     "output_type": "stream",
     "text": [
      "L2 norm of the background error 0.8460619484779325\n",
      "L2 norm of the error in DA solution 7.171445801924207e-17\n",
      "[19771, 22008, 71357, 44651, 31198, 20574, 42066, 51634, 3904, 58408]\n"
     ]
    },
    {
     "name": "stderr",
     "output_type": "stream",
     "text": [
      "\n",
      " 22%|██▏       | 224/1000 [01:46<06:46,  1.91it/s]\u001b[A"
     ]
    },
    {
     "name": "stdout",
     "output_type": "stream",
     "text": [
      "L2 norm of the background error 0.6433474452637525\n",
      "L2 norm of the error in DA solution 8.449655988896703e-18\n",
      "[14868, 17429, 71883, 47616, 21885, 22735, 49057, 56128, 5068, 9836]\n"
     ]
    },
    {
     "name": "stderr",
     "output_type": "stream",
     "text": [
      "\n",
      " 22%|██▎       | 225/1000 [01:47<06:47,  1.90it/s]\u001b[A"
     ]
    },
    {
     "name": "stdout",
     "output_type": "stream",
     "text": [
      "L2 norm of the background error 0.7674751404925217\n",
      "L2 norm of the error in DA solution 1.395001121257105e-17\n",
      "[20945, 89309, 90407, 47616, 17019, 8646, 39315, 53213, 9841, 14748]\n"
     ]
    },
    {
     "name": "stderr",
     "output_type": "stream",
     "text": [
      "\n",
      " 23%|██▎       | 226/1000 [01:47<06:45,  1.91it/s]\u001b[A"
     ]
    },
    {
     "name": "stdout",
     "output_type": "stream",
     "text": [
      "L2 norm of the background error 0.4849177319203581\n",
      "L2 norm of the error in DA solution 7.150543510761574e-17\n",
      "[9408, 20751, 42202, 44651, 48009, 68713, 71156, 65698, 21036, 39244]\n"
     ]
    },
    {
     "name": "stderr",
     "output_type": "stream",
     "text": [
      "\n",
      " 23%|██▎       | 227/1000 [01:48<06:43,  1.91it/s]\u001b[A"
     ]
    },
    {
     "name": "stdout",
     "output_type": "stream",
     "text": [
      "L2 norm of the background error 0.2137887641755663\n",
      "L2 norm of the error in DA solution 7.267343747370031e-18\n",
      "[33507, 50605, 11045, 44651, 18750, 63072, 18415, 75199, 3904, 1993]\n"
     ]
    },
    {
     "name": "stderr",
     "output_type": "stream",
     "text": [
      "\n",
      " 23%|██▎       | 228/1000 [01:48<06:42,  1.92it/s]\u001b[A"
     ]
    },
    {
     "name": "stdout",
     "output_type": "stream",
     "text": [
      "L2 norm of the background error 0.6987129075383095\n",
      "L2 norm of the error in DA solution 3.229292666772581e-17\n",
      "[90824, 12083, 58637, 47616, 17018, 49354, 12191, 46720, 11383, 3753]\n"
     ]
    },
    {
     "name": "stderr",
     "output_type": "stream",
     "text": [
      "\n",
      " 23%|██▎       | 229/1000 [01:49<06:41,  1.92it/s]\u001b[A"
     ]
    },
    {
     "name": "stdout",
     "output_type": "stream",
     "text": [
      "L2 norm of the background error 0.6435343829579384\n",
      "L2 norm of the error in DA solution 4.7277061059438495e-17\n",
      "[61892, 24588, 52867, 44651, 74980, 86775, 11856, 74822, 1676, 35206]\n"
     ]
    },
    {
     "name": "stderr",
     "output_type": "stream",
     "text": [
      "\n",
      " 23%|██▎       | 230/1000 [01:49<06:40,  1.92it/s]\u001b[A"
     ]
    },
    {
     "name": "stdout",
     "output_type": "stream",
     "text": [
      "L2 norm of the background error 0.39413687321186186\n",
      "L2 norm of the error in DA solution 2.4742993870405886e-17\n",
      "[56516, 24586, 58976, 44651, 10389, 67108, 49852, 9262, 13403, 19654]\n"
     ]
    },
    {
     "name": "stderr",
     "output_type": "stream",
     "text": [
      "\n",
      " 23%|██▎       | 231/1000 [01:50<06:40,  1.92it/s]\u001b[A"
     ]
    },
    {
     "name": "stdout",
     "output_type": "stream",
     "text": [
      "L2 norm of the background error 0.6122387522772295\n",
      "L2 norm of the error in DA solution 6.89698216424882e-17\n",
      "[63961, 59598, 44016, 47616, 55576, 86559, 13458, 28596, 2572, 1084]\n"
     ]
    },
    {
     "name": "stderr",
     "output_type": "stream",
     "text": [
      "\n",
      " 23%|██▎       | 232/1000 [01:50<06:39,  1.92it/s]\u001b[A"
     ]
    },
    {
     "name": "stdout",
     "output_type": "stream",
     "text": [
      "L2 norm of the background error 0.42693742731753254\n",
      "L2 norm of the error in DA solution 3.105419923011988e-17\n",
      "[26583, 14226, 38074, 44651, 1466, 56777, 49746, 19488, 21037, 58288]\n"
     ]
    },
    {
     "name": "stderr",
     "output_type": "stream",
     "text": [
      "\n",
      " 23%|██▎       | 233/1000 [01:51<06:38,  1.93it/s]\u001b[A"
     ]
    },
    {
     "name": "stdout",
     "output_type": "stream",
     "text": [
      "L2 norm of the background error 0.5038620100935315\n",
      "L2 norm of the error in DA solution 1.783773688449171e-17\n",
      "[57831, 37874, 44194, 44651, 1466, 929, 9338, 77910, 11303, 12657]\n"
     ]
    },
    {
     "name": "stderr",
     "output_type": "stream",
     "text": [
      "\n",
      " 23%|██▎       | 234/1000 [01:51<06:37,  1.93it/s]\u001b[A"
     ]
    },
    {
     "name": "stdout",
     "output_type": "stream",
     "text": [
      "L2 norm of the background error 0.5295137780847464\n",
      "L2 norm of the error in DA solution 3.781154177847834e-17\n",
      "[81356, 31680, 37482, 44651, 40998, 37678, 74201, 20799, 19677, 1728]\n"
     ]
    },
    {
     "name": "stderr",
     "output_type": "stream",
     "text": [
      "\n",
      " 24%|██▎       | 235/1000 [01:52<06:37,  1.92it/s]\u001b[A"
     ]
    },
    {
     "name": "stdout",
     "output_type": "stream",
     "text": [
      "L2 norm of the background error 0.5118575678641609\n",
      "L2 norm of the error in DA solution 6.202514349954877e-17\n",
      "[61242, 23678, 65700, 47616, 22974, 69578, 21235, 11751, 19296, 89362]\n"
     ]
    },
    {
     "name": "stderr",
     "output_type": "stream",
     "text": [
      "\n",
      " 24%|██▎       | 236/1000 [01:52<06:38,  1.92it/s]\u001b[A"
     ]
    },
    {
     "name": "stdout",
     "output_type": "stream",
     "text": [
      "L2 norm of the background error 0.4501640244584848\n",
      "L2 norm of the error in DA solution 1.1977324305175805e-17\n",
      "[77798, 49632, 22738, 47616, 58253, 27619, 30104, 42110, 32487, 31014]\n"
     ]
    },
    {
     "name": "stderr",
     "output_type": "stream",
     "text": [
      "\n",
      " 24%|██▎       | 237/1000 [01:53<06:37,  1.92it/s]\u001b[A"
     ]
    },
    {
     "name": "stdout",
     "output_type": "stream",
     "text": [
      "L2 norm of the background error 0.7811042180830061\n",
      "L2 norm of the error in DA solution 7.552456884687329e-17\n",
      "[77579, 78513, 50515, 44651, 55576, 49600, 57956, 31733, 43089, 47733]\n"
     ]
    },
    {
     "name": "stderr",
     "output_type": "stream",
     "text": [
      "\n",
      " 24%|██▍       | 238/1000 [01:53<06:35,  1.92it/s]\u001b[A"
     ]
    },
    {
     "name": "stdout",
     "output_type": "stream",
     "text": [
      "L2 norm of the background error 0.7234719575046373\n",
      "L2 norm of the error in DA solution 1.1448832045287611e-17\n",
      "[9406, 26971, 44038, 47616, 52828, 48592, 71156, 11751, 3076, 18765]\n"
     ]
    },
    {
     "name": "stderr",
     "output_type": "stream",
     "text": [
      "\n",
      " 24%|██▍       | 239/1000 [01:54<06:35,  1.92it/s]\u001b[A"
     ]
    },
    {
     "name": "stdout",
     "output_type": "stream",
     "text": [
      "L2 norm of the background error 0.2971842437483698\n",
      "L2 norm of the error in DA solution 2.9801518149772614e-17\n",
      "[31459, 77692, 18367, 47616, 21885, 88090, 14047, 30655, 25979, 10357]\n"
     ]
    },
    {
     "name": "stderr",
     "output_type": "stream",
     "text": [
      "\n",
      " 24%|██▍       | 240/1000 [01:54<06:34,  1.93it/s]\u001b[A"
     ]
    },
    {
     "name": "stdout",
     "output_type": "stream",
     "text": [
      "L2 norm of the background error 0.42661496780635516\n",
      "L2 norm of the error in DA solution 3.989391947682928e-17\n",
      "[94388, 18020, 74487, 47616, 74980, 78414, 69091, 24742, 2572, 4196]\n"
     ]
    },
    {
     "name": "stderr",
     "output_type": "stream",
     "text": [
      "\n",
      " 24%|██▍       | 241/1000 [01:55<06:34,  1.92it/s]\u001b[A"
     ]
    },
    {
     "name": "stdout",
     "output_type": "stream",
     "text": [
      "L2 norm of the background error 0.5611943104044854\n",
      "L2 norm of the error in DA solution 5.420311410054419e-17\n",
      "[64389, 90434, 29886, 44651, 75175, 35843, 26307, 8225, 52229, 20286]\n"
     ]
    },
    {
     "name": "stderr",
     "output_type": "stream",
     "text": [
      "\n",
      " 24%|██▍       | 242/1000 [01:55<06:33,  1.92it/s]\u001b[A"
     ]
    },
    {
     "name": "stdout",
     "output_type": "stream",
     "text": [
      "L2 norm of the background error 0.6938015537798329\n",
      "L2 norm of the error in DA solution 1.421735221685773e-16\n",
      "[30198, 46217, 49904, 47616, 1466, 66703, 59683, 9865, 37263, 10130]\n"
     ]
    },
    {
     "name": "stderr",
     "output_type": "stream",
     "text": [
      "\n",
      " 24%|██▍       | 243/1000 [01:56<06:36,  1.91it/s]\u001b[A"
     ]
    },
    {
     "name": "stdout",
     "output_type": "stream",
     "text": [
      "L2 norm of the background error 1.0411870462194261\n",
      "L2 norm of the error in DA solution 4.3044643620886724e-16\n",
      "[83143, 38168, 16824, 44651, 20460, 21267, 18323, 70096, 21993, 1084]\n"
     ]
    },
    {
     "name": "stderr",
     "output_type": "stream",
     "text": [
      "\n",
      " 24%|██▍       | 244/1000 [01:56<06:34,  1.92it/s]\u001b[A"
     ]
    },
    {
     "name": "stdout",
     "output_type": "stream",
     "text": [
      "L2 norm of the background error 0.41316460322456433\n",
      "L2 norm of the error in DA solution 2.0065975795878075e-17\n",
      "[67389, 30809, 7761, 44651, 10048, 78177, 53227, 58299, 1268, 8412]\n"
     ]
    },
    {
     "name": "stderr",
     "output_type": "stream",
     "text": [
      "\n",
      " 24%|██▍       | 245/1000 [01:57<06:33,  1.92it/s]\u001b[A"
     ]
    },
    {
     "name": "stdout",
     "output_type": "stream",
     "text": [
      "L2 norm of the background error 0.959062086568464\n",
      "L2 norm of the error in DA solution 4.301448851066598e-17\n",
      "[66290, 24586, 50110, 44651, 16534, 85597, 21551, 75199, 3359, 37293]\n"
     ]
    },
    {
     "name": "stderr",
     "output_type": "stream",
     "text": [
      "\n",
      " 25%|██▍       | 246/1000 [01:58<06:32,  1.92it/s]\u001b[A"
     ]
    },
    {
     "name": "stdout",
     "output_type": "stream",
     "text": [
      "L2 norm of the background error 0.4601181231362387\n",
      "L2 norm of the error in DA solution 4.0534620190900705e-17\n",
      "[90149, 37911, 38043, 44651, 45495, 45336, 75050, 46026, 1307, 15146]\n"
     ]
    },
    {
     "name": "stderr",
     "output_type": "stream",
     "text": [
      "\n",
      " 25%|██▍       | 247/1000 [01:58<06:34,  1.91it/s]\u001b[A"
     ]
    },
    {
     "name": "stdout",
     "output_type": "stream",
     "text": [
      "L2 norm of the background error 0.10468904830669971\n",
      "L2 norm of the error in DA solution 9.593085046863294e-19\n",
      "[72404, 154, 44537, 47616, 40998, 74488, 65962, 38841, 19283, 18918]\n"
     ]
    },
    {
     "name": "stderr",
     "output_type": "stream",
     "text": [
      "\n",
      " 25%|██▍       | 248/1000 [01:59<06:35,  1.90it/s]\u001b[A"
     ]
    },
    {
     "name": "stdout",
     "output_type": "stream",
     "text": [
      "L2 norm of the background error 0.6298388898818144\n",
      "L2 norm of the error in DA solution 8.731906596342193e-17\n",
      "[31008, 8287, 78635, 47616, 45495, 58716, 98028, 29967, 4826, 3732]\n"
     ]
    },
    {
     "name": "stderr",
     "output_type": "stream",
     "text": [
      "\n",
      " 25%|██▍       | 249/1000 [01:59<06:35,  1.90it/s]\u001b[A"
     ]
    },
    {
     "name": "stdout",
     "output_type": "stream",
     "text": [
      "L2 norm of the background error 0.5886974479547238\n",
      "L2 norm of the error in DA solution 7.95048078782709e-17\n",
      "[31008, 57746, 23269, 47616, 17019, 67424, 32421, 54874, 36396, 68594]\n"
     ]
    },
    {
     "name": "stderr",
     "output_type": "stream",
     "text": [
      "\n",
      " 25%|██▌       | 250/1000 [02:00<06:31,  1.92it/s]\u001b[A"
     ]
    },
    {
     "name": "stdout",
     "output_type": "stream",
     "text": [
      "L2 norm of the background error 0.8169441123303314\n",
      "L2 norm of the error in DA solution 1.098784114320112e-16\n",
      "[56547, 44347, 74250, 44651, 48502, 41458, 79403, 30282, 8173, 63499]\n"
     ]
    },
    {
     "name": "stderr",
     "output_type": "stream",
     "text": [
      "\n",
      " 25%|██▌       | 251/1000 [02:00<06:23,  1.95it/s]\u001b[A"
     ]
    },
    {
     "name": "stdout",
     "output_type": "stream",
     "text": [
      "L2 norm of the background error 0.489338796980709\n",
      "L2 norm of the error in DA solution 8.29781449087281e-17\n",
      "[43153, 22006, 51476, 44651, 55576, 44358, 58838, 23209, 1125, 4266]\n"
     ]
    },
    {
     "name": "stderr",
     "output_type": "stream",
     "text": [
      "\n",
      " 25%|██▌       | 252/1000 [02:01<06:12,  2.01it/s]\u001b[A"
     ]
    },
    {
     "name": "stdout",
     "output_type": "stream",
     "text": [
      "L2 norm of the background error 0.4475638306331757\n",
      "L2 norm of the error in DA solution 1.387572060697264e-17\n",
      "[69140, 16666, 80381, 47616, 76464, 17398, 22259, 49107, 41213, 68594]\n"
     ]
    },
    {
     "name": "stderr",
     "output_type": "stream",
     "text": [
      "\n",
      " 25%|██▌       | 253/1000 [02:01<06:19,  1.97it/s]\u001b[A"
     ]
    },
    {
     "name": "stdout",
     "output_type": "stream",
     "text": [
      "L2 norm of the background error 0.7134598928462847\n",
      "L2 norm of the error in DA solution 4.283996035514559e-17\n",
      "[67223, 51755, 74996, 44651, 45495, 74574, 53722, 60402, 2813, 60117]\n"
     ]
    },
    {
     "name": "stderr",
     "output_type": "stream",
     "text": [
      "\n",
      " 25%|██▌       | 254/1000 [02:02<06:24,  1.94it/s]\u001b[A"
     ]
    },
    {
     "name": "stdout",
     "output_type": "stream",
     "text": [
      "L2 norm of the background error 0.6020821162570427\n",
      "L2 norm of the error in DA solution 3.1061367328569685e-17\n",
      "[72442, 73941, 65339, 47616, 1466, 17394, 43106, 15468, 2238, 19654]\n"
     ]
    },
    {
     "name": "stderr",
     "output_type": "stream",
     "text": [
      "\n",
      " 26%|██▌       | 255/1000 [02:02<06:28,  1.92it/s]\u001b[A"
     ]
    },
    {
     "name": "stdout",
     "output_type": "stream",
     "text": [
      "L2 norm of the background error 0.7408718645792297\n",
      "L2 norm of the error in DA solution 1.444637942869334e-16\n",
      "[27277, 37813, 60532, 44651, 75175, 60828, 75965, 7640, 32311, 6864]\n"
     ]
    },
    {
     "name": "stderr",
     "output_type": "stream",
     "text": [
      "\n",
      " 26%|██▌       | 256/1000 [02:03<06:30,  1.91it/s]\u001b[A"
     ]
    },
    {
     "name": "stdout",
     "output_type": "stream",
     "text": [
      "L2 norm of the background error 0.6555910966239391\n",
      "L2 norm of the error in DA solution 1.3999003197622015e-16\n",
      "[45048, 85054, 62867, 44651, 1466, 59432, 60675, 20691, 12081, 2858]\n"
     ]
    },
    {
     "name": "stderr",
     "output_type": "stream",
     "text": [
      "\n",
      " 26%|██▌       | 257/1000 [02:03<06:30,  1.90it/s]\u001b[A"
     ]
    },
    {
     "name": "stdout",
     "output_type": "stream",
     "text": [
      "L2 norm of the background error 0.8009510452304243\n",
      "L2 norm of the error in DA solution 5.92680650945184e-17\n",
      "[73231, 39186, 34230, 47616, 74980, 49354, 43189, 20602, 5179, 14576]\n"
     ]
    },
    {
     "name": "stderr",
     "output_type": "stream",
     "text": [
      "\n",
      " 26%|██▌       | 258/1000 [02:04<06:20,  1.95it/s]\u001b[A"
     ]
    },
    {
     "name": "stdout",
     "output_type": "stream",
     "text": [
      "L2 norm of the background error 0.5479033897803209\n",
      "L2 norm of the error in DA solution 3.6074809443863234e-17\n",
      "[60756, 51687, 37482, 44651, 8676, 41818, 26045, 22178, 16255, 11912]\n"
     ]
    },
    {
     "name": "stderr",
     "output_type": "stream",
     "text": [
      "\n",
      " 26%|██▌       | 259/1000 [02:04<06:22,  1.94it/s]\u001b[A"
     ]
    },
    {
     "name": "stdout",
     "output_type": "stream",
     "text": [
      "L2 norm of the background error 0.47580962513301894\n",
      "L2 norm of the error in DA solution 8.374422444512552e-17\n",
      "[46892, 29201, 56323, 47616, 11634, 53180, 35642, 13330, 55068, 12322]\n"
     ]
    },
    {
     "name": "stderr",
     "output_type": "stream",
     "text": [
      "\n",
      " 26%|██▌       | 260/1000 [02:05<06:24,  1.92it/s]\u001b[A"
     ]
    },
    {
     "name": "stdout",
     "output_type": "stream",
     "text": [
      "L2 norm of the background error 1.316016449970888\n",
      "L2 norm of the error in DA solution 2.220032634246072e-16\n",
      "[68114, 35159, 18089, 44651, 10048, 69133, 69770, 47436, 19370, 2814]\n"
     ]
    },
    {
     "name": "stderr",
     "output_type": "stream",
     "text": [
      "\n",
      " 26%|██▌       | 261/1000 [02:05<06:14,  1.97it/s]\u001b[A"
     ]
    },
    {
     "name": "stdout",
     "output_type": "stream",
     "text": [
      "L2 norm of the background error 0.48514757045429635\n",
      "L2 norm of the error in DA solution 5.568680746352641e-17\n",
      "[39980, 16904, 53644, 47616, 20460, 19770, 48385, 13210, 5068, 850]\n"
     ]
    },
    {
     "name": "stderr",
     "output_type": "stream",
     "text": [
      "\n",
      " 26%|██▌       | 262/1000 [02:06<06:07,  2.01it/s]\u001b[A"
     ]
    },
    {
     "name": "stdout",
     "output_type": "stream",
     "text": [
      "L2 norm of the background error 0.7919820456932909\n",
      "L2 norm of the error in DA solution 1.5290852033241053e-16\n",
      "[51292, 80792, 52868, 47616, 12495, 42960, 48149, 53213, 13403, 4200]\n"
     ]
    },
    {
     "name": "stderr",
     "output_type": "stream",
     "text": [
      "\n",
      " 26%|██▋       | 263/1000 [02:06<06:10,  1.99it/s]\u001b[A"
     ]
    },
    {
     "name": "stdout",
     "output_type": "stream",
     "text": [
      "L2 norm of the background error 0.4657389986082672\n",
      "L2 norm of the error in DA solution 6.953136518570898e-17\n",
      "[38098, 18202, 20602, 44651, 75175, 33390, 78776, 55368, 6291, 17017]\n"
     ]
    },
    {
     "name": "stderr",
     "output_type": "stream",
     "text": [
      "\n",
      " 26%|██▋       | 264/1000 [02:07<06:16,  1.95it/s]\u001b[A"
     ]
    },
    {
     "name": "stdout",
     "output_type": "stream",
     "text": [
      "L2 norm of the background error 0.9352883882654592\n",
      "L2 norm of the error in DA solution 2.1845642410540938e-16\n",
      "[24169, 74926, 43093, 44651, 40998, 52995, 42319, 14455, 65500, 52732]\n"
     ]
    },
    {
     "name": "stderr",
     "output_type": "stream",
     "text": [
      "\n",
      " 26%|██▋       | 265/1000 [02:07<06:19,  1.94it/s]\u001b[A"
     ]
    },
    {
     "name": "stdout",
     "output_type": "stream",
     "text": [
      "L2 norm of the background error 0.8281900099863398\n",
      "L2 norm of the error in DA solution 4.1963123900555515e-17\n",
      "[14465, 90434, 44711, 44651, 11634, 22730, 20151, 68505, 16658, 35206]\n"
     ]
    },
    {
     "name": "stderr",
     "output_type": "stream",
     "text": [
      "\n",
      " 27%|██▋       | 266/1000 [02:08<06:22,  1.92it/s]\u001b[A"
     ]
    },
    {
     "name": "stdout",
     "output_type": "stream",
     "text": [
      "L2 norm of the background error 0.5451757554378216\n",
      "L2 norm of the error in DA solution 1.0104141371968726e-17\n",
      "[79881, 47100, 76517, 47616, 20460, 20719, 53479, 65824, 8099, 24950]\n"
     ]
    },
    {
     "name": "stderr",
     "output_type": "stream",
     "text": [
      "\n",
      " 27%|██▋       | 267/1000 [02:08<06:22,  1.92it/s]\u001b[A"
     ]
    },
    {
     "name": "stdout",
     "output_type": "stream",
     "text": [
      "L2 norm of the background error 0.9980496378657001\n",
      "L2 norm of the error in DA solution 3.701085711390023e-17\n",
      "[64860, 44347, 53895, 47616, 48009, 80145, 45174, 34462, 3879, 2814]\n"
     ]
    },
    {
     "name": "stderr",
     "output_type": "stream",
     "text": [
      "\n",
      " 27%|██▋       | 268/1000 [02:09<06:21,  1.92it/s]\u001b[A"
     ]
    },
    {
     "name": "stdout",
     "output_type": "stream",
     "text": [
      "L2 norm of the background error 0.4343133887484527\n",
      "L2 norm of the error in DA solution 1.153866497551951e-16\n",
      "[42978, 42775, 22439, 44651, 12495, 19348, 29459, 68766, 6304, 62706]\n"
     ]
    },
    {
     "name": "stderr",
     "output_type": "stream",
     "text": [
      "\n",
      " 27%|██▋       | 269/1000 [02:09<06:20,  1.92it/s]\u001b[A"
     ]
    },
    {
     "name": "stdout",
     "output_type": "stream",
     "text": [
      "L2 norm of the background error 0.7972503629243239\n",
      "L2 norm of the error in DA solution 9.989823452947276e-17\n",
      "[47423, 93235, 78532, 44651, 8676, 73959, 34869, 49983, 21035, 14352]\n"
     ]
    },
    {
     "name": "stderr",
     "output_type": "stream",
     "text": [
      "\n",
      " 27%|██▋       | 270/1000 [02:10<06:22,  1.91it/s]\u001b[A"
     ]
    },
    {
     "name": "stdout",
     "output_type": "stream",
     "text": [
      "L2 norm of the background error 1.347749026769661\n",
      "L2 norm of the error in DA solution 7.826467521202876e-17\n",
      "[79423, 22007, 4774, 47616, 47734, 17580, 76515, 39486, 10171, 8787]\n"
     ]
    },
    {
     "name": "stderr",
     "output_type": "stream",
     "text": [
      "\n",
      " 27%|██▋       | 271/1000 [02:10<06:21,  1.91it/s]\u001b[A"
     ]
    },
    {
     "name": "stdout",
     "output_type": "stream",
     "text": [
      "L2 norm of the background error 0.9842406908942579\n",
      "L2 norm of the error in DA solution 1.035335250298071e-16\n",
      "[32164, 93100, 71357, 47616, 55576, 36473, 41670, 51296, 65501, 9689]\n"
     ]
    },
    {
     "name": "stderr",
     "output_type": "stream",
     "text": [
      "\n",
      " 27%|██▋       | 272/1000 [02:11<06:21,  1.91it/s]\u001b[A"
     ]
    },
    {
     "name": "stdout",
     "output_type": "stream",
     "text": [
      "L2 norm of the background error 0.7848499378188512\n",
      "L2 norm of the error in DA solution 9.638389447465601e-17\n",
      "[13358, 74956, 38043, 47616, 31198, 74488, 89500, 66859, 45786, 39687]\n"
     ]
    },
    {
     "name": "stderr",
     "output_type": "stream",
     "text": [
      "\n",
      " 27%|██▋       | 273/1000 [02:12<06:20,  1.91it/s]\u001b[A"
     ]
    },
    {
     "name": "stdout",
     "output_type": "stream",
     "text": [
      "L2 norm of the background error 1.0595447257195236\n",
      "L2 norm of the error in DA solution 3.8434887752728864e-17\n",
      "[39142, 81415, 44408, 44651, 6436, 52165, 63324, 13210, 12457, 59583]\n"
     ]
    },
    {
     "name": "stderr",
     "output_type": "stream",
     "text": [
      "\n",
      " 27%|██▋       | 274/1000 [02:12<06:20,  1.91it/s]\u001b[A"
     ]
    },
    {
     "name": "stdout",
     "output_type": "stream",
     "text": [
      "L2 norm of the background error 0.390612468978146\n",
      "L2 norm of the error in DA solution 1.4638679449552572e-17\n",
      "[63961, 31680, 56389, 47616, 58253, 25519, 47900, 76905, 6451, 10357]\n"
     ]
    },
    {
     "name": "stderr",
     "output_type": "stream",
     "text": [
      "\n",
      " 28%|██▊       | 275/1000 [02:13<06:19,  1.91it/s]\u001b[A"
     ]
    },
    {
     "name": "stdout",
     "output_type": "stream",
     "text": [
      "L2 norm of the background error 0.3533687616826959\n",
      "L2 norm of the error in DA solution 8.048153497894371e-17\n",
      "[20016, 93235, 51465, 47616, 45495, 27542, 9338, 51296, 11301, 20749]\n"
     ]
    },
    {
     "name": "stderr",
     "output_type": "stream",
     "text": [
      "\n",
      " 28%|██▊       | 276/1000 [02:13<06:14,  1.93it/s]\u001b[A"
     ]
    },
    {
     "name": "stdout",
     "output_type": "stream",
     "text": [
      "L2 norm of the background error 0.42294781269505066\n",
      "L2 norm of the error in DA solution 1.2292166144350754e-16\n",
      "[32014, 73978, 85636, 47616, 10389, 9309, 92518, 71105, 9050, 55952]\n"
     ]
    },
    {
     "name": "stderr",
     "output_type": "stream",
     "text": [
      "\n",
      " 28%|██▊       | 277/1000 [02:14<06:14,  1.93it/s]\u001b[A"
     ]
    },
    {
     "name": "stdout",
     "output_type": "stream",
     "text": [
      "L2 norm of the background error 1.0901863405378225\n",
      "L2 norm of the error in DA solution 1.755397328727737e-16\n",
      "[2499, 29200, 51465, 44651, 8951, 83549, 26307, 53067, 18847, 1498]\n"
     ]
    },
    {
     "name": "stderr",
     "output_type": "stream",
     "text": [
      "\n",
      " 28%|██▊       | 278/1000 [02:14<06:13,  1.93it/s]\u001b[A"
     ]
    },
    {
     "name": "stdout",
     "output_type": "stream",
     "text": [
      "L2 norm of the background error 0.4963942884894022\n",
      "L2 norm of the error in DA solution 2.0144910229115994e-17\n",
      "[19771, 37911, 53247, 44651, 52430, 52165, 79228, 26653, 19165, 8787]\n"
     ]
    },
    {
     "name": "stderr",
     "output_type": "stream",
     "text": [
      "\n",
      " 28%|██▊       | 279/1000 [02:15<06:14,  1.92it/s]\u001b[A"
     ]
    },
    {
     "name": "stdout",
     "output_type": "stream",
     "text": [
      "L2 norm of the background error 0.6842933628722807\n",
      "L2 norm of the error in DA solution 8.867748212610513e-18\n",
      "[76134, 53344, 53663, 44651, 58253, 25725, 37182, 51921, 38699, 63499]\n"
     ]
    },
    {
     "name": "stderr",
     "output_type": "stream",
     "text": [
      "\n",
      " 28%|██▊       | 280/1000 [02:15<06:01,  1.99it/s]\u001b[A"
     ]
    },
    {
     "name": "stdout",
     "output_type": "stream",
     "text": [
      "L2 norm of the background error 0.5772560814114723\n",
      "L2 norm of the error in DA solution 6.927829903200587e-17\n",
      "[77636, 46407, 20600, 44651, 52457, 27709, 16413, 42593, 22354, 10786]\n"
     ]
    },
    {
     "name": "stderr",
     "output_type": "stream",
     "text": [
      "\n",
      " 28%|██▊       | 281/1000 [02:16<05:56,  2.02it/s]\u001b[A"
     ]
    },
    {
     "name": "stdout",
     "output_type": "stream",
     "text": [
      "L2 norm of the background error 0.8877496006651947\n",
      "L2 norm of the error in DA solution 3.7472602051751566e-17\n",
      "[77798, 34014, 15385, 44651, 76464, 67231, 35817, 38272, 4768, 43430]\n"
     ]
    },
    {
     "name": "stderr",
     "output_type": "stream",
     "text": [
      "\n",
      " 28%|██▊       | 282/1000 [02:16<05:49,  2.06it/s]\u001b[A"
     ]
    },
    {
     "name": "stdout",
     "output_type": "stream",
     "text": [
      "L2 norm of the background error 0.600143608389762\n",
      "L2 norm of the error in DA solution 7.514026971311058e-17\n",
      "[85544, 8287, 36070, 44651, 58253, 17270, 79403, 51634, 36609, 22076]\n"
     ]
    },
    {
     "name": "stderr",
     "output_type": "stream",
     "text": [
      "\n",
      " 28%|██▊       | 283/1000 [02:17<05:52,  2.04it/s]\u001b[A"
     ]
    },
    {
     "name": "stdout",
     "output_type": "stream",
     "text": [
      "L2 norm of the background error 0.23415001498548077\n",
      "L2 norm of the error in DA solution 4.533500982878858e-18\n",
      "[26583, 72494, 44015, 44651, 52828, 56364, 48384, 51491, 2813, 58368]\n"
     ]
    },
    {
     "name": "stderr",
     "output_type": "stream",
     "text": [
      "\n",
      " 28%|██▊       | 284/1000 [02:17<05:46,  2.06it/s]\u001b[A"
     ]
    },
    {
     "name": "stdout",
     "output_type": "stream",
     "text": [
      "L2 norm of the background error 0.5406598061898596\n",
      "L2 norm of the error in DA solution 5.822955455937002e-17\n",
      "[72404, 75087, 92831, 47616, 48009, 74311, 37130, 57721, 4010, 10199]\n"
     ]
    },
    {
     "name": "stderr",
     "output_type": "stream",
     "text": [
      "\n",
      " 28%|██▊       | 285/1000 [02:17<05:42,  2.09it/s]\u001b[A"
     ]
    },
    {
     "name": "stdout",
     "output_type": "stream",
     "text": [
      "L2 norm of the background error 0.8325330600185935\n",
      "L2 norm of the error in DA solution 1.0659842200177806e-16\n",
      "[46708, 21971, 66780, 47616, 18750, 29461, 933, 36030, 35095, 58368]\n"
     ]
    },
    {
     "name": "stderr",
     "output_type": "stream",
     "text": [
      "\n",
      " 29%|██▊       | 286/1000 [02:18<05:38,  2.11it/s]\u001b[A"
     ]
    },
    {
     "name": "stdout",
     "output_type": "stream",
     "text": [
      "L2 norm of the background error 0.8229145086465139\n",
      "L2 norm of the error in DA solution 1.5808747618994196e-16\n",
      "[13877, 14226, 62867, 47616, 76464, 54030, 49047, 59728, 27838, 12849]\n"
     ]
    },
    {
     "name": "stderr",
     "output_type": "stream",
     "text": [
      "\n",
      " 29%|██▊       | 287/1000 [02:18<05:36,  2.12it/s]\u001b[A"
     ]
    },
    {
     "name": "stdout",
     "output_type": "stream",
     "text": [
      "L2 norm of the background error 0.5998615927019231\n",
      "L2 norm of the error in DA solution 5.220323904640802e-17\n",
      "[22202, 33912, 69952, 47616, 74980, 27709, 80036, 51419, 45786, 46332]\n"
     ]
    },
    {
     "name": "stderr",
     "output_type": "stream",
     "text": [
      "\n",
      " 29%|██▉       | 288/1000 [02:19<05:35,  2.12it/s]\u001b[A"
     ]
    },
    {
     "name": "stdout",
     "output_type": "stream",
     "text": [
      "L2 norm of the background error 1.092276630511631\n",
      "L2 norm of the error in DA solution 5.574960190985909e-17\n",
      "[57771, 78446, 56291, 44651, 52457, 22781, 49047, 15924, 10489, 29094]\n"
     ]
    },
    {
     "name": "stderr",
     "output_type": "stream",
     "text": [
      "\n",
      " 29%|██▉       | 289/1000 [02:19<05:33,  2.13it/s]\u001b[A"
     ]
    },
    {
     "name": "stdout",
     "output_type": "stream",
     "text": [
      "L2 norm of the background error 0.3895748022450393\n",
      "L2 norm of the error in DA solution 1.8023109262421638e-17\n",
      "[77492, 7769, 41393, 44651, 48502, 78037, 45261, 37879, 8015, 9837]\n"
     ]
    },
    {
     "name": "stderr",
     "output_type": "stream",
     "text": [
      "\n",
      " 29%|██▉       | 290/1000 [02:20<05:31,  2.14it/s]\u001b[A"
     ]
    },
    {
     "name": "stdout",
     "output_type": "stream",
     "text": [
      "L2 norm of the background error 0.6743581412480303\n",
      "L2 norm of the error in DA solution 4.503564235164254e-17\n",
      "[71401, 27667, 22631, 44651, 6436, 25685, 51578, 15471, 8328, 3732]\n"
     ]
    },
    {
     "name": "stderr",
     "output_type": "stream",
     "text": [
      "\n",
      " 29%|██▉       | 291/1000 [02:20<05:31,  2.14it/s]\u001b[A"
     ]
    },
    {
     "name": "stdout",
     "output_type": "stream",
     "text": [
      "L2 norm of the background error 0.7767909039687801\n",
      "L2 norm of the error in DA solution 1.1114274484664686e-16\n",
      "[32674, 16620, 66780, 47616, 48502, 52107, 58282, 42537, 6290, 3732]\n"
     ]
    },
    {
     "name": "stderr",
     "output_type": "stream",
     "text": [
      "\n",
      " 29%|██▉       | 292/1000 [02:21<05:30,  2.14it/s]\u001b[A"
     ]
    },
    {
     "name": "stdout",
     "output_type": "stream",
     "text": [
      "L2 norm of the background error 0.703598684323919\n",
      "L2 norm of the error in DA solution 5.04702337342717e-17\n",
      "[68114, 74926, 66686, 47616, 52828, 13087, 66427, 16016, 18902, 1728]\n"
     ]
    },
    {
     "name": "stderr",
     "output_type": "stream",
     "text": [
      "\n",
      " 29%|██▉       | 293/1000 [02:21<05:29,  2.15it/s]\u001b[A"
     ]
    },
    {
     "name": "stdout",
     "output_type": "stream",
     "text": [
      "L2 norm of the background error 0.39673358071336273\n",
      "L2 norm of the error in DA solution 3.984728503790946e-17\n",
      "[28405, 37874, 45170, 44651, 21885, 20574, 31208, 44693, 1095, 55952]\n"
     ]
    },
    {
     "name": "stderr",
     "output_type": "stream",
     "text": [
      "\n",
      " 29%|██▉       | 294/1000 [02:22<05:27,  2.15it/s]\u001b[A"
     ]
    },
    {
     "name": "stdout",
     "output_type": "stream",
     "text": [
      "L2 norm of the background error 0.5122885003043876\n",
      "L2 norm of the error in DA solution 2.753223181496452e-18\n",
      "[22202, 24586, 66686, 44651, 48009, 90624, 68641, 38255, 1125, 4340]\n"
     ]
    },
    {
     "name": "stderr",
     "output_type": "stream",
     "text": [
      "\n",
      " 30%|██▉       | 295/1000 [02:22<05:30,  2.13it/s]\u001b[A"
     ]
    },
    {
     "name": "stdout",
     "output_type": "stream",
     "text": [
      "L2 norm of the background error 1.0892258083646136\n",
      "L2 norm of the error in DA solution 5.796222726471903e-16\n",
      "[29990, 57473, 47478, 47616, 48009, 94415, 71293, 55018, 11381, 48457]\n"
     ]
    },
    {
     "name": "stderr",
     "output_type": "stream",
     "text": [
      "\n",
      " 30%|██▉       | 296/1000 [02:23<05:30,  2.13it/s]\u001b[A"
     ]
    },
    {
     "name": "stdout",
     "output_type": "stream",
     "text": [
      "L2 norm of the background error 0.7345555283955066\n",
      "L2 norm of the error in DA solution 5.350317083360653e-17\n",
      "[43648, 37148, 65766, 44651, 75175, 77971, 31852, 13163, 2569, 60219]\n"
     ]
    },
    {
     "name": "stderr",
     "output_type": "stream",
     "text": [
      "\n",
      " 30%|██▉       | 297/1000 [02:23<05:31,  2.12it/s]\u001b[A"
     ]
    },
    {
     "name": "stdout",
     "output_type": "stream",
     "text": [
      "L2 norm of the background error 0.8056078738858612\n",
      "L2 norm of the error in DA solution 4.2918821775310747e-17\n",
      "[26578, 15547, 13295, 47616, 11634, 85597, 54367, 21049, 14326, 29094]\n"
     ]
    },
    {
     "name": "stderr",
     "output_type": "stream",
     "text": [
      "\n",
      " 30%|██▉       | 298/1000 [02:24<05:30,  2.13it/s]\u001b[A"
     ]
    },
    {
     "name": "stdout",
     "output_type": "stream",
     "text": [
      "L2 norm of the background error 0.7420723602261001\n",
      "L2 norm of the error in DA solution 6.762034469745205e-17\n",
      "[443, 78513, 44089, 47616, 1466, 33703, 50841, 66901, 52622, 47733]\n"
     ]
    },
    {
     "name": "stderr",
     "output_type": "stream",
     "text": [
      "\n",
      " 30%|██▉       | 299/1000 [02:24<05:29,  2.13it/s]\u001b[A"
     ]
    },
    {
     "name": "stdout",
     "output_type": "stream",
     "text": [
      "L2 norm of the background error 0.3242696630868859\n",
      "L2 norm of the error in DA solution 1.1704416848626996e-17\n",
      "[67389, 46217, 7667, 44651, 22974, 25685, 58693, 61809, 52229, 3753]\n"
     ]
    },
    {
     "name": "stderr",
     "output_type": "stream",
     "text": [
      "\n",
      " 30%|███       | 300/1000 [02:24<05:29,  2.13it/s]\u001b[A"
     ]
    },
    {
     "name": "stdout",
     "output_type": "stream",
     "text": [
      "L2 norm of the background error 0.49953721129166206\n",
      "L2 norm of the error in DA solution 6.13991997236226e-17\n",
      "[89329, 29133, 30268, 47616, 11634, 2186, 542, 57990, 6304, 35206]\n"
     ]
    },
    {
     "name": "stderr",
     "output_type": "stream",
     "text": [
      "\n",
      " 30%|███       | 301/1000 [02:25<05:30,  2.11it/s]\u001b[A"
     ]
    },
    {
     "name": "stdout",
     "output_type": "stream",
     "text": [
      "L2 norm of the background error 0.6627842101241964\n",
      "L2 norm of the error in DA solution 1.473668862354783e-17\n",
      "[46892, 59598, 57876, 47616, 21885, 38871, 14938, 40071, 35020, 20020]\n"
     ]
    },
    {
     "name": "stderr",
     "output_type": "stream",
     "text": [
      "\n",
      " 30%|███       | 302/1000 [02:25<05:32,  2.10it/s]\u001b[A"
     ]
    },
    {
     "name": "stdout",
     "output_type": "stream",
     "text": [
      "L2 norm of the background error 0.5960533213031692\n",
      "L2 norm of the error in DA solution 4.7641383830817216e-17\n",
      "[90824, 78322, 43546, 47616, 11634, 25867, 60538, 13806, 2858, 6769]\n"
     ]
    },
    {
     "name": "stderr",
     "output_type": "stream",
     "text": [
      "\n",
      " 30%|███       | 303/1000 [02:26<05:29,  2.11it/s]\u001b[A"
     ]
    },
    {
     "name": "stdout",
     "output_type": "stream",
     "text": [
      "L2 norm of the background error 0.4984978579323809\n",
      "L2 norm of the error in DA solution 6.822737720047447e-17\n",
      "[64389, 847, 56322, 47616, 82371, 65805, 21502, 71941, 22354, 33690]\n"
     ]
    },
    {
     "name": "stderr",
     "output_type": "stream",
     "text": [
      "\n",
      " 30%|███       | 304/1000 [02:26<05:26,  2.13it/s]\u001b[A"
     ]
    },
    {
     "name": "stdout",
     "output_type": "stream",
     "text": [
      "L2 norm of the background error 0.9653172442112581\n",
      "L2 norm of the error in DA solution 1.519075071271153e-16\n",
      "[56492, 49154, 20521, 44651, 48502, 31624, 20813, 66625, 1305, 39244]\n"
     ]
    },
    {
     "name": "stderr",
     "output_type": "stream",
     "text": [
      "\n",
      " 30%|███       | 305/1000 [02:27<05:24,  2.14it/s]\u001b[A"
     ]
    },
    {
     "name": "stdout",
     "output_type": "stream",
     "text": [
      "L2 norm of the background error 0.740776414083066\n",
      "L2 norm of the error in DA solution 6.300027115453914e-17\n",
      "[73304, 9527, 46444, 47616, 21885, 93834, 29791, 90545, 37263, 41798]\n"
     ]
    },
    {
     "name": "stderr",
     "output_type": "stream",
     "text": [
      "\n",
      " 31%|███       | 306/1000 [02:27<05:21,  2.16it/s]\u001b[A"
     ]
    },
    {
     "name": "stdout",
     "output_type": "stream",
     "text": [
      "L2 norm of the background error 0.34542649501335754\n",
      "L2 norm of the error in DA solution 7.205492217549224e-17\n",
      "[79881, 21038, 19476, 47616, 45495, 47579, 65290, 90545, 3078, 6803]\n"
     ]
    },
    {
     "name": "stderr",
     "output_type": "stream",
     "text": [
      "\n",
      " 31%|███       | 307/1000 [02:28<05:21,  2.15it/s]\u001b[A"
     ]
    },
    {
     "name": "stdout",
     "output_type": "stream",
     "text": [
      "L2 norm of the background error 0.7114830347549239\n",
      "L2 norm of the error in DA solution 4.727813436488011e-17\n",
      "[46892, 47048, 89662, 44651, 20460, 35090, 78776, 50885, 2570, 42338]\n"
     ]
    },
    {
     "name": "stderr",
     "output_type": "stream",
     "text": [
      "\n",
      " 31%|███       | 308/1000 [02:28<05:23,  2.14it/s]\u001b[A"
     ]
    },
    {
     "name": "stdout",
     "output_type": "stream",
     "text": [
      "L2 norm of the background error 0.904412081861813\n",
      "L2 norm of the error in DA solution 1.008761481181009e-16\n",
      "[17348, 28134, 147, 47616, 8951, 44623, 74201, 78552, 10496, 24765]\n"
     ]
    },
    {
     "name": "stderr",
     "output_type": "stream",
     "text": [
      "\n",
      " 31%|███       | 309/1000 [02:29<05:20,  2.15it/s]\u001b[A"
     ]
    },
    {
     "name": "stdout",
     "output_type": "stream",
     "text": [
      "L2 norm of the background error 0.7698372315691502\n",
      "L2 norm of the error in DA solution 8.024874313495358e-17\n",
      "[42013, 74956, 54223, 47616, 10389, 9309, 48149, 49318, 37263, 10122]\n"
     ]
    },
    {
     "name": "stderr",
     "output_type": "stream",
     "text": [
      "\n",
      " 31%|███       | 310/1000 [02:29<05:20,  2.15it/s]\u001b[A"
     ]
    },
    {
     "name": "stdout",
     "output_type": "stream",
     "text": [
      "L2 norm of the background error 0.8075073706905392\n",
      "L2 norm of the error in DA solution 6.343811907849654e-17\n",
      "[71878, 46827, 76517, 47616, 8676, 10700, 29459, 59447, 37932, 10786]\n"
     ]
    },
    {
     "name": "stderr",
     "output_type": "stream",
     "text": [
      "\n",
      " 31%|███       | 311/1000 [02:30<05:20,  2.15it/s]\u001b[A"
     ]
    },
    {
     "name": "stdout",
     "output_type": "stream",
     "text": [
      "L2 norm of the background error 0.6603886250860178\n",
      "L2 norm of the error in DA solution 3.413090372508462e-17\n",
      "[81227, 79391, 66234, 47616, 55576, 49354, 78683, 66713, 10729, 3111]\n"
     ]
    },
    {
     "name": "stderr",
     "output_type": "stream",
     "text": [
      "\n",
      " 31%|███       | 312/1000 [02:30<05:19,  2.16it/s]\u001b[A"
     ]
    },
    {
     "name": "stdout",
     "output_type": "stream",
     "text": [
      "L2 norm of the background error 0.4607467385452839\n",
      "L2 norm of the error in DA solution 4.225478003059649e-17\n",
      "[93429, 49461, 47978, 47616, 55576, 59433, 80932, 71227, 32311, 21938]\n"
     ]
    },
    {
     "name": "stderr",
     "output_type": "stream",
     "text": [
      "\n",
      " 31%|███▏      | 313/1000 [02:31<05:17,  2.16it/s]\u001b[A"
     ]
    },
    {
     "name": "stdout",
     "output_type": "stream",
     "text": [
      "L2 norm of the background error 0.558666553192574\n",
      "L2 norm of the error in DA solution 1.162834338713886e-16\n",
      "[90155, 58809, 65700, 44651, 82371, 52110, 47070, 38669, 28245, 60117]\n"
     ]
    },
    {
     "name": "stderr",
     "output_type": "stream",
     "text": [
      "\n",
      " 31%|███▏      | 314/1000 [02:31<05:17,  2.16it/s]\u001b[A"
     ]
    },
    {
     "name": "stdout",
     "output_type": "stream",
     "text": [
      "L2 norm of the background error 0.41958508200490346\n",
      "L2 norm of the error in DA solution 4.399664976546738e-17\n",
      "[28764, 80022, 15407, 47616, 74980, 25977, 18565, 66441, 9534, 13773]\n"
     ]
    },
    {
     "name": "stderr",
     "output_type": "stream",
     "text": [
      "\n",
      " 32%|███▏      | 315/1000 [02:31<05:16,  2.16it/s]\u001b[A"
     ]
    },
    {
     "name": "stdout",
     "output_type": "stream",
     "text": [
      "L2 norm of the background error 0.485883494568379\n",
      "L2 norm of the error in DA solution 4.6778412081151604e-17\n",
      "[42811, 14642, 40477, 47616, 20460, 9114, 46017, 37798, 47382, 8787]\n"
     ]
    },
    {
     "name": "stderr",
     "output_type": "stream",
     "text": [
      "\n",
      " 32%|███▏      | 316/1000 [02:32<05:16,  2.16it/s]\u001b[A"
     ]
    },
    {
     "name": "stdout",
     "output_type": "stream",
     "text": [
      "L2 norm of the background error 0.6486488868485505\n",
      "L2 norm of the error in DA solution 6.822640371485798e-17\n",
      "[21240, 30266, 73900, 44651, 22974, 55444, 92076, 66468, 25980, 69302]\n"
     ]
    },
    {
     "name": "stderr",
     "output_type": "stream",
     "text": [
      "\n",
      " 32%|███▏      | 317/1000 [02:32<05:15,  2.17it/s]\u001b[A"
     ]
    },
    {
     "name": "stdout",
     "output_type": "stream",
     "text": [
      "L2 norm of the background error 0.5767954867798791\n",
      "L2 norm of the error in DA solution 1.1278879788658262e-16\n",
      "[61892, 61202, 92076, 44651, 45495, 53180, 49047, 70414, 38699, 43305]\n"
     ]
    },
    {
     "name": "stderr",
     "output_type": "stream",
     "text": [
      "\n",
      " 32%|███▏      | 318/1000 [02:33<05:15,  2.16it/s]\u001b[A"
     ]
    },
    {
     "name": "stdout",
     "output_type": "stream",
     "text": [
      "L2 norm of the background error 0.8579933463434454\n",
      "L2 norm of the error in DA solution 9.25790387202652e-17\n",
      "[24162, 84963, 16253, 44651, 82371, 37014, 66655, 7612, 22903, 48458]\n"
     ]
    },
    {
     "name": "stderr",
     "output_type": "stream",
     "text": [
      "\n",
      " 32%|███▏      | 319/1000 [02:33<05:13,  2.17it/s]\u001b[A"
     ]
    },
    {
     "name": "stdout",
     "output_type": "stream",
     "text": [
      "L2 norm of the background error 0.6697130842480445\n",
      "L2 norm of the error in DA solution 9.914412159505505e-17\n",
      "[22324, 74296, 43621, 47616, 55576, 17616, 39179, 74654, 45786, 22076]\n"
     ]
    },
    {
     "name": "stderr",
     "output_type": "stream",
     "text": [
      "\n",
      " 32%|███▏      | 320/1000 [02:34<05:13,  2.17it/s]\u001b[A"
     ]
    },
    {
     "name": "stdout",
     "output_type": "stream",
     "text": [
      "L2 norm of the background error 0.39226592416042494\n",
      "L2 norm of the error in DA solution 8.33653565246308e-17\n",
      "[30059, 57473, 71804, 47616, 6436, 60158, 69770, 40071, 3326, 60117]\n"
     ]
    },
    {
     "name": "stderr",
     "output_type": "stream",
     "text": [
      "\n",
      " 32%|███▏      | 321/1000 [02:34<05:12,  2.17it/s]\u001b[A"
     ]
    },
    {
     "name": "stdout",
     "output_type": "stream",
     "text": [
      "L2 norm of the background error 0.640326323169004\n",
      "L2 norm of the error in DA solution 5.0967083248462396e-17\n",
      "[63544, 19340, 40411, 44651, 16534, 42389, 54378, 73708, 31685, 17587]\n"
     ]
    },
    {
     "name": "stderr",
     "output_type": "stream",
     "text": [
      "\n",
      " 32%|███▏      | 322/1000 [02:35<05:11,  2.18it/s]\u001b[A"
     ]
    },
    {
     "name": "stdout",
     "output_type": "stream",
     "text": [
      "L2 norm of the background error 0.45102163792073485\n",
      "L2 norm of the error in DA solution 1.4334481696687416e-17\n",
      "[83143, 15547, 6309, 44651, 74590, 37014, 42319, 45170, 27782, 10122]\n"
     ]
    },
    {
     "name": "stderr",
     "output_type": "stream",
     "text": [
      "\n",
      " 32%|███▏      | 323/1000 [02:35<05:22,  2.10it/s]\u001b[A"
     ]
    },
    {
     "name": "stdout",
     "output_type": "stream",
     "text": [
      "L2 norm of the background error 0.891288128245528\n",
      "L2 norm of the error in DA solution 6.346094035042115e-17\n",
      "[70493, 27305, 22851, 44651, 75175, 49505, 60059, 24765, 10384, 16360]\n"
     ]
    },
    {
     "name": "stderr",
     "output_type": "stream",
     "text": [
      "\n",
      " 32%|███▏      | 324/1000 [02:36<05:19,  2.12it/s]\u001b[A"
     ]
    },
    {
     "name": "stdout",
     "output_type": "stream",
     "text": [
      "L2 norm of the background error 0.6792342501659829\n",
      "L2 norm of the error in DA solution 5.218557335093998e-17\n",
      "[56547, 7763, 2513, 47616, 58253, 33391, 18565, 45113, 21037, 19615]\n"
     ]
    },
    {
     "name": "stderr",
     "output_type": "stream",
     "text": [
      "\n",
      " 32%|███▎      | 325/1000 [02:36<05:16,  2.13it/s]\u001b[A"
     ]
    },
    {
     "name": "stdout",
     "output_type": "stream",
     "text": [
      "L2 norm of the background error 1.0151975026835736\n",
      "L2 norm of the error in DA solution 1.1938412202947686e-16\n",
      "[80103, 37874, 68446, 44651, 48502, 58272, 49058, 33892, 35160, 19654]\n"
     ]
    },
    {
     "name": "stderr",
     "output_type": "stream",
     "text": [
      "\n",
      " 33%|███▎      | 326/1000 [02:37<05:14,  2.14it/s]\u001b[A"
     ]
    },
    {
     "name": "stdout",
     "output_type": "stream",
     "text": [
      "L2 norm of the background error 0.4035052311581159\n",
      "L2 norm of the error in DA solution 6.517330856168922e-17\n",
      "[72404, 17858, 89681, 44651, 17019, 20574, 7699, 79654, 15728, 19616]\n"
     ]
    },
    {
     "name": "stderr",
     "output_type": "stream",
     "text": [
      "\n",
      " 33%|███▎      | 327/1000 [02:37<05:13,  2.15it/s]\u001b[A"
     ]
    },
    {
     "name": "stdout",
     "output_type": "stream",
     "text": [
      "L2 norm of the background error 0.7761007277832552\n",
      "L2 norm of the error in DA solution 4.8488078940573216e-18\n",
      "[20016, 81415, 46095, 44651, 58253, 7300, 92518, 44712, 12457, 12488]\n"
     ]
    },
    {
     "name": "stderr",
     "output_type": "stream",
     "text": [
      "\n",
      " 33%|███▎      | 328/1000 [02:38<05:12,  2.15it/s]\u001b[A"
     ]
    },
    {
     "name": "stdout",
     "output_type": "stream",
     "text": [
      "L2 norm of the background error 0.605154591160355\n",
      "L2 norm of the error in DA solution 8.015029736529352e-17\n",
      "[32674, 78322, 62885, 47616, 74590, 3449, 40085, 67038, 4009, 48766]\n"
     ]
    },
    {
     "name": "stderr",
     "output_type": "stream",
     "text": [
      "\n",
      " 33%|███▎      | 329/1000 [02:38<05:19,  2.10it/s]\u001b[A"
     ]
    },
    {
     "name": "stdout",
     "output_type": "stream",
     "text": [
      "L2 norm of the background error 0.8392553243466524\n",
      "L2 norm of the error in DA solution 7.064722776733603e-17\n",
      "[14465, 38196, 39205, 47616, 11634, 22824, 55803, 7639, 9050, 9689]\n"
     ]
    },
    {
     "name": "stderr",
     "output_type": "stream",
     "text": [
      "\n",
      " 33%|███▎      | 330/1000 [02:39<05:28,  2.04it/s]\u001b[A"
     ]
    },
    {
     "name": "stdout",
     "output_type": "stream",
     "text": [
      "L2 norm of the background error 0.3894072567997318\n",
      "L2 norm of the error in DA solution 6.470585511144941e-17\n",
      "[82991, 71212, 38740, 44651, 10048, 26988, 59683, 55019, 19296, 47874]\n"
     ]
    },
    {
     "name": "stderr",
     "output_type": "stream",
     "text": [
      "\n",
      " 33%|███▎      | 331/1000 [02:39<05:33,  2.01it/s]\u001b[A"
     ]
    },
    {
     "name": "stdout",
     "output_type": "stream",
     "text": [
      "L2 norm of the background error 0.7119698068167706\n",
      "L2 norm of the error in DA solution 4.890102411142779e-17\n",
      "[90926, 31680, 21030, 44651, 21885, 74208, 6289, 28012, 55134, 58633]\n"
     ]
    },
    {
     "name": "stderr",
     "output_type": "stream",
     "text": [
      "\n",
      " 33%|███▎      | 332/1000 [02:40<05:37,  1.98it/s]\u001b[A"
     ]
    },
    {
     "name": "stdout",
     "output_type": "stream",
     "text": [
      "L2 norm of the background error 0.47622192352366144\n",
      "L2 norm of the error in DA solution 4.1640516050843094e-17\n",
      "[49451, 53048, 20650, 44651, 8676, 44505, 8057, 22432, 32311, 56514]\n"
     ]
    },
    {
     "name": "stderr",
     "output_type": "stream",
     "text": [
      "\n",
      " 33%|███▎      | 333/1000 [02:40<05:41,  1.95it/s]\u001b[A"
     ]
    },
    {
     "name": "stdout",
     "output_type": "stream",
     "text": [
      "L2 norm of the background error 0.8023311922359878\n",
      "L2 norm of the error in DA solution 1.0754506742731257e-16\n",
      "[44335, 78322, 90977, 44651, 8676, 39303, 7902, 74834, 9668, 58369]\n"
     ]
    },
    {
     "name": "stderr",
     "output_type": "stream",
     "text": [
      "\n",
      " 33%|███▎      | 334/1000 [02:41<05:44,  1.94it/s]\u001b[A"
     ]
    },
    {
     "name": "stdout",
     "output_type": "stream",
     "text": [
      "L2 norm of the background error 0.6705563584990923\n",
      "L2 norm of the error in DA solution 7.346032930517887e-17\n",
      "[22440, 31625, 22439, 47616, 48502, 78150, 18840, 20602, 604, 37293]\n"
     ]
    },
    {
     "name": "stderr",
     "output_type": "stream",
     "text": [
      "\n",
      " 34%|███▎      | 335/1000 [02:41<05:44,  1.93it/s]\u001b[A"
     ]
    },
    {
     "name": "stdout",
     "output_type": "stream",
     "text": [
      "L2 norm of the background error 0.4322477802069996\n",
      "L2 norm of the error in DA solution 2.6766054778305822e-17\n",
      "[70128, 53048, 44721, 44651, 16534, 7458, 13260, 54223, 6771, 6862]\n"
     ]
    },
    {
     "name": "stderr",
     "output_type": "stream",
     "text": [
      "\n",
      " 34%|███▎      | 336/1000 [02:42<05:45,  1.92it/s]\u001b[A"
     ]
    },
    {
     "name": "stdout",
     "output_type": "stream",
     "text": [
      "L2 norm of the background error 0.6617344438941692\n",
      "L2 norm of the error in DA solution 1.0087004945113753e-16\n",
      "[32674, 14277, 90396, 47616, 17018, 39025, 51160, 27948, 18902, 37084]\n"
     ]
    },
    {
     "name": "stderr",
     "output_type": "stream",
     "text": [
      "\n",
      " 34%|███▎      | 337/1000 [02:42<05:45,  1.92it/s]\u001b[A"
     ]
    },
    {
     "name": "stdout",
     "output_type": "stream",
     "text": [
      "L2 norm of the background error 0.42623270386266116\n",
      "L2 norm of the error in DA solution 6.038597031351086e-17\n",
      "[48238, 21038, 92269, 44651, 10048, 94413, 22288, 44898, 9580, 41858]\n"
     ]
    },
    {
     "name": "stderr",
     "output_type": "stream",
     "text": [
      "\n",
      " 34%|███▍      | 338/1000 [02:43<05:45,  1.92it/s]\u001b[A"
     ]
    },
    {
     "name": "stdout",
     "output_type": "stream",
     "text": [
      "L2 norm of the background error 0.32464911608669184\n",
      "L2 norm of the error in DA solution 8.124644304446395e-18\n",
      "[49438, 74229, 110, 44651, 76464, 35090, 53722, 68712, 42057, 53040]\n"
     ]
    },
    {
     "name": "stderr",
     "output_type": "stream",
     "text": [
      "\n",
      " 34%|███▍      | 339/1000 [02:43<05:44,  1.92it/s]\u001b[A"
     ]
    },
    {
     "name": "stdout",
     "output_type": "stream",
     "text": [
      "L2 norm of the background error 0.4495564862901827\n",
      "L2 norm of the error in DA solution 4.70473672474231e-17\n",
      "[59783, 46675, 53058, 47616, 16534, 16011, 47876, 91242, 1305, 52352]\n"
     ]
    },
    {
     "name": "stderr",
     "output_type": "stream",
     "text": [
      "\n",
      " 34%|███▍      | 340/1000 [02:44<05:46,  1.91it/s]\u001b[A"
     ]
    },
    {
     "name": "stdout",
     "output_type": "stream",
     "text": [
      "L2 norm of the background error 0.5852689519726998\n",
      "L2 norm of the error in DA solution 1.0548442586773066e-16\n",
      "[70493, 74749, 7761, 44651, 48502, 53180, 41849, 75389, 41026, 66071]\n"
     ]
    },
    {
     "name": "stderr",
     "output_type": "stream",
     "text": [
      "\n",
      " 34%|███▍      | 341/1000 [02:44<05:45,  1.91it/s]\u001b[A"
     ]
    },
    {
     "name": "stdout",
     "output_type": "stream",
     "text": [
      "L2 norm of the background error 1.2888614105721004\n",
      "L2 norm of the error in DA solution 1.5884278020991246e-16\n",
      "[25737, 53229, 58652, 47616, 74980, 21267, 28747, 59728, 41026, 35206]\n"
     ]
    },
    {
     "name": "stderr",
     "output_type": "stream",
     "text": [
      "\n",
      " 34%|███▍      | 342/1000 [02:45<05:44,  1.91it/s]\u001b[A"
     ]
    },
    {
     "name": "stdout",
     "output_type": "stream",
     "text": [
      "L2 norm of the background error 0.7111179530326674\n",
      "L2 norm of the error in DA solution 4.5820585267720185e-17\n",
      "[70493, 68949, 55002, 47616, 74980, 25977, 54528, 39780, 3112, 8473]\n"
     ]
    },
    {
     "name": "stderr",
     "output_type": "stream",
     "text": [
      "\n",
      " 34%|███▍      | 343/1000 [02:45<05:44,  1.91it/s]\u001b[A"
     ]
    },
    {
     "name": "stdout",
     "output_type": "stream",
     "text": [
      "L2 norm of the background error 0.7837902672425234\n",
      "L2 norm of the error in DA solution 1.248787673400367e-16\n",
      "[71393, 85928, 89139, 44651, 76464, 21399, 49511, 73708, 3334, 58633]\n"
     ]
    },
    {
     "name": "stderr",
     "output_type": "stream",
     "text": [
      "\n",
      " 34%|███▍      | 344/1000 [02:46<05:43,  1.91it/s]\u001b[A"
     ]
    },
    {
     "name": "stdout",
     "output_type": "stream",
     "text": [
      "L2 norm of the background error 0.8213301198007259\n",
      "L2 norm of the error in DA solution 2.2525147832748578e-17\n",
      "[72185, 59598, 60495, 44651, 47734, 39303, 14598, 52929, 12081, 10087]\n"
     ]
    },
    {
     "name": "stderr",
     "output_type": "stream",
     "text": [
      "\n",
      " 34%|███▍      | 345/1000 [02:46<05:42,  1.91it/s]\u001b[A"
     ]
    },
    {
     "name": "stdout",
     "output_type": "stream",
     "text": [
      "L2 norm of the background error 0.5673155941163375\n",
      "L2 norm of the error in DA solution 4.786496410718977e-17\n",
      "[46888, 33912, 13295, 47616, 82371, 30408, 6932, 22497, 23686, 41798]\n"
     ]
    },
    {
     "name": "stderr",
     "output_type": "stream",
     "text": [
      "\n",
      " 35%|███▍      | 346/1000 [02:47<05:40,  1.92it/s]\u001b[A"
     ]
    },
    {
     "name": "stdout",
     "output_type": "stream",
     "text": [
      "L2 norm of the background error 0.6966540463038781\n",
      "L2 norm of the error in DA solution 5.949765681692759e-17\n",
      "[22440, 51755, 41394, 44651, 20460, 53970, 26554, 605, 11383, 31613]\n"
     ]
    },
    {
     "name": "stderr",
     "output_type": "stream",
     "text": [
      "\n",
      " 35%|███▍      | 347/1000 [02:47<05:41,  1.91it/s]\u001b[A"
     ]
    },
    {
     "name": "stdout",
     "output_type": "stream",
     "text": [
      "L2 norm of the background error 0.667857682519701\n",
      "L2 norm of the error in DA solution 6.227799008181836e-17\n",
      "[49325, 61230, 30348, 47616, 17019, 75281, 8764, 49759, 20243, 22371]\n"
     ]
    },
    {
     "name": "stderr",
     "output_type": "stream",
     "text": [
      "\n",
      " 35%|███▍      | 348/1000 [02:48<05:41,  1.91it/s]\u001b[A"
     ]
    },
    {
     "name": "stdout",
     "output_type": "stream",
     "text": [
      "L2 norm of the background error 0.7011733474004049\n",
      "L2 norm of the error in DA solution 7.529448300119471e-17\n",
      "[80045, 18041, 23269, 47616, 74980, 8223, 49056, 26239, 6509, 1084]\n"
     ]
    },
    {
     "name": "stderr",
     "output_type": "stream",
     "text": [
      "\n",
      " 35%|███▍      | 349/1000 [02:48<05:39,  1.92it/s]\u001b[A"
     ]
    },
    {
     "name": "stdout",
     "output_type": "stream",
     "text": [
      "L2 norm of the background error 0.6115559460634274\n",
      "L2 norm of the error in DA solution 4.736034207019186e-17\n",
      "[90149, 89309, 78427, 44651, 6436, 15466, 32152, 38180, 9668, 60219]\n"
     ]
    },
    {
     "name": "stderr",
     "output_type": "stream",
     "text": [
      "\n",
      " 35%|███▌      | 350/1000 [02:49<05:39,  1.92it/s]\u001b[A"
     ]
    },
    {
     "name": "stdout",
     "output_type": "stream",
     "text": [
      "L2 norm of the background error 0.40121428382079044\n",
      "L2 norm of the error in DA solution 3.947669420387015e-18\n",
      "[46708, 53933, 33389, 47616, 75175, 29647, 38171, 24234, 2530, 40282]\n"
     ]
    },
    {
     "name": "stderr",
     "output_type": "stream",
     "text": [
      "\n",
      " 35%|███▌      | 351/1000 [02:50<05:38,  1.92it/s]\u001b[A"
     ]
    },
    {
     "name": "stdout",
     "output_type": "stream",
     "text": [
      "L2 norm of the background error 0.34210978411136556\n",
      "L2 norm of the error in DA solution 7.223902790872846e-17\n",
      "[37192, 29261, 74735, 47616, 17018, 93837, 5177, 90545, 65500, 63499]\n"
     ]
    },
    {
     "name": "stderr",
     "output_type": "stream",
     "text": [
      "\n",
      " 35%|███▌      | 352/1000 [02:50<05:38,  1.92it/s]\u001b[A"
     ]
    },
    {
     "name": "stdout",
     "output_type": "stream",
     "text": [
      "L2 norm of the background error 0.8013928413156924\n",
      "L2 norm of the error in DA solution 5.667508457708472e-17\n",
      "[28764, 49154, 80376, 47616, 52430, 8646, 33671, 61578, 25137, 8787]\n"
     ]
    },
    {
     "name": "stderr",
     "output_type": "stream",
     "text": [
      "\n",
      " 35%|███▌      | 353/1000 [02:51<05:38,  1.91it/s]\u001b[A"
     ]
    },
    {
     "name": "stdout",
     "output_type": "stream",
     "text": [
      "L2 norm of the background error 0.49974533251552133\n",
      "L2 norm of the error in DA solution 3.67464309743908e-17\n",
      "[30059, 24533, 13295, 47616, 6436, 37429, 1894, 75026, 15024, 29094]\n"
     ]
    },
    {
     "name": "stderr",
     "output_type": "stream",
     "text": [
      "\n",
      " 35%|███▌      | 354/1000 [02:51<05:39,  1.90it/s]\u001b[A"
     ]
    },
    {
     "name": "stdout",
     "output_type": "stream",
     "text": [
      "L2 norm of the background error 0.7542618586523789\n",
      "L2 norm of the error in DA solution 5.142217538629341e-17\n",
      "[56516, 50605, 74814, 44651, 18750, 22824, 9295, 51963, 32487, 6864]\n"
     ]
    },
    {
     "name": "stderr",
     "output_type": "stream",
     "text": [
      "\n",
      " 36%|███▌      | 355/1000 [02:52<05:38,  1.91it/s]\u001b[A"
     ]
    },
    {
     "name": "stdout",
     "output_type": "stream",
     "text": [
      "L2 norm of the background error 0.9008683591938292\n",
      "L2 norm of the error in DA solution 1.3505841375168955e-16\n",
      "[24162, 61230, 75142, 44651, 74980, 51228, 89208, 44898, 852, 10060]\n"
     ]
    },
    {
     "name": "stderr",
     "output_type": "stream",
     "text": [
      "\n",
      " 36%|███▌      | 356/1000 [02:52<05:36,  1.91it/s]\u001b[A"
     ]
    },
    {
     "name": "stdout",
     "output_type": "stream",
     "text": [
      "L2 norm of the background error 0.4625857111629439\n",
      "L2 norm of the error in DA solution 3.155768202460661e-17\n",
      "[81227, 90434, 78533, 44651, 10048, 83968, 26307, 52742, 37263, 4881]\n"
     ]
    },
    {
     "name": "stderr",
     "output_type": "stream",
     "text": [
      "\n",
      " 36%|███▌      | 357/1000 [02:53<05:35,  1.92it/s]\u001b[A"
     ]
    },
    {
     "name": "stdout",
     "output_type": "stream",
     "text": [
      "L2 norm of the background error 0.6058990445029335\n",
      "L2 norm of the error in DA solution 1.2578205059082159e-16\n",
      "[68114, 30384, 69785, 44651, 74590, 78026, 9621, 49564, 10059, 39245]\n"
     ]
    },
    {
     "name": "stderr",
     "output_type": "stream",
     "text": [
      "\n",
      " 36%|███▌      | 358/1000 [02:53<05:34,  1.92it/s]\u001b[A"
     ]
    },
    {
     "name": "stdout",
     "output_type": "stream",
     "text": [
      "L2 norm of the background error 0.45760893370583416\n",
      "L2 norm of the error in DA solution 1.5939474398181743e-17\n",
      "[30197, 75087, 47907, 47616, 17019, 33390, 53722, 31478, 47382, 43430]\n"
     ]
    },
    {
     "name": "stderr",
     "output_type": "stream",
     "text": [
      "\n",
      " 36%|███▌      | 359/1000 [02:54<05:33,  1.92it/s]\u001b[A"
     ]
    },
    {
     "name": "stdout",
     "output_type": "stream",
     "text": [
      "L2 norm of the background error 1.1470505810626255\n",
      "L2 norm of the error in DA solution 1.3468815317602785e-16\n",
      "[39980, 9528, 61591, 44651, 6436, 70833, 57385, 19571, 40170, 6803]\n"
     ]
    },
    {
     "name": "stderr",
     "output_type": "stream",
     "text": [
      "\n",
      " 36%|███▌      | 360/1000 [02:54<05:33,  1.92it/s]\u001b[A"
     ]
    },
    {
     "name": "stdout",
     "output_type": "stream",
     "text": [
      "L2 norm of the background error 0.566842718497967\n",
      "L2 norm of the error in DA solution 3.0668157120249293e-17\n",
      "[21537, 76132, 20651, 44651, 8951, 80155, 68855, 89234, 48260, 6769]\n"
     ]
    },
    {
     "name": "stderr",
     "output_type": "stream",
     "text": [
      "\n",
      " 36%|███▌      | 361/1000 [02:55<05:33,  1.92it/s]\u001b[A"
     ]
    },
    {
     "name": "stdout",
     "output_type": "stream",
     "text": [
      "L2 norm of the background error 0.42079889066692167\n",
      "L2 norm of the error in DA solution 2.306128484666283e-17\n",
      "[73231, 35159, 78427, 47616, 31198, 52040, 11856, 70093, 15621, 14225]\n"
     ]
    },
    {
     "name": "stderr",
     "output_type": "stream",
     "text": [
      "\n",
      " 36%|███▌      | 362/1000 [02:55<05:34,  1.91it/s]\u001b[A"
     ]
    },
    {
     "name": "stdout",
     "output_type": "stream",
     "text": [
      "L2 norm of the background error 0.3722694857253026\n",
      "L2 norm of the error in DA solution 6.4713081076912605e-18\n",
      "[13877, 81436, 14916, 44651, 31198, 51232, 30349, 18915, 3112, 74129]\n"
     ]
    },
    {
     "name": "stderr",
     "output_type": "stream",
     "text": [
      "\n",
      " 36%|███▋      | 363/1000 [02:56<05:33,  1.91it/s]\u001b[A"
     ]
    },
    {
     "name": "stdout",
     "output_type": "stream",
     "text": [
      "L2 norm of the background error 0.538001113130838\n",
      "L2 norm of the error in DA solution 7.935930697188622e-17\n",
      "[71401, 29134, 12628, 47616, 48502, 73813, 48149, 68440, 55134, 12322]\n"
     ]
    },
    {
     "name": "stderr",
     "output_type": "stream",
     "text": [
      "\n",
      " 36%|███▋      | 364/1000 [02:56<05:32,  1.91it/s]\u001b[A"
     ]
    },
    {
     "name": "stdout",
     "output_type": "stream",
     "text": [
      "L2 norm of the background error 1.0814780538598712\n",
      "L2 norm of the error in DA solution 1.7409176544024903e-16\n",
      "[85813, 78681, 56960, 44651, 48009, 38494, 34436, 89778, 7849, 14748]\n"
     ]
    },
    {
     "name": "stderr",
     "output_type": "stream",
     "text": [
      "\n",
      " 36%|███▋      | 365/1000 [02:57<05:32,  1.91it/s]\u001b[A"
     ]
    },
    {
     "name": "stdout",
     "output_type": "stream",
     "text": [
      "L2 norm of the background error 0.9972878966979645\n",
      "L2 norm of the error in DA solution 1.2955040738258422e-16\n",
      "[24290, 79391, 34835, 47616, 82371, 91869, 18370, 68855, 11974, 4340]\n"
     ]
    },
    {
     "name": "stderr",
     "output_type": "stream",
     "text": [
      "\n",
      " 37%|███▋      | 366/1000 [02:57<05:32,  1.90it/s]\u001b[A"
     ]
    },
    {
     "name": "stdout",
     "output_type": "stream",
     "text": [
      "L2 norm of the background error 1.3639792291728883\n",
      "L2 norm of the error in DA solution 1.430900816047001e-16\n",
      "[2499, 41268, 75544, 47616, 48009, 26053, 93797, 54318, 11974, 89362]\n"
     ]
    },
    {
     "name": "stderr",
     "output_type": "stream",
     "text": [
      "\n",
      " 37%|███▋      | 367/1000 [02:58<05:32,  1.90it/s]\u001b[A"
     ]
    },
    {
     "name": "stdout",
     "output_type": "stream",
     "text": [
      "L2 norm of the background error 0.5858151298115555\n",
      "L2 norm of the error in DA solution 8.678619442666563e-17\n",
      "[22324, 74954, 44016, 44651, 74980, 17428, 60926, 71988, 35095, 48156]\n"
     ]
    },
    {
     "name": "stderr",
     "output_type": "stream",
     "text": [
      "\n",
      " 37%|███▋      | 368/1000 [02:58<05:30,  1.91it/s]\u001b[A"
     ]
    },
    {
     "name": "stdout",
     "output_type": "stream",
     "text": [
      "L2 norm of the background error 0.5465301916209732\n",
      "L2 norm of the error in DA solution 4.655602476667397e-17\n",
      "[72476, 36722, 82411, 44651, 52457, 70599, 2202, 22515, 9534, 57545]\n"
     ]
    },
    {
     "name": "stderr",
     "output_type": "stream",
     "text": [
      "\n",
      " 37%|███▋      | 369/1000 [02:59<05:30,  1.91it/s]\u001b[A"
     ]
    },
    {
     "name": "stdout",
     "output_type": "stream",
     "text": [
      "L2 norm of the background error 1.1112025579710278\n",
      "L2 norm of the error in DA solution 6.662083411670768e-17\n",
      "[65631, 20750, 62867, 47616, 55576, 28057, 74830, 49107, 55068, 4145]\n"
     ]
    },
    {
     "name": "stderr",
     "output_type": "stream",
     "text": [
      "\n",
      " 37%|███▋      | 370/1000 [02:59<05:29,  1.91it/s]\u001b[A"
     ]
    },
    {
     "name": "stdout",
     "output_type": "stream",
     "text": [
      "L2 norm of the background error 0.6821143876198545\n",
      "L2 norm of the error in DA solution 2.757922702304302e-17\n",
      "[57771, 76449, 80291, 44651, 11634, 22824, 43162, 21048, 18113, 41315]\n"
     ]
    },
    {
     "name": "stderr",
     "output_type": "stream",
     "text": [
      "\n",
      " 37%|███▋      | 371/1000 [03:00<05:28,  1.92it/s]\u001b[A"
     ]
    },
    {
     "name": "stdout",
     "output_type": "stream",
     "text": [
      "L2 norm of the background error 0.7242939834405108\n",
      "L2 norm of the error in DA solution 4.027899897614132e-17\n",
      "[91104, 51755, 77911, 47616, 8676, 53139, 9295, 36209, 65501, 16279]\n"
     ]
    },
    {
     "name": "stderr",
     "output_type": "stream",
     "text": [
      "\n",
      " 37%|███▋      | 372/1000 [03:01<05:29,  1.91it/s]\u001b[A"
     ]
    },
    {
     "name": "stdout",
     "output_type": "stream",
     "text": [
      "L2 norm of the background error 1.1260075213806544\n",
      "L2 norm of the error in DA solution 9.619212493438329e-17\n",
      "[18824, 33059, 68494, 47616, 1466, 73775, 98634, 48767, 10384, 1498]\n"
     ]
    },
    {
     "name": "stderr",
     "output_type": "stream",
     "text": [
      "\n",
      " 37%|███▋      | 373/1000 [03:01<05:27,  1.91it/s]\u001b[A"
     ]
    },
    {
     "name": "stdout",
     "output_type": "stream",
     "text": [
      "L2 norm of the background error 0.3834645065419595\n",
      "L2 norm of the error in DA solution 6.084123452967209e-17\n",
      "[64388, 43131, 11699, 47616, 74980, 36059, 30195, 19693, 11408, 8477]\n"
     ]
    },
    {
     "name": "stderr",
     "output_type": "stream",
     "text": [
      "\n",
      " 37%|███▋      | 374/1000 [03:02<05:29,  1.90it/s]\u001b[A"
     ]
    },
    {
     "name": "stdout",
     "output_type": "stream",
     "text": [
      "L2 norm of the background error 0.6894586130184797\n",
      "L2 norm of the error in DA solution 9.057715682785172e-17\n",
      "[91104, 31680, 80447, 44651, 82371, 73958, 89595, 46026, 19296, 41858]\n"
     ]
    },
    {
     "name": "stderr",
     "output_type": "stream",
     "text": [
      "\n",
      " 38%|███▊      | 375/1000 [03:02<05:28,  1.90it/s]\u001b[A"
     ]
    },
    {
     "name": "stdout",
     "output_type": "stream",
     "text": [
      "L2 norm of the background error 0.5150805822750568\n",
      "L2 norm of the error in DA solution 3.1318389413816496e-17\n",
      "[22324, 49461, 45725, 47616, 52430, 48592, 8057, 49108, 2238, 48458]\n"
     ]
    },
    {
     "name": "stderr",
     "output_type": "stream",
     "text": [
      "\n",
      " 38%|███▊      | 376/1000 [03:03<05:26,  1.91it/s]\u001b[A"
     ]
    },
    {
     "name": "stdout",
     "output_type": "stream",
     "text": [
      "L2 norm of the background error 0.5812078238780016\n",
      "L2 norm of the error in DA solution 5.215763935108442e-17\n",
      "[72476, 41935, 29886, 47616, 18750, 75281, 60397, 66468, 725, 8787]\n"
     ]
    },
    {
     "name": "stderr",
     "output_type": "stream",
     "text": [
      "\n",
      " 38%|███▊      | 377/1000 [03:03<05:25,  1.91it/s]\u001b[A"
     ]
    },
    {
     "name": "stdout",
     "output_type": "stream",
     "text": [
      "L2 norm of the background error 1.009351511503201\n",
      "L2 norm of the error in DA solution 8.695646211397653e-17\n",
      "[77579, 26855, 56491, 47616, 40998, 37636, 89353, 65824, 8098, 663]\n"
     ]
    },
    {
     "name": "stderr",
     "output_type": "stream",
     "text": [
      "\n",
      " 38%|███▊      | 378/1000 [03:04<05:24,  1.91it/s]\u001b[A"
     ]
    },
    {
     "name": "stdout",
     "output_type": "stream",
     "text": [
      "L2 norm of the background error 0.7740516544646152\n",
      "L2 norm of the error in DA solution 4.5952226006210536e-17\n",
      "[66290, 49342, 69036, 44651, 45495, 15104, 52342, 41089, 65500, 42839]\n"
     ]
    },
    {
     "name": "stderr",
     "output_type": "stream",
     "text": [
      "\n",
      " 38%|███▊      | 379/1000 [03:04<05:23,  1.92it/s]\u001b[A"
     ]
    },
    {
     "name": "stdout",
     "output_type": "stream",
     "text": [
      "L2 norm of the background error 0.8343415087069229\n",
      "L2 norm of the error in DA solution 5.227907458023223e-17\n",
      "[9810, 55013, 44372, 47616, 75175, 41323, 55640, 34720, 19677, 14354]\n"
     ]
    },
    {
     "name": "stderr",
     "output_type": "stream",
     "text": [
      "\n",
      " 38%|███▊      | 380/1000 [03:05<05:23,  1.92it/s]\u001b[A"
     ]
    },
    {
     "name": "stdout",
     "output_type": "stream",
     "text": [
      "L2 norm of the background error 1.0106554851350624\n",
      "L2 norm of the error in DA solution 1.6005030907404786e-16\n",
      "[90157, 53871, 54212, 47616, 12495, 49586, 55231, 6140, 30274, 31520]\n"
     ]
    },
    {
     "name": "stderr",
     "output_type": "stream",
     "text": [
      "\n",
      " 38%|███▊      | 381/1000 [03:05<05:23,  1.91it/s]\u001b[A"
     ]
    },
    {
     "name": "stdout",
     "output_type": "stream",
     "text": [
      "L2 norm of the background error 0.4707290663665882\n",
      "L2 norm of the error in DA solution 4.5771876489008775e-18\n",
      "[97671, 51755, 78089, 47616, 52828, 75281, 61296, 22432, 21993, 55811]\n"
     ]
    },
    {
     "name": "stderr",
     "output_type": "stream",
     "text": [
      "\n",
      " 38%|███▊      | 382/1000 [03:06<05:22,  1.92it/s]\u001b[A"
     ]
    },
    {
     "name": "stdout",
     "output_type": "stream",
     "text": [
      "L2 norm of the background error 0.7276186884758528\n",
      "L2 norm of the error in DA solution 7.108677399111896e-17\n",
      "[21536, 44069, 17731, 44651, 22974, 57825, 45718, 30268, 36609, 31520]\n"
     ]
    },
    {
     "name": "stderr",
     "output_type": "stream",
     "text": [
      "\n",
      " 38%|███▊      | 383/1000 [03:06<05:21,  1.92it/s]\u001b[A"
     ]
    },
    {
     "name": "stdout",
     "output_type": "stream",
     "text": [
      "L2 norm of the background error 0.8586726453881355\n",
      "L2 norm of the error in DA solution 5.776414069273286e-17\n",
      "[32164, 85580, 823, 47616, 82371, 44358, 74441, 20691, 6290, 9689]\n"
     ]
    },
    {
     "name": "stderr",
     "output_type": "stream",
     "text": [
      "\n",
      " 38%|███▊      | 384/1000 [03:07<05:20,  1.92it/s]\u001b[A"
     ]
    },
    {
     "name": "stdout",
     "output_type": "stream",
     "text": [
      "L2 norm of the background error 0.635916754350634\n",
      "L2 norm of the error in DA solution 1.041519488990243e-16\n",
      "[96939, 39186, 60984, 44651, 21885, 53167, 58970, 77911, 6245, 9836]\n"
     ]
    },
    {
     "name": "stderr",
     "output_type": "stream",
     "text": [
      "\n",
      " 38%|███▊      | 385/1000 [03:07<05:21,  1.91it/s]\u001b[A"
     ]
    },
    {
     "name": "stdout",
     "output_type": "stream",
     "text": [
      "L2 norm of the background error 0.6721947152643903\n",
      "L2 norm of the error in DA solution 1.2927081735901634e-16\n",
      "[35366, 9527, 67091, 44651, 16534, 57064, 25452, 57990, 31685, 10504]\n"
     ]
    },
    {
     "name": "stderr",
     "output_type": "stream",
     "text": [
      "\n",
      " 39%|███▊      | 386/1000 [03:08<05:21,  1.91it/s]\u001b[A"
     ]
    },
    {
     "name": "stdout",
     "output_type": "stream",
     "text": [
      "L2 norm of the background error 0.29233827442656296\n",
      "L2 norm of the error in DA solution 2.3055486973140464e-17\n",
      "[71401, 51621, 57590, 44651, 10048, 85577, 16870, 50885, 3361, 4881]\n"
     ]
    },
    {
     "name": "stderr",
     "output_type": "stream",
     "text": [
      "\n",
      " 39%|███▊      | 387/1000 [03:08<05:20,  1.91it/s]\u001b[A"
     ]
    },
    {
     "name": "stdout",
     "output_type": "stream",
     "text": [
      "L2 norm of the background error 0.7125581904387385\n",
      "L2 norm of the error in DA solution 6.992551974375531e-17\n",
      "[42303, 22007, 43093, 47616, 52457, 34565, 41850, 52816, 19392, 89362]\n"
     ]
    },
    {
     "name": "stderr",
     "output_type": "stream",
     "text": [
      "\n",
      " 39%|███▉      | 388/1000 [03:09<05:19,  1.91it/s]\u001b[A"
     ]
    },
    {
     "name": "stdout",
     "output_type": "stream",
     "text": [
      "L2 norm of the background error 0.7526021063367793\n",
      "L2 norm of the error in DA solution 9.506640525802911e-17\n",
      "[42811, 14226, 71357, 44651, 58253, 49586, 89772, 24234, 1727, 12321]\n"
     ]
    },
    {
     "name": "stderr",
     "output_type": "stream",
     "text": [
      "\n",
      " 39%|███▉      | 389/1000 [03:09<05:18,  1.92it/s]\u001b[A"
     ]
    },
    {
     "name": "stdout",
     "output_type": "stream",
     "text": [
      "L2 norm of the background error 0.3707331792821191\n",
      "L2 norm of the error in DA solution 1.6081677118059355e-17\n",
      "[62841, 8701, 68494, 44651, 58253, 78037, 33455, 97114, 65391, 30862]\n"
     ]
    },
    {
     "name": "stderr",
     "output_type": "stream",
     "text": [
      "\n",
      " 39%|███▉      | 390/1000 [03:10<05:17,  1.92it/s]\u001b[A"
     ]
    },
    {
     "name": "stdout",
     "output_type": "stream",
     "text": [
      "L2 norm of the background error 0.6891329459345364\n",
      "L2 norm of the error in DA solution 3.0870360788151004e-17\n",
      "[59783, 28501, 46095, 44651, 21885, 42924, 89181, 71941, 1125, 2814]\n"
     ]
    },
    {
     "name": "stderr",
     "output_type": "stream",
     "text": [
      "\n",
      " 39%|███▉      | 391/1000 [03:10<05:17,  1.92it/s]\u001b[A"
     ]
    },
    {
     "name": "stdout",
     "output_type": "stream",
     "text": [
      "L2 norm of the background error 0.44076484293559604\n",
      "L2 norm of the error in DA solution 5.713743267726403e-17\n",
      "[14929, 47048, 15695, 47616, 17018, 44029, 49932, 47091, 35160, 6769]\n"
     ]
    },
    {
     "name": "stderr",
     "output_type": "stream",
     "text": [
      "\n",
      " 39%|███▉      | 392/1000 [03:11<05:17,  1.92it/s]\u001b[A"
     ]
    },
    {
     "name": "stdout",
     "output_type": "stream",
     "text": [
      "L2 norm of the background error 0.5925455884409959\n",
      "L2 norm of the error in DA solution 1.7437488889842647e-17\n",
      "[9408, 154, 89681, 44651, 31198, 83549, 66900, 74699, 20752, 4881]\n"
     ]
    },
    {
     "name": "stderr",
     "output_type": "stream",
     "text": [
      "\n",
      " 39%|███▉      | 393/1000 [03:11<05:16,  1.92it/s]\u001b[A"
     ]
    },
    {
     "name": "stdout",
     "output_type": "stream",
     "text": [
      "L2 norm of the background error 0.5834403283969966\n",
      "L2 norm of the error in DA solution 9.929982404835068e-17\n",
      "[49537, 24589, 55018, 44651, 48502, 43360, 11856, 51147, 52622, 6862]\n"
     ]
    },
    {
     "name": "stderr",
     "output_type": "stream",
     "text": [
      "\n",
      " 39%|███▉      | 394/1000 [03:12<05:16,  1.91it/s]\u001b[A"
     ]
    },
    {
     "name": "stdout",
     "output_type": "stream",
     "text": [
      "L2 norm of the background error 0.2960909568805406\n",
      "L2 norm of the error in DA solution 2.068276310339067e-17\n",
      "[90959, 59598, 23536, 44651, 47734, 38295, 68418, 68440, 35020, 27398]\n"
     ]
    },
    {
     "name": "stderr",
     "output_type": "stream",
     "text": [
      "\n",
      " 40%|███▉      | 395/1000 [03:13<05:18,  1.90it/s]\u001b[A"
     ]
    },
    {
     "name": "stdout",
     "output_type": "stream",
     "text": [
      "L2 norm of the background error 0.8405488644233902\n",
      "L2 norm of the error in DA solution 7.516826374496846e-17\n",
      "[80045, 51687, 49250, 44651, 48502, 22737, 55640, 54795, 55134, 47874]\n"
     ]
    },
    {
     "name": "stderr",
     "output_type": "stream",
     "text": [
      "\n",
      " 40%|███▉      | 396/1000 [03:13<05:16,  1.91it/s]\u001b[A"
     ]
    },
    {
     "name": "stdout",
     "output_type": "stream",
     "text": [
      "L2 norm of the background error 0.8731783071961917\n",
      "L2 norm of the error in DA solution 7.166409704062411e-17\n",
      "[82991, 72652, 50374, 47616, 58253, 74444, 60674, 37879, 31685, 42839]\n"
     ]
    },
    {
     "name": "stderr",
     "output_type": "stream",
     "text": [
      "\n",
      " 40%|███▉      | 397/1000 [03:14<05:16,  1.91it/s]\u001b[A"
     ]
    },
    {
     "name": "stdout",
     "output_type": "stream",
     "text": [
      "L2 norm of the background error 0.8706231091088777\n",
      "L2 norm of the error in DA solution 1.0038065581810313e-16\n",
      "[81265, 43346, 17838, 44651, 16534, 44643, 9295, 37019, 11303, 42839]\n"
     ]
    },
    {
     "name": "stderr",
     "output_type": "stream",
     "text": [
      "\n",
      " 40%|███▉      | 398/1000 [03:14<05:15,  1.91it/s]\u001b[A"
     ]
    },
    {
     "name": "stdout",
     "output_type": "stream",
     "text": [
      "L2 norm of the background error 0.9332026235894166\n",
      "L2 norm of the error in DA solution 5.012552042010621e-17\n",
      "[60669, 48413, 32514, 44651, 21885, 93080, 68841, 41465, 42088, 56514]\n"
     ]
    },
    {
     "name": "stderr",
     "output_type": "stream",
     "text": [
      "\n",
      " 40%|███▉      | 399/1000 [03:15<05:14,  1.91it/s]\u001b[A"
     ]
    },
    {
     "name": "stdout",
     "output_type": "stream",
     "text": [
      "L2 norm of the background error 0.3157654047700173\n",
      "L2 norm of the error in DA solution 3.0403501876390894e-17\n",
      "[13358, 59248, 58976, 44651, 74590, 53971, 21235, 54873, 36609, 55953]\n"
     ]
    },
    {
     "name": "stderr",
     "output_type": "stream",
     "text": [
      "\n",
      " 40%|████      | 400/1000 [03:15<05:13,  1.91it/s]\u001b[A"
     ]
    },
    {
     "name": "stdout",
     "output_type": "stream",
     "text": [
      "L2 norm of the background error 0.6828434600690623\n",
      "L2 norm of the error in DA solution 2.6062646098071053e-17\n",
      "[15591, 62670, 50374, 47616, 47734, 53644, 28747, 6140, 42088, 15146]\n"
     ]
    },
    {
     "name": "stderr",
     "output_type": "stream",
     "text": [
      "\n",
      " 40%|████      | 401/1000 [03:16<05:13,  1.91it/s]\u001b[A"
     ]
    },
    {
     "name": "stdout",
     "output_type": "stream",
     "text": [
      "L2 norm of the background error 0.4975254118711062\n",
      "L2 norm of the error in DA solution 2.4532881664062415e-17\n",
      "[73231, 89382, 74441, 47616, 48502, 85583, 43162, 40071, 2813, 33690]\n"
     ]
    },
    {
     "name": "stderr",
     "output_type": "stream",
     "text": [
      "\n",
      " 40%|████      | 402/1000 [03:16<05:13,  1.91it/s]\u001b[A"
     ]
    },
    {
     "name": "stdout",
     "output_type": "stream",
     "text": [
      "L2 norm of the background error 0.9261562466962348\n",
      "L2 norm of the error in DA solution 1.6737394785932945e-16\n",
      "[63410, 74085, 44665, 44651, 31198, 39892, 49037, 46598, 8098, 52732]\n"
     ]
    },
    {
     "name": "stderr",
     "output_type": "stream",
     "text": [
      "\n",
      " 40%|████      | 403/1000 [03:17<05:12,  1.91it/s]\u001b[A"
     ]
    },
    {
     "name": "stdout",
     "output_type": "stream",
     "text": [
      "L2 norm of the background error 1.0266206842253676\n",
      "L2 norm of the error in DA solution 1.615662611742802e-16\n",
      "[63961, 14505, 49852, 44651, 31198, 19979, 41849, 27948, 7127, 10122]\n"
     ]
    },
    {
     "name": "stderr",
     "output_type": "stream",
     "text": [
      "\n",
      " 40%|████      | 404/1000 [03:17<05:12,  1.91it/s]\u001b[A"
     ]
    },
    {
     "name": "stdout",
     "output_type": "stream",
     "text": [
      "L2 norm of the background error 0.6144870112815336\n",
      "L2 norm of the error in DA solution 7.642583146701074e-17\n",
      "[71878, 71212, 69773, 47616, 52828, 56707, 80036, 28190, 27771, 10122]\n"
     ]
    },
    {
     "name": "stderr",
     "output_type": "stream",
     "text": [
      "\n",
      " 40%|████      | 405/1000 [03:18<05:11,  1.91it/s]\u001b[A"
     ]
    },
    {
     "name": "stdout",
     "output_type": "stream",
     "text": [
      "L2 norm of the background error 1.3735211756829855\n",
      "L2 norm of the error in DA solution 5.568616476743064e-17\n",
      "[21508, 14505, 46584, 44651, 55576, 78177, 49852, 68856, 11302, 68594]\n"
     ]
    },
    {
     "name": "stderr",
     "output_type": "stream",
     "text": [
      "\n",
      " 41%|████      | 406/1000 [03:18<05:11,  1.91it/s]\u001b[A"
     ]
    },
    {
     "name": "stdout",
     "output_type": "stream",
     "text": [
      "L2 norm of the background error 0.6884892884744882\n",
      "L2 norm of the error in DA solution 1.4082095731525567e-16\n",
      "[56951, 74749, 13144, 44651, 18750, 8222, 55249, 66713, 10171, 16985]\n"
     ]
    },
    {
     "name": "stderr",
     "output_type": "stream",
     "text": [
      "\n",
      " 41%|████      | 407/1000 [03:19<05:10,  1.91it/s]\u001b[A"
     ]
    },
    {
     "name": "stdout",
     "output_type": "stream",
     "text": [
      "L2 norm of the background error 0.35932589119108344\n",
      "L2 norm of the error in DA solution 7.114903666088466e-18\n",
      "[79881, 51410, 34250, 44651, 55576, 73845, 33455, 90545, 65500, 10356]\n"
     ]
    },
    {
     "name": "stderr",
     "output_type": "stream",
     "text": [
      "\n",
      " 41%|████      | 408/1000 [03:19<05:10,  1.91it/s]\u001b[A"
     ]
    },
    {
     "name": "stdout",
     "output_type": "stream",
     "text": [
      "L2 norm of the background error 1.025530171045396\n",
      "L2 norm of the error in DA solution 1.1155269087453467e-16\n",
      "[60756, 39186, 23148, 47616, 52457, 9113, 74830, 42593, 16593, 43430]\n"
     ]
    },
    {
     "name": "stderr",
     "output_type": "stream",
     "text": [
      "\n",
      " 41%|████      | 409/1000 [03:20<05:09,  1.91it/s]\u001b[A"
     ]
    },
    {
     "name": "stdout",
     "output_type": "stream",
     "text": [
      "L2 norm of the background error 0.9517789817071386\n",
      "L2 norm of the error in DA solution 1.5124600874254166e-16\n",
      "[71393, 42259, 20601, 44651, 17019, 78026, 48115, 74822, 3360, 30862]\n"
     ]
    },
    {
     "name": "stderr",
     "output_type": "stream",
     "text": [
      "\n",
      " 41%|████      | 410/1000 [03:20<05:08,  1.91it/s]\u001b[A"
     ]
    },
    {
     "name": "stdout",
     "output_type": "stream",
     "text": [
      "L2 norm of the background error 0.5784752460668484\n",
      "L2 norm of the error in DA solution 2.0402499117096286e-17\n",
      "[21536, 51450, 17838, 47616, 40998, 25129, 80932, 13683, 16019, 51260]\n"
     ]
    },
    {
     "name": "stderr",
     "output_type": "stream",
     "text": [
      "\n",
      " 41%|████      | 411/1000 [03:21<05:07,  1.92it/s]\u001b[A"
     ]
    },
    {
     "name": "stdout",
     "output_type": "stream",
     "text": [
      "L2 norm of the background error 1.1336754147157904\n",
      "L2 norm of the error in DA solution 1.0115012455126165e-16\n",
      "[70874, 31625, 7740, 47616, 45495, 44723, 51296, 36029, 10495, 2292]\n"
     ]
    },
    {
     "name": "stderr",
     "output_type": "stream",
     "text": [
      "\n",
      " 41%|████      | 412/1000 [03:21<05:06,  1.92it/s]\u001b[A"
     ]
    },
    {
     "name": "stdout",
     "output_type": "stream",
     "text": [
      "L2 norm of the background error 0.6039869203832855\n",
      "L2 norm of the error in DA solution 1.3430287925035072e-17\n",
      "[43744, 37081, 48527, 47616, 55576, 39025, 46702, 38255, 2569, 55954]\n"
     ]
    },
    {
     "name": "stderr",
     "output_type": "stream",
     "text": [
      "\n",
      " 41%|████▏     | 413/1000 [03:22<05:07,  1.91it/s]\u001b[A"
     ]
    },
    {
     "name": "stdout",
     "output_type": "stream",
     "text": [
      "L2 norm of the background error 0.6937792518932523\n",
      "L2 norm of the error in DA solution 3.176464260584307e-17\n",
      "[27113, 16763, 20601, 47616, 1466, 53167, 14482, 89778, 22904, 6861]\n"
     ]
    },
    {
     "name": "stderr",
     "output_type": "stream",
     "text": [
      "\n",
      " 41%|████▏     | 414/1000 [03:22<05:06,  1.91it/s]\u001b[A"
     ]
    },
    {
     "name": "stdout",
     "output_type": "stream",
     "text": [
      "L2 norm of the background error 0.6056058125908835\n",
      "L2 norm of the error in DA solution 7.256842085611921e-17\n",
      "[81356, 82356, 71883, 47616, 76464, 74444, 26054, 66725, 11408, 39245]\n"
     ]
    },
    {
     "name": "stderr",
     "output_type": "stream",
     "text": [
      "\n",
      " 42%|████▏     | 415/1000 [03:23<05:05,  1.91it/s]\u001b[A"
     ]
    },
    {
     "name": "stdout",
     "output_type": "stream",
     "text": [
      "L2 norm of the background error 0.9121340562555231\n",
      "L2 norm of the error in DA solution 1.387912510989105e-17\n",
      "[49438, 93099, 45018, 47616, 8951, 50065, 40523, 11312, 6435, 24765]\n"
     ]
    },
    {
     "name": "stderr",
     "output_type": "stream",
     "text": [
      "\n",
      " 42%|████▏     | 416/1000 [03:24<05:05,  1.91it/s]\u001b[A"
     ]
    },
    {
     "name": "stdout",
     "output_type": "stream",
     "text": [
      "L2 norm of the background error 0.7107510658335608\n",
      "L2 norm of the error in DA solution 1.0601503688238865e-16\n",
      "[45831, 56741, 60532, 44651, 10048, 42922, 39565, 19571, 55134, 48156]\n"
     ]
    },
    {
     "name": "stderr",
     "output_type": "stream",
     "text": [
      "\n",
      " 42%|████▏     | 417/1000 [03:24<05:04,  1.92it/s]\u001b[A"
     ]
    },
    {
     "name": "stdout",
     "output_type": "stream",
     "text": [
      "L2 norm of the background error 0.47341644134773314\n",
      "L2 norm of the error in DA solution 5.080754075266792e-17\n",
      "[33090, 35159, 78149, 47616, 76464, 66266, 89772, 53877, 65501, 3308]\n"
     ]
    },
    {
     "name": "stderr",
     "output_type": "stream",
     "text": [
      "\n",
      " 42%|████▏     | 418/1000 [03:25<05:05,  1.91it/s]\u001b[A"
     ]
    },
    {
     "name": "stdout",
     "output_type": "stream",
     "text": [
      "L2 norm of the background error 0.6388230106343744\n",
      "L2 norm of the error in DA solution 4.002371355046061e-17\n",
      "[14465, 71966, 12220, 44651, 20460, 17270, 41860, 25982, 36609, 45580]\n"
     ]
    },
    {
     "name": "stderr",
     "output_type": "stream",
     "text": [
      "\n",
      " 42%|████▏     | 419/1000 [03:25<05:03,  1.91it/s]\u001b[A"
     ]
    },
    {
     "name": "stdout",
     "output_type": "stream",
     "text": [
      "L2 norm of the background error 0.7109549401187772\n",
      "L2 norm of the error in DA solution 3.683122644952446e-18\n",
      "[17882, 77672, 34207, 44651, 47734, 50864, 45261, 61109, 41213, 8437]\n"
     ]
    },
    {
     "name": "stderr",
     "output_type": "stream",
     "text": [
      "\n",
      " 42%|████▏     | 420/1000 [03:26<05:06,  1.89it/s]\u001b[A"
     ]
    },
    {
     "name": "stdout",
     "output_type": "stream",
     "text": [
      "L2 norm of the background error 1.4856796655520481\n",
      "L2 norm of the error in DA solution 1.8803781670538708e-16\n",
      "[63544, 6780, 38991, 47616, 1466, 16311, 46692, 9253, 8098, 35086]\n"
     ]
    },
    {
     "name": "stderr",
     "output_type": "stream",
     "text": [
      "\n",
      " 42%|████▏     | 421/1000 [03:26<05:04,  1.90it/s]\u001b[A"
     ]
    },
    {
     "name": "stdout",
     "output_type": "stream",
     "text": [
      "L2 norm of the background error 0.48342420728731866\n",
      "L2 norm of the error in DA solution 7.093350410876264e-17\n",
      "[59755, 71966, 67091, 44651, 52457, 25129, 44918, 9262, 3360, 62610]\n"
     ]
    },
    {
     "name": "stderr",
     "output_type": "stream",
     "text": [
      "\n",
      " 42%|████▏     | 422/1000 [03:27<05:02,  1.91it/s]\u001b[A"
     ]
    },
    {
     "name": "stdout",
     "output_type": "stream",
     "text": [
      "L2 norm of the background error 1.0812512542741375\n",
      "L2 norm of the error in DA solution 1.2164316599462574e-16\n",
      "[46888, 39586, 81357, 47616, 52430, 41574, 75050, 66289, 18289, 37084]\n"
     ]
    },
    {
     "name": "stderr",
     "output_type": "stream",
     "text": [
      "\n",
      " 42%|████▏     | 423/1000 [03:27<05:01,  1.91it/s]\u001b[A"
     ]
    },
    {
     "name": "stdout",
     "output_type": "stream",
     "text": [
      "L2 norm of the background error 0.6178638789955814\n",
      "L2 norm of the error in DA solution 3.8059420963131405e-17\n",
      "[21538, 63183, 37766, 47616, 11634, 51227, 49983, 41513, 3112, 27398]\n"
     ]
    },
    {
     "name": "stderr",
     "output_type": "stream",
     "text": [
      "\n",
      " 42%|████▏     | 424/1000 [03:28<05:01,  1.91it/s]\u001b[A"
     ]
    },
    {
     "name": "stdout",
     "output_type": "stream",
     "text": [
      "L2 norm of the background error 0.8667985803062209\n",
      "L2 norm of the error in DA solution 9.797886225023363e-17\n",
      "[90101, 60298, 18856, 47616, 8676, 35265, 30909, 55442, 5026, 58368]\n"
     ]
    },
    {
     "name": "stderr",
     "output_type": "stream",
     "text": [
      "\n",
      " 42%|████▎     | 425/1000 [03:28<05:00,  1.91it/s]\u001b[A"
     ]
    },
    {
     "name": "stdout",
     "output_type": "stream",
     "text": [
      "L2 norm of the background error 0.5846992193539096\n",
      "L2 norm of the error in DA solution 4.1656871549478505e-17\n",
      "[90101, 75087, 34835, 47616, 55576, 38586, 41062, 34462, 27838, 3732]\n"
     ]
    },
    {
     "name": "stderr",
     "output_type": "stream",
     "text": [
      "\n",
      " 43%|████▎     | 426/1000 [03:29<05:00,  1.91it/s]\u001b[A"
     ]
    },
    {
     "name": "stdout",
     "output_type": "stream",
     "text": [
      "L2 norm of the background error 0.6426720597453176\n",
      "L2 norm of the error in DA solution 1.5390766308925857e-17\n",
      "[63544, 74296, 34669, 47616, 48502, 36871, 47844, 74441, 10384, 12321]\n"
     ]
    },
    {
     "name": "stderr",
     "output_type": "stream",
     "text": [
      "\n",
      " 43%|████▎     | 427/1000 [03:29<05:01,  1.90it/s]\u001b[A"
     ]
    },
    {
     "name": "stdout",
     "output_type": "stream",
     "text": [
      "L2 norm of the background error 0.4764685192198098\n",
      "L2 norm of the error in DA solution 3.468518457049117e-17\n",
      "[15710, 75197, 49955, 47616, 21885, 25017, 69428, 49564, 6245, 62610]\n"
     ]
    },
    {
     "name": "stderr",
     "output_type": "stream",
     "text": [
      "\n",
      " 43%|████▎     | 428/1000 [03:30<04:59,  1.91it/s]\u001b[A"
     ]
    },
    {
     "name": "stdout",
     "output_type": "stream",
     "text": [
      "L2 norm of the background error 0.643523361968244\n",
      "L2 norm of the error in DA solution 5.4086806136848494e-17\n",
      "[30198, 31537, 56338, 44651, 8676, 90624, 70871, 44712, 57718, 35307]\n"
     ]
    },
    {
     "name": "stderr",
     "output_type": "stream",
     "text": [
      "\n",
      " 43%|████▎     | 429/1000 [03:30<04:59,  1.91it/s]\u001b[A"
     ]
    },
    {
     "name": "stdout",
     "output_type": "stream",
     "text": [
      "L2 norm of the background error 0.6167873357922603\n",
      "L2 norm of the error in DA solution 5.322221120650237e-17\n",
      "[49451, 971, 14482, 44651, 12495, 47579, 58282, 32288, 8754, 51261]\n"
     ]
    },
    {
     "name": "stderr",
     "output_type": "stream",
     "text": [
      "\n",
      " 43%|████▎     | 430/1000 [03:31<04:57,  1.91it/s]\u001b[A"
     ]
    },
    {
     "name": "stdout",
     "output_type": "stream",
     "text": [
      "L2 norm of the background error 0.9169917261054191\n",
      "L2 norm of the error in DA solution 6.809195453533336e-17\n",
      "[43153, 42775, 15426, 47616, 11634, 66956, 36320, 23210, 40170, 58408]\n"
     ]
    },
    {
     "name": "stderr",
     "output_type": "stream",
     "text": [
      "\n",
      " 43%|████▎     | 431/1000 [03:31<04:56,  1.92it/s]\u001b[A"
     ]
    },
    {
     "name": "stdout",
     "output_type": "stream",
     "text": [
      "L2 norm of the background error 0.686871937999263\n",
      "L2 norm of the error in DA solution 4.0003093669965045e-17\n",
      "[71393, 62286, 49955, 44651, 31198, 25867, 53226, 24234, 25979, 16187]\n"
     ]
    },
    {
     "name": "stderr",
     "output_type": "stream",
     "text": [
      "\n",
      " 43%|████▎     | 432/1000 [03:32<04:57,  1.91it/s]\u001b[A"
     ]
    },
    {
     "name": "stdout",
     "output_type": "stream",
     "text": [
      "L2 norm of the background error 0.5777692452916733\n",
      "L2 norm of the error in DA solution 1.8918699985019936e-17\n",
      "[62208, 67150, 53134, 44651, 52430, 50076, 19056, 65683, 11408, 8412]\n"
     ]
    },
    {
     "name": "stderr",
     "output_type": "stream",
     "text": [
      "\n",
      " 43%|████▎     | 433/1000 [03:32<04:57,  1.91it/s]\u001b[A"
     ]
    },
    {
     "name": "stdout",
     "output_type": "stream",
     "text": [
      "L2 norm of the background error 0.785575513188124\n",
      "L2 norm of the error in DA solution 1.0082859244337832e-16\n",
      "[42571, 75486, 147, 44651, 31198, 27859, 59316, 74834, 10772, 24949]\n"
     ]
    },
    {
     "name": "stderr",
     "output_type": "stream",
     "text": [
      "\n",
      " 43%|████▎     | 434/1000 [03:33<04:56,  1.91it/s]\u001b[A"
     ]
    },
    {
     "name": "stdout",
     "output_type": "stream",
     "text": [
      "L2 norm of the background error 0.8012111053706306\n",
      "L2 norm of the error in DA solution 1.0157982350156747e-16\n",
      "[58963, 68336, 74012, 44651, 58253, 31624, 33108, 54566, 1992, 55811]\n"
     ]
    },
    {
     "name": "stderr",
     "output_type": "stream",
     "text": [
      "\n",
      " 44%|████▎     | 435/1000 [03:33<04:55,  1.91it/s]\u001b[A"
     ]
    },
    {
     "name": "stdout",
     "output_type": "stream",
     "text": [
      "L2 norm of the background error 0.6717315215728988\n",
      "L2 norm of the error in DA solution 1.748621744936918e-17\n",
      "[45831, 49155, 95412, 44651, 52457, 18977, 32177, 35272, 18289, 66071]\n"
     ]
    },
    {
     "name": "stderr",
     "output_type": "stream",
     "text": [
      "\n",
      " 44%|████▎     | 436/1000 [03:34<04:57,  1.90it/s]\u001b[A"
     ]
    },
    {
     "name": "stdout",
     "output_type": "stream",
     "text": [
      "L2 norm of the background error 0.49516904696786224\n",
      "L2 norm of the error in DA solution 4.7075886789632844e-17\n",
      "[82991, 24586, 34704, 47616, 10048, 16826, 55231, 39344, 6303, 40281]\n"
     ]
    },
    {
     "name": "stderr",
     "output_type": "stream",
     "text": [
      "\n",
      " 44%|████▎     | 437/1000 [03:35<04:55,  1.91it/s]\u001b[A"
     ]
    },
    {
     "name": "stdout",
     "output_type": "stream",
     "text": [
      "L2 norm of the background error 0.6104189225225006\n",
      "L2 norm of the error in DA solution 1.3172692629839744e-16\n",
      "[17348, 24586, 51634, 47616, 8676, 71616, 69636, 662, 10496, 59583]\n"
     ]
    },
    {
     "name": "stderr",
     "output_type": "stream",
     "text": [
      "\n",
      " 44%|████▍     | 438/1000 [03:35<04:55,  1.90it/s]\u001b[A"
     ]
    },
    {
     "name": "stdout",
     "output_type": "stream",
     "text": [
      "L2 norm of the background error 0.5559191153991456\n",
      "L2 norm of the error in DA solution 6.246122546215738e-17\n",
      "[72227, 20751, 25807, 44651, 52457, 71351, 89772, 412, 29316, 41528]\n"
     ]
    },
    {
     "name": "stderr",
     "output_type": "stream",
     "text": [
      "\n",
      " 44%|████▍     | 439/1000 [03:36<04:54,  1.91it/s]\u001b[A"
     ]
    },
    {
     "name": "stdout",
     "output_type": "stream",
     "text": [
      "L2 norm of the background error 0.6189134985332455\n",
      "L2 norm of the error in DA solution 4.6362200027517855e-17\n",
      "[56159, 50605, 48163, 44651, 17018, 6637, 60675, 43013, 16256, 850]\n"
     ]
    },
    {
     "name": "stderr",
     "output_type": "stream",
     "text": [
      "\n",
      " 44%|████▍     | 440/1000 [03:36<04:47,  1.95it/s]\u001b[A"
     ]
    },
    {
     "name": "stdout",
     "output_type": "stream",
     "text": [
      "L2 norm of the background error 0.7216359547283737\n",
      "L2 norm of the error in DA solution 7.06077639029274e-17\n",
      "[93296, 72345, 43616, 44651, 1466, 90384, 16870, 76515, 7849, 29395]\n"
     ]
    },
    {
     "name": "stderr",
     "output_type": "stream",
     "text": [
      "\n",
      " 44%|████▍     | 441/1000 [03:37<04:47,  1.95it/s]\u001b[A"
     ]
    },
    {
     "name": "stdout",
     "output_type": "stream",
     "text": [
      "L2 norm of the background error 0.9565904089879834\n",
      "L2 norm of the error in DA solution 5.111833446828775e-17\n",
      "[64860, 82355, 68470, 44651, 48009, 42924, 78196, 78552, 1305, 8412]\n"
     ]
    },
    {
     "name": "stderr",
     "output_type": "stream",
     "text": [
      "\n",
      " 44%|████▍     | 442/1000 [03:37<04:49,  1.93it/s]\u001b[A"
     ]
    },
    {
     "name": "stdout",
     "output_type": "stream",
     "text": [
      "L2 norm of the background error 0.6990841229913537\n",
      "L2 norm of the error in DA solution 2.1340857553014545e-17\n",
      "[22324, 40251, 37114, 47616, 48009, 90624, 80036, 25658, 45786, 663]\n"
     ]
    },
    {
     "name": "stderr",
     "output_type": "stream",
     "text": [
      "\n",
      " 44%|████▍     | 443/1000 [03:38<04:48,  1.93it/s]\u001b[A"
     ]
    },
    {
     "name": "stdout",
     "output_type": "stream",
     "text": [
      "L2 norm of the background error 1.1887194656884417\n",
      "L2 norm of the error in DA solution 6.034482695669162e-17\n",
      "[83143, 92778, 47091, 44651, 31198, 77956, 19942, 21613, 4010, 3580]\n"
     ]
    },
    {
     "name": "stderr",
     "output_type": "stream",
     "text": [
      "\n",
      " 44%|████▍     | 444/1000 [03:38<04:49,  1.92it/s]\u001b[A"
     ]
    },
    {
     "name": "stdout",
     "output_type": "stream",
     "text": [
      "L2 norm of the background error 0.6087428390709355\n",
      "L2 norm of the error in DA solution 1.113394523118456e-16\n",
      "[14929, 14277, 89422, 47616, 11634, 66654, 33720, 59728, 8777, 24765]\n"
     ]
    },
    {
     "name": "stderr",
     "output_type": "stream",
     "text": [
      "\n",
      " 44%|████▍     | 445/1000 [03:39<04:50,  1.91it/s]\u001b[A"
     ]
    },
    {
     "name": "stdout",
     "output_type": "stream",
     "text": [
      "L2 norm of the background error 0.6495917339691095\n",
      "L2 norm of the error in DA solution 6.715582622117441e-17\n",
      "[72404, 89309, 54021, 44651, 18750, 33911, 71530, 66859, 1307, 6769]\n"
     ]
    },
    {
     "name": "stderr",
     "output_type": "stream",
     "text": [
      "\n",
      " 45%|████▍     | 446/1000 [03:39<04:51,  1.90it/s]\u001b[A"
     ]
    },
    {
     "name": "stdout",
     "output_type": "stream",
     "text": [
      "L2 norm of the background error 0.6770942094387965\n",
      "L2 norm of the error in DA solution 1.369894624602849e-16\n",
      "[27277, 39186, 38074, 47616, 17019, 81447, 14598, 21049, 40955, 13773]\n"
     ]
    },
    {
     "name": "stderr",
     "output_type": "stream",
     "text": [
      "\n",
      " 45%|████▍     | 447/1000 [03:40<04:49,  1.91it/s]\u001b[A"
     ]
    },
    {
     "name": "stdout",
     "output_type": "stream",
     "text": [
      "L2 norm of the background error 0.28976886595090146\n",
      "L2 norm of the error in DA solution 1.1941523569528093e-17\n",
      "[53996, 75107, 22738, 44651, 55576, 25977, 33042, 89234, 3879, 52730]\n"
     ]
    },
    {
     "name": "stderr",
     "output_type": "stream",
     "text": [
      "\n",
      " 45%|████▍     | 448/1000 [03:40<04:48,  1.91it/s]\u001b[A"
     ]
    },
    {
     "name": "stdout",
     "output_type": "stream",
     "text": [
      "L2 norm of the background error 0.7200807442609646\n",
      "L2 norm of the error in DA solution 1.2944559053932614e-17\n",
      "[51292, 12082, 46020, 47616, 6436, 28132, 16413, 77910, 41026, 24765]\n"
     ]
    },
    {
     "name": "stderr",
     "output_type": "stream",
     "text": [
      "\n",
      " 45%|████▍     | 449/1000 [03:41<04:48,  1.91it/s]\u001b[A"
     ]
    },
    {
     "name": "stdout",
     "output_type": "stream",
     "text": [
      "L2 norm of the background error 0.886635467762675\n",
      "L2 norm of the error in DA solution 4.9457346865241856e-17\n",
      "[93429, 53344, 68605, 44651, 8951, 27622, 58693, 25982, 16256, 6803]\n"
     ]
    },
    {
     "name": "stderr",
     "output_type": "stream",
     "text": [
      "\n",
      " 45%|████▌     | 450/1000 [03:41<04:47,  1.91it/s]\u001b[A"
     ]
    },
    {
     "name": "stdout",
     "output_type": "stream",
     "text": [
      "L2 norm of the background error 0.40086444780385183\n",
      "L2 norm of the error in DA solution 5.2981733881017645e-17\n",
      "[21508, 59598, 22631, 47616, 17018, 51584, 60397, 43285, 5180, 48458]\n"
     ]
    },
    {
     "name": "stderr",
     "output_type": "stream",
     "text": [
      "\n",
      " 45%|████▌     | 451/1000 [03:42<04:41,  1.95it/s]\u001b[A"
     ]
    },
    {
     "name": "stdout",
     "output_type": "stream",
     "text": [
      "L2 norm of the background error 0.9167637930055403\n",
      "L2 norm of the error in DA solution 1.5250214869988403e-16\n",
      "[21536, 29201, 33389, 47616, 21885, 16826, 42225, 37125, 2569, 3993]\n"
     ]
    },
    {
     "name": "stderr",
     "output_type": "stream",
     "text": [
      "\n",
      " 45%|████▌     | 452/1000 [03:42<04:39,  1.96it/s]\u001b[A"
     ]
    },
    {
     "name": "stdout",
     "output_type": "stream",
     "text": [
      "L2 norm of the background error 0.49274017349403065\n",
      "L2 norm of the error in DA solution 5.646886285739182e-17\n",
      "[97671, 17429, 110, 44651, 21885, 62048, 35126, 21049, 38699, 63499]\n"
     ]
    },
    {
     "name": "stderr",
     "output_type": "stream",
     "text": [
      "\n",
      " 45%|████▌     | 453/1000 [03:43<04:42,  1.94it/s]\u001b[A"
     ]
    },
    {
     "name": "stdout",
     "output_type": "stream",
     "text": [
      "L2 norm of the background error 0.5460547273452109\n",
      "L2 norm of the error in DA solution 3.384301242960258e-17\n",
      "[44127, 78446, 37781, 44651, 74590, 22824, 84960, 43682, 3076, 43430]\n"
     ]
    },
    {
     "name": "stderr",
     "output_type": "stream",
     "text": [
      "\n",
      " 45%|████▌     | 454/1000 [03:43<04:45,  1.91it/s]\u001b[A"
     ]
    },
    {
     "name": "stdout",
     "output_type": "stream",
     "text": [
      "L2 norm of the background error 0.4231600739959023\n",
      "L2 norm of the error in DA solution 2.000388560516396e-17\n",
      "[78732, 57351, 55875, 47616, 11634, 73758, 53598, 93436, 2240, 3580]\n"
     ]
    },
    {
     "name": "stderr",
     "output_type": "stream",
     "text": [
      "\n",
      " 46%|████▌     | 455/1000 [03:44<04:46,  1.90it/s]\u001b[A"
     ]
    },
    {
     "name": "stdout",
     "output_type": "stream",
     "text": [
      "L2 norm of the background error 0.6833337438321089\n",
      "L2 norm of the error in DA solution 1.3795233716863301e-16\n",
      "[56516, 78261, 86012, 44651, 10389, 26238, 16414, 50375, 32279, 52795]\n"
     ]
    },
    {
     "name": "stderr",
     "output_type": "stream",
     "text": [
      "\n",
      " 46%|████▌     | 456/1000 [03:44<04:44,  1.91it/s]\u001b[A"
     ]
    },
    {
     "name": "stdout",
     "output_type": "stream",
     "text": [
      "L2 norm of the background error 0.7861076253095262\n",
      "L2 norm of the error in DA solution 1.3739264227925512e-16\n",
      "[48354, 19302, 19476, 47616, 55576, 16011, 67827, 36029, 40047, 68594]\n"
     ]
    },
    {
     "name": "stderr",
     "output_type": "stream",
     "text": [
      "\n",
      " 46%|████▌     | 457/1000 [03:45<04:44,  1.91it/s]\u001b[A"
     ]
    },
    {
     "name": "stdout",
     "output_type": "stream",
     "text": [
      "L2 norm of the background error 0.5755584836232988\n",
      "L2 norm of the error in DA solution 4.372536432503861e-17\n",
      "[70420, 51450, 28281, 44651, 18750, 73758, 41297, 40071, 9534, 35086]\n"
     ]
    },
    {
     "name": "stderr",
     "output_type": "stream",
     "text": [
      "\n",
      " 46%|████▌     | 458/1000 [03:45<04:44,  1.90it/s]\u001b[A"
     ]
    },
    {
     "name": "stdout",
     "output_type": "stream",
     "text": [
      "L2 norm of the background error 0.7261222062252707\n",
      "L2 norm of the error in DA solution 1.3269324855975246e-16\n",
      "[44127, 85580, 69785, 47616, 40998, 94416, 43853, 44693, 43221, 28825]\n"
     ]
    },
    {
     "name": "stderr",
     "output_type": "stream",
     "text": [
      "\n",
      " 46%|████▌     | 459/1000 [03:46<04:43,  1.91it/s]\u001b[A"
     ]
    },
    {
     "name": "stdout",
     "output_type": "stream",
     "text": [
      "L2 norm of the background error 0.5725744075923449\n",
      "L2 norm of the error in DA solution 7.060420685117022e-17\n",
      "[43617, 74563, 69952, 47616, 12495, 45023, 51083, 30282, 7418, 68594]\n"
     ]
    },
    {
     "name": "stderr",
     "output_type": "stream",
     "text": [
      "\n",
      " 46%|████▌     | 460/1000 [03:47<04:42,  1.91it/s]\u001b[A"
     ]
    },
    {
     "name": "stdout",
     "output_type": "stream",
     "text": [
      "L2 norm of the background error 0.3840503095225784\n",
      "L2 norm of the error in DA solution 2.3560811747440704e-17\n",
      "[90824, 24533, 71530, 44651, 17018, 36564, 20936, 28190, 9580, 24765]\n"
     ]
    },
    {
     "name": "stderr",
     "output_type": "stream",
     "text": [
      "\n",
      " 46%|████▌     | 461/1000 [03:47<04:42,  1.91it/s]\u001b[A"
     ]
    },
    {
     "name": "stdout",
     "output_type": "stream",
     "text": [
      "L2 norm of the background error 0.6187862021605564\n",
      "L2 norm of the error in DA solution 3.092711040582804e-17\n",
      "[81227, 55013, 41393, 44651, 74590, 30817, 50494, 27948, 21036, 10439]\n"
     ]
    },
    {
     "name": "stderr",
     "output_type": "stream",
     "text": [
      "\n",
      " 46%|████▌     | 462/1000 [03:48<04:42,  1.91it/s]\u001b[A"
     ]
    },
    {
     "name": "stdout",
     "output_type": "stream",
     "text": [
      "L2 norm of the background error 0.4623987755963624\n",
      "L2 norm of the error in DA solution 2.6035117435101083e-17\n",
      "[18816, 46992, 46754, 47616, 21885, 70833, 40523, 22194, 25448, 55744]\n"
     ]
    },
    {
     "name": "stderr",
     "output_type": "stream",
     "text": [
      "\n",
      " 46%|████▋     | 463/1000 [03:48<04:39,  1.92it/s]\u001b[A"
     ]
    },
    {
     "name": "stdout",
     "output_type": "stream",
     "text": [
      "L2 norm of the background error 0.5281013356658676\n",
      "L2 norm of the error in DA solution 1.3641701858453766e-16\n",
      "[25770, 82355, 80376, 47616, 18750, 66176, 60901, 45805, 22903, 58677]\n"
     ]
    },
    {
     "name": "stderr",
     "output_type": "stream",
     "text": [
      "\n",
      " 46%|████▋     | 464/1000 [03:49<04:39,  1.92it/s]\u001b[A"
     ]
    },
    {
     "name": "stdout",
     "output_type": "stream",
     "text": [
      "L2 norm of the background error 0.6307840001007842\n",
      "L2 norm of the error in DA solution 7.008534166619117e-17\n",
      "[15591, 11464, 27619, 47616, 48502, 44402, 30909, 70096, 6771, 24765]\n"
     ]
    },
    {
     "name": "stderr",
     "output_type": "stream",
     "text": [
      "\n",
      " 46%|████▋     | 465/1000 [03:49<04:34,  1.95it/s]\u001b[A"
     ]
    },
    {
     "name": "stdout",
     "output_type": "stream",
     "text": [
      "L2 norm of the background error 1.0055227446476627\n",
      "L2 norm of the error in DA solution 2.0807647728786377e-17\n",
      "[70492, 66913, 87271, 47616, 1466, 36021, 14047, 74834, 16019, 20288]\n"
     ]
    },
    {
     "name": "stderr",
     "output_type": "stream",
     "text": [
      "\n",
      " 47%|████▋     | 466/1000 [03:50<04:26,  2.00it/s]\u001b[A"
     ]
    },
    {
     "name": "stdout",
     "output_type": "stream",
     "text": [
      "L2 norm of the background error 0.5157129763266459\n",
      "L2 norm of the error in DA solution 4.716127587901328e-17\n",
      "[39142, 55118, 74441, 44651, 58253, 74574, 16197, 20602, 36609, 26652]\n"
     ]
    },
    {
     "name": "stderr",
     "output_type": "stream",
     "text": [
      "\n",
      " 47%|████▋     | 467/1000 [03:50<04:21,  2.04it/s]\u001b[A"
     ]
    },
    {
     "name": "stdout",
     "output_type": "stream",
     "text": [
      "L2 norm of the background error 0.6429229987821238\n",
      "L2 norm of the error in DA solution 1.4188236823788545e-17\n",
      "[22202, 7732, 20458, 44651, 8951, 35770, 27102, 31852, 36609, 17587]\n"
     ]
    },
    {
     "name": "stderr",
     "output_type": "stream",
     "text": [
      "\n",
      " 47%|████▋     | 468/1000 [03:50<04:16,  2.07it/s]\u001b[A"
     ]
    },
    {
     "name": "stdout",
     "output_type": "stream",
     "text": [
      "L2 norm of the background error 0.504719712279049\n",
      "L2 norm of the error in DA solution 3.646459046185933e-17\n",
      "[53112, 43826, 7667, 47616, 45495, 2187, 61296, 15924, 10171, 55952]\n"
     ]
    },
    {
     "name": "stderr",
     "output_type": "stream",
     "text": [
      "\n",
      " 47%|████▋     | 469/1000 [03:51<04:13,  2.09it/s]\u001b[A"
     ]
    },
    {
     "name": "stdout",
     "output_type": "stream",
     "text": [
      "L2 norm of the background error 0.6721226276835411\n",
      "L2 norm of the error in DA solution 2.173031943561328e-17\n",
      "[45869, 41935, 23096, 44651, 47734, 33972, 44489, 24333, 8098, 17017]\n"
     ]
    },
    {
     "name": "stderr",
     "output_type": "stream",
     "text": [
      "\n",
      " 47%|████▋     | 470/1000 [03:51<04:12,  2.10it/s]\u001b[A"
     ]
    },
    {
     "name": "stdout",
     "output_type": "stream",
     "text": [
      "L2 norm of the background error 0.7028806526793175\n",
      "L2 norm of the error in DA solution 4.12827247081945e-17\n",
      "[90157, 14277, 68907, 44651, 10389, 27543, 43956, 54040, 37263, 45580]\n"
     ]
    },
    {
     "name": "stderr",
     "output_type": "stream",
     "text": [
      "\n",
      " 47%|████▋     | 471/1000 [03:52<04:10,  2.11it/s]\u001b[A"
     ]
    },
    {
     "name": "stdout",
     "output_type": "stream",
     "text": [
      "L2 norm of the background error 0.4660187988942927\n",
      "L2 norm of the error in DA solution 1.865308191040006e-17\n",
      "[60487, 29201, 78114, 44651, 21885, 49505, 51167, 49108, 3326, 6578]\n"
     ]
    },
    {
     "name": "stderr",
     "output_type": "stream",
     "text": [
      "\n",
      " 47%|████▋     | 472/1000 [03:52<04:09,  2.12it/s]\u001b[A"
     ]
    },
    {
     "name": "stdout",
     "output_type": "stream",
     "text": [
      "L2 norm of the background error 0.8425798461230984\n",
      "L2 norm of the error in DA solution 4.645670772630694e-17\n",
      "[44175, 59248, 33444, 44651, 74980, 74488, 50494, 56715, 6290, 10199]\n"
     ]
    },
    {
     "name": "stderr",
     "output_type": "stream",
     "text": [
      "\n",
      " 47%|████▋     | 473/1000 [03:53<04:08,  2.12it/s]\u001b[A"
     ]
    },
    {
     "name": "stdout",
     "output_type": "stream",
     "text": [
      "L2 norm of the background error 0.7255185306219586\n",
      "L2 norm of the error in DA solution 7.732796955878113e-17\n",
      "[32595, 51687, 44537, 47616, 16534, 78067, 74482, 75199, 19165, 35307]\n"
     ]
    },
    {
     "name": "stderr",
     "output_type": "stream",
     "text": [
      "\n",
      " 47%|████▋     | 474/1000 [03:53<04:06,  2.14it/s]\u001b[A"
     ]
    },
    {
     "name": "stdout",
     "output_type": "stream",
     "text": [
      "L2 norm of the background error 0.4946730606620383\n",
      "L2 norm of the error in DA solution 4.092085090799893e-17\n",
      "[45869, 33596, 6069, 47616, 76464, 50075, 69770, 77910, 27771, 14748]\n"
     ]
    },
    {
     "name": "stderr",
     "output_type": "stream",
     "text": [
      "\n",
      " 48%|████▊     | 475/1000 [03:54<04:14,  2.06it/s]\u001b[A"
     ]
    },
    {
     "name": "stdout",
     "output_type": "stream",
     "text": [
      "L2 norm of the background error 1.4826587568690228\n",
      "L2 norm of the error in DA solution 1.8399080948038547e-16\n",
      "[72185, 56677, 49621, 44651, 17018, 65651, 44026, 68855, 9050, 58677]\n"
     ]
    },
    {
     "name": "stderr",
     "output_type": "stream",
     "text": [
      "\n",
      " 48%|████▊     | 476/1000 [03:54<04:21,  2.00it/s]\u001b[A"
     ]
    },
    {
     "name": "stdout",
     "output_type": "stream",
     "text": [
      "L2 norm of the background error 1.0530211024322376\n",
      "L2 norm of the error in DA solution 5.591897036967153e-17\n",
      "[44175, 8287, 90408, 44651, 74590, 94413, 75222, 18568, 18113, 35086]\n"
     ]
    },
    {
     "name": "stderr",
     "output_type": "stream",
     "text": [
      "\n",
      " 48%|████▊     | 477/1000 [03:55<04:17,  2.03it/s]\u001b[A"
     ]
    },
    {
     "name": "stdout",
     "output_type": "stream",
     "text": [
      "L2 norm of the background error 0.8826313079242892\n",
      "L2 norm of the error in DA solution 5.083652216096941e-17\n",
      "[67389, 16710, 43252, 47616, 48502, 22733, 30576, 15875, 25461, 22076]\n"
     ]
    },
    {
     "name": "stderr",
     "output_type": "stream",
     "text": [
      "\n",
      " 48%|████▊     | 478/1000 [03:55<04:21,  2.00it/s]\u001b[A"
     ]
    },
    {
     "name": "stdout",
     "output_type": "stream",
     "text": [
      "L2 norm of the background error 1.021814739047497\n",
      "L2 norm of the error in DA solution 9.289168752415021e-17\n",
      "[33507, 51411, 37164, 44651, 82371, 78066, 25823, 53306, 9050, 28825]\n"
     ]
    },
    {
     "name": "stderr",
     "output_type": "stream",
     "text": [
      "\n",
      " 48%|████▊     | 479/1000 [03:56<04:25,  1.96it/s]\u001b[A"
     ]
    },
    {
     "name": "stdout",
     "output_type": "stream",
     "text": [
      "L2 norm of the background error 0.3762266212289457\n",
      "L2 norm of the error in DA solution 7.006430287215277e-17\n",
      "[25770, 7763, 53684, 47616, 52828, 8584, 6349, 53633, 35020, 4211]\n"
     ]
    },
    {
     "name": "stderr",
     "output_type": "stream",
     "text": [
      "\n",
      " 48%|████▊     | 480/1000 [03:56<04:18,  2.01it/s]\u001b[A"
     ]
    },
    {
     "name": "stdout",
     "output_type": "stream",
     "text": [
      "L2 norm of the background error 0.5395127457043805\n",
      "L2 norm of the error in DA solution 6.428528662509448e-17\n",
      "[69477, 92778, 47091, 47616, 74590, 25842, 41850, 76627, 7849, 89362]\n"
     ]
    },
    {
     "name": "stderr",
     "output_type": "stream",
     "text": [
      "\n",
      " 48%|████▊     | 481/1000 [03:57<04:13,  2.05it/s]\u001b[A"
     ]
    },
    {
     "name": "stdout",
     "output_type": "stream",
     "text": [
      "L2 norm of the background error 0.6519450915483588\n",
      "L2 norm of the error in DA solution 9.536916987718322e-17\n",
      "[21537, 41268, 22439, 47616, 8676, 46732, 21234, 42592, 48260, 16360]\n"
     ]
    },
    {
     "name": "stderr",
     "output_type": "stream",
     "text": [
      "\n",
      " 48%|████▊     | 482/1000 [03:57<04:11,  2.06it/s]\u001b[A"
     ]
    },
    {
     "name": "stdout",
     "output_type": "stream",
     "text": [
      "L2 norm of the background error 0.588654769026436\n",
      "L2 norm of the error in DA solution 1.2708233833138298e-16\n",
      "[70128, 74087, 49667, 47616, 10389, 80516, 27948, 68494, 6509, 56369]\n"
     ]
    },
    {
     "name": "stderr",
     "output_type": "stream",
     "text": [
      "\n",
      " 48%|████▊     | 483/1000 [03:58<04:16,  2.02it/s]\u001b[A"
     ]
    },
    {
     "name": "stdout",
     "output_type": "stream",
     "text": [
      "L2 norm of the background error 0.739819768833091\n",
      "L2 norm of the error in DA solution 7.380826336323117e-18\n",
      "[51509, 55297, 78169, 47616, 45495, 36477, 53175, 60712, 21035, 19637]\n"
     ]
    },
    {
     "name": "stderr",
     "output_type": "stream",
     "text": [
      "\n",
      " 48%|████▊     | 484/1000 [03:58<04:19,  1.99it/s]\u001b[A"
     ]
    },
    {
     "name": "stdout",
     "output_type": "stream",
     "text": [
      "L2 norm of the background error 0.8663047447286222\n",
      "L2 norm of the error in DA solution 1.2965922334231426e-16\n",
      "[18816, 28082, 41393, 47616, 31198, 19770, 27494, 85675, 22004, 13210]\n"
     ]
    },
    {
     "name": "stderr",
     "output_type": "stream",
     "text": [
      "\n",
      " 48%|████▊     | 485/1000 [03:59<04:23,  1.96it/s]\u001b[A"
     ]
    },
    {
     "name": "stdout",
     "output_type": "stream",
     "text": [
      "L2 norm of the background error 0.8096461223368585\n",
      "L2 norm of the error in DA solution 4.742721996541448e-17\n",
      "[36197, 16665, 45018, 47616, 17018, 33212, 92076, 51272, 8173, 8412]\n"
     ]
    },
    {
     "name": "stderr",
     "output_type": "stream",
     "text": [
      "\n",
      " 49%|████▊     | 486/1000 [03:59<04:25,  1.94it/s]\u001b[A"
     ]
    },
    {
     "name": "stdout",
     "output_type": "stream",
     "text": [
      "L2 norm of the background error 0.7321197245579906\n",
      "L2 norm of the error in DA solution 6.474860933773518e-17\n",
      "[72442, 79391, 42537, 47616, 11634, 56796, 68704, 76905, 19283, 22076]\n"
     ]
    },
    {
     "name": "stderr",
     "output_type": "stream",
     "text": [
      "\n",
      " 49%|████▊     | 487/1000 [04:00<04:27,  1.92it/s]\u001b[A"
     ]
    },
    {
     "name": "stdout",
     "output_type": "stream",
     "text": [
      "L2 norm of the background error 0.6978066437418915\n",
      "L2 norm of the error in DA solution 4.8673648126051786e-17\n",
      "[23251, 24586, 27621, 47616, 58253, 85588, 51558, 22194, 27771, 36093]\n"
     ]
    },
    {
     "name": "stderr",
     "output_type": "stream",
     "text": [
      "\n",
      " 49%|████▉     | 488/1000 [04:00<04:28,  1.91it/s]\u001b[A"
     ]
    },
    {
     "name": "stdout",
     "output_type": "stream",
     "text": [
      "L2 norm of the background error 0.614627022851035\n",
      "L2 norm of the error in DA solution 1.9070493054119105e-17\n",
      "[90101, 42774, 48091, 47616, 17018, 32474, 11266, 20602, 1306, 8477]\n"
     ]
    },
    {
     "name": "stderr",
     "output_type": "stream",
     "text": [
      "\n",
      " 49%|████▉     | 489/1000 [04:01<04:27,  1.91it/s]\u001b[A"
     ]
    },
    {
     "name": "stdout",
     "output_type": "stream",
     "text": [
      "L2 norm of the background error 0.7844154829078314\n",
      "L2 norm of the error in DA solution 1.6215231715365134e-17\n",
      "[57831, 49656, 78206, 44651, 52828, 65876, 53298, 23209, 52229, 4211]\n"
     ]
    },
    {
     "name": "stderr",
     "output_type": "stream",
     "text": [
      "\n",
      " 49%|████▉     | 490/1000 [04:01<04:19,  1.96it/s]\u001b[A"
     ]
    },
    {
     "name": "stdout",
     "output_type": "stream",
     "text": [
      "L2 norm of the background error 0.5699226428698423\n",
      "L2 norm of the error in DA solution 1.6488624803989849e-16\n",
      "[43145, 61230, 68470, 47616, 31198, 57341, 37182, 48383, 41036, 34638]\n"
     ]
    },
    {
     "name": "stderr",
     "output_type": "stream",
     "text": [
      "\n",
      " 49%|████▉     | 491/1000 [04:02<04:20,  1.95it/s]\u001b[A"
     ]
    },
    {
     "name": "stdout",
     "output_type": "stream",
     "text": [
      "L2 norm of the background error 0.6768538968502972\n",
      "L2 norm of the error in DA solution 6.315494559696975e-17\n",
      "[64861, 37874, 92269, 47616, 12495, 31616, 78196, 46352, 1727, 1993]\n"
     ]
    },
    {
     "name": "stderr",
     "output_type": "stream",
     "text": [
      "\n",
      " 49%|████▉     | 492/1000 [04:03<04:22,  1.94it/s]\u001b[A"
     ]
    },
    {
     "name": "stdout",
     "output_type": "stream",
     "text": [
      "L2 norm of the background error 0.568030500108328\n",
      "L2 norm of the error in DA solution 4.695801111250796e-17\n",
      "[70420, 27667, 78089, 44651, 75175, 1495, 77016, 21614, 8099, 74128]\n"
     ]
    },
    {
     "name": "stderr",
     "output_type": "stream",
     "text": [
      "\n",
      " 49%|████▉     | 493/1000 [04:03<04:16,  1.98it/s]\u001b[A"
     ]
    },
    {
     "name": "stdout",
     "output_type": "stream",
     "text": [
      "L2 norm of the background error 0.6102725630366206\n",
      "L2 norm of the error in DA solution 1.155894489091819e-16\n",
      "[32674, 32636, 19511, 44651, 18750, 30626, 16197, 52992, 40047, 17017]\n"
     ]
    },
    {
     "name": "stderr",
     "output_type": "stream",
     "text": [
      "\n",
      " 49%|████▉     | 494/1000 [04:03<04:11,  2.02it/s]\u001b[A"
     ]
    },
    {
     "name": "stdout",
     "output_type": "stream",
     "text": [
      "L2 norm of the background error 0.7958263873074789\n",
      "L2 norm of the error in DA solution 5.4805302599089144e-17\n",
      "[78732, 3113, 71347, 47616, 11634, 26238, 60538, 7876, 21037, 19255]\n"
     ]
    },
    {
     "name": "stderr",
     "output_type": "stream",
     "text": [
      "\n",
      " 50%|████▉     | 495/1000 [04:04<04:07,  2.04it/s]\u001b[A"
     ]
    },
    {
     "name": "stdout",
     "output_type": "stream",
     "text": [
      "L2 norm of the background error 0.5780314152708899\n",
      "L2 norm of the error in DA solution 8.866426712730038e-17\n",
      "[72227, 79391, 31412, 47616, 52430, 56777, 22288, 77137, 18680, 10122]\n"
     ]
    },
    {
     "name": "stderr",
     "output_type": "stream",
     "text": [
      "\n",
      " 50%|████▉     | 496/1000 [04:04<04:07,  2.04it/s]\u001b[A"
     ]
    },
    {
     "name": "stdout",
     "output_type": "stream",
     "text": [
      "L2 norm of the background error 0.2893358961084501\n",
      "L2 norm of the error in DA solution 9.148095594417926e-17\n",
      "[31617, 47048, 16870, 44651, 10389, 13099, 33042, 11312, 8098, 6769]\n"
     ]
    },
    {
     "name": "stderr",
     "output_type": "stream",
     "text": [
      "\n",
      " 50%|████▉     | 497/1000 [04:05<04:12,  1.99it/s]\u001b[A"
     ]
    },
    {
     "name": "stdout",
     "output_type": "stream",
     "text": [
      "L2 norm of the background error 0.3265985200529933\n",
      "L2 norm of the error in DA solution 5.8021290764941015e-18\n",
      "[25737, 51410, 59678, 44651, 82371, 78039, 57151, 68766, 2571, 40673]\n"
     ]
    },
    {
     "name": "stderr",
     "output_type": "stream",
     "text": [
      "\n",
      " 50%|████▉     | 498/1000 [04:05<04:15,  1.96it/s]\u001b[A"
     ]
    },
    {
     "name": "stdout",
     "output_type": "stream",
     "text": [
      "L2 norm of the background error 0.48263018753587533\n",
      "L2 norm of the error in DA solution 9.57492743381355e-17\n",
      "[14868, 76132, 69036, 47616, 76464, 31261, 38794, 66713, 25448, 16753]\n"
     ]
    },
    {
     "name": "stderr",
     "output_type": "stream",
     "text": [
      "\n",
      " 50%|████▉     | 499/1000 [04:06<04:20,  1.92it/s]\u001b[A"
     ]
    },
    {
     "name": "stdout",
     "output_type": "stream",
     "text": [
      "L2 norm of the background error 0.42290408185627115\n",
      "L2 norm of the error in DA solution 5.084006271209481e-17\n",
      "[32164, 74563, 15384, 44651, 22974, 17193, 9338, 27948, 41036, 9836]\n"
     ]
    },
    {
     "name": "stderr",
     "output_type": "stream",
     "text": [
      "\n",
      " 50%|█████     | 500/1000 [04:07<04:21,  1.91it/s]\u001b[A"
     ]
    },
    {
     "name": "stdout",
     "output_type": "stream",
     "text": [
      "L2 norm of the background error 0.7197718959279229\n",
      "L2 norm of the error in DA solution 6.806754730984099e-17\n",
      "[49038, 21038, 45616, 44651, 18750, 41323, 22288, 41670, 11725, 40282]\n"
     ]
    },
    {
     "name": "stderr",
     "output_type": "stream",
     "text": [
      "\n",
      " 50%|█████     | 501/1000 [04:07<04:20,  1.91it/s]\u001b[A"
     ]
    },
    {
     "name": "stdout",
     "output_type": "stream",
     "text": [
      "L2 norm of the background error 0.7088494151040996\n",
      "L2 norm of the error in DA solution 3.9097878188728754e-17\n",
      "[77492, 89244, 13144, 44651, 75175, 91869, 22745, 20799, 2240, 74128]\n"
     ]
    },
    {
     "name": "stderr",
     "output_type": "stream",
     "text": [
      "\n",
      " 50%|█████     | 502/1000 [04:08<04:22,  1.90it/s]\u001b[A"
     ]
    },
    {
     "name": "stdout",
     "output_type": "stream",
     "text": [
      "L2 norm of the background error 0.7121277984175466\n",
      "L2 norm of the error in DA solution 4.053720212546908e-17\n",
      "[44127, 31466, 61737, 44651, 10048, 32808, 26045, 77888, 65391, 57545]\n"
     ]
    },
    {
     "name": "stderr",
     "output_type": "stream",
     "text": [
      "\n",
      " 50%|█████     | 503/1000 [04:08<04:22,  1.90it/s]\u001b[A"
     ]
    },
    {
     "name": "stdout",
     "output_type": "stream",
     "text": [
      "L2 norm of the background error 0.5275571557635631\n",
      "L2 norm of the error in DA solution 9.128223059322155e-18\n",
      "[62841, 93099, 34669, 47616, 11634, 55488, 22515, 66441, 7127, 55811]\n"
     ]
    },
    {
     "name": "stderr",
     "output_type": "stream",
     "text": [
      "\n",
      " 50%|█████     | 504/1000 [04:09<04:20,  1.90it/s]\u001b[A"
     ]
    },
    {
     "name": "stdout",
     "output_type": "stream",
     "text": [
      "L2 norm of the background error 0.4585245663065116\n",
      "L2 norm of the error in DA solution 3.7933865922051374e-17\n",
      "[65560, 78649, 34207, 44651, 75175, 78066, 80036, 71246, 19677, 55835]\n"
     ]
    },
    {
     "name": "stderr",
     "output_type": "stream",
     "text": [
      "\n",
      " 50%|█████     | 505/1000 [04:09<04:19,  1.91it/s]\u001b[A"
     ]
    },
    {
     "name": "stdout",
     "output_type": "stream",
     "text": [
      "L2 norm of the background error 0.60922507724603\n",
      "L2 norm of the error in DA solution 2.0203148798193445e-17\n",
      "[56547, 74085, 412, 47616, 17019, 29646, 54367, 97114, 11744, 19035]\n"
     ]
    },
    {
     "name": "stderr",
     "output_type": "stream",
     "text": [
      "\n",
      " 51%|█████     | 506/1000 [04:10<04:19,  1.90it/s]\u001b[A"
     ]
    },
    {
     "name": "stdout",
     "output_type": "stream",
     "text": [
      "L2 norm of the background error 0.9059786245649676\n",
      "L2 norm of the error in DA solution 1.7359186407383234e-16\n",
      "[18816, 30729, 48593, 44651, 52430, 39814, 74269, 38841, 2238, 3076]\n"
     ]
    },
    {
     "name": "stderr",
     "output_type": "stream",
     "text": [
      "\n",
      " 51%|█████     | 507/1000 [04:10<04:19,  1.90it/s]\u001b[A"
     ]
    },
    {
     "name": "stdout",
     "output_type": "stream",
     "text": [
      "L2 norm of the background error 0.5419032960477552\n",
      "L2 norm of the error in DA solution 5.077419517740252e-17\n",
      "[65560, 19304, 89681, 44651, 75175, 49354, 57385, 45517, 25137, 10199]\n"
     ]
    },
    {
     "name": "stderr",
     "output_type": "stream",
     "text": [
      "\n",
      " 51%|█████     | 508/1000 [04:11<04:18,  1.90it/s]\u001b[A"
     ]
    },
    {
     "name": "stdout",
     "output_type": "stream",
     "text": [
      "L2 norm of the background error 0.35553499112053777\n",
      "L2 norm of the error in DA solution 7.27394878198783e-17\n",
      "[85375, 555, 46020, 47616, 52828, 29984, 57851, 18528, 11301, 2814]\n"
     ]
    },
    {
     "name": "stderr",
     "output_type": "stream",
     "text": [
      "\n",
      " 51%|█████     | 509/1000 [04:11<04:16,  1.91it/s]\u001b[A"
     ]
    },
    {
     "name": "stdout",
     "output_type": "stream",
     "text": [
      "L2 norm of the background error 0.8177113689683816\n",
      "L2 norm of the error in DA solution 8.030493590466092e-17\n",
      "[65631, 20751, 59683, 44651, 21885, 96146, 42635, 90262, 28245, 12047]\n"
     ]
    },
    {
     "name": "stderr",
     "output_type": "stream",
     "text": [
      "\n",
      " 51%|█████     | 510/1000 [04:12<04:07,  1.98it/s]\u001b[A"
     ]
    },
    {
     "name": "stdout",
     "output_type": "stream",
     "text": [
      "L2 norm of the background error 0.5680521581584803\n",
      "L2 norm of the error in DA solution 1.7027254375593853e-17\n",
      "[14868, 8701, 59237, 44651, 18750, 53139, 32764, 43264, 14353, 4211]\n"
     ]
    },
    {
     "name": "stderr",
     "output_type": "stream",
     "text": [
      "\n",
      " 51%|█████     | 511/1000 [04:12<04:00,  2.03it/s]\u001b[A"
     ]
    },
    {
     "name": "stdout",
     "output_type": "stream",
     "text": [
      "L2 norm of the background error 0.6184452931270407\n",
      "L2 norm of the error in DA solution 7.062165464115028e-17\n",
      "[63961, 32636, 19749, 47616, 52430, 58430, 66427, 44727, 8173, 10199]\n"
     ]
    },
    {
     "name": "stderr",
     "output_type": "stream",
     "text": [
      "\n",
      " 51%|█████     | 512/1000 [04:13<03:56,  2.07it/s]\u001b[A"
     ]
    },
    {
     "name": "stdout",
     "output_type": "stream",
     "text": [
      "L2 norm of the background error 0.4872687504529925\n",
      "L2 norm of the error in DA solution 8.278758927520391e-17\n",
      "[69477, 46827, 46754, 47616, 74980, 49505, 47524, 54884, 65501, 55953]\n"
     ]
    },
    {
     "name": "stderr",
     "output_type": "stream",
     "text": [
      "\n",
      " 51%|█████▏    | 513/1000 [04:13<03:53,  2.09it/s]\u001b[A"
     ]
    },
    {
     "name": "stdout",
     "output_type": "stream",
     "text": [
      "L2 norm of the background error 0.6644558097581618\n",
      "L2 norm of the error in DA solution 1.2876667971336502e-16\n",
      "[64664, 32635, 27610, 44651, 48502, 69163, 28199, 19944, 8173, 56369]\n"
     ]
    },
    {
     "name": "stderr",
     "output_type": "stream",
     "text": [
      "\n",
      " 51%|█████▏    | 514/1000 [04:14<03:50,  2.10it/s]\u001b[A"
     ]
    },
    {
     "name": "stdout",
     "output_type": "stream",
     "text": [
      "L2 norm of the background error 0.8608885224660042\n",
      "L2 norm of the error in DA solution 7.582386960860665e-17\n",
      "[61242, 40581, 31412, 47616, 20460, 89462, 65962, 24241, 14326, 1084]\n"
     ]
    },
    {
     "name": "stderr",
     "output_type": "stream",
     "text": [
      "\n",
      " 52%|█████▏    | 515/1000 [04:14<03:56,  2.05it/s]\u001b[A"
     ]
    },
    {
     "name": "stdout",
     "output_type": "stream",
     "text": [
      "L2 norm of the background error 0.32761568939965796\n",
      "L2 norm of the error in DA solution 3.34049079962293e-17\n",
      "[60756, 67260, 67758, 47616, 74590, 8223, 59364, 15470, 32487, 16360]\n"
     ]
    },
    {
     "name": "stderr",
     "output_type": "stream",
     "text": [
      "\n",
      " 52%|█████▏    | 516/1000 [04:15<04:01,  2.01it/s]\u001b[A"
     ]
    },
    {
     "name": "stdout",
     "output_type": "stream",
     "text": [
      "L2 norm of the background error 0.8644888778034933\n",
      "L2 norm of the error in DA solution 9.751657020640082e-17\n",
      "[68114, 22006, 34835, 47616, 11634, 15030, 16869, 11752, 2571, 10195]\n"
     ]
    },
    {
     "name": "stderr",
     "output_type": "stream",
     "text": [
      "\n",
      " 52%|█████▏    | 517/1000 [04:15<04:05,  1.97it/s]\u001b[A"
     ]
    },
    {
     "name": "stdout",
     "output_type": "stream",
     "text": [
      "L2 norm of the background error 0.7166466941477493\n",
      "L2 norm of the error in DA solution 5.959336120679851e-17\n",
      "[97671, 43131, 37164, 47616, 48502, 929, 80376, 24234, 25139, 4340]\n"
     ]
    },
    {
     "name": "stderr",
     "output_type": "stream",
     "text": [
      "\n",
      " 52%|█████▏    | 518/1000 [04:16<04:06,  1.95it/s]\u001b[A"
     ]
    },
    {
     "name": "stdout",
     "output_type": "stream",
     "text": [
      "L2 norm of the background error 0.574198210608747\n",
      "L2 norm of the error in DA solution 4.906983238373047e-17\n",
      "[20822, 67150, 57385, 44651, 12495, 25977, 32177, 17278, 22004, 58368]\n"
     ]
    },
    {
     "name": "stderr",
     "output_type": "stream",
     "text": [
      "\n",
      " 52%|█████▏    | 519/1000 [04:16<04:08,  1.94it/s]\u001b[A"
     ]
    },
    {
     "name": "stdout",
     "output_type": "stream",
     "text": [
      "L2 norm of the background error 0.29740070366428484\n",
      "L2 norm of the error in DA solution 1.1743833590971343e-17\n",
      "[43648, 17858, 50434, 47616, 74980, 34108, 42202, 53067, 35160, 8437]\n"
     ]
    },
    {
     "name": "stderr",
     "output_type": "stream",
     "text": [
      "\n",
      " 52%|█████▏    | 520/1000 [04:17<04:01,  1.99it/s]\u001b[A"
     ]
    },
    {
     "name": "stdout",
     "output_type": "stream",
     "text": [
      "L2 norm of the background error 0.6198060269618003\n",
      "L2 norm of the error in DA solution 1.5857268169163335e-17\n",
      "[43617, 51451, 59678, 47616, 55576, 11044, 71440, 60402, 37263, 26651]\n"
     ]
    },
    {
     "name": "stderr",
     "output_type": "stream",
     "text": [
      "\n",
      " 52%|█████▏    | 521/1000 [04:17<03:55,  2.03it/s]\u001b[A"
     ]
    },
    {
     "name": "stdout",
     "output_type": "stream",
     "text": [
      "L2 norm of the background error 0.6961461194590504\n",
      "L2 norm of the error in DA solution 5.917935285479475e-17\n",
      "[43617, 32635, 55997, 44651, 12495, 39360, 32853, 52992, 852, 34112]\n"
     ]
    },
    {
     "name": "stderr",
     "output_type": "stream",
     "text": [
      "\n",
      " 52%|█████▏    | 522/1000 [04:18<03:52,  2.06it/s]\u001b[A"
     ]
    },
    {
     "name": "stdout",
     "output_type": "stream",
     "text": [
      "L2 norm of the background error 1.1361953253427377\n",
      "L2 norm of the error in DA solution 1.3837379620080646e-16\n",
      "[93429, 17858, 80291, 44651, 75175, 38872, 44150, 49107, 8099, 39687]\n"
     ]
    },
    {
     "name": "stderr",
     "output_type": "stream",
     "text": [
      "\n",
      " 52%|█████▏    | 523/1000 [04:18<03:49,  2.08it/s]\u001b[A"
     ]
    },
    {
     "name": "stdout",
     "output_type": "stream",
     "text": [
      "L2 norm of the background error 0.40355217765498697\n",
      "L2 norm of the error in DA solution 3.6973315399176943e-17\n",
      "[46708, 76132, 56666, 44651, 20460, 78150, 68403, 24742, 6290, 31014]\n"
     ]
    },
    {
     "name": "stderr",
     "output_type": "stream",
     "text": [
      "\n",
      " 52%|█████▏    | 524/1000 [04:19<03:47,  2.09it/s]\u001b[A"
     ]
    },
    {
     "name": "stdout",
     "output_type": "stream",
     "text": [
      "L2 norm of the background error 0.47331643097351045\n",
      "L2 norm of the error in DA solution 2.9619525599551847e-17\n",
      "[49473, 41268, 48163, 44651, 20460, 17616, 93797, 54134, 10384, 61592]\n"
     ]
    },
    {
     "name": "stderr",
     "output_type": "stream",
     "text": [
      "\n",
      " 52%|█████▎    | 525/1000 [04:19<03:44,  2.12it/s]\u001b[A"
     ]
    },
    {
     "name": "stdout",
     "output_type": "stream",
     "text": [
      "L2 norm of the background error 0.5854234498396147\n",
      "L2 norm of the error in DA solution 2.730033101910682e-17\n",
      "[9406, 8373, 27610, 44651, 52457, 39879, 933, 38429, 4287, 55744]\n"
     ]
    },
    {
     "name": "stderr",
     "output_type": "stream",
     "text": [
      "\n",
      " 53%|█████▎    | 526/1000 [04:19<03:42,  2.13it/s]\u001b[A"
     ]
    },
    {
     "name": "stdout",
     "output_type": "stream",
     "text": [
      "L2 norm of the background error 0.6996287359500583\n",
      "L2 norm of the error in DA solution 1.2785038665740317e-16\n",
      "[26578, 3113, 59389, 44651, 22974, 29645, 27916, 16277, 41026, 4340]\n"
     ]
    },
    {
     "name": "stderr",
     "output_type": "stream",
     "text": [
      "\n",
      " 53%|█████▎    | 527/1000 [04:20<03:50,  2.06it/s]\u001b[A"
     ]
    },
    {
     "name": "stdout",
     "output_type": "stream",
     "text": [
      "L2 norm of the background error 0.6782170116861688\n",
      "L2 norm of the error in DA solution 8.819585542415125e-17\n",
      "[53112, 32635, 55717, 44651, 48502, 9053, 16869, 54874, 2238, 4200]\n"
     ]
    },
    {
     "name": "stderr",
     "output_type": "stream",
     "text": [
      "\n",
      " 53%|█████▎    | 528/1000 [04:21<03:54,  2.01it/s]\u001b[A"
     ]
    },
    {
     "name": "stdout",
     "output_type": "stream",
     "text": [
      "L2 norm of the background error 0.517954327781567\n",
      "L2 norm of the error in DA solution 8.441809062145815e-17\n",
      "[43744, 16667, 34250, 47616, 47734, 53139, 40077, 7796, 27771, 23362]\n"
     ]
    },
    {
     "name": "stderr",
     "output_type": "stream",
     "text": [
      "\n",
      " 53%|█████▎    | 529/1000 [04:21<03:56,  1.99it/s]\u001b[A"
     ]
    },
    {
     "name": "stdout",
     "output_type": "stream",
     "text": [
      "L2 norm of the background error 0.6978187524381488\n",
      "L2 norm of the error in DA solution 7.19551497912642e-17\n",
      "[71393, 71212, 89535, 44651, 75175, 27813, 5177, 59728, 32279, 22372]\n"
     ]
    },
    {
     "name": "stderr",
     "output_type": "stream",
     "text": [
      "\n",
      " 53%|█████▎    | 530/1000 [04:22<03:52,  2.02it/s]\u001b[A"
     ]
    },
    {
     "name": "stdout",
     "output_type": "stream",
     "text": [
      "L2 norm of the background error 0.8536578794793809\n",
      "L2 norm of the error in DA solution 8.784778136788865e-17\n",
      "[76134, 42774, 56779, 47616, 17018, 22823, 14514, 67758, 23686, 53317]\n"
     ]
    },
    {
     "name": "stderr",
     "output_type": "stream",
     "text": [
      "\n",
      " 53%|█████▎    | 531/1000 [04:22<03:48,  2.06it/s]\u001b[A"
     ]
    },
    {
     "name": "stdout",
     "output_type": "stream",
     "text": [
      "L2 norm of the background error 0.6331452206665084\n",
      "L2 norm of the error in DA solution 1.4234063595669762e-16\n",
      "[49537, 41935, 15388, 47616, 10389, 17626, 78776, 45871, 25979, 1993]\n"
     ]
    },
    {
     "name": "stderr",
     "output_type": "stream",
     "text": [
      "\n",
      " 53%|█████▎    | 532/1000 [04:22<03:45,  2.08it/s]\u001b[A"
     ]
    },
    {
     "name": "stdout",
     "output_type": "stream",
     "text": [
      "L2 norm of the background error 0.7174581797290174\n",
      "L2 norm of the error in DA solution 4.884811725269832e-17\n",
      "[2499, 43826, 23266, 47616, 74590, 35770, 26466, 13437, 11096, 4145]\n"
     ]
    },
    {
     "name": "stderr",
     "output_type": "stream",
     "text": [
      "\n",
      " 53%|█████▎    | 533/1000 [04:23<03:43,  2.09it/s]\u001b[A"
     ]
    },
    {
     "name": "stdout",
     "output_type": "stream",
     "text": [
      "L2 norm of the background error 0.8313546092695339\n",
      "L2 norm of the error in DA solution 3.8791549450478725e-17\n",
      "[79881, 9535, 19476, 44651, 12495, 25867, 43189, 49108, 8099, 29545]\n"
     ]
    },
    {
     "name": "stderr",
     "output_type": "stream",
     "text": [
      "\n",
      " 53%|█████▎    | 534/1000 [04:23<03:41,  2.10it/s]\u001b[A"
     ]
    },
    {
     "name": "stdout",
     "output_type": "stream",
     "text": [
      "L2 norm of the background error 0.5668833280220298\n",
      "L2 norm of the error in DA solution 4.492737839376924e-17\n",
      "[79423, 59248, 44850, 44651, 17019, 27623, 47900, 49107, 6579, 2292]\n"
     ]
    },
    {
     "name": "stderr",
     "output_type": "stream",
     "text": [
      "\n",
      " 54%|█████▎    | 535/1000 [04:24<03:41,  2.10it/s]\u001b[A"
     ]
    },
    {
     "name": "stdout",
     "output_type": "stream",
     "text": [
      "L2 norm of the background error 0.2223463245307098\n",
      "L2 norm of the error in DA solution 2.2899416545688126e-16\n",
      "[63961, 61230, 45113, 47616, 10389, 22736, 3696, 48383, 1268, 20020]\n"
     ]
    },
    {
     "name": "stderr",
     "output_type": "stream",
     "text": [
      "\n",
      " 54%|█████▎    | 536/1000 [04:24<03:39,  2.11it/s]\u001b[A"
     ]
    },
    {
     "name": "stdout",
     "output_type": "stream",
     "text": [
      "L2 norm of the background error 0.41601844655715575\n",
      "L2 norm of the error in DA solution 9.445677724834669e-18\n",
      "[47423, 80792, 20600, 44651, 22974, 90384, 96820, 23209, 8099, 3076]\n"
     ]
    },
    {
     "name": "stderr",
     "output_type": "stream",
     "text": [
      "\n",
      " 54%|█████▎    | 537/1000 [04:25<03:38,  2.12it/s]\u001b[A"
     ]
    },
    {
     "name": "stdout",
     "output_type": "stream",
     "text": [
      "L2 norm of the background error 0.7879371210746592\n",
      "L2 norm of the error in DA solution 6.65090124990191e-17\n",
      "[56939, 18040, 44711, 44651, 48502, 27544, 2984, 21614, 3361, 9837]\n"
     ]
    },
    {
     "name": "stderr",
     "output_type": "stream",
     "text": [
      "\n",
      " 54%|█████▍    | 538/1000 [04:25<03:37,  2.13it/s]\u001b[A"
     ]
    },
    {
     "name": "stdout",
     "output_type": "stream",
     "text": [
      "L2 norm of the background error 0.5750144238967703\n",
      "L2 norm of the error in DA solution 1.254521180921378e-16\n",
      "[31008, 18534, 56748, 44651, 47734, 37014, 75050, 6139, 2858, 26652]\n"
     ]
    },
    {
     "name": "stderr",
     "output_type": "stream",
     "text": [
      "\n",
      " 54%|█████▍    | 539/1000 [04:26<03:37,  2.12it/s]\u001b[A"
     ]
    },
    {
     "name": "stdout",
     "output_type": "stream",
     "text": [
      "L2 norm of the background error 0.6862395935369401\n",
      "L2 norm of the error in DA solution 7.31474567510279e-17\n",
      "[28764, 73941, 78196, 47616, 10048, 15030, 71409, 273, 18113, 2292]\n"
     ]
    },
    {
     "name": "stderr",
     "output_type": "stream",
     "text": [
      "\n",
      " 54%|█████▍    | 540/1000 [04:26<03:39,  2.10it/s]\u001b[A"
     ]
    },
    {
     "name": "stdout",
     "output_type": "stream",
     "text": [
      "L2 norm of the background error 0.6160758555530886\n",
      "L2 norm of the error in DA solution 3.8851803400388996e-16\n",
      "[69226, 35912, 80160, 47616, 20460, 48510, 29348, 24765, 10496, 47874]\n"
     ]
    },
    {
     "name": "stderr",
     "output_type": "stream",
     "text": [
      "\n",
      " 54%|█████▍    | 541/1000 [04:27<03:36,  2.12it/s]\u001b[A"
     ]
    },
    {
     "name": "stdout",
     "output_type": "stream",
     "text": [
      "L2 norm of the background error 0.38688474892666264\n",
      "L2 norm of the error in DA solution 4.108631500224647e-18\n",
      "[56547, 35912, 53204, 44651, 21885, 35090, 57151, 17935, 35160, 26651]\n"
     ]
    },
    {
     "name": "stderr",
     "output_type": "stream",
     "text": [
      "\n",
      " 54%|█████▍    | 542/1000 [04:27<03:35,  2.13it/s]\u001b[A"
     ]
    },
    {
     "name": "stdout",
     "output_type": "stream",
     "text": [
      "L2 norm of the background error 0.6642502133302536\n",
      "L2 norm of the error in DA solution 5.157286251008849e-17\n",
      "[24167, 38230, 36070, 44651, 8951, 78445, 46702, 36029, 18847, 29094]\n"
     ]
    },
    {
     "name": "stderr",
     "output_type": "stream",
     "text": [
      "\n",
      " 54%|█████▍    | 543/1000 [04:28<03:34,  2.13it/s]\u001b[A"
     ]
    },
    {
     "name": "stdout",
     "output_type": "stream",
     "text": [
      "L2 norm of the background error 0.22056662918095274\n",
      "L2 norm of the error in DA solution 3.015198121510588e-17\n",
      "[90942, 37081, 43546, 47616, 48502, 1664, 53598, 45390, 2531, 4200]\n"
     ]
    },
    {
     "name": "stderr",
     "output_type": "stream",
     "text": [
      "\n",
      " 54%|█████▍    | 544/1000 [04:28<03:38,  2.08it/s]\u001b[A"
     ]
    },
    {
     "name": "stdout",
     "output_type": "stream",
     "text": [
      "L2 norm of the background error 0.7514362311298667\n",
      "L2 norm of the error in DA solution 1.5095464902254207e-16\n",
      "[49473, 43182, 48465, 44651, 52828, 56386, 51740, 90262, 3552, 35086]\n"
     ]
    },
    {
     "name": "stderr",
     "output_type": "stream",
     "text": [
      "\n",
      " 55%|█████▍    | 545/1000 [04:29<03:36,  2.10it/s]\u001b[A"
     ]
    },
    {
     "name": "stdout",
     "output_type": "stream",
     "text": [
      "L2 norm of the background error 0.3982660158240925\n",
      "L2 norm of the error in DA solution 1.0703687705189213e-16\n",
      "[62677, 24587, 52867, 47616, 48009, 38872, 55224, 39780, 9842, 6864]\n"
     ]
    },
    {
     "name": "stderr",
     "output_type": "stream",
     "text": [
      "\n",
      " 55%|█████▍    | 546/1000 [04:29<03:35,  2.11it/s]\u001b[A"
     ]
    },
    {
     "name": "stdout",
     "output_type": "stream",
     "text": [
      "L2 norm of the background error 0.9000036361919628\n",
      "L2 norm of the error in DA solution 1.1845311381662883e-16\n",
      "[94388, 12025, 43426, 47616, 48009, 48510, 47070, 43285, 1499, 17992]\n"
     ]
    },
    {
     "name": "stderr",
     "output_type": "stream",
     "text": [
      "\n",
      " 55%|█████▍    | 547/1000 [04:30<03:33,  2.12it/s]\u001b[A"
     ]
    },
    {
     "name": "stdout",
     "output_type": "stream",
     "text": [
      "L2 norm of the background error 0.4136178212998153\n",
      "L2 norm of the error in DA solution 2.2206364662507706e-17\n",
      "[33090, 14642, 43621, 44651, 55576, 73813, 89595, 59683, 65501, 19392]\n"
     ]
    },
    {
     "name": "stderr",
     "output_type": "stream",
     "text": [
      "\n",
      " 55%|█████▍    | 548/1000 [04:30<03:32,  2.12it/s]\u001b[A"
     ]
    },
    {
     "name": "stdout",
     "output_type": "stream",
     "text": [
      "L2 norm of the background error 0.6442650749018086\n",
      "L2 norm of the error in DA solution 1.0461876735886984e-16\n",
      "[70420, 43182, 46889, 47616, 1466, 56859, 28559, 66725, 7127, 3993]\n"
     ]
    },
    {
     "name": "stderr",
     "output_type": "stream",
     "text": [
      "\n",
      " 55%|█████▍    | 549/1000 [04:30<03:31,  2.13it/s]\u001b[A"
     ]
    },
    {
     "name": "stdout",
     "output_type": "stream",
     "text": [
      "L2 norm of the background error 0.6099241927104337\n",
      "L2 norm of the error in DA solution 6.766366094224433e-17\n",
      "[22440, 24589, 33382, 47616, 10048, 22814, 13945, 13683, 14326, 27398]\n"
     ]
    },
    {
     "name": "stderr",
     "output_type": "stream",
     "text": [
      "\n",
      " 55%|█████▌    | 550/1000 [04:31<03:31,  2.12it/s]\u001b[A"
     ]
    },
    {
     "name": "stdout",
     "output_type": "stream",
     "text": [
      "L2 norm of the background error 0.5142628982654933\n",
      "L2 norm of the error in DA solution 5.265165456045938e-17\n",
      "[24162, 30809, 49852, 47616, 18750, 46732, 33671, 75026, 11096, 58370]\n"
     ]
    },
    {
     "name": "stderr",
     "output_type": "stream",
     "text": [
      "\n",
      " 55%|█████▌    | 551/1000 [04:31<03:32,  2.11it/s]\u001b[A"
     ]
    },
    {
     "name": "stdout",
     "output_type": "stream",
     "text": [
      "L2 norm of the background error 0.6496797108345902\n",
      "L2 norm of the error in DA solution 2.6107900584236567e-17\n",
      "[70128, 75087, 55998, 47616, 82371, 75807, 1075, 87271, 6439, 20289]\n"
     ]
    },
    {
     "name": "stderr",
     "output_type": "stream",
     "text": [
      "\n",
      " 55%|█████▌    | 552/1000 [04:32<03:36,  2.07it/s]\u001b[A"
     ]
    },
    {
     "name": "stdout",
     "output_type": "stream",
     "text": [
      "L2 norm of the background error 0.86844346085994\n",
      "L2 norm of the error in DA solution 6.084464487210082e-17\n",
      "[21536, 48877, 41890, 47616, 55576, 33888, 46702, 48409, 3077, 14748]\n"
     ]
    },
    {
     "name": "stderr",
     "output_type": "stream",
     "text": [
      "\n",
      " 55%|█████▌    | 553/1000 [04:32<03:39,  2.04it/s]\u001b[A"
     ]
    },
    {
     "name": "stdout",
     "output_type": "stream",
     "text": [
      "L2 norm of the background error 0.6586951650288555\n",
      "L2 norm of the error in DA solution 4.5827870259494105e-17\n",
      "[31046, 68949, 72491, 44651, 75175, 66671, 25293, 77868, 1729, 29544]\n"
     ]
    },
    {
     "name": "stderr",
     "output_type": "stream",
     "text": [
      "\n",
      " 55%|█████▌    | 554/1000 [04:33<03:43,  2.00it/s]\u001b[A"
     ]
    },
    {
     "name": "stdout",
     "output_type": "stream",
     "text": [
      "L2 norm of the background error 0.85913491164886\n",
      "L2 norm of the error in DA solution 1.4758107092315528e-16\n",
      "[67223, 24587, 18704, 47616, 74590, 12697, 45886, 7762, 42057, 1498]\n"
     ]
    },
    {
     "name": "stderr",
     "output_type": "stream",
     "text": [
      "\n",
      " 56%|█████▌    | 555/1000 [04:34<03:45,  1.97it/s]\u001b[A"
     ]
    },
    {
     "name": "stdout",
     "output_type": "stream",
     "text": [
      "L2 norm of the background error 0.6774121126395033\n",
      "L2 norm of the error in DA solution 5.3039573273952985e-17\n",
      "[45831, 59811, 89595, 47616, 58253, 52165, 36061, 53877, 852, 16753]\n"
     ]
    },
    {
     "name": "stderr",
     "output_type": "stream",
     "text": [
      "\n",
      " 56%|█████▌    | 556/1000 [04:34<03:40,  2.01it/s]\u001b[A"
     ]
    },
    {
     "name": "stdout",
     "output_type": "stream",
     "text": [
      "L2 norm of the background error 0.28728798694084434\n",
      "L2 norm of the error in DA solution 1.6709040788317212e-17\n",
      "[71393, 19338, 33892, 47616, 21885, 78038, 37064, 54873, 9534, 15146]\n"
     ]
    },
    {
     "name": "stderr",
     "output_type": "stream",
     "text": [
      "\n",
      " 56%|█████▌    | 557/1000 [04:34<03:36,  2.05it/s]\u001b[A"
     ]
    },
    {
     "name": "stdout",
     "output_type": "stream",
     "text": [
      "L2 norm of the background error 0.5374432453465499\n",
      "L2 norm of the error in DA solution 4.248663240366587e-17\n",
      "[30197, 51451, 81357, 47616, 52828, 43775, 53592, 58299, 19593, 57545]\n"
     ]
    },
    {
     "name": "stderr",
     "output_type": "stream",
     "text": [
      "\n",
      " 56%|█████▌    | 558/1000 [04:35<03:33,  2.07it/s]\u001b[A"
     ]
    },
    {
     "name": "stdout",
     "output_type": "stream",
     "text": [
      "L2 norm of the background error 0.6936885253175518\n",
      "L2 norm of the error in DA solution 7.84148728185688e-17\n",
      "[21536, 23542, 26207, 47616, 22974, 41323, 53175, 6139, 15024, 42839]\n"
     ]
    },
    {
     "name": "stderr",
     "output_type": "stream",
     "text": [
      "\n",
      " 56%|█████▌    | 559/1000 [04:35<03:30,  2.09it/s]\u001b[A"
     ]
    },
    {
     "name": "stdout",
     "output_type": "stream",
     "text": [
      "L2 norm of the background error 0.8090575646728919\n",
      "L2 norm of the error in DA solution 1.6126150342890236e-16\n",
      "[56159, 26658, 34229, 47616, 12495, 42973, 54566, 59020, 13654, 20288]\n"
     ]
    },
    {
     "name": "stderr",
     "output_type": "stream",
     "text": [
      "\n",
      " 56%|█████▌    | 560/1000 [04:36<03:33,  2.06it/s]\u001b[A"
     ]
    },
    {
     "name": "stdout",
     "output_type": "stream",
     "text": [
      "L2 norm of the background error 0.7679055392431385\n",
      "L2 norm of the error in DA solution 4.259775668205146e-17\n",
      "[53996, 67150, 18704, 47616, 1466, 33202, 44143, 77888, 1125, 31613]\n"
     ]
    },
    {
     "name": "stderr",
     "output_type": "stream",
     "text": [
      "\n",
      " 56%|█████▌    | 561/1000 [04:36<03:37,  2.01it/s]\u001b[A"
     ]
    },
    {
     "name": "stdout",
     "output_type": "stream",
     "text": [
      "L2 norm of the background error 0.8028138969170452\n",
      "L2 norm of the error in DA solution 7.54101484095777e-17\n",
      "[61242, 43326, 44089, 47616, 75175, 73845, 54566, 69428, 1727, 10504]\n"
     ]
    },
    {
     "name": "stderr",
     "output_type": "stream",
     "text": [
      "\n",
      " 56%|█████▌    | 562/1000 [04:37<03:41,  1.98it/s]\u001b[A"
     ]
    },
    {
     "name": "stdout",
     "output_type": "stream",
     "text": [
      "L2 norm of the background error 1.5999389981808902\n",
      "L2 norm of the error in DA solution 1.2721123172999588e-16\n",
      "[60669, 21202, 31413, 44651, 74980, 27621, 77016, 85675, 6304, 12321]\n"
     ]
    },
    {
     "name": "stderr",
     "output_type": "stream",
     "text": [
      "\n",
      " 56%|█████▋    | 563/1000 [04:37<03:42,  1.96it/s]\u001b[A"
     ]
    },
    {
     "name": "stdout",
     "output_type": "stream",
     "text": [
      "L2 norm of the background error 0.9047171534948525\n",
      "L2 norm of the error in DA solution 5.2734550118646877e-17\n",
      "[48238, 93100, 14672, 47616, 8676, 70467, 93797, 11312, 3361, 3753]\n"
     ]
    },
    {
     "name": "stderr",
     "output_type": "stream",
     "text": [
      "\n",
      " 56%|█████▋    | 564/1000 [04:38<03:43,  1.95it/s]\u001b[A"
     ]
    },
    {
     "name": "stdout",
     "output_type": "stream",
     "text": [
      "L2 norm of the background error 0.6475464646812781\n",
      "L2 norm of the error in DA solution 4.560378192402785e-17\n",
      "[28405, 26658, 44447, 47616, 21885, 55487, 60538, 74834, 55068, 39687]\n"
     ]
    },
    {
     "name": "stderr",
     "output_type": "stream",
     "text": [
      "\n",
      " 56%|█████▋    | 565/1000 [04:39<03:44,  1.93it/s]\u001b[A"
     ]
    },
    {
     "name": "stdout",
     "output_type": "stream",
     "text": [
      "L2 norm of the background error 0.5158448848920597\n",
      "L2 norm of the error in DA solution 5.794009481432117e-17\n",
      "[77636, 89382, 40477, 47616, 20460, 88090, 54317, 79654, 25979, 19255]\n"
     ]
    },
    {
     "name": "stderr",
     "output_type": "stream",
     "text": [
      "\n",
      " 57%|█████▋    | 566/1000 [04:39<03:46,  1.92it/s]\u001b[A"
     ]
    },
    {
     "name": "stdout",
     "output_type": "stream",
     "text": [
      "L2 norm of the background error 0.9321536832907577\n",
      "L2 norm of the error in DA solution 1.0921462630727673e-16\n",
      "[70420, 53871, 28281, 47616, 22974, 68289, 30321, 44194, 22354, 10199]\n"
     ]
    },
    {
     "name": "stderr",
     "output_type": "stream",
     "text": [
      "\n",
      " 57%|█████▋    | 567/1000 [04:40<03:41,  1.96it/s]\u001b[A"
     ]
    },
    {
     "name": "stdout",
     "output_type": "stream",
     "text": [
      "L2 norm of the background error 0.6813237739723417\n",
      "L2 norm of the error in DA solution 7.981742640241844e-17\n",
      "[69477, 43346, 52868, 47616, 21885, 30841, 39613, 7876, 3334, 48370]\n"
     ]
    },
    {
     "name": "stderr",
     "output_type": "stream",
     "text": [
      "\n",
      " 57%|█████▋    | 568/1000 [04:40<03:34,  2.01it/s]\u001b[A"
     ]
    },
    {
     "name": "stdout",
     "output_type": "stream",
     "text": [
      "L2 norm of the background error 0.8018485445357133\n",
      "L2 norm of the error in DA solution 9.133687237636937e-17\n",
      "[62677, 16664, 23839, 44651, 74980, 94416, 50845, 54223, 5068, 51261]\n"
     ]
    },
    {
     "name": "stderr",
     "output_type": "stream",
     "text": [
      "\n",
      " 57%|█████▋    | 569/1000 [04:40<03:29,  2.06it/s]\u001b[A"
     ]
    },
    {
     "name": "stdout",
     "output_type": "stream",
     "text": [
      "L2 norm of the background error 0.7192931546261724\n",
      "L2 norm of the error in DA solution 3.2816707772659866e-17\n",
      "[61892, 9527, 28058, 44651, 74590, 30817, 30909, 39151, 23499, 58370]\n"
     ]
    },
    {
     "name": "stderr",
     "output_type": "stream",
     "text": [
      "\n",
      " 57%|█████▋    | 570/1000 [04:41<03:26,  2.08it/s]\u001b[A"
     ]
    },
    {
     "name": "stdout",
     "output_type": "stream",
     "text": [
      "L2 norm of the background error 0.8242615547316278\n",
      "L2 norm of the error in DA solution 1.4297030693124232e-17\n",
      "[57772, 51621, 52868, 47616, 47734, 22019, 16935, 75480, 3552, 8787]\n"
     ]
    },
    {
     "name": "stderr",
     "output_type": "stream",
     "text": [
      "\n",
      " 57%|█████▋    | 571/1000 [04:41<03:24,  2.10it/s]\u001b[A"
     ]
    },
    {
     "name": "stdout",
     "output_type": "stream",
     "text": [
      "L2 norm of the background error 0.4077826554641179\n",
      "L2 norm of the error in DA solution 2.694174227232216e-17\n",
      "[70874, 72652, 66900, 44651, 21885, 34785, 98634, 42993, 6452, 27398]\n"
     ]
    },
    {
     "name": "stderr",
     "output_type": "stream",
     "text": [
      "\n",
      " 57%|█████▋    | 572/1000 [04:42<03:27,  2.07it/s]\u001b[A"
     ]
    },
    {
     "name": "stdout",
     "output_type": "stream",
     "text": [
      "L2 norm of the background error 0.9518043682457339\n",
      "L2 norm of the error in DA solution 9.69103995510171e-17\n",
      "[89329, 24588, 7183, 44651, 52457, 28032, 27703, 37879, 43221, 12849]\n"
     ]
    },
    {
     "name": "stderr",
     "output_type": "stream",
     "text": [
      "\n",
      " 57%|█████▋    | 573/1000 [04:42<03:24,  2.08it/s]\u001b[A"
     ]
    },
    {
     "name": "stdout",
     "output_type": "stream",
     "text": [
      "L2 norm of the background error 1.0724298233545109\n",
      "L2 norm of the error in DA solution 1.4838702997869898e-16\n",
      "[16980, 57746, 36070, 44651, 10389, 33305, 38884, 48247, 19677, 12322]\n"
     ]
    },
    {
     "name": "stderr",
     "output_type": "stream",
     "text": [
      "\n",
      " 57%|█████▋    | 574/1000 [04:43<03:29,  2.03it/s]\u001b[A"
     ]
    },
    {
     "name": "stdout",
     "output_type": "stream",
     "text": [
      "L2 norm of the background error 0.5075983274069679\n",
      "L2 norm of the error in DA solution 9.417050174719409e-17\n",
      "[44127, 48730, 86871, 44651, 74590, 75049, 18492, 51272, 2241, 3076]\n"
     ]
    },
    {
     "name": "stderr",
     "output_type": "stream",
     "text": [
      "\n",
      " 57%|█████▊    | 575/1000 [04:43<03:25,  2.07it/s]\u001b[A"
     ]
    },
    {
     "name": "stdout",
     "output_type": "stream",
     "text": [
      "L2 norm of the background error 0.5356303016650674\n",
      "L2 norm of the error in DA solution 1.5121713294784863e-16\n",
      "[56547, 971, 80376, 47616, 17019, 31359, 60065, 44898, 11383, 18918]\n"
     ]
    },
    {
     "name": "stderr",
     "output_type": "stream",
     "text": [
      "\n",
      " 58%|█████▊    | 576/1000 [04:44<03:22,  2.09it/s]\u001b[A"
     ]
    },
    {
     "name": "stdout",
     "output_type": "stream",
     "text": [
      "L2 norm of the background error 0.5956404434773472\n",
      "L2 norm of the error in DA solution 2.2103724216349465e-17\n",
      "[72227, 51451, 75050, 44651, 16534, 49600, 51578, 95412, 2813, 37084]\n"
     ]
    },
    {
     "name": "stderr",
     "output_type": "stream",
     "text": [
      "\n",
      " 58%|█████▊    | 577/1000 [04:44<03:20,  2.11it/s]\u001b[A"
     ]
    },
    {
     "name": "stdout",
     "output_type": "stream",
     "text": [
      "L2 norm of the background error 0.6377208890400295\n",
      "L2 norm of the error in DA solution 9.801057646546331e-17\n",
      "[90101, 57843, 57663, 47616, 17019, 50065, 43767, 67278, 26460, 48033]\n"
     ]
    },
    {
     "name": "stderr",
     "output_type": "stream",
     "text": [
      "\n",
      " 58%|█████▊    | 578/1000 [04:45<03:18,  2.12it/s]\u001b[A"
     ]
    },
    {
     "name": "stdout",
     "output_type": "stream",
     "text": [
      "L2 norm of the background error 0.5321681362039988\n",
      "L2 norm of the error in DA solution 8.134165488685504e-18\n",
      "[48354, 93099, 85857, 47616, 52430, 46609, 27916, 11752, 23686, 24765]\n"
     ]
    },
    {
     "name": "stderr",
     "output_type": "stream",
     "text": [
      "\n",
      " 58%|█████▊    | 579/1000 [04:45<03:17,  2.13it/s]\u001b[A"
     ]
    },
    {
     "name": "stdout",
     "output_type": "stream",
     "text": [
      "L2 norm of the background error 0.5481002427917676\n",
      "L2 norm of the error in DA solution 3.737962787352183e-17\n",
      "[24771, 72345, 43471, 44651, 52828, 26679, 22693, 21169, 2572, 21938]\n"
     ]
    },
    {
     "name": "stderr",
     "output_type": "stream",
     "text": [
      "\n",
      " 58%|█████▊    | 580/1000 [04:46<03:15,  2.14it/s]\u001b[A"
     ]
    },
    {
     "name": "stdout",
     "output_type": "stream",
     "text": [
      "L2 norm of the background error 0.575173524581923\n",
      "L2 norm of the error in DA solution 1.1573255620909294e-17\n",
      "[30198, 30266, 89422, 47616, 8676, 33835, 12242, 42381, 10489, 23362]\n"
     ]
    },
    {
     "name": "stderr",
     "output_type": "stream",
     "text": [
      "\n",
      " 58%|█████▊    | 581/1000 [04:46<03:15,  2.14it/s]\u001b[A"
     ]
    },
    {
     "name": "stdout",
     "output_type": "stream",
     "text": [
      "L2 norm of the background error 0.5250037729716266\n",
      "L2 norm of the error in DA solution 7.622746279812723e-17\n",
      "[56940, 19338, 45886, 44651, 48009, 16356, 6346, 42110, 40170, 55954]\n"
     ]
    },
    {
     "name": "stderr",
     "output_type": "stream",
     "text": [
      "\n",
      " 58%|█████▊    | 582/1000 [04:47<03:14,  2.15it/s]\u001b[A"
     ]
    },
    {
     "name": "stdout",
     "output_type": "stream",
     "text": [
      "L2 norm of the background error 0.7193999101417786\n",
      "L2 norm of the error in DA solution 3.776111407799597e-17\n",
      "[90926, 42775, 61597, 47616, 10389, 70232, 33919, 18916, 19165, 14352]\n"
     ]
    },
    {
     "name": "stderr",
     "output_type": "stream",
     "text": [
      "\n",
      " 58%|█████▊    | 583/1000 [04:47<03:14,  2.14it/s]\u001b[A"
     ]
    },
    {
     "name": "stdout",
     "output_type": "stream",
     "text": [
      "L2 norm of the background error 0.811193646383606\n",
      "L2 norm of the error in DA solution 4.712180282826583e-17\n",
      "[54641, 74560, 29791, 47616, 17018, 36237, 89772, 273, 29025, 36093]\n"
     ]
    },
    {
     "name": "stderr",
     "output_type": "stream",
     "text": [
      "\n",
      " 58%|█████▊    | 584/1000 [04:48<03:14,  2.14it/s]\u001b[A"
     ]
    },
    {
     "name": "stdout",
     "output_type": "stream",
     "text": [
      "L2 norm of the background error 0.351821656959275\n",
      "L2 norm of the error in DA solution 2.0142113036335033e-17\n",
      "[85813, 75486, 43426, 47616, 16534, 8850, 49058, 46720, 3361, 6525]\n"
     ]
    },
    {
     "name": "stderr",
     "output_type": "stream",
     "text": [
      "\n",
      " 58%|█████▊    | 585/1000 [04:48<03:14,  2.14it/s]\u001b[A"
     ]
    },
    {
     "name": "stdout",
     "output_type": "stream",
     "text": [
      "L2 norm of the background error 0.5191655630838151\n",
      "L2 norm of the error in DA solution 8.134543733285538e-17\n",
      "[14868, 19340, 33023, 47616, 45495, 27709, 55665, 24742, 19677, 28825]\n"
     ]
    },
    {
     "name": "stderr",
     "output_type": "stream",
     "text": [
      "\n",
      " 59%|█████▊    | 586/1000 [04:48<03:14,  2.13it/s]\u001b[A"
     ]
    },
    {
     "name": "stdout",
     "output_type": "stream",
     "text": [
      "L2 norm of the background error 0.855945879418873\n",
      "L2 norm of the error in DA solution 1.5393093483046713e-16\n",
      "[42014, 6780, 89684, 44651, 20460, 83549, 85866, 48409, 725, 51260]\n"
     ]
    },
    {
     "name": "stderr",
     "output_type": "stream",
     "text": [
      "\n",
      " 59%|█████▊    | 587/1000 [04:49<03:18,  2.09it/s]\u001b[A"
     ]
    },
    {
     "name": "stdout",
     "output_type": "stream",
     "text": [
      "L2 norm of the background error 0.8952541341670924\n",
      "L2 norm of the error in DA solution 9.83126579693039e-17\n",
      "[24167, 40251, 43471, 44651, 1466, 2187, 43616, 52409, 40047, 3580]\n"
     ]
    },
    {
     "name": "stderr",
     "output_type": "stream",
     "text": [
      "\n",
      " 59%|█████▉    | 588/1000 [04:50<03:24,  2.01it/s]\u001b[A"
     ]
    },
    {
     "name": "stdout",
     "output_type": "stream",
     "text": [
      "L2 norm of the background error 0.9692841713709617\n",
      "L2 norm of the error in DA solution 5.2915045281249383e-17\n",
      "[13358, 47832, 44015, 44651, 52828, 55532, 42202, 56604, 3112, 15146]\n"
     ]
    },
    {
     "name": "stderr",
     "output_type": "stream",
     "text": [
      "\n",
      " 59%|█████▉    | 589/1000 [04:50<03:27,  1.98it/s]\u001b[A"
     ]
    },
    {
     "name": "stdout",
     "output_type": "stream",
     "text": [
      "L2 norm of the background error 0.4431477305462875\n",
      "L2 norm of the error in DA solution 4.32497804254156e-17\n",
      "[60669, 6421, 23097, 47616, 31198, 78037, 58840, 50612, 20243, 13773]\n"
     ]
    },
    {
     "name": "stderr",
     "output_type": "stream",
     "text": [
      "\n",
      " 59%|█████▉    | 590/1000 [04:51<03:28,  1.97it/s]\u001b[A"
     ]
    },
    {
     "name": "stdout",
     "output_type": "stream",
     "text": [
      "L2 norm of the background error 0.6781498965208625\n",
      "L2 norm of the error in DA solution 5.420126419332674e-17\n",
      "[63544, 11146, 23233, 47616, 45495, 44340, 9621, 50447, 15728, 41528]\n"
     ]
    },
    {
     "name": "stderr",
     "output_type": "stream",
     "text": [
      "\n",
      " 59%|█████▉    | 591/1000 [04:51<03:29,  1.95it/s]\u001b[A"
     ]
    },
    {
     "name": "stdout",
     "output_type": "stream",
     "text": [
      "L2 norm of the background error 0.8029753712426261\n",
      "L2 norm of the error in DA solution 1.4112397335235182e-16\n",
      "[43744, 74085, 15426, 44651, 74980, 48930, 16870, 85675, 7418, 15146]\n"
     ]
    },
    {
     "name": "stderr",
     "output_type": "stream",
     "text": [
      "\n",
      " 59%|█████▉    | 592/1000 [04:52<03:30,  1.94it/s]\u001b[A"
     ]
    },
    {
     "name": "stdout",
     "output_type": "stream",
     "text": [
      "L2 norm of the background error 0.6981182902180342\n",
      "L2 norm of the error in DA solution 2.3051359165853214e-17\n",
      "[24141, 18041, 44038, 47616, 48502, 65876, 55231, 66199, 9668, 10199]\n"
     ]
    },
    {
     "name": "stderr",
     "output_type": "stream",
     "text": [
      "\n",
      " 59%|█████▉    | 593/1000 [04:52<03:30,  1.93it/s]\u001b[A"
     ]
    },
    {
     "name": "stdout",
     "output_type": "stream",
     "text": [
      "L2 norm of the background error 0.805905484355778\n",
      "L2 norm of the error in DA solution 1.282231826846222e-16\n",
      "[22440, 16620, 43587, 47616, 74980, 42960, 78683, 24742, 32279, 16360]\n"
     ]
    },
    {
     "name": "stderr",
     "output_type": "stream",
     "text": [
      "\n",
      " 59%|█████▉    | 594/1000 [04:53<03:31,  1.92it/s]\u001b[A"
     ]
    },
    {
     "name": "stdout",
     "output_type": "stream",
     "text": [
      "L2 norm of the background error 0.6826223883700685\n",
      "L2 norm of the error in DA solution 9.945988108132601e-17\n",
      "[23252, 85054, 88466, 44651, 74590, 67424, 8673, 50447, 35274, 16985]\n"
     ]
    },
    {
     "name": "stderr",
     "output_type": "stream",
     "text": [
      "\n",
      " 60%|█████▉    | 595/1000 [04:53<03:30,  1.93it/s]\u001b[A"
     ]
    },
    {
     "name": "stdout",
     "output_type": "stream",
     "text": [
      "L2 norm of the background error 0.6289380660809053\n",
      "L2 norm of the error in DA solution 4.038271561805301e-17\n",
      "[31008, 39586, 89500, 47616, 52828, 74458, 53597, 54318, 30274, 13210]\n"
     ]
    },
    {
     "name": "stderr",
     "output_type": "stream",
     "text": [
      "\n",
      " 60%|█████▉    | 596/1000 [04:54<03:30,  1.92it/s]\u001b[A"
     ]
    },
    {
     "name": "stdout",
     "output_type": "stream",
     "text": [
      "L2 norm of the background error 0.725749536867488\n",
      "L2 norm of the error in DA solution 2.0273871254237468e-17\n",
      "[18824, 30877, 43706, 44651, 17019, 51192, 35642, 52867, 2570, 10199]\n"
     ]
    },
    {
     "name": "stderr",
     "output_type": "stream",
     "text": [
      "\n",
      " 60%|█████▉    | 597/1000 [04:54<03:30,  1.91it/s]\u001b[A"
     ]
    },
    {
     "name": "stdout",
     "output_type": "stream",
     "text": [
      "L2 norm of the background error 0.9011456486414241\n",
      "L2 norm of the error in DA solution 1.055504162689354e-16\n",
      "[73474, 35159, 37953, 44651, 8951, 40426, 27916, 42771, 19283, 58369]\n"
     ]
    },
    {
     "name": "stderr",
     "output_type": "stream",
     "text": [
      "\n",
      " 60%|█████▉    | 598/1000 [04:55<03:30,  1.91it/s]\u001b[A"
     ]
    },
    {
     "name": "stdout",
     "output_type": "stream",
     "text": [
      "L2 norm of the background error 0.5706464063406136\n",
      "L2 norm of the error in DA solution 8.17303076132951e-18\n",
      "[81356, 76132, 81507, 44651, 48502, 22736, 21234, 85675, 33371, 37084]\n"
     ]
    },
    {
     "name": "stderr",
     "output_type": "stream",
     "text": [
      "\n",
      " 60%|█████▉    | 599/1000 [04:55<03:30,  1.90it/s]\u001b[A"
     ]
    },
    {
     "name": "stdout",
     "output_type": "stream",
     "text": [
      "L2 norm of the background error 0.7446138296392567\n",
      "L2 norm of the error in DA solution 1.2171047041710032e-16\n",
      "[49537, 74229, 79076, 44651, 10389, 73755, 42993, 38272, 21036, 23363]\n"
     ]
    },
    {
     "name": "stderr",
     "output_type": "stream",
     "text": [
      "\n",
      " 60%|██████    | 600/1000 [04:56<03:29,  1.91it/s]\u001b[A"
     ]
    },
    {
     "name": "stdout",
     "output_type": "stream",
     "text": [
      "L2 norm of the background error 0.45774825599436675\n",
      "L2 norm of the error in DA solution 4.103440856627537e-17\n",
      "[32014, 12083, 34049, 44651, 55576, 94413, 13129, 44712, 8328, 58288]\n"
     ]
    },
    {
     "name": "stderr",
     "output_type": "stream",
     "text": [
      "\n",
      " 60%|██████    | 601/1000 [04:56<03:28,  1.92it/s]\u001b[A"
     ]
    },
    {
     "name": "stdout",
     "output_type": "stream",
     "text": [
      "L2 norm of the background error 0.7011616389038059\n",
      "L2 norm of the error in DA solution 1.3027778001202042e-16\n",
      "[85084, 25752, 15407, 44651, 48502, 21267, 66352, 21049, 10489, 19391]\n"
     ]
    },
    {
     "name": "stderr",
     "output_type": "stream",
     "text": [
      "\n",
      " 60%|██████    | 602/1000 [04:57<03:28,  1.91it/s]\u001b[A"
     ]
    },
    {
     "name": "stdout",
     "output_type": "stream",
     "text": [
      "L2 norm of the background error 0.7211031814519046\n",
      "L2 norm of the error in DA solution 7.334304514440305e-17\n",
      "[89329, 90628, 80291, 47616, 52828, 78353, 76515, 56128, 10171, 58633]\n"
     ]
    },
    {
     "name": "stderr",
     "output_type": "stream",
     "text": [
      "\n",
      " 60%|██████    | 603/1000 [04:57<03:26,  1.92it/s]\u001b[A"
     ]
    },
    {
     "name": "stdout",
     "output_type": "stream",
     "text": [
      "L2 norm of the background error 0.5388648097801759\n",
      "L2 norm of the error in DA solution 5.609232405048822e-17\n",
      "[97671, 30729, 21730, 47616, 18750, 55488, 22259, 49697, 16256, 22371]\n"
     ]
    },
    {
     "name": "stderr",
     "output_type": "stream",
     "text": [
      "\n",
      " 60%|██████    | 604/1000 [04:58<03:26,  1.92it/s]\u001b[A"
     ]
    },
    {
     "name": "stdout",
     "output_type": "stream",
     "text": [
      "L2 norm of the background error 0.8220654034603473\n",
      "L2 norm of the error in DA solution 5.198665851578227e-17\n",
      "[51292, 18020, 45518, 47616, 48502, 44137, 26045, 81357, 25139, 20749]\n"
     ]
    },
    {
     "name": "stderr",
     "output_type": "stream",
     "text": [
      "\n",
      " 60%|██████    | 605/1000 [04:58<03:26,  1.91it/s]\u001b[A"
     ]
    },
    {
     "name": "stdout",
     "output_type": "stream",
     "text": [
      "L2 norm of the background error 0.5044890854944206\n",
      "L2 norm of the error in DA solution 5.0069758063110823e-17\n",
      "[63961, 30085, 49640, 44651, 52430, 27542, 45994, 71200, 604, 35307]\n"
     ]
    },
    {
     "name": "stderr",
     "output_type": "stream",
     "text": [
      "\n",
      " 61%|██████    | 606/1000 [04:59<03:25,  1.91it/s]\u001b[A"
     ]
    },
    {
     "name": "stdout",
     "output_type": "stream",
     "text": [
      "L2 norm of the background error 0.7385532519238078\n",
      "L2 norm of the error in DA solution 7.476916380616713e-17\n",
      "[22323, 53871, 78114, 47616, 74590, 35770, 16870, 26473, 5026, 16361]\n"
     ]
    },
    {
     "name": "stderr",
     "output_type": "stream",
     "text": [
      "\n",
      " 61%|██████    | 607/1000 [04:59<03:26,  1.90it/s]\u001b[A"
     ]
    },
    {
     "name": "stdout",
     "output_type": "stream",
     "text": [
      "L2 norm of the background error 0.543796948270985\n",
      "L2 norm of the error in DA solution 4.8773756506889784e-17\n",
      "[28405, 51621, 74814, 44651, 48009, 32883, 22258, 68712, 5179, 51260]\n"
     ]
    },
    {
     "name": "stderr",
     "output_type": "stream",
     "text": [
      "\n",
      " 61%|██████    | 608/1000 [05:00<03:25,  1.91it/s]\u001b[A"
     ]
    },
    {
     "name": "stdout",
     "output_type": "stream",
     "text": [
      "L2 norm of the background error 0.891940434481755\n",
      "L2 norm of the error in DA solution 7.647520231034193e-17\n",
      "[45831, 49656, 42993, 47616, 21885, 26679, 33108, 52785, 48260, 12119]\n"
     ]
    },
    {
     "name": "stderr",
     "output_type": "stream",
     "text": [
      "\n",
      " 61%|██████    | 609/1000 [05:00<03:24,  1.91it/s]\u001b[A"
     ]
    },
    {
     "name": "stdout",
     "output_type": "stream",
     "text": [
      "L2 norm of the background error 1.0096842074929782\n",
      "L2 norm of the error in DA solution 6.764771397360004e-17\n",
      "[97671, 31625, 32514, 44651, 17018, 33305, 41849, 22497, 27771, 24508]\n"
     ]
    },
    {
     "name": "stderr",
     "output_type": "stream",
     "text": [
      "\n",
      " 61%|██████    | 610/1000 [05:01<03:23,  1.91it/s]\u001b[A"
     ]
    },
    {
     "name": "stdout",
     "output_type": "stream",
     "text": [
      "L2 norm of the background error 0.9562263485971624\n",
      "L2 norm of the error in DA solution 6.015604852137691e-17\n",
      "[32164, 7763, 2513, 44651, 17019, 12569, 66617, 24241, 8015, 32123]\n"
     ]
    },
    {
     "name": "stderr",
     "output_type": "stream",
     "text": [
      "\n",
      " 61%|██████    | 611/1000 [05:02<03:25,  1.89it/s]\u001b[A"
     ]
    },
    {
     "name": "stdout",
     "output_type": "stream",
     "text": [
      "L2 norm of the background error 1.0170603482061777\n",
      "L2 norm of the error in DA solution 1.7007488594437618e-16\n",
      "[43145, 53229, 73900, 47616, 58253, 20598, 37064, 51272, 9580, 6525]\n"
     ]
    },
    {
     "name": "stderr",
     "output_type": "stream",
     "text": [
      "\n",
      " 61%|██████    | 612/1000 [05:02<03:26,  1.88it/s]\u001b[A"
     ]
    },
    {
     "name": "stdout",
     "output_type": "stream",
     "text": [
      "L2 norm of the background error 0.42742034625309855\n",
      "L2 norm of the error in DA solution 7.459812508816128e-17\n",
      "[17882, 46217, 71134, 44651, 40998, 78039, 32840, 68440, 10495, 31014]\n"
     ]
    },
    {
     "name": "stderr",
     "output_type": "stream",
     "text": [
      "\n",
      " 61%|██████▏   | 613/1000 [05:03<03:23,  1.90it/s]\u001b[A"
     ]
    },
    {
     "name": "stdout",
     "output_type": "stream",
     "text": [
      "L2 norm of the background error 0.8647234871152274\n",
      "L2 norm of the error in DA solution 4.484720974950987e-17\n",
      "[32674, 68949, 87894, 47616, 16534, 1239, 47524, 49697, 22354, 1990]\n"
     ]
    },
    {
     "name": "stderr",
     "output_type": "stream",
     "text": [
      "\n",
      " 61%|██████▏   | 614/1000 [05:03<03:16,  1.96it/s]\u001b[A"
     ]
    },
    {
     "name": "stdout",
     "output_type": "stream",
     "text": [
      "L2 norm of the background error 0.46374480350943253\n",
      "L2 norm of the error in DA solution 7.472528122800996e-17\n",
      "[35366, 53229, 34669, 47616, 55576, 85597, 76454, 46598, 1307, 6864]\n"
     ]
    },
    {
     "name": "stderr",
     "output_type": "stream",
     "text": [
      "\n",
      " 62%|██████▏   | 615/1000 [05:04<03:12,  2.00it/s]\u001b[A"
     ]
    },
    {
     "name": "stdout",
     "output_type": "stream",
     "text": [
      "L2 norm of the background error 0.4871697640662442\n",
      "L2 norm of the error in DA solution 8.482994384632308e-17\n",
      "[90926, 9409, 43622, 47616, 48502, 52110, 49746, 62649, 6245, 55744]\n"
     ]
    },
    {
     "name": "stderr",
     "output_type": "stream",
     "text": [
      "\n",
      " 62%|██████▏   | 616/1000 [05:04<03:13,  1.98it/s]\u001b[A"
     ]
    },
    {
     "name": "stdout",
     "output_type": "stream",
     "text": [
      "L2 norm of the background error 0.6235540462079388\n",
      "L2 norm of the error in DA solution 4.221201813607858e-17\n",
      "[53112, 49461, 32467, 47616, 22974, 85577, 15426, 61578, 18902, 36093]\n"
     ]
    },
    {
     "name": "stderr",
     "output_type": "stream",
     "text": [
      "\n",
      " 62%|██████▏   | 617/1000 [05:05<03:16,  1.95it/s]\u001b[A"
     ]
    },
    {
     "name": "stdout",
     "output_type": "stream",
     "text": [
      "L2 norm of the background error 0.5873208359659137\n",
      "L2 norm of the error in DA solution 2.422085040379425e-18\n",
      "[55103, 22008, 15385, 47616, 75175, 73958, 59025, 95412, 4826, 10356]\n"
     ]
    },
    {
     "name": "stderr",
     "output_type": "stream",
     "text": [
      "\n",
      " 62%|██████▏   | 618/1000 [05:05<03:17,  1.94it/s]\u001b[A"
     ]
    },
    {
     "name": "stdout",
     "output_type": "stream",
     "text": [
      "L2 norm of the background error 0.9560693976546147\n",
      "L2 norm of the error in DA solution 6.91078956464659e-17\n",
      "[45012, 65523, 38884, 44651, 1466, 78150, 20025, 44898, 16256, 4200]\n"
     ]
    },
    {
     "name": "stderr",
     "output_type": "stream",
     "text": [
      "\n",
      " 62%|██████▏   | 619/1000 [05:06<03:17,  1.93it/s]\u001b[A"
     ]
    },
    {
     "name": "stdout",
     "output_type": "stream",
     "text": [
      "L2 norm of the background error 0.38866283513506705\n",
      "L2 norm of the error in DA solution 6.155987988553128e-17\n",
      "[18816, 14999, 69785, 47616, 6436, 35090, 45878, 75389, 11724, 53317]\n"
     ]
    },
    {
     "name": "stderr",
     "output_type": "stream",
     "text": [
      "\n",
      " 62%|██████▏   | 620/1000 [05:06<03:17,  1.92it/s]\u001b[A"
     ]
    },
    {
     "name": "stdout",
     "output_type": "stream",
     "text": [
      "L2 norm of the background error 0.47577380155933635\n",
      "L2 norm of the error in DA solution 5.0839749011948585e-17\n",
      "[56547, 50912, 49640, 44651, 74590, 66176, 74201, 20521, 4010, 52731]\n"
     ]
    },
    {
     "name": "stderr",
     "output_type": "stream",
     "text": [
      "\n",
      " 62%|██████▏   | 621/1000 [05:07<03:17,  1.91it/s]\u001b[A"
     ]
    },
    {
     "name": "stdout",
     "output_type": "stream",
     "text": [
      "L2 norm of the background error 1.039968184921464\n",
      "L2 norm of the error in DA solution 1.020075884178995e-16\n",
      "[21536, 77692, 92076, 47616, 52457, 30408, 43754, 46720, 27838, 10199]\n"
     ]
    },
    {
     "name": "stderr",
     "output_type": "stream",
     "text": [
      "\n",
      " 62%|██████▏   | 622/1000 [05:07<03:17,  1.91it/s]\u001b[A"
     ]
    },
    {
     "name": "stdout",
     "output_type": "stream",
     "text": [
      "L2 norm of the background error 0.8468507122368159\n",
      "L2 norm of the error in DA solution 8.490672979990072e-17\n",
      "[64664, 29201, 55018, 47616, 40998, 25129, 59696, 52816, 14353, 3076]\n"
     ]
    },
    {
     "name": "stderr",
     "output_type": "stream",
     "text": [
      "\n",
      " 62%|██████▏   | 623/1000 [05:08<03:16,  1.92it/s]\u001b[A"
     ]
    },
    {
     "name": "stdout",
     "output_type": "stream",
     "text": [
      "L2 norm of the background error 0.6184014895603861\n",
      "L2 norm of the error in DA solution 7.05376369915124e-17\n",
      "[56703, 41935, 65542, 44651, 16534, 49600, 42319, 58614, 4287, 16279]\n"
     ]
    },
    {
     "name": "stderr",
     "output_type": "stream",
     "text": [
      "\n",
      " 62%|██████▏   | 624/1000 [05:08<03:16,  1.92it/s]\u001b[A"
     ]
    },
    {
     "name": "stdout",
     "output_type": "stream",
     "text": [
      "L2 norm of the background error 0.8625348793255136\n",
      "L2 norm of the error in DA solution 1.2771320461989033e-16\n",
      "[42014, 17429, 49965, 47616, 17018, 90624, 48149, 22635, 2243, 48033]\n"
     ]
    },
    {
     "name": "stderr",
     "output_type": "stream",
     "text": [
      "\n",
      " 62%|██████▎   | 625/1000 [05:09<03:15,  1.91it/s]\u001b[A"
     ]
    },
    {
     "name": "stdout",
     "output_type": "stream",
     "text": [
      "L2 norm of the background error 0.6730015769368054\n",
      "L2 norm of the error in DA solution 5.680119852895141e-17\n",
      "[53996, 17858, 25757, 47616, 75175, 55487, 68975, 55019, 1268, 52352]\n"
     ]
    },
    {
     "name": "stderr",
     "output_type": "stream",
     "text": [
      "\n",
      " 63%|██████▎   | 626/1000 [05:09<03:15,  1.91it/s]\u001b[A"
     ]
    },
    {
     "name": "stdout",
     "output_type": "stream",
     "text": [
      "L2 norm of the background error 0.710963670485935\n",
      "L2 norm of the error in DA solution 1.0596050385508496e-16\n",
      "[72442, 51801, 49640, 44651, 17018, 34977, 70303, 39780, 1306, 8477]\n"
     ]
    },
    {
     "name": "stderr",
     "output_type": "stream",
     "text": [
      "\n",
      " 63%|██████▎   | 627/1000 [05:10<03:16,  1.90it/s]\u001b[A"
     ]
    },
    {
     "name": "stdout",
     "output_type": "stream",
     "text": [
      "L2 norm of the background error 0.36125136029244104\n",
      "L2 norm of the error in DA solution 3.297904358007078e-17\n",
      "[13877, 24587, 30511, 44651, 10048, 59345, 77016, 18568, 6452, 45137]\n"
     ]
    },
    {
     "name": "stderr",
     "output_type": "stream",
     "text": [
      "\n",
      " 63%|██████▎   | 628/1000 [05:10<03:17,  1.89it/s]\u001b[A"
     ]
    },
    {
     "name": "stdout",
     "output_type": "stream",
     "text": [
      "L2 norm of the background error 1.14550033860061\n",
      "L2 norm of the error in DA solution 1.9963813974031285e-16\n",
      "[59379, 11464, 37099, 44651, 17018, 44643, 49367, 43784, 19296, 8787]\n"
     ]
    },
    {
     "name": "stderr",
     "output_type": "stream",
     "text": [
      "\n",
      " 63%|██████▎   | 629/1000 [05:11<03:14,  1.91it/s]\u001b[A"
     ]
    },
    {
     "name": "stdout",
     "output_type": "stream",
     "text": [
      "L2 norm of the background error 0.9565464162279992\n",
      "L2 norm of the error in DA solution 4.990086829255456e-17\n",
      "[30197, 80000, 32467, 44651, 52828, 50741, 16229, 44918, 7849, 13210]\n"
     ]
    },
    {
     "name": "stderr",
     "output_type": "stream",
     "text": [
      "\n",
      " 63%|██████▎   | 630/1000 [05:11<03:13,  1.91it/s]\u001b[A"
     ]
    },
    {
     "name": "stdout",
     "output_type": "stream",
     "text": [
      "L2 norm of the background error 0.6899528719255689\n",
      "L2 norm of the error in DA solution 8.22078924494796e-17\n",
      "[62841, 80144, 36195, 47616, 17019, 81402, 30389, 18528, 2819, 41315]\n"
     ]
    },
    {
     "name": "stderr",
     "output_type": "stream",
     "text": [
      "\n",
      " 63%|██████▎   | 631/1000 [05:12<03:13,  1.91it/s]\u001b[A"
     ]
    },
    {
     "name": "stdout",
     "output_type": "stream",
     "text": [
      "L2 norm of the background error 0.8450617652146156\n",
      "L2 norm of the error in DA solution 1.0339577239993599e-16\n",
      "[21240, 26063, 27619, 47616, 10048, 17626, 18415, 57941, 20752, 29544]\n"
     ]
    },
    {
     "name": "stderr",
     "output_type": "stream",
     "text": [
      "\n",
      " 63%|██████▎   | 632/1000 [05:12<03:12,  1.92it/s]\u001b[A"
     ]
    },
    {
     "name": "stdout",
     "output_type": "stream",
     "text": [
      "L2 norm of the background error 0.8284183497053019\n",
      "L2 norm of the error in DA solution 3.205638963463463e-17\n",
      "[34300, 74563, 49250, 44651, 1466, 19348, 51160, 38429, 19296, 11912]\n"
     ]
    },
    {
     "name": "stderr",
     "output_type": "stream",
     "text": [
      "\n",
      " 63%|██████▎   | 633/1000 [05:13<03:11,  1.92it/s]\u001b[A"
     ]
    },
    {
     "name": "stdout",
     "output_type": "stream",
     "text": [
      "L2 norm of the background error 0.7403805521684184\n",
      "L2 norm of the error in DA solution 3.120226759085155e-17\n",
      "[32014, 49632, 58653, 44651, 17018, 71616, 52342, 52785, 19677, 2858]\n"
     ]
    },
    {
     "name": "stderr",
     "output_type": "stream",
     "text": [
      "\n",
      " 63%|██████▎   | 634/1000 [05:14<03:10,  1.92it/s]\u001b[A"
     ]
    },
    {
     "name": "stdout",
     "output_type": "stream",
     "text": [
      "L2 norm of the background error 1.0344053438030616\n",
      "L2 norm of the error in DA solution 1.2876452422293221e-16\n",
      "[71393, 12138, 20846, 47616, 55576, 11044, 26467, 20521, 22004, 68594]\n"
     ]
    },
    {
     "name": "stderr",
     "output_type": "stream",
     "text": [
      "\n",
      " 64%|██████▎   | 635/1000 [05:14<03:10,  1.92it/s]\u001b[A"
     ]
    },
    {
     "name": "stdout",
     "output_type": "stream",
     "text": [
      "L2 norm of the background error 0.7303974869811016\n",
      "L2 norm of the error in DA solution 1.4128520174458847e-16\n",
      "[69226, 46420, 7667, 44651, 18750, 50075, 2202, 66329, 11706, 16361]\n"
     ]
    },
    {
     "name": "stderr",
     "output_type": "stream",
     "text": [
      "\n",
      " 64%|██████▎   | 636/1000 [05:15<03:09,  1.92it/s]\u001b[A"
     ]
    },
    {
     "name": "stdout",
     "output_type": "stream",
     "text": [
      "L2 norm of the background error 1.0539789949623513\n",
      "L2 norm of the error in DA solution 7.928773512278645e-17\n",
      "[72185, 29133, 58652, 44651, 48009, 38295, 56341, 18597, 6303, 47874]\n"
     ]
    },
    {
     "name": "stderr",
     "output_type": "stream",
     "text": [
      "\n",
      " 64%|██████▎   | 637/1000 [05:15<03:09,  1.92it/s]\u001b[A"
     ]
    },
    {
     "name": "stdout",
     "output_type": "stream",
     "text": [
      "L2 norm of the background error 0.5485954431861173\n",
      "L2 norm of the error in DA solution 3.782591064100966e-17\n",
      "[21537, 51621, 86871, 44651, 17019, 66727, 9338, 78492, 12103, 19392]\n"
     ]
    },
    {
     "name": "stderr",
     "output_type": "stream",
     "text": [
      "\n",
      " 64%|██████▍   | 638/1000 [05:16<03:08,  1.92it/s]\u001b[A"
     ]
    },
    {
     "name": "stdout",
     "output_type": "stream",
     "text": [
      "L2 norm of the background error 0.2873643583163491\n",
      "L2 norm of the error in DA solution 3.687247524361562e-17\n",
      "[72404, 51451, 44088, 44651, 20460, 32808, 33425, 39115, 27838, 45580]\n"
     ]
    },
    {
     "name": "stderr",
     "output_type": "stream",
     "text": [
      "\n",
      " 64%|██████▍   | 639/1000 [05:16<03:07,  1.92it/s]\u001b[A"
     ]
    },
    {
     "name": "stdout",
     "output_type": "stream",
     "text": [
      "L2 norm of the background error 0.36413216628713085\n",
      "L2 norm of the error in DA solution 6.508857213385376e-18\n",
      "[69226, 40251, 2513, 47616, 21885, 23338, 35642, 75009, 29316, 21604]\n"
     ]
    },
    {
     "name": "stderr",
     "output_type": "stream",
     "text": [
      "\n",
      " 64%|██████▍   | 640/1000 [05:17<03:06,  1.93it/s]\u001b[A"
     ]
    },
    {
     "name": "stdout",
     "output_type": "stream",
     "text": [
      "L2 norm of the background error 1.005810757084443\n",
      "L2 norm of the error in DA solution 1.4305668282961826e-16\n",
      "[22440, 8701, 45174, 47616, 55576, 37760, 98634, 50885, 4287, 16496]\n"
     ]
    },
    {
     "name": "stderr",
     "output_type": "stream",
     "text": [
      "\n",
      " 64%|██████▍   | 641/1000 [05:17<03:06,  1.93it/s]\u001b[A"
     ]
    },
    {
     "name": "stdout",
     "output_type": "stream",
     "text": [
      "L2 norm of the background error 0.6436076836149074\n",
      "L2 norm of the error in DA solution 1.0392821446637521e-17\n",
      "[43744, 6780, 71134, 47616, 47734, 17193, 40077, 49107, 11974, 74128]\n"
     ]
    },
    {
     "name": "stderr",
     "output_type": "stream",
     "text": [
      "\n",
      " 64%|██████▍   | 642/1000 [05:18<03:00,  1.98it/s]\u001b[A"
     ]
    },
    {
     "name": "stdout",
     "output_type": "stream",
     "text": [
      "L2 norm of the background error 0.557104567386959\n",
      "L2 norm of the error in DA solution 2.3824494821963614e-16\n",
      "[60756, 36161, 56286, 44651, 52828, 30626, 29284, 45248, 40170, 13773]\n"
     ]
    },
    {
     "name": "stderr",
     "output_type": "stream",
     "text": [
      "\n",
      " 64%|██████▍   | 643/1000 [05:18<02:56,  2.02it/s]\u001b[A"
     ]
    },
    {
     "name": "stdout",
     "output_type": "stream",
     "text": [
      "L2 norm of the background error 0.678694101446552\n",
      "L2 norm of the error in DA solution 9.848288977519339e-17\n",
      "[65631, 74203, 51634, 44651, 8951, 30913, 60059, 56715, 2240, 4200]\n"
     ]
    },
    {
     "name": "stderr",
     "output_type": "stream",
     "text": [
      "\n",
      " 64%|██████▍   | 644/1000 [05:19<02:59,  1.99it/s]\u001b[A"
     ]
    },
    {
     "name": "stdout",
     "output_type": "stream",
     "text": [
      "L2 norm of the background error 0.4030169110448106\n",
      "L2 norm of the error in DA solution 2.928533575733815e-17\n",
      "[81356, 85580, 43706, 44651, 74980, 63072, 30511, 70096, 22904, 58633]\n"
     ]
    },
    {
     "name": "stderr",
     "output_type": "stream",
     "text": [
      "\n",
      " 64%|██████▍   | 645/1000 [05:19<03:00,  1.97it/s]\u001b[A"
     ]
    },
    {
     "name": "stdout",
     "output_type": "stream",
     "text": [
      "L2 norm of the background error 0.6517013681264714\n",
      "L2 norm of the error in DA solution 4.0669453027788094e-17\n",
      "[77492, 36895, 20600, 44651, 48009, 32155, 46702, 76905, 11722, 3753]\n"
     ]
    },
    {
     "name": "stderr",
     "output_type": "stream",
     "text": [
      "\n",
      " 65%|██████▍   | 646/1000 [05:20<03:00,  1.96it/s]\u001b[A"
     ]
    },
    {
     "name": "stdout",
     "output_type": "stream",
     "text": [
      "L2 norm of the background error 0.6092865115482545\n",
      "L2 norm of the error in DA solution 4.2515446114469313e-17\n",
      "[17882, 69618, 44038, 47616, 10048, 57532, 47377, 44442, 15621, 71422]\n"
     ]
    },
    {
     "name": "stderr",
     "output_type": "stream",
     "text": [
      "\n",
      " 65%|██████▍   | 647/1000 [05:20<03:01,  1.95it/s]\u001b[A"
     ]
    },
    {
     "name": "stdout",
     "output_type": "stream",
     "text": [
      "L2 norm of the background error 0.995171122755783\n",
      "L2 norm of the error in DA solution 6.027062346944656e-17\n",
      "[61919, 28501, 52342, 47616, 10389, 74996, 60538, 76905, 18902, 52730]\n"
     ]
    },
    {
     "name": "stderr",
     "output_type": "stream",
     "text": [
      "\n",
      " 65%|██████▍   | 648/1000 [05:21<03:03,  1.92it/s]\u001b[A"
     ]
    },
    {
     "name": "stdout",
     "output_type": "stream",
     "text": [
      "L2 norm of the background error 0.7455228067830774\n",
      "L2 norm of the error in DA solution 1.004327338522139e-16\n",
      "[60487, 72494, 46020, 47616, 47734, 84981, 65859, 18565, 2291, 35206]\n"
     ]
    },
    {
     "name": "stderr",
     "output_type": "stream",
     "text": [
      "\n",
      " 65%|██████▍   | 649/1000 [05:21<03:02,  1.92it/s]\u001b[A"
     ]
    },
    {
     "name": "stdout",
     "output_type": "stream",
     "text": [
      "L2 norm of the background error 0.7964931868143168\n",
      "L2 norm of the error in DA solution 3.329932125274229e-17\n",
      "[56492, 8734, 40477, 47616, 52828, 2782, 60675, 55369, 29025, 52795]\n"
     ]
    },
    {
     "name": "stderr",
     "output_type": "stream",
     "text": [
      "\n",
      " 65%|██████▌   | 650/1000 [05:22<03:02,  1.92it/s]\u001b[A"
     ]
    },
    {
     "name": "stdout",
     "output_type": "stream",
     "text": [
      "L2 norm of the background error 1.0688304673768751\n",
      "L2 norm of the error in DA solution 1.3725906380043484e-16\n",
      "[21508, 12025, 30348, 44651, 17019, 43360, 42635, 76905, 36125, 14748]\n"
     ]
    },
    {
     "name": "stderr",
     "output_type": "stream",
     "text": [
      "\n",
      " 65%|██████▌   | 651/1000 [05:22<03:02,  1.91it/s]\u001b[A"
     ]
    },
    {
     "name": "stdout",
     "output_type": "stream",
     "text": [
      "L2 norm of the background error 0.2410305157763219\n",
      "L2 norm of the error in DA solution 2.5355193891955505e-17\n",
      "[21537, 3113, 47876, 44651, 20460, 65944, 90446, 13437, 18902, 48033]\n"
     ]
    },
    {
     "name": "stderr",
     "output_type": "stream",
     "text": [
      "\n",
      " 65%|██████▌   | 652/1000 [05:23<03:01,  1.91it/s]\u001b[A"
     ]
    },
    {
     "name": "stdout",
     "output_type": "stream",
     "text": [
      "L2 norm of the background error 0.5849328054935663\n",
      "L2 norm of the error in DA solution 5.459460549954052e-17\n",
      "[42811, 74296, 17731, 44651, 12495, 74264, 16869, 57571, 3361, 34638]\n"
     ]
    },
    {
     "name": "stderr",
     "output_type": "stream",
     "text": [
      "\n",
      " 65%|██████▌   | 653/1000 [05:23<03:02,  1.90it/s]\u001b[A"
     ]
    },
    {
     "name": "stdout",
     "output_type": "stream",
     "text": [
      "L2 norm of the background error 0.9887106441062092\n",
      "L2 norm of the error in DA solution 1.6394857685337882e-16\n",
      "[42544, 37148, 53213, 44651, 74590, 73775, 76515, 54040, 42088, 14748]\n"
     ]
    },
    {
     "name": "stderr",
     "output_type": "stream",
     "text": [
      "\n",
      " 65%|██████▌   | 654/1000 [05:24<03:02,  1.90it/s]\u001b[A"
     ]
    },
    {
     "name": "stdout",
     "output_type": "stream",
     "text": [
      "L2 norm of the background error 0.7326046609347544\n",
      "L2 norm of the error in DA solution 7.238347867662874e-17\n",
      "[77899, 51687, 18857, 44651, 45495, 35843, 58693, 19944, 32279, 6802]\n"
     ]
    },
    {
     "name": "stderr",
     "output_type": "stream",
     "text": [
      "\n",
      " 66%|██████▌   | 655/1000 [05:24<03:01,  1.91it/s]\u001b[A"
     ]
    },
    {
     "name": "stdout",
     "output_type": "stream",
     "text": [
      "L2 norm of the background error 0.9398975437147927\n",
      "L2 norm of the error in DA solution 5.675883126564068e-17\n",
      "[21538, 92778, 51580, 44651, 31198, 69570, 36061, 71246, 11381, 33690]\n"
     ]
    },
    {
     "name": "stderr",
     "output_type": "stream",
     "text": [
      "\n",
      " 66%|██████▌   | 656/1000 [05:25<03:00,  1.90it/s]\u001b[A"
     ]
    },
    {
     "name": "stdout",
     "output_type": "stream",
     "text": [
      "L2 norm of the background error 0.8455839261368044\n",
      "L2 norm of the error in DA solution 7.632370198256535e-17\n",
      "[21538, 7732, 63378, 44651, 52457, 26238, 49932, 52929, 8575, 10087]\n"
     ]
    },
    {
     "name": "stderr",
     "output_type": "stream",
     "text": [
      "\n",
      " 66%|██████▌   | 657/1000 [05:25<02:59,  1.91it/s]\u001b[A"
     ]
    },
    {
     "name": "stdout",
     "output_type": "stream",
     "text": [
      "L2 norm of the background error 0.6556446839312867\n",
      "L2 norm of the error in DA solution 6.990780010250682e-17\n",
      "[43744, 51433, 36320, 47616, 8951, 76608, 27703, 43264, 2240, 43049]\n"
     ]
    },
    {
     "name": "stderr",
     "output_type": "stream",
     "text": [
      "\n",
      " 66%|██████▌   | 658/1000 [05:26<02:58,  1.91it/s]\u001b[A"
     ]
    },
    {
     "name": "stdout",
     "output_type": "stream",
     "text": [
      "L2 norm of the background error 0.43157778012545406\n",
      "L2 norm of the error in DA solution 1.432322982373324e-16\n",
      "[21508, 9409, 43714, 47616, 16534, 39360, 9338, 22497, 21035, 4145]\n"
     ]
    },
    {
     "name": "stderr",
     "output_type": "stream",
     "text": [
      "\n",
      " 66%|██████▌   | 659/1000 [05:26<02:58,  1.91it/s]\u001b[A"
     ]
    },
    {
     "name": "stdout",
     "output_type": "stream",
     "text": [
      "L2 norm of the background error 0.8937690317899354\n",
      "L2 norm of the error in DA solution 6.681528172781352e-17\n",
      "[65631, 31466, 43252, 47616, 21885, 65944, 7148, 67692, 11706, 45580]\n"
     ]
    },
    {
     "name": "stderr",
     "output_type": "stream",
     "text": [
      "\n",
      " 66%|██████▌   | 660/1000 [05:27<02:57,  1.92it/s]\u001b[A"
     ]
    },
    {
     "name": "stdout",
     "output_type": "stream",
     "text": [
      "L2 norm of the background error 0.6509507672788407\n",
      "L2 norm of the error in DA solution 6.557121785326609e-17\n",
      "[61654, 44069, 55998, 47616, 55576, 17193, 43754, 11266, 19391, 14353]\n"
     ]
    },
    {
     "name": "stderr",
     "output_type": "stream",
     "text": [
      "\n",
      " 66%|██████▌   | 661/1000 [05:28<02:57,  1.91it/s]\u001b[A"
     ]
    },
    {
     "name": "stdout",
     "output_type": "stream",
     "text": [
      "L2 norm of the background error 0.6310171748373067\n",
      "L2 norm of the error in DA solution 6.244544827310892e-17\n",
      "[24771, 52761, 15383, 47616, 82371, 1495, 37650, 17278, 45437, 8473]\n"
     ]
    },
    {
     "name": "stderr",
     "output_type": "stream",
     "text": [
      "\n",
      " 66%|██████▌   | 662/1000 [05:28<02:56,  1.91it/s]\u001b[A"
     ]
    },
    {
     "name": "stdout",
     "output_type": "stream",
     "text": [
      "L2 norm of the background error 0.6840244116923114\n",
      "L2 norm of the error in DA solution 5.89347585579874e-17\n",
      "[49473, 66262, 57152, 47616, 75175, 54815, 74012, 44693, 10171, 60219]\n"
     ]
    },
    {
     "name": "stderr",
     "output_type": "stream",
     "text": [
      "\n",
      " 66%|██████▋   | 663/1000 [05:29<02:56,  1.91it/s]\u001b[A"
     ]
    },
    {
     "name": "stdout",
     "output_type": "stream",
     "text": [
      "L2 norm of the background error 0.4078560599515364\n",
      "L2 norm of the error in DA solution 7.908302720070864e-17\n",
      "[59379, 88203, 63378, 44651, 76464, 20336, 47075, 65683, 28245, 41858]\n"
     ]
    },
    {
     "name": "stderr",
     "output_type": "stream",
     "text": [
      "\n",
      " 66%|██████▋   | 664/1000 [05:29<02:55,  1.91it/s]\u001b[A"
     ]
    },
    {
     "name": "stdout",
     "output_type": "stream",
     "text": [
      "L2 norm of the background error 0.39727136681021474\n",
      "L2 norm of the error in DA solution 1.6592666152709075e-17\n",
      "[28764, 56833, 47977, 47616, 48009, 71616, 71952, 7796, 19370, 42839]\n"
     ]
    },
    {
     "name": "stderr",
     "output_type": "stream",
     "text": [
      "\n",
      " 66%|██████▋   | 665/1000 [05:30<02:55,  1.91it/s]\u001b[A"
     ]
    },
    {
     "name": "stdout",
     "output_type": "stream",
     "text": [
      "L2 norm of the background error 0.6268175501603088\n",
      "L2 norm of the error in DA solution 6.381388438703661e-17\n",
      "[14465, 22006, 45090, 44651, 18750, 26679, 31852, 57433, 2819, 52732]\n"
     ]
    },
    {
     "name": "stderr",
     "output_type": "stream",
     "text": [
      "\n",
      " 67%|██████▋   | 666/1000 [05:30<02:54,  1.91it/s]\u001b[A"
     ]
    },
    {
     "name": "stdout",
     "output_type": "stream",
     "text": [
      "L2 norm of the background error 0.7969513477377226\n",
      "L2 norm of the error in DA solution 4.971323968931892e-17\n",
      "[51509, 13422, 41380, 47616, 52457, 90376, 24347, 49759, 29316, 48156]\n"
     ]
    },
    {
     "name": "stderr",
     "output_type": "stream",
     "text": [
      "\n",
      " 67%|██████▋   | 667/1000 [05:31<02:53,  1.92it/s]\u001b[A"
     ]
    },
    {
     "name": "stdout",
     "output_type": "stream",
     "text": [
      "L2 norm of the background error 0.5569324828745943\n",
      "L2 norm of the error in DA solution 8.950150724963028e-17\n",
      "[97671, 38922, 66733, 44651, 47734, 22736, 46395, 59683, 11724, 58367]\n"
     ]
    },
    {
     "name": "stderr",
     "output_type": "stream",
     "text": [
      "\n",
      " 67%|██████▋   | 668/1000 [05:31<02:53,  1.92it/s]\u001b[A"
     ]
    },
    {
     "name": "stdout",
     "output_type": "stream",
     "text": [
      "L2 norm of the background error 0.7174460791129192\n",
      "L2 norm of the error in DA solution 6.274627745193557e-17\n",
      "[18816, 75087, 44711, 47616, 1466, 64440, 60065, 65682, 9533, 22076]\n"
     ]
    },
    {
     "name": "stderr",
     "output_type": "stream",
     "text": [
      "\n",
      " 67%|██████▋   | 669/1000 [05:32<02:52,  1.91it/s]\u001b[A"
     ]
    },
    {
     "name": "stdout",
     "output_type": "stream",
     "text": [
      "L2 norm of the background error 0.32967899053104843\n",
      "L2 norm of the error in DA solution 2.029746344833402e-17\n",
      "[9408, 14999, 43404, 44651, 6436, 90326, 81060, 45248, 3326, 4200]\n"
     ]
    },
    {
     "name": "stderr",
     "output_type": "stream",
     "text": [
      "\n",
      " 67%|██████▋   | 670/1000 [05:32<02:52,  1.91it/s]\u001b[A"
     ]
    },
    {
     "name": "stdout",
     "output_type": "stream",
     "text": [
      "L2 norm of the background error 0.5013670314043577\n",
      "L2 norm of the error in DA solution 6.101228499054296e-17\n",
      "[77899, 90628, 69773, 47616, 82371, 90338, 20926, 49759, 55134, 4266]\n"
     ]
    },
    {
     "name": "stderr",
     "output_type": "stream",
     "text": [
      "\n",
      " 67%|██████▋   | 671/1000 [05:33<02:52,  1.91it/s]\u001b[A"
     ]
    },
    {
     "name": "stdout",
     "output_type": "stream",
     "text": [
      "L2 norm of the background error 0.3159566280970927\n",
      "L2 norm of the error in DA solution 1.3152238825063342e-17\n",
      "[62841, 78032, 33388, 44651, 22974, 35539, 58474, 71941, 20752, 18918]\n"
     ]
    },
    {
     "name": "stderr",
     "output_type": "stream",
     "text": [
      "\n",
      " 67%|██████▋   | 672/1000 [05:33<02:52,  1.90it/s]\u001b[A"
     ]
    },
    {
     "name": "stdout",
     "output_type": "stream",
     "text": [
      "L2 norm of the background error 0.896649822353785\n",
      "L2 norm of the error in DA solution 1.3062591802766217e-16\n",
      "[72442, 75329, 78196, 47616, 8676, 59433, 31852, 14455, 15728, 663]\n"
     ]
    },
    {
     "name": "stderr",
     "output_type": "stream",
     "text": [
      "\n",
      " 67%|██████▋   | 673/1000 [05:34<02:51,  1.90it/s]\u001b[A"
     ]
    },
    {
     "name": "stdout",
     "output_type": "stream",
     "text": [
      "L2 norm of the background error 0.5765573279116462\n",
      "L2 norm of the error in DA solution 8.83234138817879e-17\n",
      "[32014, 74203, 49250, 47616, 6436, 70232, 3696, 46352, 7365, 37084]\n"
     ]
    },
    {
     "name": "stderr",
     "output_type": "stream",
     "text": [
      "\n",
      " 67%|██████▋   | 674/1000 [05:34<02:51,  1.90it/s]\u001b[A"
     ]
    },
    {
     "name": "stdout",
     "output_type": "stream",
     "text": [
      "L2 norm of the background error 0.7305800112319891\n",
      "L2 norm of the error in DA solution 3.8729763957143733e-17\n",
      "[33507, 8734, 23093, 44651, 20460, 41458, 79233, 53213, 5026, 4200]\n"
     ]
    },
    {
     "name": "stderr",
     "output_type": "stream",
     "text": [
      "\n",
      " 68%|██████▊   | 675/1000 [05:35<02:50,  1.91it/s]\u001b[A"
     ]
    },
    {
     "name": "stdout",
     "output_type": "stream",
     "text": [
      "L2 norm of the background error 0.5999196528313758\n",
      "L2 norm of the error in DA solution 1.407228790710233e-16\n",
      "[42571, 77712, 89422, 47616, 40998, 49120, 18370, 58187, 41026, 16985]\n"
     ]
    },
    {
     "name": "stderr",
     "output_type": "stream",
     "text": [
      "\n",
      " 68%|██████▊   | 676/1000 [05:35<02:46,  1.95it/s]\u001b[A"
     ]
    },
    {
     "name": "stdout",
     "output_type": "stream",
     "text": [
      "L2 norm of the background error 1.0313850059557914\n",
      "L2 norm of the error in DA solution 6.439166123195692e-17\n",
      "[91104, 8734, 90396, 47616, 8951, 77956, 48385, 56604, 14718, 36093]\n"
     ]
    },
    {
     "name": "stderr",
     "output_type": "stream",
     "text": [
      "\n",
      " 68%|██████▊   | 677/1000 [05:36<02:40,  2.01it/s]\u001b[A"
     ]
    },
    {
     "name": "stdout",
     "output_type": "stream",
     "text": [
      "L2 norm of the background error 0.36533618740439694\n",
      "L2 norm of the error in DA solution 2.5616159136527612e-17\n",
      "[90101, 22008, 20600, 47616, 47734, 85583, 1894, 45170, 31685, 29395]\n"
     ]
    },
    {
     "name": "stderr",
     "output_type": "stream",
     "text": [
      "\n",
      " 68%|██████▊   | 678/1000 [05:36<02:36,  2.06it/s]\u001b[A"
     ]
    },
    {
     "name": "stdout",
     "output_type": "stream",
     "text": [
      "L2 norm of the background error 0.5175173741853684\n",
      "L2 norm of the error in DA solution 1.1330369981560686e-17\n",
      "[39980, 35159, 23092, 44651, 52430, 54030, 14482, 42223, 16255, 52795]\n"
     ]
    },
    {
     "name": "stderr",
     "output_type": "stream",
     "text": [
      "\n",
      " 68%|██████▊   | 679/1000 [05:37<02:33,  2.09it/s]\u001b[A"
     ]
    },
    {
     "name": "stdout",
     "output_type": "stream",
     "text": [
      "L2 norm of the background error 0.5967329653117943\n",
      "L2 norm of the error in DA solution 1.08734265701374e-16\n",
      "[62677, 57843, 78149, 44651, 10389, 33390, 16414, 33488, 23499, 15146]\n"
     ]
    },
    {
     "name": "stderr",
     "output_type": "stream",
     "text": [
      "\n",
      " 68%|██████▊   | 680/1000 [05:37<02:31,  2.11it/s]\u001b[A"
     ]
    },
    {
     "name": "stdout",
     "output_type": "stream",
     "text": [
      "L2 norm of the background error 0.7405708314503419\n",
      "L2 norm of the error in DA solution 6.604213019022354e-17\n",
      "[61654, 29201, 23097, 47616, 48502, 9114, 47950, 13683, 19593, 6769]\n"
     ]
    },
    {
     "name": "stderr",
     "output_type": "stream",
     "text": [
      "\n",
      " 68%|██████▊   | 681/1000 [05:38<02:30,  2.12it/s]\u001b[A"
     ]
    },
    {
     "name": "stdout",
     "output_type": "stream",
     "text": [
      "L2 norm of the background error 0.45582256294034657\n",
      "L2 norm of the error in DA solution 4.4699994877046893e-17\n",
      "[42811, 67150, 68955, 47616, 10389, 53830, 53226, 41670, 20243, 2292]\n"
     ]
    },
    {
     "name": "stderr",
     "output_type": "stream",
     "text": [
      "\n",
      " 68%|██████▊   | 682/1000 [05:38<02:29,  2.13it/s]\u001b[A"
     ]
    },
    {
     "name": "stdout",
     "output_type": "stream",
     "text": [
      "L2 norm of the background error 0.982998411139575\n",
      "L2 norm of the error in DA solution 8.160960962764986e-17\n",
      "[43617, 9527, 15695, 44651, 74980, 66727, 68641, 26653, 19677, 850]\n"
     ]
    },
    {
     "name": "stderr",
     "output_type": "stream",
     "text": [
      "\n",
      " 68%|██████▊   | 683/1000 [05:39<02:27,  2.14it/s]\u001b[A"
     ]
    },
    {
     "name": "stdout",
     "output_type": "stream",
     "text": [
      "L2 norm of the background error 0.3846023894865317\n",
      "L2 norm of the error in DA solution 6.939790438624177e-17\n",
      "[56492, 19302, 36320, 44651, 75175, 49982, 18528, 14620, 29545, 20289]\n"
     ]
    },
    {
     "name": "stderr",
     "output_type": "stream",
     "text": [
      "\n",
      " 68%|██████▊   | 684/1000 [05:39<02:26,  2.16it/s]\u001b[A"
     ]
    },
    {
     "name": "stdout",
     "output_type": "stream",
     "text": [
      "L2 norm of the background error 0.5608152805655142\n",
      "L2 norm of the error in DA solution 1.247644567746932e-16\n",
      "[70493, 46420, 12220, 44651, 8951, 56796, 16414, 19571, 8783, 20286]\n"
     ]
    },
    {
     "name": "stderr",
     "output_type": "stream",
     "text": [
      "\n",
      " 68%|██████▊   | 685/1000 [05:40<02:31,  2.08it/s]\u001b[A"
     ]
    },
    {
     "name": "stdout",
     "output_type": "stream",
     "text": [
      "L2 norm of the background error 0.7638190151670652\n",
      "L2 norm of the error in DA solution 4.077914367318375e-17\n",
      "[33090, 77712, 50612, 44651, 6436, 50065, 43682, 58517, 41213, 39244]\n"
     ]
    },
    {
     "name": "stderr",
     "output_type": "stream",
     "text": [
      "\n",
      " 69%|██████▊   | 686/1000 [05:40<02:34,  2.04it/s]\u001b[A"
     ]
    },
    {
     "name": "stdout",
     "output_type": "stream",
     "text": [
      "L2 norm of the background error 0.7535912837118428\n",
      "L2 norm of the error in DA solution 4.3791109071320854e-17\n",
      "[39980, 62362, 58838, 47616, 10389, 44343, 32568, 49936, 11381, 12488]\n"
     ]
    },
    {
     "name": "stderr",
     "output_type": "stream",
     "text": [
      "\n",
      " 69%|██████▊   | 687/1000 [05:41<02:37,  1.99it/s]\u001b[A"
     ]
    },
    {
     "name": "stdout",
     "output_type": "stream",
     "text": [
      "L2 norm of the background error 0.47691842663729533\n",
      "L2 norm of the error in DA solution 7.270854435519968e-17\n",
      "[64664, 6780, 60540, 44651, 22974, 42412, 42225, 44896, 25448, 27035]\n"
     ]
    },
    {
     "name": "stderr",
     "output_type": "stream",
     "text": [
      "\n",
      " 69%|██████▉   | 688/1000 [05:41<02:38,  1.97it/s]\u001b[A"
     ]
    },
    {
     "name": "stdout",
     "output_type": "stream",
     "text": [
      "L2 norm of the background error 0.835510765753944\n",
      "L2 norm of the error in DA solution 6.649593475148495e-17\n",
      "[59379, 66063, 110, 47616, 82371, 71549, 46395, 11266, 40955, 29395]\n"
     ]
    },
    {
     "name": "stderr",
     "output_type": "stream",
     "text": [
      "\n",
      " 69%|██████▉   | 689/1000 [05:42<02:39,  1.96it/s]\u001b[A"
     ]
    },
    {
     "name": "stdout",
     "output_type": "stream",
     "text": [
      "L2 norm of the background error 0.5325127866196697\n",
      "L2 norm of the error in DA solution 6.71447547447277e-17\n",
      "[97074, 26971, 89547, 47616, 76464, 62197, 13260, 25757, 42057, 68594]\n"
     ]
    },
    {
     "name": "stderr",
     "output_type": "stream",
     "text": [
      "\n",
      " 69%|██████▉   | 690/1000 [05:42<02:39,  1.94it/s]\u001b[A"
     ]
    },
    {
     "name": "stdout",
     "output_type": "stream",
     "text": [
      "L2 norm of the background error 0.678631662075982\n",
      "L2 norm of the error in DA solution 1.1606211373380873e-17\n",
      "[54641, 53048, 71530, 44651, 52457, 31616, 41849, 412, 21036, 20289]\n"
     ]
    },
    {
     "name": "stderr",
     "output_type": "stream",
     "text": [
      "\n",
      " 69%|██████▉   | 691/1000 [05:43<02:39,  1.93it/s]\u001b[A"
     ]
    },
    {
     "name": "stdout",
     "output_type": "stream",
     "text": [
      "L2 norm of the background error 0.708786088669169\n",
      "L2 norm of the error in DA solution 1.7355047442339058e-17\n",
      "[26578, 59598, 28058, 47616, 45495, 15190, 93797, 49983, 45437, 1502]\n"
     ]
    },
    {
     "name": "stderr",
     "output_type": "stream",
     "text": [
      "\n",
      " 69%|██████▉   | 692/1000 [05:43<02:41,  1.91it/s]\u001b[A"
     ]
    },
    {
     "name": "stdout",
     "output_type": "stream",
     "text": [
      "L2 norm of the background error 0.7743342650778401\n",
      "L2 norm of the error in DA solution 1.6532598447588796e-16\n",
      "[44175, 59598, 71804, 44651, 74590, 21266, 21234, 38429, 8098, 60219]\n"
     ]
    },
    {
     "name": "stderr",
     "output_type": "stream",
     "text": [
      "\n",
      " 69%|██████▉   | 693/1000 [05:44<02:40,  1.92it/s]\u001b[A"
     ]
    },
    {
     "name": "stdout",
     "output_type": "stream",
     "text": [
      "L2 norm of the background error 0.5122993645265645\n",
      "L2 norm of the error in DA solution 5.889587627468041e-18\n",
      "[19771, 39186, 20602, 44651, 40998, 52126, 30104, 39486, 1499, 8412]\n"
     ]
    },
    {
     "name": "stderr",
     "output_type": "stream",
     "text": [
      "\n",
      " 69%|██████▉   | 694/1000 [05:44<02:40,  1.91it/s]\u001b[A"
     ]
    },
    {
     "name": "stdout",
     "output_type": "stream",
     "text": [
      "L2 norm of the background error 0.5857483424432989\n",
      "L2 norm of the error in DA solution 1.90359794447336e-17\n",
      "[19771, 46561, 89778, 47616, 11634, 1427, 7762, 8225, 21035, 41315]\n"
     ]
    },
    {
     "name": "stderr",
     "output_type": "stream",
     "text": [
      "\n",
      " 70%|██████▉   | 695/1000 [05:45<02:39,  1.91it/s]\u001b[A"
     ]
    },
    {
     "name": "stdout",
     "output_type": "stream",
     "text": [
      "L2 norm of the background error 1.1347042869386297\n",
      "L2 norm of the error in DA solution 1.2943055145443825e-16\n",
      "[52675, 40251, 7624, 47616, 8951, 48511, 89320, 58299, 21993, 19616]\n"
     ]
    },
    {
     "name": "stderr",
     "output_type": "stream",
     "text": [
      "\n",
      " 70%|██████▉   | 696/1000 [05:45<02:38,  1.92it/s]\u001b[A"
     ]
    },
    {
     "name": "stdout",
     "output_type": "stream",
     "text": [
      "L2 norm of the background error 0.5737745919433509\n",
      "L2 norm of the error in DA solution 5.81190552418411e-17\n",
      "[13185, 69618, 49367, 44651, 10048, 68289, 36320, 23209, 2819, 40281]\n"
     ]
    },
    {
     "name": "stderr",
     "output_type": "stream",
     "text": [
      "\n",
      " 70%|██████▉   | 697/1000 [05:46<02:37,  1.92it/s]\u001b[A"
     ]
    },
    {
     "name": "stdout",
     "output_type": "stream",
     "text": [
      "L2 norm of the background error 0.5513480130860354\n",
      "L2 norm of the error in DA solution 1.2575914110475614e-17\n",
      "[52675, 49342, 53247, 44651, 10048, 75049, 14482, 66289, 1306, 74128]\n"
     ]
    },
    {
     "name": "stderr",
     "output_type": "stream",
     "text": [
      "\n",
      " 70%|██████▉   | 698/1000 [05:46<02:38,  1.91it/s]\u001b[A"
     ]
    },
    {
     "name": "stdout",
     "output_type": "stream",
     "text": [
      "L2 norm of the background error 0.7797372557176905\n",
      "L2 norm of the error in DA solution 1.4261968695442512e-16\n",
      "[9810, 44773, 20649, 47616, 52828, 73957, 31208, 78552, 6245, 6861]\n"
     ]
    },
    {
     "name": "stderr",
     "output_type": "stream",
     "text": [
      "\n",
      " 70%|██████▉   | 699/1000 [05:47<02:38,  1.89it/s]\u001b[A"
     ]
    },
    {
     "name": "stdout",
     "output_type": "stream",
     "text": [
      "L2 norm of the background error 0.28966828424459845\n",
      "L2 norm of the error in DA solution 9.361298379035924e-17\n",
      "[85084, 31680, 13144, 47616, 10048, 68847, 4824, 70093, 2531, 24667]\n"
     ]
    },
    {
     "name": "stderr",
     "output_type": "stream",
     "text": [
      "\n",
      " 70%|███████   | 700/1000 [05:47<02:37,  1.90it/s]\u001b[A"
     ]
    },
    {
     "name": "stdout",
     "output_type": "stream",
     "text": [
      "L2 norm of the background error 0.41547353296499934\n",
      "L2 norm of the error in DA solution 3.3939424113965947e-17\n",
      "[49325, 49656, 48185, 44651, 31198, 17616, 71829, 68440, 25448, 19637]\n"
     ]
    },
    {
     "name": "stderr",
     "output_type": "stream",
     "text": [
      "\n",
      " 70%|███████   | 701/1000 [05:48<02:36,  1.91it/s]\u001b[A"
     ]
    },
    {
     "name": "stdout",
     "output_type": "stream",
     "text": [
      "L2 norm of the background error 0.5913816682318039\n",
      "L2 norm of the error in DA solution 4.1734690277402385e-17\n",
      "[42811, 44069, 23268, 44651, 52430, 45812, 26307, 43264, 28245, 11912]\n"
     ]
    },
    {
     "name": "stderr",
     "output_type": "stream",
     "text": [
      "\n",
      " 70%|███████   | 702/1000 [05:48<02:35,  1.92it/s]\u001b[A"
     ]
    },
    {
     "name": "stdout",
     "output_type": "stream",
     "text": [
      "L2 norm of the background error 0.6244859649927329\n",
      "L2 norm of the error in DA solution 1.8062037119964097e-17\n",
      "[71940, 42121, 78171, 47616, 31198, 48592, 70666, 53740, 11725, 60179]\n"
     ]
    },
    {
     "name": "stderr",
     "output_type": "stream",
     "text": [
      "\n",
      " 70%|███████   | 703/1000 [05:49<02:34,  1.92it/s]\u001b[A"
     ]
    },
    {
     "name": "stdout",
     "output_type": "stream",
     "text": [
      "L2 norm of the background error 0.5962056291002927\n",
      "L2 norm of the error in DA solution 2.9075574228584826e-17\n",
      "[57831, 80144, 827, 47616, 52828, 56859, 38062, 11200, 65500, 58288]\n"
     ]
    },
    {
     "name": "stderr",
     "output_type": "stream",
     "text": [
      "\n",
      " 70%|███████   | 704/1000 [05:49<02:33,  1.92it/s]\u001b[A"
     ]
    },
    {
     "name": "stdout",
     "output_type": "stream",
     "text": [
      "L2 norm of the background error 0.49573460662324575\n",
      "L2 norm of the error in DA solution 2.0700592857717085e-17\n",
      "[85375, 49461, 27326, 44651, 22974, 30912, 9186, 41204, 23499, 10195]\n"
     ]
    },
    {
     "name": "stderr",
     "output_type": "stream",
     "text": [
      "\n",
      " 70%|███████   | 705/1000 [05:50<02:33,  1.92it/s]\u001b[A"
     ]
    },
    {
     "name": "stdout",
     "output_type": "stream",
     "text": [
      "L2 norm of the background error 0.7600101930874898\n",
      "L2 norm of the error in DA solution 4.2700960278238873e-17\n",
      "[67389, 79391, 89547, 47616, 75175, 33834, 43251, 90478, 3545, 14225]\n"
     ]
    },
    {
     "name": "stderr",
     "output_type": "stream",
     "text": [
      "\n",
      " 71%|███████   | 706/1000 [05:50<02:29,  1.96it/s]\u001b[A"
     ]
    },
    {
     "name": "stdout",
     "output_type": "stream",
     "text": [
      "L2 norm of the background error 0.8944244241448681\n",
      "L2 norm of the error in DA solution 9.3087984701057e-17\n",
      "[56492, 77760, 34229, 44651, 40998, 80501, 71829, 28829, 19165, 3580]\n"
     ]
    },
    {
     "name": "stderr",
     "output_type": "stream",
     "text": [
      "\n",
      " 71%|███████   | 707/1000 [05:51<02:30,  1.94it/s]\u001b[A"
     ]
    },
    {
     "name": "stdout",
     "output_type": "stream",
     "text": [
      "L2 norm of the background error 1.2239318553419727\n",
      "L2 norm of the error in DA solution 1.8216601122548333e-16\n",
      "[56939, 74087, 48465, 44651, 74980, 83961, 37772, 24332, 5179, 24508]\n"
     ]
    },
    {
     "name": "stderr",
     "output_type": "stream",
     "text": [
      "\n",
      " 71%|███████   | 708/1000 [05:52<02:30,  1.94it/s]\u001b[A"
     ]
    },
    {
     "name": "stdout",
     "output_type": "stream",
     "text": [
      "L2 norm of the background error 0.6929376511658408\n",
      "L2 norm of the error in DA solution 3.319241343009791e-17\n",
      "[77899, 46696, 22439, 47616, 18750, 45759, 65962, 18914, 11722, 29544]\n"
     ]
    },
    {
     "name": "stderr",
     "output_type": "stream",
     "text": [
      "\n",
      " 71%|███████   | 709/1000 [05:52<02:30,  1.93it/s]\u001b[A"
     ]
    },
    {
     "name": "stdout",
     "output_type": "stream",
     "text": [
      "L2 norm of the background error 0.7573982197851361\n",
      "L2 norm of the error in DA solution 5.919626508485539e-17\n",
      "[34300, 61202, 66901, 47616, 8676, 48591, 66303, 85675, 19392, 47733]\n"
     ]
    },
    {
     "name": "stderr",
     "output_type": "stream",
     "text": [
      "\n",
      " 71%|███████   | 710/1000 [05:53<02:30,  1.93it/s]\u001b[A"
     ]
    },
    {
     "name": "stdout",
     "output_type": "stream",
     "text": [
      "L2 norm of the background error 0.5293392569627879\n",
      "L2 norm of the error in DA solution 1.9820846935945103e-17\n",
      "[35366, 39586, 60984, 47616, 16534, 48869, 46094, 75199, 29545, 24324]\n"
     ]
    },
    {
     "name": "stderr",
     "output_type": "stream",
     "text": [
      "\n",
      " 71%|███████   | 711/1000 [05:53<02:30,  1.92it/s]\u001b[A"
     ]
    },
    {
     "name": "stdout",
     "output_type": "stream",
     "text": [
      "L2 norm of the background error 0.6968144886487435\n",
      "L2 norm of the error in DA solution 5.881244399605612e-17\n",
      "[81265, 53263, 49955, 47616, 16534, 48869, 96820, 68856, 21036, 48370]\n"
     ]
    },
    {
     "name": "stderr",
     "output_type": "stream",
     "text": [
      "\n",
      " 71%|███████   | 712/1000 [05:54<02:30,  1.92it/s]\u001b[A"
     ]
    },
    {
     "name": "stdout",
     "output_type": "stream",
     "text": [
      "L2 norm of the background error 0.6131414020369778\n",
      "L2 norm of the error in DA solution 3.9449162889039163e-17\n",
      "[45012, 32636, 74012, 47616, 47734, 74665, 13259, 51419, 11302, 20020]\n"
     ]
    },
    {
     "name": "stderr",
     "output_type": "stream",
     "text": [
      "\n",
      " 71%|███████▏  | 713/1000 [05:54<02:29,  1.92it/s]\u001b[A"
     ]
    },
    {
     "name": "stdout",
     "output_type": "stream",
     "text": [
      "L2 norm of the background error 0.4603394963105918\n",
      "L2 norm of the error in DA solution 1.0878831425856435e-16\n",
      "[43617, 75486, 33388, 44651, 52457, 30817, 39298, 55018, 2238, 10356]\n"
     ]
    },
    {
     "name": "stderr",
     "output_type": "stream",
     "text": [
      "\n",
      " 71%|███████▏  | 714/1000 [05:55<02:29,  1.92it/s]\u001b[A"
     ]
    },
    {
     "name": "stdout",
     "output_type": "stream",
     "text": [
      "L2 norm of the background error 0.746105716262763\n",
      "L2 norm of the error in DA solution 6.038259314753658e-17\n",
      "[43145, 71212, 89684, 44651, 75175, 55135, 68704, 54884, 33371, 13773]\n"
     ]
    },
    {
     "name": "stderr",
     "output_type": "stream",
     "text": [
      "\n",
      " 72%|███████▏  | 715/1000 [05:55<02:28,  1.92it/s]\u001b[A"
     ]
    },
    {
     "name": "stdout",
     "output_type": "stream",
     "text": [
      "L2 norm of the background error 0.4608657015656986\n",
      "L2 norm of the error in DA solution 6.090059607977371e-17\n",
      "[23252, 78681, 90977, 47616, 6436, 51650, 2156, 22194, 48260, 47733]\n"
     ]
    },
    {
     "name": "stderr",
     "output_type": "stream",
     "text": [
      "\n",
      " 72%|███████▏  | 716/1000 [05:56<02:28,  1.92it/s]\u001b[A"
     ]
    },
    {
     "name": "stdout",
     "output_type": "stream",
     "text": [
      "L2 norm of the background error 0.6059648526417589\n",
      "L2 norm of the error in DA solution 1.1121058701131278e-16\n",
      "[43648, 85054, 17182, 47616, 8676, 78353, 70666, 70701, 29545, 29094]\n"
     ]
    },
    {
     "name": "stderr",
     "output_type": "stream",
     "text": [
      "\n",
      " 72%|███████▏  | 717/1000 [05:56<02:28,  1.91it/s]\u001b[A"
     ]
    },
    {
     "name": "stdout",
     "output_type": "stream",
     "text": [
      "L2 norm of the background error 0.8696336261486265\n",
      "L2 norm of the error in DA solution 1.0264546136585233e-16\n",
      "[77899, 78322, 13295, 47616, 31198, 90326, 16871, 21730, 7849, 58370]\n"
     ]
    },
    {
     "name": "stderr",
     "output_type": "stream",
     "text": [
      "\n",
      " 72%|███████▏  | 718/1000 [05:57<02:27,  1.91it/s]\u001b[A"
     ]
    },
    {
     "name": "stdout",
     "output_type": "stream",
     "text": [
      "L2 norm of the background error 0.6927768627902712\n",
      "L2 norm of the error in DA solution 1.652226858022468e-17\n",
      "[73231, 74085, 33023, 47616, 18750, 25867, 46057, 18916, 25461, 24765]\n"
     ]
    },
    {
     "name": "stderr",
     "output_type": "stream",
     "text": [
      "\n",
      " 72%|███████▏  | 719/1000 [05:57<02:27,  1.91it/s]\u001b[A"
     ]
    },
    {
     "name": "stdout",
     "output_type": "stream",
     "text": [
      "L2 norm of the background error 0.6401258646271852\n",
      "L2 norm of the error in DA solution 3.440369300529793e-17\n",
      "[56703, 37911, 74441, 44651, 11634, 8066, 65623, 74250, 10059, 6862]\n"
     ]
    },
    {
     "name": "stderr",
     "output_type": "stream",
     "text": [
      "\n",
      " 72%|███████▏  | 720/1000 [05:58<02:26,  1.91it/s]\u001b[A"
     ]
    },
    {
     "name": "stdout",
     "output_type": "stream",
     "text": [
      "L2 norm of the background error 0.8266846466919008\n",
      "L2 norm of the error in DA solution 1.5435397185116864e-17\n",
      "[56951, 78032, 30655, 44651, 58253, 30412, 35387, 68855, 57718, 663]\n"
     ]
    },
    {
     "name": "stderr",
     "output_type": "stream",
     "text": [
      "\n",
      " 72%|███████▏  | 721/1000 [05:58<02:26,  1.91it/s]\u001b[A"
     ]
    },
    {
     "name": "stdout",
     "output_type": "stream",
     "text": [
      "L2 norm of the background error 0.8016578680847847\n",
      "L2 norm of the error in DA solution 1.1196150537197173e-16\n",
      "[65560, 19340, 49103, 47616, 40998, 493, 47517, 38670, 10171, 62610]\n"
     ]
    },
    {
     "name": "stderr",
     "output_type": "stream",
     "text": [
      "\n",
      " 72%|███████▏  | 722/1000 [05:59<02:25,  1.91it/s]\u001b[A"
     ]
    },
    {
     "name": "stdout",
     "output_type": "stream",
     "text": [
      "L2 norm of the background error 0.41834574024577986\n",
      "L2 norm of the error in DA solution 8.475664951553386e-17\n",
      "[31046, 43182, 46804, 44651, 10048, 75807, 9338, 42771, 1307, 10199]\n"
     ]
    },
    {
     "name": "stderr",
     "output_type": "stream",
     "text": [
      "\n",
      " 72%|███████▏  | 723/1000 [05:59<02:20,  1.97it/s]\u001b[A"
     ]
    },
    {
     "name": "stdout",
     "output_type": "stream",
     "text": [
      "L2 norm of the background error 0.5920922221226049\n",
      "L2 norm of the error in DA solution 6.765029639973471e-17\n",
      "[47423, 55297, 59678, 44651, 31198, 60828, 71277, 55019, 11722, 39244]\n"
     ]
    },
    {
     "name": "stderr",
     "output_type": "stream",
     "text": [
      "\n",
      " 72%|███████▏  | 724/1000 [06:00<02:16,  2.03it/s]\u001b[A"
     ]
    },
    {
     "name": "stdout",
     "output_type": "stream",
     "text": [
      "L2 norm of the background error 0.5293877443569162\n",
      "L2 norm of the error in DA solution 3.878257867702636e-17\n",
      "[18816, 74563, 43471, 44651, 45495, 25017, 57711, 97114, 16255, 19255]\n"
     ]
    },
    {
     "name": "stderr",
     "output_type": "stream",
     "text": [
      "\n",
      " 72%|███████▎  | 725/1000 [06:00<02:14,  2.05it/s]\u001b[A"
     ]
    },
    {
     "name": "stdout",
     "output_type": "stream",
     "text": [
      "L2 norm of the background error 0.835292238430016\n",
      "L2 norm of the error in DA solution 2.1637982459865398e-16\n",
      "[23252, 8373, 28280, 47616, 45495, 30407, 51019, 68505, 4826, 28825]\n"
     ]
    },
    {
     "name": "stderr",
     "output_type": "stream",
     "text": [
      "\n",
      " 73%|███████▎  | 726/1000 [06:01<02:11,  2.08it/s]\u001b[A"
     ]
    },
    {
     "name": "stdout",
     "output_type": "stream",
     "text": [
      "L2 norm of the background error 0.8888790092255974\n",
      "L2 norm of the error in DA solution 4.563387595459803e-17\n",
      "[21537, 47299, 20601, 44651, 40998, 59433, 74798, 21613, 32279, 27285]\n"
     ]
    },
    {
     "name": "stderr",
     "output_type": "stream",
     "text": [
      "\n",
      " 73%|███████▎  | 727/1000 [06:01<02:10,  2.09it/s]\u001b[A"
     ]
    },
    {
     "name": "stdout",
     "output_type": "stream",
     "text": [
      "L2 norm of the background error 0.5745780444071877\n",
      "L2 norm of the error in DA solution 7.60461276022534e-17\n",
      "[77636, 14226, 14672, 44651, 52430, 15190, 22306, 42266, 1306, 41798]\n"
     ]
    },
    {
     "name": "stderr",
     "output_type": "stream",
     "text": [
      "\n",
      " 73%|███████▎  | 728/1000 [06:02<02:08,  2.11it/s]\u001b[A"
     ]
    },
    {
     "name": "stdout",
     "output_type": "stream",
     "text": [
      "L2 norm of the background error 0.5892813300841053\n",
      "L2 norm of the error in DA solution 9.249756353619511e-17\n",
      "[26578, 29133, 43404, 47616, 8676, 85597, 53059, 45018, 2572, 29094]\n"
     ]
    },
    {
     "name": "stderr",
     "output_type": "stream",
     "text": [
      "\n",
      " 73%|███████▎  | 729/1000 [06:02<02:07,  2.13it/s]\u001b[A"
     ]
    },
    {
     "name": "stdout",
     "output_type": "stream",
     "text": [
      "L2 norm of the background error 0.9769002878039572\n",
      "L2 norm of the error in DA solution 8.463675660908661e-17\n",
      "[15591, 49784, 13144, 44651, 11634, 44402, 89772, 68766, 40955, 58369]\n"
     ]
    },
    {
     "name": "stderr",
     "output_type": "stream",
     "text": [
      "\n",
      " 73%|███████▎  | 730/1000 [06:03<02:06,  2.14it/s]\u001b[A"
     ]
    },
    {
     "name": "stdout",
     "output_type": "stream",
     "text": [
      "L2 norm of the background error 0.6508725872513785\n",
      "L2 norm of the error in DA solution 8.120417056618717e-17\n",
      "[43153, 59811, 110, 47616, 58253, 1908, 22717, 19943, 6303, 10195]\n"
     ]
    },
    {
     "name": "stderr",
     "output_type": "stream",
     "text": [
      "\n",
      " 73%|███████▎  | 731/1000 [06:03<02:05,  2.15it/s]\u001b[A"
     ]
    },
    {
     "name": "stdout",
     "output_type": "stream",
     "text": [
      "L2 norm of the background error 0.5967333921368223\n",
      "L2 norm of the error in DA solution 8.841348086937457e-17\n",
      "[9406, 30266, 21539, 44651, 55576, 73937, 71409, 18528, 6452, 20749]\n"
     ]
    },
    {
     "name": "stderr",
     "output_type": "stream",
     "text": [
      "\n",
      " 73%|███████▎  | 732/1000 [06:03<02:04,  2.15it/s]\u001b[A"
     ]
    },
    {
     "name": "stdout",
     "output_type": "stream",
     "text": [
      "L2 norm of the background error 0.7401987042289049\n",
      "L2 norm of the error in DA solution 1.38698895705879e-16\n",
      "[90101, 72494, 43853, 44651, 76464, 33306, 49746, 50375, 14719, 10786]\n"
     ]
    },
    {
     "name": "stderr",
     "output_type": "stream",
     "text": [
      "\n",
      " 73%|███████▎  | 733/1000 [06:04<02:04,  2.15it/s]\u001b[A"
     ]
    },
    {
     "name": "stdout",
     "output_type": "stream",
     "text": [
      "L2 norm of the background error 1.0266340200599688\n",
      "L2 norm of the error in DA solution 3.3971341760433317e-17\n",
      "[65560, 62670, 55998, 44651, 8951, 25725, 36061, 9865, 9534, 22076]\n"
     ]
    },
    {
     "name": "stderr",
     "output_type": "stream",
     "text": [
      "\n",
      " 73%|███████▎  | 734/1000 [06:04<02:03,  2.15it/s]\u001b[A"
     ]
    },
    {
     "name": "stdout",
     "output_type": "stream",
     "text": [
      "L2 norm of the background error 0.4212016918156754\n",
      "L2 norm of the error in DA solution 2.7504828087013984e-17\n",
      "[13877, 19303, 65700, 44651, 8676, 41574, 89208, 53633, 19391, 6802]\n"
     ]
    },
    {
     "name": "stderr",
     "output_type": "stream",
     "text": [
      "\n",
      " 74%|███████▎  | 735/1000 [06:05<02:03,  2.15it/s]\u001b[A"
     ]
    },
    {
     "name": "stdout",
     "output_type": "stream",
     "text": [
      "L2 norm of the background error 0.38686256014615295\n",
      "L2 norm of the error in DA solution 2.2464661547044484e-17\n",
      "[79881, 22008, 23092, 47616, 17019, 26455, 69428, 50612, 12103, 37351]\n"
     ]
    },
    {
     "name": "stderr",
     "output_type": "stream",
     "text": [
      "\n",
      " 74%|███████▎  | 736/1000 [06:05<02:03,  2.15it/s]\u001b[A"
     ]
    },
    {
     "name": "stdout",
     "output_type": "stream",
     "text": [
      "L2 norm of the background error 0.9748358542231518\n",
      "L2 norm of the error in DA solution 8.688663682468551e-17\n",
      "[33090, 50912, 49561, 47616, 52430, 35770, 54317, 6289, 9668, 2292]\n"
     ]
    },
    {
     "name": "stderr",
     "output_type": "stream",
     "text": [
      "\n",
      " 74%|███████▎  | 737/1000 [06:06<02:04,  2.12it/s]\u001b[A"
     ]
    },
    {
     "name": "stdout",
     "output_type": "stream",
     "text": [
      "L2 norm of the background error 0.8058355834891588\n",
      "L2 norm of the error in DA solution 9.143730435090722e-17\n",
      "[70420, 76449, 54795, 44651, 52430, 89394, 45275, 68494, 32311, 6864]\n"
     ]
    },
    {
     "name": "stderr",
     "output_type": "stream",
     "text": [
      "\n",
      " 74%|███████▍  | 738/1000 [06:06<02:03,  2.12it/s]\u001b[A"
     ]
    },
    {
     "name": "stdout",
     "output_type": "stream",
     "text": [
      "L2 norm of the background error 0.9636393164620723\n",
      "L2 norm of the error in DA solution 2.1870777160902878e-16\n",
      "[24141, 75197, 22738, 44651, 47734, 28132, 45614, 56960, 25139, 6768]\n"
     ]
    },
    {
     "name": "stderr",
     "output_type": "stream",
     "text": [
      "\n",
      " 74%|███████▍  | 739/1000 [06:07<02:02,  2.14it/s]\u001b[A"
     ]
    },
    {
     "name": "stdout",
     "output_type": "stream",
     "text": [
      "L2 norm of the background error 0.5189626544994734\n",
      "L2 norm of the error in DA solution 2.9480699090776273e-17\n",
      "[44175, 90434, 4774, 47616, 6436, 89681, 27494, 25658, 1268, 52730]\n"
     ]
    },
    {
     "name": "stderr",
     "output_type": "stream",
     "text": [
      "\n",
      " 74%|███████▍  | 740/1000 [06:07<02:01,  2.14it/s]\u001b[A"
     ]
    },
    {
     "name": "stdout",
     "output_type": "stream",
     "text": [
      "L2 norm of the background error 0.8861975216091934\n",
      "L2 norm of the error in DA solution 8.76603728050911e-18\n",
      "[17882, 32635, 14482, 44651, 52457, 38494, 46057, 57941, 1685, 30431]\n"
     ]
    },
    {
     "name": "stderr",
     "output_type": "stream",
     "text": [
      "\n",
      " 74%|███████▍  | 741/1000 [06:08<02:01,  2.14it/s]\u001b[A"
     ]
    },
    {
     "name": "stdout",
     "output_type": "stream",
     "text": [
      "L2 norm of the background error 0.4039363693865762\n",
      "L2 norm of the error in DA solution 4.711035373538163e-17\n",
      "[28764, 77692, 38884, 44651, 75175, 78066, 58474, 17278, 10171, 12047]\n"
     ]
    },
    {
     "name": "stderr",
     "output_type": "stream",
     "text": [
      "\n",
      " 74%|███████▍  | 742/1000 [06:08<02:01,  2.12it/s]\u001b[A"
     ]
    },
    {
     "name": "stdout",
     "output_type": "stream",
     "text": [
      "L2 norm of the background error 0.6653971373812486\n",
      "L2 norm of the error in DA solution 5.623629591758871e-17\n",
      "[22440, 50605, 66211, 47616, 18750, 46494, 17364, 62649, 2569, 4200]\n"
     ]
    },
    {
     "name": "stderr",
     "output_type": "stream",
     "text": [
      "\n",
      " 74%|███████▍  | 743/1000 [06:09<02:00,  2.13it/s]\u001b[A"
     ]
    },
    {
     "name": "stdout",
     "output_type": "stream",
     "text": [
      "L2 norm of the background error 0.7122616703016876\n",
      "L2 norm of the error in DA solution 6.965461774454489e-17\n",
      "[49325, 85928, 25658, 47616, 17018, 38295, 25614, 66329, 17489, 58408]\n"
     ]
    },
    {
     "name": "stderr",
     "output_type": "stream",
     "text": [
      "\n",
      " 74%|███████▍  | 744/1000 [06:09<01:59,  2.14it/s]\u001b[A"
     ]
    },
    {
     "name": "stdout",
     "output_type": "stream",
     "text": [
      "L2 norm of the background error 0.8682362504728809\n",
      "L2 norm of the error in DA solution 4.412539343248679e-17\n",
      "[9810, 53263, 18840, 47616, 75175, 74996, 46702, 66291, 1729, 6861]\n"
     ]
    },
    {
     "name": "stderr",
     "output_type": "stream",
     "text": [
      "\n",
      " 74%|███████▍  | 745/1000 [06:10<01:58,  2.15it/s]\u001b[A"
     ]
    },
    {
     "name": "stdout",
     "output_type": "stream",
     "text": [
      "L2 norm of the background error 0.39905559801360424\n",
      "L2 norm of the error in DA solution 2.0918571450914073e-17\n",
      "[71401, 72345, 37953, 44651, 52457, 90326, 75222, 18528, 1095, 9689]\n"
     ]
    },
    {
     "name": "stderr",
     "output_type": "stream",
     "text": [
      "\n",
      " 75%|███████▍  | 746/1000 [06:10<02:00,  2.10it/s]\u001b[A"
     ]
    },
    {
     "name": "stdout",
     "output_type": "stream",
     "text": [
      "L2 norm of the background error 0.6759787471913918\n",
      "L2 norm of the error in DA solution 3.8095913731265455e-17\n",
      "[49473, 71212, 79076, 44651, 75175, 1908, 93797, 54795, 18289, 48033]\n"
     ]
    },
    {
     "name": "stderr",
     "output_type": "stream",
     "text": [
      "\n",
      " 75%|███████▍  | 747/1000 [06:11<01:59,  2.12it/s]\u001b[A"
     ]
    },
    {
     "name": "stdout",
     "output_type": "stream",
     "text": [
      "L2 norm of the background error 0.6704624104250243\n",
      "L2 norm of the error in DA solution 1.2979677796979876e-16\n",
      "[57771, 9527, 92838, 47616, 20460, 94413, 6932, 71227, 3359, 19391]\n"
     ]
    },
    {
     "name": "stderr",
     "output_type": "stream",
     "text": [
      "\n",
      " 75%|███████▍  | 748/1000 [06:11<01:57,  2.14it/s]\u001b[A"
     ]
    },
    {
     "name": "stdout",
     "output_type": "stream",
     "text": [
      "L2 norm of the background error 0.8696816844489843\n",
      "L2 norm of the error in DA solution 2.0932689447120143e-17\n",
      "[24169, 26855, 78169, 44651, 55576, 35770, 31916, 15470, 22354, 62706]\n"
     ]
    },
    {
     "name": "stderr",
     "output_type": "stream",
     "text": [
      "\n",
      " 75%|███████▍  | 749/1000 [06:11<01:57,  2.14it/s]\u001b[A"
     ]
    },
    {
     "name": "stdout",
     "output_type": "stream",
     "text": [
      "L2 norm of the background error 0.6828257335911458\n",
      "L2 norm of the error in DA solution 4.126206665487117e-17\n",
      "[43153, 93235, 67091, 47616, 22974, 22814, 26045, 37798, 16256, 23362]\n"
     ]
    },
    {
     "name": "stderr",
     "output_type": "stream",
     "text": [
      "\n",
      " 75%|███████▌  | 750/1000 [06:12<01:56,  2.15it/s]\u001b[A"
     ]
    },
    {
     "name": "stdout",
     "output_type": "stream",
     "text": [
      "L2 norm of the background error 0.4085124674467629\n",
      "L2 norm of the error in DA solution 4.606513171110826e-17\n",
      "[73474, 31625, 38062, 47616, 18750, 28032, 16253, 45929, 6451, 58367]\n"
     ]
    },
    {
     "name": "stderr",
     "output_type": "stream",
     "text": [
      "\n",
      " 75%|███████▌  | 751/1000 [06:12<01:55,  2.15it/s]\u001b[A"
     ]
    },
    {
     "name": "stdout",
     "output_type": "stream",
     "text": [
      "L2 norm of the background error 0.7959279975165244\n",
      "L2 norm of the error in DA solution 7.103965984325602e-17\n",
      "[36197, 21038, 87463, 47616, 16534, 90395, 15556, 34720, 3326, 3580]\n"
     ]
    },
    {
     "name": "stderr",
     "output_type": "stream",
     "text": [
      "\n",
      " 75%|███████▌  | 752/1000 [06:13<01:55,  2.15it/s]\u001b[A"
     ]
    },
    {
     "name": "stdout",
     "output_type": "stream",
     "text": [
      "L2 norm of the background error 0.9302866022619108\n",
      "L2 norm of the error in DA solution 1.2170072930626626e-16\n",
      "[27113, 7732, 69773, 47616, 1466, 33305, 22257, 56947, 1307, 4196]\n"
     ]
    },
    {
     "name": "stderr",
     "output_type": "stream",
     "text": [
      "\n",
      " 75%|███████▌  | 753/1000 [06:13<01:55,  2.15it/s]\u001b[A"
     ]
    },
    {
     "name": "stdout",
     "output_type": "stream",
     "text": [
      "L2 norm of the background error 0.918474242295495\n",
      "L2 norm of the error in DA solution 9.094998515248811e-17\n",
      "[77899, 7763, 57698, 44651, 10048, 29164, 30974, 49047, 4768, 13920]\n"
     ]
    },
    {
     "name": "stderr",
     "output_type": "stream",
     "text": [
      "\n",
      " 75%|███████▌  | 754/1000 [06:14<01:54,  2.14it/s]\u001b[A"
     ]
    },
    {
     "name": "stdout",
     "output_type": "stream",
     "text": [
      "L2 norm of the background error 0.8072713748368993\n",
      "L2 norm of the error in DA solution 1.6090411453597394e-17\n",
      "[24169, 43346, 21030, 47616, 1466, 17428, 28559, 28825, 3112, 3732]\n"
     ]
    },
    {
     "name": "stderr",
     "output_type": "stream",
     "text": [
      "\n",
      " 76%|███████▌  | 755/1000 [06:14<01:54,  2.14it/s]\u001b[A"
     ]
    },
    {
     "name": "stdout",
     "output_type": "stream",
     "text": [
      "L2 norm of the background error 0.7343252135360097\n",
      "L2 norm of the error in DA solution 7.643260155634927e-17\n",
      "[70874, 8373, 78089, 44651, 74590, 30626, 89353, 42592, 27771, 19392]\n"
     ]
    },
    {
     "name": "stderr",
     "output_type": "stream",
     "text": [
      "\n",
      " 76%|███████▌  | 756/1000 [06:15<01:54,  2.14it/s]\u001b[A"
     ]
    },
    {
     "name": "stdout",
     "output_type": "stream",
     "text": [
      "L2 norm of the background error 0.5466989500003858\n",
      "L2 norm of the error in DA solution 5.332626336501844e-17\n",
      "[96939, 49656, 89778, 44651, 6436, 40448, 77016, 32288, 3112, 13773]\n"
     ]
    },
    {
     "name": "stderr",
     "output_type": "stream",
     "text": [
      "\n",
      " 76%|███████▌  | 757/1000 [06:15<01:53,  2.13it/s]\u001b[A"
     ]
    },
    {
     "name": "stdout",
     "output_type": "stream",
     "text": [
      "L2 norm of the background error 0.4268969124347072\n",
      "L2 norm of the error in DA solution 2.85257479648665e-17\n",
      "[81265, 78681, 56322, 47616, 6436, 60482, 39315, 45805, 21035, 41957]\n"
     ]
    },
    {
     "name": "stderr",
     "output_type": "stream",
     "text": [
      "\n",
      " 76%|███████▌  | 758/1000 [06:16<01:55,  2.10it/s]\u001b[A"
     ]
    },
    {
     "name": "stdout",
     "output_type": "stream",
     "text": [
      "L2 norm of the background error 0.663119041763407\n",
      "L2 norm of the error in DA solution 3.720076626410531e-17\n",
      "[42544, 35912, 60538, 47616, 21885, 9114, 62866, 55964, 21993, 10199]\n"
     ]
    },
    {
     "name": "stderr",
     "output_type": "stream",
     "text": [
      "\n",
      " 76%|███████▌  | 759/1000 [06:16<01:54,  2.11it/s]\u001b[A"
     ]
    },
    {
     "name": "stdout",
     "output_type": "stream",
     "text": [
      "L2 norm of the background error 0.46145898752547415\n",
      "L2 norm of the error in DA solution 5.900293326454316e-17\n",
      "[72185, 847, 44272, 47616, 58253, 74311, 22515, 54884, 1951, 3308]\n"
     ]
    },
    {
     "name": "stderr",
     "output_type": "stream",
     "text": [
      "\n",
      " 76%|███████▌  | 760/1000 [06:17<01:52,  2.12it/s]\u001b[A"
     ]
    },
    {
     "name": "stdout",
     "output_type": "stream",
     "text": [
      "L2 norm of the background error 0.4408408768239145\n",
      "L2 norm of the error in DA solution 4.775252240977359e-17\n",
      "[64389, 19404, 41393, 44651, 31198, 68866, 74845, 87271, 11722, 11912]\n"
     ]
    },
    {
     "name": "stderr",
     "output_type": "stream",
     "text": [
      "\n",
      " 76%|███████▌  | 761/1000 [06:17<01:51,  2.14it/s]\u001b[A"
     ]
    },
    {
     "name": "stdout",
     "output_type": "stream",
     "text": [
      "L2 norm of the background error 1.143243323413238\n",
      "L2 norm of the error in DA solution 1.1649292257510753e-16\n",
      "[42571, 43346, 20521, 47616, 58253, 42413, 47900, 48409, 5068, 3577]\n"
     ]
    },
    {
     "name": "stderr",
     "output_type": "stream",
     "text": [
      "\n",
      " 76%|███████▌  | 762/1000 [06:18<01:50,  2.15it/s]\u001b[A"
     ]
    },
    {
     "name": "stdout",
     "output_type": "stream",
     "text": [
      "L2 norm of the background error 0.43460617057337153\n",
      "L2 norm of the error in DA solution 8.731346945791816e-17\n",
      "[60487, 38168, 49353, 47616, 52457, 37636, 7183, 53742, 1727, 4211]\n"
     ]
    },
    {
     "name": "stderr",
     "output_type": "stream",
     "text": [
      "\n",
      " 76%|███████▋  | 763/1000 [06:18<01:50,  2.14it/s]\u001b[A"
     ]
    },
    {
     "name": "stdout",
     "output_type": "stream",
     "text": [
      "L2 norm of the background error 0.8319811285723515\n",
      "L2 norm of the error in DA solution 1.1943838838817348e-16\n",
      "[62208, 49461, 45170, 44651, 52430, 48591, 49983, 55964, 16255, 57545]\n"
     ]
    },
    {
     "name": "stderr",
     "output_type": "stream",
     "text": [
      "\n",
      " 76%|███████▋  | 764/1000 [06:19<01:54,  2.07it/s]\u001b[A"
     ]
    },
    {
     "name": "stdout",
     "output_type": "stream",
     "text": [
      "L2 norm of the background error 0.6281404061195718\n",
      "L2 norm of the error in DA solution 9.661994383224508e-17\n",
      "[33507, 14999, 44721, 44651, 21885, 86779, 81060, 45113, 29026, 3577]\n"
     ]
    },
    {
     "name": "stderr",
     "output_type": "stream",
     "text": [
      "\n",
      " 76%|███████▋  | 765/1000 [06:19<01:56,  2.01it/s]\u001b[A"
     ]
    },
    {
     "name": "stdout",
     "output_type": "stream",
     "text": [
      "L2 norm of the background error 0.3402585455460265\n",
      "L2 norm of the error in DA solution 1.5734667657170092e-17\n",
      "[14868, 78261, 27619, 44651, 58253, 68872, 16869, 18568, 65391, 35206]\n"
     ]
    },
    {
     "name": "stderr",
     "output_type": "stream",
     "text": [
      "\n",
      " 77%|███████▋  | 766/1000 [06:20<01:57,  1.99it/s]\u001b[A"
     ]
    },
    {
     "name": "stdout",
     "output_type": "stream",
     "text": [
      "L2 norm of the background error 0.4230070070554656\n",
      "L2 norm of the error in DA solution 1.5864976280368906e-17\n",
      "[31459, 63236, 51739, 47616, 76464, 70833, 39298, 15556, 2243, 3993]\n"
     ]
    },
    {
     "name": "stderr",
     "output_type": "stream",
     "text": [
      "\n",
      " 77%|███████▋  | 767/1000 [06:20<01:58,  1.97it/s]\u001b[A"
     ]
    },
    {
     "name": "stdout",
     "output_type": "stream",
     "text": [
      "L2 norm of the background error 0.40820965485123917\n",
      "L2 norm of the error in DA solution 3.385808013813432e-17\n",
      "[83143, 55118, 37781, 44651, 18750, 42783, 51083, 74822, 1727, 1084]\n"
     ]
    },
    {
     "name": "stderr",
     "output_type": "stream",
     "text": [
      "\n",
      " 77%|███████▋  | 768/1000 [06:21<01:58,  1.95it/s]\u001b[A"
     ]
    },
    {
     "name": "stdout",
     "output_type": "stream",
     "text": [
      "L2 norm of the background error 0.3784298703086122\n",
      "L2 norm of the error in DA solution 2.7420413908357956e-17\n",
      "[42571, 8287, 48593, 44651, 8951, 52110, 58839, 56011, 65500, 4266]\n"
     ]
    },
    {
     "name": "stderr",
     "output_type": "stream",
     "text": [
      "\n",
      " 77%|███████▋  | 769/1000 [06:21<01:58,  1.94it/s]\u001b[A"
     ]
    },
    {
     "name": "stdout",
     "output_type": "stream",
     "text": [
      "L2 norm of the background error 0.30518385614581744\n",
      "L2 norm of the error in DA solution 2.907847829328823e-17\n",
      "[58963, 53932, 89139, 47616, 16534, 24738, 52985, 54884, 7418, 27398]\n"
     ]
    },
    {
     "name": "stderr",
     "output_type": "stream",
     "text": [
      "\n",
      " 77%|███████▋  | 770/1000 [06:22<01:59,  1.93it/s]\u001b[A"
     ]
    },
    {
     "name": "stdout",
     "output_type": "stream",
     "text": [
      "L2 norm of the background error 0.912916322915649\n",
      "L2 norm of the error in DA solution 1.0156146481642502e-16\n",
      "[9408, 12083, 22631, 47616, 47734, 22823, 57152, 15388, 5026, 26652]\n"
     ]
    },
    {
     "name": "stderr",
     "output_type": "stream",
     "text": [
      "\n",
      " 77%|███████▋  | 771/1000 [06:22<01:58,  1.93it/s]\u001b[A"
     ]
    },
    {
     "name": "stdout",
     "output_type": "stream",
     "text": [
      "L2 norm of the background error 0.7440686659632845\n",
      "L2 norm of the error in DA solution 1.6273228658901343e-16\n",
      "[21508, 24588, 56960, 47616, 12495, 24738, 52357, 53213, 47382, 39687]\n"
     ]
    },
    {
     "name": "stderr",
     "output_type": "stream",
     "text": [
      "\n",
      " 77%|███████▋  | 772/1000 [06:23<01:58,  1.92it/s]\u001b[A"
     ]
    },
    {
     "name": "stdout",
     "output_type": "stream",
     "text": [
      "L2 norm of the background error 0.7324400878533472\n",
      "L2 norm of the error in DA solution 2.504861899398741e-17\n",
      "[61892, 74203, 47876, 47616, 74980, 51584, 46444, 20690, 2531, 37351]\n"
     ]
    },
    {
     "name": "stderr",
     "output_type": "stream",
     "text": [
      "\n",
      " 77%|███████▋  | 773/1000 [06:23<01:58,  1.91it/s]\u001b[A"
     ]
    },
    {
     "name": "stdout",
     "output_type": "stream",
     "text": [
      "L2 norm of the background error 0.5325006359724208\n",
      "L2 norm of the error in DA solution 1.5683507915104673e-16\n",
      "[72476, 26658, 48163, 47616, 22974, 70467, 41326, 27948, 9842, 10195]\n"
     ]
    },
    {
     "name": "stderr",
     "output_type": "stream",
     "text": [
      "\n",
      " 77%|███████▋  | 774/1000 [06:24<01:58,  1.91it/s]\u001b[A"
     ]
    },
    {
     "name": "stdout",
     "output_type": "stream",
     "text": [
      "L2 norm of the background error 0.6671391291407683\n",
      "L2 norm of the error in DA solution 8.347545776365235e-17\n",
      "[90926, 40581, 55002, 47616, 58253, 66671, 84960, 42593, 4826, 14354]\n"
     ]
    },
    {
     "name": "stderr",
     "output_type": "stream",
     "text": [
      "\n",
      " 78%|███████▊  | 775/1000 [06:24<01:57,  1.91it/s]\u001b[A"
     ]
    },
    {
     "name": "stdout",
     "output_type": "stream",
     "text": [
      "L2 norm of the background error 0.73203472170776\n",
      "L2 norm of the error in DA solution 1.04865528319932e-16\n",
      "[31459, 44719, 15388, 44651, 52457, 68866, 36320, 43285, 20752, 60117]\n"
     ]
    },
    {
     "name": "stderr",
     "output_type": "stream",
     "text": [
      "\n",
      " 78%|███████▊  | 776/1000 [06:25<01:56,  1.91it/s]\u001b[A"
     ]
    },
    {
     "name": "stdout",
     "output_type": "stream",
     "text": [
      "L2 norm of the background error 0.6129314103087697\n",
      "L2 norm of the error in DA solution 5.610389480562341e-17\n",
      "[90155, 44347, 13320, 47616, 8676, 86151, 20813, 34720, 1729, 6578]\n"
     ]
    },
    {
     "name": "stderr",
     "output_type": "stream",
     "text": [
      "\n",
      " 78%|███████▊  | 777/1000 [06:25<01:57,  1.89it/s]\u001b[A"
     ]
    },
    {
     "name": "stdout",
     "output_type": "stream",
     "text": [
      "L2 norm of the background error 0.36355718012839494\n",
      "L2 norm of the error in DA solution 6.500511375945266e-17\n",
      "[90101, 51873, 55717, 47616, 10389, 39214, 4824, 13683, 8754, 89362]\n"
     ]
    },
    {
     "name": "stderr",
     "output_type": "stream",
     "text": [
      "\n",
      " 78%|███████▊  | 778/1000 [06:26<01:56,  1.90it/s]\u001b[A"
     ]
    },
    {
     "name": "stdout",
     "output_type": "stream",
     "text": [
      "L2 norm of the background error 0.6437289282819678\n",
      "L2 norm of the error in DA solution 4.324421316937846e-17\n",
      "[18824, 57746, 90545, 44651, 17019, 51872, 29459, 43747, 7418, 1498]\n"
     ]
    },
    {
     "name": "stderr",
     "output_type": "stream",
     "text": [
      "\n",
      " 78%|███████▊  | 779/1000 [06:26<01:55,  1.91it/s]\u001b[A"
     ]
    },
    {
     "name": "stdout",
     "output_type": "stream",
     "text": [
      "L2 norm of the background error 0.8871575128445978\n",
      "L2 norm of the error in DA solution 3.5182451700105416e-17\n",
      "[30059, 56741, 89652, 44651, 21885, 17270, 22258, 24331, 65391, 16187]\n"
     ]
    },
    {
     "name": "stderr",
     "output_type": "stream",
     "text": [
      "\n",
      " 78%|███████▊  | 780/1000 [06:27<01:55,  1.91it/s]\u001b[A"
     ]
    },
    {
     "name": "stdout",
     "output_type": "stream",
     "text": [
      "L2 norm of the background error 0.5493433883566659\n",
      "L2 norm of the error in DA solution 1.7465491992297242e-17\n",
      "[88110, 39186, 48465, 44651, 10048, 49568, 37064, 55986, 725, 74128]\n"
     ]
    },
    {
     "name": "stderr",
     "output_type": "stream",
     "text": [
      "\n",
      " 78%|███████▊  | 781/1000 [06:27<01:55,  1.90it/s]\u001b[A"
     ]
    },
    {
     "name": "stdout",
     "output_type": "stream",
     "text": [
      "L2 norm of the background error 0.8021252000028243\n",
      "L2 norm of the error in DA solution 1.613816610962504e-16\n",
      "[2499, 57669, 78149, 47616, 82371, 49354, 34436, 49318, 52622, 22293]\n"
     ]
    },
    {
     "name": "stderr",
     "output_type": "stream",
     "text": [
      "\n",
      " 78%|███████▊  | 782/1000 [06:28<01:54,  1.90it/s]\u001b[A"
     ]
    },
    {
     "name": "stdout",
     "output_type": "stream",
     "text": [
      "L2 norm of the background error 0.8270079985690533\n",
      "L2 norm of the error in DA solution 8.242335225782213e-17\n",
      "[60669, 93235, 89547, 44651, 58253, 75134, 52000, 38429, 9533, 58633]\n"
     ]
    },
    {
     "name": "stderr",
     "output_type": "stream",
     "text": [
      "\n",
      " 78%|███████▊  | 783/1000 [06:29<01:53,  1.91it/s]\u001b[A"
     ]
    },
    {
     "name": "stdout",
     "output_type": "stream",
     "text": [
      "L2 norm of the background error 0.7040212787419774\n",
      "L2 norm of the error in DA solution 9.394681416549214e-18\n",
      "[81265, 20750, 22439, 47616, 18750, 48592, 70871, 59447, 604, 2856]\n"
     ]
    },
    {
     "name": "stderr",
     "output_type": "stream",
     "text": [
      "\n",
      " 78%|███████▊  | 784/1000 [06:29<01:50,  1.96it/s]\u001b[A"
     ]
    },
    {
     "name": "stdout",
     "output_type": "stream",
     "text": [
      "L2 norm of the background error 0.8421000672486494\n",
      "L2 norm of the error in DA solution 1.8316117599223163e-17\n",
      "[56951, 89743, 57352, 44651, 48502, 92866, 53298, 37879, 21037, 25871]\n"
     ]
    },
    {
     "name": "stderr",
     "output_type": "stream",
     "text": [
      "\n",
      " 78%|███████▊  | 785/1000 [06:29<01:47,  2.01it/s]\u001b[A"
     ]
    },
    {
     "name": "stdout",
     "output_type": "stream",
     "text": [
      "L2 norm of the background error 0.759455192929961\n",
      "L2 norm of the error in DA solution 1.0268233579606151e-16\n",
      "[81265, 23365, 53175, 47616, 20460, 11667, 84949, 15924, 8098, 24324]\n"
     ]
    },
    {
     "name": "stderr",
     "output_type": "stream",
     "text": [
      "\n",
      " 79%|███████▊  | 786/1000 [06:30<01:45,  2.03it/s]\u001b[A"
     ]
    },
    {
     "name": "stdout",
     "output_type": "stream",
     "text": [
      "L2 norm of the background error 0.8581010018146777\n",
      "L2 norm of the error in DA solution 1.3640536197630478e-16\n",
      "[57831, 8701, 79077, 47616, 18750, 78106, 68418, 9865, 11725, 51261]\n"
     ]
    },
    {
     "name": "stderr",
     "output_type": "stream",
     "text": [
      "\n",
      " 79%|███████▊  | 787/1000 [06:30<01:46,  1.99it/s]\u001b[A"
     ]
    },
    {
     "name": "stdout",
     "output_type": "stream",
     "text": [
      "L2 norm of the background error 0.7231152817510894\n",
      "L2 norm of the error in DA solution 1.1298524161444867e-16\n",
      "[69140, 42259, 50434, 44651, 6436, 3449, 79545, 28190, 3361, 63499]\n"
     ]
    },
    {
     "name": "stderr",
     "output_type": "stream",
     "text": [
      "\n",
      " 79%|███████▉  | 788/1000 [06:31<01:48,  1.95it/s]\u001b[A"
     ]
    },
    {
     "name": "stdout",
     "output_type": "stream",
     "text": [
      "L2 norm of the background error 0.9864642112066002\n",
      "L2 norm of the error in DA solution 5.781225937168535e-17\n",
      "[56703, 16666, 45616, 44651, 8951, 41341, 52986, 70702, 3071, 2858]\n"
     ]
    },
    {
     "name": "stderr",
     "output_type": "stream",
     "text": [
      "\n",
      " 79%|███████▉  | 789/1000 [06:32<01:48,  1.94it/s]\u001b[A"
     ]
    },
    {
     "name": "stdout",
     "output_type": "stream",
     "text": [
      "L2 norm of the background error 0.8939553648376805\n",
      "L2 norm of the error in DA solution 9.076765964938762e-17\n",
      "[18816, 57746, 54634, 44651, 48009, 30913, 21751, 57721, 25448, 42839]\n"
     ]
    },
    {
     "name": "stderr",
     "output_type": "stream",
     "text": [
      "\n",
      " 79%|███████▉  | 790/1000 [06:32<01:48,  1.94it/s]\u001b[A"
     ]
    },
    {
     "name": "stdout",
     "output_type": "stream",
     "text": [
      "L2 norm of the background error 0.6837960825860115\n",
      "L2 norm of the error in DA solution 3.04021637253074e-17\n",
      "[28446, 19724, 147, 44651, 52828, 47152, 50845, 49318, 604, 25871]\n"
     ]
    },
    {
     "name": "stderr",
     "output_type": "stream",
     "text": [
      "\n",
      " 79%|███████▉  | 791/1000 [06:33<01:48,  1.93it/s]\u001b[A"
     ]
    },
    {
     "name": "stdout",
     "output_type": "stream",
     "text": [
      "L2 norm of the background error 0.4796719321112762\n",
      "L2 norm of the error in DA solution 2.729616588140701e-17\n",
      "[64389, 32617, 34835, 44651, 18750, 39892, 53722, 59034, 8575, 14353]\n"
     ]
    },
    {
     "name": "stderr",
     "output_type": "stream",
     "text": [
      "\n",
      " 79%|███████▉  | 792/1000 [06:33<01:48,  1.92it/s]\u001b[A"
     ]
    },
    {
     "name": "stdout",
     "output_type": "stream",
     "text": [
      "L2 norm of the background error 0.5619989475287593\n",
      "L2 norm of the error in DA solution 3.1866285544802666e-17\n",
      "[85813, 35159, 80180, 44651, 17019, 83968, 40077, 78492, 6303, 29545]\n"
     ]
    },
    {
     "name": "stderr",
     "output_type": "stream",
     "text": [
      "\n",
      " 79%|███████▉  | 793/1000 [06:34<01:48,  1.91it/s]\u001b[A"
     ]
    },
    {
     "name": "stdout",
     "output_type": "stream",
     "text": [
      "L2 norm of the background error 0.7351645691880835\n",
      "L2 norm of the error in DA solution 3.0578799224405014e-17\n",
      "[77492, 65911, 46609, 44651, 17018, 27951, 30321, 31883, 19391, 58677]\n"
     ]
    },
    {
     "name": "stderr",
     "output_type": "stream",
     "text": [
      "\n",
      " 79%|███████▉  | 794/1000 [06:34<01:47,  1.91it/s]\u001b[A"
     ]
    },
    {
     "name": "stdout",
     "output_type": "stream",
     "text": [
      "L2 norm of the background error 0.4913780004908164\n",
      "L2 norm of the error in DA solution 3.0787085282604666e-17\n",
      "[64389, 71966, 7638, 47616, 74590, 58716, 43358, 69182, 25980, 55952]\n"
     ]
    },
    {
     "name": "stderr",
     "output_type": "stream",
     "text": [
      "\n",
      " 80%|███████▉  | 795/1000 [06:35<01:46,  1.92it/s]\u001b[A"
     ]
    },
    {
     "name": "stdout",
     "output_type": "stream",
     "text": [
      "L2 norm of the background error 0.9467811264048218\n",
      "L2 norm of the error in DA solution 2.864040175211622e-17\n",
      "[36197, 13422, 33380, 47616, 52430, 53970, 50069, 65848, 35095, 19391]\n"
     ]
    },
    {
     "name": "stderr",
     "output_type": "stream",
     "text": [
      "\n",
      " 80%|███████▉  | 796/1000 [06:35<01:46,  1.92it/s]\u001b[A"
     ]
    },
    {
     "name": "stdout",
     "output_type": "stream",
     "text": [
      "L2 norm of the background error 0.8203119646756415\n",
      "L2 norm of the error in DA solution 7.792498945077357e-17\n",
      "[63961, 57745, 43616, 44651, 75175, 50076, 53479, 36108, 14326, 52352]\n"
     ]
    },
    {
     "name": "stderr",
     "output_type": "stream",
     "text": [
      "\n",
      " 80%|███████▉  | 797/1000 [06:36<01:45,  1.92it/s]\u001b[A"
     ]
    },
    {
     "name": "stdout",
     "output_type": "stream",
     "text": [
      "L2 norm of the background error 1.0093653827627678\n",
      "L2 norm of the error in DA solution 6.780039570136318e-17\n",
      "[24290, 46675, 51467, 47616, 6436, 83549, 43756, 89778, 8015, 22293]\n"
     ]
    },
    {
     "name": "stderr",
     "output_type": "stream",
     "text": [
      "\n",
      " 80%|███████▉  | 798/1000 [06:36<01:45,  1.91it/s]\u001b[A"
     ]
    },
    {
     "name": "stdout",
     "output_type": "stream",
     "text": [
      "L2 norm of the background error 0.7685499271686187\n",
      "L2 norm of the error in DA solution 8.81213357164774e-17\n",
      "[72305, 47048, 27915, 47616, 8951, 17270, 30389, 28403, 35020, 24949]\n"
     ]
    },
    {
     "name": "stderr",
     "output_type": "stream",
     "text": [
      "\n",
      " 80%|███████▉  | 799/1000 [06:37<01:44,  1.92it/s]\u001b[A"
     ]
    },
    {
     "name": "stdout",
     "output_type": "stream",
     "text": [
      "L2 norm of the background error 0.7958842188471739\n",
      "L2 norm of the error in DA solution 1.552748512027503e-17\n",
      "[45048, 12138, 81357, 47616, 1466, 86151, 79403, 77888, 1268, 31520]\n"
     ]
    },
    {
     "name": "stderr",
     "output_type": "stream",
     "text": [
      "\n",
      " 80%|████████  | 800/1000 [06:37<01:44,  1.91it/s]\u001b[A"
     ]
    },
    {
     "name": "stdout",
     "output_type": "stream",
     "text": [
      "L2 norm of the background error 0.5338300697862101\n",
      "L2 norm of the error in DA solution 4.8611086338542714e-17\n",
      "[56939, 47299, 67135, 47616, 10048, 32474, 22258, 14455, 42057, 16985]\n"
     ]
    },
    {
     "name": "stderr",
     "output_type": "stream",
     "text": [
      "\n",
      " 80%|████████  | 801/1000 [06:38<01:43,  1.92it/s]\u001b[A"
     ]
    },
    {
     "name": "stdout",
     "output_type": "stream",
     "text": [
      "L2 norm of the background error 0.7927606006672385\n",
      "L2 norm of the error in DA solution 2.833941559803011e-17\n",
      "[9408, 2296, 89139, 47616, 52457, 55532, 21750, 54697, 15621, 6802]\n"
     ]
    },
    {
     "name": "stderr",
     "output_type": "stream",
     "text": [
      "\n",
      " 80%|████████  | 802/1000 [06:38<01:43,  1.91it/s]\u001b[A"
     ]
    },
    {
     "name": "stdout",
     "output_type": "stream",
     "text": [
      "L2 norm of the background error 0.8045001019844109\n",
      "L2 norm of the error in DA solution 1.632793223814009e-16\n",
      "[14465, 28134, 33818, 47616, 52828, 78353, 98634, 78552, 36609, 10060]\n"
     ]
    },
    {
     "name": "stderr",
     "output_type": "stream",
     "text": [
      "\n",
      " 80%|████████  | 803/1000 [06:39<01:43,  1.90it/s]\u001b[A"
     ]
    },
    {
     "name": "stdout",
     "output_type": "stream",
     "text": [
      "L2 norm of the background error 0.6100258408122271\n",
      "L2 norm of the error in DA solution 8.57008738062497e-17\n",
      "[53996, 17858, 18089, 44651, 17019, 45759, 76924, 74654, 29026, 37293]\n"
     ]
    },
    {
     "name": "stderr",
     "output_type": "stream",
     "text": [
      "\n",
      " 80%|████████  | 804/1000 [06:39<01:42,  1.91it/s]\u001b[A"
     ]
    },
    {
     "name": "stdout",
     "output_type": "stream",
     "text": [
      "L2 norm of the background error 0.5452256654884162\n",
      "L2 norm of the error in DA solution 2.806121699743241e-18\n",
      "[27277, 57680, 412, 44651, 31198, 36021, 25823, 52784, 19283, 19615]\n"
     ]
    },
    {
     "name": "stderr",
     "output_type": "stream",
     "text": [
      "\n",
      " 80%|████████  | 805/1000 [06:40<01:41,  1.91it/s]\u001b[A"
     ]
    },
    {
     "name": "stdout",
     "output_type": "stream",
     "text": [
      "L2 norm of the background error 0.7668676784759368\n",
      "L2 norm of the error in DA solution 5.904685358756165e-17\n",
      "[14929, 31625, 36726, 47616, 58253, 68872, 31207, 34230, 36609, 60497]\n"
     ]
    },
    {
     "name": "stderr",
     "output_type": "stream",
     "text": [
      "\n",
      " 81%|████████  | 806/1000 [06:40<01:41,  1.91it/s]\u001b[A"
     ]
    },
    {
     "name": "stdout",
     "output_type": "stream",
     "text": [
      "L2 norm of the background error 0.4053261800007408\n",
      "L2 norm of the error in DA solution 3.248504878104046e-17\n",
      "[21537, 51450, 26579, 47616, 55576, 32155, 7762, 49565, 42057, 22371]\n"
     ]
    },
    {
     "name": "stderr",
     "output_type": "stream",
     "text": [
      "\n",
      " 81%|████████  | 807/1000 [06:41<01:40,  1.91it/s]\u001b[A"
     ]
    },
    {
     "name": "stdout",
     "output_type": "stream",
     "text": [
      "L2 norm of the background error 0.8959012693081355\n",
      "L2 norm of the error in DA solution 5.0616321127133047e-17\n",
      "[9810, 49342, 50434, 47616, 10389, 33212, 32152, 86679, 3361, 55954]\n"
     ]
    },
    {
     "name": "stderr",
     "output_type": "stream",
     "text": [
      "\n",
      " 81%|████████  | 808/1000 [06:41<01:40,  1.92it/s]\u001b[A"
     ]
    },
    {
     "name": "stdout",
     "output_type": "stream",
     "text": [
      "L2 norm of the background error 0.7333805956816194\n",
      "L2 norm of the error in DA solution 5.991734305188827e-17\n",
      "[85375, 62670, 68907, 44651, 74980, 40426, 80442, 58299, 604, 3753]\n"
     ]
    },
    {
     "name": "stderr",
     "output_type": "stream",
     "text": [
      "\n",
      " 81%|████████  | 809/1000 [06:42<01:37,  1.95it/s]\u001b[A"
     ]
    },
    {
     "name": "stdout",
     "output_type": "stream",
     "text": [
      "L2 norm of the background error 0.3592182207162381\n",
      "L2 norm of the error in DA solution 4.0072933700039065e-17\n",
      "[20016, 16768, 33389, 47616, 6436, 37636, 69428, 66725, 28245, 10060]\n"
     ]
    },
    {
     "name": "stderr",
     "output_type": "stream",
     "text": [
      "\n",
      " 81%|████████  | 810/1000 [06:42<01:38,  1.93it/s]\u001b[A"
     ]
    },
    {
     "name": "stdout",
     "output_type": "stream",
     "text": [
      "L2 norm of the background error 0.36573653156714275\n",
      "L2 norm of the error in DA solution 3.941137569126817e-17\n",
      "[26583, 28501, 56073, 44651, 52828, 29984, 11537, 48742, 15728, 55952]\n"
     ]
    },
    {
     "name": "stderr",
     "output_type": "stream",
     "text": [
      "\n",
      " 81%|████████  | 811/1000 [06:43<01:38,  1.92it/s]\u001b[A"
     ]
    },
    {
     "name": "stdout",
     "output_type": "stream",
     "text": [
      "L2 norm of the background error 0.9689850028603753\n",
      "L2 norm of the error in DA solution 1.2809691584007564e-16\n",
      "[70492, 67260, 54212, 44651, 74980, 33834, 50841, 16016, 6435, 58408]\n"
     ]
    },
    {
     "name": "stderr",
     "output_type": "stream",
     "text": [
      "\n",
      " 81%|████████  | 812/1000 [06:44<01:38,  1.92it/s]\u001b[A"
     ]
    },
    {
     "name": "stdout",
     "output_type": "stream",
     "text": [
      "L2 norm of the background error 0.6975805108634792\n",
      "L2 norm of the error in DA solution 4.994232739283656e-17\n",
      "[72404, 39186, 16253, 47616, 8951, 1908, 69636, 57433, 25018, 59583]\n"
     ]
    },
    {
     "name": "stderr",
     "output_type": "stream",
     "text": [
      "\n",
      " 81%|████████▏ | 813/1000 [06:44<01:37,  1.91it/s]\u001b[A"
     ]
    },
    {
     "name": "stdout",
     "output_type": "stream",
     "text": [
      "L2 norm of the background error 0.46680145871158907\n",
      "L2 norm of the error in DA solution 6.564971184595147e-17\n",
      "[17348, 59741, 37212, 47616, 10048, 36237, 4824, 52929, 55134, 55811]\n"
     ]
    },
    {
     "name": "stderr",
     "output_type": "stream",
     "text": [
      "\n",
      " 81%|████████▏ | 814/1000 [06:45<01:37,  1.91it/s]\u001b[A"
     ]
    },
    {
     "name": "stdout",
     "output_type": "stream",
     "text": [
      "L2 norm of the background error 0.4050232324756384\n",
      "L2 norm of the error in DA solution 3.528263681635178e-17\n",
      "[49473, 75486, 46754, 47616, 20460, 30407, 8764, 46566, 33371, 78154]\n"
     ]
    },
    {
     "name": "stderr",
     "output_type": "stream",
     "text": [
      "\n",
      " 82%|████████▏ | 815/1000 [06:45<01:36,  1.92it/s]\u001b[A"
     ]
    },
    {
     "name": "stdout",
     "output_type": "stream",
     "text": [
      "L2 norm of the background error 0.5874550476503599\n",
      "L2 norm of the error in DA solution 1.0175843869381182e-16\n",
      "[27113, 53933, 52903, 47616, 75175, 6166, 40523, 75199, 6245, 52731]\n"
     ]
    },
    {
     "name": "stderr",
     "output_type": "stream",
     "text": [
      "\n",
      " 82%|████████▏ | 816/1000 [06:46<01:36,  1.91it/s]\u001b[A"
     ]
    },
    {
     "name": "stdout",
     "output_type": "stream",
     "text": [
      "L2 norm of the background error 0.7506088131166488\n",
      "L2 norm of the error in DA solution 7.218321381947569e-17\n",
      "[77579, 16667, 59683, 47616, 52457, 21266, 85569, 71105, 10496, 19637]\n"
     ]
    },
    {
     "name": "stderr",
     "output_type": "stream",
     "text": [
      "\n",
      " 82%|████████▏ | 817/1000 [06:46<01:35,  1.91it/s]\u001b[A"
     ]
    },
    {
     "name": "stdout",
     "output_type": "stream",
     "text": [
      "L2 norm of the background error 0.8892693010162518\n",
      "L2 norm of the error in DA solution 4.1560973009114325e-17\n",
      "[19771, 6421, 89652, 47616, 52828, 25867, 66427, 40071, 40170, 24949]\n"
     ]
    },
    {
     "name": "stderr",
     "output_type": "stream",
     "text": [
      "\n",
      " 82%|████████▏ | 818/1000 [06:47<01:31,  1.98it/s]\u001b[A"
     ]
    },
    {
     "name": "stdout",
     "output_type": "stream",
     "text": [
      "L2 norm of the background error 0.5358338367722479\n",
      "L2 norm of the error in DA solution 1.528296487480103e-17\n",
      "[56951, 46217, 16253, 44651, 6436, 80145, 21168, 46352, 4768, 20020]\n"
     ]
    },
    {
     "name": "stderr",
     "output_type": "stream",
     "text": [
      "\n",
      " 82%|████████▏ | 819/1000 [06:47<01:29,  2.03it/s]\u001b[A"
     ]
    },
    {
     "name": "stdout",
     "output_type": "stream",
     "text": [
      "L2 norm of the background error 0.4178719426510659\n",
      "L2 norm of the error in DA solution 6.107905128939007e-17\n",
      "[13358, 55258, 74487, 47616, 8676, 33390, 74201, 17278, 604, 52795]\n"
     ]
    },
    {
     "name": "stderr",
     "output_type": "stream",
     "text": [
      "\n",
      " 82%|████████▏ | 820/1000 [06:48<01:27,  2.06it/s]\u001b[A"
     ]
    },
    {
     "name": "stdout",
     "output_type": "stream",
     "text": [
      "L2 norm of the background error 0.9046999077263838\n",
      "L2 norm of the error in DA solution 1.5015088937577414e-16\n",
      "[70874, 41268, 49250, 44651, 12495, 6166, 51500, 77888, 22903, 37084]\n"
     ]
    },
    {
     "name": "stderr",
     "output_type": "stream",
     "text": [
      "\n",
      " 82%|████████▏ | 821/1000 [06:48<01:25,  2.08it/s]\u001b[A"
     ]
    },
    {
     "name": "stdout",
     "output_type": "stream",
     "text": [
      "L2 norm of the background error 0.9397467679691233\n",
      "L2 norm of the error in DA solution 6.217574840431209e-17\n",
      "[42978, 9409, 22631, 47616, 20460, 83057, 44026, 18597, 25461, 74129]\n"
     ]
    },
    {
     "name": "stderr",
     "output_type": "stream",
     "text": [
      "\n",
      " 82%|████████▏ | 822/1000 [06:48<01:24,  2.10it/s]\u001b[A"
     ]
    },
    {
     "name": "stdout",
     "output_type": "stream",
     "text": [
      "L2 norm of the background error 0.8409090241453251\n",
      "L2 norm of the error in DA solution 8.290911759092116e-17\n",
      "[72185, 57745, 67279, 47616, 10048, 49982, 15556, 44211, 8098, 60497]\n"
     ]
    },
    {
     "name": "stderr",
     "output_type": "stream",
     "text": [
      "\n",
      " 82%|████████▏ | 823/1000 [06:49<01:24,  2.10it/s]\u001b[A"
     ]
    },
    {
     "name": "stdout",
     "output_type": "stream",
     "text": [
      "L2 norm of the background error 0.5826808112505736\n",
      "L2 norm of the error in DA solution 4.348348524975739e-17\n",
      "[90926, 90628, 23457, 44651, 55576, 80516, 37130, 7639, 1992, 10504]\n"
     ]
    },
    {
     "name": "stderr",
     "output_type": "stream",
     "text": [
      "\n",
      " 82%|████████▏ | 824/1000 [06:49<01:23,  2.11it/s]\u001b[A"
     ]
    },
    {
     "name": "stdout",
     "output_type": "stream",
     "text": [
      "L2 norm of the background error 0.738766462802205\n",
      "L2 norm of the error in DA solution 3.303871605265961e-17\n",
      "[42978, 6421, 81357, 47616, 52457, 9740, 66303, 46026, 604, 3076]\n"
     ]
    },
    {
     "name": "stderr",
     "output_type": "stream",
     "text": [
      "\n",
      " 82%|████████▎ | 825/1000 [06:50<01:22,  2.11it/s]\u001b[A"
     ]
    },
    {
     "name": "stdout",
     "output_type": "stream",
     "text": [
      "L2 norm of the background error 1.044815137848069\n",
      "L2 norm of the error in DA solution 7.90369652459987e-17\n",
      "[32595, 21028, 65339, 44651, 52457, 57825, 33455, 13806, 32311, 62610]\n"
     ]
    },
    {
     "name": "stderr",
     "output_type": "stream",
     "text": [
      "\n",
      " 83%|████████▎ | 826/1000 [06:50<01:22,  2.11it/s]\u001b[A"
     ]
    },
    {
     "name": "stdout",
     "output_type": "stream",
     "text": [
      "L2 norm of the background error 1.266204261068745\n",
      "L2 norm of the error in DA solution 2.477178482935888e-16\n",
      "[47423, 74563, 38794, 44651, 12495, 25556, 6346, 42680, 2821, 21938]\n"
     ]
    },
    {
     "name": "stderr",
     "output_type": "stream",
     "text": [
      "\n",
      " 83%|████████▎ | 827/1000 [06:51<01:21,  2.12it/s]\u001b[A"
     ]
    },
    {
     "name": "stdout",
     "output_type": "stream",
     "text": [
      "L2 norm of the background error 0.49606536570114274\n",
      "L2 norm of the error in DA solution 2.1905411001284768e-17\n",
      "[33090, 15547, 26579, 47616, 31198, 34380, 66566, 42465, 9842, 12048]\n"
     ]
    },
    {
     "name": "stderr",
     "output_type": "stream",
     "text": [
      "\n",
      " 83%|████████▎ | 828/1000 [06:51<01:20,  2.12it/s]\u001b[A"
     ]
    },
    {
     "name": "stdout",
     "output_type": "stream",
     "text": [
      "L2 norm of the background error 0.989594308144864\n",
      "L2 norm of the error in DA solution 7.59623123054602e-17\n",
      "[71342, 63236, 15276, 44651, 74980, 22021, 36061, 52785, 34934, 60117]\n"
     ]
    },
    {
     "name": "stderr",
     "output_type": "stream",
     "text": [
      "\n",
      " 83%|████████▎ | 829/1000 [06:52<01:20,  2.12it/s]\u001b[A"
     ]
    },
    {
     "name": "stdout",
     "output_type": "stream",
     "text": [
      "L2 norm of the background error 0.636598419504895\n",
      "L2 norm of the error in DA solution 3.0260514476108244e-17\n",
      "[71791, 84963, 32514, 44651, 40998, 52040, 20926, 57733, 21037, 62610]\n"
     ]
    },
    {
     "name": "stderr",
     "output_type": "stream",
     "text": [
      "\n",
      " 83%|████████▎ | 830/1000 [06:52<01:19,  2.13it/s]\u001b[A"
     ]
    },
    {
     "name": "stdout",
     "output_type": "stream",
     "text": [
      "L2 norm of the background error 0.7112672922689811\n",
      "L2 norm of the error in DA solution 7.851932714627268e-17\n",
      "[9408, 46675, 29987, 44651, 76464, 29164, 13475, 30655, 40955, 21604]\n"
     ]
    },
    {
     "name": "stderr",
     "output_type": "stream",
     "text": [
      "\n",
      " 83%|████████▎ | 831/1000 [06:53<01:20,  2.10it/s]\u001b[A"
     ]
    },
    {
     "name": "stdout",
     "output_type": "stream",
     "text": [
      "L2 norm of the background error 0.5441016024044251\n",
      "L2 norm of the error in DA solution 7.943424700758096e-18\n",
      "[15710, 46407, 19476, 47616, 74980, 51228, 60397, 44442, 4768, 52731]\n"
     ]
    },
    {
     "name": "stderr",
     "output_type": "stream",
     "text": [
      "\n",
      " 83%|████████▎ | 832/1000 [06:53<01:19,  2.11it/s]\u001b[A"
     ]
    },
    {
     "name": "stdout",
     "output_type": "stream",
     "text": [
      "L2 norm of the background error 0.8448280713643468\n",
      "L2 norm of the error in DA solution 4.843460408935176e-17\n",
      "[93429, 26971, 69036, 47616, 82371, 58716, 51470, 45113, 852, 35206]\n"
     ]
    },
    {
     "name": "stderr",
     "output_type": "stream",
     "text": [
      "\n",
      " 83%|████████▎ | 833/1000 [06:54<01:18,  2.13it/s]\u001b[A"
     ]
    },
    {
     "name": "stdout",
     "output_type": "stream",
     "text": [
      "L2 norm of the background error 0.3889370127379255\n",
      "L2 norm of the error in DA solution 2.3396822064245067e-17\n",
      "[70420, 8413, 55997, 44651, 22974, 22738, 60926, 67038, 21993, 21604]\n"
     ]
    },
    {
     "name": "stderr",
     "output_type": "stream",
     "text": [
      "\n",
      " 83%|████████▎ | 834/1000 [06:54<01:17,  2.13it/s]\u001b[A"
     ]
    },
    {
     "name": "stdout",
     "output_type": "stream",
     "text": [
      "L2 norm of the background error 0.880614264814572\n",
      "L2 norm of the error in DA solution 3.30279971856637e-17\n",
      "[22202, 19304, 41380, 44651, 18750, 93386, 43754, 57721, 65391, 17017]\n"
     ]
    },
    {
     "name": "stderr",
     "output_type": "stream",
     "text": [
      "\n",
      " 84%|████████▎ | 835/1000 [06:55<01:17,  2.12it/s]\u001b[A"
     ]
    },
    {
     "name": "stdout",
     "output_type": "stream",
     "text": [
      "L2 norm of the background error 0.7708868886479516\n",
      "L2 norm of the error in DA solution 3.722627587998806e-17\n",
      "[33090, 77712, 19756, 44651, 47734, 78038, 20936, 38841, 3879, 6861]\n"
     ]
    },
    {
     "name": "stderr",
     "output_type": "stream",
     "text": [
      "\n",
      " 84%|████████▎ | 836/1000 [06:55<01:17,  2.12it/s]\u001b[A"
     ]
    },
    {
     "name": "stdout",
     "output_type": "stream",
     "text": [
      "L2 norm of the background error 0.6895388325825642\n",
      "L2 norm of the error in DA solution 7.791714433798116e-17\n",
      "[43617, 7763, 49005, 44651, 48009, 43278, 22288, 26653, 12103, 8787]\n"
     ]
    },
    {
     "name": "stderr",
     "output_type": "stream",
     "text": [
      "\n",
      " 84%|████████▎ | 837/1000 [06:56<01:18,  2.09it/s]\u001b[A"
     ]
    },
    {
     "name": "stdout",
     "output_type": "stream",
     "text": [
      "L2 norm of the background error 0.6811910571992656\n",
      "L2 norm of the error in DA solution 1.389516441539667e-16\n",
      "[32164, 85928, 2513, 44651, 74590, 19979, 74798, 66603, 9534, 13210]\n"
     ]
    },
    {
     "name": "stderr",
     "output_type": "stream",
     "text": [
      "\n",
      " 84%|████████▍ | 838/1000 [06:56<01:18,  2.07it/s]\u001b[A"
     ]
    },
    {
     "name": "stdout",
     "output_type": "stream",
     "text": [
      "L2 norm of the background error 0.597938073278811\n",
      "L2 norm of the error in DA solution 4.7421672808684135e-17\n",
      "[49473, 26658, 68648, 47616, 82371, 22814, 709, 91242, 2531, 25871]\n"
     ]
    },
    {
     "name": "stderr",
     "output_type": "stream",
     "text": [
      "\n",
      " 84%|████████▍ | 839/1000 [06:57<01:18,  2.06it/s]\u001b[A"
     ]
    },
    {
     "name": "stdout",
     "output_type": "stream",
     "text": [
      "L2 norm of the background error 0.43414605600236733\n",
      "L2 norm of the error in DA solution 7.135026430005912e-17\n",
      "[85375, 847, 50434, 44651, 12495, 27813, 28559, 36108, 14353, 22293]\n"
     ]
    },
    {
     "name": "stderr",
     "output_type": "stream",
     "text": [
      "\n",
      " 84%|████████▍ | 840/1000 [06:57<01:16,  2.09it/s]\u001b[A"
     ]
    },
    {
     "name": "stdout",
     "output_type": "stream",
     "text": [
      "L2 norm of the background error 0.5969181205715113\n",
      "L2 norm of the error in DA solution 8.670603808145398e-17\n",
      "[36197, 55638, 56491, 47616, 17019, 43775, 49037, 77868, 1685, 57545]\n"
     ]
    },
    {
     "name": "stderr",
     "output_type": "stream",
     "text": [
      "\n",
      " 84%|████████▍ | 841/1000 [06:57<01:15,  2.11it/s]\u001b[A"
     ]
    },
    {
     "name": "stdout",
     "output_type": "stream",
     "text": [
      "L2 norm of the background error 1.174724865494567\n",
      "L2 norm of the error in DA solution 1.8475610347183407e-16\n",
      "[72185, 23678, 56588, 47616, 10048, 29645, 36992, 77910, 16255, 58677]\n"
     ]
    },
    {
     "name": "stderr",
     "output_type": "stream",
     "text": [
      "\n",
      " 84%|████████▍ | 842/1000 [06:58<01:14,  2.12it/s]\u001b[A"
     ]
    },
    {
     "name": "stdout",
     "output_type": "stream",
     "text": [
      "L2 norm of the background error 0.4423732326553585\n",
      "L2 norm of the error in DA solution 2.897475787515087e-17\n",
      "[24904, 12019, 71347, 44651, 22974, 44402, 45174, 45815, 1676, 52795]\n"
     ]
    },
    {
     "name": "stderr",
     "output_type": "stream",
     "text": [
      "\n",
      " 84%|████████▍ | 843/1000 [06:58<01:13,  2.14it/s]\u001b[A"
     ]
    },
    {
     "name": "stdout",
     "output_type": "stream",
     "text": [
      "L2 norm of the background error 0.6700561235611913\n",
      "L2 norm of the error in DA solution 1.0974680512362691e-16\n",
      "[85084, 39586, 33382, 44651, 48009, 32156, 39298, 91125, 32487, 43049]\n"
     ]
    },
    {
     "name": "stderr",
     "output_type": "stream",
     "text": [
      "\n",
      " 84%|████████▍ | 844/1000 [06:59<01:12,  2.15it/s]\u001b[A"
     ]
    },
    {
     "name": "stdout",
     "output_type": "stream",
     "text": [
      "L2 norm of the background error 0.3323973030955472\n",
      "L2 norm of the error in DA solution 2.1169009918297587e-17\n",
      "[63961, 18040, 34250, 47616, 74590, 22021, 43747, 84281, 10772, 20289]\n"
     ]
    },
    {
     "name": "stderr",
     "output_type": "stream",
     "text": [
      "\n",
      " 84%|████████▍ | 845/1000 [06:59<01:11,  2.16it/s]\u001b[A"
     ]
    },
    {
     "name": "stdout",
     "output_type": "stream",
     "text": [
      "L2 norm of the background error 0.6231192634694278\n",
      "L2 norm of the error in DA solution 6.869569939849313e-17\n",
      "[63961, 9535, 75480, 44651, 40998, 24016, 2984, 54223, 19370, 14354]\n"
     ]
    },
    {
     "name": "stderr",
     "output_type": "stream",
     "text": [
      "\n",
      " 85%|████████▍ | 846/1000 [07:00<01:11,  2.16it/s]\u001b[A"
     ]
    },
    {
     "name": "stdout",
     "output_type": "stream",
     "text": [
      "L2 norm of the background error 0.7594622231798\n",
      "L2 norm of the error in DA solution 4.5903457658834854e-17\n",
      "[78732, 30809, 74655, 44651, 12495, 26238, 35387, 65682, 7418, 39245]\n"
     ]
    },
    {
     "name": "stderr",
     "output_type": "stream",
     "text": [
      "\n",
      " 85%|████████▍ | 847/1000 [07:00<01:10,  2.16it/s]\u001b[A"
     ]
    },
    {
     "name": "stdout",
     "output_type": "stream",
     "text": [
      "L2 norm of the background error 0.5752724637464594\n",
      "L2 norm of the error in DA solution 1.2108873813980461e-17\n",
      "[64388, 59598, 16253, 47616, 74590, 67424, 31911, 18914, 41026, 4145]\n"
     ]
    },
    {
     "name": "stderr",
     "output_type": "stream",
     "text": [
      "\n",
      " 85%|████████▍ | 848/1000 [07:01<01:10,  2.16it/s]\u001b[A"
     ]
    },
    {
     "name": "stdout",
     "output_type": "stream",
     "text": [
      "L2 norm of the background error 0.7699515007302928\n",
      "L2 norm of the error in DA solution 9.27273394899506e-17\n",
      "[85084, 43346, 80161, 44651, 52828, 34572, 13473, 51921, 11744, 37293]\n"
     ]
    },
    {
     "name": "stderr",
     "output_type": "stream",
     "text": [
      "\n",
      " 85%|████████▍ | 849/1000 [07:01<01:09,  2.16it/s]\u001b[A"
     ]
    },
    {
     "name": "stdout",
     "output_type": "stream",
     "text": [
      "L2 norm of the background error 0.5954000379927753\n",
      "L2 norm of the error in DA solution 4.601592888178088e-18\n",
      "[70128, 74926, 16871, 44651, 55576, 6231, 47075, 57721, 41213, 30431]\n"
     ]
    },
    {
     "name": "stderr",
     "output_type": "stream",
     "text": [
      "\n",
      " 85%|████████▌ | 850/1000 [07:02<01:09,  2.16it/s]\u001b[A"
     ]
    },
    {
     "name": "stdout",
     "output_type": "stream",
     "text": [
      "L2 norm of the background error 0.49343131762028847\n",
      "L2 norm of the error in DA solution 3.238862450195802e-17\n",
      "[20016, 32617, 56960, 44651, 10048, 71616, 58838, 28596, 7122, 40282]\n"
     ]
    },
    {
     "name": "stderr",
     "output_type": "stream",
     "text": [
      "\n",
      " 85%|████████▌ | 851/1000 [07:02<01:09,  2.16it/s]\u001b[A"
     ]
    },
    {
     "name": "stdout",
     "output_type": "stream",
     "text": [
      "L2 norm of the background error 0.7220481269576271\n",
      "L2 norm of the error in DA solution 1.7750435390414313e-16\n",
      "[77899, 57745, 7668, 44651, 52457, 24016, 60776, 51272, 15728, 10439]\n"
     ]
    },
    {
     "name": "stderr",
     "output_type": "stream",
     "text": [
      "\n",
      " 85%|████████▌ | 852/1000 [07:03<01:08,  2.16it/s]\u001b[A"
     ]
    },
    {
     "name": "stdout",
     "output_type": "stream",
     "text": [
      "L2 norm of the background error 1.3365757148455268\n",
      "L2 norm of the error in DA solution 1.490445123030175e-16\n",
      "[72442, 40193, 58652, 44651, 11634, 7300, 24178, 42223, 27838, 30431]\n"
     ]
    },
    {
     "name": "stderr",
     "output_type": "stream",
     "text": [
      "\n",
      " 85%|████████▌ | 853/1000 [07:03<01:07,  2.16it/s]\u001b[A"
     ]
    },
    {
     "name": "stdout",
     "output_type": "stream",
     "text": [
      "L2 norm of the background error 0.286657814609246\n",
      "L2 norm of the error in DA solution 1.350458156611118e-17\n",
      "[42978, 33912, 54795, 47616, 10048, 95273, 30511, 47436, 22004, 35307]\n"
     ]
    },
    {
     "name": "stderr",
     "output_type": "stream",
     "text": [
      "\n",
      " 85%|████████▌ | 854/1000 [07:03<01:07,  2.17it/s]\u001b[A"
     ]
    },
    {
     "name": "stdout",
     "output_type": "stream",
     "text": [
      "L2 norm of the background error 0.5717172700385208\n",
      "L2 norm of the error in DA solution 4.6524158254883605e-17\n",
      "[85813, 75486, 19749, 47616, 48009, 78150, 51578, 37722, 7418, 23364]\n"
     ]
    },
    {
     "name": "stderr",
     "output_type": "stream",
     "text": [
      "\n",
      " 86%|████████▌ | 855/1000 [07:04<01:06,  2.17it/s]\u001b[A"
     ]
    },
    {
     "name": "stdout",
     "output_type": "stream",
     "text": [
      "L2 norm of the background error 0.5200032369322599\n",
      "L2 norm of the error in DA solution 3.645430329674304e-17\n",
      "[56313, 8701, 43546, 44651, 17019, 37014, 77910, 42771, 16019, 28825]\n"
     ]
    },
    {
     "name": "stderr",
     "output_type": "stream",
     "text": [
      "\n",
      " 86%|████████▌ | 856/1000 [07:04<01:06,  2.16it/s]\u001b[A"
     ]
    },
    {
     "name": "stdout",
     "output_type": "stream",
     "text": [
      "L2 norm of the background error 1.175465917927715\n",
      "L2 norm of the error in DA solution 1.3383071455671045e-16\n",
      "[63544, 73941, 13295, 47616, 12495, 48510, 90446, 66859, 10059, 20748]\n"
     ]
    },
    {
     "name": "stderr",
     "output_type": "stream",
     "text": [
      "\n",
      " 86%|████████▌ | 857/1000 [07:05<01:06,  2.16it/s]\u001b[A"
     ]
    },
    {
     "name": "stdout",
     "output_type": "stream",
     "text": [
      "L2 norm of the background error 0.9460458966794193\n",
      "L2 norm of the error in DA solution 1.0384646811154891e-16\n",
      "[65560, 19340, 36726, 44651, 55576, 77971, 78559, 48797, 6245, 8473]\n"
     ]
    },
    {
     "name": "stderr",
     "output_type": "stream",
     "text": [
      "\n",
      " 86%|████████▌ | 858/1000 [07:05<01:05,  2.16it/s]\u001b[A"
     ]
    },
    {
     "name": "stdout",
     "output_type": "stream",
     "text": [
      "L2 norm of the background error 0.6095440008770876\n",
      "L2 norm of the error in DA solution 2.3798648290419488e-17\n",
      "[66290, 49656, 20521, 44651, 10389, 54030, 50494, 55369, 7418, 4196]\n"
     ]
    },
    {
     "name": "stderr",
     "output_type": "stream",
     "text": [
      "\n",
      " 86%|████████▌ | 859/1000 [07:06<01:05,  2.16it/s]\u001b[A"
     ]
    },
    {
     "name": "stdout",
     "output_type": "stream",
     "text": [
      "L2 norm of the background error 0.5106905255811689\n",
      "L2 norm of the error in DA solution 9.618581796560894e-18\n",
      "[69140, 16667, 42549, 44651, 75175, 81402, 48742, 59020, 852, 16985]\n"
     ]
    },
    {
     "name": "stderr",
     "output_type": "stream",
     "text": [
      "\n",
      " 86%|████████▌ | 860/1000 [07:06<01:04,  2.16it/s]\u001b[A"
     ]
    },
    {
     "name": "stdout",
     "output_type": "stream",
     "text": [
      "L2 norm of the background error 0.8827715788571248\n",
      "L2 norm of the error in DA solution 8.718611889655374e-17\n",
      "[96939, 38623, 60984, 47616, 8951, 12532, 68368, 71941, 8575, 19654]\n"
     ]
    },
    {
     "name": "stderr",
     "output_type": "stream",
     "text": [
      "\n",
      " 86%|████████▌ | 861/1000 [07:07<01:04,  2.16it/s]\u001b[A"
     ]
    },
    {
     "name": "stdout",
     "output_type": "stream",
     "text": [
      "L2 norm of the background error 0.8278622354987528\n",
      "L2 norm of the error in DA solution 9.262224070796177e-17\n",
      "[21536, 57745, 92269, 47616, 18750, 46360, 15684, 24332, 19391, 1728]\n"
     ]
    },
    {
     "name": "stderr",
     "output_type": "stream",
     "text": [
      "\n",
      " 86%|████████▌ | 862/1000 [07:07<01:03,  2.16it/s]\u001b[A"
     ]
    },
    {
     "name": "stdout",
     "output_type": "stream",
     "text": [
      "L2 norm of the background error 0.5110711536824816\n",
      "L2 norm of the error in DA solution 9.674039610338135e-17\n",
      "[72442, 80022, 40140, 47616, 21885, 36021, 37212, 31852, 13403, 10122]\n"
     ]
    },
    {
     "name": "stderr",
     "output_type": "stream",
     "text": [
      "\n",
      " 86%|████████▋ | 863/1000 [07:08<01:03,  2.15it/s]\u001b[A"
     ]
    },
    {
     "name": "stdout",
     "output_type": "stream",
     "text": [
      "L2 norm of the background error 0.6676007429260087\n",
      "L2 norm of the error in DA solution 1.133457505521066e-16\n",
      "[56313, 56741, 69785, 44651, 55576, 51580, 22257, 67758, 9841, 60179]\n"
     ]
    },
    {
     "name": "stderr",
     "output_type": "stream",
     "text": [
      "\n",
      " 86%|████████▋ | 864/1000 [07:08<01:03,  2.16it/s]\u001b[A"
     ]
    },
    {
     "name": "stdout",
     "output_type": "stream",
     "text": [
      "L2 norm of the background error 0.8641208302787539\n",
      "L2 norm of the error in DA solution 1.6444051561585897e-16\n",
      "[24771, 75087, 23266, 44651, 20460, 59345, 27610, 52816, 28245, 22371]\n"
     ]
    },
    {
     "name": "stderr",
     "output_type": "stream",
     "text": [
      "\n",
      " 86%|████████▋ | 865/1000 [07:09<01:02,  2.15it/s]\u001b[A"
     ]
    },
    {
     "name": "stdout",
     "output_type": "stream",
     "text": [
      "L2 norm of the background error 0.8516208054834655\n",
      "L2 norm of the error in DA solution 1.3743583731334774e-17\n",
      "[51509, 746, 13320, 47616, 52828, 78445, 2984, 34230, 32311, 60117]\n"
     ]
    },
    {
     "name": "stderr",
     "output_type": "stream",
     "text": [
      "\n",
      " 87%|████████▋ | 866/1000 [07:09<01:02,  2.15it/s]\u001b[A"
     ]
    },
    {
     "name": "stdout",
     "output_type": "stream",
     "text": [
      "L2 norm of the background error 0.5187004806215718\n",
      "L2 norm of the error in DA solution 5.81160244917086e-17\n",
      "[31046, 39586, 51580, 44651, 22974, 15190, 73477, 22432, 9580, 23363]\n"
     ]
    },
    {
     "name": "stderr",
     "output_type": "stream",
     "text": [
      "\n",
      " 87%|████████▋ | 867/1000 [07:10<01:02,  2.14it/s]\u001b[A"
     ]
    },
    {
     "name": "stdout",
     "output_type": "stream",
     "text": [
      "L2 norm of the background error 0.5143596589881697\n",
      "L2 norm of the error in DA solution 1.3750838758546202e-16\n",
      "[53112, 26855, 78532, 47616, 10048, 9053, 74634, 60402, 65500, 4211]\n"
     ]
    },
    {
     "name": "stderr",
     "output_type": "stream",
     "text": [
      "\n",
      " 87%|████████▋ | 868/1000 [07:10<01:01,  2.15it/s]\u001b[A"
     ]
    },
    {
     "name": "stdout",
     "output_type": "stream",
     "text": [
      "L2 norm of the background error 0.7481743471267863\n",
      "L2 norm of the error in DA solution 8.288968464106708e-17\n",
      "[67223, 17429, 60540, 47616, 8676, 22730, 47876, 28829, 17489, 12849]\n"
     ]
    },
    {
     "name": "stderr",
     "output_type": "stream",
     "text": [
      "\n",
      " 87%|████████▋ | 869/1000 [07:10<01:00,  2.16it/s]\u001b[A"
     ]
    },
    {
     "name": "stdout",
     "output_type": "stream",
     "text": [
      "L2 norm of the background error 0.711295821881482\n",
      "L2 norm of the error in DA solution 6.163391589758068e-17\n",
      "[14465, 19372, 53887, 47616, 21885, 75432, 43252, 25658, 19370, 58368]\n"
     ]
    },
    {
     "name": "stderr",
     "output_type": "stream",
     "text": [
      "\n",
      " 87%|████████▋ | 870/1000 [07:11<01:00,  2.16it/s]\u001b[A"
     ]
    },
    {
     "name": "stdout",
     "output_type": "stream",
     "text": [
      "L2 norm of the background error 1.1181704540134905\n",
      "L2 norm of the error in DA solution 9.19731084257972e-17\n",
      "[24167, 55638, 89652, 47616, 8951, 74458, 53227, 82411, 8173, 14225]\n"
     ]
    },
    {
     "name": "stderr",
     "output_type": "stream",
     "text": [
      "\n",
      " 87%|████████▋ | 871/1000 [07:11<00:59,  2.16it/s]\u001b[A"
     ]
    },
    {
     "name": "stdout",
     "output_type": "stream",
     "text": [
      "L2 norm of the background error 1.2186696776030874\n",
      "L2 norm of the error in DA solution 1.0659123477259955e-16\n",
      "[22454, 52761, 28281, 47616, 8676, 51584, 11432, 22636, 2238, 59583]\n"
     ]
    },
    {
     "name": "stderr",
     "output_type": "stream",
     "text": [
      "\n",
      " 87%|████████▋ | 872/1000 [07:12<00:59,  2.16it/s]\u001b[A"
     ]
    },
    {
     "name": "stdout",
     "output_type": "stream",
     "text": [
      "L2 norm of the background error 0.5755304065194969\n",
      "L2 norm of the error in DA solution 6.626101132395001e-17\n",
      "[13358, 40581, 69952, 44651, 74590, 51352, 65906, 45113, 1306, 19391]\n"
     ]
    },
    {
     "name": "stderr",
     "output_type": "stream",
     "text": [
      "\n",
      " 87%|████████▋ | 873/1000 [07:12<00:58,  2.16it/s]\u001b[A"
     ]
    },
    {
     "name": "stdout",
     "output_type": "stream",
     "text": [
      "L2 norm of the background error 0.33874517664142934\n",
      "L2 norm of the error in DA solution 3.2563574086395074e-17\n",
      "[9406, 78446, 32705, 44651, 52457, 78066, 18528, 84281, 11724, 9836]\n"
     ]
    },
    {
     "name": "stderr",
     "output_type": "stream",
     "text": [
      "\n",
      " 87%|████████▋ | 874/1000 [07:13<00:58,  2.15it/s]\u001b[A"
     ]
    },
    {
     "name": "stdout",
     "output_type": "stream",
     "text": [
      "L2 norm of the background error 0.8064938300155746\n",
      "L2 norm of the error in DA solution 9.955798290199555e-17\n",
      "[69140, 57746, 41380, 47616, 10389, 66727, 80932, 77910, 11974, 4145]\n"
     ]
    },
    {
     "name": "stderr",
     "output_type": "stream",
     "text": [
      "\n",
      " 88%|████████▊ | 875/1000 [07:13<00:58,  2.15it/s]\u001b[A"
     ]
    },
    {
     "name": "stdout",
     "output_type": "stream",
     "text": [
      "L2 norm of the background error 0.8448676820150363\n",
      "L2 norm of the error in DA solution 1.2246607560941007e-16\n",
      "[85375, 22006, 47431, 47616, 11634, 49260, 78559, 57571, 604, 48156]\n"
     ]
    },
    {
     "name": "stderr",
     "output_type": "stream",
     "text": [
      "\n",
      " 88%|████████▊ | 876/1000 [07:14<00:57,  2.15it/s]\u001b[A"
     ]
    },
    {
     "name": "stdout",
     "output_type": "stream",
     "text": [
      "L2 norm of the background error 0.549024484963245\n",
      "L2 norm of the error in DA solution 1.162100269946207e-17\n",
      "[45048, 46407, 47876, 47616, 20460, 86775, 60057, 11312, 15621, 60179]\n"
     ]
    },
    {
     "name": "stderr",
     "output_type": "stream",
     "text": [
      "\n",
      " 88%|████████▊ | 877/1000 [07:14<00:56,  2.16it/s]\u001b[A"
     ]
    },
    {
     "name": "stdout",
     "output_type": "stream",
     "text": [
      "L2 norm of the background error 0.583324971909382\n",
      "L2 norm of the error in DA solution 4.864579505183777e-17\n",
      "[70128, 12082, 78206, 44651, 10048, 51232, 22517, 54884, 5180, 61592]\n"
     ]
    },
    {
     "name": "stderr",
     "output_type": "stream",
     "text": [
      "\n",
      " 88%|████████▊ | 878/1000 [07:15<00:56,  2.16it/s]\u001b[A"
     ]
    },
    {
     "name": "stdout",
     "output_type": "stream",
     "text": [
      "L2 norm of the background error 0.6986347442526312\n",
      "L2 norm of the error in DA solution 3.7209615276084116e-17\n",
      "[31459, 16667, 19756, 47616, 45495, 929, 66427, 68505, 25018, 2292]\n"
     ]
    },
    {
     "name": "stderr",
     "output_type": "stream",
     "text": [
      "\n",
      " 88%|████████▊ | 879/1000 [07:15<00:56,  2.16it/s]\u001b[A"
     ]
    },
    {
     "name": "stdout",
     "output_type": "stream",
     "text": [
      "L2 norm of the background error 0.44434847473835737\n",
      "L2 norm of the error in DA solution 2.6563663543759798e-17\n",
      "[28446, 37874, 45018, 47616, 52828, 6166, 93797, 31883, 9533, 60179]\n"
     ]
    },
    {
     "name": "stderr",
     "output_type": "stream",
     "text": [
      "\n",
      " 88%|████████▊ | 880/1000 [07:16<00:55,  2.16it/s]\u001b[A"
     ]
    },
    {
     "name": "stdout",
     "output_type": "stream",
     "text": [
      "L2 norm of the background error 0.7805181776249581\n",
      "L2 norm of the error in DA solution 1.0209826315025712e-16\n",
      "[59783, 73941, 53213, 47616, 74980, 43017, 39179, 31478, 10729, 48766]\n"
     ]
    },
    {
     "name": "stderr",
     "output_type": "stream",
     "text": [
      "\n",
      " 88%|████████▊ | 881/1000 [07:16<00:55,  2.16it/s]\u001b[A"
     ]
    },
    {
     "name": "stdout",
     "output_type": "stream",
     "text": [
      "L2 norm of the background error 0.42930426725233534\n",
      "L2 norm of the error in DA solution 4.201751870077203e-17\n",
      "[97671, 25752, 37798, 44651, 55576, 78150, 79403, 74654, 6303, 24508]\n"
     ]
    },
    {
     "name": "stderr",
     "output_type": "stream",
     "text": [
      "\n",
      " 88%|████████▊ | 882/1000 [07:16<00:54,  2.16it/s]\u001b[A"
     ]
    },
    {
     "name": "stdout",
     "output_type": "stream",
     "text": [
      "L2 norm of the background error 0.5330636823010942\n",
      "L2 norm of the error in DA solution 3.8043551656266416e-17\n",
      "[42014, 51451, 54367, 47616, 74980, 93162, 53592, 70701, 14326, 22372]\n"
     ]
    },
    {
     "name": "stderr",
     "output_type": "stream",
     "text": [
      "\n",
      " 88%|████████▊ | 883/1000 [07:17<00:54,  2.15it/s]\u001b[A"
     ]
    },
    {
     "name": "stdout",
     "output_type": "stream",
     "text": [
      "L2 norm of the background error 0.8204842072963732\n",
      "L2 norm of the error in DA solution 7.834425268405132e-17\n",
      "[45048, 16664, 15924, 44651, 55576, 75807, 20631, 93814, 65501, 4340]\n"
     ]
    },
    {
     "name": "stderr",
     "output_type": "stream",
     "text": [
      "\n",
      " 88%|████████▊ | 884/1000 [07:17<00:54,  2.14it/s]\u001b[A"
     ]
    },
    {
     "name": "stdout",
     "output_type": "stream",
     "text": [
      "L2 norm of the background error 0.9694371523161398\n",
      "L2 norm of the error in DA solution 2.3352454092198125e-16\n",
      "[57831, 847, 36894, 47616, 8951, 27710, 33720, 14455, 5026, 2292]\n"
     ]
    },
    {
     "name": "stderr",
     "output_type": "stream",
     "text": [
      "\n",
      " 88%|████████▊ | 885/1000 [07:18<00:53,  2.13it/s]\u001b[A"
     ]
    },
    {
     "name": "stdout",
     "output_type": "stream",
     "text": [
      "L2 norm of the background error 0.5172462279623715\n",
      "L2 norm of the error in DA solution 5.258181674319183e-17\n",
      "[72227, 48730, 33380, 44651, 6436, 69133, 44026, 1136, 10496, 28825]\n"
     ]
    },
    {
     "name": "stderr",
     "output_type": "stream",
     "text": [
      "\n",
      " 89%|████████▊ | 886/1000 [07:18<00:53,  2.14it/s]\u001b[A"
     ]
    },
    {
     "name": "stdout",
     "output_type": "stream",
     "text": [
      "L2 norm of the background error 0.6631515048348723\n",
      "L2 norm of the error in DA solution 1.2875224257968091e-17\n",
      "[77798, 77672, 45174, 44651, 55576, 42389, 60776, 9310, 25139, 12321]\n"
     ]
    },
    {
     "name": "stderr",
     "output_type": "stream",
     "text": [
      "\n",
      " 89%|████████▊ | 887/1000 [07:19<00:52,  2.13it/s]\u001b[A"
     ]
    },
    {
     "name": "stdout",
     "output_type": "stream",
     "text": [
      "L2 norm of the background error 0.590426430308097\n",
      "L2 norm of the error in DA solution 5.460337870761007e-17\n",
      "[92829, 55118, 7668, 44651, 22974, 66266, 18528, 68855, 11408, 89362]\n"
     ]
    },
    {
     "name": "stderr",
     "output_type": "stream",
     "text": [
      "\n",
      " 89%|████████▉ | 888/1000 [07:19<00:52,  2.14it/s]\u001b[A"
     ]
    },
    {
     "name": "stdout",
     "output_type": "stream",
     "text": [
      "L2 norm of the background error 0.747374229072535\n",
      "L2 norm of the error in DA solution 5.056431490990299e-17\n",
      "[13185, 53048, 44026, 47616, 10389, 52995, 36992, 26473, 725, 41957]\n"
     ]
    },
    {
     "name": "stderr",
     "output_type": "stream",
     "text": [
      "\n",
      " 89%|████████▉ | 889/1000 [07:20<00:52,  2.10it/s]\u001b[A"
     ]
    },
    {
     "name": "stdout",
     "output_type": "stream",
     "text": [
      "L2 norm of the background error 0.48368086693435464\n",
      "L2 norm of the error in DA solution 3.032714622083557e-17\n",
      "[90824, 35159, 58652, 44651, 20460, 34108, 14047, 55442, 4768, 14576]\n"
     ]
    },
    {
     "name": "stderr",
     "output_type": "stream",
     "text": [
      "\n",
      " 89%|████████▉ | 890/1000 [07:20<00:51,  2.12it/s]\u001b[A"
     ]
    },
    {
     "name": "stdout",
     "output_type": "stream",
     "text": [
      "L2 norm of the background error 0.8692497396805321\n",
      "L2 norm of the error in DA solution 4.294712588337055e-17\n",
      "[21538, 24686, 41394, 47616, 17018, 52995, 57677, 68484, 5026, 1990]\n"
     ]
    },
    {
     "name": "stderr",
     "output_type": "stream",
     "text": [
      "\n",
      " 89%|████████▉ | 891/1000 [07:21<00:51,  2.12it/s]\u001b[A"
     ]
    },
    {
     "name": "stdout",
     "output_type": "stream",
     "text": [
      "L2 norm of the background error 0.6431511108809492\n",
      "L2 norm of the error in DA solution 4.6450268773823244e-17\n",
      "[31459, 77692, 22631, 44651, 47734, 30408, 96820, 81357, 9050, 55952]\n"
     ]
    },
    {
     "name": "stderr",
     "output_type": "stream",
     "text": [
      "\n",
      " 89%|████████▉ | 892/1000 [07:21<00:50,  2.13it/s]\u001b[A"
     ]
    },
    {
     "name": "stdout",
     "output_type": "stream",
     "text": [
      "L2 norm of the background error 1.0950800838883632\n",
      "L2 norm of the error in DA solution 1.2340256276327814e-16\n",
      "[443, 27667, 13320, 47616, 18750, 19770, 44150, 66441, 1992, 52731]\n"
     ]
    },
    {
     "name": "stderr",
     "output_type": "stream",
     "text": [
      "\n",
      " 89%|████████▉ | 893/1000 [07:22<00:49,  2.14it/s]\u001b[A"
     ]
    },
    {
     "name": "stdout",
     "output_type": "stream",
     "text": [
      "L2 norm of the background error 0.779018222197923\n",
      "L2 norm of the error in DA solution 4.219049281381255e-17\n",
      "[56516, 27305, 74499, 44651, 45495, 26238, 57851, 66603, 12103, 55954]\n"
     ]
    },
    {
     "name": "stderr",
     "output_type": "stream",
     "text": [
      "\n",
      " 89%|████████▉ | 894/1000 [07:22<00:49,  2.15it/s]\u001b[A"
     ]
    },
    {
     "name": "stdout",
     "output_type": "stream",
     "text": [
      "L2 norm of the background error 0.750509058156055\n",
      "L2 norm of the error in DA solution 2.997430251097711e-17\n",
      "[39142, 16666, 53853, 44651, 12495, 51872, 80442, 20691, 6291, 55954]\n"
     ]
    },
    {
     "name": "stderr",
     "output_type": "stream",
     "text": [
      "\n",
      " 90%|████████▉ | 895/1000 [07:23<00:48,  2.15it/s]\u001b[A"
     ]
    },
    {
     "name": "stdout",
     "output_type": "stream",
     "text": [
      "L2 norm of the background error 0.7571182376028835\n",
      "L2 norm of the error in DA solution 3.042779252559802e-17\n",
      "[73474, 46827, 53058, 44651, 1466, 93837, 73948, 95412, 6304, 3076]\n"
     ]
    },
    {
     "name": "stderr",
     "output_type": "stream",
     "text": [
      "\n",
      " 90%|████████▉ | 896/1000 [07:23<00:48,  2.14it/s]\u001b[A"
     ]
    },
    {
     "name": "stdout",
     "output_type": "stream",
     "text": [
      "L2 norm of the background error 0.6236052741304974\n",
      "L2 norm of the error in DA solution 1.8498148543762722e-17\n",
      "[27277, 53263, 58636, 44651, 11634, 52127, 76924, 28190, 52622, 41528]\n"
     ]
    },
    {
     "name": "stderr",
     "output_type": "stream",
     "text": [
      "\n",
      " 90%|████████▉ | 897/1000 [07:23<00:47,  2.15it/s]\u001b[A"
     ]
    },
    {
     "name": "stdout",
     "output_type": "stream",
     "text": [
      "L2 norm of the background error 0.732993355644829\n",
      "L2 norm of the error in DA solution 4.9725571220567845e-17\n",
      "[65560, 33596, 33389, 44651, 12495, 59215, 7699, 24766, 18847, 27035]\n"
     ]
    },
    {
     "name": "stderr",
     "output_type": "stream",
     "text": [
      "\n",
      " 90%|████████▉ | 898/1000 [07:24<00:47,  2.15it/s]\u001b[A"
     ]
    },
    {
     "name": "stdout",
     "output_type": "stream",
     "text": [
      "L2 norm of the background error 0.4065946876981665\n",
      "L2 norm of the error in DA solution 2.9435338887270436e-17\n",
      "[49438, 66262, 47431, 44651, 21885, 89855, 43956, 36209, 55134, 74128]\n"
     ]
    },
    {
     "name": "stderr",
     "output_type": "stream",
     "text": [
      "\n",
      " 90%|████████▉ | 899/1000 [07:24<00:47,  2.14it/s]\u001b[A"
     ]
    },
    {
     "name": "stdout",
     "output_type": "stream",
     "text": [
      "L2 norm of the background error 0.4412663823654842\n",
      "L2 norm of the error in DA solution 9.833196972784363e-17\n",
      "[19771, 74954, 63955, 47616, 48502, 48930, 30104, 49697, 11744, 29544]\n"
     ]
    },
    {
     "name": "stderr",
     "output_type": "stream",
     "text": [
      "\n",
      " 90%|█████████ | 900/1000 [07:25<00:46,  2.14it/s]\u001b[A"
     ]
    },
    {
     "name": "stdout",
     "output_type": "stream",
     "text": [
      "L2 norm of the background error 0.868395624563915\n",
      "L2 norm of the error in DA solution 4.233008035315431e-17\n",
      "[30059, 66931, 49640, 44651, 21885, 49120, 43189, 22515, 10496, 8473]\n"
     ]
    },
    {
     "name": "stderr",
     "output_type": "stream",
     "text": [
      "\n",
      " 90%|█████████ | 901/1000 [07:25<00:46,  2.14it/s]\u001b[A"
     ]
    },
    {
     "name": "stdout",
     "output_type": "stream",
     "text": [
      "L2 norm of the background error 0.5993620664017665\n",
      "L2 norm of the error in DA solution 9.656920903823971e-17\n",
      "[54641, 3114, 50493, 44651, 21885, 41574, 48443, 44712, 2530, 8412]\n"
     ]
    },
    {
     "name": "stderr",
     "output_type": "stream",
     "text": [
      "\n",
      " 90%|█████████ | 902/1000 [07:26<00:45,  2.14it/s]\u001b[A"
     ]
    },
    {
     "name": "stdout",
     "output_type": "stream",
     "text": [
      "L2 norm of the background error 0.6415636732064197\n",
      "L2 norm of the error in DA solution 9.98766619751179e-17\n",
      "[77798, 20750, 28559, 47616, 48502, 17987, 18323, 26239, 19391, 21938]\n"
     ]
    },
    {
     "name": "stderr",
     "output_type": "stream",
     "text": [
      "\n",
      " 90%|█████████ | 903/1000 [07:26<00:45,  2.14it/s]\u001b[A"
     ]
    },
    {
     "name": "stdout",
     "output_type": "stream",
     "text": [
      "L2 norm of the background error 0.4965800084740144\n",
      "L2 norm of the error in DA solution 3.3169889684708696e-17\n",
      "[93429, 28501, 33023, 47616, 74980, 92866, 24178, 14455, 8328, 24950]\n"
     ]
    },
    {
     "name": "stderr",
     "output_type": "stream",
     "text": [
      "\n",
      " 90%|█████████ | 904/1000 [07:27<00:45,  2.13it/s]\u001b[A"
     ]
    },
    {
     "name": "stdout",
     "output_type": "stream",
     "text": [
      "L2 norm of the background error 0.6784115728418156\n",
      "L2 norm of the error in DA solution 9.429994853872849e-17\n",
      "[54641, 29133, 54021, 44651, 6436, 46609, 44489, 37125, 52622, 10504]\n"
     ]
    },
    {
     "name": "stderr",
     "output_type": "stream",
     "text": [
      "\n",
      " 90%|█████████ | 905/1000 [07:27<00:46,  2.04it/s]\u001b[A"
     ]
    },
    {
     "name": "stdout",
     "output_type": "stream",
     "text": [
      "L2 norm of the background error 0.7473823237117924\n",
      "L2 norm of the error in DA solution 1.5654697006105468e-16\n",
      "[71342, 16904, 60675, 47616, 17019, 47579, 41326, 44693, 6304, 9689]\n"
     ]
    },
    {
     "name": "stderr",
     "output_type": "stream",
     "text": [
      "\n",
      " 91%|█████████ | 906/1000 [07:28<00:46,  2.01it/s]\u001b[A"
     ]
    },
    {
     "name": "stdout",
     "output_type": "stream",
     "text": [
      "L2 norm of the background error 0.9436412006034838\n",
      "L2 norm of the error in DA solution 9.348160123801141e-17\n",
      "[56940, 57351, 34207, 47616, 47734, 88090, 75198, 52929, 15024, 24765]\n"
     ]
    },
    {
     "name": "stderr",
     "output_type": "stream",
     "text": [
      "\n",
      " 91%|█████████ | 907/1000 [07:28<00:47,  1.98it/s]\u001b[A"
     ]
    },
    {
     "name": "stdout",
     "output_type": "stream",
     "text": [
      "L2 norm of the background error 0.8125064714804091\n",
      "L2 norm of the error in DA solution 1.2963955956725746e-16\n",
      "[56516, 51410, 45390, 44651, 52430, 50075, 39298, 44944, 7365, 4340]\n"
     ]
    },
    {
     "name": "stderr",
     "output_type": "stream",
     "text": [
      "\n",
      " 91%|█████████ | 908/1000 [07:29<00:47,  1.93it/s]\u001b[A"
     ]
    },
    {
     "name": "stdout",
     "output_type": "stream",
     "text": [
      "L2 norm of the background error 0.6319228595174238\n",
      "L2 norm of the error in DA solution 1.4274872261568286e-16\n",
      "[64664, 74160, 81357, 44651, 76464, 42922, 41326, 74250, 7127, 55954]\n"
     ]
    },
    {
     "name": "stderr",
     "output_type": "stream",
     "text": [
      "\n",
      " 91%|█████████ | 909/1000 [07:29<00:47,  1.93it/s]\u001b[A"
     ]
    },
    {
     "name": "stdout",
     "output_type": "stream",
     "text": [
      "L2 norm of the background error 0.7994643143910822\n",
      "L2 norm of the error in DA solution 5.972690192753131e-17\n",
      "[63050, 82356, 34704, 44651, 47734, 27542, 24347, 39151, 3904, 2856]\n"
     ]
    },
    {
     "name": "stderr",
     "output_type": "stream",
     "text": [
      "\n",
      " 91%|█████████ | 910/1000 [07:30<00:46,  1.93it/s]\u001b[A"
     ]
    },
    {
     "name": "stdout",
     "output_type": "stream",
     "text": [
      "L2 norm of the background error 0.507797975050638\n",
      "L2 norm of the error in DA solution 4.6453944699553653e-17\n",
      "[47423, 36161, 53175, 47616, 75175, 29718, 41297, 70096, 7418, 39244]\n"
     ]
    },
    {
     "name": "stderr",
     "output_type": "stream",
     "text": [
      "\n",
      " 91%|█████████ | 911/1000 [07:30<00:46,  1.92it/s]\u001b[A"
     ]
    },
    {
     "name": "stdout",
     "output_type": "stream",
     "text": [
      "L2 norm of the background error 0.7375177163516818\n",
      "L2 norm of the error in DA solution 1.0512416016690127e-16\n",
      "[21240, 57669, 49696, 47616, 18750, 58716, 16414, 46352, 10384, 12048]\n"
     ]
    },
    {
     "name": "stderr",
     "output_type": "stream",
     "text": [
      "\n",
      " 91%|█████████ | 912/1000 [07:31<00:45,  1.92it/s]\u001b[A"
     ]
    },
    {
     "name": "stdout",
     "output_type": "stream",
     "text": [
      "L2 norm of the background error 0.4080410516542883\n",
      "L2 norm of the error in DA solution 2.569477729019429e-17\n",
      "[44335, 31680, 38740, 44651, 10048, 63072, 66303, 37019, 11722, 16985]\n"
     ]
    },
    {
     "name": "stderr",
     "output_type": "stream",
     "text": [
      "\n",
      " 91%|█████████▏| 913/1000 [07:32<00:45,  1.91it/s]\u001b[A"
     ]
    },
    {
     "name": "stdout",
     "output_type": "stream",
     "text": [
      "L2 norm of the background error 0.8729190042251885\n",
      "L2 norm of the error in DA solution 9.899278534199759e-17\n",
      "[23251, 56833, 66780, 47616, 8676, 44029, 21857, 24234, 25018, 48370]\n"
     ]
    },
    {
     "name": "stderr",
     "output_type": "stream",
     "text": [
      "\n",
      " 91%|█████████▏| 914/1000 [07:32<00:44,  1.91it/s]\u001b[A"
     ]
    },
    {
     "name": "stdout",
     "output_type": "stream",
     "text": [
      "L2 norm of the background error 0.8494375285323512\n",
      "L2 norm of the error in DA solution 5.3856476393987306e-17\n",
      "[18824, 14505, 38991, 47616, 20460, 21399, 28747, 56128, 2291, 12048]\n"
     ]
    },
    {
     "name": "stderr",
     "output_type": "stream",
     "text": [
      "\n",
      " 92%|█████████▏| 915/1000 [07:33<00:44,  1.90it/s]\u001b[A"
     ]
    },
    {
     "name": "stdout",
     "output_type": "stream",
     "text": [
      "L2 norm of the background error 0.6806368884494602\n",
      "L2 norm of the error in DA solution 5.920535138961453e-17\n",
      "[79423, 90429, 26579, 47616, 1466, 20624, 22745, 58299, 40170, 58370]\n"
     ]
    },
    {
     "name": "stderr",
     "output_type": "stream",
     "text": [
      "\n",
      " 92%|█████████▏| 916/1000 [07:33<00:44,  1.90it/s]\u001b[A"
     ]
    },
    {
     "name": "stdout",
     "output_type": "stream",
     "text": [
      "L2 norm of the background error 0.8847066602727368\n",
      "L2 norm of the error in DA solution 7.597461363388685e-17\n",
      "[72305, 67260, 17898, 47616, 48502, 42924, 43758, 20521, 37932, 45580]\n"
     ]
    },
    {
     "name": "stderr",
     "output_type": "stream",
     "text": [
      "\n",
      " 92%|█████████▏| 917/1000 [07:34<00:43,  1.91it/s]\u001b[A"
     ]
    },
    {
     "name": "stdout",
     "output_type": "stream",
     "text": [
      "L2 norm of the background error 0.8009953455944123\n",
      "L2 norm of the error in DA solution 6.821397454389112e-17\n",
      "[61919, 18202, 33382, 44651, 45495, 36237, 65994, 47106, 40170, 34638]\n"
     ]
    },
    {
     "name": "stderr",
     "output_type": "stream",
     "text": [
      "\n",
      " 92%|█████████▏| 918/1000 [07:34<00:42,  1.91it/s]\u001b[A"
     ]
    },
    {
     "name": "stdout",
     "output_type": "stream",
     "text": [
      "L2 norm of the background error 0.4175348039986882\n",
      "L2 norm of the error in DA solution 5.150460593350504e-17\n",
      "[85084, 30872, 74469, 44651, 47734, 33888, 26554, 65683, 5026, 1993]\n"
     ]
    },
    {
     "name": "stderr",
     "output_type": "stream",
     "text": [
      "\n",
      " 92%|█████████▏| 919/1000 [07:35<00:42,  1.92it/s]\u001b[A"
     ]
    },
    {
     "name": "stdout",
     "output_type": "stream",
     "text": [
      "L2 norm of the background error 0.6632797228003464\n",
      "L2 norm of the error in DA solution 7.107078755745625e-17\n",
      "[2739, 9527, 54367, 47616, 22974, 26053, 34869, 25757, 37932, 10439]\n"
     ]
    },
    {
     "name": "stderr",
     "output_type": "stream",
     "text": [
      "\n",
      " 92%|█████████▏| 920/1000 [07:35<00:41,  1.92it/s]\u001b[A"
     ]
    },
    {
     "name": "stdout",
     "output_type": "stream",
     "text": [
      "L2 norm of the background error 0.6522525242905307\n",
      "L2 norm of the error in DA solution 1.4396399826567566e-17\n",
      "[36197, 50912, 85229, 44651, 17019, 78067, 21168, 24765, 55134, 24950]\n"
     ]
    },
    {
     "name": "stderr",
     "output_type": "stream",
     "text": [
      "\n",
      " 92%|█████████▏| 921/1000 [07:36<00:41,  1.91it/s]\u001b[A"
     ]
    },
    {
     "name": "stdout",
     "output_type": "stream",
     "text": [
      "L2 norm of the background error 0.9579012010907647\n",
      "L2 norm of the error in DA solution 6.457769473484699e-17\n",
      "[90155, 22008, 23457, 44651, 52828, 73957, 77016, 56488, 10489, 21604]\n"
     ]
    },
    {
     "name": "stderr",
     "output_type": "stream",
     "text": [
      "\n",
      " 92%|█████████▏| 922/1000 [07:36<00:40,  1.92it/s]\u001b[A"
     ]
    },
    {
     "name": "stdout",
     "output_type": "stream",
     "text": [
      "L2 norm of the background error 0.8423215699124709\n",
      "L2 norm of the error in DA solution 3.266957580274901e-17\n",
      "[18824, 46287, 44665, 44651, 82371, 69163, 92076, 85569, 18113, 19392]\n"
     ]
    },
    {
     "name": "stderr",
     "output_type": "stream",
     "text": [
      "\n",
      " 92%|█████████▏| 923/1000 [07:37<00:40,  1.92it/s]\u001b[A"
     ]
    },
    {
     "name": "stdout",
     "output_type": "stream",
     "text": [
      "L2 norm of the background error 0.8958548349404085\n",
      "L2 norm of the error in DA solution 1.0366981597919379e-16\n",
      "[63544, 65911, 92398, 47616, 8676, 90384, 89500, 27948, 20243, 28825]\n"
     ]
    },
    {
     "name": "stderr",
     "output_type": "stream",
     "text": [
      "\n",
      " 92%|█████████▏| 924/1000 [07:37<00:39,  1.92it/s]\u001b[A"
     ]
    },
    {
     "name": "stdout",
     "output_type": "stream",
     "text": [
      "L2 norm of the background error 1.0925523847508147\n",
      "L2 norm of the error in DA solution 5.0769644581640407e-17\n",
      "[28446, 71212, 81407, 44651, 82371, 78414, 53059, 43264, 16593, 41528]\n"
     ]
    },
    {
     "name": "stderr",
     "output_type": "stream",
     "text": [
      "\n",
      " 92%|█████████▎| 925/1000 [07:38<00:39,  1.92it/s]\u001b[A"
     ]
    },
    {
     "name": "stdout",
     "output_type": "stream",
     "text": [
      "L2 norm of the background error 0.7752731254570524\n",
      "L2 norm of the error in DA solution 9.751025848032665e-17\n",
      "[13358, 85662, 15383, 47616, 55576, 19979, 53598, 54040, 22904, 4200]\n"
     ]
    },
    {
     "name": "stderr",
     "output_type": "stream",
     "text": [
      "\n",
      " 93%|█████████▎| 926/1000 [07:38<00:37,  1.96it/s]\u001b[A"
     ]
    },
    {
     "name": "stdout",
     "output_type": "stream",
     "text": [
      "L2 norm of the background error 0.8004265326455725\n",
      "L2 norm of the error in DA solution 1.4486187849636407e-16\n",
      "[61892, 41268, 66686, 44651, 11634, 83961, 44489, 36108, 1727, 13773]\n"
     ]
    },
    {
     "name": "stderr",
     "output_type": "stream",
     "text": [
      "\n",
      " 93%|█████████▎| 927/1000 [07:39<00:36,  2.01it/s]\u001b[A"
     ]
    },
    {
     "name": "stdout",
     "output_type": "stream",
     "text": [
      "L2 norm of the background error 0.7302709285161177\n",
      "L2 norm of the error in DA solution 7.111371596461148e-17\n",
      "[56951, 16620, 51634, 47616, 17019, 15190, 31208, 58517, 25018, 10087]\n"
     ]
    },
    {
     "name": "stderr",
     "output_type": "stream",
     "text": [
      "\n",
      " 93%|█████████▎| 928/1000 [07:39<00:35,  2.05it/s]\u001b[A"
     ]
    },
    {
     "name": "stdout",
     "output_type": "stream",
     "text": [
      "L2 norm of the background error 0.585810119323397\n",
      "L2 norm of the error in DA solution 1.7702266405844623e-17\n",
      "[32164, 77672, 49950, 44651, 17018, 75134, 33720, 18915, 1306, 58677]\n"
     ]
    },
    {
     "name": "stderr",
     "output_type": "stream",
     "text": [
      "\n",
      " 93%|█████████▎| 929/1000 [07:40<00:34,  2.07it/s]\u001b[A"
     ]
    },
    {
     "name": "stdout",
     "output_type": "stream",
     "text": [
      "L2 norm of the background error 0.3429680028640895\n",
      "L2 norm of the error in DA solution 5.720412713955927e-17\n",
      "[72476, 46696, 7667, 44651, 10048, 51352, 14514, 28062, 12081, 37351]\n"
     ]
    },
    {
     "name": "stderr",
     "output_type": "stream",
     "text": [
      "\n",
      " 93%|█████████▎| 930/1000 [07:40<00:33,  2.08it/s]\u001b[A"
     ]
    },
    {
     "name": "stdout",
     "output_type": "stream",
     "text": [
      "L2 norm of the background error 0.7504523095639912\n",
      "L2 norm of the error in DA solution 4.8397883946342333e-17\n",
      "[49438, 17858, 412, 47616, 20460, 68372, 52721, 66603, 3879, 48370]\n"
     ]
    },
    {
     "name": "stderr",
     "output_type": "stream",
     "text": [
      "\n",
      " 93%|█████████▎| 931/1000 [07:41<00:32,  2.09it/s]\u001b[A"
     ]
    },
    {
     "name": "stdout",
     "output_type": "stream",
     "text": [
      "L2 norm of the background error 0.6177495946725614\n",
      "L2 norm of the error in DA solution 4.636891649518772e-17\n",
      "[57831, 48877, 45920, 44651, 58253, 56859, 52986, 7876, 15024, 45137]\n"
     ]
    },
    {
     "name": "stderr",
     "output_type": "stream",
     "text": [
      "\n",
      " 93%|█████████▎| 932/1000 [07:41<00:32,  2.11it/s]\u001b[A"
     ]
    },
    {
     "name": "stdout",
     "output_type": "stream",
     "text": [
      "L2 norm of the background error 1.0413636414850254\n",
      "L2 norm of the error in DA solution 1.357095981886834e-16\n",
      "[56703, 51450, 13164, 44651, 74980, 17270, 38062, 70354, 12791, 48156]\n"
     ]
    },
    {
     "name": "stderr",
     "output_type": "stream",
     "text": [
      "\n",
      " 93%|█████████▎| 933/1000 [07:42<00:31,  2.12it/s]\u001b[A"
     ]
    },
    {
     "name": "stdout",
     "output_type": "stream",
     "text": [
      "L2 norm of the background error 0.3583209692096046\n",
      "L2 norm of the error in DA solution 3.5363692650573706e-17\n",
      "[31046, 48878, 14481, 47616, 1466, 12697, 42635, 18916, 38921, 10199]\n"
     ]
    },
    {
     "name": "stderr",
     "output_type": "stream",
     "text": [
      "\n",
      " 93%|█████████▎| 934/1000 [07:42<00:31,  2.13it/s]\u001b[A"
     ]
    },
    {
     "name": "stdout",
     "output_type": "stream",
     "text": [
      "L2 norm of the background error 0.4048790960988385\n",
      "L2 norm of the error in DA solution 6.534028485273409e-17\n",
      "[88110, 22005, 47978, 44651, 75175, 24258, 44150, 54884, 6771, 14748]\n"
     ]
    },
    {
     "name": "stderr",
     "output_type": "stream",
     "text": [
      "\n",
      " 94%|█████████▎| 935/1000 [07:42<00:30,  2.13it/s]\u001b[A"
     ]
    },
    {
     "name": "stdout",
     "output_type": "stream",
     "text": [
      "L2 norm of the background error 0.4602267710537222\n",
      "L2 norm of the error in DA solution 3.9087861589730986e-17\n",
      "[20945, 54840, 25658, 44651, 17018, 38871, 38008, 45248, 22004, 52731]\n"
     ]
    },
    {
     "name": "stderr",
     "output_type": "stream",
     "text": [
      "\n",
      " 94%|█████████▎| 936/1000 [07:43<00:29,  2.14it/s]\u001b[A"
     ]
    },
    {
     "name": "stdout",
     "output_type": "stream",
     "text": [
      "L2 norm of the background error 0.7492235065038093\n",
      "L2 norm of the error in DA solution 4.0833999083527584e-17\n",
      "[49038, 33059, 49852, 47616, 48502, 27709, 55640, 67038, 6509, 4266]\n"
     ]
    },
    {
     "name": "stderr",
     "output_type": "stream",
     "text": [
      "\n",
      " 94%|█████████▎| 937/1000 [07:43<00:29,  2.13it/s]\u001b[A"
     ]
    },
    {
     "name": "stdout",
     "output_type": "stream",
     "text": [
      "L2 norm of the background error 0.548187726065712\n",
      "L2 norm of the error in DA solution 6.72755336416807e-17\n",
      "[31459, 48730, 24331, 44651, 22974, 37175, 48792, 51428, 1685, 55952]\n"
     ]
    },
    {
     "name": "stderr",
     "output_type": "stream",
     "text": [
      "\n",
      " 94%|█████████▍| 938/1000 [07:44<00:28,  2.14it/s]\u001b[A"
     ]
    },
    {
     "name": "stdout",
     "output_type": "stream",
     "text": [
      "L2 norm of the background error 0.8259207642524822\n",
      "L2 norm of the error in DA solution 1.2593543996468809e-16\n",
      "[93296, 28082, 34436, 44651, 17018, 85583, 52985, 54884, 2813, 37293]\n"
     ]
    },
    {
     "name": "stderr",
     "output_type": "stream",
     "text": [
      "\n",
      " 94%|█████████▍| 939/1000 [07:44<00:28,  2.14it/s]\u001b[A"
     ]
    },
    {
     "name": "stdout",
     "output_type": "stream",
     "text": [
      "L2 norm of the background error 0.5103340333152002\n",
      "L2 norm of the error in DA solution 2.3808418801913053e-17\n",
      "[32595, 47832, 25807, 44651, 40998, 24016, 31207, 22432, 21993, 17992]\n"
     ]
    },
    {
     "name": "stderr",
     "output_type": "stream",
     "text": [
      "\n",
      " 94%|█████████▍| 940/1000 [07:45<00:28,  2.12it/s]\u001b[A"
     ]
    },
    {
     "name": "stdout",
     "output_type": "stream",
     "text": [
      "L2 norm of the background error 0.4587406640598759\n",
      "L2 norm of the error in DA solution 3.1597483944442394e-17\n",
      "[70420, 31466, 19756, 47616, 17018, 32265, 9338, 66725, 12461, 27035]\n"
     ]
    },
    {
     "name": "stderr",
     "output_type": "stream",
     "text": [
      "\n",
      " 94%|█████████▍| 941/1000 [07:45<00:27,  2.12it/s]\u001b[A"
     ]
    },
    {
     "name": "stdout",
     "output_type": "stream",
     "text": [
      "L2 norm of the background error 0.7443663027885715\n",
      "L2 norm of the error in DA solution 5.1197236022869785e-17\n",
      "[63961, 66931, 45390, 44651, 31198, 29646, 41850, 71988, 19391, 46332]\n"
     ]
    },
    {
     "name": "stderr",
     "output_type": "stream",
     "text": [
      "\n",
      " 94%|█████████▍| 942/1000 [07:46<00:27,  2.13it/s]\u001b[A"
     ]
    },
    {
     "name": "stdout",
     "output_type": "stream",
     "text": [
      "L2 norm of the background error 0.7706987668848774\n",
      "L2 norm of the error in DA solution 3.2480761433869596e-17\n",
      "[25770, 38922, 51628, 44651, 52430, 74031, 12429, 54566, 2858, 60179]\n"
     ]
    },
    {
     "name": "stderr",
     "output_type": "stream",
     "text": [
      "\n",
      " 94%|█████████▍| 943/1000 [07:46<00:26,  2.13it/s]\u001b[A"
     ]
    },
    {
     "name": "stdout",
     "output_type": "stream",
     "text": [
      "L2 norm of the background error 0.7719598507286862\n",
      "L2 norm of the error in DA solution 1.3489304086658116e-16\n",
      "[20945, 57680, 75142, 44651, 52828, 493, 16869, 34791, 18289, 8473]\n"
     ]
    },
    {
     "name": "stderr",
     "output_type": "stream",
     "text": [
      "\n",
      " 94%|█████████▍| 944/1000 [07:47<00:26,  2.14it/s]\u001b[A"
     ]
    },
    {
     "name": "stdout",
     "output_type": "stream",
     "text": [
      "L2 norm of the background error 0.909893173993714\n",
      "L2 norm of the error in DA solution 9.636092863006834e-17\n",
      "[63961, 41935, 78532, 44651, 22974, 8850, 26045, 1319, 34934, 2860]\n"
     ]
    },
    {
     "name": "stderr",
     "output_type": "stream",
     "text": [
      "\n",
      " 94%|█████████▍| 945/1000 [07:47<00:25,  2.13it/s]\u001b[A"
     ]
    },
    {
     "name": "stdout",
     "output_type": "stream",
     "text": [
      "L2 norm of the background error 0.3650541750511532\n",
      "L2 norm of the error in DA solution 4.1064166473190244e-17\n",
      "[31046, 71212, 68907, 44651, 22974, 10876, 69217, 15469, 4009, 42338]\n"
     ]
    },
    {
     "name": "stderr",
     "output_type": "stream",
     "text": [
      "\n",
      " 95%|█████████▍| 946/1000 [07:48<00:25,  2.13it/s]\u001b[A"
     ]
    },
    {
     "name": "stdout",
     "output_type": "stream",
     "text": [
      "L2 norm of the background error 0.9665739587699763\n",
      "L2 norm of the error in DA solution 9.245027770672775e-17\n",
      "[97074, 74203, 79076, 44651, 16534, 40025, 76905, 49759, 19370, 69302]\n"
     ]
    },
    {
     "name": "stderr",
     "output_type": "stream",
     "text": [
      "\n",
      " 95%|█████████▍| 947/1000 [07:48<00:24,  2.14it/s]\u001b[A"
     ]
    },
    {
     "name": "stdout",
     "output_type": "stream",
     "text": [
      "L2 norm of the background error 0.42645362594218233\n",
      "L2 norm of the error in DA solution 5.304412587181385e-17\n",
      "[79881, 80000, 27326, 44651, 11634, 12704, 40, 11751, 33371, 30431]\n"
     ]
    },
    {
     "name": "stderr",
     "output_type": "stream",
     "text": [
      "\n",
      " 95%|█████████▍| 948/1000 [07:49<00:24,  2.15it/s]\u001b[A"
     ]
    },
    {
     "name": "stdout",
     "output_type": "stream",
     "text": [
      "L2 norm of the background error 0.6422796069841887\n",
      "L2 norm of the error in DA solution 1.0490564106801177e-16\n",
      "[45869, 59811, 38794, 44651, 40998, 29647, 62866, 97114, 30139, 14225]\n"
     ]
    },
    {
     "name": "stderr",
     "output_type": "stream",
     "text": [
      "\n",
      " 95%|█████████▍| 949/1000 [07:49<00:23,  2.14it/s]\u001b[A"
     ]
    },
    {
     "name": "stdout",
     "output_type": "stream",
     "text": [
      "L2 norm of the background error 0.43899466538238646\n",
      "L2 norm of the error in DA solution 1.8966991698972723e-17\n",
      "[80045, 22007, 20458, 44651, 8951, 59210, 45223, 19943, 10496, 14748]\n"
     ]
    },
    {
     "name": "stderr",
     "output_type": "stream",
     "text": [
      "\n",
      " 95%|█████████▌| 950/1000 [07:50<00:23,  2.14it/s]\u001b[A"
     ]
    },
    {
     "name": "stdout",
     "output_type": "stream",
     "text": [
      "L2 norm of the background error 0.6975511533498298\n",
      "L2 norm of the error in DA solution 9.457370019137122e-17\n",
      "[90959, 9535, 13295, 44651, 10048, 73755, 70303, 49697, 59593, 6525]\n"
     ]
    },
    {
     "name": "stderr",
     "output_type": "stream",
     "text": [
      "\n",
      " 95%|█████████▌| 951/1000 [07:50<00:22,  2.14it/s]\u001b[A"
     ]
    },
    {
     "name": "stdout",
     "output_type": "stream",
     "text": [
      "L2 norm of the background error 0.7443665406636262\n",
      "L2 norm of the error in DA solution 9.926666227175736e-17\n",
      "[32014, 77712, 30169, 44651, 55576, 33703, 42226, 45176, 8173, 4211]\n"
     ]
    },
    {
     "name": "stderr",
     "output_type": "stream",
     "text": [
      "\n",
      " 95%|█████████▌| 952/1000 [07:50<00:22,  2.15it/s]\u001b[A"
     ]
    },
    {
     "name": "stdout",
     "output_type": "stream",
     "text": [
      "L2 norm of the background error 0.4832715609271134\n",
      "L2 norm of the error in DA solution 1.1210068373598039e-17\n",
      "[67223, 29201, 60540, 47616, 31198, 58716, 76643, 37019, 1095, 3577]\n"
     ]
    },
    {
     "name": "stderr",
     "output_type": "stream",
     "text": [
      "\n",
      " 95%|█████████▌| 953/1000 [07:51<00:21,  2.14it/s]\u001b[A"
     ]
    },
    {
     "name": "stdout",
     "output_type": "stream",
     "text": [
      "L2 norm of the background error 0.6843888995895493\n",
      "L2 norm of the error in DA solution 3.308678104327216e-17\n",
      "[62841, 46992, 78149, 47616, 74590, 41458, 41062, 23210, 16658, 8477]\n"
     ]
    },
    {
     "name": "stderr",
     "output_type": "stream",
     "text": [
      "\n",
      " 95%|█████████▌| 954/1000 [07:51<00:21,  2.15it/s]\u001b[A"
     ]
    },
    {
     "name": "stdout",
     "output_type": "stream",
     "text": [
      "L2 norm of the background error 0.9033614211277325\n",
      "L2 norm of the error in DA solution 9.33636498234091e-17\n",
      "[49451, 14277, 58838, 47616, 8676, 33972, 41850, 20799, 6579, 1501]\n"
     ]
    },
    {
     "name": "stderr",
     "output_type": "stream",
     "text": [
      "\n",
      " 96%|█████████▌| 955/1000 [07:52<00:21,  2.14it/s]\u001b[A"
     ]
    },
    {
     "name": "stdout",
     "output_type": "stream",
     "text": [
      "L2 norm of the background error 0.35415581392698164\n",
      "L2 norm of the error in DA solution 1.4032090541048122e-17\n",
      "[49325, 78649, 62715, 47616, 48009, 37678, 20813, 71941, 6451, 4145]\n"
     ]
    },
    {
     "name": "stderr",
     "output_type": "stream",
     "text": [
      "\n",
      " 96%|█████████▌| 956/1000 [07:52<00:20,  2.14it/s]\u001b[A"
     ]
    },
    {
     "name": "stdout",
     "output_type": "stream",
     "text": [
      "L2 norm of the background error 0.6025204581898955\n",
      "L2 norm of the error in DA solution 1.4210347255734188e-17\n",
      "[61892, 49784, 63955, 47616, 8676, 73813, 65290, 21730, 43221, 1993]\n"
     ]
    },
    {
     "name": "stderr",
     "output_type": "stream",
     "text": [
      "\n",
      " 96%|█████████▌| 957/1000 [07:53<00:20,  2.14it/s]\u001b[A"
     ]
    },
    {
     "name": "stdout",
     "output_type": "stream",
     "text": [
      "L2 norm of the background error 0.8466052383174407\n",
      "L2 norm of the error in DA solution 5.526160977660233e-17\n",
      "[19771, 93235, 20651, 47616, 47734, 51584, 42226, 67038, 35160, 31014]\n"
     ]
    },
    {
     "name": "stderr",
     "output_type": "stream",
     "text": [
      "\n",
      " 96%|█████████▌| 958/1000 [07:53<00:19,  2.15it/s]\u001b[A"
     ]
    },
    {
     "name": "stdout",
     "output_type": "stream",
     "text": [
      "L2 norm of the background error 0.855270159795909\n",
      "L2 norm of the error in DA solution 1.1425267759604544e-16\n",
      "[24169, 16620, 13144, 44651, 8951, 34108, 45614, 69428, 7365, 1501]\n"
     ]
    },
    {
     "name": "stderr",
     "output_type": "stream",
     "text": [
      "\n",
      " 96%|█████████▌| 959/1000 [07:54<00:19,  2.14it/s]\u001b[A"
     ]
    },
    {
     "name": "stdout",
     "output_type": "stream",
     "text": [
      "L2 norm of the background error 0.7922003050590175\n",
      "L2 norm of the error in DA solution 9.907630672345541e-17\n",
      "[57831, 21202, 34418, 44651, 75175, 49714, 71440, 34791, 8328, 89362]\n"
     ]
    },
    {
     "name": "stderr",
     "output_type": "stream",
     "text": [
      "\n",
      " 96%|█████████▌| 960/1000 [07:54<00:18,  2.14it/s]\u001b[A"
     ]
    },
    {
     "name": "stdout",
     "output_type": "stream",
     "text": [
      "L2 norm of the background error 0.7491771237933595\n",
      "L2 norm of the error in DA solution 1.2817141284055955e-16\n",
      "[69477, 14642, 47978, 44651, 48502, 46663, 57711, 37879, 8328, 4200]\n"
     ]
    },
    {
     "name": "stderr",
     "output_type": "stream",
     "text": [
      "\n",
      " 96%|█████████▌| 961/1000 [07:55<00:18,  2.14it/s]\u001b[A"
     ]
    },
    {
     "name": "stdout",
     "output_type": "stream",
     "text": [
      "L2 norm of the background error 0.6250456367538302\n",
      "L2 norm of the error in DA solution 9.277389527435418e-17\n",
      "[36197, 51873, 78206, 47616, 18750, 17394, 78559, 26239, 1307, 40282]\n"
     ]
    },
    {
     "name": "stderr",
     "output_type": "stream",
     "text": [
      "\n",
      " 96%|█████████▌| 962/1000 [07:55<00:17,  2.13it/s]\u001b[A"
     ]
    },
    {
     "name": "stdout",
     "output_type": "stream",
     "text": [
      "L2 norm of the background error 0.9378217764457526\n",
      "L2 norm of the error in DA solution 3.9825483342257444e-17\n",
      "[94388, 46420, 59389, 44651, 47734, 36237, 50845, 70701, 16593, 27398]\n"
     ]
    },
    {
     "name": "stderr",
     "output_type": "stream",
     "text": [
      "\n",
      " 96%|█████████▋| 963/1000 [07:56<00:17,  2.12it/s]\u001b[A"
     ]
    },
    {
     "name": "stdout",
     "output_type": "stream",
     "text": [
      "L2 norm of the background error 0.379555461998961\n",
      "L2 norm of the error in DA solution 6.488475707544422e-17\n",
      "[67389, 78513, 43587, 44651, 48009, 38586, 46057, 56960, 36609, 33690]\n"
     ]
    },
    {
     "name": "stderr",
     "output_type": "stream",
     "text": [
      "\n",
      " 96%|█████████▋| 964/1000 [07:56<00:16,  2.13it/s]\u001b[A"
     ]
    },
    {
     "name": "stdout",
     "output_type": "stream",
     "text": [
      "L2 norm of the background error 0.7014557741735552\n",
      "L2 norm of the error in DA solution 8.325830331603779e-17\n",
      "[61242, 25752, 56748, 47616, 17019, 48591, 60712, 39151, 20243, 6802]\n"
     ]
    },
    {
     "name": "stderr",
     "output_type": "stream",
     "text": [
      "\n",
      " 96%|█████████▋| 965/1000 [07:57<00:16,  2.14it/s]\u001b[A"
     ]
    },
    {
     "name": "stdout",
     "output_type": "stream",
     "text": [
      "L2 norm of the background error 0.858847562584126\n",
      "L2 norm of the error in DA solution 2.356106794969578e-17\n",
      "[67633, 39586, 7097, 47616, 8951, 41341, 39081, 7876, 4010, 20286]\n"
     ]
    },
    {
     "name": "stderr",
     "output_type": "stream",
     "text": [
      "\n",
      " 97%|█████████▋| 966/1000 [07:57<00:15,  2.14it/s]\u001b[A"
     ]
    },
    {
     "name": "stdout",
     "output_type": "stream",
     "text": [
      "L2 norm of the background error 0.5881262775510937\n",
      "L2 norm of the error in DA solution 1.2940884304492877e-17\n",
      "[26583, 40251, 89418, 47616, 48009, 39892, 19523, 9310, 42088, 51260]\n"
     ]
    },
    {
     "name": "stderr",
     "output_type": "stream",
     "text": [
      "\n",
      " 97%|█████████▋| 967/1000 [07:57<00:15,  2.14it/s]\u001b[A"
     ]
    },
    {
     "name": "stdout",
     "output_type": "stream",
     "text": [
      "L2 norm of the background error 0.5134420614629278\n",
      "L2 norm of the error in DA solution 1.0357395690107237e-16\n",
      "[24771, 38623, 20151, 44651, 76464, 74444, 33919, 13437, 8173, 48457]\n"
     ]
    },
    {
     "name": "stderr",
     "output_type": "stream",
     "text": [
      "\n",
      " 97%|█████████▋| 968/1000 [07:58<00:14,  2.13it/s]\u001b[A"
     ]
    },
    {
     "name": "stdout",
     "output_type": "stream",
     "text": [
      "L2 norm of the background error 0.9273264212351676\n",
      "L2 norm of the error in DA solution 3.686876367930125e-17\n",
      "[22454, 74560, 78533, 44651, 48502, 20574, 75198, 42465, 1306, 19637]\n"
     ]
    },
    {
     "name": "stderr",
     "output_type": "stream",
     "text": [
      "\n",
      " 97%|█████████▋| 969/1000 [07:58<00:14,  2.14it/s]\u001b[A"
     ]
    },
    {
     "name": "stdout",
     "output_type": "stream",
     "text": [
      "L2 norm of the background error 0.7667970795465899\n",
      "L2 norm of the error in DA solution 5.0151184910845814e-17\n",
      "[28405, 19724, 16240, 44651, 11634, 27617, 51167, 52784, 23499, 34638]\n"
     ]
    },
    {
     "name": "stderr",
     "output_type": "stream",
     "text": [
      "\n",
      " 97%|█████████▋| 970/1000 [07:59<00:14,  2.11it/s]\u001b[A"
     ]
    },
    {
     "name": "stdout",
     "output_type": "stream",
     "text": [
      "L2 norm of the background error 0.6817873900775653\n",
      "L2 norm of the error in DA solution 6.228614504173103e-17\n",
      "[24169, 72652, 43426, 47616, 31198, 47529, 14482, 75199, 35095, 28825]\n"
     ]
    },
    {
     "name": "stderr",
     "output_type": "stream",
     "text": [
      "\n",
      " 97%|█████████▋| 971/1000 [07:59<00:13,  2.12it/s]\u001b[A"
     ]
    },
    {
     "name": "stdout",
     "output_type": "stream",
     "text": [
      "L2 norm of the background error 0.6443540378785232\n",
      "L2 norm of the error in DA solution 8.467836696071083e-17\n",
      "[19771, 6780, 28058, 44651, 75175, 73, 44150, 50941, 22903, 23364]\n"
     ]
    },
    {
     "name": "stderr",
     "output_type": "stream",
     "text": [
      "\n",
      " 97%|█████████▋| 972/1000 [08:00<00:13,  2.13it/s]\u001b[A"
     ]
    },
    {
     "name": "stdout",
     "output_type": "stream",
     "text": [
      "L2 norm of the background error 0.4706364899613579\n",
      "L2 norm of the error in DA solution 8.729790201049472e-18\n",
      "[30059, 18020, 20870, 47616, 76464, 43026, 32853, 24999, 25461, 37084]\n"
     ]
    },
    {
     "name": "stderr",
     "output_type": "stream",
     "text": [
      "\n",
      " 97%|█████████▋| 973/1000 [08:00<00:12,  2.13it/s]\u001b[A"
     ]
    },
    {
     "name": "stdout",
     "output_type": "stream",
     "text": [
      "L2 norm of the background error 0.789146094981035\n",
      "L2 norm of the error in DA solution 2.3027653676449788e-17\n",
      "[85375, 15547, 65700, 47616, 20460, 78039, 34716, 28403, 7122, 1990]\n"
     ]
    },
    {
     "name": "stderr",
     "output_type": "stream",
     "text": [
      "\n",
      " 97%|█████████▋| 974/1000 [08:01<00:12,  2.13it/s]\u001b[A"
     ]
    },
    {
     "name": "stdout",
     "output_type": "stream",
     "text": [
      "L2 norm of the background error 0.6589395389982935\n",
      "L2 norm of the error in DA solution 2.330076854308986e-17\n",
      "[65560, 60298, 50494, 44651, 31198, 13087, 16413, 24999, 42057, 10439]\n"
     ]
    },
    {
     "name": "stderr",
     "output_type": "stream",
     "text": [
      "\n",
      " 98%|█████████▊| 975/1000 [08:01<00:11,  2.14it/s]\u001b[A"
     ]
    },
    {
     "name": "stdout",
     "output_type": "stream",
     "text": [
      "L2 norm of the background error 0.5382208220621142\n",
      "L2 norm of the error in DA solution 5.719720744753196e-17\n",
      "[77579, 19304, 66149, 47616, 10389, 38872, 78208, 51634, 2530, 16279]\n"
     ]
    },
    {
     "name": "stderr",
     "output_type": "stream",
     "text": [
      "\n",
      " 98%|█████████▊| 976/1000 [08:02<00:11,  2.14it/s]\u001b[A"
     ]
    },
    {
     "name": "stdout",
     "output_type": "stream",
     "text": [
      "L2 norm of the background error 0.5561258856459251\n",
      "L2 norm of the error in DA solution 7.173649164294386e-17\n",
      "[24141, 77760, 57352, 44651, 20460, 35567, 30974, 71246, 21993, 41858]\n"
     ]
    },
    {
     "name": "stderr",
     "output_type": "stream",
     "text": [
      "\n",
      " 98%|█████████▊| 977/1000 [08:02<00:10,  2.14it/s]\u001b[A"
     ]
    },
    {
     "name": "stdout",
     "output_type": "stream",
     "text": [
      "L2 norm of the background error 0.5693631051881874\n",
      "L2 norm of the error in DA solution 1.8599139511157695e-17\n",
      "[22324, 69618, 69794, 47616, 76464, 49568, 57409, 45929, 22903, 51260]\n"
     ]
    },
    {
     "name": "stderr",
     "output_type": "stream",
     "text": [
      "\n",
      " 98%|█████████▊| 978/1000 [08:03<00:10,  2.15it/s]\u001b[A"
     ]
    },
    {
     "name": "stdout",
     "output_type": "stream",
     "text": [
      "L2 norm of the background error 0.7497687040088519\n",
      "L2 norm of the error in DA solution 8.019285615318817e-17\n",
      "[67633, 66262, 53222, 44651, 22974, 58430, 35817, 85569, 1307, 13920]\n"
     ]
    },
    {
     "name": "stderr",
     "output_type": "stream",
     "text": [
      "\n",
      " 98%|█████████▊| 979/1000 [08:03<00:09,  2.15it/s]\u001b[A"
     ]
    },
    {
     "name": "stdout",
     "output_type": "stream",
     "text": [
      "L2 norm of the background error 0.5781727468610329\n",
      "L2 norm of the error in DA solution 3.5667863758140636e-17\n",
      "[18816, 37081, 37212, 47616, 75175, 11863, 61109, 662, 9668, 25871]\n"
     ]
    },
    {
     "name": "stderr",
     "output_type": "stream",
     "text": [
      "\n",
      " 98%|█████████▊| 980/1000 [08:04<00:09,  2.15it/s]\u001b[A"
     ]
    },
    {
     "name": "stdout",
     "output_type": "stream",
     "text": [
      "L2 norm of the background error 0.4404186953754142\n",
      "L2 norm of the error in DA solution 1.165331399194611e-16\n",
      "[44175, 33855, 40140, 44651, 48009, 37376, 15681, 51272, 6304, 14352]\n"
     ]
    },
    {
     "name": "stderr",
     "output_type": "stream",
     "text": [
      "\n",
      " 98%|█████████▊| 981/1000 [08:04<00:08,  2.14it/s]\u001b[A"
     ]
    },
    {
     "name": "stdout",
     "output_type": "stream",
     "text": [
      "L2 norm of the background error 0.6342414392675687\n",
      "L2 norm of the error in DA solution 3.0509578905255176e-17\n",
      "[21508, 74087, 48553, 47616, 16534, 63072, 47900, 55442, 4245, 74129]\n"
     ]
    },
    {
     "name": "stderr",
     "output_type": "stream",
     "text": [
      "\n",
      " 98%|█████████▊| 982/1000 [08:04<00:08,  2.14it/s]\u001b[A"
     ]
    },
    {
     "name": "stdout",
     "output_type": "stream",
     "text": [
      "L2 norm of the background error 0.33824452157179596\n",
      "L2 norm of the error in DA solution 2.4570857866838188e-17\n",
      "[46888, 16768, 80161, 44651, 1466, 80516, 45223, 66468, 604, 20289]\n"
     ]
    },
    {
     "name": "stderr",
     "output_type": "stream",
     "text": [
      "\n",
      " 98%|█████████▊| 983/1000 [08:05<00:07,  2.14it/s]\u001b[A"
     ]
    },
    {
     "name": "stdout",
     "output_type": "stream",
     "text": [
      "L2 norm of the background error 0.6403792591301775\n",
      "L2 norm of the error in DA solution 5.4740166233927616e-17\n",
      "[90101, 41935, 52590, 44651, 48502, 78067, 48742, 34230, 15024, 58368]\n"
     ]
    },
    {
     "name": "stderr",
     "output_type": "stream",
     "text": [
      "\n",
      " 98%|█████████▊| 984/1000 [08:05<00:07,  2.14it/s]\u001b[A"
     ]
    },
    {
     "name": "stdout",
     "output_type": "stream",
     "text": [
      "L2 norm of the background error 0.7752873032769793\n",
      "L2 norm of the error in DA solution 9.313706520865034e-17\n",
      "[45048, 8373, 80291, 44651, 16534, 6166, 42411, 39780, 19370, 39244]\n"
     ]
    },
    {
     "name": "stderr",
     "output_type": "stream",
     "text": [
      "\n",
      " 98%|█████████▊| 985/1000 [08:06<00:07,  2.14it/s]\u001b[A"
     ]
    },
    {
     "name": "stdout",
     "output_type": "stream",
     "text": [
      "L2 norm of the background error 0.4026437831857074\n",
      "L2 norm of the error in DA solution 1.1493117108917784e-17\n",
      "[42014, 49461, 50494, 47616, 20460, 28057, 69091, 37216, 18680, 20748]\n"
     ]
    },
    {
     "name": "stderr",
     "output_type": "stream",
     "text": [
      "\n",
      " 99%|█████████▊| 986/1000 [08:06<00:06,  2.14it/s]\u001b[A"
     ]
    },
    {
     "name": "stdout",
     "output_type": "stream",
     "text": [
      "L2 norm of the background error 0.48232373528782113\n",
      "L2 norm of the error in DA solution 8.228779467484391e-18\n",
      "[43744, 8701, 53644, 44651, 48009, 10796, 68368, 45390, 13403, 58288]\n"
     ]
    },
    {
     "name": "stderr",
     "output_type": "stream",
     "text": [
      "\n",
      " 99%|█████████▊| 987/1000 [08:07<00:06,  2.15it/s]\u001b[A"
     ]
    },
    {
     "name": "stdout",
     "output_type": "stream",
     "text": [
      "L2 norm of the background error 0.727340395896799\n",
      "L2 norm of the error in DA solution 2.8188312571881015e-17\n",
      "[39142, 53048, 87893, 44651, 6436, 15410, 42993, 43285, 29543, 28826]\n"
     ]
    },
    {
     "name": "stderr",
     "output_type": "stream",
     "text": [
      "\n",
      " 99%|█████████▉| 988/1000 [08:07<00:05,  2.07it/s]\u001b[A"
     ]
    },
    {
     "name": "stdout",
     "output_type": "stream",
     "text": [
      "L2 norm of the background error 1.101287480974833\n",
      "L2 norm of the error in DA solution 6.950391951098719e-17\n",
      "[71393, 46629, 80161, 44651, 82371, 49437, 50845, 24742, 30139, 48033]\n"
     ]
    },
    {
     "name": "stderr",
     "output_type": "stream",
     "text": [
      "\n",
      " 99%|█████████▉| 989/1000 [08:08<00:05,  2.06it/s]\u001b[A"
     ]
    },
    {
     "name": "stdout",
     "output_type": "stream",
     "text": [
      "L2 norm of the background error 0.6041178352490814\n",
      "L2 norm of the error in DA solution 2.6288193240500792e-17\n",
      "[62677, 17858, 57663, 47616, 47734, 35090, 69428, 148, 1095, 29544]\n"
     ]
    },
    {
     "name": "stderr",
     "output_type": "stream",
     "text": [
      "\n",
      " 99%|█████████▉| 990/1000 [08:08<00:04,  2.09it/s]\u001b[A"
     ]
    },
    {
     "name": "stdout",
     "output_type": "stream",
     "text": [
      "L2 norm of the background error 0.6785598437672079\n",
      "L2 norm of the error in DA solution 8.098520715243445e-17\n",
      "[43153, 77760, 66901, 47616, 75175, 90341, 22258, 68505, 725, 19637]\n"
     ]
    },
    {
     "name": "stderr",
     "output_type": "stream",
     "text": [
      "\n",
      " 99%|█████████▉| 991/1000 [08:09<00:04,  2.10it/s]\u001b[A"
     ]
    },
    {
     "name": "stdout",
     "output_type": "stream",
     "text": [
      "L2 norm of the background error 0.834173390527721\n",
      "L2 norm of the error in DA solution 8.697610719210832e-17\n",
      "[69226, 37874, 68907, 47616, 22974, 4739, 93797, 57733, 14718, 57545]\n"
     ]
    },
    {
     "name": "stderr",
     "output_type": "stream",
     "text": [
      "\n",
      " 99%|█████████▉| 992/1000 [08:09<00:03,  2.11it/s]\u001b[A"
     ]
    },
    {
     "name": "stdout",
     "output_type": "stream",
     "text": [
      "L2 norm of the background error 0.6890266882320633\n",
      "L2 norm of the error in DA solution 4.139475058709172e-17\n",
      "[45048, 89743, 66654, 47616, 58253, 33835, 28314, 52742, 2241, 10060]\n"
     ]
    },
    {
     "name": "stderr",
     "output_type": "stream",
     "text": [
      "\n",
      " 99%|█████████▉| 993/1000 [08:10<00:03,  2.11it/s]\u001b[A"
     ]
    },
    {
     "name": "stdout",
     "output_type": "stream",
     "text": [
      "L2 norm of the background error 0.6322447361714025\n",
      "L2 norm of the error in DA solution 2.3694072550515974e-17\n",
      "[13877, 44719, 14916, 47616, 11634, 51650, 58839, 28829, 8777, 56369]\n"
     ]
    },
    {
     "name": "stderr",
     "output_type": "stream",
     "text": [
      "\n",
      " 99%|█████████▉| 994/1000 [08:10<00:02,  2.12it/s]\u001b[A"
     ]
    },
    {
     "name": "stdout",
     "output_type": "stream",
     "text": [
      "L2 norm of the background error 0.6334670728645717\n",
      "L2 norm of the error in DA solution 4.780720596712172e-17\n",
      "[61892, 46629, 110, 47616, 52828, 65812, 56384, 78492, 32487, 43430]\n"
     ]
    },
    {
     "name": "stderr",
     "output_type": "stream",
     "text": [
      "\n",
      "100%|█████████▉| 995/1000 [08:11<00:02,  2.05it/s]\u001b[A"
     ]
    },
    {
     "name": "stdout",
     "output_type": "stream",
     "text": [
      "L2 norm of the background error 0.7785718297643258\n",
      "L2 norm of the error in DA solution 8.394564978687876e-17\n",
      "[70492, 74087, 88305, 44651, 52430, 6637, 17947, 48797, 21993, 6861]\n"
     ]
    },
    {
     "name": "stderr",
     "output_type": "stream",
     "text": [
      "\n",
      "100%|█████████▉| 996/1000 [08:11<00:01,  2.08it/s]\u001b[A"
     ]
    },
    {
     "name": "stdout",
     "output_type": "stream",
     "text": [
      "L2 norm of the background error 0.491131728990939\n",
      "L2 norm of the error in DA solution 5.887733413246084e-17\n",
      "[13358, 56677, 66686, 44651, 52430, 36473, 57234, 51147, 40170, 1501]\n"
     ]
    },
    {
     "name": "stderr",
     "output_type": "stream",
     "text": [
      "\n",
      "100%|█████████▉| 997/1000 [08:12<00:01,  2.05it/s]\u001b[A"
     ]
    },
    {
     "name": "stdout",
     "output_type": "stream",
     "text": [
      "L2 norm of the background error 0.3908139723566954\n",
      "L2 norm of the error in DA solution 3.015635049075385e-17\n",
      "[64388, 43346, 50612, 47616, 20460, 36059, 74634, 19943, 38921, 6578]\n"
     ]
    },
    {
     "name": "stderr",
     "output_type": "stream",
     "text": [
      "\n",
      "100%|█████████▉| 998/1000 [08:12<00:00,  2.08it/s]\u001b[A"
     ]
    },
    {
     "name": "stdout",
     "output_type": "stream",
     "text": [
      "L2 norm of the background error 1.292831648199937\n",
      "L2 norm of the error in DA solution 1.3255429591986974e-16\n",
      "[20822, 74749, 49965, 44651, 12495, 20598, 20151, 15875, 3078, 62706]\n"
     ]
    },
    {
     "name": "stderr",
     "output_type": "stream",
     "text": [
      "\n",
      "100%|█████████▉| 999/1000 [08:13<00:00,  2.11it/s]\u001b[A"
     ]
    },
    {
     "name": "stdout",
     "output_type": "stream",
     "text": [
      "L2 norm of the background error 0.6382510293937471\n",
      "L2 norm of the error in DA solution 5.437741343543121e-18\n",
      "[93429, 49656, 18377, 47616, 1466, 46732, 63324, 51465, 35095, 12321]\n"
     ]
    },
    {
     "name": "stderr",
     "output_type": "stream",
     "text": [
      "\n",
      "100%|██████████| 1000/1000 [08:13<00:00,  2.11it/s]\u001b[A"
     ]
    },
    {
     "name": "stdout",
     "output_type": "stream",
     "text": [
      "L2 norm of the background error 0.6011059918733198\n",
      "L2 norm of the error in DA solution 1.0778129133201316e-16\n"
     ]
    }
   ],
   "source": [
    "n_rand = 1000\n",
    "DA_results_rand = dict()\n",
    "#A_ball = ball_set(indLoc, loc_df,radius=5)\n",
    "for n in tqdm.tqdm(range(n_rand)):\n",
    "    DA_results_rand[n] = dict()\n",
    "    s = time.time()\n",
    "    DA_results_rand[n]['indLoc'] = randomise_set(A_ball)   \n",
    "    DA_results_rand[n]['MSExb'], DA_results_rand[n]['MSExDA'] = data_assimilation(DA_results_rand[n]['indLoc'],Z)\n",
    "    DA_results_rand[n]['time'] = time.time() - s"
   ]
  },
  {
   "cell_type": "code",
   "execution_count": null,
   "metadata": {},
   "outputs": [],
   "source": []
  },
  {
   "cell_type": "code",
   "execution_count": 148,
   "metadata": {},
   "outputs": [],
   "source": [
    "MSExDA_mean = []\n",
    "MSExDA_std = 0\n",
    "MSExb_mean = []\n",
    "MSExb_std = 0\n",
    "MSE_xDA_b = []\n",
    "MSE_xDA_b_mean = 0\n",
    "MSE_xDA_b_std = 0\n",
    "\n",
    "for i in DA_results_rand:\n",
    "    MSExDA_mean.append(DA_results_rand[i]['MSExDA'])\n",
    "    MSExb_mean.append(DA_results_rand[i]['MSExb'])\n",
    "    MSE_xDA_b.append(DA_results_rand[i]['MSExb'] - DA_results_rand[i]['MSExDA'])\n",
    "\n",
    "MSExDA_std = np.std(MSExDA_mean)\n",
    "MSExDA_mean = np.mean(MSExDA_mean)\n",
    "\n",
    "MSExb_std = np.std(MSExb_mean)\n",
    "MSExb_mean = np.mean(MSExb_mean)\n",
    "\n",
    "MSE_xDA_b_std = np.std(MSE_xDA_b)\n",
    "MSE_xDA_b_mean = np.mean(MSE_xDA_b)\n"
   ]
  },
  {
   "cell_type": "code",
   "execution_count": 149,
   "metadata": {},
   "outputs": [
    {
     "data": {
      "text/plain": [
       "(6.684357982092262e-17, 4.945878862675774e-17)"
      ]
     },
     "execution_count": 149,
     "metadata": {},
     "output_type": "execute_result"
    }
   ],
   "source": [
    "MSExDA_mean, MSExDA_std"
   ]
  },
  {
   "cell_type": "code",
   "execution_count": 150,
   "metadata": {},
   "outputs": [
    {
     "data": {
      "text/plain": [
       "(0.6725417891658496, 0.21479092536782593)"
      ]
     },
     "execution_count": 150,
     "metadata": {},
     "output_type": "execute_result"
    }
   ],
   "source": [
    "MSExb_mean, MSExb_std"
   ]
  },
  {
   "cell_type": "code",
   "execution_count": 151,
   "metadata": {},
   "outputs": [
    {
     "data": {
      "text/plain": [
       "(0.6725417891658496, 0.2147909253678259)"
      ]
     },
     "execution_count": 151,
     "metadata": {},
     "output_type": "execute_result"
    }
   ],
   "source": [
    "MSE_xDA_b_mean, MSE_xDA_b_std"
   ]
  },
  {
   "cell_type": "code",
   "execution_count": 131,
   "metadata": {},
   "outputs": [
    {
     "data": {
      "text/plain": [
       "0.7251727281675493"
      ]
     },
     "execution_count": 131,
     "metadata": {},
     "output_type": "execute_result"
    }
   ],
   "source": [
    "MSExDA_mean / MSExDA"
   ]
  },
  {
   "cell_type": "code",
   "execution_count": null,
   "metadata": {},
   "outputs": [],
   "source": []
  }
 ],
 "metadata": {
  "kernelspec": {
   "display_name": "Python [conda env:project] *",
   "language": "python",
   "name": "conda-env-project-py"
  },
  "language_info": {
   "codemirror_mode": {
    "name": "ipython",
    "version": 3
   },
   "file_extension": ".py",
   "mimetype": "text/x-python",
   "name": "python",
   "nbconvert_exporter": "python",
   "pygments_lexer": "ipython3",
   "version": "3.6.8"
  }
 },
 "nbformat": 4,
 "nbformat_minor": 2
}
