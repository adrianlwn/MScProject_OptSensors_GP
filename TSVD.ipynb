{
 "cells": [
  {
   "cell_type": "code",
   "execution_count": 1,
   "metadata": {},
   "outputs": [],
   "source": [
    "from utils.data_handling import *\n",
    "from utils.sensor_optimisation_gpy_sparse import *\n",
    "from parameters import *\n",
    "import GPy\n",
    "import scipy.stats\n",
    "\n",
    "import matplotlib.pyplot as plt\n",
    "np.random.seed(101)\n",
    "\n",
    "from sklearn.decomposition import TruncatedSVD"
   ]
  },
  {
   "cell_type": "markdown",
   "metadata": {},
   "source": [
    "### Importing the Tracer Data to Select the Optimisation set S"
   ]
  },
  {
   "cell_type": "code",
   "execution_count": 2,
   "metadata": {},
   "outputs": [
    {
     "data": {
      "text/plain": [
       "{'i_start': 0,\n",
       " 'i_end': 988,\n",
       " 'crop': None,\n",
       " 'field_name': 'Tracer',\n",
       " 'cov_method': 'sample'}"
      ]
     },
     "execution_count": 2,
     "metadata": {},
     "output_type": "execute_result"
    }
   ],
   "source": [
    "parameters['i_end'] = 988\n",
    "parameters['field_name'] = \"Tracer\"\n",
    "parameters\n"
   ]
  },
  {
   "cell_type": "code",
   "execution_count": 3,
   "metadata": {
    "scrolled": false
   },
   "outputs": [
    {
     "name": "stderr",
     "output_type": "stream",
     "text": [
      "100%|██████████| 1/1 [00:00<00:00,  6.08it/s]"
     ]
    },
    {
     "name": "stdout",
     "output_type": "stream",
     "text": [
      "### Loading files from original VTU\n",
      "==> Import vtu files from 0 to 0\n"
     ]
    },
    {
     "name": "stderr",
     "output_type": "stream",
     "text": [
      "\n"
     ]
    },
    {
     "name": "stdout",
     "output_type": "stream",
     "text": [
      "Number of Locations after cropping :  100040\n",
      "==> Loading from : ../data/temp_data/cache_0_988_None/loc_Tracer.pkl\n",
      "==> Loading from : ../data/temp_data/cache_0_988_None/time_Tracer.pkl\n",
      "==> Loading from : ../data/temp_data/cache_0_988_None/data_Tracer.pkl\n"
     ]
    }
   ],
   "source": [
    "loaded = initial_load_data(parameters, recompute=False)\n",
    "ref_vtu, data_df, loc_df, time_df = loaded"
   ]
  },
  {
   "cell_type": "markdown",
   "metadata": {},
   "source": [
    "### Working subset of the data : set S"
   ]
  },
  {
   "cell_type": "code",
   "execution_count": 4,
   "metadata": {},
   "outputs": [
    {
     "name": "stdout",
     "output_type": "stream",
     "text": [
      "The remaining number of points is :  57725\n"
     ]
    }
   ],
   "source": [
    "S = working_subset(data_df, loc_df, nbins = (25,25,25), threshold_sum = 10**-2 )"
   ]
  },
  {
   "cell_type": "markdown",
   "metadata": {},
   "source": [
    "### Import the Field of interest for computing the optimisation : TracerBackground / Pressure"
   ]
  },
  {
   "cell_type": "code",
   "execution_count": 5,
   "metadata": {},
   "outputs": [
    {
     "data": {
      "text/plain": [
       "{'i_start': 0,\n",
       " 'i_end': 988,\n",
       " 'crop': None,\n",
       " 'field_name': 'Tracer',\n",
       " 'cov_method': 'sample'}"
      ]
     },
     "execution_count": 5,
     "metadata": {},
     "output_type": "execute_result"
    }
   ],
   "source": [
    "parameters['i_end'] = 988\n",
    "parameters['field_name'] = \"Tracer\"\n",
    "parameters\n"
   ]
  },
  {
   "cell_type": "code",
   "execution_count": 6,
   "metadata": {},
   "outputs": [
    {
     "name": "stderr",
     "output_type": "stream",
     "text": [
      "100%|██████████| 1/1 [00:00<00:00,  7.14it/s]"
     ]
    },
    {
     "name": "stdout",
     "output_type": "stream",
     "text": [
      "### Loading files from original VTU\n",
      "==> Import vtu files from 0 to 0\n"
     ]
    },
    {
     "name": "stderr",
     "output_type": "stream",
     "text": [
      "\n"
     ]
    },
    {
     "name": "stdout",
     "output_type": "stream",
     "text": [
      "Number of Locations after cropping :  100040\n",
      "==> Loading from : ../data/temp_data/cache_0_988_None/loc_Tracer.pkl\n",
      "==> Loading from : ../data/temp_data/cache_0_988_None/time_Tracer.pkl\n",
      "==> Loading from : ../data/temp_data/cache_0_988_None/data_Tracer.pkl\n"
     ]
    }
   ],
   "source": [
    "loaded = initial_load_data(parameters, recompute=False)\n",
    "ref_vtu, data_df, loc_df, time_df = loaded"
   ]
  },
  {
   "cell_type": "code",
   "execution_count": 7,
   "metadata": {},
   "outputs": [
    {
     "data": {
      "text/plain": [
       "(57725, 989)"
      ]
     },
     "execution_count": 7,
     "metadata": {},
     "output_type": "execute_result"
    }
   ],
   "source": [
    "X = loc_df.values[S,:] #[I,:dim]\n",
    "Z = data_df.values[S,:]#[:,t].reshape(-1,1) # [I,t].reshape(-1,1)\n",
    "Z.shape"
   ]
  },
  {
   "cell_type": "markdown",
   "metadata": {},
   "source": [
    "### Detrending Data : \n",
    "Plotting the data along each direction in order to see if there is a obvious trend. It seams that it is not the case. "
   ]
  },
  {
   "cell_type": "code",
   "execution_count": 8,
   "metadata": {},
   "outputs": [
    {
     "data": {
      "text/plain": [
       "<matplotlib.collections.PathCollection at 0x7fddd712a978>"
      ]
     },
     "execution_count": 8,
     "metadata": {},
     "output_type": "execute_result"
    },
    {
     "data": {
      "image/png": "[encoded data removed]",
      "text/plain": [
       "<Figure size 432x288 with 1 Axes>"
      ]
     },
     "metadata": {
      "needs_background": "light"
     },
     "output_type": "display_data"
    }
   ],
   "source": [
    "plt.scatter(X[:,0],Z[:,988])\n",
    "#plt.scatter(X[:,1],Z)\n",
    "#plt.scatter(X[:,2],Z)"
   ]
  },
  {
   "cell_type": "markdown",
   "metadata": {},
   "source": [
    "Temporal Analysis : "
   ]
  },
  {
   "cell_type": "code",
   "execution_count": 9,
   "metadata": {},
   "outputs": [],
   "source": [
    "# Threshold bellow which everything is zero : \n",
    "thresh = 0.0001"
   ]
  },
  {
   "cell_type": "code",
   "execution_count": 10,
   "metadata": {},
   "outputs": [
    {
     "data": {
      "text/plain": [
       "[<matplotlib.lines.Line2D at 0x7fdddd9ff0b8>]"
      ]
     },
     "execution_count": 10,
     "metadata": {},
     "output_type": "execute_result"
    },
    {
     "data": {
      "image/png": "[encoded data removed]",
      "text/plain": [
       "<Figure size 432x288 with 1 Axes>"
      ]
     },
     "metadata": {
      "needs_background": "light"
     },
     "output_type": "display_data"
    }
   ],
   "source": [
    "# plot of the non zero elements in function of the time \n",
    "plt.plot(np.sum(Z>=thresh,axis=0))"
   ]
  },
  {
   "cell_type": "code",
   "execution_count": 11,
   "metadata": {},
   "outputs": [
    {
     "data": {
      "text/plain": [
       "(57725, 789)"
      ]
     },
     "execution_count": 11,
     "metadata": {},
     "output_type": "execute_result"
    }
   ],
   "source": [
    "Z[Z<thresh] = 0\n",
    "Z = Z[:,200:]\n",
    "Z.shape"
   ]
  },
  {
   "cell_type": "markdown",
   "metadata": {},
   "source": [
    "What should I do : \n",
    "- Cut the time at 200: ?\n",
    "- replace the values bellow the threshold by 0 ? \n"
   ]
  },
  {
   "cell_type": "code",
   "execution_count": 12,
   "metadata": {},
   "outputs": [],
   "source": [
    "Z = (Z - Z.mean(axis=1,keepdims=True))"
   ]
  },
  {
   "cell_type": "markdown",
   "metadata": {},
   "source": [
    "### TSVD : \n"
   ]
  },
  {
   "cell_type": "code",
   "execution_count": null,
   "metadata": {},
   "outputs": [],
   "source": [
    "Sample_cov = Z @ Z.T"
   ]
  },
  {
   "cell_type": "code",
   "execution_count": 39,
   "metadata": {},
   "outputs": [
    {
     "data": {
      "text/plain": [
       "(8, 10)"
      ]
     },
     "execution_count": 39,
     "metadata": {},
     "output_type": "execute_result"
    }
   ],
   "source": [
    "y = np.zeros((10,10))\n",
    "np.delete(y,[1,2],axis=0).shape"
   ]
  },
  {
   "cell_type": "code",
   "execution_count": 82,
   "metadata": {},
   "outputs": [
    {
     "data": {
      "text/plain": [
       "(999, 989)"
      ]
     },
     "execution_count": 82,
     "metadata": {},
     "output_type": "execute_result"
    }
   ],
   "source": [
    "y = 10\n",
    "Z_y = Z[y,:]\n",
    "Z_A = np.delete(Z[:1000,:],[y],axis=0)\n",
    "Z_A.shape"
   ]
  },
  {
   "cell_type": "code",
   "execution_count": 45,
   "metadata": {},
   "outputs": [
    {
     "data": {
      "text/plain": [
       "(1, 789)"
      ]
     },
     "execution_count": 45,
     "metadata": {},
     "output_type": "execute_result"
    }
   ],
   "source": [
    "Z[1,:].reshape(1,-1).shape"
   ]
  },
  {
   "cell_type": "code",
   "execution_count": 16,
   "metadata": {},
   "outputs": [
    {
     "name": "stderr",
     "output_type": "stream",
     "text": [
      "\n",
      "  0%|          | 0/1000 [00:00<?, ?it/s]\u001b[A\n",
      "  1%|          | 10/1000 [00:00<00:10, 94.37it/s]\u001b[A\n",
      "  2%|▏         | 22/1000 [00:00<00:09, 99.14it/s]\u001b[A\n",
      "  3%|▎         | 31/1000 [00:00<00:10, 95.66it/s]\u001b[A\n",
      "  4%|▍         | 43/1000 [00:00<00:09, 99.77it/s]\u001b[A\n",
      "  6%|▌         | 55/1000 [00:00<00:09, 103.15it/s]\u001b[A\n",
      "  7%|▋         | 67/1000 [00:00<00:08, 105.36it/s]\u001b[A\n",
      "  8%|▊         | 78/1000 [00:00<00:08, 105.47it/s]\u001b[A\n",
      "  9%|▉         | 90/1000 [00:00<00:08, 107.77it/s]\u001b[A\n",
      " 10%|█         | 102/1000 [00:00<00:08, 109.82it/s]\u001b[A\n",
      " 11%|█▏        | 114/1000 [00:01<00:07, 111.21it/s]\u001b[A\n",
      " 13%|█▎        | 126/1000 [00:01<00:07, 112.17it/s]\u001b[A\n",
      " 14%|█▍        | 138/1000 [00:01<00:07, 112.73it/s]\u001b[A\n",
      " 15%|█▌        | 150/1000 [00:01<00:07, 113.28it/s]\u001b[A\n",
      " 16%|█▌        | 162/1000 [00:01<00:07, 113.59it/s]\u001b[A\n",
      " 17%|█▋        | 174/1000 [00:01<00:07, 113.86it/s]\u001b[A\n",
      " 19%|█▊        | 186/1000 [00:01<00:07, 113.43it/s]\u001b[A\n",
      " 20%|█▉        | 198/1000 [00:01<00:07, 112.93it/s]\u001b[A\n",
      " 21%|██        | 210/1000 [00:01<00:07, 112.72it/s]\u001b[A\n",
      " 22%|██▏       | 222/1000 [00:02<00:06, 112.60it/s]\u001b[A\n",
      " 23%|██▎       | 234/1000 [00:02<00:06, 112.59it/s]\u001b[A\n",
      " 25%|██▍       | 246/1000 [00:02<00:06, 112.53it/s]\u001b[A\n",
      " 26%|██▌       | 258/1000 [00:02<00:06, 112.40it/s]\u001b[A\n",
      " 27%|██▋       | 270/1000 [00:02<00:06, 112.29it/s]\u001b[A\n",
      " 28%|██▊       | 282/1000 [00:02<00:06, 112.35it/s]\u001b[A\n",
      " 29%|██▉       | 294/1000 [00:02<00:06, 103.95it/s]\u001b[A\n",
      " 30%|███       | 305/1000 [00:02<00:06, 101.00it/s]\u001b[A\n",
      " 32%|███▏      | 317/1000 [00:02<00:06, 104.05it/s]\u001b[A\n",
      " 33%|███▎      | 329/1000 [00:03<00:06, 106.82it/s]\u001b[A\n",
      " 34%|███▍      | 341/1000 [00:03<00:06, 108.87it/s]\u001b[A\n",
      " 35%|███▌      | 353/1000 [00:03<00:05, 110.33it/s]\u001b[A\n",
      " 36%|███▋      | 365/1000 [00:03<00:05, 111.31it/s]\u001b[A\n",
      " 38%|███▊      | 377/1000 [00:03<00:05, 112.05it/s]\u001b[A\n",
      " 39%|███▉      | 389/1000 [00:03<00:05, 112.60it/s]\u001b[A\n",
      " 40%|████      | 401/1000 [00:03<00:05, 112.98it/s]\u001b[A\n",
      " 41%|████▏     | 413/1000 [00:03<00:05, 113.25it/s]\u001b[A\n",
      " 42%|████▎     | 425/1000 [00:03<00:05, 113.28it/s]\u001b[A\n",
      " 44%|████▎     | 437/1000 [00:03<00:04, 113.40it/s]\u001b[A\n",
      " 45%|████▍     | 449/1000 [00:04<00:04, 113.50it/s]\u001b[A\n",
      " 46%|████▌     | 461/1000 [00:04<00:04, 113.59it/s]\u001b[A\n",
      " 47%|████▋     | 473/1000 [00:04<00:04, 113.67it/s]\u001b[A\n",
      " 48%|████▊     | 485/1000 [00:04<00:04, 113.75it/s]\u001b[A\n",
      " 50%|████▉     | 497/1000 [00:04<00:04, 113.79it/s]\u001b[A\n",
      " 51%|█████     | 509/1000 [00:04<00:04, 113.79it/s]\u001b[A\n",
      " 52%|█████▏    | 521/1000 [00:04<00:04, 113.77it/s]\u001b[A\n",
      " 53%|█████▎    | 533/1000 [00:04<00:04, 113.80it/s]\u001b[A\n",
      " 55%|█████▍    | 545/1000 [00:04<00:03, 113.83it/s]\u001b[A\n",
      " 56%|█████▌    | 557/1000 [00:05<00:03, 113.78it/s]\u001b[A\n",
      " 57%|█████▋    | 569/1000 [00:05<00:03, 113.77it/s]\u001b[A\n",
      " 58%|█████▊    | 581/1000 [00:05<00:03, 113.70it/s]\u001b[A\n",
      " 59%|█████▉    | 593/1000 [00:05<00:03, 113.49it/s]\u001b[A\n",
      " 60%|██████    | 605/1000 [00:05<00:03, 113.60it/s]\u001b[A\n",
      " 62%|██████▏   | 617/1000 [00:05<00:03, 113.58it/s]\u001b[A\n",
      " 63%|██████▎   | 629/1000 [00:05<00:03, 113.64it/s]\u001b[A\n",
      " 64%|██████▍   | 641/1000 [00:05<00:03, 113.70it/s]\u001b[A\n",
      " 65%|██████▌   | 653/1000 [00:05<00:03, 113.13it/s]\u001b[A\n",
      " 66%|██████▋   | 665/1000 [00:05<00:02, 113.33it/s]\u001b[A\n",
      " 68%|██████▊   | 677/1000 [00:06<00:02, 113.55it/s]\u001b[A\n",
      " 69%|██████▉   | 689/1000 [00:06<00:02, 114.40it/s]\u001b[A\n",
      " 70%|███████   | 701/1000 [00:06<00:02, 115.05it/s]\u001b[A\n",
      " 71%|███████▏  | 713/1000 [00:06<00:02, 115.36it/s]\u001b[A\n",
      " 72%|███████▎  | 725/1000 [00:06<00:02, 114.20it/s]\u001b[A\n",
      " 74%|███████▎  | 737/1000 [00:06<00:02, 114.69it/s]\u001b[A\n",
      " 75%|███████▍  | 749/1000 [00:06<00:02, 115.18it/s]\u001b[A\n",
      " 76%|███████▌  | 761/1000 [00:06<00:02, 115.57it/s]\u001b[A\n",
      " 77%|███████▋  | 773/1000 [00:06<00:01, 115.83it/s]\u001b[A\n",
      " 78%|███████▊  | 785/1000 [00:07<00:01, 116.06it/s]\u001b[A\n",
      " 80%|███████▉  | 797/1000 [00:07<00:01, 116.24it/s]\u001b[A\n",
      " 81%|████████  | 809/1000 [00:07<00:01, 116.27it/s]\u001b[A\n",
      " 82%|████████▏ | 821/1000 [00:07<00:01, 116.38it/s]\u001b[A\n",
      " 83%|████████▎ | 833/1000 [00:07<00:01, 116.40it/s]\u001b[A\n",
      " 84%|████████▍ | 845/1000 [00:07<00:01, 116.43it/s]\u001b[A\n",
      " 86%|████████▌ | 857/1000 [00:07<00:01, 116.41it/s]\u001b[A\n",
      " 87%|████████▋ | 869/1000 [00:07<00:01, 116.46it/s]\u001b[A\n",
      " 88%|████████▊ | 881/1000 [00:07<00:01, 116.46it/s]\u001b[A\n",
      " 89%|████████▉ | 893/1000 [00:07<00:00, 116.37it/s]\u001b[A\n",
      " 90%|█████████ | 905/1000 [00:08<00:00, 116.40it/s]\u001b[A\n",
      " 92%|█████████▏| 917/1000 [00:08<00:00, 116.38it/s]\u001b[A\n",
      " 93%|█████████▎| 929/1000 [00:08<00:00, 116.42it/s]\u001b[A\n",
      " 94%|█████████▍| 941/1000 [00:08<00:00, 116.44it/s]\u001b[A\n",
      " 95%|█████████▌| 953/1000 [00:08<00:00, 116.35it/s]\u001b[A\n",
      " 96%|█████████▋| 965/1000 [00:08<00:00, 116.37it/s]\u001b[A\n",
      " 98%|█████████▊| 977/1000 [00:08<00:00, 116.42it/s]\u001b[A\n",
      " 99%|█████████▉| 989/1000 [00:08<00:00, 114.14it/s]\u001b[A\n",
      "100%|██████████| 1000/1000 [00:08<00:00, 112.92it/s]\u001b[A"
     ]
    }
   ],
   "source": [
    "var_y = np.zeros(1000)\n",
    "var_y_gp = np.zeros(1000)\n",
    "\n",
    "tsvd = TruncatedSVD(n_components=50)\n",
    "for y in tqdm.tqdm(range(1000)):\n",
    "    Z_y = Z[y,:]\n",
    "    Z_A = np.delete(Z[:100,:],[y],axis=0)\n",
    "    Z_Atau = tsvd.fit_transform(Z_A.T ).T\n",
    "    var_y[y] = Z_y.T @ Z_y -  Z_y.T @ Z_Atau.T @ np.linalg.inv(Z_Atau @ Z_Atau.T) @ Z_Atau @ Z_y\n",
    "    #var_y_gp[y] = Z_y.T @ Z_y -  Z_y.T @ Z_A.T @ np.linalg.inv(Z_A @ Z_A.T) @ Z_A @ Z_y"
   ]
  },
  {
   "cell_type": "code",
   "execution_count": 18,
   "metadata": {},
   "outputs": [
    {
     "data": {
      "text/plain": [
       "0.0"
      ]
     },
     "execution_count": 18,
     "metadata": {},
     "output_type": "execute_result"
    }
   ],
   "source": [
    "var_y.min()"
   ]
  },
  {
   "cell_type": "code",
   "execution_count": 19,
   "metadata": {},
   "outputs": [
    {
     "data": {
      "text/plain": [
       "[<matplotlib.lines.Line2D at 0x7fddd7655ef0>]"
      ]
     },
     "execution_count": 19,
     "metadata": {},
     "output_type": "execute_result"
    },
    {
     "data": {
      "image/png": "[encoded data removed]",
      "text/plain": [
       "<Figure size 432x288 with 1 Axes>"
      ]
     },
     "metadata": {
      "needs_background": "light"
     },
     "output_type": "display_data"
    }
   ],
   "source": [
    "plt.plot(tsvd.singular_values_)"
   ]
  },
  {
   "cell_type": "code",
   "execution_count": null,
   "metadata": {},
   "outputs": [],
   "source": [
    "eig = np.linalg.eigvalsh(Sample_cov)"
   ]
  },
  {
   "cell_type": "code",
   "execution_count": null,
   "metadata": {},
   "outputs": [],
   "source": [
    "eig"
   ]
  },
  {
   "cell_type": "code",
   "execution_count": null,
   "metadata": {},
   "outputs": [],
   "source": []
  }
 ],
 "metadata": {
  "kernelspec": {
   "display_name": "Python [conda env:project] *",
   "language": "python",
   "name": "conda-env-project-py"
  },
  "language_info": {
   "codemirror_mode": {
    "name": "ipython",
    "version": 3
   },
   "file_extension": ".py",
   "mimetype": "text/x-python",
   "name": "python",
   "nbconvert_exporter": "python",
   "pygments_lexer": "ipython3",
   "version": "3.6.8"
  }
 },
 "nbformat": 4,
 "nbformat_minor": 2
}
