{
 "cells": [
  {
   "cell_type": "code",
   "execution_count": 16,
   "metadata": {},
   "outputs": [],
   "source": [
    "from utils.data_handling import *\n",
    "from utils.sensor_optimisation_tsvd import *\n",
    "from parameters import *\n",
    "import GPy\n",
    "import scipy.stats\n",
    "import time\n",
    "\n",
    "import matplotlib.pyplot as plt\n",
    "np.random.seed(101)\n",
    "\n"
   ]
  },
  {
   "cell_type": "markdown",
   "metadata": {},
   "source": [
    "### Importing the Tracer Data to Select the Optimisation set S"
   ]
  },
  {
   "cell_type": "code",
   "execution_count": 2,
   "metadata": {},
   "outputs": [
    {
     "data": {
      "text/plain": [
       "{'i_start': 0,\n",
       " 'i_end': 988,\n",
       " 'crop': None,\n",
       " 'field_name': 'Tracer',\n",
       " 'cov_method': 'sample'}"
      ]
     },
     "execution_count": 2,
     "metadata": {},
     "output_type": "execute_result"
    }
   ],
   "source": [
    "parameters['field_name'] = \"Tracer\"\n",
    "parameters\n"
   ]
  },
  {
   "cell_type": "code",
   "execution_count": 3,
   "metadata": {
    "scrolled": false
   },
   "outputs": [
    {
     "name": "stderr",
     "output_type": "stream",
     "text": [
      "100%|██████████| 1/1 [00:00<00:00,  6.41it/s]"
     ]
    },
    {
     "name": "stdout",
     "output_type": "stream",
     "text": [
      "### Loading files from original VTU\n",
      "==> Import vtu files from 0 to 0\n"
     ]
    },
    {
     "name": "stderr",
     "output_type": "stream",
     "text": [
      "\n"
     ]
    },
    {
     "name": "stdout",
     "output_type": "stream",
     "text": [
      "Number of Locations after cropping :  100040\n",
      "==> Loading from : ../data/temp_data/cache_0_988_None/loc_Tracer.pkl\n",
      "==> Loading from : ../data/temp_data/cache_0_988_None/time_Tracer.pkl\n",
      "==> Loading from : ../data/temp_data/cache_0_988_None/data_Tracer.pkl\n"
     ]
    }
   ],
   "source": [
    "loaded = initial_load_data(parameters, recompute=False)\n",
    "ref_vtu, data_df, loc_df, time_df = loaded"
   ]
  },
  {
   "cell_type": "markdown",
   "metadata": {},
   "source": [
    "### Working subset of the data : set S"
   ]
  },
  {
   "cell_type": "code",
   "execution_count": 4,
   "metadata": {},
   "outputs": [
    {
     "name": "stdout",
     "output_type": "stream",
     "text": [
      "The remaining number of points is :  37847\n"
     ]
    }
   ],
   "source": [
    "S_human = human_level_subset(buildingshape, loc_df, 2,1 )\n",
    "print(\"The remaining number of points is : \", str(len(S_human)))"
   ]
  },
  {
   "cell_type": "code",
   "execution_count": 5,
   "metadata": {},
   "outputs": [
    {
     "name": "stdout",
     "output_type": "stream",
     "text": [
      "The remaining number of points is :  57725\n"
     ]
    }
   ],
   "source": [
    "S_working = working_subset(data_df, loc_df, nbins = (25,25,25), threshold_sum = 10**-2 )\n",
    "print(\"The remaining number of points is : \", str(len(S_working)))"
   ]
  },
  {
   "cell_type": "code",
   "execution_count": 6,
   "metadata": {},
   "outputs": [
    {
     "name": "stdout",
     "output_type": "stream",
     "text": [
      "The remaining number of points is :  23643\n"
     ]
    }
   ],
   "source": [
    "S = np.intersect1d(S_human,S_working)\n",
    "print(\"The remaining number of points is : \", str(len(S)))"
   ]
  },
  {
   "cell_type": "code",
   "execution_count": 7,
   "metadata": {},
   "outputs": [],
   "source": [
    "#A_list = set_to_onehot(S,data_df.shape[0])\n",
    "#save_vtu(ref_vtu[0],'FinalSelection',A_list)"
   ]
  },
  {
   "cell_type": "markdown",
   "metadata": {},
   "source": [
    "### Import the Field of interest for computing the optimisation : TracerBackground / Pressure"
   ]
  },
  {
   "cell_type": "code",
   "execution_count": 8,
   "metadata": {},
   "outputs": [
    {
     "data": {
      "text/plain": [
       "{'i_start': 0,\n",
       " 'i_end': 988,\n",
       " 'crop': None,\n",
       " 'field_name': 'Tracer',\n",
       " 'cov_method': 'sample'}"
      ]
     },
     "execution_count": 8,
     "metadata": {},
     "output_type": "execute_result"
    }
   ],
   "source": [
    "parameters['i_end'] = 988\n",
    "parameters['field_name'] = \"Tracer\"\n",
    "parameters\n"
   ]
  },
  {
   "cell_type": "code",
   "execution_count": 9,
   "metadata": {},
   "outputs": [
    {
     "name": "stderr",
     "output_type": "stream",
     "text": [
      "100%|██████████| 1/1 [00:00<00:00,  6.59it/s]"
     ]
    },
    {
     "name": "stdout",
     "output_type": "stream",
     "text": [
      "### Loading files from original VTU\n",
      "==> Import vtu files from 0 to 0\n"
     ]
    },
    {
     "name": "stderr",
     "output_type": "stream",
     "text": [
      "\n"
     ]
    },
    {
     "name": "stdout",
     "output_type": "stream",
     "text": [
      "Number of Locations after cropping :  100040\n",
      "==> Loading from : ../data/temp_data/cache_0_988_None/loc_Tracer.pkl\n",
      "==> Loading from : ../data/temp_data/cache_0_988_None/time_Tracer.pkl\n",
      "==> Loading from : ../data/temp_data/cache_0_988_None/data_Tracer.pkl\n"
     ]
    }
   ],
   "source": [
    "loaded = initial_load_data(parameters, recompute=False)\n",
    "ref_vtu, data_df, loc_df, time_df = loaded"
   ]
  },
  {
   "cell_type": "code",
   "execution_count": 10,
   "metadata": {},
   "outputs": [
    {
     "data": {
      "text/plain": [
       "(100040, 989)"
      ]
     },
     "execution_count": 10,
     "metadata": {},
     "output_type": "execute_result"
    }
   ],
   "source": [
    "X = loc_df.values[:,:] #[I,:dim]\n",
    "Z = data_df.values[:,:]#[:,t].reshape(-1,1) # [I,t].reshape(-1,1)\n",
    "Z.shape"
   ]
  },
  {
   "cell_type": "markdown",
   "metadata": {},
   "source": [
    "### Detrending Data : \n",
    "Plotting the data along each direction in order to see if there is a obvious trend. It seams that it is not the case. "
   ]
  },
  {
   "cell_type": "code",
   "execution_count": 11,
   "metadata": {},
   "outputs": [],
   "source": [
    "Z[S,:] = (Z[S,:]  - Z[S,:].mean(axis=1,keepdims=True))"
   ]
  },
  {
   "cell_type": "markdown",
   "metadata": {},
   "source": [
    "### Sensor Optimisation with TSVD : \n"
   ]
  },
  {
   "cell_type": "markdown",
   "metadata": {},
   "source": [
    "Define the Sets for the optimisation"
   ]
  },
  {
   "cell_type": "code",
   "execution_count": 12,
   "metadata": {},
   "outputs": [],
   "source": [
    "sets = define_sets(S)"
   ]
  },
  {
   "cell_type": "markdown",
   "metadata": {},
   "source": [
    "Number of sensors to place : "
   ]
  },
  {
   "cell_type": "code",
   "execution_count": 13,
   "metadata": {},
   "outputs": [],
   "source": [
    "k = 10"
   ]
  },
  {
   "cell_type": "markdown",
   "metadata": {},
   "source": [
    "Truncation parameteter for the TSVD : "
   ]
  },
  {
   "cell_type": "code",
   "execution_count": 18,
   "metadata": {},
   "outputs": [],
   "source": [
    "tau = 25"
   ]
  },
  {
   "cell_type": "code",
   "execution_count": 19,
   "metadata": {},
   "outputs": [],
   "source": [
    "A_opt = {}"
   ]
  },
  {
   "cell_type": "code",
   "execution_count": null,
   "metadata": {},
   "outputs": [
    {
     "name": "stderr",
     "output_type": "stream",
     "text": [
      "  0%|          | 0/10 [00:00<?, ?it/s]\n",
      "Inner Loop:   0%|          | 0/23643 [00:00<?, ?it/s]\u001b[A\n",
      "Inner Loop:   0%|          | 2/23643 [00:00<1:55:36,  3.41it/s]\u001b[A\n",
      "Inner Loop:   0%|          | 3/23643 [00:01<2:39:05,  2.48it/s]\u001b[A\n",
      "Inner Loop:   0%|          | 4/23643 [00:02<3:27:45,  1.90it/s]\u001b[A\n",
      "Inner Loop:   0%|          | 5/23643 [00:02<3:36:39,  1.82it/s]\u001b[A\n",
      "Inner Loop:   0%|          | 6/23643 [00:03<3:53:41,  1.69it/s]\u001b[A\n",
      "Inner Loop:   0%|          | 7/23643 [00:04<4:00:17,  1.64it/s]\u001b[A\n",
      "Inner Loop:   0%|          | 8/23643 [00:04<4:02:20,  1.63it/s]\u001b[A\n",
      "Inner Loop:   0%|          | 9/23643 [00:05<4:03:16,  1.62it/s]\u001b[A\n",
      "Inner Loop:   0%|          | 10/23643 [00:05<4:03:32,  1.62it/s]\u001b[A\n",
      "Inner Loop:   0%|          | 11/23643 [00:06<4:03:44,  1.62it/s]\u001b[A\n",
      "Inner Loop:   0%|          | 12/23643 [00:07<4:05:08,  1.61it/s]\u001b[A\n",
      "Inner Loop:   0%|          | 13/23643 [00:07<4:04:47,  1.61it/s]\u001b[A\n",
      "Inner Loop:   0%|          | 14/23643 [00:08<4:05:46,  1.60it/s]\u001b[A\n",
      "Inner Loop:   0%|          | 15/23643 [00:09<4:05:14,  1.61it/s]\u001b[A\n",
      "Inner Loop:   0%|          | 16/23643 [00:09<4:04:55,  1.61it/s]\u001b[A\n",
      "Inner Loop:   0%|          | 17/23643 [00:10<4:05:31,  1.60it/s]\u001b[A\n",
      "Inner Loop:   0%|          | 18/23643 [00:10<4:05:10,  1.61it/s]\u001b[A\n",
      "Inner Loop:   0%|          | 19/23643 [00:11<4:05:54,  1.60it/s]\u001b[A\n",
      "Inner Loop:   0%|          | 20/23643 [00:12<4:05:26,  1.60it/s]\u001b[A\n",
      "Inner Loop:   0%|          | 21/23643 [00:12<4:05:02,  1.61it/s]\u001b[A\n",
      "Inner Loop:   0%|          | 22/23643 [00:13<4:05:41,  1.60it/s]\u001b[A\n",
      "Inner Loop:   0%|          | 23/23643 [00:13<4:05:09,  1.61it/s]\u001b[A\n",
      "Inner Loop:   0%|          | 24/23643 [00:14<4:05:48,  1.60it/s]\u001b[A\n",
      "Inner Loop:   0%|          | 25/23643 [00:15<4:05:18,  1.60it/s]\u001b[A\n",
      "Inner Loop:   0%|          | 26/23643 [00:15<4:05:00,  1.61it/s]\u001b[A\n",
      "Inner Loop:   0%|          | 27/23643 [00:16<4:05:37,  1.60it/s]\u001b[A\n",
      "Inner Loop:   0%|          | 28/23643 [00:17<4:05:11,  1.61it/s]\u001b[A\n",
      "Inner Loop:   0%|          | 29/23643 [00:17<4:08:36,  1.58it/s]\u001b[A\n",
      "Inner Loop:   0%|          | 30/23643 [00:18<4:20:39,  1.51it/s]\u001b[A\n",
      "Inner Loop:   0%|          | 31/23643 [00:19<4:11:39,  1.56it/s]\u001b[A\n",
      "Inner Loop:   0%|          | 32/23643 [00:19<4:04:02,  1.61it/s]\u001b[A\n",
      "Inner Loop:   0%|          | 33/23643 [00:20<4:03:58,  1.61it/s]\u001b[A\n",
      "Inner Loop:   0%|          | 34/23643 [00:20<4:04:00,  1.61it/s]\u001b[A\n",
      "Inner Loop:   0%|          | 35/23643 [00:21<4:03:57,  1.61it/s]\u001b[A\n",
      "Inner Loop:   0%|          | 36/23643 [00:22<4:03:50,  1.61it/s]\u001b[A\n",
      "Inner Loop:   0%|          | 37/23643 [00:22<4:03:39,  1.61it/s]\u001b[A\n",
      "Inner Loop:   0%|          | 38/23643 [00:23<3:59:40,  1.64it/s]\u001b[A\n",
      "Inner Loop:   0%|          | 39/23643 [00:23<3:51:50,  1.70it/s]\u001b[A\n",
      "Inner Loop:   0%|          | 40/23643 [00:24<3:47:18,  1.73it/s]\u001b[A\n",
      "Inner Loop:   0%|          | 41/23643 [00:24<3:43:00,  1.76it/s]\u001b[A\n",
      "Inner Loop:   0%|          | 42/23643 [00:25<3:40:16,  1.79it/s]\u001b[A\n",
      "Inner Loop:   0%|          | 43/23643 [00:26<3:39:35,  1.79it/s]\u001b[A\n",
      "Inner Loop:   0%|          | 44/23643 [00:26<3:39:05,  1.80it/s]\u001b[A\n",
      "Inner Loop:   0%|          | 45/23643 [00:27<3:37:22,  1.81it/s]\u001b[A\n",
      "Inner Loop:   0%|          | 46/23643 [00:27<3:36:06,  1.82it/s]\u001b[A\n",
      "Inner Loop:   0%|          | 47/23643 [00:28<3:35:17,  1.83it/s]\u001b[A\n",
      "Inner Loop:   0%|          | 48/23643 [00:28<3:34:36,  1.83it/s]\u001b[A\n",
      "Inner Loop:   0%|          | 49/23643 [00:29<3:34:08,  1.84it/s]\u001b[A\n",
      "Inner Loop:   0%|          | 50/23643 [00:29<3:33:48,  1.84it/s]\u001b[A\n",
      "Inner Loop:   0%|          | 51/23643 [00:30<3:33:37,  1.84it/s]\u001b[A\n",
      "Inner Loop:   0%|          | 52/23643 [00:30<3:33:36,  1.84it/s]\u001b[A\n",
      "Inner Loop:   0%|          | 53/23643 [00:31<3:38:28,  1.80it/s]\u001b[A\n",
      "Inner Loop:   0%|          | 54/23643 [00:32<3:41:58,  1.77it/s]\u001b[A\n",
      "Inner Loop:   0%|          | 55/23643 [00:32<4:02:28,  1.62it/s]\u001b[A\n",
      "Inner Loop:   0%|          | 56/23643 [00:33<4:38:26,  1.41it/s]\u001b[A\n",
      "Inner Loop:   0%|          | 57/23643 [00:34<4:27:15,  1.47it/s]\u001b[A\n",
      "Inner Loop:   0%|          | 58/23643 [00:35<4:23:23,  1.49it/s]\u001b[A\n",
      "Inner Loop:   0%|          | 59/23643 [00:35<4:18:13,  1.52it/s]\u001b[A\n",
      "Inner Loop:   0%|          | 60/23643 [00:36<4:13:21,  1.55it/s]\u001b[A\n",
      "Inner Loop:   0%|          | 61/23643 [00:37<4:23:46,  1.49it/s]\u001b[A\n",
      "Inner Loop:   0%|          | 62/23643 [00:37<4:34:28,  1.43it/s]\u001b[A\n",
      "Inner Loop:   0%|          | 63/23643 [00:38<4:24:15,  1.49it/s]\u001b[A\n",
      "Inner Loop:   0%|          | 64/23643 [00:39<4:17:16,  1.53it/s]\u001b[A\n",
      "Inner Loop:   0%|          | 65/23643 [00:39<4:12:14,  1.56it/s]\u001b[A\n",
      "Inner Loop:   0%|          | 66/23643 [00:40<4:19:36,  1.51it/s]\u001b[A\n",
      "Inner Loop:   0%|          | 67/23643 [00:40<4:13:15,  1.55it/s]\u001b[A\n",
      "Inner Loop:   0%|          | 68/23643 [00:41<4:08:44,  1.58it/s]\u001b[A\n",
      "Inner Loop:   0%|          | 69/23643 [00:42<4:10:03,  1.57it/s]\u001b[A\n",
      "Inner Loop:   0%|          | 70/23643 [00:42<4:08:14,  1.58it/s]\u001b[A\n",
      "Inner Loop:   0%|          | 71/23643 [00:43<4:40:45,  1.40it/s]\u001b[A\n",
      "Inner Loop:   0%|          | 72/23643 [00:44<4:29:47,  1.46it/s]\u001b[A\n",
      "Inner Loop:   0%|          | 73/23643 [00:44<4:13:37,  1.55it/s]\u001b[A\n",
      "Inner Loop:   0%|          | 74/23643 [00:45<4:02:12,  1.62it/s]\u001b[A\n",
      "Inner Loop:   0%|          | 75/23643 [00:45<3:54:12,  1.68it/s]\u001b[A\n",
      "Inner Loop:   0%|          | 76/23643 [00:46<3:51:14,  1.70it/s]\u001b[A\n",
      "Inner Loop:   0%|          | 77/23643 [00:47<3:49:17,  1.71it/s]\u001b[A\n",
      "Inner Loop:   0%|          | 78/23643 [00:47<3:58:06,  1.65it/s]\u001b[A\n",
      "Inner Loop:   0%|          | 79/23643 [00:48<4:11:11,  1.56it/s]\u001b[A\n",
      "Inner Loop:   0%|          | 80/23643 [00:49<4:19:30,  1.51it/s]\u001b[A\n",
      "Inner Loop:   0%|          | 81/23643 [00:49<4:26:07,  1.48it/s]\u001b[A\n",
      "Inner Loop:   0%|          | 82/23643 [00:50<4:26:13,  1.48it/s]\u001b[A\n",
      "Inner Loop:   0%|          | 83/23643 [00:51<4:29:24,  1.46it/s]\u001b[A\n",
      "Inner Loop:   0%|          | 84/23643 [00:52<4:43:27,  1.39it/s]\u001b[A\n",
      "Inner Loop:   0%|          | 85/23643 [00:52<4:46:05,  1.37it/s]\u001b[A\n",
      "Inner Loop:   0%|          | 86/23643 [00:53<4:54:57,  1.33it/s]\u001b[A\n",
      "Inner Loop:   0%|          | 87/23643 [00:54<4:51:25,  1.35it/s]\u001b[A\n",
      "Inner Loop:   0%|          | 88/23643 [00:55<4:47:10,  1.37it/s]\u001b[A\n",
      "Inner Loop:   0%|          | 89/23643 [00:55<4:44:44,  1.38it/s]\u001b[A\n",
      "Inner Loop:   0%|          | 90/23643 [00:56<4:46:45,  1.37it/s]\u001b[A\n",
      "Inner Loop:   0%|          | 91/23643 [00:57<5:39:17,  1.16it/s]\u001b[A\n",
      "Inner Loop:   0%|          | 92/23643 [00:58<5:20:58,  1.22it/s]\u001b[A\n",
      "Inner Loop:   0%|          | 93/23643 [00:59<5:09:47,  1.27it/s]\u001b[A\n",
      "Inner Loop:   0%|          | 94/23643 [00:59<5:08:23,  1.27it/s]\u001b[A\n",
      "Inner Loop:   0%|          | 95/23643 [01:00<5:05:44,  1.28it/s]\u001b[A\n",
      "Inner Loop:   0%|          | 96/23643 [01:01<4:53:02,  1.34it/s]\u001b[A\n",
      "Inner Loop:   0%|          | 97/23643 [01:02<4:45:31,  1.37it/s]\u001b[A\n",
      "Inner Loop:   0%|          | 98/23643 [01:02<4:48:05,  1.36it/s]\u001b[A\n",
      "Inner Loop:   0%|          | 99/23643 [01:03<4:45:39,  1.37it/s]\u001b[A\n",
      "Inner Loop:   0%|          | 100/23643 [01:04<4:39:22,  1.40it/s]\u001b[A\n",
      "Inner Loop:   0%|          | 101/23643 [01:04<4:33:39,  1.43it/s]\u001b[A\n",
      "Inner Loop:   0%|          | 102/23643 [01:05<4:32:50,  1.44it/s]\u001b[A\n",
      "Inner Loop:   0%|          | 103/23643 [01:06<4:36:59,  1.42it/s]\u001b[A\n",
      "Inner Loop:   0%|          | 104/23643 [01:06<4:32:05,  1.44it/s]\u001b[A\n",
      "Inner Loop:   0%|          | 105/23643 [01:07<4:28:10,  1.46it/s]\u001b[A\n",
      "Inner Loop:   0%|          | 106/23643 [01:08<4:26:57,  1.47it/s]\u001b[A\n",
      "Inner Loop:   0%|          | 107/23643 [01:09<4:44:34,  1.38it/s]\u001b[A\n",
      "Inner Loop:   0%|          | 108/23643 [01:09<4:46:33,  1.37it/s]\u001b[A\n",
      "Inner Loop:   0%|          | 109/23643 [01:10<4:47:34,  1.36it/s]\u001b[A\n",
      "Inner Loop:   0%|          | 110/23643 [01:11<5:12:57,  1.25it/s]\u001b[A\n",
      "Inner Loop:   0%|          | 111/23643 [01:12<5:07:45,  1.27it/s]\u001b[A\n",
      "Inner Loop:   0%|          | 112/23643 [01:12<4:54:25,  1.33it/s]\u001b[A\n",
      "Inner Loop:   0%|          | 113/23643 [01:13<4:54:08,  1.33it/s]\u001b[A\n",
      "Inner Loop:   0%|          | 114/23643 [01:14<4:44:36,  1.38it/s]\u001b[A\n",
      "Inner Loop:   0%|          | 115/23643 [01:15<4:38:43,  1.41it/s]\u001b[A\n",
      "Inner Loop:   0%|          | 116/23643 [01:15<4:48:17,  1.36it/s]\u001b[A\n",
      "Inner Loop:   0%|          | 117/23643 [01:16<4:39:37,  1.40it/s]\u001b[A\n",
      "Inner Loop:   0%|          | 118/23643 [01:17<4:35:55,  1.42it/s]\u001b[A\n",
      "Inner Loop:   1%|          | 119/23643 [01:17<4:30:16,  1.45it/s]\u001b[A\n",
      "Inner Loop:   1%|          | 120/23643 [01:18<4:28:16,  1.46it/s]\u001b[A\n",
      "Inner Loop:   1%|          | 121/23643 [01:19<4:24:38,  1.48it/s]\u001b[A\n",
      "Inner Loop:   1%|          | 122/23643 [01:19<4:29:16,  1.46it/s]\u001b[A\n",
      "Inner Loop:   1%|          | 123/23643 [01:20<4:23:00,  1.49it/s]\u001b[A\n",
      "Inner Loop:   1%|          | 124/23643 [01:21<4:24:32,  1.48it/s]\u001b[A\n",
      "Inner Loop:   1%|          | 125/23643 [01:21<4:21:37,  1.50it/s]\u001b[A\n",
      "Inner Loop:   1%|          | 126/23643 [01:22<4:21:13,  1.50it/s]\u001b[A\n",
      "Inner Loop:   1%|          | 127/23643 [01:23<4:30:38,  1.45it/s]\u001b[A\n",
      "Inner Loop:   1%|          | 128/23643 [01:24<4:41:43,  1.39it/s]\u001b[A\n",
      "Inner Loop:   1%|          | 129/23643 [01:24<4:39:01,  1.40it/s]\u001b[A\n",
      "Inner Loop:   1%|          | 130/23643 [01:25<4:34:44,  1.43it/s]\u001b[A\n",
      "Inner Loop:   1%|          | 131/23643 [01:26<4:34:58,  1.43it/s]\u001b[A\n",
      "Inner Loop:   1%|          | 132/23643 [01:26<4:31:21,  1.44it/s]\u001b[A\n",
      "Inner Loop:   1%|          | 133/23643 [01:27<4:32:18,  1.44it/s]\u001b[A\n",
      "Inner Loop:   1%|          | 134/23643 [01:28<4:31:56,  1.44it/s]\u001b[A\n",
      "Inner Loop:   1%|          | 135/23643 [01:28<4:26:32,  1.47it/s]\u001b[A\n",
      "Inner Loop:   1%|          | 136/23643 [01:29<4:26:06,  1.47it/s]\u001b[A\n",
      "Inner Loop:   1%|          | 137/23643 [01:30<4:24:52,  1.48it/s]\u001b[A\n",
      "Inner Loop:   1%|          | 138/23643 [01:30<4:26:42,  1.47it/s]\u001b[A\n",
      "Inner Loop:   1%|          | 139/23643 [01:31<4:32:05,  1.44it/s]\u001b[A\n",
      "Inner Loop:   1%|          | 140/23643 [01:32<4:27:54,  1.46it/s]\u001b[A\n",
      "Inner Loop:   1%|          | 141/23643 [01:32<4:27:35,  1.46it/s]\u001b[A\n",
      "Inner Loop:   1%|          | 142/23643 [01:33<4:27:34,  1.46it/s]\u001b[A\n",
      "Inner Loop:   1%|          | 143/23643 [01:34<4:27:15,  1.47it/s]\u001b[A\n",
      "Inner Loop:   1%|          | 144/23643 [01:34<4:25:34,  1.47it/s]\u001b[A\n",
      "Inner Loop:   1%|          | 145/23643 [01:35<4:27:01,  1.47it/s]\u001b[A\n",
      "Inner Loop:   1%|          | 146/23643 [01:36<4:27:52,  1.46it/s]\u001b[A\n",
      "Inner Loop:   1%|          | 147/23643 [01:37<4:34:08,  1.43it/s]\u001b[A\n",
      "Inner Loop:   1%|          | 148/23643 [01:37<4:40:38,  1.40it/s]\u001b[A\n",
      "Inner Loop:   1%|          | 149/23643 [01:38<4:41:21,  1.39it/s]\u001b[A\n",
      "Inner Loop:   1%|          | 150/23643 [01:39<4:46:59,  1.36it/s]\u001b[A\n",
      "Inner Loop:   1%|          | 151/23643 [01:40<4:51:14,  1.34it/s]\u001b[A\n",
      "Inner Loop:   1%|          | 152/23643 [01:40<4:39:14,  1.40it/s]\u001b[A\n",
      "Inner Loop:   1%|          | 153/23643 [01:41<4:36:02,  1.42it/s]\u001b[A\n",
      "Inner Loop:   1%|          | 154/23643 [01:42<4:57:37,  1.32it/s]\u001b[A\n",
      "Inner Loop:   1%|          | 155/23643 [01:43<4:49:45,  1.35it/s]\u001b[A\n",
      "Inner Loop:   1%|          | 156/23643 [01:43<4:42:52,  1.38it/s]\u001b[A\n",
      "Inner Loop:   1%|          | 157/23643 [01:44<4:38:18,  1.41it/s]\u001b[A\n",
      "Inner Loop:   1%|          | 158/23643 [01:45<4:38:11,  1.41it/s]\u001b[A\n",
      "Inner Loop:   1%|          | 159/23643 [01:45<4:44:44,  1.37it/s]\u001b[A\n",
      "Inner Loop:   1%|          | 160/23643 [01:46<4:46:35,  1.37it/s]\u001b[A\n",
      "Inner Loop:   1%|          | 161/23643 [01:47<4:47:27,  1.36it/s]\u001b[A\n",
      "Inner Loop:   1%|          | 162/23643 [01:48<4:41:45,  1.39it/s]\u001b[A\n",
      "Inner Loop:   1%|          | 163/23643 [01:48<4:37:45,  1.41it/s]\u001b[A\n",
      "Inner Loop:   1%|          | 164/23643 [01:49<4:37:25,  1.41it/s]\u001b[A\n",
      "Inner Loop:   1%|          | 165/23643 [01:50<4:35:45,  1.42it/s]\u001b[A\n",
      "Inner Loop:   1%|          | 166/23643 [01:50<4:42:23,  1.39it/s]\u001b[A\n",
      "Inner Loop:   1%|          | 167/23643 [01:51<4:45:25,  1.37it/s]\u001b[A\n",
      "Inner Loop:   1%|          | 168/23643 [01:52<4:37:51,  1.41it/s]\u001b[A\n",
      "Inner Loop:   1%|          | 169/23643 [01:52<4:37:16,  1.41it/s]\u001b[A\n",
      "Inner Loop:   1%|          | 170/23643 [01:53<4:37:32,  1.41it/s]\u001b[A\n",
      "Inner Loop:   1%|          | 171/23643 [01:54<4:36:00,  1.42it/s]\u001b[A\n",
      "Inner Loop:   1%|          | 172/23643 [01:55<4:34:28,  1.43it/s]\u001b[A\n",
      "Inner Loop:   1%|          | 173/23643 [01:55<4:38:56,  1.40it/s]\u001b[A\n",
      "Inner Loop:   1%|          | 174/23643 [01:56<4:29:23,  1.45it/s]\u001b[A\n",
      "Inner Loop:   1%|          | 175/23643 [01:57<4:30:04,  1.45it/s]\u001b[A\n",
      "Inner Loop:   1%|          | 176/23643 [01:57<4:34:49,  1.42it/s]\u001b[A\n",
      "Inner Loop:   1%|          | 177/23643 [01:58<4:35:25,  1.42it/s]\u001b[A\n",
      "Inner Loop:   1%|          | 178/23643 [01:59<4:32:23,  1.44it/s]\u001b[A\n",
      "Inner Loop:   1%|          | 179/23643 [01:59<4:33:14,  1.43it/s]\u001b[A\n",
      "Inner Loop:   1%|          | 180/23643 [02:00<4:48:46,  1.35it/s]\u001b[A\n",
      "Inner Loop:   1%|          | 181/23643 [02:01<4:44:26,  1.37it/s]\u001b[A\n",
      "Inner Loop:   1%|          | 182/23643 [02:02<4:39:36,  1.40it/s]\u001b[A\n",
      "Inner Loop:   1%|          | 183/23643 [02:02<4:40:39,  1.39it/s]\u001b[A\n",
      "Inner Loop:   1%|          | 184/23643 [02:03<4:37:05,  1.41it/s]\u001b[A\n",
      "Inner Loop:   1%|          | 185/23643 [02:04<4:32:35,  1.43it/s]\u001b[A\n",
      "Inner Loop:   1%|          | 186/23643 [02:04<4:30:21,  1.45it/s]\u001b[A\n",
      "Inner Loop:   1%|          | 187/23643 [02:05<4:31:52,  1.44it/s]\u001b[A\n",
      "Inner Loop:   1%|          | 188/23643 [02:06<4:25:45,  1.47it/s]\u001b[A\n",
      "Inner Loop:   1%|          | 189/23643 [02:07<4:27:49,  1.46it/s]\u001b[A\n",
      "Inner Loop:   1%|          | 190/23643 [02:07<4:30:25,  1.45it/s]\u001b[A\n",
      "Inner Loop:   1%|          | 191/23643 [02:08<4:31:43,  1.44it/s]\u001b[A\n",
      "Inner Loop:   1%|          | 192/23643 [02:09<4:27:11,  1.46it/s]\u001b[A\n",
      "Inner Loop:   1%|          | 193/23643 [02:09<4:21:46,  1.49it/s]\u001b[A\n",
      "Inner Loop:   1%|          | 194/23643 [02:10<4:21:21,  1.50it/s]\u001b[A\n",
      "Inner Loop:   1%|          | 195/23643 [02:11<4:25:53,  1.47it/s]\u001b[A\n",
      "Inner Loop:   1%|          | 196/23643 [02:11<4:24:59,  1.47it/s]\u001b[A\n",
      "Inner Loop:   1%|          | 197/23643 [02:12<4:35:33,  1.42it/s]\u001b[A\n",
      "Inner Loop:   1%|          | 198/23643 [02:13<4:30:49,  1.44it/s]\u001b[A\n",
      "Inner Loop:   1%|          | 199/23643 [02:13<4:28:47,  1.45it/s]\u001b[A\n",
      "Inner Loop:   1%|          | 200/23643 [02:14<4:33:28,  1.43it/s]\u001b[A\n",
      "Inner Loop:   1%|          | 201/23643 [02:15<4:34:57,  1.42it/s]\u001b[A\n",
      "Inner Loop:   1%|          | 202/23643 [02:16<4:42:39,  1.38it/s]\u001b[A\n",
      "Inner Loop:   1%|          | 203/23643 [02:16<4:34:48,  1.42it/s]\u001b[A\n",
      "Inner Loop:   1%|          | 204/23643 [02:17<4:28:50,  1.45it/s]\u001b[A\n",
      "Inner Loop:   1%|          | 205/23643 [02:18<4:26:49,  1.46it/s]\u001b[A\n",
      "Inner Loop:   1%|          | 206/23643 [02:18<4:36:34,  1.41it/s]\u001b[A\n",
      "Inner Loop:   1%|          | 207/23643 [02:19<4:33:47,  1.43it/s]\u001b[A\n",
      "Inner Loop:   1%|          | 208/23643 [02:20<4:52:04,  1.34it/s]\u001b[A\n",
      "Inner Loop:   1%|          | 209/23643 [02:21<5:19:32,  1.22it/s]\u001b[A\n",
      "Inner Loop:   1%|          | 210/23643 [02:22<5:45:48,  1.13it/s]\u001b[A\n",
      "Inner Loop:   1%|          | 211/23643 [02:23<5:36:10,  1.16it/s]\u001b[A\n",
      "Inner Loop:   1%|          | 212/23643 [02:23<5:16:25,  1.23it/s]\u001b[A\n",
      "Inner Loop:   1%|          | 213/23643 [02:24<5:05:00,  1.28it/s]\u001b[A\n",
      "Inner Loop:   1%|          | 214/23643 [02:25<5:27:53,  1.19it/s]\u001b[A\n",
      "Inner Loop:   1%|          | 215/23643 [02:26<5:08:41,  1.26it/s]\u001b[A\n",
      "Inner Loop:   1%|          | 216/23643 [02:26<4:55:40,  1.32it/s]\u001b[A\n",
      "Inner Loop:   1%|          | 217/23643 [02:27<4:46:57,  1.36it/s]\u001b[A\n",
      "Inner Loop:   1%|          | 218/23643 [02:28<4:41:06,  1.39it/s]\u001b[A\n",
      "Inner Loop:   1%|          | 219/23643 [02:28<4:36:49,  1.41it/s]\u001b[A\n",
      "Inner Loop:   1%|          | 220/23643 [02:29<4:34:59,  1.42it/s]\u001b[A\n",
      "Inner Loop:   1%|          | 221/23643 [02:30<4:32:36,  1.43it/s]\u001b[A\n",
      "Inner Loop:   1%|          | 222/23643 [02:31<4:31:21,  1.44it/s]\u001b[A\n",
      "Inner Loop:   1%|          | 223/23643 [02:31<4:30:14,  1.44it/s]\u001b[A\n",
      "Inner Loop:   1%|          | 224/23643 [02:32<4:29:53,  1.45it/s]\u001b[A\n",
      "Inner Loop:   1%|          | 225/23643 [02:33<4:31:57,  1.44it/s]\u001b[A\n",
      "Inner Loop:   1%|          | 226/23643 [02:33<4:29:49,  1.45it/s]\u001b[A\n",
      "Inner Loop:   1%|          | 227/23643 [02:34<4:29:02,  1.45it/s]\u001b[A\n",
      "Inner Loop:   1%|          | 228/23643 [02:35<4:27:37,  1.46it/s]\u001b[A\n",
      "Inner Loop:   1%|          | 229/23643 [02:35<4:27:37,  1.46it/s]\u001b[A\n",
      "Inner Loop:   1%|          | 230/23643 [02:36<4:25:48,  1.47it/s]\u001b[A\n",
      "Inner Loop:   1%|          | 231/23643 [02:37<4:26:43,  1.46it/s]\u001b[A\n",
      "Inner Loop:   1%|          | 232/23643 [02:37<4:27:51,  1.46it/s]\u001b[A\n",
      "Inner Loop:   1%|          | 233/23643 [02:38<4:29:20,  1.45it/s]\u001b[A\n",
      "Inner Loop:   1%|          | 234/23643 [02:39<4:40:50,  1.39it/s]\u001b[A\n",
      "Inner Loop:   1%|          | 235/23643 [02:40<4:47:34,  1.36it/s]\u001b[A\n",
      "Inner Loop:   1%|          | 236/23643 [02:40<4:41:57,  1.38it/s]\u001b[A\n",
      "Inner Loop:   1%|          | 237/23643 [02:41<4:38:52,  1.40it/s]\u001b[A\n"
     ]
    },
    {
     "name": "stderr",
     "output_type": "stream",
     "text": [
      "Inner Loop:   1%|          | 238/23643 [02:42<4:37:16,  1.41it/s]\u001b[A\n",
      "Inner Loop:   1%|          | 239/23643 [02:42<4:34:02,  1.42it/s]\u001b[A\n",
      "Inner Loop:   1%|          | 240/23643 [02:43<4:36:41,  1.41it/s]\u001b[A\n",
      "Inner Loop:   1%|          | 241/23643 [02:44<4:35:42,  1.41it/s]\u001b[A\n",
      "Inner Loop:   1%|          | 242/23643 [02:45<4:34:06,  1.42it/s]\u001b[A\n",
      "Inner Loop:   1%|          | 243/23643 [02:45<4:38:19,  1.40it/s]\u001b[A\n",
      "Inner Loop:   1%|          | 244/23643 [02:46<4:38:40,  1.40it/s]\u001b[A\n",
      "Inner Loop:   1%|          | 245/23643 [02:47<4:35:58,  1.41it/s]\u001b[A\n",
      "Inner Loop:   1%|          | 246/23643 [02:47<4:33:11,  1.43it/s]\u001b[A\n",
      "Inner Loop:   1%|          | 247/23643 [02:48<4:33:25,  1.43it/s]\u001b[A\n",
      "Inner Loop:   1%|          | 248/23643 [02:49<4:31:04,  1.44it/s]\u001b[A\n",
      "Inner Loop:   1%|          | 249/23643 [02:49<4:30:51,  1.44it/s]\u001b[A\n",
      "Inner Loop:   1%|          | 250/23643 [02:50<4:30:32,  1.44it/s]\u001b[A\n",
      "Inner Loop:   1%|          | 251/23643 [02:51<4:30:29,  1.44it/s]\u001b[A\n",
      "Inner Loop:   1%|          | 252/23643 [02:52<4:28:04,  1.45it/s]\u001b[A\n",
      "Inner Loop:   1%|          | 253/23643 [02:52<4:23:55,  1.48it/s]\u001b[A\n",
      "Inner Loop:   1%|          | 254/23643 [02:53<4:27:40,  1.46it/s]\u001b[A\n",
      "Inner Loop:   1%|          | 255/23643 [02:54<4:27:32,  1.46it/s]\u001b[A\n",
      "Inner Loop:   1%|          | 256/23643 [02:54<4:30:09,  1.44it/s]\u001b[A\n",
      "Inner Loop:   1%|          | 257/23643 [02:55<4:30:28,  1.44it/s]\u001b[A\n",
      "Inner Loop:   1%|          | 258/23643 [02:56<4:31:14,  1.44it/s]\u001b[A\n",
      "Inner Loop:   1%|          | 259/23643 [02:56<4:31:34,  1.44it/s]\u001b[A\n",
      "Inner Loop:   1%|          | 260/23643 [02:57<4:30:46,  1.44it/s]\u001b[A\n",
      "Inner Loop:   1%|          | 261/23643 [02:58<4:30:17,  1.44it/s]\u001b[A\n",
      "Inner Loop:   1%|          | 262/23643 [02:58<4:26:28,  1.46it/s]\u001b[A\n",
      "Inner Loop:   1%|          | 263/23643 [02:59<4:27:42,  1.46it/s]\u001b[A\n",
      "Inner Loop:   1%|          | 264/23643 [03:00<4:25:48,  1.47it/s]\u001b[A\n",
      "Inner Loop:   1%|          | 265/23643 [03:00<4:26:33,  1.46it/s]\u001b[A\n",
      "Inner Loop:   1%|          | 266/23643 [03:01<4:27:08,  1.46it/s]\u001b[A\n",
      "Inner Loop:   1%|          | 267/23643 [03:02<4:29:55,  1.44it/s]\u001b[A\n",
      "Inner Loop:   1%|          | 268/23643 [03:03<4:30:11,  1.44it/s]\u001b[A\n",
      "Inner Loop:   1%|          | 269/23643 [03:03<4:27:18,  1.46it/s]\u001b[A\n",
      "Inner Loop:   1%|          | 270/23643 [03:04<4:27:34,  1.46it/s]\u001b[A\n",
      "Inner Loop:   1%|          | 271/23643 [03:05<4:27:03,  1.46it/s]\u001b[A\n",
      "Inner Loop:   1%|          | 272/23643 [03:05<4:28:50,  1.45it/s]\u001b[A\n",
      "Inner Loop:   1%|          | 273/23643 [03:06<4:28:01,  1.45it/s]\u001b[A\n",
      "Inner Loop:   1%|          | 274/23643 [03:07<4:28:33,  1.45it/s]\u001b[A\n",
      "Inner Loop:   1%|          | 275/23643 [03:07<4:32:37,  1.43it/s]\u001b[A\n",
      "Inner Loop:   1%|          | 276/23643 [03:08<4:34:11,  1.42it/s]\u001b[A\n",
      "Inner Loop:   1%|          | 277/23643 [03:09<4:43:14,  1.37it/s]\u001b[A\n",
      "Inner Loop:   1%|          | 278/23643 [03:10<4:48:19,  1.35it/s]\u001b[A\n",
      "Inner Loop:   1%|          | 279/23643 [03:10<4:42:25,  1.38it/s]\u001b[A\n",
      "Inner Loop:   1%|          | 280/23643 [03:11<4:37:16,  1.40it/s]\u001b[A\n",
      "Inner Loop:   1%|          | 281/23643 [03:12<4:35:06,  1.42it/s]\u001b[A\n",
      "Inner Loop:   1%|          | 282/23643 [03:12<4:30:41,  1.44it/s]\u001b[A\n",
      "Inner Loop:   1%|          | 283/23643 [03:13<4:30:32,  1.44it/s]\u001b[A\n",
      "Inner Loop:   1%|          | 284/23643 [03:14<4:28:31,  1.45it/s]\u001b[A\n",
      "Inner Loop:   1%|          | 285/23643 [03:14<4:26:35,  1.46it/s]\u001b[A\n",
      "Inner Loop:   1%|          | 286/23643 [03:15<4:24:37,  1.47it/s]\u001b[A\n",
      "Inner Loop:   1%|          | 287/23643 [03:16<4:24:52,  1.47it/s]\u001b[A\n",
      "Inner Loop:   1%|          | 288/23643 [03:16<4:25:05,  1.47it/s]\u001b[A\n",
      "Inner Loop:   1%|          | 289/23643 [03:17<4:25:09,  1.47it/s]\u001b[A\n",
      "Inner Loop:   1%|          | 290/23643 [03:18<4:26:41,  1.46it/s]\u001b[A\n",
      "Inner Loop:   1%|          | 291/23643 [03:19<4:26:53,  1.46it/s]\u001b[A\n",
      "Inner Loop:   1%|          | 292/23643 [03:19<4:27:08,  1.46it/s]\u001b[A\n",
      "Inner Loop:   1%|          | 293/23643 [03:20<4:27:04,  1.46it/s]\u001b[A\n",
      "Inner Loop:   1%|          | 294/23643 [03:21<4:26:41,  1.46it/s]\u001b[A\n",
      "Inner Loop:   1%|          | 295/23643 [03:21<4:26:11,  1.46it/s]\u001b[A\n",
      "Inner Loop:   1%|▏         | 296/23643 [03:22<4:28:13,  1.45it/s]\u001b[A\n",
      "Inner Loop:   1%|▏         | 297/23643 [03:23<4:26:49,  1.46it/s]\u001b[A\n",
      "Inner Loop:   1%|▏         | 298/23643 [03:23<4:24:50,  1.47it/s]\u001b[A\n",
      "Inner Loop:   1%|▏         | 299/23643 [03:24<4:29:48,  1.44it/s]\u001b[A\n",
      "Inner Loop:   1%|▏         | 300/23643 [03:25<4:56:20,  1.31it/s]\u001b[A\n",
      "Inner Loop:   1%|▏         | 301/23643 [03:26<4:48:21,  1.35it/s]\u001b[A\n",
      "Inner Loop:   1%|▏         | 302/23643 [03:26<4:41:52,  1.38it/s]\u001b[A\n",
      "Inner Loop:   1%|▏         | 303/23643 [03:27<4:44:24,  1.37it/s]\u001b[A\n",
      "Inner Loop:   1%|▏         | 304/23643 [03:28<4:55:05,  1.32it/s]\u001b[A\n",
      "Inner Loop:   1%|▏         | 305/23643 [03:29<4:46:52,  1.36it/s]\u001b[A\n",
      "Inner Loop:   1%|▏         | 306/23643 [03:29<4:40:35,  1.39it/s]\u001b[A\n",
      "Inner Loop:   1%|▏         | 307/23643 [03:30<4:34:30,  1.42it/s]\u001b[A\n",
      "Inner Loop:   1%|▏         | 308/23643 [03:31<4:33:06,  1.42it/s]\u001b[A\n",
      "Inner Loop:   1%|▏         | 309/23643 [03:31<4:44:14,  1.37it/s]\u001b[A\n",
      "Inner Loop:   1%|▏         | 310/23643 [03:32<4:37:34,  1.40it/s]\u001b[A\n",
      "Inner Loop:   1%|▏         | 311/23643 [03:33<4:50:05,  1.34it/s]\u001b[A"
     ]
    }
   ],
   "source": [
    "start = time.time()\n",
    "A_opt['lazy'] = sensor_loc_optimisation_lazy(k,Z, sets, tau)\n",
    "end = time.time()"
   ]
  },
  {
   "cell_type": "code",
   "execution_count": null,
   "metadata": {},
   "outputs": [],
   "source": [
    "A_opt['naive'] = sensor_loc_optimisation_naive(k,Z, sets, tau)"
   ]
  },
  {
   "cell_type": "code",
   "execution_count": 32,
   "metadata": {},
   "outputs": [
    {
     "data": {
      "text/plain": [
       "array([38726, 14276, 91348,  5338, 40994, 29626, 65851, 65734,   851,\n",
       "        2293])"
      ]
     },
     "execution_count": 32,
     "metadata": {},
     "output_type": "execute_result"
    }
   ],
   "source": [
    "A_opt['lazy'] "
   ]
  },
  {
   "cell_type": "code",
   "execution_count": 30,
   "metadata": {},
   "outputs": [
    {
     "name": "stdout",
     "output_type": "stream",
     "text": [
      "\\begin{tabular}{lrrrrrrrrrr}\n",
      "\\toprule\n",
      "{} &  38726 &  14276 &  91348 &  5338  &  40994 &  29626 &  65851 &  65734 &  851   &  2293  \\\\\n",
      "\\midrule\n",
      "X & -50.50 &  35.63 &  43.05 & 137.58 &  80.34 &  27.79 &  49.54 &  54.59 &  77.54 &  62.03 \\\\\n",
      "Y &  48.85 &  58.69 &  27.51 &  55.78 &  76.20 &  26.24 &  28.88 &  25.42 &  34.82 &  41.92 \\\\\n",
      "Z &  14.84 &   0.20 &   7.76 &   0.20 &   0.20 &  12.06 &  17.65 &   3.80 &   0.20 &   0.20 \\\\\n",
      "\\bottomrule\n",
      "\\end{tabular}\n",
      "\n"
     ]
    }
   ],
   "source": [
    "print(loc_df.loc[A_opt['lazy'] ,:].T.to_latex(float_format=\"%.2f\"))"
   ]
  },
  {
   "cell_type": "code",
   "execution_count": 23,
   "metadata": {},
   "outputs": [
    {
     "data": {
      "text/plain": [
       "18083.875992059708"
      ]
     },
     "execution_count": 23,
     "metadata": {},
     "output_type": "execute_result"
    }
   ],
   "source": [
    "end - start "
   ]
  },
  {
   "cell_type": "code",
   "execution_count": 28,
   "metadata": {},
   "outputs": [
    {
     "name": "stdout",
     "output_type": "stream",
     "text": [
      "==> Saved to : ../data/temp_data/LSBU_res_2019:08:15-09:49:23_Opt_TSVD_full_tau25.vtu\n"
     ]
    }
   ],
   "source": [
    "A_list = set_to_onehot(A_opt['lazy'] ,data_df.shape[0])\n",
    "save_vtu(ref_vtu[0],'Opt_TSVD_full_tau25',A_list)"
   ]
  },
  {
   "cell_type": "code",
   "execution_count": 37,
   "metadata": {},
   "outputs": [],
   "source": [
    "np.savetxt('Optimal Points/localpoints_TSVD25',A_opt['lazy'])"
   ]
  },
  {
   "cell_type": "code",
   "execution_count": null,
   "metadata": {},
   "outputs": [],
   "source": []
  }
 ],
 "metadata": {
  "kernelspec": {
   "display_name": "Python [conda env:project] *",
   "language": "python",
   "name": "conda-env-project-py"
  },
  "language_info": {
   "codemirror_mode": {
    "name": "ipython",
    "version": 3
   },
   "file_extension": ".py",
   "mimetype": "text/x-python",
   "name": "python",
   "nbconvert_exporter": "python",
   "pygments_lexer": "ipython3",
   "version": "3.6.8"
  }
 },
 "nbformat": 4,
 "nbformat_minor": 2
}
