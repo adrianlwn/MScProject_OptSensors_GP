{
 "cells": [
  {
   "cell_type": "code",
   "execution_count": 2,
   "metadata": {},
   "outputs": [],
   "source": [
    "from utils import *\n",
    "import tqdm\n",
    "import heapq\n"
   ]
  },
  {
   "cell_type": "code",
   "execution_count": null,
   "metadata": {},
   "outputs": [],
   "source": []
  },
  {
   "cell_type": "code",
   "execution_count": 3,
   "metadata": {},
   "outputs": [
    {
     "name": "stdout",
     "output_type": "stream",
     "text": [
      "Number of Locations :  100040\n"
     ]
    }
   ],
   "source": [
    "# Load the Data for given time interval [0 -> 988] \n",
    "i_start = 100\n",
    "i_end = 600\n",
    "mydict = load_data(i_start, i_end)\n",
    "print('Number of Locations : ' ,mydict[i_start].GetLocations().shape[0])\n"
   ]
  },
  {
   "cell_type": "code",
   "execution_count": 8,
   "metadata": {},
   "outputs": [
    {
     "name": "stdout",
     "output_type": "stream",
     "text": [
      "Number of Locations after croping :  291\n"
     ]
    }
   ],
   "source": [
    "# Crop the Space with given limits\n",
    "crop_data(mydict,\n",
    "          min_x=-5, max_x=5,\n",
    "          min_y=-5, max_y=5,\n",
    "          min_z=0,max_z=20\n",
    "         )\n",
    "print('Number of Locations after croping : ' ,mydict[i_start].GetLocations().shape[0])"
   ]
  },
  {
   "cell_type": "code",
   "execution_count": 25,
   "metadata": {},
   "outputs": [
    {
     "data": {
      "text/plain": [
       "(291, 501)"
      ]
     },
     "execution_count": 25,
     "metadata": {},
     "output_type": "execute_result"
    }
   ],
   "source": [
    "data_mat = to_matrix(mydict,'Pressure')\n",
    "data_mat.shape"
   ]
  },
  {
   "cell_type": "code",
   "execution_count": 26,
   "metadata": {},
   "outputs": [
    {
     "data": {
      "text/plain": [
       "(291, 291)"
      ]
     },
     "execution_count": 26,
     "metadata": {},
     "output_type": "execute_result"
    }
   ],
   "source": [
    "K = cov_matrix(data_mat)\n",
    "K.shape"
   ]
  },
  {
   "cell_type": "code",
   "execution_count": 27,
   "metadata": {},
   "outputs": [
    {
     "data": {
      "text/plain": [
       "array([-1.64443201e-12, -3.57882524e-13, -3.29071399e-13, -3.20603780e-13,\n",
       "       -3.09325414e-13, -2.88431809e-13, -2.81149562e-13, -2.79682422e-13,\n",
       "       -2.68592336e-13, -2.49578490e-13, -2.34537336e-13, -2.23630940e-13,\n",
       "       -2.21632496e-13, -2.00152857e-13, -1.83937235e-13, -1.72122329e-13,\n",
       "       -1.61029646e-13, -1.56425386e-13, -1.39984129e-13, -1.38639579e-13,\n",
       "       -1.31813480e-13, -1.19683286e-13, -1.11384066e-13, -1.02544469e-13,\n",
       "       -9.64777969e-14, -8.59047682e-14, -7.37185487e-14, -7.01271037e-14,\n",
       "       -6.19103349e-14, -5.39091812e-14, -3.42740370e-14, -2.74162608e-14,\n",
       "       -2.40891402e-14, -1.09674194e-14,  1.75321936e-15,  1.24700088e-14,\n",
       "        1.89396299e-14,  2.41641997e-14,  3.43089189e-14,  4.07122755e-14,\n",
       "        4.36642757e-14,  6.00755115e-14,  6.63488539e-14,  7.33901587e-14,\n",
       "        8.58260388e-14,  9.47294721e-14,  1.02463887e-13,  1.11395281e-13,\n",
       "        1.25292322e-13,  1.37029934e-13,  1.48491575e-13,  1.53200008e-13,\n",
       "        1.77300878e-13,  1.82621168e-13,  1.89725422e-13,  1.96411082e-13,\n",
       "        2.16163146e-13,  2.19339706e-13,  2.30578925e-13,  2.31990923e-13,\n",
       "        2.45488463e-13,  2.70153153e-13,  2.73761501e-13,  2.76712728e-13,\n",
       "        2.98100428e-13,  3.07199351e-13,  3.23533074e-13,  3.25175727e-13,\n",
       "        3.56858911e-13,  3.74262474e-13,  3.99893167e-13,  4.09955615e-13,\n",
       "        4.38578993e-13,  4.57014701e-13,  4.70671973e-13,  4.97939703e-13,\n",
       "        5.10815475e-13,  5.37270755e-13,  6.06152937e-13,  6.47153153e-13,\n",
       "        6.96045792e-13,  7.23482254e-13,  8.06114480e-13,  8.41835776e-13,\n",
       "        8.81477173e-13,  9.19988887e-13,  1.03113719e-12,  1.13747965e-12,\n",
       "        1.25521511e-12,  1.27412662e-12,  1.45805711e-12,  1.50024885e-12,\n",
       "        1.56594668e-12,  1.97086030e-12,  2.04025976e-12,  2.07297802e-12,\n",
       "        2.26935328e-12,  2.29552708e-12,  2.55958975e-12,  2.95621634e-12,\n",
       "        3.08487485e-12,  3.46858921e-12,  3.63006527e-12,  3.94927654e-12,\n",
       "        4.32634460e-12,  4.73557901e-12,  5.29453220e-12,  5.81961113e-12,\n",
       "        6.72532634e-12,  7.78316542e-12,  8.42104509e-12,  9.34423738e-12,\n",
       "        1.00915188e-11,  1.11134126e-11,  1.22341095e-11,  1.31111421e-11,\n",
       "        1.42611833e-11,  1.60333519e-11,  1.63973425e-11,  1.82528213e-11,\n",
       "        2.16897088e-11,  2.26745512e-11,  2.62281787e-11,  2.93370832e-11,\n",
       "        3.00220737e-11,  3.18789497e-11,  3.52415665e-11,  3.87100534e-11,\n",
       "        4.16511739e-11,  4.72336847e-11,  5.09972815e-11,  5.15444565e-11,\n",
       "        6.14199420e-11,  6.59495974e-11,  7.52041411e-11,  8.83025663e-11,\n",
       "        9.91659336e-11,  1.04918251e-10,  1.13695351e-10,  1.23073909e-10,\n",
       "        1.60475925e-10,  1.93971489e-10,  2.05588463e-10,  2.36096040e-10,\n",
       "        2.44236948e-10,  2.73840396e-10,  2.77240492e-10,  3.09314973e-10,\n",
       "        3.52673371e-10,  4.60424928e-10,  4.92351417e-10,  5.85919815e-10,\n",
       "        6.79524067e-10,  8.28759477e-10,  8.58754468e-10,  8.95520751e-10,\n",
       "        9.84852108e-10,  1.15764209e-09,  1.34693849e-09,  1.37277831e-09,\n",
       "        1.52988626e-09,  1.78192828e-09,  1.91925373e-09,  2.58004556e-09,\n",
       "        2.88589580e-09,  3.48438357e-09,  4.14295068e-09,  4.74513818e-09,\n",
       "        5.25859149e-09,  5.35565716e-09,  6.85169742e-09,  7.92887554e-09,\n",
       "        8.48374122e-09,  1.14125484e-08,  1.20191960e-08,  1.45663804e-08,\n",
       "        1.56698228e-08,  2.04168062e-08,  2.16329576e-08,  2.30952395e-08,\n",
       "        2.85128107e-08,  3.22310809e-08,  3.49189319e-08,  3.83198242e-08,\n",
       "        4.77776252e-08,  5.35023041e-08,  5.95183609e-08,  6.94878297e-08,\n",
       "        8.31211488e-08,  9.85332240e-08,  1.05339833e-07,  1.16857990e-07,\n",
       "        1.28726473e-07,  1.67083950e-07,  1.78008120e-07,  2.07207685e-07,\n",
       "        2.51019088e-07,  3.36787434e-07,  3.99153533e-07,  4.48605817e-07,\n",
       "        4.67663308e-07,  5.05347257e-07,  5.77665150e-07,  6.94497187e-07,\n",
       "        8.95878531e-07,  9.84508004e-07,  1.08084485e-06,  1.10756374e-06,\n",
       "        1.34675306e-06,  1.49063413e-06,  1.67282709e-06,  2.10044437e-06,\n",
       "        2.19992244e-06,  2.36842542e-06,  2.92664119e-06,  3.64995178e-06,\n",
       "        4.15383866e-06,  4.73765481e-06,  5.23162678e-06,  5.53201525e-06,\n",
       "        6.04680052e-06,  6.96591100e-06,  7.76206460e-06,  8.74754899e-06,\n",
       "        1.01123139e-05,  1.13288132e-05,  1.26986892e-05,  2.09056989e-05,\n",
       "        2.19265880e-05,  2.42371560e-05,  2.85181478e-05,  2.98592126e-05,\n",
       "        3.21278647e-05,  3.69574559e-05,  4.05578410e-05,  5.85745265e-05,\n",
       "        6.33142698e-05,  8.12493405e-05,  9.57558487e-05,  1.10299889e-04,\n",
       "        1.23576149e-04,  1.36532713e-04,  1.46541856e-04,  1.73118601e-04,\n",
       "        2.00599511e-04,  2.16797413e-04,  2.88095997e-04,  3.03031898e-04,\n",
       "        3.67291394e-04,  4.28457919e-04,  5.25449296e-04,  6.79983947e-04,\n",
       "        7.52540952e-04,  8.14531408e-04,  9.94856830e-04,  1.14981855e-03,\n",
       "        1.28419150e-03,  1.46403351e-03,  1.63184477e-03,  1.87030192e-03,\n",
       "        2.19258240e-03,  2.41234734e-03,  3.08999992e-03,  3.26485429e-03,\n",
       "        4.77951737e-03,  5.26300045e-03,  6.03908028e-03,  7.36043471e-03,\n",
       "        7.74828467e-03,  9.81106714e-03,  1.30432794e-02,  1.57485887e-02,\n",
       "        1.71328630e-02,  2.58623312e-02,  3.09247673e-02,  3.71112686e-02,\n",
       "        4.01297396e-02,  6.07644890e-02,  7.60646884e-02,  1.06006934e-01,\n",
       "        1.19333840e-01,  2.20872472e-01,  2.89188982e-01,  3.81349719e-01,\n",
       "        6.69606851e-01,  9.09561894e-01,  1.55280022e+00,  3.12174363e+00,\n",
       "        1.77967358e+01,  7.85749276e+01,  2.83683618e+04])"
      ]
     },
     "execution_count": 27,
     "metadata": {},
     "output_type": "execute_result"
    }
   ],
   "source": [
    "np.linalg.eigvalsh(K)"
   ]
  },
  {
   "cell_type": "code",
   "execution_count": 28,
   "metadata": {},
   "outputs": [
    {
     "ename": "LinAlgError",
     "evalue": "Matrix is not positive definite",
     "output_type": "error",
     "traceback": [
      "\u001b[0;31m---------------------------------------------------------------------------\u001b[0m",
      "\u001b[0;31mLinAlgError\u001b[0m                               Traceback (most recent call last)",
      "\u001b[0;32m<ipython-input-28-125173a948b0>\u001b[0m in \u001b[0;36m<module>\u001b[0;34m\u001b[0m\n\u001b[0;32m----> 1\u001b[0;31m \u001b[0mnp\u001b[0m\u001b[0;34m.\u001b[0m\u001b[0mlinalg\u001b[0m\u001b[0;34m.\u001b[0m\u001b[0mcholesky\u001b[0m\u001b[0;34m(\u001b[0m\u001b[0mK\u001b[0m\u001b[0;34m)\u001b[0m\u001b[0;34m\u001b[0m\u001b[0;34m\u001b[0m\u001b[0m\n\u001b[0m",
      "\u001b[0;32m~/anaconda3/envs/project/lib/python3.6/site-packages/numpy/linalg/linalg.py\u001b[0m in \u001b[0;36mcholesky\u001b[0;34m(a)\u001b[0m\n\u001b[1;32m    757\u001b[0m     \u001b[0mt\u001b[0m\u001b[0;34m,\u001b[0m \u001b[0mresult_t\u001b[0m \u001b[0;34m=\u001b[0m \u001b[0m_commonType\u001b[0m\u001b[0;34m(\u001b[0m\u001b[0ma\u001b[0m\u001b[0;34m)\u001b[0m\u001b[0;34m\u001b[0m\u001b[0;34m\u001b[0m\u001b[0m\n\u001b[1;32m    758\u001b[0m     \u001b[0msignature\u001b[0m \u001b[0;34m=\u001b[0m \u001b[0;34m'D->D'\u001b[0m \u001b[0;32mif\u001b[0m \u001b[0misComplexType\u001b[0m\u001b[0;34m(\u001b[0m\u001b[0mt\u001b[0m\u001b[0;34m)\u001b[0m \u001b[0;32melse\u001b[0m \u001b[0;34m'd->d'\u001b[0m\u001b[0;34m\u001b[0m\u001b[0;34m\u001b[0m\u001b[0m\n\u001b[0;32m--> 759\u001b[0;31m     \u001b[0mr\u001b[0m \u001b[0;34m=\u001b[0m \u001b[0mgufunc\u001b[0m\u001b[0;34m(\u001b[0m\u001b[0ma\u001b[0m\u001b[0;34m,\u001b[0m \u001b[0msignature\u001b[0m\u001b[0;34m=\u001b[0m\u001b[0msignature\u001b[0m\u001b[0;34m,\u001b[0m \u001b[0mextobj\u001b[0m\u001b[0;34m=\u001b[0m\u001b[0mextobj\u001b[0m\u001b[0;34m)\u001b[0m\u001b[0;34m\u001b[0m\u001b[0;34m\u001b[0m\u001b[0m\n\u001b[0m\u001b[1;32m    760\u001b[0m     \u001b[0;32mreturn\u001b[0m \u001b[0mwrap\u001b[0m\u001b[0;34m(\u001b[0m\u001b[0mr\u001b[0m\u001b[0;34m.\u001b[0m\u001b[0mastype\u001b[0m\u001b[0;34m(\u001b[0m\u001b[0mresult_t\u001b[0m\u001b[0;34m,\u001b[0m \u001b[0mcopy\u001b[0m\u001b[0;34m=\u001b[0m\u001b[0;32mFalse\u001b[0m\u001b[0;34m)\u001b[0m\u001b[0;34m)\u001b[0m\u001b[0;34m\u001b[0m\u001b[0;34m\u001b[0m\u001b[0m\n\u001b[1;32m    761\u001b[0m \u001b[0;34m\u001b[0m\u001b[0m\n",
      "\u001b[0;32m~/anaconda3/envs/project/lib/python3.6/site-packages/numpy/linalg/linalg.py\u001b[0m in \u001b[0;36m_raise_linalgerror_nonposdef\u001b[0;34m(err, flag)\u001b[0m\n\u001b[1;32m     98\u001b[0m \u001b[0;34m\u001b[0m\u001b[0m\n\u001b[1;32m     99\u001b[0m \u001b[0;32mdef\u001b[0m \u001b[0m_raise_linalgerror_nonposdef\u001b[0m\u001b[0;34m(\u001b[0m\u001b[0merr\u001b[0m\u001b[0;34m,\u001b[0m \u001b[0mflag\u001b[0m\u001b[0;34m)\u001b[0m\u001b[0;34m:\u001b[0m\u001b[0;34m\u001b[0m\u001b[0;34m\u001b[0m\u001b[0m\n\u001b[0;32m--> 100\u001b[0;31m     \u001b[0;32mraise\u001b[0m \u001b[0mLinAlgError\u001b[0m\u001b[0;34m(\u001b[0m\u001b[0;34m\"Matrix is not positive definite\"\u001b[0m\u001b[0;34m)\u001b[0m\u001b[0;34m\u001b[0m\u001b[0;34m\u001b[0m\u001b[0m\n\u001b[0m\u001b[1;32m    101\u001b[0m \u001b[0;34m\u001b[0m\u001b[0m\n\u001b[1;32m    102\u001b[0m \u001b[0;32mdef\u001b[0m \u001b[0m_raise_linalgerror_eigenvalues_nonconvergence\u001b[0m\u001b[0;34m(\u001b[0m\u001b[0merr\u001b[0m\u001b[0;34m,\u001b[0m \u001b[0mflag\u001b[0m\u001b[0;34m)\u001b[0m\u001b[0;34m:\u001b[0m\u001b[0;34m\u001b[0m\u001b[0;34m\u001b[0m\u001b[0m\n",
      "\u001b[0;31mLinAlgError\u001b[0m: Matrix is not positive definite"
     ]
    }
   ],
   "source": [
    "np.linalg.cholesky(K)"
   ]
  },
  {
   "cell_type": "code",
   "execution_count": 17,
   "metadata": {},
   "outputs": [
    {
     "data": {
      "text/plain": [
       "(291,)"
      ]
     },
     "execution_count": 17,
     "metadata": {},
     "output_type": "execute_result"
    }
   ],
   "source": [
    "M = mean_matrix(data_mat)\n",
    "M.shape"
   ]
  },
  {
   "cell_type": "markdown",
   "metadata": {},
   "source": [
    "Gaussian Processes definition : "
   ]
  },
  {
   "cell_type": "markdown",
   "metadata": {},
   "source": [
    "We define different sets for all the locations : \n",
    "- A : set of sensors selected \n",
    "- S : set of potential sensors\n",
    "- U : set where there is no sensor\n",
    "- V = S $\\cup$ U : set of all positions. \n",
    "\n",
    "We want the mutual information to be as high as possible on the set "
   ]
  },
  {
   "cell_type": "code",
   "execution_count": 18,
   "metadata": {},
   "outputs": [],
   "source": [
    "n_V = mydict[100].GetLocations().shape[0]\n",
    "V = np.array(range(n_V))\n",
    "\n",
    "n_S = 200\n",
    "np.random.seed(42)\n",
    "S = np.random.choice(V, n_S, replace=False,)\n",
    "\n",
    "n_U = n_V - n_S\n",
    "U = np.setdiff1d(V, S, assume_unique=True)\n"
   ]
  },
  {
   "cell_type": "code",
   "execution_count": 19,
   "metadata": {},
   "outputs": [],
   "source": [
    "def approx_max_info(k):\n",
    "    \"\"\" This function implements the Algorithm 1: Approximation algorithm \n",
    "    for maximizing mutual information.\n",
    "    \n",
    "    Input Arguments : \n",
    "    --- k : number of Sensors to place\n",
    "    \n",
    "    Needed global variables : \n",
    "    --- K : Covariance Matrix between all points\n",
    "    --- V : Set of all points\n",
    "    --- S : Set of potential sensor points\n",
    "    --- n_S : number of such points\n",
    "    \n",
    "    \"\"\"\n",
    "    \n",
    "    n_A = 0\n",
    "    A = np.array([])\n",
    "    \n",
    "    # Main Loop of the Algorithm : Iterating over the number of sensors to place\n",
    "    \n",
    "    for j in tqdm.tqdm_notebook(range(k)):\n",
    "        \n",
    "        S_A = np.setdiff1d(S,A).astype(int)\n",
    "        delta_y = np.zeros((n_S - j))\n",
    "        ## Inner Loop : Iterating over the potential sensor places\n",
    "        for i,y in enumerate(S_A):\n",
    "\n",
    "            A_ = np.setdiff1d(V,np.append(A,[y]))\n",
    "            # Mutual Information Gain\n",
    "\n",
    "            delta_y[i] = H_cond(y, A) / H_cond(y, A_)\n",
    "        \n",
    "        # Greedily selection the best point to add to A\n",
    "        y_opt = S_A[np.argmax(delta_y)]\n",
    "        print((delta_y >0).sum()/len(delta_y))\n",
    "        # Add the selected point to A\n",
    "        n_A += 1\n",
    "        A = np.append(A,y_opt).astype(int)\n",
    "        \n",
    "    return A\n",
    "\n",
    "def approx_lazy_max_info(k):\n",
    "    \"\"\" This function implements the Algorithm 2: Approximation algorithm for \n",
    "    maximizing mutual information efficiently using lazy evaluation.\n",
    "    \n",
    "    Input Arguments : \n",
    "    --- k : number of Sensors to place\n",
    "    \n",
    "    Needed global variables : \n",
    "    --- K : Covariance Matrix between all points\n",
    "    --- V : Set of all points\n",
    "    --- S : Set of potential sensor points\n",
    "    --- n_S : number of such points\n",
    "    \n",
    "    \"\"\"\n",
    "\n",
    "    # INIT : \n",
    "    n_A = 0\n",
    "    A = np.array([])\n",
    "    \n",
    "    delta_y = -1*np.inf*np.ones((n_S,1))\n",
    "    counter_y = -1*np.ones((n_S,1))\n",
    "    \n",
    "    # Each Node of the Heap contains a tupple : (-delta_y, index of point, count_y)\n",
    "    delta_heap = list(zip(delta_y, S, counter_y))\n",
    "    heapq.heapify(delta_heap)\n",
    "    \n",
    "    # MAIN LOOP of the Algorithm : Iterating over the number of sensors to place\n",
    "    for j in tqdm.tqdm_notebook(range(k)):\n",
    "                \n",
    "        ## INNER LOOP : Iterating over the potential sensor places\n",
    "        while True : \n",
    "            delta, y_opt, count = heapq.heappop(delta_heap)\n",
    "            if count == j :\n",
    "                break\n",
    "            else : \n",
    "                A_ = np.setdiff1d(V,np.append(A,[y_opt]))\n",
    "                # Mutual Information Gain\n",
    "                delta_y_opt = H_cond(y_opt, A) / H_cond(y_opt, A_)\n",
    "                heapq.heappush(delta_heap, (-1*delta_y_opt , y_opt ,j) )\n",
    "        \n",
    "        # Add the selected point to A\n",
    "        n_A += 1\n",
    "        A = np.append(A, y_opt).astype(int)       \n",
    "    return A\n",
    "\n",
    "def approx_local_max_info(k, epsilon):\n",
    "    \"\"\" This function implements the Algorithm 3: Approximation algorithm for \n",
    "    maximizing mutual information efficiently using local kernels.\n",
    "    \n",
    "    Input Arguments : \n",
    "    --- k : number of Sensors to place\n",
    "    --- epsilon : threshold for local kernel\n",
    "    \n",
    "    Needed global variables : \n",
    "    --- K : Covariance Matrix between all points\n",
    "    --- V : Set of all points\n",
    "    --- S : Set of potential sensor points\n",
    "    --- n_S : number of such points\n",
    "    \n",
    "    \"\"\"\n",
    "\n",
    "    # INIT : \n",
    "    n_A = 0\n",
    "    A = np.array([])\n",
    "    \n",
    "    delta_y = -1*np.inf*np.ones((n_S,1))\n",
    "    \n",
    "    for i,y in enumerate(S):\n",
    "        delta_y[i] = -1*delta_MI(y,A)\n",
    "    \n",
    "    counter_y = -1*np.ones((n_S,1))\n",
    "    \n",
    "    # Each Node of the Heap contains a tupple : (-delta_y, index of point, count_y)\n",
    "    delta_heap = list(zip(delta_y, S, counter_y))\n",
    "    heapq.heapify(delta_heap)\n",
    "    \n",
    "    # MAIN LOOP of the Algorithm : Iterating over the number of sensors to place\n",
    "    for j in tqdm.tqdm_notebook(range(k)):\n",
    "        \n",
    "        delta, y_opt, count = heapq.heappop(delta_heap)\n",
    "        \n",
    "        # Add the selected point to A\n",
    "        n_A += 1\n",
    "        A = np.append(A, y_opt).astype(int)\n",
    "        A_ = np.setdiff1d(V,np.append(A,[y]))\n",
    "        \n",
    "        loc_A = local_set(y, A, epsilon) \n",
    "        loc_A_ = local_set(y, A_, epsilon) \n",
    "        \n",
    "        ## INNER LOOP : Iterating over the potential sensor places\n",
    "        for i in A: \n",
    "\n",
    "            # Mutual Information Gain\n",
    "            delta_y = H_cond(y, loc_A) / H_cond(y, loc_A_)\n",
    "\n",
    "            heapq.heappush(delta_heap,(-1*delta_y ,y ,j))\n",
    "       \n",
    "    return A\n",
    "        \n",
    "\n",
    "def delta_MI(y,A):\n",
    "    \"\"\" Function that computes the Mutual Entropy Difference \"\"\"\n",
    "    A_ = np.setdiff1d(V,np.append(A,[y]))\n",
    "    \n",
    "    return H_cond(y, A) / H_cond(y, A_)\n",
    "    \n",
    "def H_cond(y,X):\n",
    "        \"\"\" Function that returns the conditional Entropy of y knowing X \"\"\"        \n",
    "        return K[y,y] - K[np.ix_([y],X)] @ np.linalg.inv(K[np.ix_(X,X)]) @ K[np.ix_(X,[y])] \n",
    "        #return K[y,y] - K[np.ix_([y],X)] @ np.linalg.solve(K[np.ix_(X,X)], K[np.ix_(X,[y])])\n",
    "\n",
    "def local_set(y, X, epsilon):\n",
    "    \"\"\" Function that returns a set of points X_trunc for which K[y,X_trunc] > epsilon\n",
    "        X being the input set\n",
    "        Implementing the idea of local Kernels.\n",
    "        \n",
    "    \"\"\"\n",
    "    i_trunc = (np.abs( K[np.ix_([y],X)] ) > epsilon).flatten()\n",
    "    X_trunc = X[i_trunc]    \n",
    "    \n",
    "    return X_trunc\n"
   ]
  },
  {
   "cell_type": "code",
   "execution_count": null,
   "metadata": {},
   "outputs": [],
   "source": []
  },
  {
   "cell_type": "code",
   "execution_count": 21,
   "metadata": {
    "scrolled": true
   },
   "outputs": [
    {
     "data": {
      "application/vnd.jupyter.widget-view+json": {
       "model_id": "5dbeadd19a07413ebfed2324cce6f14c",
       "version_major": 2,
       "version_minor": 0
      },
      "text/plain": [
       "HBox(children=(IntProgress(value=0, max=5), HTML(value='')))"
      ]
     },
     "metadata": {},
     "output_type": "display_data"
    },
    {
     "name": "stdout",
     "output_type": "stream",
     "text": [
      "0.44\n",
      "0.4271356783919598\n",
      "0.5151515151515151\n",
      "0.4619289340101523\n",
      "0.49489795918367346\n",
      "\n"
     ]
    }
   ],
   "source": [
    "A_naive = approx_max_info(5)"
   ]
  },
  {
   "cell_type": "code",
   "execution_count": 22,
   "metadata": {
    "scrolled": true
   },
   "outputs": [
    {
     "data": {
      "application/vnd.jupyter.widget-view+json": {
       "model_id": "443cb9286d5240b8bbe53261831acb18",
       "version_major": 2,
       "version_minor": 0
      },
      "text/plain": [
       "HBox(children=(IntProgress(value=0, max=5), HTML(value='')))"
      ]
     },
     "metadata": {},
     "output_type": "display_data"
    },
    {
     "name": "stdout",
     "output_type": "stream",
     "text": [
      "\n"
     ]
    }
   ],
   "source": [
    "A_lazy =  approx_lazy_max_info(5)"
   ]
  },
  {
   "cell_type": "code",
   "execution_count": 7,
   "metadata": {},
   "outputs": [],
   "source": [
    "def cleanVTKfields(resultsVTK):\n",
    "    for f_name in resultsVTK.GetFieldNames():\n",
    "        resultsVTK.RemoveField(f_name)\n",
    "\n",
    "# Creating Results VTK \n",
    "resultsVTK = mydict[100]\n",
    "cleanVTKfields(resultsVTK)"
   ]
  },
  {
   "cell_type": "code",
   "execution_count": null,
   "metadata": {},
   "outputs": [],
   "source": []
  }
 ],
 "metadata": {
  "kernelspec": {
   "display_name": "Python [conda env:project]",
   "language": "python",
   "name": "conda-env-project-py"
  },
  "language_info": {
   "codemirror_mode": {
    "name": "ipython",
    "version": 3
   },
   "file_extension": ".py",
   "mimetype": "text/x-python",
   "name": "python",
   "nbconvert_exporter": "python",
   "pygments_lexer": "ipython3",
   "version": "3.6.8"
  }
 },
 "nbformat": 4,
 "nbformat_minor": 2
}
