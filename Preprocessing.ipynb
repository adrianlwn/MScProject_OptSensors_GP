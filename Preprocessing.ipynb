{
 "cells": [
  {
   "cell_type": "code",
   "execution_count": 1,
   "metadata": {},
   "outputs": [],
   "source": [
    "from utils.data_handling import *\n",
    "from utils.sensor_optimisation_gpy_sparse import *\n",
    "from parameters import *\n",
    "import GPy\n",
    "import scipy.stats\n",
    "from sklearn.covariance import GraphicalLasso\n",
    "\n",
    "\n",
    "import matplotlib.pyplot as plt\n",
    "np.random.seed(101)\n",
    "%matplotlib inline"
   ]
  },
  {
   "cell_type": "markdown",
   "metadata": {},
   "source": [
    "### Importing the Tracer Data to Select the Optimisation set S"
   ]
  },
  {
   "cell_type": "code",
   "execution_count": 2,
   "metadata": {},
   "outputs": [
    {
     "data": {
      "text/plain": [
       "{'i_start': 0,\n",
       " 'i_end': 988,\n",
       " 'crop': None,\n",
       " 'field_name': 'Tracer',\n",
       " 'cov_method': 'sample'}"
      ]
     },
     "execution_count": 2,
     "metadata": {},
     "output_type": "execute_result"
    }
   ],
   "source": [
    "parameters['i_end'] = 988\n",
    "parameters['field_name'] = \"Tracer\"\n",
    "parameters"
   ]
  },
  {
   "cell_type": "code",
   "execution_count": 3,
   "metadata": {},
   "outputs": [
    {
     "name": "stderr",
     "output_type": "stream",
     "text": [
      "\r",
      "  0%|          | 0/1 [00:00<?, ?it/s]"
     ]
    },
    {
     "name": "stdout",
     "output_type": "stream",
     "text": [
      "### Loading files from original VTU\n",
      "==> Import vtu files from 0 to 0\n"
     ]
    },
    {
     "name": "stderr",
     "output_type": "stream",
     "text": [
      "100%|██████████| 1/1 [00:00<00:00,  4.23it/s]\n"
     ]
    },
    {
     "name": "stdout",
     "output_type": "stream",
     "text": [
      "Number of Locations after cropping :  100040\n",
      "==> Loading from : ../data/temp_data/cache_0_988_None/loc_Tracer.pkl\n",
      "==> Loading from : ../data/temp_data/cache_0_988_None/time_Tracer.pkl\n",
      "==> Loading from : ../data/temp_data/cache_0_988_None/data_Tracer.pkl\n"
     ]
    }
   ],
   "source": [
    "loaded = initial_load_data(parameters, recompute=False)\n",
    "ref_vtu, data_df, loc_df, time_df = loaded"
   ]
  },
  {
   "cell_type": "markdown",
   "metadata": {},
   "source": [
    "### Working subset of the data : set S"
   ]
  },
  {
   "cell_type": "code",
   "execution_count": 4,
   "metadata": {},
   "outputs": [
    {
     "name": "stdout",
     "output_type": "stream",
     "text": [
      "The remaining number of points is :  57725\n"
     ]
    }
   ],
   "source": [
    "S = working_subset(data_df, loc_df, nbins = (25,25,25), threshold_sum = 10**-2 )"
   ]
  },
  {
   "cell_type": "markdown",
   "metadata": {},
   "source": [
    "### Import the Field of interest for computing the optimisation : TracerBackground / Pressure"
   ]
  },
  {
   "cell_type": "code",
   "execution_count": 5,
   "metadata": {},
   "outputs": [
    {
     "data": {
      "text/plain": [
       "{'i_start': 0,\n",
       " 'i_end': 988,\n",
       " 'crop': None,\n",
       " 'field_name': 'Tracer',\n",
       " 'cov_method': 'sample'}"
      ]
     },
     "execution_count": 5,
     "metadata": {},
     "output_type": "execute_result"
    }
   ],
   "source": [
    "parameters['i_end'] = 988\n",
    "parameters['field_name'] = \"Tracer\"\n",
    "parameters\n"
   ]
  },
  {
   "cell_type": "code",
   "execution_count": 6,
   "metadata": {},
   "outputs": [
    {
     "name": "stderr",
     "output_type": "stream",
     "text": [
      "100%|██████████| 1/1 [00:00<00:00,  5.86it/s]"
     ]
    },
    {
     "name": "stdout",
     "output_type": "stream",
     "text": [
      "### Loading files from original VTU\n",
      "==> Import vtu files from 0 to 0\n"
     ]
    },
    {
     "name": "stderr",
     "output_type": "stream",
     "text": [
      "\n"
     ]
    },
    {
     "name": "stdout",
     "output_type": "stream",
     "text": [
      "Number of Locations after cropping :  100040\n",
      "==> Loading from : ../data/temp_data/cache_0_988_None/loc_Tracer.pkl\n",
      "==> Loading from : ../data/temp_data/cache_0_988_None/time_Tracer.pkl\n",
      "==> Loading from : ../data/temp_data/cache_0_988_None/data_Tracer.pkl\n"
     ]
    }
   ],
   "source": [
    "loaded = initial_load_data(parameters, recompute=False)\n",
    "ref_vtu, data_df, loc_df, time_df = loaded"
   ]
  },
  {
   "cell_type": "code",
   "execution_count": 39,
   "metadata": {},
   "outputs": [
    {
     "data": {
      "text/plain": [
       "(100040, 989)"
      ]
     },
     "execution_count": 39,
     "metadata": {},
     "output_type": "execute_result"
    }
   ],
   "source": [
    "X = loc_df.values #[I,:dim]\n",
    "Z = data_df.values#[:,t].reshape(-1,1) # [I,t].reshape(-1,1)\n",
    "Z.shape"
   ]
  },
  {
   "cell_type": "markdown",
   "metadata": {},
   "source": [
    "### Detrending Data : \n",
    "Plotting the data along each direction in order to see if there is a obvious trend. It seams that it is not the case. "
   ]
  },
  {
   "cell_type": "code",
   "execution_count": 49,
   "metadata": {},
   "outputs": [
    {
     "data": {
      "text/plain": [
       "array([-23.50261288,  25.09719562,  11.76448376])"
      ]
     },
     "execution_count": 49,
     "metadata": {},
     "output_type": "execute_result"
    }
   ],
   "source": [
    "# Tracer Starting point\n",
    "X_0 = X[np.unravel_index(Z.argmax(), Z.shape)[0],:]\n",
    "X_0"
   ]
  },
  {
   "cell_type": "code",
   "execution_count": 65,
   "metadata": {},
   "outputs": [
    {
     "data": {
      "image/png": "[encoded data removed]",
      "text/plain": [
       "<Figure size 720x360 with 1 Axes>"
      ]
     },
     "metadata": {
      "needs_background": "light"
     },
     "output_type": "display_data"
    }
   ],
   "source": [
    "plt.figure(figsize=(10,5))\n",
    "plt.scatter(np.linalg.norm(X[S,:] - X_0,axis=1),Z[S,:].mean(axis=1),s=0.3)\n",
    "plt.xlabel(r'Distance from $X_0$ [m]')\n",
    "plt.ylabel(r'Tracer Concentration Mean')\n",
    "plt.grid()"
   ]
  },
  {
   "cell_type": "markdown",
   "metadata": {},
   "source": [
    "Temporal Analysis : "
   ]
  },
  {
   "cell_type": "code",
   "execution_count": 68,
   "metadata": {},
   "outputs": [],
   "source": [
    "# Threshold bellow which everything is zero : \n",
    "thresh = 0.000000000001"
   ]
  },
  {
   "cell_type": "code",
   "execution_count": 70,
   "metadata": {},
   "outputs": [
    {
     "data": {
      "text/plain": [
       "Text(0.5, 1.0, 'Percentage of points over $\\\\tau$ = 1e-12')"
      ]
     },
     "execution_count": 70,
     "metadata": {},
     "output_type": "execute_result"
    },
    {
     "data": {
      "image/png": "[encoded data removed]",
      "text/plain": [
       "<Figure size 720x360 with 1 Axes>"
      ]
     },
     "metadata": {
      "needs_background": "light"
     },
     "output_type": "display_data"
    }
   ],
   "source": [
    "# plot of the non zero elements in function of the time \n",
    "plt.figure(figsize=(10,5))\n",
    "plt.plot(time_df,100*np.sum(Z[S,:]>=thresh,axis=0)/len(S));\n",
    "plt.xlabel('Time [s]')\n",
    "plt.ylabel(r'Percentage of points over $\\tau$ = ' + str(thresh))\n",
    "plt.grid()\n",
    "plt.title(r'Percentage of points over $\\tau$ = ' + str(thresh))\n"
   ]
  },
  {
   "cell_type": "code",
   "execution_count": null,
   "metadata": {},
   "outputs": [
    {
     "data": {
      "text/plain": [
       "(100040, 789)"
      ]
     },
     "execution_count": 11,
     "metadata": {},
     "output_type": "execute_result"
    }
   ],
   "source": [
    "Z[Z<thresh] = 0\n",
    "Z = Z[:,200:]\n",
    "Z.shape"
   ]
  },
  {
   "cell_type": "markdown",
   "metadata": {},
   "source": [
    "What should I do : \n",
    "- Cut the time at 200: ?\n",
    "- replace the values bellow the threshold by 0 ? \n"
   ]
  },
  {
   "cell_type": "code",
   "execution_count": null,
   "metadata": {},
   "outputs": [],
   "source": [
    "Z[S,:] = (Z[S,:] - Z[S,:].mean(axis=1,keepdims=True))"
   ]
  },
  {
   "cell_type": "code",
   "execution_count": null,
   "metadata": {},
   "outputs": [
    {
     "data": {
      "text/plain": [
       "(100040, 789)"
      ]
     },
     "execution_count": 13,
     "metadata": {},
     "output_type": "execute_result"
    }
   ],
   "source": [
    "Z.shape"
   ]
  },
  {
   "cell_type": "code",
   "execution_count": null,
   "metadata": {},
   "outputs": [
    {
     "name": "stdout",
     "output_type": "stream",
     "text": [
      "CPU times: user 3min 34s, sys: 2min 14s, total: 5min 48s\n",
      "Wall time: 1min 21s\n"
     ]
    }
   ],
   "source": [
    "%%time\n",
    "Cov_SS = np.cov(Z[S[:],:])"
   ]
  },
  {
   "cell_type": "code",
   "execution_count": null,
   "metadata": {},
   "outputs": [],
   "source": [
    "%%time\n",
    "cov_SS_lasso = GraphicalLasso(verbose=True).fit(Z[S[:],:].T)\n"
   ]
  },
  {
   "cell_type": "code",
   "execution_count": null,
   "metadata": {},
   "outputs": [],
   "source": [
    "cov_SS_lasso.covariance_.shape\n"
   ]
  },
  {
   "cell_type": "code",
   "execution_count": 70,
   "metadata": {},
   "outputs": [
    {
     "data": {
      "text/plain": [
       "(57725, 789)"
      ]
     },
     "execution_count": 70,
     "metadata": {},
     "output_type": "execute_result"
    }
   ],
   "source": [
    "Z[S[:],:]"
   ]
  },
  {
   "cell_type": "code",
   "execution_count": 16,
   "metadata": {},
   "outputs": [
    {
     "data": {
      "text/plain": [
       "(57725, 57725)"
      ]
     },
     "execution_count": 16,
     "metadata": {},
     "output_type": "execute_result"
    }
   ],
   "source": [
    "Cov_SS.shape"
   ]
  },
  {
   "cell_type": "code",
   "execution_count": null,
   "metadata": {},
   "outputs": [],
   "source": []
  },
  {
   "cell_type": "code",
   "execution_count": null,
   "metadata": {},
   "outputs": [],
   "source": [
    "fig = plt.figure(figsize=(10,8))\n",
    "ax = fig.add_subplot(111)\n",
    "cax = ax.matshow(np.log(Cov_SS))\n",
    "fig.colorbar(cax)"
   ]
  },
  {
   "cell_type": "code",
   "execution_count": null,
   "metadata": {},
   "outputs": [],
   "source": [
    "fig = plt.figure(figsize=(10,8))\n",
    "ax = fig.add_subplot(111)\n",
    "cax = ax.matshow(Cov_SS)\n",
    "fig.colorbar(cax)"
   ]
  },
  {
   "cell_type": "code",
   "execution_count": 74,
   "metadata": {},
   "outputs": [
    {
     "data": {
      "text/plain": [
       "0.06778007469854384"
      ]
     },
     "execution_count": 74,
     "metadata": {},
     "output_type": "execute_result"
    }
   ],
   "source": [
    "(6.50236874e-15) / np.sqrt(5.79668733e-14 * 1.58766630e-13)"
   ]
  },
  {
   "cell_type": "code",
   "execution_count": null,
   "metadata": {},
   "outputs": [],
   "source": []
  }
 ],
 "metadata": {
  "kernelspec": {
   "display_name": "Python [conda env:project] *",
   "language": "python",
   "name": "conda-env-project-py"
  },
  "language_info": {
   "codemirror_mode": {
    "name": "ipython",
    "version": 3
   },
   "file_extension": ".py",
   "mimetype": "text/x-python",
   "name": "python",
   "nbconvert_exporter": "python",
   "pygments_lexer": "ipython3",
   "version": "3.6.8"
  }
 },
 "nbformat": 4,
 "nbformat_minor": 2
}
