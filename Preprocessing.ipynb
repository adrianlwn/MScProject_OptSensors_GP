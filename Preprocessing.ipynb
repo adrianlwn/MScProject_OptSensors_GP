{
 "cells": [
  {
   "cell_type": "code",
   "execution_count": 102,
   "metadata": {},
   "outputs": [],
   "source": [
    "from utils.data_handling import *\n",
    "from utils.sensor_optimisation import *\n",
    "from parameters import *\n",
    "import GPy\n",
    "import scipy.stats\n",
    "from sklearn.covariance import GraphicalLasso\n",
    "\n",
    "\n",
    "import matplotlib.pyplot as plt\n",
    "np.random.seed(101)\n",
    "%matplotlib inline"
   ]
  },
  {
   "cell_type": "markdown",
   "metadata": {},
   "source": [
    "### Importing the Tracer Data to Select the Optimisation set S"
   ]
  },
  {
   "cell_type": "code",
   "execution_count": 103,
   "metadata": {},
   "outputs": [
    {
     "data": {
      "text/plain": [
       "{'i_start': 0,\n",
       " 'i_end': 988,\n",
       " 'crop': None,\n",
       " 'field_name': 'Tracer',\n",
       " 'cov_method': 'sample'}"
      ]
     },
     "execution_count": 103,
     "metadata": {},
     "output_type": "execute_result"
    }
   ],
   "source": [
    "parameters['i_end'] = 988\n",
    "parameters['field_name'] = \"Tracer\"\n",
    "parameters"
   ]
  },
  {
   "cell_type": "code",
   "execution_count": 104,
   "metadata": {},
   "outputs": [
    {
     "name": "stderr",
     "output_type": "stream",
     "text": [
      "100%|██████████| 1/1 [00:00<00:00,  6.60it/s]"
     ]
    },
    {
     "name": "stdout",
     "output_type": "stream",
     "text": [
      "### Loading files from original VTU\n",
      "==> Import vtu files from 0 to 0\n"
     ]
    },
    {
     "name": "stderr",
     "output_type": "stream",
     "text": [
      "\n"
     ]
    },
    {
     "name": "stdout",
     "output_type": "stream",
     "text": [
      "Number of Locations after cropping :  100040\n",
      "==> Loading from : ../data/temp_data/cache_0_988_None/loc_Tracer.pkl\n",
      "==> Loading from : ../data/temp_data/cache_0_988_None/time_Tracer.pkl\n",
      "==> Loading from : ../data/temp_data/cache_0_988_None/data_Tracer.pkl\n"
     ]
    }
   ],
   "source": [
    "loaded = initial_load_data(parameters, recompute=False)\n",
    "ref_vtu, data_df, loc_df, time_df = loaded"
   ]
  },
  {
   "cell_type": "markdown",
   "metadata": {},
   "source": [
    "### Working subset of the data : set S"
   ]
  },
  {
   "cell_type": "code",
   "execution_count": null,
   "metadata": {},
   "outputs": [],
   "source": []
  },
  {
   "cell_type": "code",
   "execution_count": 105,
   "metadata": {},
   "outputs": [
    {
     "name": "stdout",
     "output_type": "stream",
     "text": [
      "The remaining number of points is :  37847\n"
     ]
    }
   ],
   "source": [
    "S_human = human_level_subset(buildingshape, loc_df, 2,1 )\n",
    "print(\"The remaining number of points is : \", str(len(S_human)))"
   ]
  },
  {
   "cell_type": "code",
   "execution_count": 106,
   "metadata": {},
   "outputs": [
    {
     "name": "stdout",
     "output_type": "stream",
     "text": [
      "The remaining number of points is :  57725\n"
     ]
    }
   ],
   "source": [
    "S_working = working_subset(data_df, loc_df, nbins = (25,25,25), threshold_sum = 10**-2 )\n",
    "print(\"The remaining number of points is : \", str(len(S_working)))"
   ]
  },
  {
   "cell_type": "code",
   "execution_count": 107,
   "metadata": {},
   "outputs": [
    {
     "name": "stdout",
     "output_type": "stream",
     "text": [
      "The remaining number of points is :  23643\n"
     ]
    }
   ],
   "source": [
    "S = np.intersect1d(S_human,S_working)\n",
    "print(\"The remaining number of points is : \", str(len(S)))"
   ]
  },
  {
   "cell_type": "markdown",
   "metadata": {},
   "source": [
    "### Import the Field of interest for computing the optimisation : TracerBackground / Pressure"
   ]
  },
  {
   "cell_type": "code",
   "execution_count": 160,
   "metadata": {},
   "outputs": [
    {
     "data": {
      "text/plain": [
       "{'i_start': 0,\n",
       " 'i_end': 988,\n",
       " 'crop': None,\n",
       " 'field_name': 'Tracer',\n",
       " 'cov_method': 'sample'}"
      ]
     },
     "execution_count": 160,
     "metadata": {},
     "output_type": "execute_result"
    }
   ],
   "source": [
    "parameters['i_end'] = 988\n",
    "parameters['field_name'] = \"Tracer\"\n",
    "parameters\n"
   ]
  },
  {
   "cell_type": "code",
   "execution_count": 161,
   "metadata": {},
   "outputs": [
    {
     "name": "stderr",
     "output_type": "stream",
     "text": [
      "\r",
      "  0%|          | 0/1 [00:00<?, ?it/s]"
     ]
    },
    {
     "name": "stdout",
     "output_type": "stream",
     "text": [
      "### Loading files from original VTU\n",
      "==> Import vtu files from 0 to 0\n"
     ]
    },
    {
     "name": "stderr",
     "output_type": "stream",
     "text": [
      "100%|██████████| 1/1 [00:00<00:00,  3.35it/s]\n"
     ]
    },
    {
     "name": "stdout",
     "output_type": "stream",
     "text": [
      "Number of Locations after cropping :  100040\n",
      "==> Loading from : ../data/temp_data/cache_0_988_None/loc_Tracer.pkl\n",
      "==> Loading from : ../data/temp_data/cache_0_988_None/time_Tracer.pkl\n",
      "==> Loading from : ../data/temp_data/cache_0_988_None/data_Tracer.pkl\n"
     ]
    }
   ],
   "source": [
    "loaded = initial_load_data(parameters, recompute=False)\n",
    "ref_vtu, data_df, loc_df, time_df = loaded"
   ]
  },
  {
   "cell_type": "code",
   "execution_count": 162,
   "metadata": {},
   "outputs": [
    {
     "data": {
      "text/plain": [
       "(100040, 989)"
      ]
     },
     "execution_count": 162,
     "metadata": {},
     "output_type": "execute_result"
    }
   ],
   "source": [
    "X = loc_df.values #[I,:dim]\n",
    "Z = data_df.values#[:,t].reshape(-1,1) # [I,t].reshape(-1,1)\n",
    "Z.shape"
   ]
  },
  {
   "cell_type": "markdown",
   "metadata": {},
   "source": [
    "### Detrending Data : \n",
    "Plotting the data along each direction in order to see if there is a obvious trend. It seams that it is not the case. "
   ]
  },
  {
   "cell_type": "code",
   "execution_count": 12,
   "metadata": {},
   "outputs": [
    {
     "data": {
      "text/plain": [
       "array([-23.50261288,  25.09719562,  11.76448376])"
      ]
     },
     "execution_count": 12,
     "metadata": {},
     "output_type": "execute_result"
    }
   ],
   "source": [
    "# Tracer Starting point\n",
    "X_0 = X[np.unravel_index(Z.argmax(), Z.shape)[0],:]\n",
    "X_0"
   ]
  },
  {
   "cell_type": "code",
   "execution_count": 13,
   "metadata": {},
   "outputs": [
    {
     "data": {
      "image/png": "[encoded data removed]",
      "text/plain": [
       "<Figure size 720x360 with 1 Axes>"
      ]
     },
     "metadata": {
      "needs_background": "light"
     },
     "output_type": "display_data"
    }
   ],
   "source": [
    "fig =plt.figure(figsize=(10,5))\n",
    "ax = plt.gca()\n",
    "ax.set_yscale('log')\n",
    "#ax.set_xscale('log')\n",
    "ax.plot(np.linalg.norm(X[:,:] - X_0,axis=1),Z[:,:].mean(axis=1),'o', c='blue', alpha=1, markeredgecolor='none',markersize=0.5)\n",
    "plt.xlabel(r'Distance from $X_0$ [m]')\n",
    "plt.ylabel(r'Tracer Concentration Mean')\n",
    "plt.grid()\n"
   ]
  },
  {
   "cell_type": "markdown",
   "metadata": {},
   "source": [
    "Temporal Analysis : "
   ]
  },
  {
   "cell_type": "code",
   "execution_count": 14,
   "metadata": {},
   "outputs": [],
   "source": [
    "# Threshold bellow which everything is zero : \n",
    "thresh = 0.000000000001"
   ]
  },
  {
   "cell_type": "code",
   "execution_count": 170,
   "metadata": {},
   "outputs": [
    {
     "data": {
      "text/plain": [
       "Text(0.5, 1.0, 'Percentage of points over $\\\\tau$ = 1e-12')"
      ]
     },
     "execution_count": 170,
     "metadata": {},
     "output_type": "execute_result"
    },
    {
     "data": {
      "image/png": "[encoded data removed]",
      "text/plain": [
       "<Figure size 432x360 with 1 Axes>"
      ]
     },
     "metadata": {
      "needs_background": "light"
     },
     "output_type": "display_data"
    }
   ],
   "source": [
    "# plot of the non zero elements in function of the time \n",
    "plt.figure(figsize=(6,5))\n",
    "plt.plot(time_df,100*np.sum(Z[:,:]>=thresh,axis=0)/Z.shape[0]);\n",
    "plt.xlabel('Time [s]')\n",
    "plt.ylabel(r'Percentage of points over $\\tau$ = ' + str(thresh))\n",
    "plt.grid()\n",
    "plt.title(r'Percentage of points over $\\tau$ = ' + str(thresh))\n"
   ]
  },
  {
   "cell_type": "code",
   "execution_count": 16,
   "metadata": {},
   "outputs": [
    {
     "data": {
      "text/plain": [
       "Text(0.5, 1.0, 'Percentage of points over $\\\\tau$ = 1e-12')"
      ]
     },
     "execution_count": 16,
     "metadata": {},
     "output_type": "execute_result"
    },
    {
     "data": {
      "image/png": "[encoded data removed]",
      "text/plain": [
       "<Figure size 720x360 with 1 Axes>"
      ]
     },
     "metadata": {
      "needs_background": "light"
     },
     "output_type": "display_data"
    }
   ],
   "source": [
    "# plot of the non zero elements in function of the time \n",
    "plt.figure(figsize=(10,5))\n",
    "plt.plot(time_df,np.max(Z[:,:],axis=0));\n",
    "plt.plot(time_df,np.min(Z[:,:],axis=0));\n",
    "\n",
    "plt.xlabel('Time [s]')\n",
    "plt.ylabel(r'Percentage of points over $\\tau$ = ' + str(thresh))\n",
    "plt.grid()\n",
    "plt.title(r'Percentage of points over $\\tau$ = ' + str(thresh))\n"
   ]
  },
  {
   "cell_type": "code",
   "execution_count": 17,
   "metadata": {},
   "outputs": [],
   "source": [
    "Z[S,:] = (Z[S,:] - Z[S,:].mean(axis=1,keepdims=True))"
   ]
  },
  {
   "cell_type": "code",
   "execution_count": 18,
   "metadata": {},
   "outputs": [
    {
     "data": {
      "text/plain": [
       "(100040, 989)"
      ]
     },
     "execution_count": 18,
     "metadata": {},
     "output_type": "execute_result"
    }
   ],
   "source": [
    "Z.shape"
   ]
  },
  {
   "cell_type": "markdown",
   "metadata": {},
   "source": [
    "Plot of covariance in function of distance "
   ]
  },
  {
   "cell_type": "code",
   "execution_count": 20,
   "metadata": {},
   "outputs": [],
   "source": [
    "from sklearn.covariance import *\n"
   ]
  },
  {
   "cell_type": "code",
   "execution_count": 21,
   "metadata": {},
   "outputs": [],
   "source": [
    "cov, shrinkage_coef = oas(Z[S,:].T)\n"
   ]
  },
  {
   "cell_type": "code",
   "execution_count": 79,
   "metadata": {},
   "outputs": [],
   "source": [
    "i_0 = 3078#np.unravel_index(Z.argmax(), Z.shape)[0]\n",
    "dist = (loc_df.loc[S,:]-loc_df.loc[i_0,:]).apply(np.linalg.norm,axis=1).values"
   ]
  },
  {
   "cell_type": "code",
   "execution_count": 80,
   "metadata": {},
   "outputs": [
    {
     "data": {
      "text/plain": [
       "[<matplotlib.lines.Line2D at 0x7f331d4d4208>]"
      ]
     },
     "execution_count": 80,
     "metadata": {},
     "output_type": "execute_result"
    },
    {
     "data": {
      "image/png": "[encoded data removed]",
      "text/plain": [
       "<Figure size 576x360 with 1 Axes>"
      ]
     },
     "metadata": {
      "needs_background": "light"
     },
     "output_type": "display_data"
    }
   ],
   "source": [
    "fig = plt.figure(figsize=(8,5))\n",
    "ax = fig.gca()\n",
    "ax.set_yscale('linear')\n",
    "\n",
    "ax.plot(dist,cov[i_0,:],'o')"
   ]
  },
  {
   "cell_type": "code",
   "execution_count": 81,
   "metadata": {},
   "outputs": [
    {
     "data": {
      "text/plain": [
       "9739"
      ]
     },
     "execution_count": 81,
     "metadata": {},
     "output_type": "execute_result"
    }
   ],
   "source": [
    "np.unravel_index(Z.argmax(), Z.shape)[0]"
   ]
  },
  {
   "cell_type": "code",
   "execution_count": 70,
   "metadata": {},
   "outputs": [
    {
     "data": {
      "text/plain": [
       "array([0, 0, 1, 1, 1, 1, 1, 1, 1, 1])"
      ]
     },
     "execution_count": 70,
     "metadata": {},
     "output_type": "execute_result"
    }
   ],
   "source": [
    "a = np.array([1]*10)\n",
    "b = a.copy()\n",
    "b[:2] = 0\n",
    "b"
   ]
  },
  {
   "cell_type": "code",
   "execution_count": 71,
   "metadata": {},
   "outputs": [
    {
     "data": {
      "text/plain": [
       "8"
      ]
     },
     "execution_count": 71,
     "metadata": {},
     "output_type": "execute_result"
    }
   ],
   "source": [
    "a @ b"
   ]
  },
  {
   "cell_type": "markdown",
   "metadata": {},
   "source": [
    "Z.shape"
   ]
  },
  {
   "cell_type": "code",
   "execution_count": null,
   "metadata": {},
   "outputs": [],
   "source": [
    "Z_norm = (Z - Z.mean(axis=1,keepdims=True))"
   ]
  },
  {
   "cell_type": "code",
   "execution_count": 154,
   "metadata": {},
   "outputs": [
    {
     "data": {
      "text/plain": [
       "array([-2.93246299e+00,  4.16757663e+01,  4.53000791e+01,  4.20345236e+01,\n",
       "        3.18254010e+01,  8.73828792e+00, -5.24024297e+00, -1.02942611e+01,\n",
       "       -2.79976621e+01, -3.59033568e+01, -5.12542458e+01, -4.58535325e+01,\n",
       "       -2.73788877e+01, -2.46190414e+01, -1.75531290e+01, -8.86239715e+00,\n",
       "       -6.54846225e+00,  8.04836906e+00,  4.34129031e+00,  8.18817848e+00,\n",
       "        6.94066890e+00, -2.05417342e+00,  4.42594747e+00,  1.66726361e+01,\n",
       "        4.83635018e+00,  7.30249054e-01, -8.45432012e+00, -8.77720708e+00,\n",
       "       -1.26446353e+01, -2.61936891e+01, -4.18635098e+01, -2.61951004e+01,\n",
       "       -1.27401975e+01, -4.98417305e+00,  1.93533812e+01,  3.54452941e+01,\n",
       "        5.48575795e+01,  6.28742966e+01,  5.08886772e+01,  3.74513981e+01,\n",
       "        1.73200489e+01, -9.57502520e+00, -2.95973558e+01, -4.25764642e+01,\n",
       "       -5.26066239e+01, -5.24307959e+01, -5.16950803e+01, -3.27832137e+01,\n",
       "       -2.30528241e+01, -2.27857063e+01, -2.41431716e+01, -1.77359000e+01,\n",
       "       -2.93956944e+00,  4.66907710e+00, -1.36784245e+00,  1.51781912e+01,\n",
       "        4.40702721e+01,  5.16361201e+01,  5.12624351e+01,  3.35852102e+01,\n",
       "        1.98137582e+01,  1.05934959e+01, -9.55310221e+00, -2.40125632e+01,\n",
       "       -1.34517627e+01, -1.24904051e+01,  6.16789845e+00,  2.76242851e+01,\n",
       "        2.91689762e+01,  1.64461166e+01,  7.24572288e+00, -2.46038505e+01,\n",
       "       -2.72281562e+01, -4.61098221e+01, -7.19296662e+01, -5.21805841e+01,\n",
       "       -3.76857265e+01, -2.22837311e+01,  1.08297562e+01,  1.00022080e+01,\n",
       "        3.01890822e+01,  4.95906204e+01,  5.77677635e+01,  5.41373468e+01,\n",
       "        3.44760065e+01,  1.85428363e+01,  1.40811586e+01,  4.98712979e+00,\n",
       "       -2.20347182e+01, -4.04530356e+01, -2.86217375e+01, -1.48019994e+01,\n",
       "       -1.36457200e+01, -8.07538957e+00, -1.52740478e+00,  1.21177514e+01,\n",
       "        1.00918149e+01, -9.26481196e-01, -9.72427097e+00, -4.71449441e+00,\n",
       "       -1.43987251e+01, -2.55552233e+01, -2.71669802e+01, -2.00128138e+01,\n",
       "       -8.14862019e+00, -1.37455135e+01, -2.39599370e+01, -8.27123499e+00,\n",
       "       -9.32593881e+00,  5.50026605e+00,  3.04833914e+00,  5.22835522e+00,\n",
       "        2.23026492e+01,  3.56443343e+01,  2.16460196e+01,  2.46733397e+01,\n",
       "        1.45828306e+01,  8.24495916e+00, -9.67320372e-01,  2.04193139e+00,\n",
       "        2.39496164e+00,  1.78762695e+01,  1.16763114e+01,  5.95575043e+00,\n",
       "        7.57643293e+00,  5.38655162e+00, -1.08199515e+01, -1.89046766e+01,\n",
       "       -2.17880658e+01, -1.06839964e+01, -1.73936730e+01, -2.08730053e+01,\n",
       "       -1.14509461e+01, -1.19848153e+01, -6.46495369e+00, -1.16940663e+01,\n",
       "       -6.86791332e+00,  1.31249432e+01,  1.08514211e+01,  3.31192223e+00,\n",
       "        7.36342121e+00,  9.80168149e+00,  4.45687153e+00,  3.82716967e+00,\n",
       "        4.00130277e+00,  2.60271045e+01,  2.44642686e+01,  8.53637438e+00,\n",
       "        1.70224125e+01,  2.24515527e+01,  5.69775897e+00, -5.17499493e+00,\n",
       "       -5.70592860e+00,  2.39226758e+01,  3.72517068e+01,  2.64893093e+01,\n",
       "        2.35995331e+01,  3.04729794e+01,  1.53874819e+01, -1.17020494e+01,\n",
       "       -3.68102087e+01, -3.29529424e+01, -3.53061232e+01, -3.43878590e+01,\n",
       "       -3.89858986e+01, -1.83379772e+01, -8.14780612e+00, -9.99727001e+00,\n",
       "       -1.47444008e+01,  4.19767532e+00,  3.84008260e+00,  1.01084563e+01,\n",
       "        9.07104948e+00,  2.82616144e+01,  2.43126047e+01,  1.03092013e+01,\n",
       "       -6.81617293e+00,  6.23202520e-01, -6.68212679e+00, -3.45788313e+01,\n",
       "       -5.20309432e+01, -3.16395042e+01, -2.08538750e+01, -7.08618288e+00,\n",
       "       -5.16176240e+00,  7.76166202e+00,  3.67799755e+01,  3.88715656e+01,\n",
       "        2.52615781e+01,  3.14365197e+01,  6.17369265e+00,  3.47407979e+00,\n",
       "       -1.90588698e+00, -9.99650787e+00, -2.15997018e+01, -3.32739788e+01,\n",
       "       -3.71225621e+01, -1.67179417e+01, -2.15217148e+01, -3.07396342e+01,\n",
       "       -2.69938711e+01, -2.77145566e+00,  8.66495888e+00,  9.94091137e+00,\n",
       "        9.65714657e+00,  1.30294470e+01,  1.67420556e+01,  9.99253639e+00,\n",
       "       -5.99355050e-01,  1.19831707e+00,  3.17351627e+00, -6.33137470e+00,\n",
       "        3.86274451e+00,  1.98843756e+01,  3.63776942e+01,  3.33973536e+01,\n",
       "        3.08138340e+01,  9.18673509e+00,  4.74998242e+00, -4.55356331e+00,\n",
       "       -2.23244996e+01, -2.83568840e+01, -3.04825726e+01, -2.58219443e+01,\n",
       "       -5.55031644e+00,  6.04590586e-01,  3.41249751e+00,  1.49390496e+01,\n",
       "       -6.97754683e+00,  1.47022900e+01,  1.21922648e+01,  1.21324160e+01,\n",
       "        1.49147792e+01,  8.89485451e+00,  1.20565709e+01,  1.54359440e+01,\n",
       "       -6.91761824e+00, -2.37901011e+00, -1.55523460e+01, -1.18691320e+01,\n",
       "       -7.79878606e+00, -1.94265967e+01, -1.05400385e+01,  1.30785980e+01,\n",
       "        1.48064449e+01,  1.98468303e+01,  5.02621099e+00,  8.21667593e+00,\n",
       "        2.76035568e+01,  1.72287280e+01,  5.43246194e+00,  3.30291310e+00,\n",
       "        9.17614193e+00,  3.12633808e+01,  2.80586364e+01,  3.11036048e+01,\n",
       "        3.76030004e+01,  3.03933146e+01,  2.29585391e+01,  7.11901596e+00,\n",
       "        3.76332918e+00, -1.54535262e+01, -3.48499290e+01, -4.37609652e+01,\n",
       "       -3.67380677e+01, -1.94985680e+01, -1.57602610e+01, -1.47382284e+01,\n",
       "        4.80871832e-01,  1.82088994e+01,  3.89113426e+01,  3.20633597e+01,\n",
       "        2.63413416e+01,  1.84574816e+01,  8.47363966e+00, -1.93527746e+00,\n",
       "       -1.63974856e+01, -2.73621902e+01, -3.26547215e+01, -3.15508132e+01,\n",
       "       -1.65241856e+01, -7.26598593e+00, -4.87878985e+00, -7.23723812e-01,\n",
       "       -2.19237069e+00,  1.15638721e+01,  4.16470553e+00, -8.98858774e+00,\n",
       "        3.52485097e-01,  3.22616985e+00, -4.39323248e+00, -4.27600193e+00,\n",
       "       -7.63734001e+00, -3.51166865e+00,  3.87929858e+00, -5.78622197e-01,\n",
       "        9.33000965e+00,  2.91479307e+01,  2.75516774e+01,  2.86631283e+01,\n",
       "        3.55317552e+01,  3.68134529e+01,  1.86224712e+01,  3.73092553e+00,\n",
       "       -1.86082071e+01, -2.43631443e+01, -2.66963164e+01, -3.47267960e+01,\n",
       "       -3.73438686e+01, -1.86304953e+01, -9.41402425e+00, -5.71124038e+00,\n",
       "       -3.20933918e+00, -5.66491076e+00, -6.18754022e+00, -5.10754706e+00,\n",
       "       -9.91163176e+00, -1.54037892e+00,  9.57043543e+00,  1.89206142e+01,\n",
       "        3.09132025e+01,  2.98334655e+01,  2.69361143e+01,  2.35002285e+01,\n",
       "        1.42689053e+01,  1.95237462e+00, -1.92341058e+01, -4.49342292e+01,\n",
       "       -3.47248944e+01, -2.98162690e+01, -4.57450627e+01, -6.17587700e+01,\n",
       "       -4.84166713e+01, -3.23091831e+01, -2.11074412e+01, -2.84601027e+01,\n",
       "       -3.58789142e+01,  2.05538057e+00,  2.13287410e+01,  2.85954715e+01,\n",
       "        3.24072311e+01,  3.96558294e+01,  4.41627710e+01,  5.68840678e+01,\n",
       "        3.03786739e+01,  2.55514708e+01,  6.32059282e+00, -1.53698775e+00,\n",
       "       -1.15867793e+01, -2.12472167e+01, -3.46076872e+01, -2.96224707e+01,\n",
       "       -2.83326150e+01, -1.84206840e+01, -9.81136867e+00, -1.97541915e+00,\n",
       "        8.07598934e+00,  2.55769233e+01,  2.81717335e+01,  2.42132095e+01,\n",
       "        1.04896216e+00, -5.67694381e+00, -1.97689662e+01, -3.70152501e+01,\n",
       "       -5.86287457e+01, -4.68817397e+01, -3.39776085e+01,  7.18242427e+00,\n",
       "        1.82138074e+01,  3.46085569e+01,  5.49510874e+01,  6.71303970e+01,\n",
       "        5.90618410e+01,  3.79489990e+01,  1.97610676e+01,  1.43725174e+01,\n",
       "        2.53578467e+00, -1.16592114e+01, -1.48428027e+01, -1.09229645e+01,\n",
       "       -1.60773965e+01, -2.88654671e+01, -3.28727400e+01, -1.49403117e+01,\n",
       "       -1.51086119e+01, -2.34094263e+01, -2.96601585e+01, -2.71274546e+00,\n",
       "        9.24692310e+00,  1.12216469e+01,  7.13077567e+00,  9.33786861e+00,\n",
       "        2.06397789e+01,  1.94322169e+01,  1.86659198e+01,  1.25830027e+01,\n",
       "        5.25394383e+00,  8.10851614e+00,  1.86972169e+01,  2.05903324e+01,\n",
       "        1.17255281e+01, -4.60687819e+00,  6.31206529e+00, -7.99501388e+00,\n",
       "       -1.60467977e+01, -2.43250487e+01, -2.23577907e+01, -4.17214703e+00,\n",
       "        9.70779650e-01,  1.46570988e+01,  3.32023476e+01,  4.22087755e+01,\n",
       "        2.88630944e+01,  2.64829642e+01,  1.80543470e+01,  1.32236630e+01,\n",
       "       -9.22973638e+00, -2.18414070e+01, -2.14763820e+01, -4.10666700e+00,\n",
       "       -3.01859129e+00, -7.17119659e+00, -9.94192150e+00, -8.48051925e+00,\n",
       "        4.02141845e+00, -4.44369979e+00, -1.50705512e+01, -1.62451337e+01,\n",
       "       -1.03858447e+01,  3.77864350e+00,  1.87685558e+01,  9.39633256e+00,\n",
       "        2.51612329e+01,  2.71870706e+01,  3.01266744e+01,  3.67369407e+01,\n",
       "        3.42426640e+01,  3.15197723e+01,  3.70730020e+01,  2.64646138e+01,\n",
       "        3.29242330e+01,  2.81092226e+01,  1.85111729e+01,  5.87345002e+00,\n",
       "       -1.37314185e+01, -3.19464232e+01, -3.21952873e+01, -4.87639231e+01,\n",
       "       -4.55519528e+01, -5.45515187e+01, -5.15384669e+01, -2.96692219e+01,\n",
       "       -6.80894025e+00, -9.85434886e+00,  1.03633320e+01,  8.76194708e+00,\n",
       "        2.35748910e+01,  3.81076313e+01,  2.32710198e+01,  7.50860154e+00,\n",
       "        1.48007466e+01,  4.88510598e+00,  1.92406591e+01,  1.37723639e+01,\n",
       "        8.02672572e+00,  1.25075738e+01,  3.43134263e+01,  3.34202963e+01,\n",
       "        1.99738230e+01,  8.64244343e+00,  1.25444463e+01,  2.28796134e+00,\n",
       "       -4.09457753e+00, -3.18468737e+01, -3.00239332e+01, -1.58646290e+01,\n",
       "       -1.42792519e+01, -2.22187039e+01, -8.36642102e+00,  2.68857281e+00,\n",
       "        1.22155636e+01,  3.30092857e+00,  1.98385584e+00, -3.60790020e+00,\n",
       "        1.00876261e+00, -8.82818305e+00, -1.60417122e+01, -7.14627088e+00,\n",
       "        6.35032650e-01, -4.66977593e+00,  1.29234856e+01,  5.76860595e+00,\n",
       "        8.54442604e+00,  2.03434014e+01,  7.21382787e+00,  5.83897681e+00,\n",
       "        5.97907318e+00, -3.38142747e+00,  3.89480411e-01, -1.31553488e+01,\n",
       "       -3.06325829e+01, -2.49413438e+01, -3.38371373e+01, -1.94383588e+01,\n",
       "       -1.82742584e+01, -9.53140212e+00,  1.54753905e+01,  3.32249041e+01,\n",
       "        3.91509875e+01,  3.59711336e+01,  1.70463917e+01,  1.18809038e+01,\n",
       "        2.48910723e+00, -8.19482081e+00, -1.93374911e+01, -1.69313525e+01,\n",
       "       -5.95502108e+00, -1.66620021e+00,  1.26085253e+01,  1.42979907e+01,\n",
       "        8.70017697e+00,  1.15565449e+01,  6.33384888e+00,  1.44102265e+00,\n",
       "        1.29126608e-01, -1.34629680e+01, -1.62791117e+01, -1.32781006e+01,\n",
       "       -1.03451269e+01, -1.42604848e+01, -1.99383943e+01, -2.61901592e+01,\n",
       "       -2.78881210e+01, -1.90004058e+01, -2.56310299e+01, -2.69298254e+01,\n",
       "       -1.94776550e+01, -1.35848841e+01,  7.09794676e+00,  1.86292923e+01,\n",
       "        2.04071402e+01,  1.80022023e+01,  1.17065249e+01,  1.25693985e+01,\n",
       "        1.12267540e+01, -5.12763041e+00, -5.82402589e+00, -2.10132312e+01,\n",
       "       -2.26941884e+01, -2.41228719e+01, -2.94917892e+01, -3.52406515e+01,\n",
       "       -4.29225209e+01, -4.87734874e+01, -3.11154782e+01, -2.51780334e+01,\n",
       "       -2.24425921e+01, -1.62148024e+01, -3.07612322e+00,  1.08406720e+01,\n",
       "        1.04000794e+01,  1.34964703e+01,  2.77253562e+01,  3.44345145e+01,\n",
       "        4.09010571e+01,  3.70747603e+01,  3.98773343e+01,  2.89859479e+01,\n",
       "        1.20558791e+01, -1.15050449e+01, -1.29388314e+01, -2.52844745e+01,\n",
       "       -3.31454048e+01, -3.92216596e+01, -3.75108907e+01, -3.12521792e+01,\n",
       "       -3.52804163e+01, -3.92530910e+01, -3.31754928e+01, -2.74981237e+01,\n",
       "       -2.29697107e+00,  3.72331971e+00,  1.66515048e+01,  3.36985353e+01,\n",
       "        2.48711626e+01,  2.32395559e+01,  8.67495710e+00, -4.66189564e+00,\n",
       "        2.47590196e-01, -2.46259625e+00, -9.20509178e+00, -1.38825602e+00,\n",
       "        9.65991609e+00,  2.62817553e+01,  1.17340664e+01,  1.01151185e+01,\n",
       "        2.83050212e+00,  1.97752123e+01,  2.22552066e+01,  3.77701933e+00,\n",
       "        6.14391147e+00,  2.38640814e+01,  2.82726557e+01,  2.93802960e+01,\n",
       "        2.18858052e+01,  2.27751574e+01,  3.23823207e+01,  2.69699421e+01,\n",
       "        1.15969659e+01, -6.78336460e+00, -2.14923464e+01, -3.01853109e+01,\n",
       "       -3.74350651e+01, -4.93127105e+01, -4.96567716e+01, -3.57612766e+01,\n",
       "       -1.34467486e+01, -1.47886175e+00,  4.23376202e+00,  7.33831197e+00,\n",
       "        1.62113149e+01,  6.67401327e-01, -9.03822934e+00, -2.08709190e+01,\n",
       "       -1.82913673e+01, -2.16321618e+01, -2.14686049e+01, -1.60050590e+01,\n",
       "        6.23815812e+00,  1.38066080e+01,  2.60359966e+01,  2.38120347e+01,\n",
       "        3.07517506e+01,  3.47001288e+01,  2.86677674e+01,  1.48968248e+01,\n",
       "        1.28113402e+01, -3.70732596e+00,  1.03612760e+00,  3.24032600e+00,\n",
       "       -5.56945600e+00, -9.56106328e+00, -1.30123828e+01, -1.83219434e+01,\n",
       "       -1.31485347e+01, -4.31635261e+01, -6.01781801e+01, -5.88864513e+01,\n",
       "       -5.05347771e+01, -4.29768016e+01, -4.07145143e+01, -2.62108585e+01,\n",
       "        6.35613702e+00,  2.23147670e+01,  2.88286152e+01,  2.72596261e+01,\n",
       "        2.78526849e+01,  2.06693199e+01, -1.47164474e+00, -1.23571283e+01,\n",
       "       -2.09240532e+01, -1.92224323e+01, -2.30847881e+01, -1.54215647e+01,\n",
       "        3.10896003e-01,  1.81116094e+01,  2.37198170e+01,  2.42248017e+01,\n",
       "        1.83730278e+01,  8.83819313e+00, -1.31111629e+00, -1.75926989e+01,\n",
       "       -2.14841236e+01, -2.71857134e+01, -2.09963083e+01, -1.25953703e+01,\n",
       "       -1.21595176e+00, -6.67357463e-01,  6.14650043e+00,  2.24031781e+00,\n",
       "       -9.63231174e+00, -1.74671254e+01, -1.99638820e+01, -1.50498234e+01,\n",
       "       -9.16755294e+00, -7.33247278e+00, -6.25815684e+00,  2.54455009e+01,\n",
       "        3.21101611e+01,  2.82854722e+01,  1.93466214e+01,  1.49106629e+01,\n",
       "        2.25203613e+01,  2.53330816e+01,  6.68480098e+00,  1.00652069e+01,\n",
       "        1.02031936e+01,  8.65419896e+00,  6.20902470e+00, -1.66233370e+01,\n",
       "       -1.85215922e+01, -2.10751414e+01, -3.07494241e+01, -3.79373826e+01,\n",
       "       -3.14601133e+01, -2.98060605e+01, -1.36850017e+01, -7.82932148e+00,\n",
       "       -6.24375220e+00, -3.13545342e-01,  1.63888365e+01,  2.70753735e+01,\n",
       "        3.67925976e+01,  3.12301939e+01,  3.43443134e+01,  4.56065200e+01,\n",
       "        4.81390519e+01,  3.08429890e+01,  2.66425066e+01,  2.38088105e+01,\n",
       "        2.15738798e+01, -3.63625393e+00, -2.56124328e+01, -3.15005206e+01,\n",
       "       -2.55198195e+01, -3.64891759e+01, -4.71287852e+01, -2.02772008e+01,\n",
       "        2.94951943e+00,  1.25177708e+01,  7.26858666e+00, -7.66245318e-01,\n",
       "        1.43069789e+01,  2.40992832e+01, -6.83447309e+00, -1.92420842e+01,\n",
       "       -3.26795263e+00,  1.85407476e+01,  2.58113329e+01,  2.42919458e+00,\n",
       "        8.31133054e-01,  2.47971350e+01,  3.33063266e+01,  2.68062126e+01,\n",
       "        1.64161260e+01,  1.14825511e+01,  1.89464453e+01,  7.55023748e+00,\n",
       "       -1.03362077e+01, -2.66288540e+01, -3.84421711e+01, -4.01922059e+01,\n",
       "       -4.23937164e+01, -2.51012980e+01, -3.01530916e+01, -1.30097498e+01,\n",
       "       -9.70427120e+00, -1.47285723e+01, -6.51407974e+00,  7.51841824e+00,\n",
       "        9.17349023e-01,  2.55173128e+01,  3.16332091e+01,  5.29516401e+01,\n",
       "        7.93261998e+01,  6.80903400e+01,  5.73069654e+01,  7.20396906e+01,\n",
       "        4.69224482e+01,  2.73315716e+01, -9.32787660e+00, -2.06033137e+01,\n",
       "       -2.01577196e+01, -1.84039299e+01, -4.54330325e+01, -3.72800760e+01,\n",
       "       -1.73224751e+01, -3.89554075e+00, -9.60381319e+00,  1.64024684e+00,\n",
       "        7.42135442e+00,  2.92030983e+00, -3.50742928e+00, -3.02316872e+01,\n",
       "       -2.81806318e+01, -2.91410013e+01, -5.63962545e+01, -6.17577601e+01,\n",
       "       -4.97343592e+01, -2.86827863e+01,  9.49064904e+00,  1.52249131e+01,\n",
       "        2.83650793e+01,  5.08185701e+01,  6.35101746e+01,  6.91304751e+01,\n",
       "        4.58400301e+01,  2.40944091e+01,  2.02950876e+01,  6.63060708e+00,\n",
       "       -7.22473367e+00, -1.51453883e+01, -2.19935976e+01, -9.98132175e+00,\n",
       "       -1.96269652e+01, -1.69336459e+01, -1.19667645e+01, -3.51519991e+00,\n",
       "       -8.83364525e+00, -1.46126796e+01, -1.06093570e+01,  6.28226183e+00,\n",
       "       -9.60897352e-01, -1.79243876e+00, -8.53941858e+00, -2.76290291e+00,\n",
       "        7.89432505e+00, -8.88638177e+00, -1.06028534e+01, -3.73640057e+00,\n",
       "        6.42565634e+00,  1.60974694e+01,  5.23403855e+00, -8.55456020e-01,\n",
       "        4.22645893e+00,  1.67559185e+00, -4.29625317e+00, -3.08209949e+00,\n",
       "       -1.37535476e+01,  1.13548059e+00, -1.13503075e+00, -7.83098315e+00,\n",
       "       -8.82323775e+00, -5.85102763e+00, -1.00918919e+01, -1.72542305e+00,\n",
       "        1.69769163e+01,  4.33127673e+01,  4.51024978e+01,  3.39966148e+01,\n",
       "        2.21830857e+01,  2.27678664e+01,  4.33351716e+00, -2.81361749e+01,\n",
       "       -4.04070933e+01, -2.51491617e+01, -1.12131893e+01, -3.73537666e+00,\n",
       "       -2.35576067e+00,  1.81788026e+01,  2.64747627e+01,  2.16936714e+01,\n",
       "        4.84771075e+00, -1.26259035e+00, -5.20670755e+00, -1.96011710e+01,\n",
       "       -2.75202805e+01, -3.70909201e+01, -3.65510933e+01, -2.28724456e+01,\n",
       "       -1.13111953e+01,  3.15043375e+00,  1.64309153e+01,  2.64480420e+01,\n",
       "        3.59307547e+01,  3.52409499e+01,  2.69944502e+01,  5.89131261e+00,\n",
       "       -9.82408095e+00, -3.91266149e+00, -1.11588327e+01, -1.05758220e+01,\n",
       "       -7.59463292e+00, -1.93305433e+00,  1.58642848e+01,  2.30096224e+01,\n",
       "        2.85205598e+00, -1.11321116e+00,  8.23684928e+00,  8.45241565e+00,\n",
       "        8.61117551e+00, -1.28530355e+01, -1.52396314e+01, -1.06019758e+01,\n",
       "       -1.47894840e+01, -2.30115665e+01, -3.14551040e+01, -2.78499411e+01,\n",
       "       -1.25159482e+01, -6.86320968e+00,  2.77877299e+00,  1.18666899e+01,\n",
       "        2.01274188e+01,  2.98178600e+01,  1.79721000e+01,  1.08598972e+01,\n",
       "        1.51953387e+01, -4.30995762e+00, -2.37870045e+01, -2.79073443e+01,\n",
       "       -3.10345116e+01, -3.19130079e+01, -1.92261697e+01, -6.66407467e+00,\n",
       "        2.55002778e+01,  3.24082402e+01,  3.48531744e+01,  3.60664538e+01,\n",
       "        3.88999632e+01,  2.78443132e+01,  6.02563116e+00, -1.32753491e+01,\n",
       "       -1.01904147e+01, -1.26057760e+01, -2.09276409e+01, -1.99992830e+01,\n",
       "       -2.27776009e+01, -1.01321968e+01, -4.20529681e+00, -8.55824603e+00,\n",
       "        1.55939438e+01,  3.13564280e+01,  4.54815679e+01,  4.87799122e+01,\n",
       "        4.73570970e+01,  3.67940457e+01,  3.72316508e+01,  2.10093459e+01,\n",
       "        9.87080713e+00, -1.94867152e+00, -7.84752436e+00, -1.20753680e+01,\n",
       "        9.67367293e-01, -1.15952759e+01, -3.01857439e+01, -3.46721551e+01,\n",
       "       -2.77082028e+01, -1.64896464e+01, -3.45230235e+01, -3.23171925e+01,\n",
       "       -6.80425142e+00,  5.15148931e+00,  1.81369581e+01,  4.60803787e+00,\n",
       "        1.73046389e+01,  4.23548024e+01,  1.95067416e+01,  1.22811991e+01,\n",
       "        5.98966136e+00, -2.00173717e+00, -3.25001916e-02, -1.78630552e+01,\n",
       "       -1.59660189e+01, -9.71975461e+00, -8.72780310e+00,  1.12911500e+01,\n",
       "        8.68335883e+00,  5.48223177e+00,  3.23743345e+00,  4.82808579e+00,\n",
       "        3.37369859e+00, -4.66616473e+00, -2.74718573e+01, -2.41554849e+01,\n",
       "        1.46668972e+00,  1.48734635e-01,  3.62931205e+00,  1.26042757e+01,\n",
       "        1.83673940e+01,  2.87984148e+01,  2.85764402e+01,  5.67746658e+00,\n",
       "        1.24677991e+00,  4.95651435e+00,  3.23215799e+00,  8.84217648e+00,\n",
       "        6.99423595e+00,  6.10313782e+00,  2.90223582e+00, -1.42995712e+00,\n",
       "       -2.52967763e+01, -2.93444849e+01, -2.94084912e+01, -3.29507227e+01,\n",
       "       -1.37064385e+01, -5.77971281e+00,  6.18363296e+00,  2.06630370e+01,\n",
       "        1.76996875e+01])"
      ]
     },
     "execution_count": 154,
     "metadata": {},
     "output_type": "execute_result"
    }
   ],
   "source": [
    "Z[0,:] - np.mean(Z[0,:])"
   ]
  },
  {
   "cell_type": "code",
   "execution_count": 163,
   "metadata": {},
   "outputs": [],
   "source": [
    "Z_std = (Z - Z.mean(axis=1,keepdims=True))/ Z.std(axis=1,keepdims=True)"
   ]
  },
  {
   "cell_type": "code",
   "execution_count": 121,
   "metadata": {},
   "outputs": [],
   "source": [
    "I = np.linspace(0,1)\n",
    "Normal = scipy.stats.norm.pdf(I)*10**8"
   ]
  },
  {
   "cell_type": "code",
   "execution_count": 171,
   "metadata": {},
   "outputs": [
    {
     "data": {
      "text/plain": [
       "Text(0.5, 1.0, 'Histogram of Standardized Tracer Concentration')"
      ]
     },
     "execution_count": 171,
     "metadata": {},
     "output_type": "execute_result"
    },
    {
     "data": {
      "image/png": "[encoded data removed]",
      "text/plain": [
       "<Figure size 432x360 with 1 Axes>"
      ]
     },
     "metadata": {
      "needs_background": "light"
     },
     "output_type": "display_data"
    }
   ],
   "source": [
    "fig = plt.figure(figsize=(6,5))\n",
    "ax = fig.gca()\n",
    "#ax.set_yscale('log')\n",
    "ax.hist(Z_std[:,:].flatten(),bins=200);\n",
    "#plt.plot(I,Normal);\n",
    "plt.xlabel('Standardized Tracer Concentration')\n",
    "plt.ylabel('Number of Points')\n",
    "plt.grid()\n",
    "plt.title('Histogram of Standardized Tracer Concentration')"
   ]
  },
  {
   "cell_type": "code",
   "execution_count": 120,
   "metadata": {},
   "outputs": [
    {
     "data": {
      "text/plain": [
       "array([39894228.04014327, 39885921.0692123 , 39861010.53328704,\n",
       "       39819527.54136922, 39761523.86985393, 39687071.85483798,\n",
       "       39596264.24179094, 39489213.99302611, 39366054.05353087,\n",
       "       39226937.07583608, 39072035.10472128, 38901539.22266743,\n",
       "       38715659.15707995, 38514622.85041198, 38298675.99442122,\n",
       "       38068081.52989237, 37823119.11325056, 37564084.55158019,\n",
       "       37291289.20764624, 37005059.37659235, 36705735.63606135,\n",
       "       36393672.17154837, 36069236.07885545, 35732806.64556814,\n",
       "       35384774.61351925, 35025541.42424361, 34655518.44945811,\n",
       "       34275126.20862568, 33884793.57567876, 33484956.97698778,\n",
       "       33076059.58266303, 32658550.49327426, 32232883.92406157,\n",
       "       31799518.38869339, 31358915.88460332, 30911541.08190665,\n",
       "       30457860.51786095, 29998341.79879206, 29533452.81135798,\n",
       "       29063660.94496953, 28589432.32712695, 28111231.07336745,\n",
       "       27629518.55345008, 27144752.67533069, 26657387.18840336,\n",
       "       26167871.00740331, 25676647.55828298, 25184154.14728603,\n",
       "       24690821.3543546 , 24197072.45191434])"
      ]
     },
     "execution_count": 120,
     "metadata": {},
     "output_type": "execute_result"
    }
   ],
   "source": []
  },
  {
   "cell_type": "code",
   "execution_count": 119,
   "metadata": {},
   "outputs": [
    {
     "data": {
      "text/plain": [
       "array([0.        , 0.02040816, 0.04081633, 0.06122449, 0.08163265,\n",
       "       0.10204082, 0.12244898, 0.14285714, 0.16326531, 0.18367347,\n",
       "       0.20408163, 0.2244898 , 0.24489796, 0.26530612, 0.28571429,\n",
       "       0.30612245, 0.32653061, 0.34693878, 0.36734694, 0.3877551 ,\n",
       "       0.40816327, 0.42857143, 0.44897959, 0.46938776, 0.48979592,\n",
       "       0.51020408, 0.53061224, 0.55102041, 0.57142857, 0.59183673,\n",
       "       0.6122449 , 0.63265306, 0.65306122, 0.67346939, 0.69387755,\n",
       "       0.71428571, 0.73469388, 0.75510204, 0.7755102 , 0.79591837,\n",
       "       0.81632653, 0.83673469, 0.85714286, 0.87755102, 0.89795918,\n",
       "       0.91836735, 0.93877551, 0.95918367, 0.97959184, 1.        ])"
      ]
     },
     "execution_count": 119,
     "metadata": {},
     "output_type": "execute_result"
    }
   ],
   "source": []
  },
  {
   "cell_type": "code",
   "execution_count": null,
   "metadata": {},
   "outputs": [],
   "source": []
  }
 ],
 "metadata": {
  "kernelspec": {
   "display_name": "Python [conda env:project] *",
   "language": "python",
   "name": "conda-env-project-py"
  },
  "language_info": {
   "codemirror_mode": {
    "name": "ipython",
    "version": 3
   },
   "file_extension": ".py",
   "mimetype": "text/x-python",
   "name": "python",
   "nbconvert_exporter": "python",
   "pygments_lexer": "ipython3",
   "version": "3.6.8"
  }
 },
 "nbformat": 4,
 "nbformat_minor": 2
}
