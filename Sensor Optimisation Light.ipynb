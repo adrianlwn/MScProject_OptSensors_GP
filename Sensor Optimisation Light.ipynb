{
 "cells": [
  {
   "cell_type": "code",
   "execution_count": 2,
   "metadata": {},
   "outputs": [],
   "source": [
    "from data_handling import *\n",
    "from covariance import *\n",
    "from sensor_optimisation import *\n"
   ]
  },
  {
   "cell_type": "code",
   "execution_count": null,
   "metadata": {},
   "outputs": [],
   "source": []
  },
  {
   "cell_type": "code",
   "execution_count": 3,
   "metadata": {},
   "outputs": [
    {
     "name": "stdout",
     "output_type": "stream",
     "text": [
      "Number of Locations :  100040\n",
      "Number of Locations after croping :  291\n"
     ]
    }
   ],
   "source": [
    "# Load the Data for given time interval [0 -> 988] \n",
    "i_start = 100\n",
    "i_end = 200\n",
    "\n",
    "data_dict, location_df, time_vec = load_data(i_start,\n",
    "                                             i_end,\n",
    "                                             crop=((-5,5),(-5,5),(0,20))\n",
    "                                            )\n"
   ]
  },
  {
   "cell_type": "code",
   "execution_count": 4,
   "metadata": {},
   "outputs": [
    {
     "data": {
      "text/plain": [
       "(291, 101)"
      ]
     },
     "execution_count": 4,
     "metadata": {},
     "output_type": "execute_result"
    }
   ],
   "source": [
    "tracerB_mat = data_mat(data_dict,'Pressure')\n",
    "tracerB_mat.shape"
   ]
  },
  {
   "cell_type": "code",
   "execution_count": 5,
   "metadata": {},
   "outputs": [
    {
     "ename": "NameError",
     "evalue": "name 'cov_matrix' is not defined",
     "output_type": "error",
     "traceback": [
      "\u001b[0;31m---------------------------------------------------------------------------\u001b[0m",
      "\u001b[0;31mNameError\u001b[0m                                 Traceback (most recent call last)",
      "\u001b[0;32m<ipython-input-5-9850c18edb02>\u001b[0m in \u001b[0;36m<module>\u001b[0;34m\u001b[0m\n\u001b[1;32m      1\u001b[0m \u001b[0;31m# Sample/Empirical Covariance Matrix\u001b[0m\u001b[0;34m\u001b[0m\u001b[0;34m\u001b[0m\u001b[0;34m\u001b[0m\u001b[0m\n\u001b[0;32m----> 2\u001b[0;31m \u001b[0mtracerB_K\u001b[0m \u001b[0;34m=\u001b[0m \u001b[0mcov_matrix\u001b[0m\u001b[0;34m(\u001b[0m\u001b[0mtracerB_mat\u001b[0m\u001b[0;34m)\u001b[0m\u001b[0;34m\u001b[0m\u001b[0;34m\u001b[0m\u001b[0m\n\u001b[0m\u001b[1;32m      3\u001b[0m \u001b[0mtracerB_K\u001b[0m\u001b[0;34m.\u001b[0m\u001b[0mshape\u001b[0m\u001b[0;34m\u001b[0m\u001b[0;34m\u001b[0m\u001b[0m\n",
      "\u001b[0;31mNameError\u001b[0m: name 'cov_matrix' is not defined"
     ]
    }
   ],
   "source": [
    "# Sample/Empirical Covariance Matrix\n",
    "tracerB_K = cov_matrix(tracerB_mat)\n",
    "tracerB_K.shape"
   ]
  },
  {
   "cell_type": "code",
   "execution_count": null,
   "metadata": {},
   "outputs": [],
   "source": [
    "np.linalg.eigvalsh(tracerB_K)[::-1]"
   ]
  },
  {
   "cell_type": "code",
   "execution_count": null,
   "metadata": {},
   "outputs": [],
   "source": [
    "np.linalg.det(tracerB_K)"
   ]
  },
  {
   "cell_type": "code",
   "execution_count": null,
   "metadata": {},
   "outputs": [],
   "source": [
    "np.linalg.cholesky(tracerB_K)"
   ]
  },
  {
   "cell_type": "code",
   "execution_count": null,
   "metadata": {},
   "outputs": [],
   "source": [
    "tracerB_M = mean_matrix(tracerB_mat)\n",
    "tracerB_M.shape"
   ]
  },
  {
   "cell_type": "markdown",
   "metadata": {},
   "source": [
    "We define different sets for all the locations : \n",
    "- A : set of sensors selected \n",
    "- S : set of potential sensors\n",
    "- U : set where there is no sensor\n",
    "- V = S $\\cup$ U : set of all positions. \n",
    "\n",
    "We want the mutual information to be as high as possible on the set "
   ]
  },
  {
   "cell_type": "code",
   "execution_count": 18,
   "metadata": {},
   "outputs": [],
   "source": [
    "n_V = mydict[100].GetLocations().shape[0]\n",
    "V = np.array(range(n_V))\n",
    "\n",
    "n_S = 200\n",
    "np.random.seed(42)\n",
    "S = np.random.choice(V, n_S, replace=False,)\n",
    "\n",
    "n_U = n_V - n_S\n",
    "U = np.setdiff1d(V, S, assume_unique=True)\n"
   ]
  },
  {
   "cell_type": "code",
   "execution_count": 19,
   "metadata": {},
   "outputs": [],
   "source": [
    "def approx_max_info(k):\n",
    "    \"\"\" This function implements the Algorithm 1: Approximation algorithm \n",
    "    for maximizing mutual information.\n",
    "    \n",
    "    Input Arguments : \n",
    "    --- k : number of Sensors to place\n",
    "    \n",
    "    Needed global variables : \n",
    "    --- K : Covariance Matrix between all points\n",
    "    --- V : Set of all points\n",
    "    --- S : Set of potential sensor points\n",
    "    --- n_S : number of such points\n",
    "    \n",
    "    \"\"\"\n",
    "    \n",
    "    n_A = 0\n",
    "    A = np.array([])\n",
    "    \n",
    "    # Main Loop of the Algorithm : Iterating over the number of sensors to place\n",
    "    \n",
    "    for j in tqdm.tqdm_notebook(range(k)):\n",
    "        \n",
    "        S_A = np.setdiff1d(S,A).astype(int)\n",
    "        delta_y = np.zeros((n_S - j))\n",
    "        ## Inner Loop : Iterating over the potential sensor places\n",
    "        for i,y in enumerate(S_A):\n",
    "\n",
    "            A_ = np.setdiff1d(V,np.append(A,[y]))\n",
    "            # Mutual Information Gain\n",
    "\n",
    "            delta_y[i] = H_cond(y, A) / H_cond(y, A_)\n",
    "        \n",
    "        # Greedily selection the best point to add to A\n",
    "        y_opt = S_A[np.argmax(delta_y)]\n",
    "        print((delta_y >0).sum()/len(delta_y))\n",
    "        # Add the selected point to A\n",
    "        n_A += 1\n",
    "        A = np.append(A,y_opt).astype(int)\n",
    "        \n",
    "    return A\n",
    "\n",
    "def approx_lazy_max_info(k):\n",
    "    \"\"\" This function implements the Algorithm 2: Approximation algorithm for \n",
    "    maximizing mutual information efficiently using lazy evaluation.\n",
    "    \n",
    "    Input Arguments : \n",
    "    --- k : number of Sensors to place\n",
    "    \n",
    "    Needed global variables : \n",
    "    --- K : Covariance Matrix between all points\n",
    "    --- V : Set of all points\n",
    "    --- S : Set of potential sensor points\n",
    "    --- n_S : number of such points\n",
    "    \n",
    "    \"\"\"\n",
    "\n",
    "    # INIT : \n",
    "    n_A = 0\n",
    "    A = np.array([])\n",
    "    \n",
    "    delta_y = -1*np.inf*np.ones((n_S,1))\n",
    "    counter_y = -1*np.ones((n_S,1))\n",
    "    \n",
    "    # Each Node of the Heap contains a tupple : (-delta_y, index of point, count_y)\n",
    "    delta_heap = list(zip(delta_y, S, counter_y))\n",
    "    heapq.heapify(delta_heap)\n",
    "    \n",
    "    # MAIN LOOP of the Algorithm : Iterating over the number of sensors to place\n",
    "    for j in tqdm.tqdm_notebook(range(k)):\n",
    "                \n",
    "        ## INNER LOOP : Iterating over the potential sensor places\n",
    "        while True : \n",
    "            delta, y_opt, count = heapq.heappop(delta_heap)\n",
    "            if count == j :\n",
    "                break\n",
    "            else : \n",
    "                A_ = np.setdiff1d(V,np.append(A,[y_opt]))\n",
    "                # Mutual Information Gain\n",
    "                delta_y_opt = H_cond(y_opt, A) / H_cond(y_opt, A_)\n",
    "                heapq.heappush(delta_heap, (-1*delta_y_opt , y_opt ,j) )\n",
    "        \n",
    "        # Add the selected point to A\n",
    "        n_A += 1\n",
    "        A = np.append(A, y_opt).astype(int)       \n",
    "    return A\n",
    "\n",
    "def approx_local_max_info(k, epsilon):\n",
    "    \"\"\" This function implements the Algorithm 3: Approximation algorithm for \n",
    "    maximizing mutual information efficiently using local kernels.\n",
    "    \n",
    "    Input Arguments : \n",
    "    --- k : number of Sensors to place\n",
    "    --- epsilon : threshold for local kernel\n",
    "    \n",
    "    Needed global variables : \n",
    "    --- K : Covariance Matrix between all points\n",
    "    --- V : Set of all points\n",
    "    --- S : Set of potential sensor points\n",
    "    --- n_S : number of such points\n",
    "    \n",
    "    \"\"\"\n",
    "\n",
    "    # INIT : \n",
    "    n_A = 0\n",
    "    A = np.array([])\n",
    "    \n",
    "    delta_y = -1*np.inf*np.ones((n_S,1))\n",
    "    \n",
    "    for i,y in enumerate(S):\n",
    "        delta_y[i] = -1*delta_MI(y,A)\n",
    "    \n",
    "    counter_y = -1*np.ones((n_S,1))\n",
    "    \n",
    "    # Each Node of the Heap contains a tupple : (-delta_y, index of point, count_y)\n",
    "    delta_heap = list(zip(delta_y, S, counter_y))\n",
    "    heapq.heapify(delta_heap)\n",
    "    \n",
    "    # MAIN LOOP of the Algorithm : Iterating over the number of sensors to place\n",
    "    for j in tqdm.tqdm_notebook(range(k)):\n",
    "        \n",
    "        delta, y_opt, count = heapq.heappop(delta_heap)\n",
    "        \n",
    "        # Add the selected point to A\n",
    "        n_A += 1\n",
    "        A = np.append(A, y_opt).astype(int)\n",
    "        A_ = np.setdiff1d(V,np.append(A,[y]))\n",
    "        \n",
    "        loc_A = local_set(y, A, epsilon) \n",
    "        loc_A_ = local_set(y, A_, epsilon) \n",
    "        \n",
    "        ## INNER LOOP : Iterating over the potential sensor places\n",
    "        for i in A: \n",
    "\n",
    "            # Mutual Information Gain\n",
    "            delta_y = H_cond(y, loc_A) / H_cond(y, loc_A_)\n",
    "\n",
    "            heapq.heappush(delta_heap,(-1*delta_y ,y ,j))\n",
    "       \n",
    "    return A\n",
    "        \n",
    "\n",
    "def delta_MI(y,A):\n",
    "    \"\"\" Function that computes the Mutual Entropy Difference \"\"\"\n",
    "    A_ = np.setdiff1d(V,np.append(A,[y]))\n",
    "    \n",
    "    return H_cond(y, A) / H_cond(y, A_)\n",
    "    \n",
    "def H_cond(y,X):\n",
    "        \"\"\" Function that returns the conditional Entropy of y knowing X \"\"\"        \n",
    "        return K[y,y] - K[np.ix_([y],X)] @ np.linalg.inv(K[np.ix_(X,X)]) @ K[np.ix_(X,[y])] \n",
    "        #return K[y,y] - K[np.ix_([y],X)] @ np.linalg.solve(K[np.ix_(X,X)], K[np.ix_(X,[y])])\n",
    "\n",
    "def local_set(y, X, epsilon):\n",
    "    \"\"\" Function that returns a set of points X_trunc for which K[y,X_trunc] > epsilon\n",
    "        X being the input set\n",
    "        Implementing the idea of local Kernels.\n",
    "        \n",
    "    \"\"\"\n",
    "    i_trunc = (np.abs( K[np.ix_([y],X)] ) > epsilon).flatten()\n",
    "    X_trunc = X[i_trunc]    \n",
    "    \n",
    "    return X_trunc\n"
   ]
  },
  {
   "cell_type": "code",
   "execution_count": null,
   "metadata": {},
   "outputs": [],
   "source": []
  },
  {
   "cell_type": "code",
   "execution_count": 21,
   "metadata": {
    "scrolled": true
   },
   "outputs": [
    {
     "data": {
      "application/vnd.jupyter.widget-view+json": {
       "model_id": "5dbeadd19a07413ebfed2324cce6f14c",
       "version_major": 2,
       "version_minor": 0
      },
      "text/plain": [
       "HBox(children=(IntProgress(value=0, max=5), HTML(value='')))"
      ]
     },
     "metadata": {},
     "output_type": "display_data"
    },
    {
     "name": "stdout",
     "output_type": "stream",
     "text": [
      "0.44\n",
      "0.4271356783919598\n",
      "0.5151515151515151\n",
      "0.4619289340101523\n",
      "0.49489795918367346\n",
      "\n"
     ]
    }
   ],
   "source": [
    "A_naive = approx_max_info(5)"
   ]
  },
  {
   "cell_type": "code",
   "execution_count": 22,
   "metadata": {
    "scrolled": true
   },
   "outputs": [
    {
     "data": {
      "application/vnd.jupyter.widget-view+json": {
       "model_id": "443cb9286d5240b8bbe53261831acb18",
       "version_major": 2,
       "version_minor": 0
      },
      "text/plain": [
       "HBox(children=(IntProgress(value=0, max=5), HTML(value='')))"
      ]
     },
     "metadata": {},
     "output_type": "display_data"
    },
    {
     "name": "stdout",
     "output_type": "stream",
     "text": [
      "\n"
     ]
    }
   ],
   "source": [
    "A_lazy =  approx_lazy_max_info(5)"
   ]
  },
  {
   "cell_type": "code",
   "execution_count": 7,
   "metadata": {},
   "outputs": [],
   "source": [
    "def cleanVTKfields(resultsVTK):\n",
    "    for f_name in resultsVTK.GetFieldNames():\n",
    "        resultsVTK.RemoveField(f_name)\n",
    "\n",
    "# Creating Results VTK \n",
    "resultsVTK = mydict[100]\n",
    "cleanVTKfields(resultsVTK)"
   ]
  },
  {
   "cell_type": "code",
   "execution_count": null,
   "metadata": {},
   "outputs": [],
   "source": []
  }
 ],
 "metadata": {
  "kernelspec": {
   "display_name": "Python [conda env:ic_std]",
   "language": "python",
   "name": "conda-env-ic_std-py"
  },
  "language_info": {
   "codemirror_mode": {
    "name": "ipython",
    "version": 3
   },
   "file_extension": ".py",
   "mimetype": "text/x-python",
   "name": "python",
   "nbconvert_exporter": "python",
   "pygments_lexer": "ipython3",
   "version": "3.6.7"
  }
 },
 "nbformat": 4,
 "nbformat_minor": 2
}
