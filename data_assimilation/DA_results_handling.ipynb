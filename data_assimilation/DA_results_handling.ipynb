{
 "cells": [
  {
   "cell_type": "code",
   "execution_count": 138,
   "metadata": {},
   "outputs": [],
   "source": [
    "import numpy as np\n",
    "import pandas as pd"
   ]
  },
  {
   "cell_type": "code",
   "execution_count": 139,
   "metadata": {},
   "outputs": [],
   "source": [
    "from ast import literal_eval\n",
    "def str_to_array(text):\n",
    "    text =  text.replace('  ',' ').replace('\\n','').replace(']','').replace('[','').split(' ')\n",
    "    try:\n",
    "        text.remove('')\n",
    "        text.remove('')\n",
    "        text.remove('')\n",
    "        text.remove('')\n",
    "        text.remove('')\n",
    "\n",
    "    except:\n",
    "        pass\n",
    "    \n",
    "    return np.array(list(map(literal_eval,text)))\n"
   ]
  },
  {
   "cell_type": "code",
   "execution_count": null,
   "metadata": {},
   "outputs": [],
   "source": []
  },
  {
   "cell_type": "code",
   "execution_count": 145,
   "metadata": {},
   "outputs": [
    {
     "data": {
      "text/html": [
       "<div>\n",
       "<style scoped>\n",
       "    .dataframe tbody tr th:only-of-type {\n",
       "        vertical-align: middle;\n",
       "    }\n",
       "\n",
       "    .dataframe tbody tr th {\n",
       "        vertical-align: top;\n",
       "    }\n",
       "\n",
       "    .dataframe thead th {\n",
       "        text-align: right;\n",
       "    }\n",
       "</style>\n",
       "<table border=\"1\" class=\"dataframe\">\n",
       "  <thead>\n",
       "    <tr style=\"text-align: right;\">\n",
       "      <th>Unnamed: 0</th>\n",
       "      <th>MSExDA</th>\n",
       "      <th>errxB</th>\n",
       "      <th>errxDA</th>\n",
       "      <th>indLoc</th>\n",
       "      <th>xB</th>\n",
       "      <th>xB_norm</th>\n",
       "      <th>xDA</th>\n",
       "      <th>xDA_norm</th>\n",
       "      <th>y</th>\n",
       "      <th>y_norm</th>\n",
       "    </tr>\n",
       "  </thead>\n",
       "  <tbody>\n",
       "    <tr>\n",
       "      <th>0</th>\n",
       "      <td>[ 8.57753850e-16 -6.90727510e-05 -5.57398604e-...</td>\n",
       "      <td>[ 8.57753850e-16 -6.90727510e-05 -5.57398604e-...</td>\n",
       "      <td>[ 8.13464154e-04  1.87806222e-04 -2.79980660e-...</td>\n",
       "      <td>[87246. 97311. 92896. 51056. 33678. 75361. 988...</td>\n",
       "      <td>[ 5.51535815e-16  1.05261420e-04  3.54442670e-...</td>\n",
       "      <td>0.03613915943573513</td>\n",
       "      <td>[-8.13464154e-04 -1.51617552e-04  3.49148664e-...</td>\n",
       "      <td>0.03532003423986997</td>\n",
       "      <td>[1.40928967e-15 3.61886693e-05 3.48868684e-02 ...</td>\n",
       "      <td>0.03525339685223487</td>\n",
       "    </tr>\n",
       "    <tr>\n",
       "      <th>1</th>\n",
       "      <td>[-7.42554381e-05 -6.11264555e-05  2.01230513e-...</td>\n",
       "      <td>[-7.42554381e-05 -6.11264555e-05  2.01230513e-...</td>\n",
       "      <td>[-1.33777798e-07 -1.73168422e-06 -1.02525872e-...</td>\n",
       "      <td>[30344. 83215. 39524. 22902. 11377. 22646. 291...</td>\n",
       "      <td>[ 7.66703195e-05  9.75972729e-05 -1.48905721e-...</td>\n",
       "      <td>0.001780517293936772</td>\n",
       "      <td>[ 2.54865927e-06  3.82025017e-05  1.02726954e-...</td>\n",
       "      <td>0.0016555448829644536</td>\n",
       "      <td>[ 2.41488148e-06  3.64708175e-05  2.01081608e-...</td>\n",
       "      <td>0.0016554505074259402</td>\n",
       "    </tr>\n",
       "    <tr>\n",
       "      <th>2</th>\n",
       "      <td>[ 3.51020021e-06  1.31078804e-05 -2.03380361e-...</td>\n",
       "      <td>[ 3.51020021e-06  1.31078804e-05 -2.03380361e-...</td>\n",
       "      <td>[-1.88320450e-04 -1.28738634e-04 -8.25106585e-...</td>\n",
       "      <td>[21711. 45456. 73561. 92069. 63609. 80603. 830...</td>\n",
       "      <td>[ 1.61402060e-06  8.01032689e-04  2.05411863e-...</td>\n",
       "      <td>0.00854724639778517</td>\n",
       "      <td>[1.93444671e-04 9.42879204e-04 8.25106585e-05 ...</td>\n",
       "      <td>0.008768486658128705</td>\n",
       "      <td>[ 5.12422081e-06  8.14140570e-04  2.03150235e-...</td>\n",
       "      <td>0.008853023237890584</td>\n",
       "    </tr>\n",
       "    <tr>\n",
       "      <th>3</th>\n",
       "      <td>[ 9.37490833e-19 -6.52197790e-08  4.90273505e-...</td>\n",
       "      <td>[ 9.37490833e-19 -6.52197790e-08  4.90273505e-...</td>\n",
       "      <td>[ 8.10743123e-07 -4.03186082e-06  3.01283613e-...</td>\n",
       "      <td>[98539. 74524. 22471. 63614. 69984. 61632. 247...</td>\n",
       "      <td>[2.90948287e-19 6.70960257e-08 1.23729815e-03 ...</td>\n",
       "      <td>0.0012706800185855697</td>\n",
       "      <td>[-8.10743123e-07  4.03373707e-06  1.72754153e-...</td>\n",
       "      <td>0.0017593787284846112</td>\n",
       "      <td>[1.22843912e-18 1.87624674e-09 1.72757166e-03 ...</td>\n",
       "      <td>0.00175945665218294</td>\n",
       "    </tr>\n",
       "    <tr>\n",
       "      <th>4</th>\n",
       "      <td>[ 2.38694547e-04 -7.74187469e-11 -4.16282129e-...</td>\n",
       "      <td>[ 2.38694547e-04 -7.74187469e-11 -4.16282129e-...</td>\n",
       "      <td>[ 3.26090392e-13 -9.37518870e-09 -6.75934922e-...</td>\n",
       "      <td>[52982.   261. 71046. 44636. 29323. 49925. 860...</td>\n",
       "      <td>[ 6.35118290e-04  1.17225536e-10  3.47956344e-...</td>\n",
       "      <td>0.000702577219952135</td>\n",
       "      <td>[8.73812836e-04 9.41499549e-09 6.75934922e-12 ...</td>\n",
       "      <td>0.0008752504287716673</td>\n",
       "      <td>[ 8.73812837e-04  3.98067888e-11 -6.83257848e-...</td>\n",
       "      <td>0.0008752504291728218</td>\n",
       "    </tr>\n",
       "  </tbody>\n",
       "</table>\n",
       "</div>"
      ],
      "text/plain": [
       "Unnamed: 0                                             MSExDA  \\\n",
       "0           [ 8.57753850e-16 -6.90727510e-05 -5.57398604e-...   \n",
       "1           [-7.42554381e-05 -6.11264555e-05  2.01230513e-...   \n",
       "2           [ 3.51020021e-06  1.31078804e-05 -2.03380361e-...   \n",
       "3           [ 9.37490833e-19 -6.52197790e-08  4.90273505e-...   \n",
       "4           [ 2.38694547e-04 -7.74187469e-11 -4.16282129e-...   \n",
       "\n",
       "Unnamed: 0                                              errxB  \\\n",
       "0           [ 8.57753850e-16 -6.90727510e-05 -5.57398604e-...   \n",
       "1           [-7.42554381e-05 -6.11264555e-05  2.01230513e-...   \n",
       "2           [ 3.51020021e-06  1.31078804e-05 -2.03380361e-...   \n",
       "3           [ 9.37490833e-19 -6.52197790e-08  4.90273505e-...   \n",
       "4           [ 2.38694547e-04 -7.74187469e-11 -4.16282129e-...   \n",
       "\n",
       "Unnamed: 0                                             errxDA  \\\n",
       "0           [ 8.13464154e-04  1.87806222e-04 -2.79980660e-...   \n",
       "1           [-1.33777798e-07 -1.73168422e-06 -1.02525872e-...   \n",
       "2           [-1.88320450e-04 -1.28738634e-04 -8.25106585e-...   \n",
       "3           [ 8.10743123e-07 -4.03186082e-06  3.01283613e-...   \n",
       "4           [ 3.26090392e-13 -9.37518870e-09 -6.75934922e-...   \n",
       "\n",
       "Unnamed: 0                                             indLoc  \\\n",
       "0           [87246. 97311. 92896. 51056. 33678. 75361. 988...   \n",
       "1           [30344. 83215. 39524. 22902. 11377. 22646. 291...   \n",
       "2           [21711. 45456. 73561. 92069. 63609. 80603. 830...   \n",
       "3           [98539. 74524. 22471. 63614. 69984. 61632. 247...   \n",
       "4           [52982.   261. 71046. 44636. 29323. 49925. 860...   \n",
       "\n",
       "Unnamed: 0                                                 xB  \\\n",
       "0           [ 5.51535815e-16  1.05261420e-04  3.54442670e-...   \n",
       "1           [ 7.66703195e-05  9.75972729e-05 -1.48905721e-...   \n",
       "2           [ 1.61402060e-06  8.01032689e-04  2.05411863e-...   \n",
       "3           [2.90948287e-19 6.70960257e-08 1.23729815e-03 ...   \n",
       "4           [ 6.35118290e-04  1.17225536e-10  3.47956344e-...   \n",
       "\n",
       "Unnamed: 0                xB_norm  \\\n",
       "0             0.03613915943573513   \n",
       "1            0.001780517293936772   \n",
       "2             0.00854724639778517   \n",
       "3           0.0012706800185855697   \n",
       "4            0.000702577219952135   \n",
       "\n",
       "Unnamed: 0                                                xDA  \\\n",
       "0           [-8.13464154e-04 -1.51617552e-04  3.49148664e-...   \n",
       "1           [ 2.54865927e-06  3.82025017e-05  1.02726954e-...   \n",
       "2           [1.93444671e-04 9.42879204e-04 8.25106585e-05 ...   \n",
       "3           [-8.10743123e-07  4.03373707e-06  1.72754153e-...   \n",
       "4           [8.73812836e-04 9.41499549e-09 6.75934922e-12 ...   \n",
       "\n",
       "Unnamed: 0               xDA_norm  \\\n",
       "0             0.03532003423986997   \n",
       "1           0.0016555448829644536   \n",
       "2            0.008768486658128705   \n",
       "3           0.0017593787284846112   \n",
       "4           0.0008752504287716673   \n",
       "\n",
       "Unnamed: 0                                                  y  \\\n",
       "0           [1.40928967e-15 3.61886693e-05 3.48868684e-02 ...   \n",
       "1           [ 2.41488148e-06  3.64708175e-05  2.01081608e-...   \n",
       "2           [ 5.12422081e-06  8.14140570e-04  2.03150235e-...   \n",
       "3           [1.22843912e-18 1.87624674e-09 1.72757166e-03 ...   \n",
       "4           [ 8.73812837e-04  3.98067888e-11 -6.83257848e-...   \n",
       "\n",
       "Unnamed: 0                 y_norm  \n",
       "0             0.03525339685223487  \n",
       "1           0.0016554505074259402  \n",
       "2            0.008853023237890584  \n",
       "3             0.00175945665218294  \n",
       "4           0.0008752504291728218  "
      ]
     },
     "execution_count": 145,
     "metadata": {},
     "output_type": "execute_result"
    }
   ],
   "source": [
    "results = pd.read_csv(\"results_da\",)\n",
    "results = results.transpose()\n",
    "results.columns = results.iloc[0,:]\n",
    "results.drop(axis=0,index=\"Unnamed: 0\",inplace=True)\n",
    "results.head()"
   ]
  },
  {
   "cell_type": "code",
   "execution_count": 146,
   "metadata": {},
   "outputs": [],
   "source": [
    "results.loc[:,\"errxDA\"] = results.loc[:,\"errxDA\"].apply(str_to_array)\n",
    "results.loc[:,\"errxB\"] = results.loc[:,\"errxB\"].apply(str_to_array)\n",
    "results.loc[:,\"y\"] = results.loc[:,\"y\"].apply(str_to_array)"
   ]
  },
  {
   "cell_type": "code",
   "execution_count": 147,
   "metadata": {},
   "outputs": [],
   "source": [
    "results.loc[:,\"MSExDA\"] = results.loc[:,\"errxDA\"].apply(np.linalg.norm) / results.loc[:,\"y\"].apply(np.linalg.norm)"
   ]
  },
  {
   "cell_type": "code",
   "execution_count": 149,
   "metadata": {},
   "outputs": [],
   "source": [
    "results.loc[:,\"MSExb\"] = results.loc[:,\"errxB\"].apply(np.linalg.norm) / results.loc[:,\"y\"].apply(np.linalg.norm)"
   ]
  },
  {
   "cell_type": "code",
   "execution_count": 170,
   "metadata": {},
   "outputs": [
    {
     "data": {
      "text/plain": [
       "0.7412282915743215"
      ]
     },
     "execution_count": 170,
     "metadata": {},
     "output_type": "execute_result"
    }
   ],
   "source": [
    "np.mean(results.loc[:,\"MSExb\"] - results.loc[:,\"MSExDA\"])"
   ]
  },
  {
   "cell_type": "code",
   "execution_count": 155,
   "metadata": {},
   "outputs": [
    {
     "data": {
      "text/html": [
       "<div>\n",
       "<style scoped>\n",
       "    .dataframe tbody tr th:only-of-type {\n",
       "        vertical-align: middle;\n",
       "    }\n",
       "\n",
       "    .dataframe tbody tr th {\n",
       "        vertical-align: top;\n",
       "    }\n",
       "\n",
       "    .dataframe thead th {\n",
       "        text-align: right;\n",
       "    }\n",
       "</style>\n",
       "<table border=\"1\" class=\"dataframe\">\n",
       "  <thead>\n",
       "    <tr style=\"text-align: right;\">\n",
       "      <th>Unnamed: 0</th>\n",
       "      <th>MSExDA</th>\n",
       "      <th>MSExb</th>\n",
       "    </tr>\n",
       "  </thead>\n",
       "  <tbody>\n",
       "    <tr>\n",
       "      <th>mean</th>\n",
       "      <td>0.041670</td>\n",
       "      <td>0.782899</td>\n",
       "    </tr>\n",
       "    <tr>\n",
       "      <th>std</th>\n",
       "      <td>0.090773</td>\n",
       "      <td>1.102829</td>\n",
       "    </tr>\n",
       "  </tbody>\n",
       "</table>\n",
       "</div>"
      ],
      "text/plain": [
       "Unnamed: 0    MSExDA     MSExb\n",
       "mean        0.041670  0.782899\n",
       "std         0.090773  1.102829"
      ]
     },
     "execution_count": 155,
     "metadata": {},
     "output_type": "execute_result"
    }
   ],
   "source": [
    "results.describe().loc[['mean','std'],:]"
   ]
  },
  {
   "cell_type": "code",
   "execution_count": 154,
   "metadata": {},
   "outputs": [
    {
     "data": {
      "text/plain": [
       "0     0.028496\n",
       "1     0.003922\n",
       "2     0.074047\n",
       "3     0.004307\n",
       "4     0.000016\n",
       "5     0.002796\n",
       "6     0.038580\n",
       "7     0.006272\n",
       "8     0.000027\n",
       "9     0.001006\n",
       "10    0.001573\n",
       "11    0.000003\n",
       "12    0.000118\n",
       "13    0.023077\n",
       "14    0.000817\n",
       "15    0.156603\n",
       "16    0.006257\n",
       "17    0.093343\n",
       "18    0.002537\n",
       "19    0.026273\n",
       "20    0.044664\n",
       "21    0.000285\n",
       "22    0.009459\n",
       "23    0.001131\n",
       "24    0.000103\n",
       "25    0.004176\n",
       "26    0.000950\n",
       "27    0.006343\n",
       "28    0.029698\n",
       "29    0.009121\n",
       "        ...   \n",
       "70    0.601926\n",
       "71    0.026763\n",
       "72    0.000050\n",
       "73    0.001532\n",
       "74    0.005897\n",
       "75    0.007187\n",
       "76    0.097813\n",
       "77    0.014516\n",
       "78    0.231628\n",
       "79    0.043739\n",
       "80    0.028084\n",
       "81    0.157505\n",
       "82    0.001078\n",
       "83    0.260390\n",
       "84    0.000541\n",
       "85    0.003796\n",
       "86    0.151027\n",
       "87    0.082120\n",
       "88    0.112527\n",
       "89    0.282981\n",
       "90    0.023162\n",
       "91    0.001422\n",
       "92    0.000274\n",
       "93    0.019814\n",
       "94    0.006650\n",
       "95    0.003053\n",
       "96    0.000418\n",
       "97    0.000017\n",
       "98    0.005276\n",
       "99    0.000333\n",
       "Name: MSExDA, Length: 100, dtype: float64"
      ]
     },
     "execution_count": 154,
     "metadata": {},
     "output_type": "execute_result"
    }
   ],
   "source": [
    "results.loc[:,\"MSExDA\"]"
   ]
  },
  {
   "cell_type": "code",
   "execution_count": 122,
   "metadata": {},
   "outputs": [],
   "source": [
    "i = results.loc[:,\"errxDA\"][13].replace('  ',' ').replace('\\n','').replace(']','').replace('[','').split(' ')\n",
    "i.remove('')"
   ]
  },
  {
   "cell_type": "code",
   "execution_count": 124,
   "metadata": {},
   "outputs": [
    {
     "data": {
      "text/plain": [
       "['0.00055716',\n",
       " '0.00017568',\n",
       " '0.00014806',\n",
       " '0.0003654',\n",
       " '0.00014522',\n",
       " '0.00016078',\n",
       " '0.00034552',\n",
       " '0.00014888',\n",
       " '0.00014671',\n",
       " '-0.00024568']"
      ]
     },
     "execution_count": 124,
     "metadata": {},
     "output_type": "execute_result"
    }
   ],
   "source": [
    "i.remove('')\n",
    "i"
   ]
  },
  {
   "cell_type": "code",
   "execution_count": 114,
   "metadata": {},
   "outputs": [
    {
     "data": {
      "text/plain": [
       "'[ 0.00055716  0.00017568  0.00014806  0.0003654   0.00014522  0.00016078\\n  0.00034552  0.00014888  0.00014671 -0.00024568]'"
      ]
     },
     "execution_count": 114,
     "metadata": {},
     "output_type": "execute_result"
    }
   ],
   "source": [
    "results.loc[:,\"errxDA\"][13]"
   ]
  },
  {
   "cell_type": "code",
   "execution_count": 164,
   "metadata": {},
   "outputs": [
    {
     "data": {
      "text/plain": [
       "0     59.565857\n",
       "1     98.993844\n",
       "2     19.409991\n",
       "3     98.597652\n",
       "4     99.996051\n",
       "5     99.363658\n",
       "6     95.160216\n",
       "7     98.716759\n",
       "8     99.994371\n",
       "9     99.951308\n",
       "10    99.691890\n",
       "11    99.999678\n",
       "12    99.921955\n",
       "13    69.634963\n",
       "14    99.895665\n",
       "15    63.877650\n",
       "16    98.421208\n",
       "17    89.536154\n",
       "18    99.883216\n",
       "19    96.995678\n",
       "20    80.413824\n",
       "21    99.959477\n",
       "22    88.651106\n",
       "23    99.853068\n",
       "24    99.988082\n",
       "25    96.403014\n",
       "26    99.856619\n",
       "27    99.087979\n",
       "28    96.400116\n",
       "29    98.962465\n",
       "        ...    \n",
       "70    42.551329\n",
       "71    94.008114\n",
       "72    99.986526\n",
       "73    99.795492\n",
       "74    98.809290\n",
       "75    97.924244\n",
       "76    62.148234\n",
       "77    96.608196\n",
       "78    47.203908\n",
       "79    94.324960\n",
       "80    95.621603\n",
       "81    61.448480\n",
       "82    99.855134\n",
       "83    85.845947\n",
       "84    99.983584\n",
       "85    97.908276\n",
       "86    40.058253\n",
       "87    54.279929\n",
       "88    87.633095\n",
       "89    66.076325\n",
       "90    98.126341\n",
       "91    98.976516\n",
       "92    99.987276\n",
       "93    97.315816\n",
       "94    99.096322\n",
       "95    99.667643\n",
       "96    99.933902\n",
       "97    99.996919\n",
       "98    99.382727\n",
       "99    99.956791\n",
       "Length: 100, dtype: float64"
      ]
     },
     "execution_count": 164,
     "metadata": {},
     "output_type": "execute_result"
    }
   ],
   "source": [
    "100*(results.loc[:,'MSExb'] - results.loc[:,'MSExDA'] ) / results.loc[:,'MSExb']"
   ]
  },
  {
   "cell_type": "code",
   "execution_count": null,
   "metadata": {},
   "outputs": [],
   "source": []
  }
 ],
 "metadata": {
  "kernelspec": {
   "display_name": "Python [conda env:project] *",
   "language": "python",
   "name": "conda-env-project-py"
  },
  "language_info": {
   "codemirror_mode": {
    "name": "ipython",
    "version": 3
   },
   "file_extension": ".py",
   "mimetype": "text/x-python",
   "name": "python",
   "nbconvert_exporter": "python",
   "pygments_lexer": "ipython3",
   "version": "3.6.8"
  }
 },
 "nbformat": 4,
 "nbformat_minor": 2
}
