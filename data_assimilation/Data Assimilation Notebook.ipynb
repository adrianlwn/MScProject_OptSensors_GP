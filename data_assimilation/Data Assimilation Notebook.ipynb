{
 "cells": [
  {
   "cell_type": "code",
   "execution_count": 68,
   "metadata": {},
   "outputs": [],
   "source": [
    "import numpy as np\n",
    "from scipy.optimize import minimize\n",
    "import random\n",
    "import matplotlib.pyplot as plt\n",
    "import time\n",
    "import copy\n",
    "\n",
    "import pdb\n",
    "\n",
    "from numpy.linalg import inv\n",
    "from numpy import linalg as LA\n",
    "\n",
    "\n",
    "import math\n",
    "from scipy.sparse.linalg import svds\n",
    "\n",
    "import sys\n",
    "sys.path.append('../../fluidity-master/python/')\n",
    "import vtktools\n"
   ]
  },
  {
   "cell_type": "code",
   "execution_count": 2,
   "metadata": {},
   "outputs": [],
   "source": [
    "#ntime = 3000\n",
    "#ntimelocal = 500\n",
    "\n",
    "ntime = 988\n",
    "ntimelocal = 988"
   ]
  },
  {
   "cell_type": "code",
   "execution_count": 22,
   "metadata": {},
   "outputs": [],
   "source": [
    "\n",
    "indLoc = np.loadtxt('localpoints_optimal_eps10-6-Copy1.txt')\n",
    "\n",
    "NindLoc = len(indLoc)"
   ]
  },
  {
   "cell_type": "code",
   "execution_count": null,
   "metadata": {},
   "outputs": [],
   "source": []
  },
  {
   "cell_type": "code",
   "execution_count": 23,
   "metadata": {},
   "outputs": [],
   "source": [
    "uvwTot = np.array([])\n",
    "for i in range(ntimelocal):\n",
    "    filename = '../../data/small3DLSBU/LSBU_'+str(i+1)+'.vtu'\n",
    "    ug=vtktools.vtu(filename)\n",
    "    ug.GetFieldNames()\n",
    "    xFluidity = ug.GetScalarField('Tracer')\n",
    "    xMLocal = np.array([])\n",
    "    for j in range(NindLoc):\n",
    "        indexLocal = indLoc[j]\n",
    "        indexLocal = int(indexLocal)\n",
    "        xMpoint = xFluidity[indexLocal]\n",
    "        xMLocal = np.append(xMLocal,xMpoint)\n",
    "    uvwTot = np.append(uvwTot,xMLocal)\n",
    "\n",
    "n = NindLoc"
   ]
  },
  {
   "cell_type": "code",
   "execution_count": 24,
   "metadata": {},
   "outputs": [
    {
     "data": {
      "text/plain": [
       "(9880,)"
      ]
     },
     "execution_count": 24,
     "metadata": {},
     "output_type": "execute_result"
    }
   ],
   "source": [
    "uvwTot.shape"
   ]
  },
  {
   "cell_type": "code",
   "execution_count": 25,
   "metadata": {},
   "outputs": [],
   "source": [
    "\n",
    "dimuvwTot = len(uvwTot)\n",
    "\n",
    "m = np.array([])\n",
    "m = np.zeros(int(dimuvwTot/ntime))\n",
    "for j in range(n):\n",
    "        for i in range(1,ntime+1):\n",
    "                m[j] = np.copy(m[j] + uvwTot[j+(i-1)*n])\n",
    "        m[j] = m[j]/ntime\n",
    "\n",
    "\n"
   ]
  },
  {
   "cell_type": "code",
   "execution_count": 67,
   "metadata": {},
   "outputs": [
    {
     "data": {
      "text/plain": [
       "5"
      ]
     },
     "execution_count": 67,
     "metadata": {},
     "output_type": "execute_result"
    }
   ],
   "source": [
    "m"
   ]
  },
  {
   "cell_type": "code",
   "execution_count": 27,
   "metadata": {},
   "outputs": [],
   "source": [
    "\n",
    "err = np.array([])\n",
    "err = np.zeros(dimuvwTot)\n",
    "\n",
    "for j in range(n):\n",
    "        for i in range(1,ntime+1):\n",
    "                err[j+(i-1)*j] = abs(uvwTot[j+(i-1)*j]-m[j])\n",
    "\n",
    "W =  np.transpose(np.reshape(err, (ntime,n)))\n"
   ]
  },
  {
   "cell_type": "code",
   "execution_count": 28,
   "metadata": {},
   "outputs": [
    {
     "data": {
      "text/plain": [
       "(10, 988)"
      ]
     },
     "execution_count": 28,
     "metadata": {},
     "output_type": "execute_result"
    }
   ],
   "source": [
    "W.shape"
   ]
  },
  {
   "cell_type": "code",
   "execution_count": 60,
   "metadata": {},
   "outputs": [],
   "source": [
    "\n",
    "trnc=n-5\n",
    "Utrunc, strunc, Wtrunc = svds(W, k=trnc)\n",
    "X = Utrunc.dot(np.diag(np.sqrt(strunc)))\n",
    "np.savetxt(\"./matrixVpreclocal\"+str(trnc)+\".txt\", X)\n",
    "\n",
    "\n",
    "V = X.copy()\n",
    "\n",
    "lam = 1e-60"
   ]
  },
  {
   "cell_type": "code",
   "execution_count": 61,
   "metadata": {},
   "outputs": [
    {
     "data": {
      "text/plain": [
       "(10, 5)"
      ]
     },
     "execution_count": 61,
     "metadata": {},
     "output_type": "execute_result"
    }
   ],
   "source": [
    "V.shape"
   ]
  },
  {
   "cell_type": "code",
   "execution_count": 62,
   "metadata": {},
   "outputs": [],
   "source": [
    "\n",
    "#put the observation file (time step 988)\n",
    "\n",
    "#ugg=vtktools.vtu('./WindTunnel/WTobserv/TracerWT400.vtu')\n",
    "ugg=vtktools.vtu('../../data/small3DLSBU/LSBU_988.vtu')\n",
    "ugg.GetFieldNames()\n",
    "uvwVecobstot = ugg.GetScalarField('Tracer')\n",
    "uvwVecobs = np.array([])\n",
    "for i in range(NindLoc):\n",
    "    indexLocal = indLoc[i]\n",
    "    indexLocal = int(indexLocal)\n",
    "    xMpointobs = uvwVecobstot[indexLocal]\n",
    "    uvwVecobs = np.append(uvwVecobs,xMpointobs)\n",
    "\n"
   ]
  },
  {
   "cell_type": "code",
   "execution_count": 63,
   "metadata": {},
   "outputs": [],
   "source": [
    "#put the background (time step 100)\n",
    "\n",
    "nstobs = len(uvwVecobs)\n",
    "#ug=vtktools.vtu('./WindTunnel/Projected_Normal_400.vtu')\n",
    "ug=vtktools.vtu('../../data/small3DLSBU/LSBU_100.vtu')\n",
    "\n",
    "ug.GetFieldNames()\n",
    "uvwVectot = ug.GetScalarField('Tracer')\n",
    "nRec = len(uvwVectot)\n",
    "uvwVec = np.array([])\n",
    "for i in range(NindLoc):\n",
    "    indexLocal = indLoc[i]\n",
    "    indexLocal = int(indexLocal)\n",
    "    xMpointFl = uvwVectot[indexLocal]\n",
    "    uvwVec = np.append(uvwVec,xMpointFl)\n",
    "\n",
    "nst = len(uvwVec)\n",
    "pos=ug.GetLocations()\n",
    "z=pos[:,2]\n",
    "n = len(uvwVec)"
   ]
  },
  {
   "cell_type": "code",
   "execution_count": 64,
   "metadata": {},
   "outputs": [
    {
     "data": {
      "text/plain": [
       "array([0.04059302, 0.01081481, 0.05006317, 0.03350604, 0.00202573,\n",
       "       0.00428191, 0.00466259, 0.038388  , 0.01052082, 0.0014957 ])"
      ]
     },
     "execution_count": 64,
     "metadata": {},
     "output_type": "execute_result"
    }
   ],
   "source": [
    "uvwVec"
   ]
  },
  {
   "cell_type": "code",
   "execution_count": 65,
   "metadata": {},
   "outputs": [],
   "source": [
    "\n",
    "m = trnc\n",
    "xB = uvwVec.copy()\n",
    "y = uvwVecobs.copy()\n",
    "R = lam * 0.9\n",
    "\n",
    "x0 = uvwVec\n",
    "\n",
    "Vin = np.linalg.pinv(V)\n",
    "v0 = np.dot(Vin,x0)\n",
    "VT = np.transpose(V)\n",
    "HxB = xB.copy()\n",
    "d = np.subtract(y,HxB)\n"
   ]
  },
  {
   "cell_type": "code",
   "execution_count": 66,
   "metadata": {},
   "outputs": [
    {
     "data": {
      "text/plain": [
       "(5, 10)"
      ]
     },
     "execution_count": 66,
     "metadata": {},
     "output_type": "execute_result"
    }
   ],
   "source": [
    "Vin.shape"
   ]
  },
  {
   "cell_type": "code",
   "execution_count": 35,
   "metadata": {},
   "outputs": [],
   "source": [
    "\n",
    "# Cost function J\n",
    "def J(v):\n",
    "        vT = np.transpose(v)\n",
    "        vTv = np.dot(vT,v)\n",
    "        Vv = np.dot(V,v)\n",
    "        Jmis = np.subtract(Vv,d)\n",
    "        invR = 1/R\n",
    "#       invR = 1e+60\n",
    "        JmisT = np.transpose(Jmis)\n",
    "        RJmis = JmisT.copy()\n",
    "        J1 = invR*np.dot(Jmis,RJmis)\n",
    "        Jv = (vTv + J1) / 2\n",
    "        return Jv\n",
    "\n",
    "# Gradient of J\n",
    "def gradJ(v):\n",
    "        Vv = np.dot(V,v)\n",
    "        Jmis = np.subtract(Vv,d)\n",
    "        invR = 1/R\n",
    "#       invR = 1e+60\n",
    "        g1 = Jmis.copy()\n",
    "        VT = np.transpose(V)\n",
    "        g2 = np.dot(VT,g1)\n",
    "        gg2 = np.multiply(invR , g2)\n",
    "        ggJ = v + gg2\n",
    "        return ggJ\n"
   ]
  },
  {
   "cell_type": "code",
   "execution_count": 36,
   "metadata": {},
   "outputs": [],
   "source": [
    "\n",
    "# Compute the minimum\n",
    "t = time.time()\n",
    "\n",
    "res = minimize(J, v0, method='L-BFGS-B', jac=gradJ,\n",
    "                options={'disp': True})\n",
    "\n",
    "\n",
    "vDA = np.array([])\n",
    "vDA = res.x\n",
    "deltaxDA = np.dot(V,vDA)\n",
    "xDA = xB + deltaxDA\n",
    "\n",
    "elapsed = time.time() - t"
   ]
  },
  {
   "cell_type": "code",
   "execution_count": 37,
   "metadata": {},
   "outputs": [
    {
     "data": {
      "text/plain": [
       "array([0.03783724, 0.03511161, 0.01459022, 0.0043295 , 0.02183203,\n",
       "       0.00505892, 0.01413808, 0.01458285, 0.03183394, 0.00062585])"
      ]
     },
     "execution_count": 37,
     "metadata": {},
     "output_type": "execute_result"
    }
   ],
   "source": [
    "xDA"
   ]
  },
  {
   "cell_type": "code",
   "execution_count": 38,
   "metadata": {},
   "outputs": [
    {
     "name": "stdout",
     "output_type": "stream",
     "text": [
      "L2 norm of the background error 0.9923911506964529\n"
     ]
    }
   ],
   "source": [
    "\n",
    "errxB = y - xB\n",
    "MSExb = LA.norm(errxB, 2)/LA.norm(y, 2)\n",
    "print('L2 norm of the background error' , MSExb )"
   ]
  },
  {
   "cell_type": "code",
   "execution_count": 39,
   "metadata": {},
   "outputs": [
    {
     "name": "stdout",
     "output_type": "stream",
     "text": [
      "L2 norm of the error in DA solution 0.3580914614162093\n"
     ]
    }
   ],
   "source": [
    "\n",
    "errxDA = y - xDA\n",
    "MSExDA = LA.norm(errxDA, 2)/LA.norm(y, 2)\n",
    "print('L2 norm of the error in DA solution' , MSExDA)"
   ]
  },
  {
   "cell_type": "code",
   "execution_count": 75,
   "metadata": {},
   "outputs": [],
   "source": [
    "\n",
    "errxBtot = np.array([])\n",
    "errxBtot = np.zeros(nRec)\n",
    "\n",
    "for j in range(NindLoc):\n",
    "    indexLocal = indLoc[j]\n",
    "    indexLocal = int(indexLocal)\n",
    "    errxBtot[indexLocal] = errxB[j]\n",
    "\n"
   ]
  },
  {
   "cell_type": "code",
   "execution_count": 76,
   "metadata": {},
   "outputs": [],
   "source": [
    "\n",
    "abserrxBtot = np.absolute(errxBtot)\n",
    "\n",
    "ug.AddScalarField('u_0^M - u_C', abserrxBtot)\n",
    "ug.Write('./Results/abserruM400-local.vtu')\n",
    "\n"
   ]
  },
  {
   "cell_type": "code",
   "execution_count": 77,
   "metadata": {},
   "outputs": [],
   "source": [
    "\n",
    "errxDAtot = np.array([])\n",
    "errxDAtot = np.zeros(nRec)\n",
    "\n",
    "for j in range(NindLoc):\n",
    "    indexLocal = indLoc[j]\n",
    "    indexLocal = int(indexLocal)\n",
    "    errxDAtot[indexLocal] = errxDA[j]\n"
   ]
  },
  {
   "cell_type": "code",
   "execution_count": 78,
   "metadata": {},
   "outputs": [],
   "source": [
    "\n",
    "abserrxDAtot = np.absolute(errxDAtot)\n",
    "\n",
    "ug.AddScalarField('u^DA - u_C', abserrxDAtot)\n",
    "ug.Write('./Results/abserruDA400-local.vtu')\n"
   ]
  },
  {
   "cell_type": "code",
   "execution_count": 79,
   "metadata": {},
   "outputs": [],
   "source": [
    "\n",
    "errxDAtot = np.array([])\n",
    "errxDAtot = np.zeros(nRec)\n",
    "\n",
    "for j in range(NindLoc):\n",
    "    indexLocal = indLoc[j]\n",
    "    indexLocal = int(indexLocal)\n",
    "    errxDAtot[indexLocal] = errxDA[j]\n",
    "\n"
   ]
  },
  {
   "cell_type": "code",
   "execution_count": 80,
   "metadata": {},
   "outputs": [],
   "source": [
    "\n",
    "abserrxDAtot = np.absolute(errxDAtot)\n",
    "\n",
    "ug.AddScalarField('u^DA - u_C', abserrxDAtot)\n",
    "ug.Write('./Results/abserruDA400-local.vtu')\n",
    "\n",
    "\n",
    "xDAtot = uvwVectot.copy()\n",
    "\n",
    "for j in range(NindLoc):\n",
    "    indexLocal = indLoc[j]\n",
    "    indexLocal = int(indexLocal)\n",
    "    xDAtot[indexLocal] = xDA[j]\n",
    "\n",
    "ug.AddScalarField('uDA', xDAtot)\n",
    "ug.Write('./Results/uDA400-local.vtu')\n",
    "\n",
    "\n",
    "xBtot = uvwVectot.copy()\n",
    "\n",
    "ug.AddScalarField('uM', xBtot)\n",
    "ug.Write('./Results/uM400-local.vtu')\n",
    "\n",
    "\n",
    "ytot = uvwVecobstot.copy()\n",
    "\n",
    "ug.AddScalarField('y', ytot)\n",
    "# Save the Data\n",
    "ug.Write('./Results/uy400-local.vtu')\n"
   ]
  },
  {
   "cell_type": "code",
   "execution_count": null,
   "metadata": {},
   "outputs": [],
   "source": []
  },
  {
   "cell_type": "code",
   "execution_count": null,
   "metadata": {},
   "outputs": [],
   "source": []
  },
  {
   "cell_type": "code",
   "execution_count": null,
   "metadata": {},
   "outputs": [],
   "source": []
  },
  {
   "cell_type": "code",
   "execution_count": null,
   "metadata": {},
   "outputs": [],
   "source": []
  }
 ],
 "metadata": {
  "kernelspec": {
   "display_name": "Python [conda env:project] *",
   "language": "python",
   "name": "conda-env-project-py"
  },
  "language_info": {
   "codemirror_mode": {
    "name": "ipython",
    "version": 3
   },
   "file_extension": ".py",
   "mimetype": "text/x-python",
   "name": "python",
   "nbconvert_exporter": "python",
   "pygments_lexer": "ipython3",
   "version": "3.6.8"
  }
 },
 "nbformat": 4,
 "nbformat_minor": 2
}
