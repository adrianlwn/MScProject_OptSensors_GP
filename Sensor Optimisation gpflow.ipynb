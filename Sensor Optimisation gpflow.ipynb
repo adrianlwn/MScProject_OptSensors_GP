{
 "cells": [
  {
   "cell_type": "code",
   "execution_count": 1,
   "metadata": {},
   "outputs": [],
   "source": [
    "from utils.data_handling import *\n",
    "from utils.sensor_optimisation import *\n",
    "from parameters import *\n"
   ]
  },
  {
   "cell_type": "code",
   "execution_count": 4,
   "metadata": {},
   "outputs": [
    {
     "name": "stdout",
     "output_type": "stream",
     "text": [
      "==> Loading from : ../data/temp_data/cache_0_988_((-5, 5), (-5, 5), (0, 20))/data_TracerBackground.pkl\n",
      "(291, 989)\n"
     ]
    }
   ],
   "source": [
    "new_data_df = load_data_df(parameters)\n",
    "print(new_data_df.shape)"
   ]
  },
  {
   "cell_type": "code",
   "execution_count": 1,
   "metadata": {},
   "outputs": [
    {
     "name": "stderr",
     "output_type": "stream",
     "text": [
      "  0%|          | 1/989 [00:00<04:29,  3.67it/s]"
     ]
    },
    {
     "name": "stdout",
     "output_type": "stream",
     "text": [
      "{'i_start': 0, 'i_end': 988, 'crop': ((-5, 5), (-5, 5), (0, 20)), 'field_name': 'TracerBackground', 'cov_method': 'sample'}\n",
      "==> Import vtu files from 0 to 988\n",
      "==> Cropping vtu files to ((-5, 5), (-5, 5), (0, 20))\n"
     ]
    },
    {
     "name": "stderr",
     "output_type": "stream",
     "text": [
      " 20%|██        | 200/989 [00:51<03:19,  3.95it/s]"
     ]
    },
    {
     "ename": "KeyboardInterrupt",
     "evalue": "",
     "output_type": "error",
     "traceback": [
      "\u001b[0;31m---------------------------------------------------------------------------\u001b[0m",
      "\u001b[0;31mKeyboardInterrupt\u001b[0m                         Traceback (most recent call last)",
      "\u001b[0;32m<ipython-input-1-f81260ca6701>\u001b[0m in \u001b[0;36m<module>\u001b[0;34m\u001b[0m\n\u001b[1;32m      4\u001b[0m \u001b[0;31m# Loading the vtu files in a dictionary, along with the location df and the time vec\u001b[0m\u001b[0;34m\u001b[0m\u001b[0;34m\u001b[0m\u001b[0;34m\u001b[0m\u001b[0m\n\u001b[1;32m      5\u001b[0m \u001b[0mprint\u001b[0m\u001b[0;34m(\u001b[0m\u001b[0mparameters\u001b[0m\u001b[0;34m)\u001b[0m\u001b[0;34m\u001b[0m\u001b[0;34m\u001b[0m\u001b[0m\n\u001b[0;32m----> 6\u001b[0;31m \u001b[0mloaded\u001b[0m \u001b[0;34m=\u001b[0m \u001b[0mload_vtu\u001b[0m\u001b[0;34m(\u001b[0m\u001b[0mparameters\u001b[0m\u001b[0;34m)\u001b[0m\u001b[0;34m\u001b[0m\u001b[0;34m\u001b[0m\u001b[0m\n\u001b[0m\u001b[1;32m      7\u001b[0m \u001b[0mdata_dict\u001b[0m\u001b[0;34m,\u001b[0m \u001b[0mref_vtu\u001b[0m\u001b[0;34m,\u001b[0m \u001b[0mloc_df\u001b[0m\u001b[0;34m,\u001b[0m \u001b[0mtime_vec\u001b[0m \u001b[0;34m=\u001b[0m \u001b[0mloaded\u001b[0m\u001b[0;34m\u001b[0m\u001b[0;34m\u001b[0m\u001b[0m\n\u001b[1;32m      8\u001b[0m \u001b[0;34m\u001b[0m\u001b[0m\n",
      "\u001b[0;32m~/MScProject_OptSensors_GP/utils/data_handling.py\u001b[0m in \u001b[0;36mload_vtu\u001b[0;34m(parameters)\u001b[0m\n\u001b[1;32m     53\u001b[0m             data_dict[ts].Crop(crop[0][0], crop[0][1],\n\u001b[1;32m     54\u001b[0m                                \u001b[0mcrop\u001b[0m\u001b[0;34m[\u001b[0m\u001b[0;36m1\u001b[0m\u001b[0;34m]\u001b[0m\u001b[0;34m[\u001b[0m\u001b[0;36m0\u001b[0m\u001b[0;34m]\u001b[0m\u001b[0;34m,\u001b[0m \u001b[0mcrop\u001b[0m\u001b[0;34m[\u001b[0m\u001b[0;36m1\u001b[0m\u001b[0;34m]\u001b[0m\u001b[0;34m[\u001b[0m\u001b[0;36m1\u001b[0m\u001b[0;34m]\u001b[0m\u001b[0;34m,\u001b[0m\u001b[0;34m\u001b[0m\u001b[0;34m\u001b[0m\u001b[0m\n\u001b[0;32m---> 55\u001b[0;31m                                crop[2][0], crop[2][1])\n\u001b[0m\u001b[1;32m     56\u001b[0m \u001b[0;34m\u001b[0m\u001b[0m\n\u001b[1;32m     57\u001b[0m     \u001b[0mprint\u001b[0m\u001b[0;34m(\u001b[0m\u001b[0;34m'Number of Locations after cropping : '\u001b[0m\u001b[0;34m,\u001b[0m \u001b[0mdata_dict\u001b[0m\u001b[0;34m[\u001b[0m\u001b[0mts_0\u001b[0m\u001b[0;34m]\u001b[0m\u001b[0;34m.\u001b[0m\u001b[0mGetLocations\u001b[0m\u001b[0;34m(\u001b[0m\u001b[0;34m)\u001b[0m\u001b[0;34m.\u001b[0m\u001b[0mshape\u001b[0m\u001b[0;34m[\u001b[0m\u001b[0;36m0\u001b[0m\u001b[0;34m]\u001b[0m\u001b[0;34m)\u001b[0m\u001b[0;34m\u001b[0m\u001b[0;34m\u001b[0m\u001b[0m\n",
      "\u001b[0;32m~/fluidity-master/python/vtktools.py\u001b[0m in \u001b[0;36mCrop\u001b[0;34m(self, min_x, max_x, min_y, max_y, min_z, max_z)\u001b[0m\n\u001b[1;32m    325\u001b[0m       \u001b[0mtrimmer\u001b[0m\u001b[0;34m.\u001b[0m\u001b[0mSetInputData\u001b[0m\u001b[0;34m(\u001b[0m\u001b[0mself\u001b[0m\u001b[0;34m.\u001b[0m\u001b[0mugrid\u001b[0m\u001b[0;34m)\u001b[0m\u001b[0;34m\u001b[0m\u001b[0;34m\u001b[0m\u001b[0m\n\u001b[1;32m    326\u001b[0m     \u001b[0mtrimmer\u001b[0m\u001b[0;34m.\u001b[0m\u001b[0mSetExtent\u001b[0m\u001b[0;34m(\u001b[0m\u001b[0mmin_x\u001b[0m\u001b[0;34m,\u001b[0m \u001b[0mmax_x\u001b[0m\u001b[0;34m,\u001b[0m \u001b[0mmin_y\u001b[0m\u001b[0;34m,\u001b[0m \u001b[0mmax_y\u001b[0m\u001b[0;34m,\u001b[0m \u001b[0mmin_z\u001b[0m\u001b[0;34m,\u001b[0m \u001b[0mmax_z\u001b[0m\u001b[0;34m)\u001b[0m\u001b[0;34m\u001b[0m\u001b[0;34m\u001b[0m\u001b[0m\n\u001b[0;32m--> 327\u001b[0;31m     \u001b[0mtrimmer\u001b[0m\u001b[0;34m.\u001b[0m\u001b[0mUpdate\u001b[0m\u001b[0;34m(\u001b[0m\u001b[0;34m)\u001b[0m\u001b[0;34m\u001b[0m\u001b[0;34m\u001b[0m\u001b[0m\n\u001b[0m\u001b[1;32m    328\u001b[0m     \u001b[0mtrimmed_ug\u001b[0m \u001b[0;34m=\u001b[0m \u001b[0mtrimmer\u001b[0m\u001b[0;34m.\u001b[0m\u001b[0mGetOutput\u001b[0m\u001b[0;34m(\u001b[0m\u001b[0;34m)\u001b[0m\u001b[0;34m\u001b[0m\u001b[0;34m\u001b[0m\u001b[0m\n\u001b[1;32m    329\u001b[0m \u001b[0;34m\u001b[0m\u001b[0m\n",
      "\u001b[0;31mKeyboardInterrupt\u001b[0m: "
     ]
    }
   ],
   "source": [
    "from utils.data_handling import *\n",
    "from parameters import *\n",
    "\n",
    "# Loading the vtu files in a dictionary, along with the location df and the time vec\n",
    "print(parameters)\n",
    "loaded = load_vtu(parameters)\n",
    "data_dict, ref_vtu, loc_df, time_vec = loaded\n",
    "\n",
    "# Extract the specified field.\n",
    "data_df = extract_data_df(data_dict, parameters)\n",
    "print(data_df.head())\n",
    "\n",
    "# Save the specified field\n",
    "save_data_df(data_df, parameters)\n",
    "\n",
    "# Test Load the specified field\n",
    "\n",
    "new_data_df = load_data_df(parameters)\n",
    "print(new_data_df.head())\n"
   ]
  },
  {
   "cell_type": "code",
   "execution_count": null,
   "metadata": {},
   "outputs": [],
   "source": []
  }
 ],
 "metadata": {
  "kernelspec": {
   "display_name": "Python [conda env:project] *",
   "language": "python",
   "name": "conda-env-project-py"
  },
  "language_info": {
   "codemirror_mode": {
    "name": "ipython",
    "version": 3
   },
   "file_extension": ".py",
   "mimetype": "text/x-python",
   "name": "python",
   "nbconvert_exporter": "python",
   "pygments_lexer": "ipython3",
   "version": "3.6.8"
  }
 },
 "nbformat": 4,
 "nbformat_minor": 2
}
