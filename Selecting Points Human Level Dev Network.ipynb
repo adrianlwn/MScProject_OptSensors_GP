{
 "cells": [
  {
   "cell_type": "code",
   "execution_count": 193,
   "metadata": {},
   "outputs": [],
   "source": [
    "from utils.data_handling import *\n",
    "from utils.sensor_optimisation_gpy_sparse import *\n",
    "from parameters import *\n",
    "\n",
    "import sklearn.decomposition\n",
    "import scipy\n",
    "import matplotlib.pyplot as plt\n",
    "np.random.seed(101)\n",
    "%matplotlib inline\n",
    "\n",
    "from tqdm import tqdm\n",
    "from shapely.geometry import Polygon, Point, MultiPoint, MultiPolygon\n"
   ]
  },
  {
   "cell_type": "code",
   "execution_count": 2,
   "metadata": {},
   "outputs": [
    {
     "data": {
      "text/plain": [
       "{'i_start': 0,\n",
       " 'i_end': 988,\n",
       " 'crop': None,\n",
       " 'field_name': 'Tracer',\n",
       " 'cov_method': 'sample'}"
      ]
     },
     "execution_count": 2,
     "metadata": {},
     "output_type": "execute_result"
    }
   ],
   "source": [
    "parameters['i_end'] = 988\n",
    "parameters['field_name'] = \"Tracer\"\n",
    "parameters"
   ]
  },
  {
   "cell_type": "code",
   "execution_count": 3,
   "metadata": {},
   "outputs": [
    {
     "name": "stderr",
     "output_type": "stream",
     "text": [
      "\r",
      "  0%|          | 0/1 [00:00<?, ?it/s]"
     ]
    },
    {
     "name": "stdout",
     "output_type": "stream",
     "text": [
      "### Loading files from original VTU\n",
      "==> Import vtu files from 0 to 0\n"
     ]
    },
    {
     "name": "stderr",
     "output_type": "stream",
     "text": [
      "100%|██████████| 1/1 [00:00<00:00,  1.97it/s]\n"
     ]
    },
    {
     "name": "stdout",
     "output_type": "stream",
     "text": [
      "Number of Locations after cropping :  100040\n",
      "==> Loading from : ../data/temp_data/cache_0_988_None/loc_Tracer.pkl\n",
      "==> Loading from : ../data/temp_data/cache_0_988_None/time_Tracer.pkl\n",
      "==> Loading from : ../data/temp_data/cache_0_988_None/data_Tracer.pkl\n"
     ]
    }
   ],
   "source": [
    "loaded = initial_load_data(parameters, recompute=False)\n",
    "ref_vtu, data_df, loc_df, time_df = loaded"
   ]
  },
  {
   "cell_type": "code",
   "execution_count": 162,
   "metadata": {},
   "outputs": [],
   "source": [
    "buildingshape = dict()\n",
    "buildingshape[1] = [(-131.01,-57.71),\n",
    "                    (-122.03,-59.61),\n",
    "                    (-87.06,25.77),\n",
    "                    (-28.47,-19.76),\n",
    "                    (-18.55,-10.27),\n",
    "                    (-83.28,38.68),\n",
    "                    (-93.20,31.09)]\n",
    "buildingshape[2] = [(-91.36,-77.05),\n",
    "                    (-75.77,-90.79),\n",
    "                    (-11.47,-41.45),\n",
    "                    (-11.34,-30.43),\n",
    "                    (-20.79,-21.93)]\n",
    "buildingshape[3] = [(-11.47,-41.45),\n",
    "                    (-5.43,-35.46),\n",
    "                    (-5.04,-25.76),\n",
    "                    (-11.34,-30.43)]\n",
    "buildingshape[4] = [(-11.34,-30.43),\n",
    "                    (-5.04,-25.76),\n",
    "                    (-4.911,-22.77),\n",
    "                    (-16.06,-12.94),\n",
    "                    (-24.33,-18.81)]\n",
    "\n",
    "buildingshape[5] = [(-37.06, -85.74),\n",
    "                    (-26.82, -95.32),\n",
    "                    (-15.01,-97.24),\n",
    "                    (-15.54, -101,19),\n",
    "                    (-1.36, -103,94),\n",
    "                    (7.68, -59.03),\n",
    "                    (-0.18, -54,48),\n",
    "                    (-9.5, -60.83),\n",
    "                    (-15.15, -77.60),\n",
    "                    (-23.28, -74.48)]\n",
    "buildingshape[6] = [(33.93, -59.15),\n",
    "                    (37.73, -82.27),\n",
    "                    (65.03, -102.99),\n",
    "                    (72.91, -96.16),\n",
    "                    (47.97, -76.64),\n",
    "                    (46.79, - 66.34),\n",
    "                    (69.62, -54.24),\n",
    "                    (131.76, -57.35),\n",
    "                    (132.35, -48.01),\n",
    "                    (58.86, -44.66)]\n",
    "buildingshape[7] = [(50.48, -3.53),\n",
    "                    (60.70, -17.95),\n",
    "                    (79.73, -18.62),\n",
    "                    (73.21, 16.46),\n",
    "                    (54.97, 18.14)]\n",
    "buildingshape[8] = [(57.35, 28.86),\n",
    "                    (71.36, 26.63),\n",
    "                    (74.41, 45.74),\n",
    "                    (61.67, 48.68)]\n",
    "buildingshape[9] = [(-40.95, 93.54),\n",
    "                    (-34.34, 88.61),\n",
    "                    (-24.31, 97.45),\n",
    "                    (-22.11, 97.58),\n",
    "                    (7.99, 75.07),\n",
    "                    (14.11, 80.58),\n",
    "                    (-16.23, 103.52),\n",
    "                    (-30.92, 103.40)]\n",
    "buildingshape[10] = [(-50.50, 69.57),\n",
    "                     (-33.85, 57.29),\n",
    "                     (-20.39, 62.91),\n",
    "                     (-44.13, 81.15)]\n",
    "buildingshape[11] = [(7.25, 53.16),\n",
    "                     (27.57, 40.78),\n",
    "                     (29.52, 51.33),\n",
    "                     (15.33, 62.11)]\n",
    "buildingshape[12] = [(-57.59, 45.48),\n",
    "                     (7.25, -2.34),\n",
    "                     (19.49, 0.98),\n",
    "                     (26.83, 31.14),\n",
    "                     (19.49, 34.70),\n",
    "                     (11.63, 34.01),\n",
    "                     (10.92, 32.40),\n",
    "                     (16.55, 27.70),\n",
    "                     (10.68, 13.48),\n",
    "                     (3.34, 11.41),\n",
    "                     (-26.02, 43.53),\n",
    "                     (-44.87, 57.41)]\n"
   ]
  },
  {
   "cell_type": "code",
   "execution_count": 186,
   "metadata": {},
   "outputs": [],
   "source": [
    "buildingshape = dict()\n",
    "buildingshape[1] = [(-57.71, -131.01),\n",
    "                     (-59.61, -122.03),\n",
    "                     (25.77, -87.06),\n",
    "                     (-19.76, -28.47),\n",
    "                     (-10.27, -18.55),\n",
    "                     (38.68, -83.28),\n",
    "                     (31.09, -93.2)]\n",
    "buildingshape[2] = [(-77.05, -91.36),\n",
    "                     (-90.79, -75.77),\n",
    "                     (-41.45, -11.47),\n",
    "                     (-30.43, -11.34),\n",
    "                     (-21.93, -20.79)]\n",
    "buildingshape[3] = [(-41.45, -11.47),\n",
    "                    (-35.46, -5.43),\n",
    "                    (-25.76, -5.04),\n",
    "                    (-30.43, -11.34)]\n",
    "buildingshape[4] = [(-30.43, -11.34),\n",
    "                     (-25.76, -5.04),\n",
    "                     (-22.77, -4.911),\n",
    "                     (-12.94, -16.06),\n",
    "                     (-18.81, -24.33)]\n",
    "\n",
    "buildingshape[5] = [(-85.74, -37.06),\n",
    "                     (-95.32, -26.82),\n",
    "                     (-97.24, -15.01),\n",
    "                     (-101, -15.54),\n",
    "                     (-103, -1.36),\n",
    "                     (-59.03, 7.68),\n",
    "                     (-54, -0.18),\n",
    "                     (-60.83, -9.5),\n",
    "                     (-77.6, -15.15),\n",
    "                     (-74.48, -23.28)]\n",
    "buildingshape[6] = [(-59.15, 33.93),\n",
    "                     (-82.27, 37.73),\n",
    "                     (-102.99, 65.03),\n",
    "                     (-96.16, 72.91),\n",
    "                     (-76.64, 47.97),\n",
    "                     (-66.34, 46.79),\n",
    "                     (-54.24, 69.62),\n",
    "                     (-57.35, 131.76),\n",
    "                     (-48.01, 132.35),\n",
    "                     (-44.66, 58.86)]\n",
    "buildingshape[7] = [(-3.53, 50.48),\n",
    "                     (-17.95, 60.7),\n",
    "                     (-18.62, 79.73),\n",
    "                     (16.46, 73.21),\n",
    "                     (18.14, 54.97)]\n",
    "buildingshape[8] = [(28.86, 57.35),\n",
    "                    (26.63, 71.36),\n",
    "                    (45.74, 74.41),\n",
    "                    (48.68, 61.67)]\n",
    "buildingshape[9] = [(93.54, -40.95),\n",
    "                     (88.61, -34.34),\n",
    "                     (97.45, -24.31),\n",
    "                     (97.58, -22.11),\n",
    "                     (75.07, 7.99),\n",
    "                     (80.58, 14.11),\n",
    "                     (103.52, -16.23),\n",
    "                     (103.4, -30.92)]\n",
    "buildingshape[10] = [(69.57, -50.5),\n",
    "                     (57.29, -33.85),\n",
    "                     (62.91, -20.39),\n",
    "                     (81.15, -44.13)]\n",
    "buildingshape[11] = [(53.16, 7.25),\n",
    "                     (40.78, 27.57),\n",
    "                     (51.33, 29.52),\n",
    "                     (62.11, 15.33)]\n",
    "buildingshape[12] = [(45.48, -57.59),\n",
    "                     (-2.34, 7.25),\n",
    "                     (0.98, 19.49),\n",
    "                     (31.14, 26.83),\n",
    "                     (34.7, 19.49),\n",
    "                     (34.01, 11.63),\n",
    "                     (32.4, 10.92),\n",
    "                     (27.7, 16.55),\n",
    "                     (13.48, 10.68),\n",
    "                     (11.41, 3.34),\n",
    "                     (43.53, -26.02),\n",
    "                     (57.41, -44.87)]\n"
   ]
  },
  {
   "cell_type": "code",
   "execution_count": 218,
   "metadata": {},
   "outputs": [
    {
     "data": {
      "image/svg+xml": [
       "<svg xmlns=\"http://www.w3.org/2000/svg\" xmlns:xlink=\"http://www.w3.org/1999/xlink\" width=\"227.5888\" height=\"284.4288\" viewBox=\"-113.5344 -141.5444 227.5888 284.4288\" preserveAspectRatio=\"xMinYMin meet\"><g transform=\"matrix(1,0,0,-1,0,1.3400000000000034)\"><g><path fill-rule=\"evenodd\" fill=\"#ff3333\" stroke=\"#555555\" stroke-width=\"2.0\" opacity=\"0.6\" d=\"M -57.71,-131.01 L -59.61,-122.03 L 25.77,-87.06 L -19.76,-28.47 L -10.27,-18.55 L 38.68,-83.28 L 31.09,-93.2 L -57.71,-131.01 z\" /><path fill-rule=\"evenodd\" fill=\"#ff3333\" stroke=\"#555555\" stroke-width=\"2.0\" opacity=\"0.6\" d=\"M -77.05,-91.36 L -90.79,-75.77 L -41.45,-11.47 L -30.43,-11.34 L -21.93,-20.79 L -77.05,-91.36 z\" /><path fill-rule=\"evenodd\" fill=\"#ff3333\" stroke=\"#555555\" stroke-width=\"2.0\" opacity=\"0.6\" d=\"M -41.45,-11.47 L -35.46,-5.43 L -25.76,-5.04 L -30.43,-11.34 L -41.45,-11.47 z\" /><path fill-rule=\"evenodd\" fill=\"#ff3333\" stroke=\"#555555\" stroke-width=\"2.0\" opacity=\"0.6\" d=\"M -30.43,-11.34 L -25.76,-5.04 L -22.77,-4.911 L -12.94,-16.06 L -18.81,-24.33 L -30.43,-11.34 z\" /><path fill-rule=\"evenodd\" fill=\"#ff3333\" stroke=\"#555555\" stroke-width=\"2.0\" opacity=\"0.6\" d=\"M -85.74,-37.06 L -95.32,-26.82 L -97.24,-15.01 L -101.0,-15.54 L -103.0,-1.36 L -59.03,7.68 L -54.0,-0.18 L -60.83,-9.5 L -77.6,-15.15 L -74.48,-23.28 L -85.74,-37.06 z\" /><path fill-rule=\"evenodd\" fill=\"#ff3333\" stroke=\"#555555\" stroke-width=\"2.0\" opacity=\"0.6\" d=\"M -59.15,33.93 L -82.27,37.73 L -102.99,65.03 L -96.16,72.91 L -76.64,47.97 L -66.34,46.79 L -54.24,69.62 L -57.35,131.76 L -48.01,132.35 L -44.66,58.86 L -59.15,33.93 z\" /><path fill-rule=\"evenodd\" fill=\"#ff3333\" stroke=\"#555555\" stroke-width=\"2.0\" opacity=\"0.6\" d=\"M -3.53,50.48 L -17.95,60.7 L -18.62,79.73 L 16.46,73.21 L 18.14,54.97 L -3.53,50.48 z\" /><path fill-rule=\"evenodd\" fill=\"#ff3333\" stroke=\"#555555\" stroke-width=\"2.0\" opacity=\"0.6\" d=\"M 28.86,57.35 L 26.63,71.36 L 45.74,74.41 L 48.68,61.67 L 28.86,57.35 z\" /><path fill-rule=\"evenodd\" fill=\"#ff3333\" stroke=\"#555555\" stroke-width=\"2.0\" opacity=\"0.6\" d=\"M 93.54,-40.95 L 88.61,-34.34 L 97.45,-24.31 L 97.58,-22.11 L 75.07,7.99 L 80.58,14.11 L 103.52,-16.23 L 103.4,-30.92 L 93.54,-40.95 z\" /><path fill-rule=\"evenodd\" fill=\"#ff3333\" stroke=\"#555555\" stroke-width=\"2.0\" opacity=\"0.6\" d=\"M 69.57,-50.5 L 57.29,-33.85 L 62.91,-20.39 L 81.15,-44.13 L 69.57,-50.5 z\" /><path fill-rule=\"evenodd\" fill=\"#ff3333\" stroke=\"#555555\" stroke-width=\"2.0\" opacity=\"0.6\" d=\"M 53.16,7.25 L 40.78,27.57 L 51.33,29.52 L 62.11,15.33 L 53.16,7.25 z\" /><path fill-rule=\"evenodd\" fill=\"#ff3333\" stroke=\"#555555\" stroke-width=\"2.0\" opacity=\"0.6\" d=\"M 45.48,-57.59 L -2.34,7.25 L 0.98,19.49 L 31.14,26.83 L 34.7,19.49 L 34.01,11.63 L 32.4,10.92 L 27.7,16.55 L 13.48,10.68 L 11.41,3.34 L 43.53,-26.02 L 57.41,-44.87 L 45.48,-57.59 z\" /></g></g></svg>"
      ],
      "text/plain": [
       "<shapely.geometry.multipolygon.MultiPolygon at 0x128c68c18>"
      ]
     },
     "execution_count": 218,
     "metadata": {},
     "output_type": "execute_result"
    }
   ],
   "source": [
    "allBuildingPoly = MultiPolygon(list(buildingPoly.values()))\n",
    "allBuildingPoly"
   ]
  },
  {
   "cell_type": "code",
   "execution_count": 42,
   "metadata": {},
   "outputs": [],
   "source": [
    "p = Point(-87.06,25.77) \n",
    "A.buffer(10);\n",
    "\n",
    "\n",
    "\n"
   ]
  },
  {
   "cell_type": "code",
   "execution_count": 38,
   "metadata": {},
   "outputs": [
    {
     "data": {
      "text/plain": [
       "False"
      ]
     },
     "execution_count": 38,
     "metadata": {},
     "output_type": "execute_result"
    }
   ],
   "source": [
    "p.within(A)"
   ]
  },
  {
   "cell_type": "code",
   "execution_count": 87,
   "metadata": {},
   "outputs": [],
   "source": [
    "AllPoints = MultiPoint(loc_df.values)"
   ]
  },
  {
   "cell_type": "code",
   "execution_count": 88,
   "metadata": {},
   "outputs": [],
   "source": [
    "PointsinA = AllPoints.intersection(A.buffer(-1))"
   ]
  },
  {
   "cell_type": "code",
   "execution_count": 92,
   "metadata": {},
   "outputs": [
    {
     "data": {
      "text/plain": [
       "3293"
      ]
     },
     "execution_count": 92,
     "metadata": {},
     "output_type": "execute_result"
    }
   ],
   "source": [
    "len([p.z for p in PointsinA])"
   ]
  },
  {
   "cell_type": "code",
   "execution_count": null,
   "metadata": {},
   "outputs": [],
   "source": []
  }
 ],
 "metadata": {
  "kernelspec": {
   "display_name": "Python [conda env:project]",
   "language": "python",
   "name": "conda-env-project-py"
  },
  "language_info": {
   "codemirror_mode": {
    "name": "ipython",
    "version": 3
   },
   "file_extension": ".py",
   "mimetype": "text/x-python",
   "name": "python",
   "nbconvert_exporter": "python",
   "pygments_lexer": "ipython3",
   "version": "3.6.7"
  }
 },
 "nbformat": 4,
 "nbformat_minor": 2
}
