{
 "cells": [
  {
   "cell_type": "code",
   "execution_count": 1,
   "metadata": {},
   "outputs": [],
   "source": [
    "%load_ext autoreload"
   ]
  },
  {
   "cell_type": "code",
   "execution_count": 2,
   "metadata": {},
   "outputs": [],
   "source": [
    "%autoreload 2"
   ]
  },
  {
   "cell_type": "code",
   "execution_count": null,
   "metadata": {},
   "outputs": [],
   "source": [
    "from utils.data_handling import *\n",
    "from utils.sensor_optimisation import *\n",
    "from parameters import *\n",
    "import GPy\n",
    "import scipy.stats\n",
    "from sklearn.covariance import *\n",
    "import time\n",
    "\n",
    "\n",
    "\n",
    "import matplotlib.pyplot as plt\n",
    "np.random.seed(101)\n",
    "\n",
    "\n"
   ]
  },
  {
   "cell_type": "markdown",
   "metadata": {},
   "source": [
    "### Importing the Tracer Data to Select the Optimisation set S"
   ]
  },
  {
   "cell_type": "code",
   "execution_count": 4,
   "metadata": {},
   "outputs": [
    {
     "data": {
      "text/plain": [
       "{'i_start': 0, 'i_end': 988, 'crop': None, 'field_name': 'Tracer'}"
      ]
     },
     "execution_count": 4,
     "metadata": {},
     "output_type": "execute_result"
    }
   ],
   "source": [
    "parameters['field_name'] = \"Tracer\"\n",
    "parameters\n"
   ]
  },
  {
   "cell_type": "code",
   "execution_count": 5,
   "metadata": {
    "scrolled": false
   },
   "outputs": [
    {
     "name": "stderr",
     "output_type": "stream",
     "text": [
      "100%|██████████| 1/1 [00:00<00:00,  6.11it/s]"
     ]
    },
    {
     "name": "stdout",
     "output_type": "stream",
     "text": [
      "### Loading files from original VTU\n",
      "==> Import vtu files from 0 to 0\n"
     ]
    },
    {
     "name": "stderr",
     "output_type": "stream",
     "text": [
      "\n"
     ]
    },
    {
     "name": "stdout",
     "output_type": "stream",
     "text": [
      "Number of Locations after cropping :  100040\n",
      "==> Loading from : ../data/temp_data/cache_0_988_None/loc_Tracer.pkl\n",
      "==> Loading from : ../data/temp_data/cache_0_988_None/time_Tracer.pkl\n",
      "==> Loading from : ../data/temp_data/cache_0_988_None/data_Tracer.pkl\n"
     ]
    }
   ],
   "source": [
    "loaded = initial_load_data(parameters, recompute=False)\n",
    "ref_vtu, data_df, loc_df, time_df = loaded"
   ]
  },
  {
   "cell_type": "markdown",
   "metadata": {},
   "source": [
    "### Working subset of the data : set S"
   ]
  },
  {
   "cell_type": "code",
   "execution_count": 6,
   "metadata": {},
   "outputs": [
    {
     "name": "stdout",
     "output_type": "stream",
     "text": [
      "The remaining number of points is :  37847\n"
     ]
    }
   ],
   "source": [
    "S_human = human_level_subset(buildingshape, loc_df, 2,1 )\n",
    "print(\"The remaining number of points is : \", str(len(S_human)))"
   ]
  },
  {
   "cell_type": "code",
   "execution_count": 7,
   "metadata": {},
   "outputs": [
    {
     "name": "stdout",
     "output_type": "stream",
     "text": [
      "The remaining number of points is :  57725\n"
     ]
    }
   ],
   "source": [
    "S_working = working_subset(data_df, loc_df, nbins = (25,25,25), threshold_sum = 10**-2 )\n",
    "print(\"The remaining number of points is : \", str(len(S_working)))"
   ]
  },
  {
   "cell_type": "code",
   "execution_count": 8,
   "metadata": {},
   "outputs": [
    {
     "name": "stdout",
     "output_type": "stream",
     "text": [
      "The remaining number of points is :  23643\n"
     ]
    }
   ],
   "source": [
    "S = np.intersect1d(S_human,S_working)\n",
    "print(\"The remaining number of points is : \", str(len(S)))"
   ]
  },
  {
   "cell_type": "code",
   "execution_count": 9,
   "metadata": {},
   "outputs": [],
   "source": [
    "#A_list = set_to_onehot(S,data_df.shape[0])\n",
    "#save_vtu(ref_vtu[0],'FinalSelection',A_list)"
   ]
  },
  {
   "cell_type": "markdown",
   "metadata": {},
   "source": [
    "### Import the Field of interest for computing the optimisation : TracerBackground / Pressure"
   ]
  },
  {
   "cell_type": "code",
   "execution_count": 10,
   "metadata": {},
   "outputs": [
    {
     "data": {
      "text/plain": [
       "{'i_start': 0, 'i_end': 988, 'crop': None, 'field_name': 'Tracer'}"
      ]
     },
     "execution_count": 10,
     "metadata": {},
     "output_type": "execute_result"
    }
   ],
   "source": [
    "parameters['i_end'] = 988\n",
    "parameters['field_name'] = \"Tracer\"\n",
    "parameters\n"
   ]
  },
  {
   "cell_type": "code",
   "execution_count": 11,
   "metadata": {},
   "outputs": [
    {
     "name": "stderr",
     "output_type": "stream",
     "text": [
      "\r",
      "  0%|          | 0/1 [00:00<?, ?it/s]"
     ]
    },
    {
     "name": "stdout",
     "output_type": "stream",
     "text": [
      "### Loading files from original VTU\n",
      "==> Import vtu files from 0 to 0\n"
     ]
    },
    {
     "name": "stderr",
     "output_type": "stream",
     "text": [
      "100%|██████████| 1/1 [00:00<00:00,  6.52it/s]\n"
     ]
    },
    {
     "name": "stdout",
     "output_type": "stream",
     "text": [
      "Number of Locations after cropping :  100040\n",
      "==> Loading from : ../data/temp_data/cache_0_988_None/loc_Tracer.pkl\n",
      "==> Loading from : ../data/temp_data/cache_0_988_None/time_Tracer.pkl\n",
      "==> Loading from : ../data/temp_data/cache_0_988_None/data_Tracer.pkl\n"
     ]
    }
   ],
   "source": [
    "loaded = initial_load_data(parameters, recompute=False)\n",
    "ref_vtu, data_df, loc_df, time_df = loaded"
   ]
  },
  {
   "cell_type": "code",
   "execution_count": 12,
   "metadata": {},
   "outputs": [
    {
     "data": {
      "text/plain": [
       "(100040, 989)"
      ]
     },
     "execution_count": 12,
     "metadata": {},
     "output_type": "execute_result"
    }
   ],
   "source": [
    "X = loc_df.values[:,:] #[I,:dim]\n",
    "Z = data_df.values[:,:] #[:,t].reshape(-1,1) # [I,t].reshape(-1,1)\n",
    "Z.shape"
   ]
  },
  {
   "cell_type": "markdown",
   "metadata": {},
   "source": [
    "### Detrending Data : \n",
    "Plotting the data along each direction in order to see if there is a obvious trend. It seams that it is not the case. "
   ]
  },
  {
   "cell_type": "code",
   "execution_count": 13,
   "metadata": {},
   "outputs": [],
   "source": [
    "#Z[S,:] = (Z[S,:]  - Z[S,:].mean(axis=1,keepdims=True))"
   ]
  },
  {
   "cell_type": "markdown",
   "metadata": {},
   "source": [
    "### Sample Covariance"
   ]
  },
  {
   "cell_type": "code",
   "execution_count": 14,
   "metadata": {},
   "outputs": [],
   "source": [
    "cov_emp = empirical_covariance(Z[S,:].T)"
   ]
  },
  {
   "cell_type": "code",
   "execution_count": 15,
   "metadata": {},
   "outputs": [
    {
     "data": {
      "text/plain": [
       "(1.0, -1399932.5637581607)"
      ]
     },
     "execution_count": 15,
     "metadata": {},
     "output_type": "execute_result"
    }
   ],
   "source": [
    "np.linalg.slogdet(cov_emp)"
   ]
  },
  {
   "cell_type": "code",
   "execution_count": 16,
   "metadata": {},
   "outputs": [
    {
     "data": {
      "text/plain": [
       "0.021915655570946678"
      ]
     },
     "execution_count": 16,
     "metadata": {},
     "output_type": "execute_result"
    }
   ],
   "source": [
    "eig_emp = np.linalg.eigvalsh(cov_emp)\n",
    "eig_emp[-1]"
   ]
  },
  {
   "cell_type": "code",
   "execution_count": 17,
   "metadata": {},
   "outputs": [
    {
     "data": {
      "text/plain": [
       "-6.773178779857725e-18"
      ]
     },
     "execution_count": 17,
     "metadata": {},
     "output_type": "execute_result"
    }
   ],
   "source": [
    "eig_emp[0]"
   ]
  },
  {
   "cell_type": "code",
   "execution_count": 18,
   "metadata": {},
   "outputs": [
    {
     "data": {
      "text/plain": [
       "Text(0, 0.5, 'Eigenvalues $\\\\lambda_i$')"
      ]
     },
     "execution_count": 18,
     "metadata": {},
     "output_type": "execute_result"
    },
    {
     "data": {
      "image/png": "[encoded data removed]",
      "text/plain": [
       "<Figure size 936x576 with 1 Axes>"
      ]
     },
     "metadata": {
      "needs_background": "light"
     },
     "output_type": "display_data"
    }
   ],
   "source": [
    "plt.figure(figsize=(13,8))\n",
    "plt.loglog(eig_emp[::-1])\n",
    "plt.grid()\n",
    "plt.xlabel(\"i\")\n",
    "plt.ylabel(\"Eigenvalues $\\lambda_i$\")"
   ]
  },
  {
   "cell_type": "markdown",
   "metadata": {},
   "source": [
    "### OAS Covariance"
   ]
  },
  {
   "cell_type": "code",
   "execution_count": 19,
   "metadata": {},
   "outputs": [
    {
     "data": {
      "text/plain": [
       "(23643, 23643)"
      ]
     },
     "execution_count": 19,
     "metadata": {},
     "output_type": "execute_result"
    }
   ],
   "source": [
    "cov, shrinkage_coef = oas(Z[S,:].T)\n",
    "cov.shape"
   ]
  },
  {
   "cell_type": "code",
   "execution_count": 37,
   "metadata": {},
   "outputs": [
    {
     "ename": "KeyboardInterrupt",
     "evalue": "",
     "output_type": "error",
     "traceback": [
      "\u001b[0;31m---------------------------------------------------------------------------\u001b[0m",
      "\u001b[0;31mKeyboardInterrupt\u001b[0m                         Traceback (most recent call last)",
      "\u001b[0;32m<ipython-input-37-03ae48126708>\u001b[0m in \u001b[0;36m<module>\u001b[0;34m\u001b[0m\n\u001b[0;32m----> 1\u001b[0;31m \u001b[0mnp\u001b[0m\u001b[0;34m.\u001b[0m\u001b[0msavetxt\u001b[0m\u001b[0;34m(\u001b[0m\u001b[0;34m'Optimal Points/cov_oas'\u001b[0m\u001b[0;34m,\u001b[0m\u001b[0mcov\u001b[0m\u001b[0;34m)\u001b[0m\u001b[0;34m\u001b[0m\u001b[0;34m\u001b[0m\u001b[0m\n\u001b[0m",
      "\u001b[0;32m~/anaconda3/envs/project/lib/python3.6/site-packages/numpy/lib/npyio.py\u001b[0m in \u001b[0;36msavetxt\u001b[0;34m(fname, X, fmt, delimiter, newline, header, footer, comments, encoding)\u001b[0m\n\u001b[1;32m   1420\u001b[0m             \u001b[0;32mfor\u001b[0m \u001b[0mrow\u001b[0m \u001b[0;32min\u001b[0m \u001b[0mX\u001b[0m\u001b[0;34m:\u001b[0m\u001b[0;34m\u001b[0m\u001b[0;34m\u001b[0m\u001b[0m\n\u001b[1;32m   1421\u001b[0m                 \u001b[0;32mtry\u001b[0m\u001b[0;34m:\u001b[0m\u001b[0;34m\u001b[0m\u001b[0;34m\u001b[0m\u001b[0m\n\u001b[0;32m-> 1422\u001b[0;31m                     \u001b[0mv\u001b[0m \u001b[0;34m=\u001b[0m \u001b[0mformat\u001b[0m \u001b[0;34m%\u001b[0m \u001b[0mtuple\u001b[0m\u001b[0;34m(\u001b[0m\u001b[0mrow\u001b[0m\u001b[0;34m)\u001b[0m \u001b[0;34m+\u001b[0m \u001b[0mnewline\u001b[0m\u001b[0;34m\u001b[0m\u001b[0;34m\u001b[0m\u001b[0m\n\u001b[0m\u001b[1;32m   1423\u001b[0m                 \u001b[0;32mexcept\u001b[0m \u001b[0mTypeError\u001b[0m\u001b[0;34m:\u001b[0m\u001b[0;34m\u001b[0m\u001b[0;34m\u001b[0m\u001b[0m\n\u001b[1;32m   1424\u001b[0m                     raise TypeError(\"Mismatch between array dtype ('%s') and \"\n",
      "\u001b[0;31mKeyboardInterrupt\u001b[0m: "
     ]
    }
   ],
   "source": []
  },
  {
   "cell_type": "code",
   "execution_count": 20,
   "metadata": {},
   "outputs": [
    {
     "data": {
      "text/plain": [
       "(1.0, -408903.3383689513)"
      ]
     },
     "execution_count": 20,
     "metadata": {},
     "output_type": "execute_result"
    }
   ],
   "source": [
    "np.linalg.slogdet(cov)"
   ]
  },
  {
   "cell_type": "code",
   "execution_count": null,
   "metadata": {},
   "outputs": [],
   "source": [
    "eig_oas = np.linalg.eigvalsh(cov)\n"
   ]
  },
  {
   "cell_type": "code",
   "execution_count": null,
   "metadata": {},
   "outputs": [
    {
     "data": {
      "text/plain": [
       "2.943502753067013e-08"
      ]
     },
     "execution_count": 22,
     "metadata": {},
     "output_type": "execute_result"
    }
   ],
   "source": [
    "eig_oas[0]"
   ]
  },
  {
   "cell_type": "code",
   "execution_count": null,
   "metadata": {},
   "outputs": [
    {
     "data": {
      "text/plain": [
       "Text(0, 0.5, 'Eigenvalues $\\\\lambda_i$')"
      ]
     },
     "execution_count": 23,
     "metadata": {},
     "output_type": "execute_result"
    },
    {
     "data": {
      "image/png": "[encoded data removed]",
      "text/plain": [
       "<Figure size 936x576 with 1 Axes>"
      ]
     },
     "metadata": {
      "needs_background": "light"
     },
     "output_type": "display_data"
    }
   ],
   "source": [
    "plt.figure(figsize=(13,8))\n",
    "plt.loglog(eig_oas[::-1])\n",
    "plt.grid()\n",
    "plt.xlabel(\"i\")\n",
    "plt.ylabel(\"Eigenvalues $\\lambda_i$\")"
   ]
  },
  {
   "cell_type": "markdown",
   "metadata": {},
   "source": [
    "### Sensor Optimisation with 3rd Algorithm : \n"
   ]
  },
  {
   "cell_type": "code",
   "execution_count": null,
   "metadata": {},
   "outputs": [],
   "source": []
  },
  {
   "cell_type": "markdown",
   "metadata": {},
   "source": [
    "Define the Sets for the optimisation"
   ]
  },
  {
   "cell_type": "code",
   "execution_count": null,
   "metadata": {},
   "outputs": [],
   "source": [
    "sets = define_sets(S)"
   ]
  },
  {
   "cell_type": "markdown",
   "metadata": {},
   "source": [
    "Number of sensors to place : "
   ]
  },
  {
   "cell_type": "code",
   "execution_count": null,
   "metadata": {},
   "outputs": [],
   "source": [
    "k = 10"
   ]
  },
  {
   "cell_type": "code",
   "execution_count": null,
   "metadata": {},
   "outputs": [],
   "source": [
    "A_opt = {}"
   ]
  },
  {
   "cell_type": "markdown",
   "metadata": {},
   "source": [
    "Truncation parameteter for the local covariance : "
   ]
  },
  {
   "cell_type": "code",
   "execution_count": null,
   "metadata": {},
   "outputs": [
    {
     "name": "stdout",
     "output_type": "stream",
     "text": [
      "1e-06\n"
     ]
    }
   ],
   "source": [
    "epsilon = 10**-6 # 10\n",
    "print(epsilon)"
   ]
  },
  {
   "cell_type": "code",
   "execution_count": null,
   "metadata": {},
   "outputs": [
    {
     "name": "stderr",
     "output_type": "stream",
     "text": [
      "Init Loop:  42%|████▏     | 9946/23643 [24:47<25:53,  8.82it/s]  "
     ]
    }
   ],
   "source": [
    "start = time.time()\n",
    "A_opt['local_eps_10^-6'] = sensor_loc_optimisation_naive_local(k,cov, \"threshold\", epsilon, sets)\n",
    "end = time.time()"
   ]
  },
  {
   "cell_type": "code",
   "execution_count": 35,
   "metadata": {},
   "outputs": [
    {
     "data": {
      "text/plain": [
       "(array([56588, 52731, 73959, 43278,  3078, 19782, 56257, 55640, 10357,\n",
       "        54786]), [4338, 4938, 5066, 5362, 4239, 4164, 3377, 4632, 3511, 4120])"
      ]
     },
     "execution_count": 35,
     "metadata": {},
     "output_type": "execute_result"
    }
   ],
   "source": [
    "A_opt['local_eps_10^-6'] "
   ]
  },
  {
   "cell_type": "code",
   "execution_count": null,
   "metadata": {},
   "outputs": [],
   "source": [
    "end-start"
   ]
  },
  {
   "cell_type": "code",
   "execution_count": null,
   "metadata": {},
   "outputs": [],
   "source": []
  },
  {
   "cell_type": "code",
   "execution_count": null,
   "metadata": {},
   "outputs": [],
   "source": [
    "A, d_opt = A_opt['local_eps_10^-6'] \n",
    "A"
   ]
  },
  {
   "cell_type": "code",
   "execution_count": null,
   "metadata": {},
   "outputs": [],
   "source": [
    "print(loc_df.loc[A,:].T.to_latex(float_format=\"%.2f\"))"
   ]
  },
  {
   "cell_type": "code",
   "execution_count": 47,
   "metadata": {},
   "outputs": [
    {
     "data": {
      "text/plain": [
       "array([ True,  True,  True,  True,  True,  True,  True,  True,  True,\n",
       "        True])"
      ]
     },
     "execution_count": 47,
     "metadata": {},
     "output_type": "execute_result"
    }
   ],
   "source": [
    "idx_A = [i  for i in range(len(S)) if S[i] in A]\n",
    "S[idx_A] == np.sort(A)"
   ]
  },
  {
   "cell_type": "code",
   "execution_count": 62,
   "metadata": {},
   "outputs": [
    {
     "data": {
      "text/plain": [
       "<matplotlib.image.AxesImage at 0x7fe0bd9ee0b8>"
      ]
     },
     "execution_count": 62,
     "metadata": {},
     "output_type": "execute_result"
    },
    {
     "data": {
      "image/png": "[encoded data removed]",
      "text/plain": [
       "<Figure size 288x288 with 1 Axes>"
      ]
     },
     "metadata": {
      "needs_background": "light"
     },
     "output_type": "display_data"
    }
   ],
   "source": [
    "plt.matshow(cov[np.ix_(idx_A,idx_A)])"
   ]
  },
  {
   "cell_type": "code",
   "execution_count": 63,
   "metadata": {},
   "outputs": [],
   "source": [
    "np.savetxt('Optimal Points/V_oas',scipy.linalg.sqrtm(cov[np.ix_(idx_A,idx_A)]) )"
   ]
  },
  {
   "cell_type": "code",
   "execution_count": 59,
   "metadata": {},
   "outputs": [],
   "source": [
    "A_old = [38726, 14276, 91348,  5338, 40994, 29626, 65851, 65734,   851, 2293]\n"
   ]
  },
  {
   "cell_type": "code",
   "execution_count": 61,
   "metadata": {},
   "outputs": [
    {
     "data": {
      "text/plain": [
       "13.84812179921324"
      ]
     },
     "execution_count": 61,
     "metadata": {},
     "output_type": "execute_result"
    }
   ],
   "source": [
    "dist_set(A_old,A, loc_df)/10"
   ]
  },
  {
   "cell_type": "code",
   "execution_count": 33,
   "metadata": {},
   "outputs": [
    {
     "name": "stdout",
     "output_type": "stream",
     "text": [
      "==> Saved to : ../data/temp_data/LSBU_res_2019:08:13-09:18:03_Opt_3rd_eps_10-6.vtu\n"
     ]
    }
   ],
   "source": [
    "A_list = set_to_onehot(A,data_df.shape[0])\n",
    "save_vtu(ref_vtu,'Opt_3rd_eps_10-6',A_list)"
   ]
  },
  {
   "cell_type": "code",
   "execution_count": 27,
   "metadata": {},
   "outputs": [],
   "source": [
    "d = 1500"
   ]
  },
  {
   "cell_type": "code",
   "execution_count": 28,
   "metadata": {},
   "outputs": [],
   "source": []
  },
  {
   "cell_type": "code",
   "execution_count": 29,
   "metadata": {
    "scrolled": true
   },
   "outputs": [
    {
     "name": "stderr",
     "output_type": "stream",
     "text": [
      "\r",
      "Init Loop:   0%|          | 0/23643 [00:00<?, ?it/s]"
     ]
    },
    {
     "name": "stdout",
     "output_type": "stream",
     "text": [
      "Length of local covariance set : d =  1500 , largest =  [[0.]]  smallest = [[0.]]\n"
     ]
    },
    {
     "name": "stderr",
     "output_type": "stream",
     "text": [
      "\r",
      "Init Loop:   0%|          | 1/23643 [00:00<1:12:11,  5.46it/s]"
     ]
    },
    {
     "name": "stdout",
     "output_type": "stream",
     "text": [
      "Length of local covariance set : d =  1500 , largest =  [[0.]]  smallest = [[0.]]\n"
     ]
    },
    {
     "name": "stderr",
     "output_type": "stream",
     "text": [
      "\r",
      "Init Loop:   0%|          | 2/23643 [00:00<1:05:44,  5.99it/s]"
     ]
    },
    {
     "name": "stdout",
     "output_type": "stream",
     "text": [
      "Length of local covariance set : d =  1500 , largest =  [[0.]]  smallest = [[0.]]\n"
     ]
    },
    {
     "name": "stderr",
     "output_type": "stream",
     "text": [
      "\r",
      "Init Loop:   0%|          | 3/23643 [00:00<1:01:07,  6.45it/s]"
     ]
    },
    {
     "name": "stdout",
     "output_type": "stream",
     "text": [
      "Length of local covariance set : d =  1500 , largest =  [[0.]]  smallest = [[0.]]\n"
     ]
    },
    {
     "name": "stderr",
     "output_type": "stream",
     "text": [
      "\r",
      "Init Loop:   0%|          | 4/23643 [00:00<58:00,  6.79it/s]  "
     ]
    },
    {
     "name": "stdout",
     "output_type": "stream",
     "text": [
      "Length of local covariance set : d =  1500 , largest =  [[0.]]  smallest = [[0.]]\n"
     ]
    },
    {
     "name": "stderr",
     "output_type": "stream",
     "text": [
      "\r",
      "Init Loop:   0%|          | 5/23643 [00:00<55:45,  7.07it/s]"
     ]
    },
    {
     "name": "stdout",
     "output_type": "stream",
     "text": [
      "Length of local covariance set : d =  1500 , largest =  [[0.]]  smallest = [[0.]]\n"
     ]
    },
    {
     "name": "stderr",
     "output_type": "stream",
     "text": [
      "\r",
      "Init Loop:   0%|          | 6/23643 [00:00<54:08,  7.28it/s]"
     ]
    },
    {
     "name": "stdout",
     "output_type": "stream",
     "text": [
      "Length of local covariance set : d =  1500 , largest =  [[0.]]  smallest = [[0.]]\n"
     ]
    },
    {
     "name": "stderr",
     "output_type": "stream",
     "text": [
      "\r",
      "Init Loop:   0%|          | 7/23643 [00:00<52:57,  7.44it/s]"
     ]
    },
    {
     "name": "stdout",
     "output_type": "stream",
     "text": [
      "Length of local covariance set : d =  1500 , largest =  [[0.]]  smallest = [[0.]]\n"
     ]
    },
    {
     "name": "stderr",
     "output_type": "stream",
     "text": [
      "\r",
      "Init Loop:   0%|          | 8/23643 [00:01<52:11,  7.55it/s]"
     ]
    },
    {
     "name": "stdout",
     "output_type": "stream",
     "text": [
      "Length of local covariance set : d =  1500 , largest =  [[0.]]  smallest = [[0.]]\n"
     ]
    },
    {
     "name": "stderr",
     "output_type": "stream",
     "text": [
      "\r",
      "Init Loop:   0%|          | 9/23643 [00:01<51:32,  7.64it/s]"
     ]
    },
    {
     "name": "stdout",
     "output_type": "stream",
     "text": [
      "Length of local covariance set : d =  1500 , largest =  [[0.]]  smallest = [[0.]]\n"
     ]
    },
    {
     "name": "stderr",
     "output_type": "stream",
     "text": [
      "\r",
      "Init Loop:   0%|          | 10/23643 [00:01<51:03,  7.72it/s]"
     ]
    },
    {
     "name": "stdout",
     "output_type": "stream",
     "text": [
      "Length of local covariance set : d =  1500 , largest =  [[0.]]  smallest = [[0.]]\n"
     ]
    },
    {
     "name": "stderr",
     "output_type": "stream",
     "text": [
      "\r",
      "Init Loop:   0%|          | 11/23643 [00:01<50:40,  7.77it/s]"
     ]
    },
    {
     "name": "stdout",
     "output_type": "stream",
     "text": [
      "Length of local covariance set : d =  1500 , largest =  [[0.]]  smallest = [[0.]]\n"
     ]
    },
    {
     "name": "stderr",
     "output_type": "stream",
     "text": [
      "\r",
      "Init Loop:   0%|          | 12/23643 [00:01<50:27,  7.80it/s]"
     ]
    },
    {
     "name": "stdout",
     "output_type": "stream",
     "text": [
      "Length of local covariance set : d =  1500 , largest =  [[0.]]  smallest = [[0.]]\n"
     ]
    },
    {
     "name": "stderr",
     "output_type": "stream",
     "text": [
      "\r",
      "Init Loop:   0%|          | 13/23643 [00:01<50:18,  7.83it/s]"
     ]
    },
    {
     "name": "stdout",
     "output_type": "stream",
     "text": [
      "Length of local covariance set : d =  1500 , largest =  [[0.]]  smallest = [[0.]]\n"
     ]
    },
    {
     "name": "stderr",
     "output_type": "stream",
     "text": [
      "\r",
      "Init Loop:   0%|          | 14/23643 [00:01<50:14,  7.84it/s]"
     ]
    },
    {
     "name": "stdout",
     "output_type": "stream",
     "text": [
      "Length of local covariance set : d =  10 , largest =  [[0.30274981]]  smallest = [[-0.12215276]]\n",
      "Length of local covariance set : d =  1500 , largest =  [[0.41373662]]  smallest = [[0.1687729]]\n"
     ]
    },
    {
     "name": "stderr",
     "output_type": "stream",
     "text": [
      "\n",
      "Inner Loop : placing sensor 10:  58%|█████▊    | 13796/23633 [03:09<04:38, 35.38it/s]\u001b[A"
     ]
    },
    {
     "name": "stdout",
     "output_type": "stream",
     "text": [
      "Length of local covariance set : d =  10 , largest =  [[0.54027553]]  smallest = [[-0.46475479]]\n",
      "Length of local covariance set : d =  1500 , largest =  [[0.52865215]]  smallest = [[0.04358664]]\n"
     ]
    },
    {
     "name": "stderr",
     "output_type": "stream",
     "text": [
      "\n",
      "Inner Loop : placing sensor 10:  58%|█████▊    | 13803/23633 [03:09<04:51, 33.67it/s]\u001b[A"
     ]
    },
    {
     "name": "stdout",
     "output_type": "stream",
     "text": [
      "Length of local covariance set : d =  10 , largest =  [[0.57244502]]  smallest = [[-0.05548374]]\n",
      "Length of local covariance set : d =  1500 , largest =  [[0.60465796]]  smallest = [[0.12839824]]\n"
     ]
    },
    {
     "name": "stderr",
     "output_type": "stream",
     "text": [
      "\n",
      "Inner Loop : placing sensor 10:  58%|█████▊    | 13814/23633 [03:10<04:25, 36.93it/s]\u001b[A"
     ]
    },
    {
     "name": "stdout",
     "output_type": "stream",
     "text": [
      "Length of local covariance set : d =  10 , largest =  [[0.51783182]]  smallest = [[-0.18363716]]\n",
      "Length of local covariance set : d =  1500 , largest =  [[0.59649114]]  smallest = [[0.07617548]]\n"
     ]
    },
    {
     "name": "stderr",
     "output_type": "stream",
     "text": [
      "\n",
      "Inner Loop : placing sensor 10:  58%|█████▊    | 13819/23633 [03:10<05:21, 30.51it/s]\u001b[A"
     ]
    },
    {
     "name": "stdout",
     "output_type": "stream",
     "text": [
      "Length of local covariance set : d =  10 , largest =  [[0.3310235]]  smallest = [[-0.04050324]]\n",
      "Length of local covariance set : d =  1500 , largest =  [[0.34016959]]  smallest = [[0.16541603]]\n"
     ]
    },
    {
     "name": "stderr",
     "output_type": "stream",
     "text": [
      "\n",
      "Inner Loop : placing sensor 10:  59%|█████▊    | 13844/23633 [03:10<04:12, 38.75it/s]\u001b[A"
     ]
    },
    {
     "name": "stdout",
     "output_type": "stream",
     "text": [
      "Length of local covariance set : d =  10 , largest =  [[0.26160142]]  smallest = [[-0.08738278]]\n",
      "Length of local covariance set : d =  1500 , largest =  [[0.27856162]]  smallest = [[0.10426817]]\n"
     ]
    },
    {
     "name": "stderr",
     "output_type": "stream",
     "text": [
      "\n",
      "Inner Loop : placing sensor 10:  59%|█████▊    | 13850/23633 [03:10<04:50, 33.68it/s]\u001b[A"
     ]
    },
    {
     "name": "stdout",
     "output_type": "stream",
     "text": [
      "Length of local covariance set : d =  10 , largest =  [[0.16912241]]  smallest = [[-0.10945697]]\n",
      "Length of local covariance set : d =  1500 , largest =  [[0.2601461]]  smallest = [[0.04928444]]\n",
      "Length of local covariance set : d =  10 , largest =  [[0.16027545]]  smallest = [[-0.18198048]]\n",
      "Length of local covariance set : d =  1500 , largest =  [[0.2252526]]  smallest = [[0.03992482]]\n"
     ]
    },
    {
     "name": "stderr",
     "output_type": "stream",
     "text": [
      "\n",
      "Inner Loop : placing sensor 10:  59%|█████▊    | 13855/23633 [03:11<07:48, 20.86it/s]\u001b[A"
     ]
    },
    {
     "name": "stdout",
     "output_type": "stream",
     "text": [
      "Length of local covariance set : d =  10 , largest =  [[0.13639329]]  smallest = [[-0.15445659]]\n",
      "Length of local covariance set : d =  1500 , largest =  [[0.16960536]]  smallest = [[0.03799507]]\n"
     ]
    },
    {
     "name": "stderr",
     "output_type": "stream",
     "text": [
      "\n",
      "Inner Loop : placing sensor 10:  59%|█████▊    | 13859/23633 [03:11<08:19, 19.58it/s]\u001b[A"
     ]
    },
    {
     "name": "stdout",
     "output_type": "stream",
     "text": [
      "Length of local covariance set : d =  10 , largest =  [[0.50666724]]  smallest = [[-0.04506847]]\n",
      "Length of local covariance set : d =  1500 , largest =  [[0.60997637]]  smallest = [[0.16831819]]\n"
     ]
    },
    {
     "name": "stderr",
     "output_type": "stream",
     "text": [
      "\n",
      "Inner Loop : placing sensor 10:  59%|█████▊    | 13867/23633 [03:11<07:12, 22.56it/s]\u001b[A"
     ]
    },
    {
     "name": "stdout",
     "output_type": "stream",
     "text": [
      "Length of local covariance set : d =  10 , largest =  [[0.36394487]]  smallest = [[-0.10243482]]\n",
      "Length of local covariance set : d =  1500 , largest =  [[0.41687064]]  smallest = [[0.0897063]]\n"
     ]
    },
    {
     "name": "stderr",
     "output_type": "stream",
     "text": [
      "\n",
      "Inner Loop : placing sensor 10:  59%|█████▊    | 13871/23633 [03:11<07:46, 20.91it/s]\u001b[A"
     ]
    },
    {
     "name": "stdout",
     "output_type": "stream",
     "text": [
      "Length of local covariance set : d =  10 , largest =  [[0.21535326]]  smallest = [[-0.08002491]]\n",
      "Length of local covariance set : d =  1500 , largest =  [[0.26906942]]  smallest = [[0.12036273]]\n"
     ]
    },
    {
     "name": "stderr",
     "output_type": "stream",
     "text": [
      "\n",
      "Inner Loop : placing sensor 10:  59%|█████▉    | 13922/23633 [03:12<05:39, 28.57it/s]\u001b[A"
     ]
    },
    {
     "name": "stdout",
     "output_type": "stream",
     "text": [
      "Length of local covariance set : d =  10 , largest =  [[0.10613224]]  smallest = [[-0.06609756]]\n",
      "Length of local covariance set : d =  1500 , largest =  [[0.11876879]]  smallest = [[0.03450501]]\n"
     ]
    },
    {
     "name": "stderr",
     "output_type": "stream",
     "text": [
      "\n",
      "Inner Loop : placing sensor 10:  59%|█████▉    | 13933/23633 [03:12<04:58, 32.45it/s]\u001b[A"
     ]
    },
    {
     "name": "stdout",
     "output_type": "stream",
     "text": [
      "Length of local covariance set : d =  10 , largest =  [[0.10796103]]  smallest = [[-0.07853878]]\n",
      "Length of local covariance set : d =  1500 , largest =  [[0.11474338]]  smallest = [[0.02870368]]\n",
      "Length of local covariance set : d =  10 , largest =  [[0.19203954]]  smallest = [[-0.05270429]]\n",
      "Length of local covariance set : d =  1500 , largest =  [[0.2128574]]  smallest = [[0.08609399]]\n"
     ]
    },
    {
     "name": "stderr",
     "output_type": "stream",
     "text": [
      "\n",
      "Inner Loop : placing sensor 10:  59%|█████▉    | 13940/23633 [03:12<06:38, 24.32it/s]\u001b[A"
     ]
    },
    {
     "name": "stdout",
     "output_type": "stream",
     "text": [
      "Length of local covariance set : d =  10 , largest =  [[0.31171988]]  smallest = [[-0.14177212]]\n",
      "Length of local covariance set : d =  1500 , largest =  [[0.38968556]]  smallest = [[0.04998317]]\n"
     ]
    },
    {
     "name": "stderr",
     "output_type": "stream",
     "text": [
      "\n",
      "Inner Loop : placing sensor 10:  59%|█████▉    | 13950/23633 [03:13<05:52, 27.45it/s]\u001b[A"
     ]
    },
    {
     "name": "stdout",
     "output_type": "stream",
     "text": [
      "Length of local covariance set : d =  10 , largest =  [[0.46395276]]  smallest = [[-0.35167351]]\n",
      "Length of local covariance set : d =  1500 , largest =  [[0.53066565]]  smallest = [[0.0470507]]\n"
     ]
    },
    {
     "name": "stderr",
     "output_type": "stream",
     "text": [
      "\n",
      "Inner Loop : placing sensor 10:  59%|█████▉    | 13955/23633 [03:13<06:23, 25.22it/s]\u001b[A"
     ]
    },
    {
     "name": "stdout",
     "output_type": "stream",
     "text": [
      "Length of local covariance set : d =  10 , largest =  [[0.09806723]]  smallest = [[-0.10145834]]\n",
      "Length of local covariance set : d =  1500 , largest =  [[0.12124828]]  smallest = [[0.04783554]]\n"
     ]
    },
    {
     "name": "stderr",
     "output_type": "stream",
     "text": [
      "\n",
      "Inner Loop : placing sensor 10:  59%|█████▉    | 13963/23633 [03:13<05:51, 27.51it/s]\u001b[A"
     ]
    },
    {
     "name": "stdout",
     "output_type": "stream",
     "text": [
      "Length of local covariance set : d =  10 , largest =  [[0.36867278]]  smallest = [[-0.01428464]]\n",
      "Length of local covariance set : d =  1500 , largest =  [[0.43420401]]  smallest = [[0.21350244]]\n"
     ]
    },
    {
     "name": "stderr",
     "output_type": "stream",
     "text": [
      "\n",
      "Inner Loop : placing sensor 10:  59%|█████▉    | 13974/23633 [03:13<05:06, 31.53it/s]\u001b[A"
     ]
    },
    {
     "name": "stdout",
     "output_type": "stream",
     "text": [
      "Length of local covariance set : d =  10 , largest =  [[0.06865454]]  smallest = [[-0.08566779]]\n",
      "Length of local covariance set : d =  1500 , largest =  [[0.07762155]]  smallest = [[0.02220189]]\n"
     ]
    },
    {
     "name": "stderr",
     "output_type": "stream",
     "text": [
      "\n",
      "Inner Loop : placing sensor 10:  59%|█████▉    | 13983/23633 [03:14<04:49, 33.36it/s]\u001b[A"
     ]
    },
    {
     "name": "stdout",
     "output_type": "stream",
     "text": [
      "Length of local covariance set : d =  10 , largest =  [[0.11965382]]  smallest = [[-0.1234879]]\n",
      "Length of local covariance set : d =  1500 , largest =  [[0.15078449]]  smallest = [[0.05330648]]\n"
     ]
    },
    {
     "name": "stderr",
     "output_type": "stream",
     "text": [
      "\n",
      "Inner Loop : placing sensor 10:  59%|█████▉    | 14000/23633 [03:14<04:02, 39.77it/s]\u001b[A"
     ]
    },
    {
     "name": "stdout",
     "output_type": "stream",
     "text": [
      "Length of local covariance set : d =  10 , largest =  [[0.26949554]]  smallest = [[-0.05133307]]\n",
      "Length of local covariance set : d =  1500 , largest =  [[0.26527153]]  smallest = [[0.10543927]]\n"
     ]
    },
    {
     "name": "stderr",
     "output_type": "stream",
     "text": [
      "\n",
      "Inner Loop : placing sensor 10:  59%|█████▉    | 14025/23633 [03:14<03:16, 48.80it/s]\u001b[A"
     ]
    },
    {
     "name": "stdout",
     "output_type": "stream",
     "text": [
      "Length of local covariance set : d =  10 , largest =  [[0.07984087]]  smallest = [[-0.06295174]]\n",
      "Length of local covariance set : d =  1500 , largest =  [[0.10750635]]  smallest = [[0.05271643]]\n",
      "Length of local covariance set : d =  10 , largest =  [[0.10133932]]  smallest = [[-0.20655393]]\n",
      "Length of local covariance set : d =  1500 , largest =  [[0.10739928]]  smallest = [[0.02083079]]\n"
     ]
    },
    {
     "name": "stderr",
     "output_type": "stream",
     "text": [
      "\n",
      "Inner Loop : placing sensor 10:  59%|█████▉    | 14032/23633 [03:14<05:25, 29.51it/s]\u001b[A"
     ]
    },
    {
     "name": "stdout",
     "output_type": "stream",
     "text": [
      "Length of local covariance set : d =  10 , largest =  [[0.1542409]]  smallest = [[-0.05576728]]\n",
      "Length of local covariance set : d =  1500 , largest =  [[0.17219799]]  smallest = [[0.07693223]]\n"
     ]
    },
    {
     "name": "stderr",
     "output_type": "stream",
     "text": [
      "\n",
      "Inner Loop : placing sensor 10:  59%|█████▉    | 14044/23633 [03:15<04:43, 33.79it/s]\u001b[A"
     ]
    },
    {
     "name": "stdout",
     "output_type": "stream",
     "text": [
      "Length of local covariance set : d =  10 , largest =  [[0.10062672]]  smallest = [[-0.12614009]]\n",
      "Length of local covariance set : d =  1500 , largest =  [[0.09753316]]  smallest = [[0.01926568]]\n"
     ]
    },
    {
     "name": "stderr",
     "output_type": "stream",
     "text": [
      "\n",
      "Inner Loop : placing sensor 10:  59%|█████▉    | 14055/23633 [03:15<04:20, 36.81it/s]\u001b[A"
     ]
    },
    {
     "name": "stdout",
     "output_type": "stream",
     "text": [
      "Length of local covariance set : d =  10 , largest =  [[0.53501559]]  smallest = [[-0.05767168]]\n",
      "Length of local covariance set : d =  1500 , largest =  [[0.59103542]]  smallest = [[0.16169737]]\n"
     ]
    },
    {
     "name": "stderr",
     "output_type": "stream",
     "text": [
      "\n",
      "Inner Loop : placing sensor 10:  60%|█████▉    | 14072/23633 [03:15<03:41, 43.18it/s]\u001b[A"
     ]
    },
    {
     "name": "stdout",
     "output_type": "stream",
     "text": [
      "Length of local covariance set : d =  10 , largest =  [[0.08249781]]  smallest = [[-0.06717319]]\n",
      "Length of local covariance set : d =  1500 , largest =  [[0.12800586]]  smallest = [[0.06006607]]\n"
     ]
    },
    {
     "name": "stderr",
     "output_type": "stream",
     "text": [
      "\n",
      "Inner Loop : placing sensor 10:  60%|█████▉    | 14085/23633 [03:15<03:25, 46.38it/s]\u001b[A"
     ]
    },
    {
     "name": "stdout",
     "output_type": "stream",
     "text": [
      "Length of local covariance set : d =  10 , largest =  [[0.1309389]]  smallest = [[0.01956671]]\n",
      "Length of local covariance set : d =  1500 , largest =  [[0.13272112]]  smallest = [[0.05380538]]\n"
     ]
    },
    {
     "name": "stderr",
     "output_type": "stream",
     "text": [
      "\n",
      "Inner Loop : placing sensor 10:  60%|█████▉    | 14103/23633 [03:16<03:01, 52.38it/s]\u001b[A"
     ]
    },
    {
     "name": "stdout",
     "output_type": "stream",
     "text": [
      "Length of local covariance set : d =  10 , largest =  [[0.21486684]]  smallest = [[-0.09402773]]\n",
      "Length of local covariance set : d =  1500 , largest =  [[0.22016661]]  smallest = [[0.04790931]]\n"
     ]
    },
    {
     "name": "stderr",
     "output_type": "stream",
     "text": [
      "\n",
      "Inner Loop : placing sensor 10:  60%|█████▉    | 14117/23633 [03:16<02:56, 54.07it/s]\u001b[A"
     ]
    },
    {
     "name": "stdout",
     "output_type": "stream",
     "text": [
      "Length of local covariance set : d =  10 , largest =  [[0.48404203]]  smallest = [[-0.08941359]]\n",
      "Length of local covariance set : d =  1500 , largest =  [[0.49208499]]  smallest = [[0.17163935]]\n"
     ]
    },
    {
     "name": "stderr",
     "output_type": "stream",
     "text": [
      "\n",
      "Inner Loop : placing sensor 10:  60%|█████▉    | 14124/23633 [03:16<03:37, 43.68it/s]\u001b[A"
     ]
    },
    {
     "name": "stdout",
     "output_type": "stream",
     "text": [
      "Length of local covariance set : d =  10 , largest =  [[0.20609613]]  smallest = [[-0.08063424]]\n",
      "Length of local covariance set : d =  1500 , largest =  [[0.21124219]]  smallest = [[0.04908798]]\n"
     ]
    },
    {
     "name": "stderr",
     "output_type": "stream",
     "text": [
      "\n",
      "Inner Loop : placing sensor 10:  60%|█████▉    | 14141/23633 [03:16<03:13, 49.09it/s]\u001b[A"
     ]
    },
    {
     "name": "stdout",
     "output_type": "stream",
     "text": [
      "Length of local covariance set : d =  10 , largest =  [[0.26236772]]  smallest = [[-0.12543257]]\n",
      "Length of local covariance set : d =  1500 , largest =  [[0.27419169]]  smallest = [[0.04411409]]\n"
     ]
    },
    {
     "name": "stderr",
     "output_type": "stream",
     "text": [
      "\n",
      "Inner Loop : placing sensor 10:  60%|█████▉    | 14147/23633 [03:17<04:06, 38.41it/s]\u001b[A"
     ]
    },
    {
     "name": "stdout",
     "output_type": "stream",
     "text": [
      "Length of local covariance set : d =  10 , largest =  [[0.20549547]]  smallest = [[-0.12492871]]\n",
      "Length of local covariance set : d =  1500 , largest =  [[0.21006922]]  smallest = [[0.06797448]]\n"
     ]
    },
    {
     "name": "stderr",
     "output_type": "stream",
     "text": [
      "\n",
      "Inner Loop : placing sensor 10:  60%|█████▉    | 14152/23633 [03:17<05:08, 30.77it/s]\u001b[A"
     ]
    },
    {
     "name": "stdout",
     "output_type": "stream",
     "text": [
      "Length of local covariance set : d =  10 , largest =  [[0.0929167]]  smallest = [[-0.18117815]]\n",
      "Length of local covariance set : d =  1500 , largest =  [[0.26012918]]  smallest = [[0.02180908]]\n"
     ]
    },
    {
     "name": "stderr",
     "output_type": "stream",
     "text": [
      "\n",
      "Inner Loop : placing sensor 10:  60%|█████▉    | 14160/23633 [03:17<05:10, 30.49it/s]\u001b[A"
     ]
    },
    {
     "name": "stdout",
     "output_type": "stream",
     "text": [
      "Length of local covariance set : d =  10 , largest =  [[0.25802418]]  smallest = [[-0.12273152]]\n",
      "Length of local covariance set : d =  1500 , largest =  [[0.26252448]]  smallest = [[0.05562739]]\n"
     ]
    },
    {
     "name": "stderr",
     "output_type": "stream",
     "text": [
      "\n",
      "Inner Loop : placing sensor 10:  60%|█████▉    | 14175/23633 [03:17<04:23, 35.89it/s]\u001b[A"
     ]
    },
    {
     "name": "stdout",
     "output_type": "stream",
     "text": [
      "Length of local covariance set : d =  10 , largest =  [[0.42089029]]  smallest = [[-0.29810057]]\n",
      "Length of local covariance set : d =  1500 , largest =  [[0.51912071]]  smallest = [[0.17367415]]\n"
     ]
    },
    {
     "name": "stderr",
     "output_type": "stream",
     "text": [
      "\n",
      "Inner Loop : placing sensor 10:  60%|██████    | 14185/23633 [03:18<04:12, 37.49it/s]\u001b[A"
     ]
    },
    {
     "name": "stdout",
     "output_type": "stream",
     "text": [
      "Length of local covariance set : d =  10 , largest =  [[0.06224838]]  smallest = [[-0.00676827]]\n",
      "Length of local covariance set : d =  1500 , largest =  [[0.12153858]]  smallest = [[0.05196114]]\n"
     ]
    },
    {
     "name": "stderr",
     "output_type": "stream",
     "text": [
      "\n",
      "Inner Loop : placing sensor 10:  60%|██████    | 14201/23633 [03:18<03:37, 43.29it/s]\u001b[A"
     ]
    },
    {
     "name": "stdout",
     "output_type": "stream",
     "text": [
      "Length of local covariance set : d =  10 , largest =  [[0.26457332]]  smallest = [[-0.11328641]]\n",
      "Length of local covariance set : d =  1500 , largest =  [[0.29922622]]  smallest = [[0.12262201]]\n"
     ]
    },
    {
     "name": "stderr",
     "output_type": "stream",
     "text": [
      "\n",
      "Inner Loop : placing sensor 10:  60%|██████    | 14215/23633 [03:18<03:19, 47.23it/s]\u001b[A"
     ]
    },
    {
     "name": "stdout",
     "output_type": "stream",
     "text": [
      "Length of local covariance set : d =  10 , largest =  [[0.54492111]]  smallest = [[-0.6751463]]\n",
      "Length of local covariance set : d =  1500 , largest =  [[0.57896016]]  smallest = [[0.00875287]]\n"
     ]
    },
    {
     "name": "stderr",
     "output_type": "stream",
     "text": [
      "\n",
      "Inner Loop : placing sensor 10:  60%|██████    | 14221/23633 [03:18<04:20, 36.15it/s]\u001b[A"
     ]
    },
    {
     "name": "stdout",
     "output_type": "stream",
     "text": [
      "Length of local covariance set : d =  10 , largest =  [[0.71068794]]  smallest = [[-0.14869289]]\n",
      "Length of local covariance set : d =  1500 , largest =  [[0.7343475]]  smallest = [[0.28236582]]\n"
     ]
    },
    {
     "name": "stderr",
     "output_type": "stream",
     "text": [
      "\n",
      "Inner Loop : placing sensor 10:  60%|██████    | 14237/23633 [03:19<03:44, 41.89it/s]IOPub message rate exceeded.\n",
      "The notebook server will temporarily stop sending output\n",
      "to the client in order to avoid crashing it.\n",
      "To change this limit, set the config variable\n",
      "`--NotebookApp.iopub_msg_rate_limit`.\n",
      "\n",
      "Current values:\n",
      "NotebookApp.iopub_msg_rate_limit=1000.0 (msgs/sec)\n",
      "NotebookApp.rate_limit_window=3.0 (secs)\n",
      "\n"
     ]
    }
   ],
   "source": [
    "A_opt['local'] = sensor_loc_optimisation_naive_local(k,cov, \"fixed\", d, sets)"
   ]
  },
  {
   "cell_type": "code",
   "execution_count": 34,
   "metadata": {},
   "outputs": [
    {
     "ename": "KeyError",
     "evalue": "'local'",
     "output_type": "error",
     "traceback": [
      "\u001b[0;31m---------------------------------------------------------------------------\u001b[0m",
      "\u001b[0;31mKeyError\u001b[0m                                  Traceback (most recent call last)",
      "\u001b[0;32m<ipython-input-34-b0a3165c81e3>\u001b[0m in \u001b[0;36m<module>\u001b[0;34m\u001b[0m\n\u001b[0;32m----> 1\u001b[0;31m \u001b[0mA_opt\u001b[0m\u001b[0;34m[\u001b[0m\u001b[0;34m'local'\u001b[0m\u001b[0;34m]\u001b[0m\u001b[0;34m\u001b[0m\u001b[0;34m\u001b[0m\u001b[0m\n\u001b[0m",
      "\u001b[0;31mKeyError\u001b[0m: 'local'"
     ]
    }
   ],
   "source": [
    "A_opt['local']"
   ]
  },
  {
   "cell_type": "code",
   "execution_count": 37,
   "metadata": {},
   "outputs": [
    {
     "ename": "NameError",
     "evalue": "name 'tau' is not defined",
     "output_type": "error",
     "traceback": [
      "\u001b[0;31m---------------------------------------------------------------------------\u001b[0m",
      "\u001b[0;31mNameError\u001b[0m                                 Traceback (most recent call last)",
      "\u001b[0;32m<ipython-input-37-5453931cff78>\u001b[0m in \u001b[0;36m<module>\u001b[0;34m\u001b[0m\n\u001b[0;32m----> 1\u001b[0;31m \u001b[0mA_opt\u001b[0m\u001b[0;34m[\u001b[0m\u001b[0;34m'lazy'\u001b[0m\u001b[0;34m]\u001b[0m \u001b[0;34m=\u001b[0m \u001b[0msensor_loc_optimisation_lazy\u001b[0m\u001b[0;34m(\u001b[0m\u001b[0mk\u001b[0m\u001b[0;34m,\u001b[0m\u001b[0mZ\u001b[0m\u001b[0;34m,\u001b[0m \u001b[0msets\u001b[0m\u001b[0;34m,\u001b[0m \u001b[0mtau\u001b[0m\u001b[0;34m)\u001b[0m\u001b[0;34m\u001b[0m\u001b[0;34m\u001b[0m\u001b[0m\n\u001b[0m",
      "\u001b[0;31mNameError\u001b[0m: name 'tau' is not defined"
     ]
    }
   ],
   "source": [
    "A_opt['lazy'] = sensor_loc_optimisation_lazy(k,Z, sets, tau)"
   ]
  },
  {
   "cell_type": "code",
   "execution_count": 38,
   "metadata": {},
   "outputs": [
    {
     "data": {
      "application/vnd.jupyter.widget-view+json": {
       "model_id": "e7aef3fd01254c96a2f3f0a85a84fd94",
       "version_major": 2,
       "version_minor": 0
      },
      "text/plain": [
       "HBox(children=(IntProgress(value=0, max=5), HTML(value='')))"
      ]
     },
     "metadata": {},
     "output_type": "display_data"
    },
    {
     "name": "stdout",
     "output_type": "stream",
     "text": [
      "\n"
     ]
    },
    {
     "ename": "IndexError",
     "evalue": "index 991 is out of bounds for axis 1 with size 989",
     "output_type": "error",
     "traceback": [
      "\u001b[0;31m---------------------------------------------------------------------------\u001b[0m",
      "\u001b[0;31mIndexError\u001b[0m                                Traceback (most recent call last)",
      "\u001b[0;32m<ipython-input-38-4de8f8a4c47f>\u001b[0m in \u001b[0;36m<module>\u001b[0;34m\u001b[0m\n\u001b[0;32m----> 1\u001b[0;31m \u001b[0mA_opt\u001b[0m\u001b[0;34m[\u001b[0m\u001b[0;34m'naive'\u001b[0m\u001b[0;34m]\u001b[0m \u001b[0;34m=\u001b[0m \u001b[0msensor_loc_optimisation_naive\u001b[0m\u001b[0;34m(\u001b[0m\u001b[0mk\u001b[0m\u001b[0;34m,\u001b[0m\u001b[0mZ\u001b[0m\u001b[0;34m,\u001b[0m \u001b[0msets\u001b[0m\u001b[0;34m)\u001b[0m\u001b[0;34m\u001b[0m\u001b[0;34m\u001b[0m\u001b[0m\n\u001b[0m",
      "\u001b[0;32m~/MScProject_OptSensors_GP/utils/sensor_optimisation.py\u001b[0m in \u001b[0;36msensor_loc_optimisation_naive\u001b[0;34m(k, K, sets)\u001b[0m\n\u001b[1;32m     71\u001b[0m             \u001b[0;31m# Mutual Information Gain\u001b[0m\u001b[0;34m\u001b[0m\u001b[0;34m\u001b[0m\u001b[0;34m\u001b[0m\u001b[0m\n\u001b[1;32m     72\u001b[0m \u001b[0;34m\u001b[0m\u001b[0m\n\u001b[0;32m---> 73\u001b[0;31m             \u001b[0mdelta_y\u001b[0m\u001b[0;34m[\u001b[0m\u001b[0mi\u001b[0m\u001b[0;34m]\u001b[0m \u001b[0;34m=\u001b[0m \u001b[0mH_cond\u001b[0m\u001b[0;34m(\u001b[0m\u001b[0my\u001b[0m\u001b[0;34m,\u001b[0m \u001b[0mA\u001b[0m\u001b[0;34m,\u001b[0m \u001b[0mK\u001b[0m\u001b[0;34m)\u001b[0m \u001b[0;34m/\u001b[0m \u001b[0mH_cond\u001b[0m\u001b[0;34m(\u001b[0m\u001b[0my\u001b[0m\u001b[0;34m,\u001b[0m \u001b[0mA_\u001b[0m\u001b[0;34m,\u001b[0m \u001b[0mK\u001b[0m\u001b[0;34m)\u001b[0m\u001b[0;34m\u001b[0m\u001b[0;34m\u001b[0m\u001b[0m\n\u001b[0m\u001b[1;32m     74\u001b[0m \u001b[0;34m\u001b[0m\u001b[0m\n\u001b[1;32m     75\u001b[0m         \u001b[0;31m# Greedily selection the best point to add to A\u001b[0m\u001b[0;34m\u001b[0m\u001b[0;34m\u001b[0m\u001b[0;34m\u001b[0m\u001b[0m\n",
      "\u001b[0;32m~/MScProject_OptSensors_GP/utils/sensor_optimisation.py\u001b[0m in \u001b[0;36mH_cond\u001b[0;34m(y, X, K)\u001b[0m\n\u001b[1;32m    203\u001b[0m \u001b[0;32mdef\u001b[0m \u001b[0mH_cond\u001b[0m\u001b[0;34m(\u001b[0m\u001b[0my\u001b[0m\u001b[0;34m,\u001b[0m \u001b[0mX\u001b[0m\u001b[0;34m,\u001b[0m \u001b[0mK\u001b[0m\u001b[0;34m)\u001b[0m\u001b[0;34m:\u001b[0m\u001b[0;34m\u001b[0m\u001b[0;34m\u001b[0m\u001b[0m\n\u001b[1;32m    204\u001b[0m     \u001b[0;34m\"\"\" Function that returns the conditional Entropy of y knowing X \"\"\"\u001b[0m\u001b[0;34m\u001b[0m\u001b[0;34m\u001b[0m\u001b[0m\n\u001b[0;32m--> 205\u001b[0;31m     \u001b[0;32mreturn\u001b[0m \u001b[0mK\u001b[0m\u001b[0;34m[\u001b[0m\u001b[0my\u001b[0m\u001b[0;34m,\u001b[0m \u001b[0my\u001b[0m\u001b[0;34m]\u001b[0m \u001b[0;34m-\u001b[0m \u001b[0mK\u001b[0m\u001b[0;34m[\u001b[0m\u001b[0mnp\u001b[0m\u001b[0;34m.\u001b[0m\u001b[0mix_\u001b[0m\u001b[0;34m(\u001b[0m\u001b[0;34m[\u001b[0m\u001b[0my\u001b[0m\u001b[0;34m]\u001b[0m\u001b[0;34m,\u001b[0m \u001b[0mX\u001b[0m\u001b[0;34m)\u001b[0m\u001b[0;34m]\u001b[0m \u001b[0;34m@\u001b[0m \u001b[0mnp\u001b[0m\u001b[0;34m.\u001b[0m\u001b[0mlinalg\u001b[0m\u001b[0;34m.\u001b[0m\u001b[0minv\u001b[0m\u001b[0;34m(\u001b[0m\u001b[0mK\u001b[0m\u001b[0;34m[\u001b[0m\u001b[0mnp\u001b[0m\u001b[0;34m.\u001b[0m\u001b[0mix_\u001b[0m\u001b[0;34m(\u001b[0m\u001b[0mX\u001b[0m\u001b[0;34m,\u001b[0m \u001b[0mX\u001b[0m\u001b[0;34m)\u001b[0m\u001b[0;34m]\u001b[0m\u001b[0;34m)\u001b[0m \u001b[0;34m@\u001b[0m \u001b[0mK\u001b[0m\u001b[0;34m[\u001b[0m\u001b[0mnp\u001b[0m\u001b[0;34m.\u001b[0m\u001b[0mix_\u001b[0m\u001b[0;34m(\u001b[0m\u001b[0mX\u001b[0m\u001b[0;34m,\u001b[0m \u001b[0;34m[\u001b[0m\u001b[0my\u001b[0m\u001b[0;34m]\u001b[0m\u001b[0;34m)\u001b[0m\u001b[0;34m]\u001b[0m\u001b[0;34m\u001b[0m\u001b[0;34m\u001b[0m\u001b[0m\n\u001b[0m\u001b[1;32m    206\u001b[0m \u001b[0;34m\u001b[0m\u001b[0m\n\u001b[1;32m    207\u001b[0m \u001b[0;34m\u001b[0m\u001b[0m\n",
      "\u001b[0;31mIndexError\u001b[0m: index 991 is out of bounds for axis 1 with size 989"
     ]
    }
   ],
   "source": [
    "A_opt['naive'] = sensor_loc_optimisation_naive(k,Z, sets)"
   ]
  },
  {
   "cell_type": "code",
   "execution_count": null,
   "metadata": {},
   "outputs": [],
   "source": [
    "A_opt['lazy'] "
   ]
  },
  {
   "cell_type": "code",
   "execution_count": null,
   "metadata": {},
   "outputs": [],
   "source": [
    "A_opt['naive']"
   ]
  },
  {
   "cell_type": "code",
   "execution_count": 138,
   "metadata": {},
   "outputs": [],
   "source": [
    "S = np.random.random_integers(0,300,size=(10,1))"
   ]
  },
  {
   "cell_type": "code",
   "execution_count": 139,
   "metadata": {},
   "outputs": [],
   "source": [
    "n_S = len(S)"
   ]
  },
  {
   "cell_type": "code",
   "execution_count": 23,
   "metadata": {},
   "outputs": [
    {
     "data": {
      "text/plain": [
       "'Inner Loop : placing sensor 11'"
      ]
     },
     "execution_count": 23,
     "metadata": {},
     "output_type": "execute_result"
    }
   ],
   "source": [
    "\"Inner Loop : placing sensor \" + str(10+1)"
   ]
  },
  {
   "cell_type": "code",
   "execution_count": 141,
   "metadata": {},
   "outputs": [
    {
     "data": {
      "text/plain": [
       "[0, 0, 0, 0, 0, 0, 0, 0, 0, 0]"
      ]
     },
     "execution_count": 141,
     "metadata": {},
     "output_type": "execute_result"
    }
   ],
   "source": []
  },
  {
   "cell_type": "code",
   "execution_count": 142,
   "metadata": {},
   "outputs": [
    {
     "data": {
      "text/plain": [
       "[[225], [230], [244], [112], [246], [28], [144], [238], [269], [213]]"
      ]
     },
     "execution_count": 142,
     "metadata": {},
     "output_type": "execute_result"
    }
   ],
   "source": []
  },
  {
   "cell_type": "code",
   "execution_count": 146,
   "metadata": {},
   "outputs": [],
   "source": []
  },
  {
   "cell_type": "code",
   "execution_count": 147,
   "metadata": {},
   "outputs": [],
   "source": []
  },
  {
   "cell_type": "code",
   "execution_count": 158,
   "metadata": {},
   "outputs": [],
   "source": [
    "y_opt = max(delta_y, key=delta_y.get)"
   ]
  },
  {
   "cell_type": "code",
   "execution_count": 161,
   "metadata": {},
   "outputs": [
    {
     "ename": "KeyError",
     "evalue": "230",
     "output_type": "error",
     "traceback": [
      "\u001b[0;31m---------------------------------------------------------------------------\u001b[0m",
      "\u001b[0;31mKeyError\u001b[0m                                  Traceback (most recent call last)",
      "\u001b[0;32m<ipython-input-161-c4341f8fd453>\u001b[0m in \u001b[0;36m<module>\u001b[0;34m\u001b[0m\n\u001b[0;32m----> 1\u001b[0;31m \u001b[0mdelta_y\u001b[0m\u001b[0;34m.\u001b[0m\u001b[0mpop\u001b[0m\u001b[0;34m(\u001b[0m\u001b[0my_opt\u001b[0m\u001b[0;34m)\u001b[0m\u001b[0;34m\u001b[0m\u001b[0;34m\u001b[0m\u001b[0m\n\u001b[0m",
      "\u001b[0;31mKeyError\u001b[0m: 230"
     ]
    }
   ],
   "source": [
    "delta_y.pop(y_opt)"
   ]
  },
  {
   "cell_type": "code",
   "execution_count": 58,
   "metadata": {},
   "outputs": [],
   "source": [
    "A_opt['local_weird']  = A_opt['local'] "
   ]
  },
  {
   "cell_type": "code",
   "execution_count": 61,
   "metadata": {},
   "outputs": [
    {
     "data": {
      "text/plain": [
       "array([56588, 19615, 34380, 10357, 19782])"
      ]
     },
     "execution_count": 61,
     "metadata": {},
     "output_type": "execute_result"
    }
   ],
   "source": [
    "A_opt['local_weird']\n"
   ]
  },
  {
   "cell_type": "code",
   "execution_count": 79,
   "metadata": {},
   "outputs": [
    {
     "name": "stdout",
     "output_type": "stream",
     "text": [
      "==> Saved to : ../data/temp_data/LSBU_res_2019:08:06-08:59:56_Opt10Alg3_d1500.vtu\n"
     ]
    }
   ],
   "source": [
    "A_list = set_to_onehot(A_opt['local'] ,data_df.shape[0])\n",
    "save_vtu(ref_vtu[0],'Opt10Alg3_d1500',A_list)"
   ]
  },
  {
   "cell_type": "code",
   "execution_count": 62,
   "metadata": {},
   "outputs": [
    {
     "data": {
      "text/plain": [
       "array([56588, 19615, 34380, 10357, 19782])"
      ]
     },
     "execution_count": 62,
     "metadata": {},
     "output_type": "execute_result"
    }
   ],
   "source": [
    "A_opt['local'] "
   ]
  },
  {
   "cell_type": "code",
   "execution_count": 64,
   "metadata": {},
   "outputs": [
    {
     "data": {
      "text/html": [
       "<div>\n",
       "<style scoped>\n",
       "    .dataframe tbody tr th:only-of-type {\n",
       "        vertical-align: middle;\n",
       "    }\n",
       "\n",
       "    .dataframe tbody tr th {\n",
       "        vertical-align: top;\n",
       "    }\n",
       "\n",
       "    .dataframe thead th {\n",
       "        text-align: right;\n",
       "    }\n",
       "</style>\n",
       "<table border=\"1\" class=\"dataframe\">\n",
       "  <thead>\n",
       "    <tr style=\"text-align: right;\">\n",
       "      <th></th>\n",
       "      <th>X</th>\n",
       "      <th>Y</th>\n",
       "      <th>Z</th>\n",
       "    </tr>\n",
       "  </thead>\n",
       "  <tbody>\n",
       "    <tr>\n",
       "      <th>56588</th>\n",
       "      <td>41.612950</td>\n",
       "      <td>27.211039</td>\n",
       "      <td>16.725003</td>\n",
       "    </tr>\n",
       "    <tr>\n",
       "      <th>19615</th>\n",
       "      <td>63.921767</td>\n",
       "      <td>39.719012</td>\n",
       "      <td>1.082953</td>\n",
       "    </tr>\n",
       "    <tr>\n",
       "      <th>34380</th>\n",
       "      <td>30.229359</td>\n",
       "      <td>26.034682</td>\n",
       "      <td>12.134716</td>\n",
       "    </tr>\n",
       "    <tr>\n",
       "      <th>10357</th>\n",
       "      <td>62.126762</td>\n",
       "      <td>45.229813</td>\n",
       "      <td>1.635897</td>\n",
       "    </tr>\n",
       "    <tr>\n",
       "      <th>19782</th>\n",
       "      <td>38.747350</td>\n",
       "      <td>35.258986</td>\n",
       "      <td>1.799108</td>\n",
       "    </tr>\n",
       "  </tbody>\n",
       "</table>\n",
       "</div>"
      ],
      "text/plain": [
       "               X          Y          Z\n",
       "56588  41.612950  27.211039  16.725003\n",
       "19615  63.921767  39.719012   1.082953\n",
       "34380  30.229359  26.034682  12.134716\n",
       "10357  62.126762  45.229813   1.635897\n",
       "19782  38.747350  35.258986   1.799108"
      ]
     },
     "execution_count": 64,
     "metadata": {},
     "output_type": "execute_result"
    }
   ],
   "source": [
    "loc_df.loc[A_opt['local'] ]"
   ]
  },
  {
   "cell_type": "code",
   "execution_count": 76,
   "metadata": {
    "scrolled": true
   },
   "outputs": [
    {
     "data": {
      "text/plain": [
       "array([56588, 19615, 34380, 10357, 19782, 43278, 32853, 43412,  7183,\n",
       "        3903])"
      ]
     },
     "execution_count": 76,
     "metadata": {},
     "output_type": "execute_result"
    }
   ],
   "source": [
    "A_opt['local']"
   ]
  },
  {
   "cell_type": "code",
   "execution_count": 78,
   "metadata": {
    "scrolled": true
   },
   "outputs": [
    {
     "data": {
      "text/html": [
       "<div>\n",
       "<style scoped>\n",
       "    .dataframe tbody tr th:only-of-type {\n",
       "        vertical-align: middle;\n",
       "    }\n",
       "\n",
       "    .dataframe tbody tr th {\n",
       "        vertical-align: top;\n",
       "    }\n",
       "\n",
       "    .dataframe thead th {\n",
       "        text-align: right;\n",
       "    }\n",
       "</style>\n",
       "<table border=\"1\" class=\"dataframe\">\n",
       "  <thead>\n",
       "    <tr style=\"text-align: right;\">\n",
       "      <th></th>\n",
       "      <th>X</th>\n",
       "      <th>Y</th>\n",
       "      <th>Z</th>\n",
       "    </tr>\n",
       "  </thead>\n",
       "  <tbody>\n",
       "    <tr>\n",
       "      <th>56588</th>\n",
       "      <td>41.612950</td>\n",
       "      <td>27.211039</td>\n",
       "      <td>16.725003</td>\n",
       "    </tr>\n",
       "    <tr>\n",
       "      <th>19615</th>\n",
       "      <td>63.921767</td>\n",
       "      <td>39.719012</td>\n",
       "      <td>1.082953</td>\n",
       "    </tr>\n",
       "    <tr>\n",
       "      <th>34380</th>\n",
       "      <td>30.229359</td>\n",
       "      <td>26.034682</td>\n",
       "      <td>12.134716</td>\n",
       "    </tr>\n",
       "    <tr>\n",
       "      <th>10357</th>\n",
       "      <td>62.126762</td>\n",
       "      <td>45.229813</td>\n",
       "      <td>1.635897</td>\n",
       "    </tr>\n",
       "    <tr>\n",
       "      <th>19782</th>\n",
       "      <td>38.747350</td>\n",
       "      <td>35.258986</td>\n",
       "      <td>1.799108</td>\n",
       "    </tr>\n",
       "    <tr>\n",
       "      <th>43278</th>\n",
       "      <td>22.790898</td>\n",
       "      <td>25.805409</td>\n",
       "      <td>11.790776</td>\n",
       "    </tr>\n",
       "    <tr>\n",
       "      <th>32853</th>\n",
       "      <td>44.412793</td>\n",
       "      <td>27.800441</td>\n",
       "      <td>13.329639</td>\n",
       "    </tr>\n",
       "    <tr>\n",
       "      <th>43412</th>\n",
       "      <td>88.711423</td>\n",
       "      <td>34.401510</td>\n",
       "      <td>1.571618</td>\n",
       "    </tr>\n",
       "    <tr>\n",
       "      <th>7183</th>\n",
       "      <td>41.743593</td>\n",
       "      <td>25.301994</td>\n",
       "      <td>16.358769</td>\n",
       "    </tr>\n",
       "    <tr>\n",
       "      <th>3903</th>\n",
       "      <td>62.005233</td>\n",
       "      <td>32.392064</td>\n",
       "      <td>0.200000</td>\n",
       "    </tr>\n",
       "  </tbody>\n",
       "</table>\n",
       "</div>"
      ],
      "text/plain": [
       "               X          Y          Z\n",
       "56588  41.612950  27.211039  16.725003\n",
       "19615  63.921767  39.719012   1.082953\n",
       "34380  30.229359  26.034682  12.134716\n",
       "10357  62.126762  45.229813   1.635897\n",
       "19782  38.747350  35.258986   1.799108\n",
       "43278  22.790898  25.805409  11.790776\n",
       "32853  44.412793  27.800441  13.329639\n",
       "43412  88.711423  34.401510   1.571618\n",
       "7183   41.743593  25.301994  16.358769\n",
       "3903   62.005233  32.392064   0.200000"
      ]
     },
     "execution_count": 78,
     "metadata": {},
     "output_type": "execute_result"
    }
   ],
   "source": [
    "loc_df.loc[A_opt['local'] ]\n"
   ]
  },
  {
   "cell_type": "code",
   "execution_count": 34,
   "metadata": {
    "scrolled": true
   },
   "outputs": [
    {
     "data": {
      "text/plain": [
       "array([81550, 86137, 53023, 89645, 31242, 74747, 75365, 94922, 69400,\n",
       "       76804])"
      ]
     },
     "execution_count": 34,
     "metadata": {},
     "output_type": "execute_result"
    }
   ],
   "source": [
    "A_opt['local']"
   ]
  },
  {
   "cell_type": "code",
   "execution_count": 35,
   "metadata": {},
   "outputs": [
    {
     "data": {
      "text/html": [
       "<div>\n",
       "<style scoped>\n",
       "    .dataframe tbody tr th:only-of-type {\n",
       "        vertical-align: middle;\n",
       "    }\n",
       "\n",
       "    .dataframe tbody tr th {\n",
       "        vertical-align: top;\n",
       "    }\n",
       "\n",
       "    .dataframe thead th {\n",
       "        text-align: right;\n",
       "    }\n",
       "</style>\n",
       "<table border=\"1\" class=\"dataframe\">\n",
       "  <thead>\n",
       "    <tr style=\"text-align: right;\">\n",
       "      <th></th>\n",
       "      <th>X</th>\n",
       "      <th>Y</th>\n",
       "      <th>Z</th>\n",
       "    </tr>\n",
       "  </thead>\n",
       "  <tbody>\n",
       "    <tr>\n",
       "      <th>81550</th>\n",
       "      <td>52.162609</td>\n",
       "      <td>7.168467</td>\n",
       "      <td>18.073831</td>\n",
       "    </tr>\n",
       "    <tr>\n",
       "      <th>86137</th>\n",
       "      <td>96.775958</td>\n",
       "      <td>-22.509566</td>\n",
       "      <td>16.296312</td>\n",
       "    </tr>\n",
       "    <tr>\n",
       "      <th>53023</th>\n",
       "      <td>79.540660</td>\n",
       "      <td>13.416436</td>\n",
       "      <td>15.959366</td>\n",
       "    </tr>\n",
       "    <tr>\n",
       "      <th>89645</th>\n",
       "      <td>-20.057211</td>\n",
       "      <td>61.532293</td>\n",
       "      <td>1.657884</td>\n",
       "    </tr>\n",
       "    <tr>\n",
       "      <th>31242</th>\n",
       "      <td>63.412238</td>\n",
       "      <td>-21.778940</td>\n",
       "      <td>14.204823</td>\n",
       "    </tr>\n",
       "    <tr>\n",
       "      <th>74747</th>\n",
       "      <td>32.474678</td>\n",
       "      <td>59.026049</td>\n",
       "      <td>15.260693</td>\n",
       "    </tr>\n",
       "    <tr>\n",
       "      <th>75365</th>\n",
       "      <td>-7.028223</td>\n",
       "      <td>52.244737</td>\n",
       "      <td>28.096950</td>\n",
       "    </tr>\n",
       "    <tr>\n",
       "      <th>94922</th>\n",
       "      <td>-47.040150</td>\n",
       "      <td>111.871979</td>\n",
       "      <td>29.891247</td>\n",
       "    </tr>\n",
       "    <tr>\n",
       "      <th>69400</th>\n",
       "      <td>88.747522</td>\n",
       "      <td>-5.898881</td>\n",
       "      <td>17.332782</td>\n",
       "    </tr>\n",
       "    <tr>\n",
       "      <th>76804</th>\n",
       "      <td>95.385331</td>\n",
       "      <td>-25.280805</td>\n",
       "      <td>8.666528</td>\n",
       "    </tr>\n",
       "  </tbody>\n",
       "</table>\n",
       "</div>"
      ],
      "text/plain": [
       "               X           Y          Z\n",
       "81550  52.162609    7.168467  18.073831\n",
       "86137  96.775958  -22.509566  16.296312\n",
       "53023  79.540660   13.416436  15.959366\n",
       "89645 -20.057211   61.532293   1.657884\n",
       "31242  63.412238  -21.778940  14.204823\n",
       "74747  32.474678   59.026049  15.260693\n",
       "75365  -7.028223   52.244737  28.096950\n",
       "94922 -47.040150  111.871979  29.891247\n",
       "69400  88.747522   -5.898881  17.332782\n",
       "76804  95.385331  -25.280805   8.666528"
      ]
     },
     "execution_count": 35,
     "metadata": {},
     "output_type": "execute_result"
    }
   ],
   "source": [
    "loc_df.loc[A_opt['local'] ]\n"
   ]
  },
  {
   "cell_type": "code",
   "execution_count": 37,
   "metadata": {},
   "outputs": [],
   "source": [
    "np.savetxt('data_assimilation/subset.txt',S)"
   ]
  },
  {
   "cell_type": "code",
   "execution_count": 42,
   "metadata": {},
   "outputs": [],
   "source": [
    "A_TSVD = [38726, 14276, 91348,  5338, 40994, 29626, 65851, 65734,   851,\n",
    "        2293]"
   ]
  },
  {
   "cell_type": "code",
   "execution_count": 43,
   "metadata": {},
   "outputs": [
    {
     "ename": "KeyError",
     "evalue": "'local'",
     "output_type": "error",
     "traceback": [
      "\u001b[0;31m---------------------------------------------------------------------------\u001b[0m",
      "\u001b[0;31mKeyError\u001b[0m                                  Traceback (most recent call last)",
      "\u001b[0;32m<ipython-input-43-b0a3165c81e3>\u001b[0m in \u001b[0;36m<module>\u001b[0;34m\u001b[0m\n\u001b[0;32m----> 1\u001b[0;31m \u001b[0mA_opt\u001b[0m\u001b[0;34m[\u001b[0m\u001b[0;34m'local'\u001b[0m\u001b[0;34m]\u001b[0m\u001b[0;34m\u001b[0m\u001b[0;34m\u001b[0m\u001b[0m\n\u001b[0m",
      "\u001b[0;31mKeyError\u001b[0m: 'local'"
     ]
    }
   ],
   "source": [
    "A_opt['local']"
   ]
  },
  {
   "cell_type": "code",
   "execution_count": 44,
   "metadata": {},
   "outputs": [],
   "source": [
    "A_opt_3rd_eps = [56588, 19615, 34380, 10357, 19782, 43278, 32853, 43412,  7183,\n",
    "        3903]"
   ]
  },
  {
   "cell_type": "code",
   "execution_count": 46,
   "metadata": {},
   "outputs": [
    {
     "data": {
      "text/plain": [
       "14.906497896884712"
      ]
     },
     "execution_count": 46,
     "metadata": {},
     "output_type": "execute_result"
    }
   ],
   "source": [
    "dist_set(A_opt_3rd_eps, A_TSVD,loc_df)/10"
   ]
  },
  {
   "cell_type": "code",
   "execution_count": null,
   "metadata": {},
   "outputs": [],
   "source": []
  }
 ],
 "metadata": {
  "kernelspec": {
   "display_name": "Python [conda env:project] *",
   "language": "python",
   "name": "conda-env-project-py"
  },
  "language_info": {
   "codemirror_mode": {
    "name": "ipython",
    "version": 3
   },
   "file_extension": ".py",
   "mimetype": "text/x-python",
   "name": "python",
   "nbconvert_exporter": "python",
   "pygments_lexer": "ipython3",
   "version": "3.6.8"
  }
 },
 "nbformat": 4,
 "nbformat_minor": 2
}
